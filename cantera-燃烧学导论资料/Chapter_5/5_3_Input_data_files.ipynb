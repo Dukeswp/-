{
 "cells": [
  {
   "cell_type": "markdown",
   "metadata": {},
   "source": [
    "# Input Data Files\n",
    "\n",
    "This Jupyter Notebook was written by Dan Haworth. It is intended as a tutorial to be used in parallel with Chapter 5 of the book \"An Introduction to Combustion: Concepts and Applications\" by Stephen R. Turns and Daniel C. Haworth. That book is referred to as \"Turns 4th ed.\" throughout this Notebook.\n",
    "\n",
    "This Notebook was last updated 17 February 2020.\n",
    "\n",
    "The objective of this tutorial is to explain how thermodynamic properties and reaction mechanisms are specified for ideal-gas mixtures in Cantera using .cti input data files. We will look at gri30.cti and CERFACS_2step_propane.cti, as examples. Specification of molecular transport properties will be discussed later, when we get to Chapter 7.\n",
    "\n",
    "The reader should be familiar with the material in the previous Notebook (5_2_Global_reactions) before working through this Notebook."
   ]
  },
  {
   "cell_type": "markdown",
   "metadata": {},
   "source": [
    "## 1. The gri30.cti input data file "
   ]
  },
  {
   "cell_type": "markdown",
   "metadata": {},
   "source": [
    "We will start with the input data file gri30.cti that we have been using in most of our tutorial Notebooks, up to this point. Recall from Notebook Getting_started_with_Cantera that this file is included with the standard Cantera installation, and the location of this file (and other data files included with the standard installation) can be located on your computer as follows:"
   ]
  },
  {
   "cell_type": "code",
   "execution_count": 1,
   "metadata": {},
   "outputs": [
    {
     "name": "stdout",
     "output_type": "stream",
     "text": [
      "Running Cantera version: 2.4.0\n"
     ]
    }
   ],
   "source": [
    "# access modules\n",
    "import cantera as ct\n",
    "import os\n",
    "\n",
    "# report Cantera version\n",
    "print(\"Running Cantera version: {}\".format(ct.__version__))"
   ]
  },
  {
   "cell_type": "code",
   "execution_count": 2,
   "metadata": {},
   "outputs": [
    {
     "name": "stdout",
     "output_type": "stream",
     "text": [
      "['C:\\\\Users\\\\dch12\\\\AppData\\\\Local\\\\Continuum\\\\anaconda3\\\\envs\\\\CanteraEnv\\\\lib\\\\site-packages\\\\cantera\\\\data']\n"
     ]
    }
   ],
   "source": [
    "# print the directory that is searched for Cantera data files\n",
    "import cantera.data\n",
    "print(cantera.data.__path__)"
   ]
  },
  {
   "cell_type": "code",
   "execution_count": 3,
   "metadata": {},
   "outputs": [
    {
     "data": {
      "text/plain": [
       "['air.cti',\n",
       " 'air.xml',\n",
       " 'airNASA9.cti',\n",
       " 'airNASA9.xml',\n",
       " 'argon.cti',\n",
       " 'argon.xml',\n",
       " 'diamond.cti',\n",
       " 'diamond.xml',\n",
       " 'elements.xml',\n",
       " 'graphite.cti',\n",
       " 'graphite.xml',\n",
       " 'gri30.cti',\n",
       " 'gri30.xml',\n",
       " 'gri30_highT.cti',\n",
       " 'gri30_highT.xml',\n",
       " 'gri30_ion.cti',\n",
       " 'gri30_ion.xml',\n",
       " 'h2o2.cti',\n",
       " 'h2o2.xml',\n",
       " 'KOH.cti',\n",
       " 'KOH.xml',\n",
       " 'liquidvapor.cti',\n",
       " 'liquidvapor.xml',\n",
       " 'methane_pox_on_pt.cti',\n",
       " 'methane_pox_on_pt.xml',\n",
       " 'nasa.cti',\n",
       " 'nasa.xml',\n",
       " 'nasa_condensed.cti',\n",
       " 'nasa_condensed.xml',\n",
       " 'nasa_gas.cti',\n",
       " 'nasa_gas.xml',\n",
       " 'nDodecane_Reitz.cti',\n",
       " 'nDodecane_Reitz.xml',\n",
       " 'ohn.cti',\n",
       " 'ohn.xml',\n",
       " 'ptcombust.cti',\n",
       " 'ptcombust.xml',\n",
       " 'silane.cti',\n",
       " 'silane.xml',\n",
       " 'silicon.cti',\n",
       " 'silicon.xml',\n",
       " 'silicon_carbide.cti',\n",
       " 'silicon_carbide.xml',\n",
       " 'water.cti',\n",
       " 'water.xml',\n",
       " '__init__.py',\n",
       " '__pycache__']"
      ]
     },
     "execution_count": 3,
     "metadata": {},
     "output_type": "execute_result"
    }
   ],
   "source": [
    "# list the input data files that are included with the standard Cantera installation\n",
    "dirname = cantera.data.__path__[0]\n",
    "os.listdir(dirname)"
   ]
  },
  {
   "cell_type": "markdown",
   "metadata": {},
   "source": [
    "At this point, you should open the file gri30.cti using your favorite text editor (it is a standard ASCII text file), and follow along in the file as you work through this Notebook. \n",
    "\n",
    "Alternatively, if you downloaded the .zip file that contains all of the tutorial Notebooks, a copy of the file gri30.cti has been placed in the \"data\" subfolder that is immediately below the folder containing this Notebook; you can open it from there."
   ]
  },
  {
   "cell_type": "markdown",
   "metadata": {},
   "source": [
    "### 1.1 Syntax"
   ]
  },
  {
   "cell_type": "markdown",
   "metadata": {},
   "source": [
    "The basic syntax is essentially the same as that for a Notebook Code cell: see tutorial Notebook Getting_started_with_Cantera. In particular, lines that begin with \"#\" are comments, blank lines are ignored, and commands or data can be continued across multiple lines using implied continuation within parentheses. Further information on .cti syntax can be found at https://cantera.org/tutorials/cti/cti-syntax.html.\n",
    "\n",
    "Note that the first several lines of gri30.cti are comments."
   ]
  },
  {
   "cell_type": "markdown",
   "metadata": {},
   "source": [
    "### 1.2 Units"
   ]
  },
  {
   "cell_type": "markdown",
   "metadata": {},
   "source": [
    "The first non-comment line in gri30.cti specifies the dimensional units that are used for the data that are contained in the remainder of the file. That line is:\n",
    "$$ $$\n",
    "&nbsp;&nbsp;&nbsp;&nbsp;&nbsp;&nbsp;units(length = \"cm\", time = \"s\", quantity = \"mol\", act_energy = \"cal/mol\")\n",
    "$$ $$\n",
    "This specifies that lengths are given in centimeters (cm), time in seconds (s), the quantity of matter in moles (gram moles, denoted as mol), and activation energies in calories per mole (cal/mol).\n",
    "\n",
    "As discussed in earlier tutorial Notebooks, all quantities are converted to standard SI units (with the exception of moles, with are converted to kmoles) when the input data are read into Cantera. Cantera uses SI units internally, with the exception of kmol."
   ]
  },
  {
   "cell_type": "markdown",
   "metadata": {},
   "source": [
    "### 1.3 Ideal-gas mixture definition"
   ]
  },
  {
   "cell_type": "markdown",
   "metadata": {},
   "source": [
    "Next is the prescription of the reacting medium. In this case, three different ideal-gas mixtures are defined. The one that we have been using is the first one, named \"gri30\". There are two others, named \"gri30_mix\" and \"gri30_multi\". All three use the same thermodynamic properties and reaction mechanism. The only difference is in the treatment of molecular transport. Up to this point, and for the remainder of Chapter 5 and Chapter 6, we consider only homogeneous systems, where there are no spatial gradients. In that case, molecular transport is not relevant. We will return to molecular transport when we get to Chapter 7.\n",
    "\n",
    "The following lines in gri30.cti define the ideal-gas mixture that we have been using:\n",
    "$$ $$\n",
    "&nbsp;&nbsp;&nbsp;&nbsp;&nbsp;&nbsp;ideal_gas(name = \"gri30\",<br/>\n",
    "&nbsp;&nbsp;&nbsp;&nbsp;&nbsp;&nbsp;&nbsp;&nbsp;&nbsp;&nbsp;&nbsp;&nbsp;&nbsp;&nbsp;          elements = \" O  H  C  N  Ar \",<br/>\n",
    "&nbsp;&nbsp;&nbsp;&nbsp;&nbsp;&nbsp;&nbsp;&nbsp;&nbsp;&nbsp;&nbsp;&nbsp;&nbsp;&nbsp;      species = \"\"\" H2  H  O  O2  OH  H2O  HO2  H2O2  C  CH<br/>\n",
    "&nbsp;&nbsp;&nbsp;&nbsp;&nbsp;&nbsp;&nbsp;&nbsp;&nbsp;&nbsp;&nbsp;&nbsp;&nbsp;&nbsp;&nbsp;&nbsp;&nbsp;&nbsp;&nbsp;&nbsp;&nbsp;&nbsp;&nbsp;&nbsp;&nbsp;&nbsp;&nbsp;&nbsp;&nbsp;&nbsp;&nbsp;&nbsp;&nbsp;&nbsp;                   CH2  CH2(S)  CH3  CH4  CO  CO2  HCO  CH2O  CH2OH  CH3O<br/>\n",
    "&nbsp;&nbsp;&nbsp;&nbsp;&nbsp;&nbsp;&nbsp;&nbsp;&nbsp;&nbsp;&nbsp;&nbsp;&nbsp;&nbsp;&nbsp;&nbsp;&nbsp;&nbsp;&nbsp;&nbsp;&nbsp;&nbsp;&nbsp;&nbsp;&nbsp;&nbsp;&nbsp;&nbsp;&nbsp;&nbsp;&nbsp;&nbsp;&nbsp;&nbsp;                   CH3OH  C2H  C2H2  C2H3  C2H4  C2H5  C2H6  HCCO  CH2CO  HCCOH<br/>\n",
    "&nbsp;&nbsp;&nbsp;&nbsp;&nbsp;&nbsp;&nbsp;&nbsp;&nbsp;&nbsp;&nbsp;&nbsp;&nbsp;&nbsp;&nbsp;&nbsp;&nbsp;&nbsp;&nbsp;&nbsp;&nbsp;&nbsp;&nbsp;&nbsp;&nbsp;&nbsp;&nbsp;&nbsp;&nbsp;&nbsp;&nbsp;&nbsp;&nbsp;&nbsp;                   N  NH  NH2  NH3  NNH  NO  NO2  N2O  HNO  CN<br/>\n",
    "&nbsp;&nbsp;&nbsp;&nbsp;&nbsp;&nbsp;&nbsp;&nbsp;&nbsp;&nbsp;&nbsp;&nbsp;&nbsp;&nbsp;&nbsp;&nbsp;&nbsp;&nbsp;&nbsp;&nbsp;&nbsp;&nbsp;&nbsp;&nbsp;&nbsp;&nbsp;&nbsp;&nbsp;&nbsp;&nbsp;&nbsp;&nbsp;&nbsp;&nbsp;                   HCN  H2CN  HCNN  HCNO  HOCN  HNCO  NCO  N2  AR  C3H7<br/>\n",
    "&nbsp;&nbsp;&nbsp;&nbsp;&nbsp;&nbsp;&nbsp;&nbsp;&nbsp;&nbsp;&nbsp;&nbsp;&nbsp;&nbsp;&nbsp;&nbsp;&nbsp;&nbsp;&nbsp;&nbsp;&nbsp;&nbsp;&nbsp;&nbsp;&nbsp;&nbsp;&nbsp;&nbsp;&nbsp;&nbsp;&nbsp;&nbsp;&nbsp;&nbsp;                   C3H8  CH2CHO  CH3CHO \"\"\",<br/>\n",
    "&nbsp;&nbsp;&nbsp;&nbsp;&nbsp;&nbsp;&nbsp;&nbsp;&nbsp;&nbsp;&nbsp;&nbsp;&nbsp;&nbsp;      reactions = \"all\",<br/>\n",
    "&nbsp;&nbsp;&nbsp;&nbsp;&nbsp;&nbsp;&nbsp;&nbsp;&nbsp;&nbsp;&nbsp;&nbsp;&nbsp;&nbsp;      initial_state = state(temperature = 300.0,<br/>\n",
    "&nbsp;&nbsp;&nbsp;&nbsp;&nbsp;&nbsp;&nbsp;&nbsp;&nbsp;&nbsp;&nbsp;&nbsp;&nbsp;&nbsp;&nbsp;&nbsp;&nbsp;&nbsp;&nbsp;&nbsp;&nbsp;&nbsp;&nbsp;&nbsp;&nbsp;&nbsp;&nbsp;&nbsp;&nbsp;&nbsp;&nbsp;&nbsp;&nbsp;&nbsp;&nbsp;&nbsp;&nbsp;&nbsp;                        pressure = OneAtm) &nbsp;&nbsp;&nbsp;   )<br/>\n",
    "$$ $$\n",
    "After specifying the mixture name, the list of atomic elements considered is given; here there are five elements. This is followed by the list of molecular species; here there are 53 species. Only species that are made up of the specified elements are allowed. Note that at this point, only the species *names* are given: their elemental compositions are given later (Section 1.4). The specification of \"all\" for reactions means that all of the chemical reactions that are given later in the file (Section 1.5) will be used. Only reactions involving the specified species are allowed. Since nothing is specified for transport properties, the default molecular transport model is used. That will be discussed when we get to Chapter 7. And finally, the initial mixture temperature and pressure are given. This is where the 300 K, 1 atm values that we saw earlier are specified. Since nothing is specified for the initial mixture composition, the default is to use 100% of the first species listed: here, H2.\n",
    "\n",
    "Definitions of two other ideal-gas mixtures that have the same elements, species, reactions, and initial state as \"gas30\", but different molecular transport models, then follow in the file."
   ]
  },
  {
   "cell_type": "markdown",
   "metadata": {},
   "source": [
    "### 1.4 Species data"
   ]
  },
  {
   "cell_type": "markdown",
   "metadata": {},
   "source": [
    "Next are property data for each species that was listed in the gas mixture specification. Data for other species can be included, but any species that are not listed in the mixture definition are not used. Three kinds of data are provided for each species: its elemental composition, its thermodynamic properties, and its molecular transport properties. The first entry is for H2 (species index 0), and is repeated here:\n",
    "$$ $$\n",
    "&nbsp;&nbsp;&nbsp;&nbsp;&nbsp;&nbsp;species(name = \"H2\",<br/>\n",
    "&nbsp;&nbsp;&nbsp;&nbsp;&nbsp;&nbsp;&nbsp;&nbsp;&nbsp;&nbsp;&nbsp;&nbsp;    atoms = \" H:2 \",<br/>\n",
    "&nbsp;&nbsp;&nbsp;&nbsp;&nbsp;&nbsp;&nbsp;&nbsp;&nbsp;&nbsp;&nbsp;&nbsp;    thermo = (<br/>\n",
    "&nbsp;&nbsp;&nbsp;&nbsp;&nbsp;&nbsp;&nbsp;&nbsp;&nbsp;&nbsp;&nbsp;&nbsp;&nbsp;&nbsp;&nbsp;&nbsp;&nbsp;&nbsp;       NASA( [  200.00,  1000.00], [  2.344331120E+00,   7.980520750E-03, <br/>\n",
    "&nbsp;&nbsp;&nbsp;&nbsp;&nbsp;&nbsp;&nbsp;&nbsp;&nbsp;&nbsp;&nbsp;&nbsp;&nbsp;&nbsp;&nbsp;&nbsp;&nbsp;&nbsp;&nbsp;&nbsp;&nbsp;&nbsp;&nbsp;&nbsp;&nbsp;&nbsp;&nbsp;&nbsp;&nbsp;&nbsp;               -1.947815100E-05,   2.015720940E-08,  -7.376117610E-12,<br/>\n",
    "&nbsp;&nbsp;&nbsp;&nbsp;&nbsp;&nbsp;&nbsp;&nbsp;&nbsp;&nbsp;&nbsp;&nbsp;&nbsp;&nbsp;&nbsp;&nbsp;&nbsp;&nbsp;&nbsp;&nbsp;&nbsp;&nbsp;&nbsp;&nbsp;&nbsp;&nbsp;&nbsp;&nbsp;&nbsp;&nbsp;               -9.179351730E+02,   6.830102380E-01] ),<br/>\n",
    "&nbsp;&nbsp;&nbsp;&nbsp;&nbsp;&nbsp;&nbsp;&nbsp;&nbsp;&nbsp;&nbsp;&nbsp;&nbsp;&nbsp;&nbsp;&nbsp;&nbsp;&nbsp;       NASA( [ 1000.00,  3500.00], [  3.337279200E+00,  -4.940247310E-05,<br/> \n",
    "&nbsp;&nbsp;&nbsp;&nbsp;&nbsp;&nbsp;&nbsp;&nbsp;&nbsp;&nbsp;&nbsp;&nbsp;&nbsp;&nbsp;&nbsp;&nbsp;&nbsp;&nbsp;&nbsp;&nbsp;&nbsp;&nbsp;&nbsp;&nbsp;&nbsp;&nbsp;&nbsp;&nbsp;&nbsp;&nbsp;                4.994567780E-07,  -1.795663940E-10,   2.002553760E-14,<br/>\n",
    "&nbsp;&nbsp;&nbsp;&nbsp;&nbsp;&nbsp;&nbsp;&nbsp;&nbsp;&nbsp;&nbsp;&nbsp;&nbsp;&nbsp;&nbsp;&nbsp;&nbsp;&nbsp;&nbsp;&nbsp;&nbsp;&nbsp;&nbsp;&nbsp;&nbsp;&nbsp;&nbsp;&nbsp;&nbsp;&nbsp;               -9.501589220E+02,  -3.205023310E+00] )<br/>\n",
    "&nbsp;&nbsp;&nbsp;&nbsp;&nbsp;&nbsp;&nbsp;&nbsp;&nbsp;&nbsp;&nbsp;&nbsp;&nbsp;&nbsp;&nbsp;&nbsp;&nbsp;&nbsp;&nbsp;&nbsp;&nbsp;&nbsp;&nbsp;&nbsp;             ),<br/>\n",
    "&nbsp;&nbsp;&nbsp;&nbsp;&nbsp;&nbsp;&nbsp;&nbsp;&nbsp;&nbsp;&nbsp;&nbsp;    transport = gas_transport(<br/>\n",
    "&nbsp;&nbsp;&nbsp;&nbsp;&nbsp;&nbsp;&nbsp;&nbsp;&nbsp;&nbsp;&nbsp;&nbsp;&nbsp;&nbsp;&nbsp;&nbsp;&nbsp;&nbsp;&nbsp;&nbsp;&nbsp;&nbsp;&nbsp;&nbsp;&nbsp;&nbsp;&nbsp;&nbsp;&nbsp;&nbsp;&nbsp;&nbsp;&nbsp;&nbsp;&nbsp;&nbsp;&nbsp;&nbsp;&nbsp;&nbsp;                     geom = \"linear\",<br/>\n",
    "&nbsp;&nbsp;&nbsp;&nbsp;&nbsp;&nbsp;&nbsp;&nbsp;&nbsp;&nbsp;&nbsp;&nbsp;&nbsp;&nbsp;&nbsp;&nbsp;&nbsp;&nbsp;&nbsp;&nbsp;&nbsp;&nbsp;&nbsp;&nbsp;&nbsp;&nbsp;&nbsp;&nbsp;&nbsp;&nbsp;&nbsp;&nbsp;&nbsp;&nbsp;&nbsp;&nbsp;&nbsp;&nbsp;&nbsp;&nbsp;                     diam =     2.92,<br/>\n",
    "&nbsp;&nbsp;&nbsp;&nbsp;&nbsp;&nbsp;&nbsp;&nbsp;&nbsp;&nbsp;&nbsp;&nbsp;&nbsp;&nbsp;&nbsp;&nbsp;&nbsp;&nbsp;&nbsp;&nbsp;&nbsp;&nbsp;&nbsp;&nbsp;&nbsp;&nbsp;&nbsp;&nbsp;&nbsp;&nbsp;&nbsp;&nbsp;&nbsp;&nbsp;&nbsp;&nbsp;&nbsp;&nbsp;&nbsp;&nbsp;                     well_depth =    38.00,<br/>\n",
    "&nbsp;&nbsp;&nbsp;&nbsp;&nbsp;&nbsp;&nbsp;&nbsp;&nbsp;&nbsp;&nbsp;&nbsp;&nbsp;&nbsp;&nbsp;&nbsp;&nbsp;&nbsp;&nbsp;&nbsp;&nbsp;&nbsp;&nbsp;&nbsp;&nbsp;&nbsp;&nbsp;&nbsp;&nbsp;&nbsp;&nbsp;&nbsp;&nbsp;&nbsp;&nbsp;&nbsp;&nbsp;&nbsp;&nbsp;&nbsp;                     polar =     0.79,<br/>\n",
    "&nbsp;&nbsp;&nbsp;&nbsp;&nbsp;&nbsp;&nbsp;&nbsp;&nbsp;&nbsp;&nbsp;&nbsp;&nbsp;&nbsp;&nbsp;&nbsp;&nbsp;&nbsp;&nbsp;&nbsp;&nbsp;&nbsp;&nbsp;&nbsp;&nbsp;&nbsp;&nbsp;&nbsp;&nbsp;&nbsp;&nbsp;&nbsp;&nbsp;&nbsp;&nbsp;&nbsp;&nbsp;&nbsp;&nbsp;&nbsp;                     rot_relax =   280.00),<br/>\n",
    "&nbsp;&nbsp;&nbsp;&nbsp;&nbsp;&nbsp;&nbsp;&nbsp;&nbsp;&nbsp;&nbsp;&nbsp;    note = \"TPIS78\"<br/>\n",
    "&nbsp;&nbsp;&nbsp;&nbsp;&nbsp;&nbsp;&nbsp;&nbsp;&nbsp;&nbsp;&nbsp;&nbsp;&nbsp;&nbsp;&nbsp;&nbsp;&nbsp;&nbsp;       )<br/>\n",
    "$$ $$\n",
    "\n",
    "Here \"atoms\" gives the species elemental composition, \"thermo\" gives the species thermodynamic properties in the form of [NASA polynomial coefficients](https://ntrs.nasa.gov/archive/nasa/casi.ntrs.nasa.gov/19940013151.pdf) (see Appendix A.13 of Turns 4th ed.), and \"transport\" gives the species molecular transport properties in terms of quantities that we will discuss when we get to Chapter 7. The \"note\" can be used to record information on the source of the property data, or other information of interest. Two sets of thermodynamic property polynomial coefficients are given, one for the low-temperature range (here, 200 K - 1000 K) and one for the high-temperature range (here, 1000 K - 3500 K).\n",
    "\n",
    "Similar data are provided for each species. Note that the temperature range over which the thermodynamic property data are intended to be used varies from one species to another. As we have seen in earlier tutorial Notebooks, the temperature range over which gri30 should be used is limited to 300 K - 3000 K. That is based on the most restrictive temperature range over all of the species. Also, care is needed to ensure that the low-temperature-range and high-temperature-range polynomials give the same values at the mid-point temperature (here, 1000 K)."
   ]
  },
  {
   "cell_type": "markdown",
   "metadata": {},
   "source": [
    "### 1.5 Reaction data"
   ]
  },
  {
   "cell_type": "markdown",
   "metadata": {},
   "source": [
    "The final section of the input data file pertains to chemical reactions. As we saw in Notebook 4_1_Chemical_kinetics_Cantera_basics, there are different types of chemical reactions, and different information is needed, depending on the reaction type. In gri30.cti, the reactions are numbered from 1 to 325 (using comments), but as we have seen, the internal reaction index used in Cantera ranges from 0 to 324.\n",
    "\n",
    "A valid reaction equation (i.e., one in which elements are conserved) is required for each reaction. The notation used to separate the left-hand (reactants) side from the right-hand (products) side indicates whether the reaction is reversible (in the case of \"<=>\") or irreversible (in the case of \"=>\"). As discussed earlier, in gri30.cti all reactions are either two-body or three-body in both the forward and (in the case of reversible reactions) reverse directions. The three-body reactions are written in terms of a generic third-body collision partner, denoted as \"M\" (see 4_1_Chemical_kinetics_Cantera_basics). And in this mechanism, modified Arrhenius rate parameters are given for every reaction. No information beyond the reaction equation and modified Arrhenius rate parameters is needed in the case of two-body elementary reactions. In the case of three-body reactions, information about third-body efficiencies is given. And in the case of fall-off reactions, additional information is provided that is beyond the scope of our introductory discussion of reaction kinetics. The interested reader can look at https://cantera.org/science/reactions.html or https://cantera.org/documentation/docs-2.4/sphinx/html/cython/kinetics.html."
   ]
  },
  {
   "cell_type": "markdown",
   "metadata": {},
   "source": [
    "## 2. The CERFACS_2step_propane.cti input data file"
   ]
  },
  {
   "cell_type": "markdown",
   "metadata": {},
   "source": [
    "This two-step global propane mechanism was introduced in tutorial Notebook 5_2_Global_reactions. Again, you can open the file using your favorite text editor. \n",
    "\n",
    "Other than the smaller number of elements and species considered here compared to gri30.cti, the only fundamental difference is that the reaction data for the first reaction in CERFACS_2step_propane.cti (\"Reaction 1\" in the input data file, corresponding to reaction index 0 in Cantera) include additional information about reaction orders. As discussed in the previous tutorial Notebook, the reaction orders are not equal to the stoichiometric coefficients for this global reaction. In contrast, for the second reaction (\"Reaction 2\" in the input data file, corresponding to reaction index 1 in Cantera), no separate information is provided about reaction orders. Therefore, even though this is also a global reaction, the reaction order for each reactant species is taken to be equal to that species' stoichiometric coefficient in the reaction equation."
   ]
  },
  {
   "cell_type": "markdown",
   "metadata": {},
   "source": [
    "## 3. CHEMKIN-formatted input data files"
   ]
  },
  {
   "cell_type": "markdown",
   "metadata": {},
   "source": [
    "CHEMKIN was an early, and highly successful, suite of software tools that was developed at Sandia National Laboratories in the 1980's and 1990's for combustion thermochemistry applications. The software has been continuously maintained and updated over the years, and is now available as a [commercial product](http://www.reactiondesign.com/products/chemkin/). In the meantime, the format conventions that were developed and adopted for the specification of thermodynamic properties, transport properties, and reaction mechanisms in CHEMKIN have become de facto standards in computational combustion, and many (if not most) published reaction mechanisms are provided in the format of CHEMKIN-compatible input files. The data that are provided in the Cantera .cti files are largely consistent with CHEMKIN conventions, and are readily generated from CHEMKIN-formatted input files.  \n",
    "\n",
    "For gas mixtures (as considered here), up to three CHEMKIN input files can be provided: a file containing species thermodynamic properties (in the form of NASA polynomial coefficients), a file containing the reaction mechanism (a list of elements, a list of species, and a list of chemical reactions and their associated rate parameters), and a file containing species molecular transport properties (in a form that is similar to what is used in Cantera). Information on CHEMKIN's equation of state, thermodynamic property, and reaction mechanism specification can be found in [R.J. Kee, F.M. Rupley, and J.A. Miller, Sandia National Laboratories Report SAND89-8009 (1989)](https://www.osti.gov/biblio/5681118). Information on molecular transport property specification can be found in [R.J. Kee, G. Dixon-Lewis, J. Warnatz, M.E. Coltrin, J.A. Miller, H.K. Moffat, Sandia National Laboratories Report SAND86-8246B (1998)](http://citeseerx.ist.psu.edu/viewdoc/download?doi=10.1.1.465.8922&rep=rep1&type=pdf).\n",
    "\n",
    "Cantera provides a converter, [`ck2cti`](https://cantera.org/documentation/docs-2.4/sphinx/html/matlab/utilities.html#ck2cti), that accepts standard CHEMKIN input data files, and processes those to create a .cti file, which then can be used by Cantera. Additional information on file formats and conversions can be found at https://cantera.org/tutorials/ck2cti-tutorial.html. File conversion is beyond the scope of our introductory coverage of combustion in general, and of Cantera in particular, but the interested reader should now have sufficient information to follow up on this as desired. "
   ]
  },
  {
   "cell_type": "markdown",
   "metadata": {},
   "source": [
    "## 4. Cantera .xml files"
   ]
  },
  {
   "cell_type": "markdown",
   "metadata": {},
   "source": [
    "As noted in tutorial Notebook Getting_started_with_Cantera, Cantera input data can be provided in an alternative format to the .cti file, as a .xml file; see https://cantera.org/tutorials/input-files.html and https://cantera.org/tutorials/cti/cti-processing.html. The information provided in a .xml file is essentially the same as that provided in a .cti file, and we will not need to use .xml files for our purposes. The interested reader can have a look at the file gri30.xml that is provided with the standard Cantera installation, and compare that with the file gri30.cti. "
   ]
  },
  {
   "cell_type": "markdown",
   "metadata": {},
   "source": [
    "## 5. Beyond reacting ideal-gas mixtures"
   ]
  },
  {
   "cell_type": "markdown",
   "metadata": {},
   "source": [
    "It is not necessary that every .cti file contains all of the information described in the previous sections. This is the case for many of the files that are included in the standard Cantera distribution (see Section 1 above). For example, the file nasa_gas.cti contains only species thermodynamic properties in the form of NASA polynomials; no mixture is defined, no molecular transport property data are provided, and no reactions are specified.  \n",
    "\n",
    "Moreover, Cantera can handle systems beyond the ideal-gas mixtures that are our main interest here. The interested reader can have a look at the following .cti files that are provided with the standard Cantera installation, and the associated Cantera documentation, for further information:\n",
    "\n",
    "* An example of a gas-phase system that includes ions (charged particles): gri30_ion.cti\n",
    "\n",
    "* An example of a two-phase (liquid-gas) system: liquidvapor.cti\n",
    "\n",
    "* An example of a solid-phase system: graphite.cti\n",
    "\n",
    "* An example of catalytic surface reactions: ptcombust.cti\n",
    "\n",
    "You can look at the other .cti files that are provided with the standard Cantera distribution to see what each contains."
   ]
  },
  {
   "cell_type": "markdown",
   "metadata": {},
   "source": [
    "## 6. Molecular transport properties"
   ]
  },
  {
   "cell_type": "markdown",
   "metadata": {},
   "source": [
    "As noted earlier, we will revisit molecular transport properties when we get to Chapter 7."
   ]
  },
  {
   "cell_type": "code",
   "execution_count": null,
   "metadata": {},
   "outputs": [],
   "source": []
  }
 ],
 "metadata": {
  "kernelspec": {
   "display_name": "Python 3",
   "language": "python",
   "name": "python3"
  },
  "language_info": {
   "codemirror_mode": {
    "name": "ipython",
    "version": 3
   },
   "file_extension": ".py",
   "mimetype": "text/x-python",
   "name": "python",
   "nbconvert_exporter": "python",
   "pygments_lexer": "ipython3",
   "version": "3.7.6"
  }
 },
 "nbformat": 4,
 "nbformat_minor": 1
}
