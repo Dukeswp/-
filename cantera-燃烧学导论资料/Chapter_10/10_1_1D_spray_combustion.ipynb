{
 "cells": [
  {
   "cell_type": "markdown",
   "metadata": {},
   "source": [
    "# Steady One-Dimensional Spray Combustion\n",
    "\n",
    "This Jupyter Notebook was written by Dan Haworth. It is intended as a tutorial to be used in parallel with Chapter 10 of the book \"An Introduction to Combustion: Concepts and Applications\" by Stephen R. Turns and Daniel C. Haworth. That book is referred to as \"Turns 4th ed.\" throughout this Notebook.\n",
    "\n",
    "This Notebook was last updated 21 February 2020.\n",
    "\n",
    "The objectives of this tutorial are to show how to implement and solve a system of coupled nonlinear ordinary differential equations plus ancillary equations using Cantera, where the equations correspond to a simplified model for steady one-dimensional spray combustion. The model is exercised to illustrate key trends. We will use the thermodynamic properties and molecular transport properties that are included in seiser.cti.\n",
    "\n",
    "The file \"seiser.cti\" must be placed in a folder or directory named \"data\" that is immediately below the folder or directory from which you have opened this Notebook. If you downloaded the .zip file that contains all of the tutorial Notebooks, the appropriate folder and file structure should be in place. The .cti file is also available at https://github.com/Cantera/cantera-jupyter/tree/master/reactors/data.\n",
    "\n",
    "The reader should be familiar with the material in Chapter 9 Notebooks before working through this Notebook."
   ]
  },
  {
   "cell_type": "markdown",
   "metadata": {},
   "source": [
    "## 1. Model description"
   ]
  },
  {
   "cell_type": "markdown",
   "metadata": {},
   "source": [
    "The model is developed at the end of Chapter 10 of Turns 4th ed. The key simplifications/assumptions are given there. In particular, it is assumed that the local gas temperature and composition at any spatial location $x$ are the values corresponding to the local equilibrium values (equilibrium for given mixture enthalpy and pressure) at that location. Therefore, we do not need a reaction mechanism, but we do need thermodynamic properties for both the liquid fuel and the gas-phase mixture, and transport properties for the gas-phase mixture; the latter are needed to compute the fuel vaporization rate. All fuel properties are constant in this model, and the liquid fuel temperature is equal to the boiling temperature. \n",
    "\n",
    "In Section 3 below, we set up and solve the problem that is posed in Example 10.5 of Turns 4th ed. In the problem statement, an \"initial temperature\" (denoted as $ T_{r0} $ in the following) is given, and two equivalence ratios are given: an \"overall equivalence ratio\" ($ \\Phi _ {OA} $) and a \"premixed equivalence ratio\" ($ \\Phi _ {g0} $). These quantities are used as follows to set the initial conditions (at $x=0$) for the problem.\n",
    "\n",
    "* The given initial temperature $ T_{r0} $ corresponds to the temperature of a fuel/oxidizer reactant mixture at the given value of the premixed equivalence ratio. Because we assume that the gas-phase combustion is infinitely fast, the $x=0$ gas temperature ($T_{g0}$) is *not* equal to $ T_{r0} $; rather, $T_{g0}$ is the equilibrium temperature corresponding to a fuel/oxidizer mixture at the given initial temperature $ T_{r0} $ and the given premixed equivalence ratio $ \\Phi _ {g0} $.\n",
    "\n",
    "* The \"overall equivalence ratio\" $ \\Phi _ {OA} $ is an equivalence ratio that accounts for both the liquid fuel and the vapor fuel. As the liquid fuel droplets vaporize, the local gas-phase equivalence ratio increases. If all of the liquid fuel were to vaporize completely, the gas-phase equivalence ratio would then be equal to $ \\Phi _ {OA} $.\n",
    "\n",
    "* All of the oxidizer enters the system in the gas phase at $ x = 0 $. The term $ \\dot m_a ' $ in Turns Chapter 10 is equal to zero.\n",
    "\n",
    "* The initial ($x=0$) liquid fuel mass flow rate ($ \\dot m _ {l0} $) can be calculated directly from the known values of the liquid mass density $ \\rho _ l $ (= constant), the initial droplet velocity $v_{d0}$, and the total fuel injection area $A_{inj}$ as $ \\dot m _ {l0} = \\rho _ l v_{d0} A_{inj} $.\n",
    "\n",
    "* The stoichiometric fuel/oxidizer mass rate ($(F/O)_{stoich}$) can be computed in the usual way (see Chapter 2 of Turns 4th ed.) from the given fuel (here n-heptane) and oxidizer (here pure $O_2$) compositions.\n",
    "\n",
    "The following relationships then pertain among the oxidizer mass flow rate $ \\dot m _ a $, the vapor fuel mass flow rate $ \\dot m _ F $, the gas mass flow rate $ \\dot m _ g $, and the liquid mass flow rate $ \\dot m _ l $ (all in kg/s). Here a subscript $0$ denotes an initial ($x=0$) value of that quantity:\n",
    "\n",
    "$$ \\dot m _ a = constant $$\n",
    "$$ \\dot m_ F = \\dot m _ F (x) \\ , \\ \\dot m_ g = \\dot m _ g (x) \\ , \\ \\dot m_ l = \\dot m _ l (x) $$\n",
    "$$ \\frac{\\dot m _ {l0} + \\dot m _ {F0}}{\\dot m _ a} = \\Phi_{OA} ( F/O )_{stoich} $$\n",
    "$$ \\frac{\\dot m _ {F0}}{\\dot m _ a} = \\Phi_{g0} ( F/O )_{stoich} $$\n",
    "\n",
    "From these expressions, the initial ($x=0$) mass flow rates can all be determined.\n",
    "\n",
    "Further information can be found in the comments in Sections 2 and 3 below."
   ]
  },
  {
   "cell_type": "markdown",
   "metadata": {},
   "source": [
    "## 2. Cantera implementation"
   ]
  },
  {
   "cell_type": "markdown",
   "metadata": {},
   "source": [
    "No standard predefined Cantera object is available for this system. Therefore, as was the case in Cantera tutorial Notebook 4_1_ODE_integration_thermal_NO, we will explicitly code the system of nonlinear coupled ordinary differential equations (ODEs) and ancillary algebraic equations that must be solved, and we will solve them using [`solve_ivp()`](https://docs.scipy.org/doc/scipy/reference/generated/scipy.integrate.solve_ivp.html).\n",
    "\n",
    "Here the gas-phase mixture thermodynamic and transport properties that are needed will be taken from a Cantera input data file, rather than using the Appendix B curvefits. In the equilibrium calculations, full equilibrium will be computed using all of the species that are considered in the gas-phase input data file, rather than considering only the major species. And while the (here constant) liquid fuel properties could in principle be taken from an appropriate Cantera input data file, here we will specify the necessary properties directly for the fuel of interest (n-heptane). "
   ]
  },
  {
   "cell_type": "code",
   "execution_count": 1,
   "metadata": {},
   "outputs": [
    {
     "name": "stdout",
     "output_type": "stream",
     "text": [
      "Running Cantera version: 2.4.0\n"
     ]
    }
   ],
   "source": [
    "# import modules\n",
    "import cantera as ct\n",
    "import numpy as np\n",
    "import matplotlib.pyplot as plt\n",
    "import pandas as pd\n",
    "from scipy.integrate import solve_ivp\n",
    "import time\n",
    "\n",
    "# print Cantera version\n",
    "print(\"Running Cantera version: {}\".format(ct.__version__))"
   ]
  },
  {
   "cell_type": "code",
   "execution_count": 2,
   "metadata": {},
   "outputs": [
    {
     "name": "stdout",
     "output_type": "stream",
     "text": [
      "\n",
      "\n",
      "**** WARNING ****\n",
      "For species c7h15o-1, discontinuity in h/RT detected at Tmid = 1391\n",
      "\tValue computed using low-temperature polynomial:  21.8343\n",
      "\tValue computed using high-temperature polynomial: 21.767\n"
     ]
    }
   ],
   "source": [
    "# define an ideal-gas mixture using thermodynamic and transport property data from seiser.cti\n",
    "gas = ct.Solution('data/seiser.cti')\n",
    "\n",
    "# define a flame object, so that transport properties can be accessed - see tutorial Notebook\n",
    "#   7_1_Molecular_transport_properties\n",
    "flame = ct.FreeFlame(gas)"
   ]
  },
  {
   "cell_type": "code",
   "execution_count": 3,
   "metadata": {},
   "outputs": [
    {
     "data": {
      "text/plain": [
       "(300.0, 3000.0)"
      ]
     },
     "execution_count": 3,
     "metadata": {},
     "output_type": "execute_result"
    }
   ],
   "source": [
    "# print the temperature range over which the property data are intended to be used\n",
    "gas.min_temp, gas.max_temp"
   ]
  },
  {
   "cell_type": "markdown",
   "metadata": {},
   "source": [
    "In Section 3 below, we will use the property data at temperatures greater than 3000 K, so that we can compare our results with those given in Chapter 10 of Turns 4th ed. This is one contributor to the differences that we will see and discuss there."
   ]
  },
  {
   "cell_type": "markdown",
   "metadata": {},
   "source": [
    "Now let's set up our Cantera model. A glossary of key variables that we will use follows:"
   ]
  },
  {
   "cell_type": "code",
   "execution_count": 4,
   "metadata": {},
   "outputs": [],
   "source": [
    "# independent variable\n",
    "#   x - spatial coordinate (m)\n",
    "\n",
    "# dependent variables for which ODEs are solved (functions of x)\n",
    "#   D      - liquid droplet diameter (m)\n",
    "#   mdot_g - gas-phase mass flow rate (kg/s)\n",
    "#   h_g    - gas-phase enthalpy (J/kg)\n",
    "#   v_d    - liquid droplet speed (m/s)\n",
    "\n",
    "# other principal dependent variables (functions of x)\n",
    "#   v_g    - gas-phase flow speed (m/s)\n",
    "#   Phi_g  - gas-phase equivalence ratio (-)\n",
    "#   mdot_l - liquid mass flow rate (kg/s)\n",
    "\n",
    "# given as a function of x\n",
    "# here we consider the case where mdot_a remains constant at its x=0 value: there is no additional oxidizer injection\n",
    "#   downstream of the combustor inlet\n",
    "#   mdot_a - oxidizer mass flow rate (kg/s)\n",
    "\n",
    "# local gas-phase mean properties that are needed to compute vaporization rate\n",
    "#   c_pg  - mean constant-pressure specific heat (J/kg-K)\n",
    "#   k_g   - mean thermal conductivity (W/m-K)\n",
    "\n",
    "# other local gas-phase properties that are needed\n",
    "#   rho_g - mass density (kg/m^3)\n",
    "#   T_g   - temperature (K)\n",
    "#   mu_g  - dynamic viscosity (Pa-s)\n",
    "\n",
    "# other local quantities that are needed\n",
    "#   K         - burning-rate constant (m^2/s)\n",
    "#   C_D       - droplet drag coefficient (-)\n",
    "#   dmdot_gdx - spatial derivative of mdot_g (kg/m-s)\n",
    "#   dmdot_ldx - spatial derivative of mdot_l (kg/m-s)\n",
    "\n",
    "# number of droplets per second (a constant, deduced from the initial conditions)\n",
    "#   Ndot - number of droplets per second (droplets/s)\n",
    "\n",
    "# fuel and oxidizer (given and constant)\n",
    "#   fuel      - fuel composition\n",
    "#   oxid      - oxidizer composition\n",
    "#   FO_stoich - stoichiometric fuel/oxidizer mass ratio (-)\n",
    "\n",
    "# liquid fuel properties (given and constant)\n",
    "#   T_l   - liquid temperature = boiling temperature of the liquid at the given pressure (K)\n",
    "#   rho_l - liquid density (kg/m^3)\n",
    "#   h_fg  - heat of vaporization (J/kg)\n",
    "#   h_l   - enthalpy (J/kg)\n",
    "\n",
    "# operating pressure (given and constant)\n",
    "#   P     - pressure (Pa)\n",
    "\n",
    "# overall combustor dimensions (given and constant)\n",
    "#   A - cross-secional area (m^2)\n",
    "#   L - length (m)\n",
    "\n",
    "# for initial conditions at x=0, append a subscript 0 to the corresponding variable name"
   ]
  },
  {
   "cell_type": "markdown",
   "metadata": {},
   "source": [
    "Several functions are defined to compute key quantities that are needed to solve the governing equations:"
   ]
  },
  {
   "cell_type": "code",
   "execution_count": 5,
   "metadata": {},
   "outputs": [],
   "source": [
    "# define a function that computes the necessary gas-phase mixture properties, using Eqs. 10.21-10.23 of Turns 4th ed.\n",
    "#   to compute appropriate mean values\n",
    "# the mixture pressure is constant\n",
    "# local variable names are used in the function to avoid potential conflicts with external variable names\n",
    "# function input arguments:\n",
    "#   gasl is the gas-phase mixture, whose temperature, pressure, and composition on calling this function are the current\n",
    "#     gas-phase (subscript infinity in Chapter 10 of Turns 4th ed.) values\n",
    "#   fuell is the fuel composition, which must include only species that are available in gasl\n",
    "#   oxidl is the oxidizer composition, which must include only species that are available in gasl\n",
    "#   T_ll  is the liquid fuel droplet temperature, which is equal to the boiling point in this model (K)\n",
    "# function returns:\n",
    "#   c_pgl  is an appropriate mean specific heat for the gas (J/kg-K) - Eq. 10.21\n",
    "#   k_gl   is an appropriate mean thermal conductivity for the gas (W/m-K) - Eq. 10.22\n",
    "#   rho_gl is the actual mass density of the gas (kg/m^3)\n",
    "#   mu_gl  is the actual dynamic viscosity of the gas (Pa-s)\n",
    "#   T_gl   is the actual temperature of the gas (K)\n",
    "\n",
    "def gas_properties(gasl,fuell,oxidl,T_ll):\n",
    "    T_gl     = gasl.T                     # get the current gas mixture temperature (K)\n",
    "    X_gl     = gasl.X                     # get the current gas mixture composition (species mole fractions)       \n",
    "    rho_gl   = gasl.density               # get the current gas mixture mass density (kg/m^3)\n",
    "    mu_gl    = gasl.viscosity             # get the current gas mixture dynamic viscosity (Pa-s)\n",
    "    \n",
    "    T_barl   = 0.5*( T_gl + T_ll )        # compute mean temperature at which some properties are evaluated (K) - Eq. 10.23\n",
    "    gasl.TP  = T_barl, None               # reset the gas temperature, leaving the pressure and composition unchanged\n",
    "    k_infl   = gasl.thermal_conductivity  # get the gas thermal conductivity at the average temperature (W/m-K)\n",
    "    \n",
    "    purefuell = fuell+':1.0'\n",
    "    gasl.TPX  = None, None , purefuell    # reset gas composition to pure fuel vapor, leaving T and P unchanged\n",
    "    k_Fl      = gasl.thermal_conductivity # get thermal conductivity of pure fuel vapor at the mean temperature (W/m-K)\n",
    "    c_pFl     = gasl.cp_mass              # get specific heat of pure fuel vapor at the mean temperature (J/kg-K)\n",
    "    \n",
    "    c_pgl     = c_pFl                     # compute the gas-phase mean specific heat using Eq. 10.21 (J/kg-K)\n",
    "    k_gl      = 0.4*k_Fl + 0.6*k_infl     # compute the gas-phase mean thermal conductivity using Eq. 10.22 (W/m-K)\n",
    "\n",
    "    gasl.TPX  = T_gl , None , X_gl        # reset the gas mixture to its state on calling this function\n",
    "    \n",
    "    return c_pgl,k_gl,rho_gl,mu_gl,T_gl   # return the five thermodynamic and transport properties that are needed"
   ]
  },
  {
   "cell_type": "code",
   "execution_count": 6,
   "metadata": {},
   "outputs": [],
   "source": [
    "# define a function that computes the burning-rate constant, using Eq. 10.18 of Turns 4th ed. with the transfer number\n",
    "#   as given by Eq. 10.12\n",
    "# we do not consider the \"extensions to convective environments\" that are discussed in Chapter 10\n",
    "# local variable names are used in the function to avoid potential conflicts with external variable names\n",
    "# function input arguments:\n",
    "#   T_gl   is the gas temperature (K)\n",
    "#   T_ll   is the liquid droplet temperature, which is equal to the boiling temperature in this model (K)\n",
    "#   c_pgl  is the appropriately defined mean constant-pressure specific heat for the gas (J/kg-K)\n",
    "#   k_gl   is the appropriately defined mean thermal conductivity for the gas (W/m-K)\n",
    "#   h_fgl  is the heat of vaporization of the fuel (J/kg)\n",
    "#   rho_ll is the mass density of the liquid fuel (kg/m^3)\n",
    "# function returns:\n",
    "#   Kl is the burning-rate constant (m^2/s)\n",
    "\n",
    "def burning_rate_constant(T_gl,T_ll,c_pgl,k_gl,h_fgl,rho_ll):\n",
    "    B_ql = c_pgl*( T_gl - T_ll ) / h_fgl                  # compute the transfer number (-) - Eq. 10.12\n",
    "    Kl   = 8.*k_gl*np.log( B_ql + 1. ) / ( rho_ll*c_pgl ) # compute the burning-rate constant (m^2/s) - Eq. 10.18\n",
    "    return Kl                                             # return the burning-rate constant"
   ]
  },
  {
   "cell_type": "code",
   "execution_count": 7,
   "metadata": {},
   "outputs": [],
   "source": [
    "# define a function that computes the droplet drag coefficient, using Eq. 10.110 of Turns 4th ed.\n",
    "# local variable names are used in the function to avoid potential conflicts with external variable names\n",
    "# function input arguments:\n",
    "#   rho_gl is the mass density of the gas (kg/m^3)\n",
    "#   v_gl   is the gas flow speed (m/s)\n",
    "#   v_dl   is the droplet speed (m/s)\n",
    "#   Dl     is the droplet diameter\n",
    "#   mu_gl  is the gas dynamic viscosity (Pa-s)\n",
    "# function returns:\n",
    "#   C_Dl is the drag coefficient (-)\n",
    "\n",
    "def drag_coefficient(rho_gl,v_gl,v_dl,Dl,mu_gl):\n",
    "    tiny_num = 1.e-14\n",
    "    Dl       = np.maximum(Dl,tiny_num)                          # protect against non-positive droplet diameter\n",
    "    Re_Dl    = rho_gl*np.abs(v_gl-v_dl)*Dl / mu_gl              # compute the Reynolds number (-)\n",
    "    C_D1     = 23.4                                             # impose an upper limit on C_D1 for Re=1\n",
    "    if 1.<Re_Dl<200000.:\n",
    "        C_Dl = 24. / Re_Dl + 6. / ( 1. + np.sqrt(Re_Dl) ) + 0.4 # compute the drag coefficient (-) using Eq. 10.110\n",
    "    else:\n",
    "        C_Dl = 0.4\n",
    "    return C_Dl                                                 # return the drag coefficient"
   ]
  },
  {
   "cell_type": "code",
   "execution_count": 8,
   "metadata": {},
   "outputs": [],
   "source": [
    "# define a function that computes the x-rate-of-change of quantities needed for the simplified 1D steady\n",
    "#   spray combustion model, for a case where the mass flow rate of oxidizer remains constant at its x=0 value\n",
    "#   (no additional oxidizer injection downstream of the combustor inlet)\n",
    "# this function is called by the ODE integrator as needed to advance the solution over the specified spatial interval dx\n",
    "\n",
    "def Steady_1D_spray_combust(x,dvars,parms):\n",
    "    \n",
    "# unpack dvars into local values of the dependent variables\n",
    "# on entering this function, these four quantities have been updated from the end of the previous call\n",
    "    D, mdot_g , h_g, v_d = dvars\n",
    "    \n",
    "# unpack other quantitites/parameters needed\n",
    "    gas, fuel, oxid, P, mdot_g0, mdot_l0, mdot_a0, A, FO_stoich, rho_l, T_l, h_l, h_fg, Ndot, vars = parms\n",
    "    \n",
    "# protect against zero and negative values of D\n",
    "    tiny_num = 1.e-14\n",
    "    D        = np.maximum(D,tiny_num)\n",
    "    \n",
    "# the oxidizer mass flow rate remains constant at its x=0 value\n",
    "    mdot_a = mdot_a0 \n",
    "    \n",
    "# update liquid mass flow rate\n",
    "    mdot_l = Ndot*np.pi*rho_l*D**3. / 6. # (kg/s) - Eq. 10.88\n",
    "        \n",
    "# compute the current equivalence ratio based on mass flow rates of oxidizer and fuel\n",
    "    FO    = mdot_g / mdot_a - 1. # fuel/oxidizer mass ratio - Eq. 10.104b\n",
    "    Phi_g = FO / FO_stoich       # equivalence ratio - Eq. 10.106\n",
    "    \n",
    "# reset gas mixture temperature and composition to their equilibrium values for the current mixture enthalpy\n",
    "#   and equivalence ratio\n",
    "    basis  = 'mass' # make sure that the basis is set to 'mass'\n",
    "    gas.set_equivalence_ratio(Phi_g,fuel,oxid) # reset composition to a fuel-oxidizer mixture at current equivalence ratio\n",
    "    gas.HP = h_g,P                             # reset enthalpy to current gas mixture enthalpy\n",
    "    T_u    = gas.T                             # T_u is then the unburned reactants temperature\n",
    "    gas.TP = T_u,P                             # reset temperature to T_u\n",
    "    gas.equilibrate('HP')                      # re-equilibrate the gas mixture   \n",
    "    \n",
    "# compute the gas mixture properties that are needed\n",
    "# note that c_pg and k_g are appropriately defined mean values, while rho_g, mu_g, and T_g are actual gas mixture values\n",
    "    props = np.zeros(5)\n",
    "    props = gas_properties(gas,fuel,oxid,T_l)\n",
    "    c_pg  = props[0]\n",
    "    k_g   = props[1]\n",
    "    rho_g = props[2]\n",
    "    mu_g  = props[3]\n",
    "    T_g   = props[4]\n",
    "    \n",
    "# update the gas flow speed\n",
    "    v_g = mdot_g / ( rho_g*A ) # (kg/s) - Eq. 10.93\n",
    "                      \n",
    "# compute the burning-rate constant\n",
    "    K = burning_rate_constant(T_g,T_l,c_pg,k_g,h_fg,rho_l) # (m^2/s)\n",
    "#    K = 0. # disable vaporization, for testing purposes - in that case, the gas temperature should remain constant\n",
    "\n",
    "# compute the droplet drag coefficient\n",
    "    C_D = drag_coefficient(rho_g,v_g,v_d,D,mu_g) # (-)\n",
    "    \n",
    "# compute dmdot_ldx and dmdot_gdx                   \n",
    "    dmdot_ldx = -np.pi*Ndot*rho_l*D*K / ( 4.*v_d ) # Eqs. 10.89 and 10.91                   \n",
    "    dmdot_gdx = -dmdot_ldx                         # Eq. 10.85\n",
    "\n",
    "# compute dPhidx\n",
    "    dFOdx  = dmdot_gdx / mdot_a    # Eq. 10.105\n",
    "    dPhidx = dFOdx / FO_stoich     # Eq. 10.107\n",
    "    \n",
    "# check mass conservation\n",
    "    mdot_0 = mdot_F0 + mdot_a0 + mdot_l0\n",
    "    mdot   = mdot_g + mdot_l\n",
    "    if (np.abs(mdot-mdot_0)/mdot_0)>1.e-3:\n",
    "        print('warning: mdot_0,mdot=',mdot_0,mdot)\n",
    "           \n",
    "# print some output to monitor solution progress\n",
    "#    print('x,T_g,Phi_g,v_g,D=',x,T_g,Phi_g,v_g,D)\n",
    "\n",
    "# save quantities of interest to a Pandas DataFrame for subsequent plotting and analysis\n",
    "# the variables must be consistent with the setup prior to calling this function\n",
    "    vars[0]             = T_g\n",
    "    vars[1]             = Phi_g\n",
    "    vars[2]             = D\n",
    "    vars[3]             = v_g\n",
    "    vars[4]             = v_d\n",
    "    xDevelopment.loc[x] = vars\n",
    "    \n",
    "# specify the array of right-hand sides for the four ODEs\n",
    "# note that we solve an ODE for D here, instead of solving for D^2: dD^2/dx = 2*D*dD/dx\n",
    "# note that we solve an ODE for h_g, rather than for T_g; then T_g is computed assuming local equilibrium\n",
    "# once all of the liquid fuel has vaporized, there are no further changes in any quanitites as functions of x\n",
    "    if D>tiny_num:\n",
    "        f = [ -K / ( 2.*D*v_d ) ,                                                                # dD/dx, from Eq. 10.91\n",
    "              dmdot_gdx ,                                                                        # dmdot_g/dx, Eq. 10.98\n",
    "             ( -h_g*dmdot_gdx - h_l*dmdot_gdx ) / mdot_g ,                                       # dh_g/dx, Eq. 10.102\n",
    "              3.*C_D*rho_g*( v_g - v_d )*np.abs( v_g - v_d ) / ( 4.*rho_l*D*v_d ) ]              # dv_d/dx, Eq. 10.113\n",
    "    else:\n",
    "        f = [ 0. ,\n",
    "              0. ,\n",
    "              0. ,\n",
    "              0. ]\n",
    "                      \n",
    "# return the array of right-hand sides to the calling function\n",
    "    return f"
   ]
  },
  {
   "cell_type": "markdown",
   "metadata": {},
   "source": [
    "## 3. Turns 4th ed. Example 10.5"
   ]
  },
  {
   "cell_type": "markdown",
   "metadata": {},
   "source": [
    "Now we set up the model to correspond to the problem that is posed in Example 10.5."
   ]
  },
  {
   "cell_type": "code",
   "execution_count": 9,
   "metadata": {},
   "outputs": [],
   "source": [
    "# geometric dimensions\n",
    "A = 0.157 # (m^2)\n",
    "A = 2.*A  # (m^2) - increase the cross-sectional area, to give better quantitative agreement with Figures 10.19 and 10.20\n",
    "L = 0.725 # (m)\n",
    "\n",
    "# operating pressure (constant)\n",
    "P    = 3447400.\n",
    "\n",
    "# fuel and oxidizer specification\n",
    "# note that the oxidizer here is pure O2\n",
    "fuel = 'nc7h16'\n",
    "oxid = 'o2:1.0'\n",
    "\n",
    "# liquid fuel properties from Table B.1 of Turns 4th ed.\n",
    "rho_l =    684.   # (kg/m^3)\n",
    "T_l   =    371.6  # (K) - recall that the liquid temperature is equal to the boiling temperature in this model\n",
    "h_fg  = 316000.   # (J/kg)\n",
    "\n",
    "# other liquid fuel properties\n",
    "x        = gas.n_atoms(fuel,'C')  # number of atoms of carbon in fuel molecule, for subsequent stoichiometry calculations\n",
    "y        = gas.n_atoms(fuel,'H')  # number of atoms of hydrogen in fuel molecule, for subsequent stoichiometry calculations\n",
    "purefuel = fuel+':1.0'\n",
    "gas.TPX  = T_l , P , purefuel       # set the gas mixture to pure fuel at temperature T_l\n",
    "h_l      = gas.enthalpy_mass - h_fg # compute h_l\n",
    "\n",
    "# liquid fuel injection parameters\n",
    "# here we specify an initial droplet diameter of 50 micrometers\n",
    "A_l0 = 0.0157  # (m^2)\n",
    "v_d0 = 10.     # (m/s)\n",
    "D_0  = 0.00005 # (m)\n",
    "\n",
    "# initial temperature\n",
    "# the actual initial gas temperature is the constant-pressure adiabatic equilibrium temperature corresponding\n",
    "#   to a fuel/air reactant mixture at temperature T_0, pressure P, and equivalence ratio Phi_g0\n",
    "T_0 = 801. # (K)\n",
    "\n",
    "# overall equivalence ratio, including both liquid and gas-phase fuel\n",
    "# here all of the fuel (liquid+gas-phase) and all of the air is injected at x=0\n",
    "Phi_OA = 2.3\n",
    "\n",
    "# initial gas-phase equivalence ratio (the \"premixed\" equivalence ratio)\n",
    "Phi_g0 = 0.45"
   ]
  },
  {
   "cell_type": "markdown",
   "metadata": {},
   "source": [
    "Compute the initial ($x=0$) liquid fuel mass flow rate and the number of droplets per second:"
   ]
  },
  {
   "cell_type": "code",
   "execution_count": 10,
   "metadata": {},
   "outputs": [],
   "source": [
    "# x=0 mass flow rate of liquid and number of droplets per second\n",
    "mdot_l0 = rho_l*A_l0*v_d0\n",
    "Ndot    = 6.*mdot_l0 / ( np.pi*rho_l*D_0**3. )"
   ]
  },
  {
   "cell_type": "markdown",
   "metadata": {},
   "source": [
    "Compute the stoichiometric fuel/air mass ratio (a constant), the initial ($x=0$) fuel, air, and gas mass flow rates, and the initial gas flow speed, and set the gas mixture to correspond to the desired $x=0$ state. Recall that there is no further air injection downstream of the combustor inlet at x=0. This is a stoichiometry problem:"
   ]
  },
  {
   "cell_type": "code",
   "execution_count": 11,
   "metadata": {},
   "outputs": [
    {
     "data": {
      "text/plain": [
       "(7.0,\n",
       " 16.0,\n",
       " 0.284681243728458,\n",
       " 0.45,\n",
       " 2.3000000000000003,\n",
       " 3338.0981937910606,\n",
       " 376304.3506262261,\n",
       " 203.76914390509026)"
      ]
     },
     "execution_count": 11,
     "metadata": {},
     "output_type": "execute_result"
    }
   ],
   "source": [
    "# number of moles of O2 required for a stoichiometric fuel/air mixture\n",
    "a_stoich = x + y/4.\n",
    "\n",
    "# stoichiometric fuel/air mass ratio\n",
    "mw_fuel   = gas.molecular_weights[gas.species_index(fuel)]\n",
    "mw_oxid   = gas.molecular_weights[gas.species_index('o2')]\n",
    "FO_stoich = mw_fuel / ( a_stoich*mw_oxid )\n",
    "\n",
    "# x=0 mass flow rate of oxidizer - here all oxidizer enters at x=0\n",
    "mdot_a0 = mdot_l0 / ( FO_stoich*( Phi_OA - Phi_g0 ))\n",
    "\n",
    "# x=0 mass flow rate of gaseous fuel\n",
    "mdot_F0 = mdot_a0*Phi_g0*FO_stoich\n",
    "\n",
    "# x=0 mass flow rate of gas\n",
    "mdot_g0 = mdot_F0 + mdot_a0\n",
    "\n",
    "# set the gas mixture state to the desired initial temperature, pressure, and initial equivalence ratio\n",
    "gas.TP = T_0 , P\n",
    "gas.set_equivalence_ratio(Phi_g0,fuel,oxid)\n",
    "gas.equilibrate('HP')\n",
    "T_g0 = gas.T\n",
    "h_g0 = gas.enthalpy_mass\n",
    "\n",
    "# x=0 gas flow speed\n",
    "v_g0 = mdot_g0 / ( gas.density*A )\n",
    "\n",
    "# check that the x=0 gas-phase equivalence ratio and overall equivalence ratio are equal to the given values\n",
    "Phi_g0_check = ( mdot_F0 / mdot_a0 ) / FO_stoich\n",
    "Phi_OA_check = ( ( mdot_F0 + mdot_l0 ) / mdot_a0 ) / FO_stoich\n",
    "\n",
    "x , y , FO_stoich , Phi_g0_check , Phi_OA_check , T_g0 , h_g0 , v_g0"
   ]
  },
  {
   "cell_type": "markdown",
   "metadata": {},
   "source": [
    "This confirms that the $x=0$ mass flow rates of liquid fuel, gas-phase fuel, and air are consistent with the given equivalence ratio information."
   ]
  },
  {
   "cell_type": "code",
   "execution_count": 12,
   "metadata": {},
   "outputs": [],
   "source": [
    "# define the x interval over which the solution is to be computed, \n",
    "#   and the number of (here, uniformly spaced) x intervals at which the solution is to be evaluated and stored\n",
    "#   for output and/or plotting\n",
    "x0 = 0.   # (m)\n",
    "xf = L    # (m)\n",
    "nx = 101\n",
    "\n",
    "# define an array containing the x locations at which the solution is to be evaluated; this array will be passed\n",
    "#   as an argument to the ODE solver\n",
    "xarr = np.linspace(x0 , xf, nx) "
   ]
  },
  {
   "cell_type": "markdown",
   "metadata": {},
   "source": [
    "Now solve the system of nonlinear coupled ODEs and ancillary algebraic equations. This may take a while, depending on your computer and choices of solver and solution tolerances."
   ]
  },
  {
   "cell_type": "code",
   "execution_count": 13,
   "metadata": {},
   "outputs": [
    {
     "name": "stdout",
     "output_type": "stream",
     "text": [
      "warning: mdot_0,mdot= 337.4131357928418 338.5884543374174\n",
      "warning: mdot_0,mdot= 337.4131357928418 345.70831201333965\n",
      "warning: mdot_0,mdot= 337.4131357928418 343.9108770807083\n",
      "warning: mdot_0,mdot= 337.4131357928418 345.1408128605114\n",
      "warning: mdot_0,mdot= 337.4131357928418 567.2886553376765\n",
      "warning: mdot_0,mdot= 337.4131357928418 520.5890184030645\n",
      " \n",
      "Solution required 69.64 s\n"
     ]
    },
    {
     "data": {
      "text/plain": [
       "  message: 'The solver successfully reached the end of the integration interval.'\n",
       "     nfev: 578\n",
       "     njev: 0\n",
       "      nlu: 0\n",
       "      sol: None\n",
       "   status: 0\n",
       "  success: True\n",
       "        t: array([0.     , 0.00725, 0.0145 , 0.02175, 0.029  , 0.03625, 0.0435 ,\n",
       "       0.05075, 0.058  , 0.06525, 0.0725 , 0.07975, 0.087  , 0.09425,\n",
       "       0.1015 , 0.10875, 0.116  , 0.12325, 0.1305 , 0.13775, 0.145  ,\n",
       "       0.15225, 0.1595 , 0.16675, 0.174  , 0.18125, 0.1885 , 0.19575,\n",
       "       0.203  , 0.21025, 0.2175 , 0.22475, 0.232  , 0.23925, 0.2465 ,\n",
       "       0.25375, 0.261  , 0.26825, 0.2755 , 0.28275, 0.29   , 0.29725,\n",
       "       0.3045 , 0.31175, 0.319  , 0.32625, 0.3335 , 0.34075, 0.348  ,\n",
       "       0.35525, 0.3625 , 0.36975, 0.377  , 0.38425, 0.3915 , 0.39875,\n",
       "       0.406  , 0.41325, 0.4205 , 0.42775, 0.435  , 0.44225, 0.4495 ,\n",
       "       0.45675, 0.464  , 0.47125, 0.4785 , 0.48575, 0.493  , 0.50025,\n",
       "       0.5075 , 0.51475, 0.522  , 0.52925, 0.5365 , 0.54375, 0.551  ,\n",
       "       0.55825, 0.5655 , 0.57275, 0.58   , 0.58725, 0.5945 , 0.60175,\n",
       "       0.609  , 0.61625, 0.6235 , 0.63075, 0.638  , 0.64525, 0.6525 ,\n",
       "       0.65975, 0.667  , 0.67425, 0.6815 , 0.68875, 0.696  , 0.70325,\n",
       "       0.7105 , 0.71775, 0.725  ])\n",
       " t_events: None\n",
       "        y: array([[ 5.00000000e-05,  4.84654769e-05,  4.75534015e-05,\n",
       "         4.67457998e-05,  4.59901560e-05,  4.52666152e-05,\n",
       "         4.45651750e-05,  4.38799591e-05,  4.32071511e-05,\n",
       "         4.25440899e-05,  4.18888214e-05,  4.12398382e-05,\n",
       "         4.05959451e-05,  3.99561552e-05,  3.93196330e-05,\n",
       "         3.86856569e-05,  3.80535744e-05,  3.74227917e-05,\n",
       "         3.67927536e-05,  3.61629183e-05,  3.55327569e-05,\n",
       "         3.49017461e-05,  3.42693467e-05,  3.36350037e-05,\n",
       "         3.29981508e-05,  3.23581915e-05,  3.17144929e-05,\n",
       "         3.10663930e-05,  3.04131923e-05,  2.97541369e-05,\n",
       "         2.90884176e-05,  2.84151732e-05,  2.77334654e-05,\n",
       "         2.70422652e-05,  2.63404474e-05,  2.56267810e-05,\n",
       "         2.48998784e-05,  2.41581812e-05,  2.33999343e-05,\n",
       "         2.26231421e-05,  2.18254578e-05,  2.10041482e-05,\n",
       "         2.01560082e-05,  1.92771811e-05,  1.83628322e-05,\n",
       "         1.74070267e-05,  1.64022508e-05,  1.53384047e-05,\n",
       "         1.42017749e-05,  1.29730906e-05,  1.16223477e-05,\n",
       "         1.01004257e-05,  8.31102364e-06,  6.01346923e-06,\n",
       "         1.81243834e-06, -7.63842713e-08, -7.63842713e-08,\n",
       "        -7.63842713e-08, -7.63842713e-08, -7.63842713e-08,\n",
       "        -7.63842713e-08, -7.63842713e-08, -7.63842713e-08,\n",
       "        -7.63842713e-08, -7.63842713e-08, -7.63842713e-08,\n",
       "        -7.63842713e-08, -7.63842713e-08, -7.63842713e-08,\n",
       "        -7.63842713e-08, -7.63842713e-08, -7.63842713e-08,\n",
       "        -7.63842713e-08, -7.63842713e-08, -7.63842713e-08,\n",
       "        -7.63842713e-08, -7.63842713e-08, -7.63842713e-08,\n",
       "        -7.63842713e-08, -7.63842713e-08, -7.63842713e-08,\n",
       "        -7.63842713e-08, -7.63842713e-08, -7.63842713e-08,\n",
       "        -7.63842713e-08, -7.63842713e-08, -7.63842713e-08,\n",
       "        -7.63842713e-08, -7.63842713e-08, -7.63842713e-08,\n",
       "        -7.63842713e-08, -7.63842713e-08, -7.63842713e-08,\n",
       "        -7.63842713e-08, -7.63842713e-08, -7.63842713e-08,\n",
       "        -7.63842713e-08, -7.63842713e-08, -7.63842713e-08,\n",
       "        -7.63842713e-08, -7.63842713e-08],\n",
       "       [ 2.30025136e+02,  2.39612154e+02,  2.45030466e+02,\n",
       "         2.49657800e+02,  2.53845061e+02,  2.57727542e+02,\n",
       "         2.61374802e+02,  2.64828553e+02,  2.68116421e+02,\n",
       "         2.71258017e+02,  2.74267960e+02,  2.77157649e+02,\n",
       "         2.79936185e+02,  2.82611083e+02,  2.85188658e+02,\n",
       "         2.87674292e+02,  2.90072715e+02,  2.92388077e+02,\n",
       "         2.94624087e+02,  2.96784133e+02,  2.98871294e+02,\n",
       "         3.00888389e+02,  3.02838052e+02,  3.04722739e+02,\n",
       "         3.06544705e+02,  3.08306066e+02,  3.10008812e+02,\n",
       "         3.11654773e+02,  3.13245633e+02,  3.14782964e+02,\n",
       "         3.16268213e+02,  3.17702679e+02,  3.19087537e+02,\n",
       "         3.20423854e+02,  3.21712569e+02,  3.22954480e+02,\n",
       "         3.24150269e+02,  3.25300500e+02,  3.26405602e+02,\n",
       "         3.27465855e+02,  3.28481402e+02,  3.29452241e+02,\n",
       "         3.30378194e+02,  3.31258883e+02,  3.32093713e+02,\n",
       "         3.32881844e+02,  3.33622118e+02,  3.34312966e+02,\n",
       "         3.34952316e+02,  3.35537402e+02,  3.36064396e+02,\n",
       "         3.36527886e+02,  3.36919949e+02,  3.37226285e+02,\n",
       "         3.37408018e+02,  3.37413134e+02,  3.37413134e+02,\n",
       "         3.37413134e+02,  3.37413134e+02,  3.37413134e+02,\n",
       "         3.37413134e+02,  3.37413134e+02,  3.37413134e+02,\n",
       "         3.37413134e+02,  3.37413134e+02,  3.37413134e+02,\n",
       "         3.37413134e+02,  3.37413134e+02,  3.37413134e+02,\n",
       "         3.37413134e+02,  3.37413134e+02,  3.37413134e+02,\n",
       "         3.37413134e+02,  3.37413134e+02,  3.37413134e+02,\n",
       "         3.37413134e+02,  3.37413134e+02,  3.37413134e+02,\n",
       "         3.37413134e+02,  3.37413134e+02,  3.37413134e+02,\n",
       "         3.37413134e+02,  3.37413134e+02,  3.37413134e+02,\n",
       "         3.37413134e+02,  3.37413134e+02,  3.37413134e+02,\n",
       "         3.37413134e+02,  3.37413134e+02,  3.37413134e+02,\n",
       "         3.37413134e+02,  3.37413134e+02,  3.37413134e+02,\n",
       "         3.37413134e+02,  3.37413134e+02,  3.37413134e+02,\n",
       "         3.37413134e+02,  3.37413134e+02,  3.37413134e+02,\n",
       "         3.37413134e+02,  3.37413134e+02],\n",
       "       [ 3.76304351e+05,  4.43791769e+05,  4.79598001e+05,\n",
       "         5.08946713e+05,  5.34582080e+05,  5.57607272e+05,\n",
       "         5.78614358e+05,  5.97973491e+05,  6.15939409e+05,\n",
       "         6.32699184e+05,  6.48396438e+05,  6.63145794e+05,\n",
       "         6.77040619e+05,  6.90159077e+05,  7.02567408e+05,\n",
       "         7.14322526e+05,  7.25474240e+05,  7.36066189e+05,\n",
       "         7.46137102e+05,  7.55721786e+05,  7.64851451e+05,\n",
       "         7.73554263e+05,  7.81855971e+05,  7.89780027e+05,\n",
       "         7.97347741e+05,  8.04578701e+05,  8.11490921e+05,\n",
       "         8.18100825e+05,  8.24423433e+05,  8.30472588e+05,\n",
       "         8.36260959e+05,  8.41800030e+05,  8.47100298e+05,\n",
       "         8.52171356e+05,  8.57021868e+05,  8.61659585e+05,\n",
       "         8.66091487e+05,  8.70323802e+05,  8.74361961e+05,\n",
       "         8.78210616e+05,  8.81873698e+05,  8.85354409e+05,\n",
       "         8.88655126e+05,  8.91777372e+05,  8.94721746e+05,\n",
       "         8.97487870e+05,  9.00074123e+05,  9.02477366e+05,\n",
       "         9.04692633e+05,  9.06712484e+05,  9.08525767e+05,\n",
       "         9.10115850e+05,  9.11457478e+05,  9.12503576e+05,\n",
       "         9.13123277e+05,  9.13140713e+05,  9.13140713e+05,\n",
       "         9.13140713e+05,  9.13140713e+05,  9.13140713e+05,\n",
       "         9.13140713e+05,  9.13140713e+05,  9.13140713e+05,\n",
       "         9.13140713e+05,  9.13140713e+05,  9.13140713e+05,\n",
       "         9.13140713e+05,  9.13140713e+05,  9.13140713e+05,\n",
       "         9.13140713e+05,  9.13140713e+05,  9.13140713e+05,\n",
       "         9.13140713e+05,  9.13140713e+05,  9.13140713e+05,\n",
       "         9.13140713e+05,  9.13140713e+05,  9.13140713e+05,\n",
       "         9.13140713e+05,  9.13140713e+05,  9.13140713e+05,\n",
       "         9.13140713e+05,  9.13140713e+05,  9.13140713e+05,\n",
       "         9.13140713e+05,  9.13140713e+05,  9.13140713e+05,\n",
       "         9.13140713e+05,  9.13140713e+05,  9.13140713e+05,\n",
       "         9.13140713e+05,  9.13140713e+05,  9.13140713e+05,\n",
       "         9.13140713e+05,  9.13140713e+05,  9.13140713e+05,\n",
       "         9.13140713e+05,  9.13140713e+05,  9.13140713e+05,\n",
       "         9.13140713e+05,  9.13140713e+05],\n",
       "       [ 1.00000000e+01,  1.31313372e+02,  1.66944826e+02,\n",
       "         1.91272127e+02,  2.10598965e+02,  2.27084235e+02,\n",
       "         2.41722224e+02,  2.55047278e+02,  2.67376052e+02,\n",
       "         2.78908970e+02,  2.89778684e+02,  3.00077243e+02,\n",
       "         3.09869383e+02,  3.19202611e+02,  3.28112482e+02,\n",
       "         3.36625527e+02,  3.44763478e+02,  3.52543578e+02,\n",
       "         3.59979940e+02,  3.67085856e+02,  3.73873175e+02,\n",
       "         3.80352360e+02,  3.86534436e+02,  3.92430618e+02,\n",
       "         3.98050938e+02,  4.03405928e+02,  4.08506974e+02,\n",
       "         4.13364700e+02,  4.17989203e+02,  4.22391259e+02,\n",
       "         4.26581853e+02,  4.30570547e+02,  4.34366899e+02,\n",
       "         4.37980933e+02,  4.41422166e+02,  4.44698749e+02,\n",
       "         4.47819062e+02,  4.50791851e+02,  4.53624918e+02,\n",
       "         4.56324938e+02,  4.58899039e+02,  4.61354811e+02,\n",
       "         4.63698537e+02,  4.65935546e+02,  4.68072142e+02,\n",
       "         4.70115265e+02,  4.72069937e+02,  4.73941520e+02,\n",
       "         4.75736824e+02,  4.77461424e+02,  4.79122285e+02,\n",
       "         4.80728160e+02,  4.81035855e+02,  4.81072885e+02,\n",
       "         4.81145297e+02,  4.81177821e+02,  4.81177821e+02,\n",
       "         4.81177821e+02,  4.81177821e+02,  4.81177821e+02,\n",
       "         4.81177821e+02,  4.81177821e+02,  4.81177821e+02,\n",
       "         4.81177821e+02,  4.81177821e+02,  4.81177821e+02,\n",
       "         4.81177821e+02,  4.81177821e+02,  4.81177821e+02,\n",
       "         4.81177821e+02,  4.81177821e+02,  4.81177821e+02,\n",
       "         4.81177821e+02,  4.81177821e+02,  4.81177821e+02,\n",
       "         4.81177821e+02,  4.81177821e+02,  4.81177821e+02,\n",
       "         4.81177821e+02,  4.81177821e+02,  4.81177821e+02,\n",
       "         4.81177821e+02,  4.81177821e+02,  4.81177821e+02,\n",
       "         4.81177821e+02,  4.81177821e+02,  4.81177821e+02,\n",
       "         4.81177821e+02,  4.81177821e+02,  4.81177821e+02,\n",
       "         4.81177821e+02,  4.81177821e+02,  4.81177821e+02,\n",
       "         4.81177821e+02,  4.81177821e+02,  4.81177821e+02,\n",
       "         4.81177821e+02,  4.81177821e+02,  4.81177821e+02,\n",
       "         4.81177821e+02,  4.81177821e+02]])"
      ]
     },
     "execution_count": 13,
     "metadata": {},
     "output_type": "execute_result"
    }
   ],
   "source": [
    "# define an array that contains the initial and the final x locations; this array will be passed\n",
    "#   as an argument to the ODE solver\n",
    "xspan  = [x0,xf]\n",
    "\n",
    "# load the initial conditions into an array; this array will be passed as an argument to the ODE solver\n",
    "ics = [D_0, mdot_g0 , h_g0, v_d0]\n",
    "\n",
    "# create a Pandas DataFrame to store quantities in addition to those for which ODEs are being solved, for subsequent\n",
    "#   plotting and analysis\n",
    "VariableNames = ['T_g', 'Phi_g', 'D', 'v_g', 'v_d']\n",
    "xDevelopment  = pd.DataFrame(columns=VariableNames)\n",
    "\n",
    "# fill the first row of \"xDevelopment\" with the given x=0 conditions\n",
    "nvars               = 5\n",
    "vars                = np.zeros(nvars)\n",
    "x                   = x0\n",
    "vars[0]             = T_g0\n",
    "vars[1]             = Phi_g0\n",
    "vars[2]             = D_0\n",
    "vars[3]             = v_g0\n",
    "vars[4]             = v_d0\n",
    "xDevelopment.loc[x] = vars\n",
    "   \n",
    "# load the constant problem parameters into an array; this array will be passed as an argument to the ODE solver\n",
    "params = [gas, fuel, oxid, P, mdot_g0, mdot_l0, mdot_a0, A, FO_stoich, rho_l, T_l, h_l, h_fg, Ndot, vars]\n",
    "\n",
    "# call the ODE solver\n",
    "# see Cantera tutorial Notebook 4_1_ODE_integration_thermal_NO\n",
    "# in contrast to the case that is explored in Cantera tutorial Notebook 4_1_ODE_integration_thermal_NO,\n",
    "#   the present system of ODEs is not \"stiff\"; the current system of ODEs does not involve finite-rate reaction\n",
    "#   chemistry; rather, we are assuming that the gas mixture is always in local equilibrium\n",
    "# nevertheless, numerical problems can be encountered with the current system, especially when the droplets have almost\n",
    "#   entirely vaporized (i.e., as the droplet diameter approaches zero)\n",
    "# if you use the default solver and default solution tolerances, you will see unphysical behavior in some cases,\n",
    "#   such as negative droplet diameters and/or nonmonotonic behavior in the droplet-diameter-versus-x plot\n",
    "# you can experiment with different solvers and different solution tolerances to see what happens, and how the\n",
    "#   computer time changes\n",
    "# the default solve_ivp tolerances are rtol=1.e-3 and atol=1.e-6\n",
    "\n",
    "ctim0 = time.time()\n",
    "\n",
    "solution = solve_ivp(lambda x,y:Steady_1D_spray_combust(x,y,params),xspan,ics,t_eval=xarr,\n",
    "                     rtol=1.e-6,atol=1.e-9)\n",
    "#solution = solve_ivp(lambda x,y:Steady_1D_spray_combust(x,y,params),xspan,ics,method='BDF',t_eval=xarr,\n",
    "#                     rtol=1.e-4,atol=1.e-7) # uncomment to try the BDF solver\n",
    "\n",
    "ctim1 = time.time()\n",
    "ctime = ctim1 - ctim0\n",
    "\n",
    "print(\" \")\n",
    "print(\"Solution required {:.2f} s\".format(ctime))\n",
    "\n",
    "# print \"solution\"\n",
    "solution"
   ]
  },
  {
   "cell_type": "markdown",
   "metadata": {},
   "source": [
    "Mass conservation warnings are generated in some of the intermediate steps in the solution sequence. Since the solver did not generate any warnings or error messages, these are not a concern, and the final solution is (presumably) accurate to within the prescribed error tolerances."
   ]
  },
  {
   "cell_type": "code",
   "execution_count": 14,
   "metadata": {},
   "outputs": [
    {
     "data": {
      "text/html": [
       "<div>\n",
       "<style scoped>\n",
       "    .dataframe tbody tr th:only-of-type {\n",
       "        vertical-align: middle;\n",
       "    }\n",
       "\n",
       "    .dataframe tbody tr th {\n",
       "        vertical-align: top;\n",
       "    }\n",
       "\n",
       "    .dataframe thead th {\n",
       "        text-align: right;\n",
       "    }\n",
       "</style>\n",
       "<table border=\"1\" class=\"dataframe\">\n",
       "  <thead>\n",
       "    <tr style=\"text-align: right;\">\n",
       "      <th></th>\n",
       "      <th>T_g</th>\n",
       "      <th>Phi_g</th>\n",
       "      <th>D</th>\n",
       "      <th>v_g</th>\n",
       "      <th>v_d</th>\n",
       "    </tr>\n",
       "  </thead>\n",
       "  <tbody>\n",
       "    <tr>\n",
       "      <th>0.000000e+00</th>\n",
       "      <td>3338.098194</td>\n",
       "      <td>0.450000</td>\n",
       "      <td>5.000000e-05</td>\n",
       "      <td>203.769144</td>\n",
       "      <td>10.000000</td>\n",
       "    </tr>\n",
       "    <tr>\n",
       "      <th>7.507999e-07</th>\n",
       "      <td>3338.315640</td>\n",
       "      <td>0.450133</td>\n",
       "      <td>4.999881e-05</td>\n",
       "      <td>203.800002</td>\n",
       "      <td>10.173275</td>\n",
       "    </tr>\n",
       "    <tr>\n",
       "      <th>1.501600e-05</th>\n",
       "      <td>3342.424252</td>\n",
       "      <td>0.452652</td>\n",
       "      <td>4.997611e-05</td>\n",
       "      <td>204.385649</td>\n",
       "      <td>13.465500</td>\n",
       "    </tr>\n",
       "    <tr>\n",
       "      <th>2.252400e-05</th>\n",
       "      <td>3343.334111</td>\n",
       "      <td>0.453213</td>\n",
       "      <td>4.997103e-05</td>\n",
       "      <td>204.516023</td>\n",
       "      <td>14.119609</td>\n",
       "    </tr>\n",
       "    <tr>\n",
       "      <th>6.006400e-05</th>\n",
       "      <td>3353.531630</td>\n",
       "      <td>0.459597</td>\n",
       "      <td>4.991350e-05</td>\n",
       "      <td>205.994010</td>\n",
       "      <td>22.441961</td>\n",
       "    </tr>\n",
       "    <tr>\n",
       "      <th>...</th>\n",
       "      <td>...</td>\n",
       "      <td>...</td>\n",
       "      <td>...</td>\n",
       "      <td>...</td>\n",
       "      <td>...</td>\n",
       "    </tr>\n",
       "    <tr>\n",
       "      <th>5.085666e-01</th>\n",
       "      <td>3120.711289</td>\n",
       "      <td>2.300000</td>\n",
       "      <td>1.000000e-14</td>\n",
       "      <td>485.561216</td>\n",
       "      <td>481.177821</td>\n",
       "    </tr>\n",
       "    <tr>\n",
       "      <th>5.356208e-01</th>\n",
       "      <td>3120.711289</td>\n",
       "      <td>2.300000</td>\n",
       "      <td>1.000000e-14</td>\n",
       "      <td>485.561216</td>\n",
       "      <td>481.177821</td>\n",
       "    </tr>\n",
       "    <tr>\n",
       "      <th>6.708917e-01</th>\n",
       "      <td>3120.711289</td>\n",
       "      <td>2.300000</td>\n",
       "      <td>1.000000e-14</td>\n",
       "      <td>485.561216</td>\n",
       "      <td>481.177821</td>\n",
       "    </tr>\n",
       "    <tr>\n",
       "      <th>6.949398e-01</th>\n",
       "      <td>3120.711289</td>\n",
       "      <td>2.300000</td>\n",
       "      <td>1.000000e-14</td>\n",
       "      <td>485.561216</td>\n",
       "      <td>481.177821</td>\n",
       "    </tr>\n",
       "    <tr>\n",
       "      <th>7.250000e-01</th>\n",
       "      <td>3120.711289</td>\n",
       "      <td>2.300000</td>\n",
       "      <td>1.000000e-14</td>\n",
       "      <td>485.561216</td>\n",
       "      <td>481.177821</td>\n",
       "    </tr>\n",
       "  </tbody>\n",
       "</table>\n",
       "<p>481 rows × 5 columns</p>\n",
       "</div>"
      ],
      "text/plain": [
       "                      T_g     Phi_g             D         v_g         v_d\n",
       "0.000000e+00  3338.098194  0.450000  5.000000e-05  203.769144   10.000000\n",
       "7.507999e-07  3338.315640  0.450133  4.999881e-05  203.800002   10.173275\n",
       "1.501600e-05  3342.424252  0.452652  4.997611e-05  204.385649   13.465500\n",
       "2.252400e-05  3343.334111  0.453213  4.997103e-05  204.516023   14.119609\n",
       "6.006400e-05  3353.531630  0.459597  4.991350e-05  205.994010   22.441961\n",
       "...                   ...       ...           ...         ...         ...\n",
       "5.085666e-01  3120.711289  2.300000  1.000000e-14  485.561216  481.177821\n",
       "5.356208e-01  3120.711289  2.300000  1.000000e-14  485.561216  481.177821\n",
       "6.708917e-01  3120.711289  2.300000  1.000000e-14  485.561216  481.177821\n",
       "6.949398e-01  3120.711289  2.300000  1.000000e-14  485.561216  481.177821\n",
       "7.250000e-01  3120.711289  2.300000  1.000000e-14  485.561216  481.177821\n",
       "\n",
       "[481 rows x 5 columns]"
      ]
     },
     "execution_count": 14,
     "metadata": {},
     "output_type": "execute_result"
    }
   ],
   "source": [
    "# print \"xDevelopment\"\n",
    "# recall that we can save this as a .csv file for subsequent plotting and analysis using Excel, for example,\n",
    "#   as we have seen in earlier tutorial Notebooks\n",
    "xDevelopment"
   ]
  },
  {
   "cell_type": "markdown",
   "metadata": {},
   "source": [
    "Note that we can use data in either \"solution\" or \"xDevelopment\" for droplet diameter D. The data in \"solution\" are saved at the $x$ intervals that were specified earlier, while the data in \"xDevelopment\" are saved at every call to the function \"Steady_1D_spray_combust\". The intervals at which data are saved can be changed for both of these, as desired."
   ]
  },
  {
   "cell_type": "code",
   "execution_count": 15,
   "metadata": {},
   "outputs": [
    {
     "data": {
      "image/png": "[encoded data removed]",
      "text/plain": [
       "<Figure size 432x288 with 1 Axes>"
      ]
     },
     "metadata": {
      "needs_background": "light"
     },
     "output_type": "display_data"
    }
   ],
   "source": [
    "# plot the x evolution of droplet diameter, normalized by the initial droplet diameter, using data in \"solution\"\n",
    "fig, ax = plt.subplots()\n",
    "ax.plot(solution.t*1000., solution.y[0,:]/D_0, label='D/D_0', ls='solid', color='red', lw=2)\n",
    "ax.set(xlabel='x (mm)',\n",
    "       ylabel='D/D_0 (-)',\n",
    "       title ='Normalized droplet diameter versus x')\n",
    "ax.legend(handlelength=4,loc='best')\n",
    "ax.grid(True)\n",
    "fig.savefig(\"DoverD0_vs_x.pdf\")"
   ]
  },
  {
   "cell_type": "code",
   "execution_count": 16,
   "metadata": {},
   "outputs": [
    {
     "data": {
      "image/png": "[encoded data removed]",
      "text/plain": [
       "<Figure size 432x288 with 1 Axes>"
      ]
     },
     "metadata": {
      "needs_background": "light"
     },
     "output_type": "display_data"
    }
   ],
   "source": [
    "# plot the x evolution of droplet diameter, normalized by the initial droplet diameter, using data in \"xDevelopment\"\n",
    "fig, ax = plt.subplots()\n",
    "ax.plot(xDevelopment.index*1000., xDevelopment['D']/D_0, label='D/D_0', ls='solid', color='red', lw=2)\n",
    "ax.set(xlabel='x (mm)',\n",
    "       ylabel='D/D_0 (-)',\n",
    "       title ='Normalized droplet diameter versus x')\n",
    "ax.legend(handlelength=4,loc='best')\n",
    "ax.grid(True)\n",
    "fig.savefig(\"DoverD0_vs_x_2.pdf\")"
   ]
  },
  {
   "cell_type": "markdown",
   "metadata": {},
   "source": [
    "The two figures are essentially the same, other than the \"spike\" in the latter one at a point immediately before the droplets have fully vaporized. The spike can be seen in \"xDevelopment\" and not in \"solution\", because in \"xDevelopment\" we have stored data on each call to \"Steady_1D_spray_combust\", while in \"solution\" we have stored data only at intervals corresponding to properly converged solutions.\n",
    "\n",
    "The results are very similar to those shown in Figure 10.19 of Turns 4th ed. for this value of the initial droplet diameter (50 micrometers). Here the vaporization appears to be a bit faster, for reaons that will be shown in subsequent figures."
   ]
  },
  {
   "cell_type": "code",
   "execution_count": 17,
   "metadata": {},
   "outputs": [
    {
     "data": {
      "image/png": "[encoded data removed]",
      "text/plain": [
       "<Figure size 432x288 with 1 Axes>"
      ]
     },
     "metadata": {
      "needs_background": "light"
     },
     "output_type": "display_data"
    }
   ],
   "source": [
    "# plot the x evolution of gas speed and droplet speed\n",
    "fig, ax = plt.subplots()\n",
    "ax.plot(xDevelopment.index*1000., xDevelopment['v_g'], label='gas',     ls='solid',  color='red',  lw=2)\n",
    "ax.plot(xDevelopment.index*1000., xDevelopment['v_d'], label='droplet', ls='dashed', color='blue', lw=2)\n",
    "ax.set(xlabel='x (mm)',\n",
    "       ylabel='Speed (m/s)',\n",
    "       title ='Gas and droplet speed versus x')\n",
    "ax.legend(handlelength=4,loc='best')\n",
    "ax.grid(True)\n",
    "fig.savefig(\"vg_vd_vs_x.pdf\")"
   ]
  },
  {
   "cell_type": "markdown",
   "metadata": {},
   "source": [
    "Again, there is an unphysical spike at a point immediately before the droplets have fully vaporized, because of the way that we chose to store the data. Aside from that, the results are similar to those shown in Figure 10.20 for this value of the initial droplet diameter (50 micrometers). The gas speed increases as a consequence of vaporization (higher gas mass flow rate) up to the point where all droplets have vaporized. The droplet speed starts at the prescribed initial value of 10 m/s, and increases as a consequence of drag until it is essentially equal to the gas speed. Again, droplet vaporization is somewhat faster here compared to the results shown in Chapter 10."
   ]
  },
  {
   "cell_type": "code",
   "execution_count": 18,
   "metadata": {},
   "outputs": [
    {
     "data": {
      "image/png": "[encoded data removed]",
      "text/plain": [
       "<Figure size 432x288 with 1 Axes>"
      ]
     },
     "metadata": {
      "needs_background": "light"
     },
     "output_type": "display_data"
    }
   ],
   "source": [
    "# plot the x evolution of gas temperature\n",
    "fig, ax = plt.subplots()\n",
    "ax.plot(xDevelopment.index*1000., xDevelopment['T_g'], label='T',     ls='solid',  color='red',  lw=2)\n",
    "ax.set(xlabel='x (mm)',\n",
    "       ylabel='Temperature (K)',\n",
    "       title ='Gas temperature versus x')\n",
    "ax.legend(handlelength=4,loc='best')\n",
    "ax.grid(True)\n",
    "fig.savefig(\"Tg_vs_x.pdf\")"
   ]
  },
  {
   "cell_type": "markdown",
   "metadata": {},
   "source": [
    "The general shape of the curve is similar to that shown in Figure 10.19 of Turns 4th ed. for this value of the initial droplet diameter (50 micrometers). The temperature first increases with $x$ as the equivalence ratio increases through its stoichiometric value, then decreases as a consequence of the lower equilibrium temperature for the final very-fuel-rich mixture, in addition to the reduction in temperature as a consequence of the enthalpy required to vaporize the liquid fuel.\n",
    "\n",
    "The temperatures are higher here compared to those shown in Figure 10. This is most likely a consequence of differences in thermodynamic property data used here versus there. Also, the equilibrium state that is computed here accounts for a larger set of species. It is presumably the higher gas temperatures computed here that are responsible for the faster vaporization."
   ]
  },
  {
   "cell_type": "code",
   "execution_count": 19,
   "metadata": {},
   "outputs": [
    {
     "data": {
      "image/png": "[encoded data removed]",
      "text/plain": [
       "<Figure size 432x288 with 1 Axes>"
      ]
     },
     "metadata": {
      "needs_background": "light"
     },
     "output_type": "display_data"
    }
   ],
   "source": [
    "# plot the x evolution of gas equivalence ratio\n",
    "fig, ax = plt.subplots()\n",
    "ax.plot(xDevelopment.index*1000., xDevelopment['Phi_g'], label='Phi',     ls='solid',  color='red',  lw=2)\n",
    "ax.set(xlabel='x (mm)',\n",
    "       ylabel='Equivalence ratio (-)',\n",
    "       title ='Gas equivalence ratio versus x')\n",
    "ax.legend(handlelength=4,loc='best')\n",
    "ax.grid(True)\n",
    "fig.savefig(\"Phigg_vs_x.pdf\")"
   ]
  },
  {
   "cell_type": "markdown",
   "metadata": {},
   "source": [
    "Again, the general shape of the curve is similar to that shown in Figure 10.19 of Turns 4th ed. for this value of the initial droplet diameter (50 micrometers). The gas-phase equivalence ratio is equal to 0.45 at x=0, the value that is given in the problem statement for the initial premixed fuel/oxidizer mixture. It then increases to a final value of 2.3 (the given overall equivalence ratio value) after all of the fuel has vaporized."
   ]
  },
  {
   "cell_type": "markdown",
   "metadata": {},
   "source": [
    "## 4. What's next"
   ]
  },
  {
   "cell_type": "markdown",
   "metadata": {},
   "source": [
    "You can rerun the model for different values of the initial droplet diamter, and compare the results with those shown in Figures 10.19 and 10.20 of Turns Chapter 10. The present results are largely consistent with those shown in Chapter 10, with the exception of the someshat higher gas temperatures and the resulting faster vaporization rates here compared to there. An \"elegant\" way to do that would be to encapsulate this full model in a function, and to run that function for multiple values of the initial droplet diameter.\n",
    "\n",
    "You can proceed similarly to perform parametric studies with variations in other physical parameters, to explore their influences: for example, different premixed and overall equivalence ratios, different initial temperatures and pressure, different fuel and/or oxidizer compositions, . . ."
   ]
  },
  {
   "cell_type": "code",
   "execution_count": null,
   "metadata": {},
   "outputs": [],
   "source": []
  }
 ],
 "metadata": {
  "kernelspec": {
   "display_name": "Python 3",
   "language": "python",
   "name": "python3"
  },
  "language_info": {
   "codemirror_mode": {
    "name": "ipython",
    "version": 3
   },
   "file_extension": ".py",
   "mimetype": "text/x-python",
   "name": "python",
   "nbconvert_exporter": "python",
   "pygments_lexer": "ipython3",
   "version": "3.7.6"
  }
 },
 "nbformat": 4,
 "nbformat_minor": 1
}
