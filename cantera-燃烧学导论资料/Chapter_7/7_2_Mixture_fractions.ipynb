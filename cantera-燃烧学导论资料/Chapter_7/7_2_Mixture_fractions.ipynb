{
 "cells": [
  {
   "cell_type": "markdown",
   "metadata": {},
   "source": [
    "# Mixture Fractions\n",
    "\n",
    "This Jupyter Notebook was written by Dan Haworth. It is intended as a tutorial to be used in parallel with Chapter 7 of the book \"An Introduction to Combustion: Concepts and Applications\" by Stephen R. Turns and Daniel C. Haworth. That book is referred to as \"Turns 4th ed.\" throughout this Notebook.\n",
    "\n",
    "This Notebook was last updated 19 February 2020.\n",
    "\n",
    "The objective of this tutorial is to review the basic concept and definition of a mixture fraction, to explain the relationship between mixture fraction and equivalence ratio, and to show how one can define a mixture fraction for a reacting ideal-gas mixture using Cantera's `Solution()` object. We will use the element and species data that are included in gri30.cti.\n",
    "\n",
    "The reader should be familiar with the material in the previous tutorial Notebook (7_1_Molecular_transport_properties) before working through this Notebook."
   ]
  },
  {
   "cell_type": "markdown",
   "metadata": {},
   "source": [
    "## 1. Concept and definitions"
   ]
  },
  {
   "cell_type": "markdown",
   "metadata": {},
   "source": [
    "As discussed in Chapter 7 of Turns 4th ed., a *mixture fraction* is an example of a *conserved scalar*: that is, the equation governing the spatial and temporal evolution of a mixture fraction in a combustion system contains no chemical source term. A mixture fraction is a particular conserved scalar that is defined such that its local value at any point in a chemically reacting mixture corresponds to the local mass fraction of mixture that originated from the fuel (versus from the oxidizer). As we will see later in Chapters 9 and 13, mixture fractions are useful in describing nonpremixed (or diffusion) flames. \n",
    "\n",
    "A mixture fraction can be written as a linear combination of species mass fractions. The particular linear combination that is needed is one such that: its value is equal to one in pure fuel; its value is equal to zero in pure oxidizer; and its net chemical source term is equal to zero. \n",
    "\n",
    "For the idealized case of a system that contains three generic species (fuel, oxidizer, and product), an appropriate definition for the local value of the mixture fraction $f$ in terms of the local values of the species mass fractions ($Y_{F}$, $Y_{Ox}$, and $Y_{Pr}$ for fuel, oxidizer, and product, respectively) is:\n",
    "\n",
    "$$ f \\equiv Y_F + \\frac{Y_{Pr}}{\\nu + 1} $$\n",
    "\n",
    "where $\\nu$ is the mass of oxidizer required per unit mass of fuel to form $ 1 + \\nu $ mass units of product. This definition satisfies the three key requirements, since the local fuel, oxidizer, and product mass fractions must sum to one everywhere: $Y_F$ and $Y_{Pr}$ are both equal to zero in pure oxidizer (where $Y_{Ox} = 1$), while $Y_{Ox}$ and $Y_{Pr}$ are both equal to zero in pure fuel (where $Y_{F} = 1$).\n",
    "\n",
    "A more general definition of a mixture fraction for a system that contains an arbitrary number of species $N_{spec}$ is in terms of appropriately normalized elemental mass fractions. As defined in tutorial Notebook 2_1_Mass_moles_molecular_weights_mixtures, the mass fraction of element $ \\alpha $ in a mixture containing $ N_{elem} $ elements and $N_{spec}$ species, denoted as $z_{\\alpha} $, is a linear combination of species mass fractions. Specifically:\n",
    "\n",
    "$$ z_{\\alpha} = W_{\\alpha} \\sum _ {i=1}^{N_{spec}} \\bigl( n_{i \\alpha} Y_i / MW_i \\bigr) $$\n",
    "\n",
    "where the notation is the same as that used in Notebook 2_1_Mass_moles_molecular_weights_mixtures. The equation for $z_{\\alpha}$ contains no chemical source term; element mass fractions are conserved in chemical reactions. It remains, then, to choose an appropriate element (or elements) and normalization such that the value is equal to one in pure fuel and to zero in pure oxidizer. For the case of a hydrocarbon fuel (a fuel molecule that contains only carbon and hydrogen atoms) and our standard approximation for air oxidizer (so that the oxidizer contains only oxygen and nitrogen atoms), it is evident that all carbon and all hydrogen in the system come from the fuel, while all oxygen and nitrogen in the system come from the oxidizer. For example, if reactions occur that eventually form $CO_2$ and $H_2O$, the carbon in the $CO_2$ and the hydrogen in the $H_2O$ originated from the fuel, while the oxygen in both came from the oxidizer. In that case, three possible definitions for a mixture fraction are as follows:\n",
    "\n",
    "$$ f = f_C \\equiv \\frac{z_{C}}{z_{C,fuel}} $$\n",
    "\n",
    "where $z_{C,fuel} $ is the mass fraction of carbon in the fuel molecule;\n",
    "\n",
    "$$ f = f_H \\equiv \\frac{z_{H}}{z_{H,fuel}} $$\n",
    "\n",
    "where $z_{H,fuel} $ is the mass fraction of hydrogen in the fuel molecule; or:\n",
    "\n",
    "$$ f = f _ {CH} \\equiv z_{C} + z_{H} $$\n",
    "\n",
    "where no further normalization is required, since $z_{C+H,fuel} = 1$. A somewhat more general definition is needed in cases where an element is present in both the fuel and in the oxidizer. In that case, a mixture fraction based on the elemental mass fraction for element $ \\alpha $ can be defined as:\n",
    "\n",
    "$$ f = f _ {\\alpha} \\equiv \\frac{z_{\\alpha} - z_{\\alpha,oxid}}{z_{\\alpha,fuel} - z_{\\alpha,oxid}} $$\n",
    "\n",
    "where $ z_{\\alpha,fuel} $ and $ z_{\\alpha,oxid} $ are the elemental mass fractions for element $ \\alpha $ in the fuel and in the oxidizer, respectively.\n",
    "\n",
    "In the case where all species diffuse at equal rates in the gas mixture (no differential diffusion), the local values of all elemental-mass-fraction-based mixture mixtures will be the same. In the more general case where different species diffuse at different rates, the values will be different for different elements. As we saw in tutorial Notebook 7_1_Molecular_transport_properties, different species do, in fact, diffuse at different rates. We will look at this, and at other aspects of mixture fractions, when we get to Chapter 9 (Laminar Diffusion Flames) and Chapter 13 (Turbulent Nonpremixed Flames) of Turns 4th ed. The advantages of introducing mixture fractions should become clearer when we get to that point."
   ]
  },
  {
   "cell_type": "markdown",
   "metadata": {},
   "source": [
    "## 2. Mixture fractions in Cantera"
   ]
  },
  {
   "cell_type": "markdown",
   "metadata": {},
   "source": [
    "Let's go ahead and define a gas mixture using gri30.cti and Cantera's `Solution()` object:"
   ]
  },
  {
   "cell_type": "code",
   "execution_count": 1,
   "metadata": {},
   "outputs": [
    {
     "name": "stdout",
     "output_type": "stream",
     "text": [
      "Running Cantera version: 2.4.0\n"
     ]
    }
   ],
   "source": [
    "# access modules\n",
    "import cantera as ct\n",
    "import numpy as np\n",
    "import matplotlib.pyplot as plt\n",
    "\n",
    "# report Cantera version\n",
    "print(\"Running Cantera version: {}\".format(ct.__version__))"
   ]
  },
  {
   "cell_type": "code",
   "execution_count": 2,
   "metadata": {},
   "outputs": [],
   "source": [
    "# define the gas mixture\n",
    "gas = ct.Solution('gri30.cti')"
   ]
  },
  {
   "cell_type": "markdown",
   "metadata": {},
   "source": [
    "As we saw in Notebook 2_1_Mass_moles_molecular_weights_mixtures, the [`elemental_mass_fraction()`](https://cantera.org/documentation/docs-2.4/sphinx/html/cython/thermo.html#cantera.ThermoPhase.elemental_mass_fraction) attribute can be used to access the elemental mass fractions of each element in the gas mixture:"
   ]
  },
  {
   "cell_type": "code",
   "execution_count": 3,
   "metadata": {},
   "outputs": [
    {
     "data": {
      "text/plain": [
       "(0.0, 1.0, 0.0, 0.0)"
      ]
     },
     "execution_count": 3,
     "metadata": {},
     "output_type": "execute_result"
    }
   ],
   "source": [
    "# print the elemental mass fractions of carbon, hydrogen, oxygen, and nitrogen in the gas mixture\n",
    "gas.elemental_mass_fraction('C'), gas.elemental_mass_fraction('H'), \\\n",
    "gas.elemental_mass_fraction('O'),gas.elemental_mass_fraction('N')"
   ]
  },
  {
   "cell_type": "markdown",
   "metadata": {},
   "source": [
    "Recall that the composition of \"gas\" is currently the default composition of 100% H2. So the elemental mass fraction of hydrogen in the gas mixture is equal to one, and the elemental mass fractions of all other elements are equal to zero.\n",
    "\n",
    "For the remainder of this tutorial, we will consider ethane (C2H6) fuel and use our standard approximation for air as our oxidizer. The temperature and pressure of the mixture are not relevant, for our purposes in this tutorial.\n",
    "\n",
    "We reset the gas mixture to correspond to pure fuel, for purposes of finding the elemental mass fractions of carbon and hydrogen in the fuel:"
   ]
  },
  {
   "cell_type": "code",
   "execution_count": 4,
   "metadata": {},
   "outputs": [
    {
     "name": "stdout",
     "output_type": "stream",
     "text": [
      "\n",
      "  gri30:\n",
      "\n",
      "       temperature             300  K\n",
      "          pressure          101325  Pa\n",
      "           density         1.22149  kg/m^3\n",
      "  mean mol. weight         30.0696  amu\n",
      "\n",
      "                          1 kg            1 kmol\n",
      "                       -----------      ------------\n",
      "          enthalpy     -2.7853e+06       -8.375e+07     J\n",
      "   internal energy     -2.8683e+06       -8.625e+07     J\n",
      "           entropy          7633.8        2.295e+05     J/K\n",
      "    Gibbs function     -5.0755e+06       -1.526e+08     J\n",
      " heat capacity c_p          1753.2        5.272e+04     J/K\n",
      " heat capacity c_v          1476.7         4.44e+04     J/K\n",
      "\n",
      "                           X                 Y          Chem. Pot. / RT\n",
      "                     -------------     ------------     ------------\n",
      "              C2H6              1                1         -61.1855\n",
      "     [  +52 minor]              0                0\n",
      "\n"
     ]
    }
   ],
   "source": [
    "gas.TPX = None , None , {'C2H6':1.0}\n",
    "\n",
    "gas()"
   ]
  },
  {
   "cell_type": "code",
   "execution_count": 5,
   "metadata": {},
   "outputs": [
    {
     "data": {
      "text/plain": [
       "(0.7988788691849985, 0.20112113081500146)"
      ]
     },
     "execution_count": 5,
     "metadata": {},
     "output_type": "execute_result"
    }
   ],
   "source": [
    "# store and print the elemental mass fractions of carbon and hydrogen in the C2H6 fuel\n",
    "z_Cfuel = gas.elemental_mass_fraction('C')\n",
    "z_Hfuel = gas.elemental_mass_fraction('H')\n",
    "\n",
    "z_Cfuel , z_Hfuel"
   ]
  },
  {
   "cell_type": "markdown",
   "metadata": {},
   "source": [
    "These are very close to the values that one would get using approximate atomic weights for the elements: $ z_{C,fuel} \\approx 2 \\times 12 / ( 2 \\times 12 + 6 \\times 1 ) = 0.80 $ and $ z_{H,fuel} \\approx 6 \\times 1 / ( 2 \\times 12 + 6 \\times 1 ) = 0.20 $."
   ]
  },
  {
   "cell_type": "markdown",
   "metadata": {},
   "source": [
    "Now let's reset the composition to correspond to a stoichiometric mixture of ethane (C2H6) and air, using our standard approximation for air:"
   ]
  },
  {
   "cell_type": "code",
   "execution_count": 6,
   "metadata": {},
   "outputs": [
    {
     "name": "stdout",
     "output_type": "stream",
     "text": [
      "\n",
      "  gri30:\n",
      "\n",
      "       temperature             300  K\n",
      "          pressure          101325  Pa\n",
      "           density         1.17478  kg/m^3\n",
      "  mean mol. weight         28.9198  amu\n",
      "\n",
      "                          1 kg            1 kmol\n",
      "                       -----------      ------------\n",
      "          enthalpy      -1.622e+05       -4.691e+06     J\n",
      "   internal energy     -2.4845e+05       -7.185e+06     J\n",
      "           entropy            6998        2.024e+05     J/K\n",
      "    Gibbs function     -2.2616e+06        -6.54e+07     J\n",
      " heat capacity c_p          1053.8        3.048e+04     J/K\n",
      " heat capacity c_v          766.32        2.216e+04     J/K\n",
      "\n",
      "                           X                 Y          Chem. Pot. / RT\n",
      "                     -------------     ------------     ------------\n",
      "                O2       0.198188         0.219289         -26.2923\n",
      "              C2H6      0.0566251        0.0588766         -64.0568\n",
      "                N2       0.745187         0.721835         -23.3272\n",
      "     [  +50 minor]              0                0\n",
      "\n"
     ]
    }
   ],
   "source": [
    "# set the gas mixture to a stoichiometric mixture of ethane and air\n",
    "fuel = 'C2H6'\n",
    "air  = {'O2':1.0, 'N2':3.76}\n",
    "phi  = 1.0\n",
    "gas.set_equivalence_ratio(phi,fuel,air)\n",
    "\n",
    "# print the gas mixture thermochemical state\n",
    "gas()"
   ]
  },
  {
   "cell_type": "markdown",
   "metadata": {},
   "source": [
    "Note that the mass fraction of fuel in the stoichiometric fuel-air mixture is approximately 0.0589. By definition, then, this is the value of the mixture fraction in a stoichiometric mixture of C2H6 and air: $ f_{stoich} = 0.0589 $.\n",
    "\n",
    "Now compute three different values for the mixture fraction, as defined in Section 1 above:"
   ]
  },
  {
   "cell_type": "code",
   "execution_count": 7,
   "metadata": {},
   "outputs": [
    {
     "data": {
      "text/plain": [
       "(0.05887663098913928, 0.05887663098913927, 0.05887663098913928)"
      ]
     },
     "execution_count": 7,
     "metadata": {},
     "output_type": "execute_result"
    }
   ],
   "source": [
    "# compute and print three different elemental-mass-fraction-based mixture fractions\n",
    "f_C  = gas.elemental_mass_fraction('C') / z_Cfuel\n",
    "f_H  = gas.elemental_mass_fraction('H') / z_Hfuel\n",
    "f_CH = gas.elemental_mass_fraction('C') + gas.elemental_mass_fraction('H')\n",
    "\n",
    "f_C , f_H , f_CH"
   ]
  },
  {
   "cell_type": "markdown",
   "metadata": {},
   "source": [
    "All three values are the same, as they must be.\n",
    "\n",
    "Now reset the gas mixture composition to correspond to equilibrium products of constant-pressure-adiabatic combustion, and recompute the mixture-fraction values:"
   ]
  },
  {
   "cell_type": "code",
   "execution_count": 8,
   "metadata": {},
   "outputs": [
    {
     "name": "stdout",
     "output_type": "stream",
     "text": [
      "\n",
      "  gri30:\n",
      "\n",
      "       temperature          2259.6  K\n",
      "          pressure          101325  Pa\n",
      "           density        0.150333  kg/m^3\n",
      "  mean mol. weight         27.8743  amu\n",
      "\n",
      "                          1 kg            1 kmol\n",
      "                       -----------      ------------\n",
      "          enthalpy      -1.622e+05       -4.521e+06     J\n",
      "   internal energy      -8.362e+05       -2.331e+07     J\n",
      "           entropy          9758.2         2.72e+05     J/K\n",
      "    Gibbs function     -2.2212e+07       -6.191e+08     J\n",
      " heat capacity c_p          1488.2        4.148e+04     J/K\n",
      " heat capacity c_v          1189.9        3.317e+04     J/K\n",
      "\n",
      "                           X                 Y          Chem. Pot. / RT\n",
      "                     -------------     ------------     ------------\n",
      "                H2     0.00346831       0.00025083         -25.5386\n",
      "                 H    0.000460984      1.66693e-05         -12.7693\n",
      "                 O    0.000292645      0.000167974         -17.1951\n",
      "                O2     0.00561035       0.00644051         -34.3901\n",
      "                OH     0.00320194       0.00195365         -29.9643\n",
      "               H2O       0.158434         0.102397         -42.7336\n",
      "               HO2    5.98268e-07      7.08427e-07         -47.1594\n",
      "              H2O2    4.76267e-08      5.81184e-08         -59.9287\n",
      "                CO       0.011672         0.011729         -38.4612\n",
      "               CO2      0.0974841         0.153915         -55.6563\n",
      "               HCO    1.14553e-09      1.19255e-09         -51.2305\n",
      "              CH2O    1.64711e-11      1.77427e-11         -63.9998\n",
      "                 N    2.12024e-08      1.06541e-08         -13.8413\n",
      "                NH     3.1152e-09      1.67803e-09         -26.6106\n",
      "               NH2    1.06135e-09       6.1008e-10         -39.3799\n",
      "               NH3    2.44115e-09      1.49149e-09         -52.1492\n",
      "               NNH    9.18595e-10      9.56399e-10          -40.452\n",
      "                NO     0.00225453       0.00242696         -31.0364\n",
      "               NO2    4.35517e-07      7.18806e-07         -48.2315\n",
      "               N2O    1.20246e-07      1.89866e-07         -44.8778\n",
      "               HNO    3.99463e-08       4.4446e-08         -43.8057\n",
      "                CN    1.25965e-13      1.17576e-13         -35.1075\n",
      "               HCN    2.74668e-11      2.66306e-11         -47.8768\n",
      "              HOCN    1.57343e-12      2.42866e-12         -65.0718\n",
      "              HNCO    4.95119e-10      7.64237e-10         -65.0718\n",
      "               NCO    2.47794e-11      3.73519e-11         -52.3025\n",
      "                N2        0.71712         0.720701         -27.6827\n",
      "     [  +26 minor]    4.29325e-16      4.30846e-16\n",
      "\n"
     ]
    }
   ],
   "source": [
    "# reset the gas mixture to correspond to equilibrium products of constant-pressure adiabatic combustion\n",
    "gas.equilibrate('HP')\n",
    "\n",
    "# print the gas mixture thermochemical state\n",
    "gas()"
   ]
  },
  {
   "cell_type": "code",
   "execution_count": 9,
   "metadata": {},
   "outputs": [
    {
     "data": {
      "text/plain": [
       "(0.05887663099016989, 0.058876630989412246, 0.05887663099001751)"
      ]
     },
     "execution_count": 9,
     "metadata": {},
     "output_type": "execute_result"
    }
   ],
   "source": [
    "# compute and print three different elemental-mass-fraction-based mixture fractions\n",
    "f_C  = gas.elemental_mass_fraction('C') / z_Cfuel\n",
    "f_H  = gas.elemental_mass_fraction('H') / z_Hfuel\n",
    "f_CH = gas.elemental_mass_fraction('C') + gas.elemental_mass_fraction('H')\n",
    "\n",
    "f_C , f_H , f_CH"
   ]
  },
  {
   "cell_type": "markdown",
   "metadata": {},
   "source": [
    "Again, the three values are the same, and they are equal to the values in the initial fuel-air mixture. Elemental mass fractions and mixture fractions do not change as a result of chemical reactions."
   ]
  },
  {
   "cell_type": "markdown",
   "metadata": {},
   "source": [
    "Finally, we note that Cantera does have a built-in function that returns the value of an element-mass-fraction based mixture fraction: the [`mixture_fraction()`](https://cantera.org/documentation/docs-2.4/sphinx/html/cython/onedim.html#cantera.CounterflowDiffusionFlame.mixture_fraction) attribute. However, to use this function, it is necessary to tell Cantera what the fuel is and what the oxidizer is, so that it can do the appropriate normalization. The attribute `mixture_fraction()` is not even defined at this point in our Notebook, as you can verify by trying to access it. It is defined only when we define an appropriate flame object, such as a [`CounterflowDiffusionFlame()`](https://cantera.org/documentation/docs-2.4/sphinx/html/cython/onedim.html#counterflowdiffusionflame). We will do that when we get to Chapter 9."
   ]
  },
  {
   "cell_type": "markdown",
   "metadata": {},
   "source": [
    "## 3. Relationship to equivalence ratio"
   ]
  },
  {
   "cell_type": "markdown",
   "metadata": {},
   "source": [
    "The equivalence ratio $ \\Phi $ was defined in Chapter 2 of Turns 4th ed. (see also tutorial Notebook 2_2_Stoichiometry) in terms of the fuel-to-oxidizer mass ratio (fuel-to-air ratio $(F/A)$, for the case of air oxidizer) as:\n",
    "\n",
    "$$ \\Phi \\equiv \\frac{(F/A)}{(F/A)_{stoich}} $$\n",
    "\n",
    "where $(F/A)_{stoich}$ is the stoichiometric fuel-to-air ratio. The local value of the fuel-to-air ratio $(F/A)$ and the local value of the mixture fraction $f$ are related by:\n",
    "\n",
    "$$ (F/A) = \\frac{f}{1-f} $$\n",
    "\n",
    "Note that $(F/A)=0$ for $f$ = 0 (pure air), $(F/A)\\rightarrow \\infty$ for $f$ = 1 (pure fuel), and $ (F/A)_{stoich} = \\frac{f_{stoic}}{1-f_{stoich}}$, where $ f_{stoich} $ is the value of the fuel mass fraction in a stoichiometric fuel-air mixture: $ f_{stoich} = \\bigl( F/(F+A) \\bigr) _ {stoich}$. It then follows that:\n",
    "\n",
    "$$ \\Phi = \\frac{f ( 1 - f_{stoich} )}{f_{stoich} ( 1-f) } $$\n",
    "\n",
    "This is consistent with the limiting cases: $ \\Phi = 0 $ for $ f = 0 $, $ \\Phi \\rightarrow \\infty $ for $ f = 1 $, and $ \\Phi = 1 $ for $ f = f_{stoich} $.\n",
    "\n",
    "Let's plot the relationship between $ \\Phi $ and $f$ for ethane-air reactant mixtures:"
   ]
  },
  {
   "cell_type": "code",
   "execution_count": 10,
   "metadata": {},
   "outputs": [],
   "source": [
    "# compute equivalence ratio as a function of mixture fraction\n",
    "fmin = 0.\n",
    "fmax = 1.\n",
    "finc = 0.01\n",
    "farr = np.arange(fmin,fmax,finc)\n",
    "nf   = len(farr)\n",
    "phiarr = np.zeros(nf)\n",
    "\n",
    "# f_st is the stoichiometric mixture-fraction value, which we computed earlier\n",
    "f_st = f_C\n",
    "\n",
    "for i, f in enumerate(farr):\n",
    "    phiarr[i] = f*( 1. - f_st ) / f_st / ( 1. - f )"
   ]
  },
  {
   "cell_type": "code",
   "execution_count": 11,
   "metadata": {},
   "outputs": [
    {
     "data": {
      "image/png": "[encoded data removed]",
      "text/plain": [
       "<Figure size 432x288 with 1 Axes>"
      ]
     },
     "metadata": {
      "needs_background": "light"
     },
     "output_type": "display_data"
    }
   ],
   "source": [
    "# plot equivalence ratio as a function of mixture fraction\n",
    "fig, ax = plt.subplots()\n",
    "ax.plot(farr, phiarr, label='Phi',   lw=2)\n",
    "ax.set(xlabel='Mixture fraction (-)',\n",
    "       ylabel='Equivalence ratio (-)',\n",
    "       title ='Equivalence ratio versus mixture fraction')\n",
    "#ax.legend(handlelength=4,loc='best')\n",
    "ax.grid(True)\n",
    "fig.savefig(\"Phi_vs_f.pdf\")"
   ]
  },
  {
   "cell_type": "markdown",
   "metadata": {},
   "source": [
    "This scaling obscures the behavior for stoichiometric and fuel-lean reactant mixtures, but it serves to make one important point regarding mixture fractions versus equivalence ratios: mixture fraction is limited to the range 0-1, while equivalence ratio ranges from 0 to $\\infty$. \n",
    "\n",
    "Replot for a narrower range of equivalence ratios around $ \\Phi = 1 $:"
   ]
  },
  {
   "cell_type": "code",
   "execution_count": 12,
   "metadata": {},
   "outputs": [
    {
     "data": {
      "image/png": "[encoded data removed]",
      "text/plain": [
       "<Figure size 432x288 with 1 Axes>"
      ]
     },
     "metadata": {
      "needs_background": "light"
     },
     "output_type": "display_data"
    }
   ],
   "source": [
    "# plot equivalence ratio as a function of mixture fraction\n",
    "fig, ax = plt.subplots()\n",
    "ax.plot(farr, phiarr, label='Phi',   lw=2)\n",
    "ax.set(xlim=(0.,0.1),\n",
    "       ylim=(0.,2.0),\n",
    "       xlabel='Mixture fraction (-)',\n",
    "       ylabel='Equivalence ratio (-)',\n",
    "       title ='Equivalence ratio versus mixture fraction')\n",
    "#ax.legend(handlelength=4,loc='best')\n",
    "ax.grid(True)\n",
    "fig.savefig(\"Phi_vs_f_zoomed.pdf\")"
   ]
  },
  {
   "cell_type": "markdown",
   "metadata": {},
   "source": [
    "Over this range, the relationship between $\\Phi$ and $f$ is close to (but not exactly) linear. Note that $\\Phi=1$ where $f=f_{stoich}$. As we have seen, the value of $ f_{stoich} $ varies depending on the fuel and oxidizer that are considered, but for most hydrocarbon-fuel/air-oxidizer mixtures, the value of $ f_{stoich} $ remains in a relatively narrow range around 0.06.\n",
    "\n",
    "The equivalence ratio $ \\Phi $ normally is defined for a particular unburned fuel-oxidizer reactant mixture. From this development, it can be seen that the value of $\\Phi$ (or of $f$) does not change as a result of chemical reaction: its value in the equilibrium products of combustion is equal to its value in the unburned reactants, and to its value at any intermediate partially burned state. The local value of $f$ tells us something about the state of the mixing between fuel an oxidizer, then, rather than something about the degree of completeness of chemical reactions. \n",
    "\n",
    "The mixture fraction provides no new information in a premixed system, compared to quantities that we have introduced earlier. Mixture fractions are useful principally in nonpremixed systems, as we will see when we get to Chapters 9 (Laminar Diffusion Flames) and 13 (Turbulent Nonpremixed Flames)."
   ]
  },
  {
   "cell_type": "code",
   "execution_count": null,
   "metadata": {},
   "outputs": [],
   "source": []
  }
 ],
 "metadata": {
  "kernelspec": {
   "display_name": "Python 3 (ipykernel)",
   "language": "python",
   "name": "python3"
  },
  "language_info": {
   "codemirror_mode": {
    "name": "ipython",
    "version": 3
   },
   "file_extension": ".py",
   "mimetype": "text/x-python",
   "name": "python",
   "nbconvert_exporter": "python",
   "pygments_lexer": "ipython3",
   "version": "3.10.6"
  }
 },
 "nbformat": 4,
 "nbformat_minor": 1
}
