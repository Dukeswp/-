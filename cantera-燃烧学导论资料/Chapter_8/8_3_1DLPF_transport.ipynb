{
 "cells": [
  {
   "cell_type": "markdown",
   "metadata": {},
   "source": [
    "# One-Dimensional Laminar Premixed Flames: Molecular Transport\n",
    "\n",
    "This Jupyter Notebook was written by Dan Haworth. It is intended as a tutorial to be used in parallel with Chapter 8 of the book \"An Introduction to Combustion: Concepts and Applications\" by Stephen R. Turns and Daniel C. Haworth. That book is referred to as \"Turns 4th ed.\" throughout this Notebook.\n",
    "\n",
    "This Notebook was last updated 19 February 2020.\n",
    "\n",
    "The objective of this tutorial is to compare laminar flame speeds and flame structures computed using different species molecular transport models. We will use the thermodynamic properties, reaction mechanism, and molecular transport properties that are included in gri30.cti.\n",
    "\n",
    "The reader should be familiar with the material in the previous tutorial Notebook (8_2_1DLPF_mechanisms) before working through this Notebook."
   ]
  },
  {
   "cell_type": "markdown",
   "metadata": {},
   "source": [
    "## 1. Motivation and scope"
   ]
  },
  {
   "cell_type": "markdown",
   "metadata": {},
   "source": [
    "In the previous tutoral Notebook, we looked at the influence of changing the reaction mechanism on computed flame speeds and flame structure, for a fixed molecular transport model. Here we look at the influence of changing the molecular transport model (specifically, the model used for ordinary species diffusion), for a fixed reaction mechanism. See Chapter 7 of Turns 4th ed., and tutorial Notebook 7_1_Molecular_transport_properties."
   ]
  },
  {
   "cell_type": "markdown",
   "metadata": {},
   "source": [
    "## 2. Cantera model"
   ]
  },
  {
   "cell_type": "markdown",
   "metadata": {},
   "source": [
    "We'll start by defining gas mixtures and flames based on three different transport models."
   ]
  },
  {
   "cell_type": "code",
   "execution_count": 1,
   "metadata": {},
   "outputs": [
    {
     "name": "stdout",
     "output_type": "stream",
     "text": [
      "Running Cantera version: 2.4.0\n"
     ]
    }
   ],
   "source": [
    "# import modules\n",
    "import cantera as ct\n",
    "import numpy as np\n",
    "import matplotlib.pyplot as plt\n",
    "import time\n",
    "\n",
    "# print Cantera version\n",
    "print(\"Running Cantera version: {}\".format(ct.__version__))"
   ]
  },
  {
   "cell_type": "code",
   "execution_count": 2,
   "metadata": {},
   "outputs": [],
   "source": [
    "# define the gas mixtures\n",
    "gas1 = ct.Solution('gri30.cti')\n",
    "gas2 = ct.Solution('gri30.cti')\n",
    "gas3 = ct.Solution('gri30.cti')"
   ]
  },
  {
   "cell_type": "code",
   "execution_count": 3,
   "metadata": {},
   "outputs": [],
   "source": [
    "# specify the unburned reactant mixture thermochemical state\n",
    "# here we consider a stoichiometric mixture of CH4 and air at ambient pressure and temperature\n",
    "T_u  = 300.       # (K)\n",
    "P_u  = ct.one_atm # (Pa)\n",
    "fuel = 'CH4'\n",
    "air  = {'O2':1.0, 'N2':3.76}\n",
    "phi  = 1.0\n",
    "\n",
    "gas1.TP = T_u, P_u\n",
    "gas1.set_equivalence_ratio(phi, fuel, air)\n",
    "\n",
    "gas2.TP = T_u, P_u\n",
    "gas2.set_equivalence_ratio(phi, fuel, air)\n",
    "\n",
    "gas3.TP = T_u, P_u\n",
    "gas3.set_equivalence_ratio(phi, fuel, air)"
   ]
  },
  {
   "cell_type": "markdown",
   "metadata": {},
   "source": [
    "For future reference, we compute the constant-pressure adiabatic equilibrium state for gas1. It is easily confirmed that the equilibrium states are identical for gas2 and for gas3, as they must be."
   ]
  },
  {
   "cell_type": "code",
   "execution_count": 4,
   "metadata": {},
   "outputs": [
    {
     "name": "stdout",
     "output_type": "stream",
     "text": [
      "\n",
      "  gri30:\n",
      "\n",
      "       temperature         2225.52  K\n",
      "          pressure          101325  Pa\n",
      "           density        0.150193  kg/m^3\n",
      "  mean mol. weight         27.4283  amu\n",
      "\n",
      "                          1 kg            1 kmol\n",
      "                       -----------      ------------\n",
      "          enthalpy     -2.5459e+05       -6.983e+06     J\n",
      "   internal energy     -9.2922e+05       -2.549e+07     J\n",
      "           entropy          9876.6        2.709e+05     J/K\n",
      "    Gibbs function     -2.2235e+07       -6.099e+08     J\n",
      " heat capacity c_p          1514.3        4.154e+04     J/K\n",
      " heat capacity c_v          1211.2        3.322e+04     J/K\n",
      "\n",
      "                           X                 Y          Chem. Pot. / RT\n",
      "                     -------------     ------------     ------------\n",
      "                H2     0.00360453      0.000264919           -25.45\n",
      "                 H    0.000390347      1.43445e-05          -12.725\n",
      "                 O    0.000215659      0.000125797          -17.264\n",
      "                O2     0.00462224       0.00539245         -34.5281\n",
      "                OH     0.00287541       0.00178294         -29.9891\n",
      "               H2O       0.183467         0.120503         -42.7141\n",
      "               HO2    4.98923e-07      6.00395e-07         -47.2531\n",
      "              H2O2    4.57325e-08      5.67142e-08         -59.9781\n",
      "                CO     0.00898794       0.00917867         -38.7592\n",
      "               CO2      0.0853642          0.13697         -56.0232\n",
      "               HCO    7.94976e-10      8.41061e-10         -51.4842\n",
      "              CH2O     1.3195e-11      1.44448e-11         -64.2092\n",
      "                 N    1.42454e-08      7.27465e-09         -13.8209\n",
      "                NH    2.35973e-09      1.29175e-09         -26.5459\n",
      "               NH2    9.40915e-10      5.49648e-10         -39.2709\n",
      "               NH3    2.68651e-09      1.66808e-09          -51.996\n",
      "               NNH    7.55585e-10       7.9947e-10         -40.3668\n",
      "                NO     0.00188821       0.00206567         -31.0849\n",
      "               NO2    3.46282e-07      5.80819e-07          -48.349\n",
      "               N2O    1.00187e-07      1.60766e-07         -44.9058\n",
      "               HNO    3.36635e-08      3.80644e-08           -43.81\n",
      "                CN    6.77401e-14      6.42564e-14          -35.316\n",
      "               HCN    1.93065e-11      1.90231e-11          -48.041\n",
      "              HOCN    1.13116e-12      1.77437e-12         -65.3051\n",
      "              HNCO    3.86462e-10      6.06219e-10         -65.3051\n",
      "               NCO    1.54384e-11      2.36499e-11           -52.58\n",
      "                N2       0.708584           0.7237         -27.6418\n",
      "     [  +26 minor]    2.81445e-16       2.8569e-16\n",
      "\n"
     ]
    }
   ],
   "source": [
    "gas1.equilibrate('HP')  # compute the constant-pressure adiabatic equilibrium state for gas1\n",
    "gas1()                  # print the full equilibrium state for gas1"
   ]
  },
  {
   "cell_type": "code",
   "execution_count": 5,
   "metadata": {},
   "outputs": [],
   "source": [
    "# reset gas1 back to the desired reactant mixture state\n",
    "gas1.TP = T_u, P_u\n",
    "gas1.set_equivalence_ratio(phi, fuel, air)"
   ]
  },
  {
   "cell_type": "markdown",
   "metadata": {},
   "source": [
    "We will use Cantera's [`FreeFlame()`](https://cantera.org/documentation/docs-2.4/sphinx/html/cython/onedim.html#freeflame) object to define the flame, as we have done in the previous two tutorial Notebooks."
   ]
  },
  {
   "cell_type": "code",
   "execution_count": 6,
   "metadata": {},
   "outputs": [],
   "source": [
    "# specify the initial width of the 1D computational domain\n",
    "width = 0.015 # (m)\n",
    "\n",
    "# create the flame objects by filling the computational domain with the desired gas mixture\n",
    "flame1 = ct.FreeFlame(gas1, width=width)\n",
    "flame2 = ct.FreeFlame(gas2, width=width)\n",
    "flame3 = ct.FreeFlame(gas3, width=width)\n",
    "\n",
    "# specify numerical parameters used to control local grid refinement\n",
    "flame1.set_refine_criteria(ratio=3, slope=0.1, curve=0.1)\n",
    "flame2.set_refine_criteria(ratio=3, slope=0.1, curve=0.1)\n",
    "flame3.set_refine_criteria(ratio=3, slope=0.1, curve=0.1)\n",
    "\n",
    "# specify the transport model to use for each flame\n",
    "flame1.transport_model = \"UnityLewis\"\n",
    "flame2.transport_model = \"Mix\"\n",
    "flame3.transport_model = \"Multi\"\n",
    "\n",
    "# specify the level of output desired\n",
    "loglevel = 1"
   ]
  },
  {
   "cell_type": "code",
   "execution_count": 7,
   "metadata": {},
   "outputs": [
    {
     "data": {
      "text/plain": [
       "('UnityLewis', 'Mix', 'Multi')"
      ]
     },
     "execution_count": 7,
     "metadata": {},
     "output_type": "execute_result"
    }
   ],
   "source": [
    "# print the transport model to be used with each flame\n",
    "flame1.transport_model , flame2.transport_model , flame3.transport_model"
   ]
  },
  {
   "cell_type": "markdown",
   "metadata": {},
   "source": [
    "Now compute the flame speeds and flame structures for the three flames, and save the computational time required for each:"
   ]
  },
  {
   "cell_type": "code",
   "execution_count": 8,
   "metadata": {},
   "outputs": [
    {
     "name": "stdout",
     "output_type": "stream",
     "text": [
      "\n",
      "..............................................................................\n",
      "Attempt Newton solution of steady-state problem...    failure. \n",
      "Take 10 timesteps     2.136e-05      5.407\n",
      "Attempt Newton solution of steady-state problem...    failure. \n",
      "Take 10 timesteps     0.0003649       4.32\n",
      "Attempt Newton solution of steady-state problem...    failure. \n",
      "Take 10 timesteps      0.009352      3.366\n",
      "Attempt Newton solution of steady-state problem...    failure. \n",
      "Take 10 timesteps        0.1598     0.6347\n",
      "Attempt Newton solution of steady-state problem...    success.\n",
      "\n",
      "Problem solved on [9] point grid(s).\n",
      "\n",
      "..............................................................................\n",
      "##############################################################################\n",
      "Refining grid in flame.\n",
      "    New points inserted after grid points 0 1 2 3 4 5 6 7 \n",
      "    to resolve C C2H2 C2H3 C2H4 C2H5 C2H6 C3H8 CH CH2 CH2(S) CH2CHO CH2CO CH2O CH2OH CH3 CH3CHO CH3O CH3OH CH4 CO CO2 H H2 H2O H2O2 HCCO HCCOH HCN HCNO HCO HNCO HO2 N N2 N2O NCO NH NH2 NH3 NO NO2 O O2 OH T u \n",
      "##############################################################################\n",
      "\n",
      "..............................................................................\n",
      "Attempt Newton solution of steady-state problem...    failure. \n",
      "Take 10 timesteps     5.695e-05      5.683\n",
      "Attempt Newton solution of steady-state problem...    failure. \n",
      "Take 10 timesteps     0.0009731      4.251\n",
      "Attempt Newton solution of steady-state problem...    failure. \n",
      "Take 10 timesteps     3.653e-05      6.006\n",
      "Attempt Newton solution of steady-state problem...    failure. \n",
      "Take 10 timesteps     7.802e-05      5.513\n",
      "Attempt Newton solution of steady-state problem...    success.\n",
      "\n",
      "Problem solved on [17] point grid(s).\n",
      "\n",
      "..............................................................................\n",
      "##############################################################################\n",
      "Refining grid in flame.\n",
      "    New points inserted after grid points 2 3 4 5 6 7 8 9 10 \n",
      "    to resolve C C2H C2H2 C2H3 C2H4 C2H5 C2H6 C3H7 C3H8 CH CH2 CH2(S) CH2CHO CH2CO CH2O CH2OH CH3 CH3CHO CH3O CH3OH CH4 CO CO2 H H2 H2O H2O2 HCCO HCCOH HCN HCNO HCO HNCO HO2 N N2 N2O NCO NH NH3 NO NO2 O O2 OH T u \n",
      "##############################################################################\n",
      "\n",
      "..............................................................................\n",
      "Attempt Newton solution of steady-state problem...    failure. \n",
      "Take 10 timesteps     0.0001139      5.348\n",
      "Attempt Newton solution of steady-state problem...    failure. \n",
      "Take 10 timesteps     4.055e-05      6.111\n",
      "Attempt Newton solution of steady-state problem...    failure. \n",
      "Take 10 timesteps     0.0006928      4.184\n",
      "Attempt Newton solution of steady-state problem...    success.\n",
      "\n",
      "Problem solved on [26] point grid(s).\n",
      "\n",
      "..............................................................................\n",
      "##############################################################################\n",
      "Refining grid in flame.\n",
      "    New points inserted after grid points 1 6 7 8 9 10 11 12 13 14 15 \n",
      "    to resolve C C2H C2H2 C2H3 C2H4 C2H5 C2H6 C3H7 C3H8 CH CH2 CH2(S) CH2CHO CH2CO CH2O CH2OH CH3 CH3CHO CH3O CH3OH CH4 CO CO2 H H2 H2O H2O2 HCCO HCCOH HCN HCNO HCO HNCO HO2 N N2 N2O NCO NH NH2 NH3 NO NO2 O O2 OH T point 1 u \n",
      "##############################################################################\n",
      "\n",
      "..............................................................................\n",
      "Attempt Newton solution of steady-state problem...    success.\n",
      "\n",
      "Problem solved on [37] point grid(s).\n",
      "\n",
      "..............................................................................\n",
      "##############################################################################\n",
      "Refining grid in flame.\n",
      "    New points inserted after grid points 6 10 11 12 13 14 15 16 17 18 19 20 21 23 24 \n",
      "    to resolve C C2H C2H2 C2H3 C2H4 C2H5 C2H6 C3H7 C3H8 CH CH2 CH2(S) CH2CHO CH2CO CH2O CH2OH CH3 CH3CHO CH3O CH3OH CH4 CO CO2 H H2 H2O H2O2 HCCO HCCOH HCN HCNO HCO HNCO HO2 N N2 NCO NH NH2 NH3 NO NO2 O O2 OH T point 6 u \n",
      "##############################################################################\n",
      "\n",
      "..............................................................................\n",
      "Attempt Newton solution of steady-state problem...    success.\n",
      "\n",
      "Problem solved on [52] point grid(s).\n",
      "\n",
      "..............................................................................\n",
      "##############################################################################\n",
      "Refining grid in flame.\n",
      "    New points inserted after grid points 14 15 16 17 18 19 20 21 22 23 24 25 26 27 28 29 30 31 32 47 \n",
      "    to resolve C C2H C2H2 C2H3 C2H4 C2H5 C2H6 C3H7 C3H8 CH CH2 CH2(S) CH2CHO CH2CO CH2O CH2OH CH3 CH3CHO CH3O CH3OH CH4 CO CO2 H H2 H2O H2O2 HCCO HCCOH HCN HCNO HCO HNCO HO2 N N2 NCO NO NO2 O O2 OH T u \n",
      "##############################################################################\n",
      "\n",
      "..............................................................................\n",
      "Attempt Newton solution of steady-state problem...    success.\n",
      "\n",
      "Problem solved on [72] point grid(s).\n",
      "\n",
      "..............................................................................\n",
      "##############################################################################\n",
      "Refining grid in flame.\n",
      "    New points inserted after grid points 21 22 23 24 25 26 27 28 29 30 31 32 33 34 35 36 37 38 39 40 41 42 43 44 45 46 47 \n",
      "    to resolve C C2H C2H2 C2H3 C2H4 C2H5 C2H6 C3H7 C3H8 CH CH2 CH2(S) CH2CHO CH2CO CH2O CH2OH CH3 CH3CHO CH3O CH3OH CH4 CO H H2 H2O H2O2 HCCO HCCOH HCN HCO HNCO HO2 N2 NO2 O O2 OH T u \n",
      "##############################################################################\n",
      "\n",
      "..............................................................................\n",
      "Attempt Newton solution of steady-state problem...    success.\n",
      "\n",
      "Problem solved on [99] point grid(s).\n",
      "\n",
      "..............................................................................\n",
      "##############################################################################\n",
      "Refining grid in flame.\n",
      "    New points inserted after grid points 31 32 33 34 46 47 48 49 50 51 52 53 54 55 56 57 58 59 60 61 62 63 64 65 66 67 68 \n",
      "    to resolve C C2H2 C2H3 C2H4 C2H5 C2H6 C3H8 CH CH2 CH2(S) CH2CHO CH2CO CH2OH CH3 CH3CHO CH3O CH3OH CO H H2 H2O2 HCCO HCO HO2 O OH \n",
      "##############################################################################\n",
      "\n",
      "..............................................................................\n",
      "Attempt Newton solution of steady-state problem...    success.\n",
      "\n",
      "Problem solved on [126] point grid(s).\n",
      "\n",
      "..............................................................................\n",
      "##############################################################################\n",
      "Refining grid in flame.\n",
      "    New points inserted after grid points 73 74 75 76 \n",
      "    to resolve CH2 \n",
      "##############################################################################\n",
      "\n",
      "..............................................................................\n",
      "Attempt Newton solution of steady-state problem...    success.\n",
      "\n",
      "Problem solved on [130] point grid(s).\n",
      "\n",
      "..............................................................................\n",
      "no new points needed in flame\n",
      "Flame Speed is: 0.29 m/s. Simulation took 13.71 s\n"
     ]
    }
   ],
   "source": [
    "# flame 1\n",
    "ctim0 = time.time()\n",
    "\n",
    "flame1.solve(loglevel=loglevel, auto=False)\n",
    "\n",
    "ctim1 = time.time()\n",
    "ctime = ctim1 - ctim0\n",
    "ctfl1 = ctime\n",
    "\n",
    "S_L1 = flame1.u[0]\n",
    "print(\"Flame Speed is: {:.2f} m/s. Simulation took {:.2f} s\".format(S_L1,ctime))"
   ]
  },
  {
   "cell_type": "code",
   "execution_count": 9,
   "metadata": {},
   "outputs": [
    {
     "name": "stdout",
     "output_type": "stream",
     "text": [
      "\n",
      "..............................................................................\n",
      "Attempt Newton solution of steady-state problem...    failure. \n",
      "Take 10 timesteps     2.136e-05      5.402\n",
      "Attempt Newton solution of steady-state problem...    failure. \n",
      "Take 10 timesteps     0.0003649      4.396\n",
      "Attempt Newton solution of steady-state problem...    failure. \n",
      "Take 10 timesteps     2.435e-05      6.322\n",
      "Attempt Newton solution of steady-state problem...    failure. \n",
      "Take 10 timesteps     6.935e-05      5.239\n",
      "Attempt Newton solution of steady-state problem...    failure. \n",
      "Take 10 timesteps      0.002666      3.589\n",
      "Attempt Newton solution of steady-state problem...    success.\n",
      "\n",
      "Problem solved on [9] point grid(s).\n",
      "\n",
      "..............................................................................\n",
      "##############################################################################\n",
      "Refining grid in flame.\n",
      "    New points inserted after grid points 0 1 2 3 4 5 6 \n",
      "    to resolve C C2H2 C2H3 C2H4 C2H5 C2H6 C3H7 C3H8 CH CH2 CH2(S) CH2CHO CH2CO CH2O CH2OH CH3 CH3CHO CH3O CH3OH CH4 CO CO2 H H2 H2O H2O2 HCCO HCCOH HCN HCNO HCO HNCO HO2 N N2 N2O NCO NH NO NO2 O O2 OH T u \n",
      "##############################################################################\n",
      "\n",
      "..............................................................................\n",
      "Attempt Newton solution of steady-state problem...    failure. \n",
      "Take 10 timesteps     0.0001709      5.106\n",
      "Attempt Newton solution of steady-state problem...    failure. \n",
      "Take 10 timesteps     6.082e-05      5.572\n",
      "Attempt Newton solution of steady-state problem...    failure. \n",
      "Take 10 timesteps     0.0002598       4.49\n",
      "Attempt Newton solution of steady-state problem...    success.\n",
      "\n",
      "Problem solved on [16] point grid(s).\n",
      "\n",
      "..............................................................................\n",
      "##############################################################################\n",
      "Refining grid in flame.\n",
      "    New points inserted after grid points 3 4 5 6 7 8 9 10 \n",
      "    to resolve C C2H C2H2 C2H3 C2H4 C2H5 C2H6 C3H7 C3H8 CH CH2 CH2(S) CH2CHO CH2CO CH2O CH2OH CH3 CH3CHO CH3O CH3OH CH4 CO CO2 H H2 H2O H2O2 HCCO HCCOH HCN HCNN HCNO HCO HNCO HO2 N N2 N2O NCO NH NH2 NH3 NO NO2 O O2 OH T u \n",
      "##############################################################################\n",
      "\n",
      "..............................................................................\n",
      "Attempt Newton solution of steady-state problem...    success.\n",
      "\n",
      "Problem solved on [24] point grid(s).\n",
      "\n",
      "..............................................................................\n",
      "##############################################################################\n",
      "Refining grid in flame.\n",
      "    New points inserted after grid points 4 5 6 7 8 9 10 11 12 13 14 15 \n",
      "    to resolve C C2H C2H2 C2H3 C2H4 C2H5 C2H6 C3H7 C3H8 CH CH2 CH2(S) CH2CHO CH2CO CH2O CH2OH CH3 CH3CHO CH3O CH3OH CH4 CO CO2 H H2 H2O H2O2 HCCO HCCOH HCN HCNO HCO HNCO HO2 N N2 N2O NCO NH NH2 NH3 NO NO2 O O2 OH T u \n",
      "##############################################################################\n",
      "\n",
      "..............................................................................\n",
      "Attempt Newton solution of steady-state problem...    success.\n",
      "\n",
      "Problem solved on [36] point grid(s).\n",
      "\n",
      "..............................................................................\n",
      "##############################################################################\n",
      "Refining grid in flame.\n",
      "    New points inserted after grid points 9 10 11 12 13 14 15 16 17 18 19 20 21 22 23 32 \n",
      "    to resolve C C2H C2H2 C2H3 C2H4 C2H5 C2H6 C3H7 C3H8 CH CH2 CH2(S) CH2CHO CH2CO CH2O CH2OH CH3 CH3CHO CH3O CH3OH CH4 CO CO2 H H2 H2O H2O2 HCCO HCCOH HCN HCNO HCO HNCO HO2 N N2 N2O NCO NO NO2 O O2 OH T u \n",
      "##############################################################################\n",
      "\n",
      "..............................................................................\n",
      "Attempt Newton solution of steady-state problem...    success.\n",
      "\n",
      "Problem solved on [52] point grid(s).\n",
      "\n",
      "..............................................................................\n",
      "##############################################################################\n",
      "Refining grid in flame.\n",
      "    New points inserted after grid points 13 14 15 16 17 18 19 20 21 22 23 24 25 26 27 28 29 30 \n",
      "    to resolve C C2H C2H2 C2H3 C2H4 C2H5 C2H6 C3H7 C3H8 CH CH2 CH2(S) CH2CHO CH2CO CH2O CH2OH CH3 CH3CHO CH3O CH3OH CH4 CO CO2 H H2 H2O H2O2 HCCO HCCOH HCN HCNO HCO HNCO HO2 N N2 NCO NO NO2 O O2 OH T u \n",
      "##############################################################################\n",
      "\n",
      "..............................................................................\n",
      "Attempt Newton solution of steady-state problem...    success.\n",
      "\n",
      "Problem solved on [70] point grid(s).\n",
      "\n",
      "..............................................................................\n",
      "##############################################################################\n",
      "Refining grid in flame.\n",
      "    New points inserted after grid points 17 18 19 20 21 22 23 24 25 26 27 28 29 30 31 32 33 34 35 36 37 38 39 40 41 42 43 67 \n",
      "    to resolve C C2H C2H2 C2H3 C2H4 C2H5 C2H6 C3H7 C3H8 CH CH2 CH2(S) CH2CHO CH2CO CH2O CH2OH CH3 CH3CHO CH3O CH3OH CH4 CO H H2 H2O H2O2 HCCO HCCOH HCN HCO HNCO HO2 N2 NO NO2 O O2 OH T u \n",
      "##############################################################################\n",
      "\n",
      "..............................................................................\n",
      "Attempt Newton solution of steady-state problem...    success.\n",
      "\n",
      "Problem solved on [98] point grid(s).\n",
      "\n",
      "..............................................................................\n",
      "##############################################################################\n",
      "Refining grid in flame.\n",
      "    New points inserted after grid points 28 29 30 31 32 33 34 40 41 42 43 44 45 46 47 48 49 50 51 52 53 54 55 56 57 58 59 60 61 62 96 \n",
      "    to resolve C C2H2 C2H3 C2H4 C2H5 C2H6 C3H7 C3H8 CH CH2 CH2(S) CH2CHO CH2CO CH2OH CH3 CH3CHO CH3O H2O2 HCCO HCO point 96 \n",
      "##############################################################################\n",
      "\n",
      "..............................................................................\n",
      "Attempt Newton solution of steady-state problem...    success.\n",
      "\n",
      "Problem solved on [129] point grid(s).\n",
      "\n",
      "..............................................................................\n",
      "no new points needed in flame\n",
      "Flame Speed is: 0.38 m/s. Simulation took 8.17 s\n"
     ]
    }
   ],
   "source": [
    "# flame 2\n",
    "ctim0 = time.time()\n",
    "\n",
    "flame2.solve(loglevel=loglevel, auto=False)\n",
    "\n",
    "ctim1 = time.time()\n",
    "ctime = ctim1 - ctim0\n",
    "ctfl2 = ctime\n",
    "\n",
    "S_L2 = flame2.u[0]\n",
    "print(\"Flame Speed is: {:.2f} m/s. Simulation took {:.2f} s\".format(S_L2,ctime))"
   ]
  },
  {
   "cell_type": "code",
   "execution_count": 10,
   "metadata": {},
   "outputs": [
    {
     "name": "stdout",
     "output_type": "stream",
     "text": [
      "\n",
      "..............................................................................\n",
      "Attempt Newton solution of steady-state problem...    failure. \n",
      "Take 10 timesteps     2.136e-05      5.459\n",
      "Attempt Newton solution of steady-state problem...    failure. \n",
      "Take 10 timesteps     0.0003649      4.587\n",
      "Attempt Newton solution of steady-state problem...    failure. \n",
      "Take 10 timesteps     0.0003897      5.049\n",
      "Attempt Newton solution of steady-state problem...    failure. \n",
      "Take 10 timesteps     6.502e-06      6.745\n",
      "Attempt Newton solution of steady-state problem...    failure. \n",
      "Take 10 timesteps     0.0001666      4.679\n",
      "Attempt Newton solution of steady-state problem...    success.\n",
      "\n",
      "Problem solved on [9] point grid(s).\n",
      "\n",
      "..............................................................................\n",
      "##############################################################################\n",
      "Refining grid in flame.\n",
      "    New points inserted after grid points 0 1 2 3 4 5 6 \n",
      "    to resolve C C2H2 C2H3 C2H4 C2H5 C2H6 C3H7 C3H8 CH CH2 CH2(S) CH2CHO CH2CO CH2O CH2OH CH3 CH3CHO CH3O CH3OH CH4 CO CO2 H H2 H2O H2O2 HCCO HCN HCNO HCO HNCO HO2 N N2 N2O NCO NH NO NO2 O O2 OH T u \n",
      "##############################################################################\n",
      "\n",
      "..............................................................................\n",
      "Attempt Newton solution of steady-state problem...    failure. \n",
      "Take 10 timesteps     0.0001709      5.131\n",
      "Attempt Newton solution of steady-state problem...    failure. \n",
      "Take 10 timesteps     6.082e-05      5.752\n",
      "Attempt Newton solution of steady-state problem...    failure. \n",
      "Take 10 timesteps     0.0001299      4.843\n",
      "Attempt Newton solution of steady-state problem...    success.\n",
      "\n",
      "Problem solved on [16] point grid(s).\n",
      "\n",
      "..............................................................................\n",
      "##############################################################################\n",
      "Refining grid in flame.\n",
      "    New points inserted after grid points 3 4 5 6 7 8 9 10 \n",
      "    to resolve C C2H C2H2 C2H3 C2H4 C2H5 C2H6 C3H7 C3H8 CH CH2 CH2(S) CH2CHO CH2CO CH2O CH2OH CH3 CH3CHO CH3O CH3OH CH4 CO CO2 H H2 H2O H2O2 HCCO HCCOH HCN HCNN HCNO HCO HNCO HO2 N N2 N2O NCO NH NH2 NH3 NO NO2 O O2 OH T u \n",
      "##############################################################################\n",
      "\n",
      "..............................................................................\n",
      "Attempt Newton solution of steady-state problem...    success.\n",
      "\n",
      "Problem solved on [24] point grid(s).\n",
      "\n",
      "..............................................................................\n",
      "##############################################################################\n",
      "Refining grid in flame.\n",
      "    New points inserted after grid points 5 6 7 8 9 10 11 12 13 14 15 \n",
      "    to resolve C C2H C2H2 C2H3 C2H4 C2H5 C2H6 C3H7 C3H8 CH CH2 CH2(S) CH2CHO CH2CO CH2O CH2OH CH3 CH3CHO CH3O CH3OH CH4 CO CO2 H H2 H2O H2O2 HCCO HCCOH HCN HCNO HCO HNCO HO2 N N2 N2O NCO NH NH2 NH3 NO NO2 O O2 OH T u \n",
      "##############################################################################\n",
      "\n",
      "..............................................................................\n",
      "Attempt Newton solution of steady-state problem...    success.\n",
      "\n",
      "Problem solved on [35] point grid(s).\n",
      "\n",
      "..............................................................................\n",
      "##############################################################################\n",
      "Refining grid in flame.\n",
      "    New points inserted after grid points 4 8 9 10 11 12 13 14 15 16 17 18 19 20 21 22 31 \n",
      "    to resolve C C2H C2H2 C2H3 C2H4 C2H5 C2H6 C3H7 C3H8 CH CH2 CH2(S) CH2CHO CH2CO CH2O CH2OH CH3 CH3CHO CH3O CH3OH CH4 CO CO2 H H2 H2O H2O2 HCCO HCCOH HCN HCNO HCO HNCO HO2 N N2 N2O NCO NO NO2 O O2 OH T point 4 u \n",
      "##############################################################################\n",
      "\n",
      "..............................................................................\n",
      "Attempt Newton solution of steady-state problem...    success.\n",
      "\n",
      "Problem solved on [52] point grid(s).\n",
      "\n",
      "..............................................................................\n",
      "##############################################################################\n",
      "Refining grid in flame.\n",
      "    New points inserted after grid points 13 14 15 16 17 18 19 20 21 22 23 24 25 26 27 28 29 \n",
      "    to resolve C C2H C2H2 C2H3 C2H4 C2H5 C2H6 C3H7 C3H8 CH CH2 CH2(S) CH2CHO CH2CO CH2O CH2OH CH3 CH3CHO CH3O CH3OH CH4 CO CO2 H H2 H2O H2O2 HCCO HCCOH HCN HCNO HCO HNCO HO2 N N2 NCO NO NO2 O O2 OH T u \n",
      "##############################################################################\n",
      "\n",
      "..............................................................................\n",
      "Attempt Newton solution of steady-state problem...    success.\n",
      "\n",
      "Problem solved on [69] point grid(s).\n",
      "\n",
      "..............................................................................\n",
      "##############################################################################\n",
      "Refining grid in flame.\n",
      "    New points inserted after grid points 17 18 19 20 21 22 23 24 25 26 27 28 29 30 31 32 33 34 35 36 37 38 39 40 41 42 43 66 \n",
      "    to resolve C C2H C2H2 C2H3 C2H4 C2H5 C2H6 C3H7 C3H8 CH CH2 CH2(S) CH2CHO CH2CO CH2O CH2OH CH3 CH3CHO CH3O CH3OH CH4 CO H H2 H2O H2O2 HCCO HCCOH HCN HCO HNCO HO2 N2 NO NO2 O O2 OH T u \n",
      "##############################################################################\n",
      "\n",
      "..............................................................................\n",
      "Attempt Newton solution of steady-state problem...    success.\n",
      "\n",
      "Problem solved on [97] point grid(s).\n",
      "\n",
      "..............................................................................\n",
      "##############################################################################\n",
      "Refining grid in flame.\n",
      "    New points inserted after grid points 28 29 30 31 32 33 40 41 42 43 44 45 46 47 48 49 50 51 52 53 54 55 56 57 58 59 60 61 62 95 \n",
      "    to resolve C C2H2 C2H3 C2H4 C2H5 C2H6 C3H7 C3H8 CH CH2 CH2(S) CH2CHO CH2CO CH2OH CH3 CH3CHO CH3O H2O2 HCCO HCO point 95 \n",
      "##############################################################################\n",
      "\n",
      "..............................................................................\n",
      "Attempt Newton solution of steady-state problem...    success.\n",
      "\n",
      "Problem solved on [127] point grid(s).\n",
      "\n",
      "..............................................................................\n",
      "no new points needed in flame\n",
      "Flame Speed is: 0.38 m/s. Simulation took 45.06 s\n"
     ]
    }
   ],
   "source": [
    "# flame 3\n",
    "\n",
    "ctim0 = time.time()\n",
    "\n",
    "flame3.solve(loglevel=loglevel, auto=False)\n",
    "\n",
    "ctim1 = time.time()\n",
    "ctime = ctim1 - ctim0\n",
    "ctfl3 = ctime\n",
    "\n",
    "S_L3 = flame3.u[0]\n",
    "print(\"Flame Speed is: {:.2f} m/s. Simulation took {:.2f} s\".format(S_L3,ctime))"
   ]
  },
  {
   "cell_type": "code",
   "execution_count": 11,
   "metadata": {},
   "outputs": [
    {
     "data": {
      "text/plain": [
       "(0.2888330058204596, 0.38201769250365347, 0.38433657767783186)"
      ]
     },
     "execution_count": 11,
     "metadata": {},
     "output_type": "execute_result"
    }
   ],
   "source": [
    "# print the three flame speeds (m/s)\n",
    "S_L1 , S_L2 , S_L3"
   ]
  },
  {
   "cell_type": "markdown",
   "metadata": {},
   "source": [
    "The flame speeds for the mixture-averaged diffusion model and for the multicompent diffusion model are equal to two significant figures, while that from the unity-Lewis-number model is approximately 25% lower."
   ]
  },
  {
   "cell_type": "code",
   "execution_count": 12,
   "metadata": {},
   "outputs": [
    {
     "data": {
      "text/plain": [
       "(13.710490226745605, 8.174611806869507, 45.06237864494324)"
      ]
     },
     "execution_count": 12,
     "metadata": {},
     "output_type": "execute_result"
    }
   ],
   "source": [
    "# print the computational times required (s)\n",
    "ctfl1 , ctfl2 , ctfl3"
   ]
  },
  {
   "cell_type": "markdown",
   "metadata": {},
   "source": [
    "The computational time required for the unity-Lewis-number model is higher than that for the mixture-averaged model, which is somewhat counterintuitive. And the computational time required for the multicomponent model is approximately six times higher than that for the mixture-averaged model. These results will vary somewhat, depending on the computer used. \n",
    "\n",
    "Now let's look at the molecular transport properties, to confirm what we saw earlier in tutorial Notebook 7_1_Molecular_transport_properties. Note that gas1, gas2, and gas3 are all currently at the fully-burned-gas (constant-pressure equilibrium temperature and composition) state corresponding to the specified reactant mixture state. That can be confirmed as follows:"
   ]
  },
  {
   "cell_type": "code",
   "execution_count": 13,
   "metadata": {},
   "outputs": [
    {
     "name": "stdout",
     "output_type": "stream",
     "text": [
      "\n",
      "  gri30:\n",
      "\n",
      "       temperature         2207.48  K\n",
      "          pressure          101325  Pa\n",
      "           density        0.151206  kg/m^3\n",
      "  mean mol. weight         27.3895  amu\n",
      "\n",
      "                          1 kg            1 kmol\n",
      "                       -----------      ------------\n",
      "          enthalpy     -2.5975e+05       -7.114e+06     J\n",
      "   internal energy     -9.2986e+05       -2.547e+07     J\n",
      "           entropy          9873.5        2.704e+05     J/K\n",
      "    Gibbs function     -2.2055e+07       -6.041e+08     J\n",
      " heat capacity c_p          1512.6        4.143e+04     J/K\n",
      " heat capacity c_v            1209        3.311e+04     J/K\n",
      "\n",
      "                           X                 Y          Chem. Pot. / RT\n",
      "                     -------------     ------------     ------------\n",
      "                H2     0.00423307      0.000311556         -25.2626\n",
      "                 H    0.000587754      2.16295e-05         -12.2018\n",
      "                 O    0.000344838      0.000201435         -16.6668\n",
      "                O2     0.00635525       0.00742477         -34.1799\n",
      "                OH      0.0035642       0.00221317         -29.7298\n",
      "               H2O       0.182127         0.119793          -42.791\n",
      "               HO2    7.35854e-07      8.86769e-07         -46.8176\n",
      "              H2O2    5.96556e-08      7.40857e-08          -59.718\n",
      "                CO      0.0104036        0.0106394         -38.6332\n",
      "               CO2      0.0838148         0.134675         -56.1691\n",
      "               HCO    1.37978e-09      1.46184e-09         -50.8729\n",
      "              CH2O    1.74266e-11      1.91043e-11         -63.9252\n",
      "                 N    6.50545e-09      3.32684e-09         -14.3783\n",
      "                NH      6.596e-10      3.61587e-10         -27.6354\n",
      "               NH2    1.68803e-10      9.87482e-11         -40.8653\n",
      "               NH3    3.77827e-10       2.3493e-10         -53.9272\n",
      "               NNH    1.12589e-09      1.19297e-09         -39.8165\n",
      "                NO    9.19077e-05      0.000100688         -34.0381\n",
      "               NO2    1.75933e-08      2.95512e-08         -51.2688\n",
      "               N2O     1.0755e-07      1.72826e-07         -44.7519\n",
      "               HNO    2.23384e-09      2.52945e-09         -46.4329\n",
      "                CN    1.66125e-14      1.57805e-14         -36.4988\n",
      "               HCN    3.77793e-12      3.72776e-12         -49.5709\n",
      "              HOCN    1.74923e-13       2.7478e-13         -67.1201\n",
      "              HNCO    6.16561e-11      9.68532e-11         -67.1336\n",
      "               NCO    3.30372e-12      5.06812e-12         -54.0165\n",
      "                N2       0.708476         0.724618         -27.6137\n",
      "     [  +26 minor]    2.39819e-16      1.96085e-16\n",
      "\n"
     ]
    }
   ],
   "source": [
    "# print the full thermochemical state of gas1\n",
    "gas1()"
   ]
  },
  {
   "cell_type": "code",
   "execution_count": 14,
   "metadata": {},
   "outputs": [
    {
     "name": "stdout",
     "output_type": "stream",
     "text": [
      "\n",
      "  gri30:\n",
      "\n",
      "       temperature         2200.41  K\n",
      "          pressure          101325  Pa\n",
      "           density        0.151521  kg/m^3\n",
      "  mean mol. weight         27.3587  amu\n",
      "\n",
      "                          1 kg            1 kmol\n",
      "                       -----------      ------------\n",
      "          enthalpy     -2.5582e+05       -6.999e+06     J\n",
      "   internal energy     -9.2454e+05       -2.529e+07     J\n",
      "           entropy          9878.5        2.703e+05     J/K\n",
      "    Gibbs function     -2.1993e+07       -6.017e+08     J\n",
      " heat capacity c_p          1512.5        4.138e+04     J/K\n",
      " heat capacity c_v          1208.6        3.307e+04     J/K\n",
      "\n",
      "                           X                 Y          Chem. Pot. / RT\n",
      "                     -------------     ------------     ------------\n",
      "                H2     0.00456906      0.000336664         -25.1757\n",
      "                 H    0.000692432      2.55103e-05         -11.9929\n",
      "                 O    0.000407254      0.000238162         -16.4499\n",
      "                O2     0.00697488       0.00815783         -34.0751\n",
      "                OH     0.00384784       0.00239198         -29.6357\n",
      "               H2O       0.182031         0.119864         -42.8192\n",
      "               HO2    8.39777e-07      1.01314e-06          -46.667\n",
      "              H2O2     6.5363e-08      8.12649e-08         -59.6291\n",
      "                CO      0.0110401        0.0113031         -38.5819\n",
      "               CO2      0.0826458         0.132946         -56.2339\n",
      "               HCO    1.72469e-09      1.82931e-09         -50.6262\n",
      "              CH2O    1.97683e-11      2.16958e-11          -63.797\n",
      "                 N    6.71002e-09       3.4353e-09         -14.2576\n",
      "                NH    6.99643e-10      3.83969e-10         -27.5031\n",
      "               NH2    1.59239e-10      9.32584e-11         -40.8748\n",
      "               NH3    3.27209e-10      2.03685e-10         -54.0592\n",
      "               NNH     1.3197e-09       1.3999e-09         -39.5978\n",
      "                NO    7.18786e-05      7.88341e-05         -34.2565\n",
      "               NO2    1.36928e-08      2.30254e-08         -51.4958\n",
      "               N2O    1.11871e-07      1.79971e-07         -44.6798\n",
      "               HNO    1.95968e-09      2.22151e-09         -46.5284\n",
      "                CN    1.64852e-14      1.56772e-14         -36.4183\n",
      "               HCN    3.49339e-12      3.45086e-12         -49.6092\n",
      "              HOCN    1.47252e-13      2.31572e-13          -67.272\n",
      "              HNCO    5.28849e-11      8.31683e-11         -67.2844\n",
      "               NCO    3.08982e-12       4.7453e-12         -54.0418\n",
      "                N2       0.707719         0.724657         -27.6036\n",
      "     [  +26 minor]    2.89184e-16      2.39119e-16\n",
      "\n"
     ]
    }
   ],
   "source": [
    "# print the full thermochemical state of gas2\n",
    "gas2()"
   ]
  },
  {
   "cell_type": "code",
   "execution_count": 15,
   "metadata": {},
   "outputs": [
    {
     "name": "stdout",
     "output_type": "stream",
     "text": [
      "\n",
      "  gri30:\n",
      "\n",
      "       temperature         2200.75  K\n",
      "          pressure          101325  Pa\n",
      "           density        0.151486  kg/m^3\n",
      "  mean mol. weight         27.3566  amu\n",
      "\n",
      "                          1 kg            1 kmol\n",
      "                       -----------      ------------\n",
      "          enthalpy      -2.546e+05       -6.965e+06     J\n",
      "   internal energy     -9.2347e+05       -2.526e+07     J\n",
      "           entropy          9879.3        2.703e+05     J/K\n",
      "    Gibbs function     -2.1997e+07       -6.018e+08     J\n",
      " heat capacity c_p          1512.6        4.138e+04     J/K\n",
      " heat capacity c_v          1208.6        3.306e+04     J/K\n",
      "\n",
      "                           X                 Y          Chem. Pot. / RT\n",
      "                     -------------     ------------     ------------\n",
      "                H2     0.00461678      0.000340206         -25.1658\n",
      "                 H    0.000700821      2.58214e-05          -11.983\n",
      "                 O    0.000408662      0.000239005         -16.4488\n",
      "                O2     0.00692491       0.00810003         -34.0829\n",
      "                OH     0.00385505       0.00239665         -29.6347\n",
      "               H2O       0.181982         0.119842         -42.8181\n",
      "               HO2    8.38671e-07      1.01189e-06         -46.6692\n",
      "              H2O2    6.53244e-08      8.12232e-08         -59.6295\n",
      "                CO      0.0111532        0.0114198         -38.5713\n",
      "               CO2      0.0825905         0.132867         -56.2321\n",
      "               HCO    1.76183e-09      1.86885e-09         -50.6061\n",
      "              CH2O    2.01756e-11      2.21446e-11         -63.7767\n",
      "                 N    6.75642e-09      3.45933e-09         -14.2551\n",
      "                NH    7.06699e-10      3.87872e-10         -27.4966\n",
      "               NH2    1.60772e-10      9.41632e-11         -40.8675\n",
      "               NH3    3.29771e-10      2.05296e-10          -54.052\n",
      "               NNH    1.33586e-09      1.41716e-09         -39.5885\n",
      "                NO     7.1957e-05      7.89263e-05         -34.2568\n",
      "               NO2    1.36152e-08      2.28967e-08         -51.5027\n",
      "               N2O     1.1139e-07      1.79211e-07         -44.6857\n",
      "               HNO    1.97395e-09      2.23786e-09         -46.5229\n",
      "                CN    1.68162e-14      1.59932e-14         -36.4026\n",
      "               HCN    3.55587e-12      3.51286e-12         -49.5934\n",
      "              HOCN     1.4844e-13       2.3346e-13          -67.265\n",
      "              HNCO    5.32719e-11      8.37835e-11         -67.2773\n",
      "               NCO    3.11802e-12      4.78899e-12         -54.0347\n",
      "                N2       0.707695         0.724689         -27.6042\n",
      "     [  +26 minor]    6.16148e-15      8.77932e-15\n",
      "\n"
     ]
    }
   ],
   "source": [
    "# print the full thermochemical state of gas3\n",
    "gas3()"
   ]
  },
  {
   "cell_type": "markdown",
   "metadata": {},
   "source": [
    "In fact, there are small differences in the temperatures and compositions of the three gas mixtures, and the states are not quite identical to those from the earlier equilibrium calculation. These differences are consequences of numerical errors that develop over the course of solving for the steady one-dimensional flame structure. Presumably the differences could be reduced by tightening the numerical tolerances, but for present purposes, we will proceed with the solutions that we have.\n",
    "\n",
    "We next look at the molecular transport properties."
   ]
  },
  {
   "cell_type": "code",
   "execution_count": 16,
   "metadata": {},
   "outputs": [
    {
     "data": {
      "text/plain": [
       "(7.060834441810226e-05, 7.046488469587917e-05, 7.047124093907897e-05)"
      ]
     },
     "execution_count": 16,
     "metadata": {},
     "output_type": "execute_result"
    }
   ],
   "source": [
    "# print the mixture viscosities for the three gas mixtures\n",
    "gas1.viscosity , gas2.viscosity , gas3.viscosity"
   ]
  },
  {
   "cell_type": "code",
   "execution_count": 17,
   "metadata": {},
   "outputs": [
    {
     "data": {
      "text/plain": [
       "(0.15456109057694667, 0.1543781047272944, 0.15726820897826307)"
      ]
     },
     "execution_count": 17,
     "metadata": {},
     "output_type": "execute_result"
    }
   ],
   "source": [
    "# print the mixture thermal conductivities for the three gas mixtures\n",
    "gas1.thermal_conductivity , gas2.thermal_conductivity , gas3.thermal_conductivity"
   ]
  },
  {
   "cell_type": "markdown",
   "metadata": {},
   "source": [
    "The differences in viscosities and thermal conductivities among the three mixtures are in the third significant figure, and they reflect the small differences in the thermochemical states of the three mixtures."
   ]
  },
  {
   "cell_type": "code",
   "execution_count": 18,
   "metadata": {},
   "outputs": [
    {
     "data": {
      "text/plain": [
       "(0.6910023693254216,\n",
       " array([1., 1., 1., 1., 1., 1., 1., 1., 1., 1., 1., 1., 1., 1., 1., 1., 1.,\n",
       "        1., 1., 1., 1., 1., 1., 1., 1., 1., 1., 1., 1., 1., 1., 1., 1., 1.,\n",
       "        1., 1., 1., 1., 1., 1., 1., 1., 1., 1., 1., 1., 1., 1., 1., 1., 1.,\n",
       "        1., 1.]))"
      ]
     },
     "execution_count": 18,
     "metadata": {},
     "output_type": "execute_result"
    }
   ],
   "source": [
    "# print the mixture Prandtl number and the species Lewis numbers for gas1\n",
    "Lei1 = np.zeros(gas1.n_species)\n",
    "Pr1  = gas1.cp*gas1.viscosity / gas1.thermal_conductivity\n",
    "Lei1 = gas1.thermal_conductivity / ( gas1.density*gas1.mix_diff_coeffs_mass*gas1.cp )\n",
    "\n",
    "Pr1 , Lei1"
   ]
  },
  {
   "cell_type": "code",
   "execution_count": 19,
   "metadata": {},
   "outputs": [
    {
     "data": {
      "text/plain": [
       "(0.6903756601452127,\n",
       " array([0.30355167, 0.18078378, 0.70359938, 1.08101412, 0.71799199,\n",
       "        0.86187623, 1.08859274, 1.09601773, 0.75137041, 0.65766049,\n",
       "        0.96558889, 0.96558889, 0.98766364, 0.99320332, 1.09724666,\n",
       "        1.31080035, 1.24511859, 1.25541815, 1.28528297, 1.28528297,\n",
       "        1.28547243, 1.28102686, 1.29419049, 1.30674642, 1.30536958,\n",
       "        1.42346603, 1.43520636, 0.86941995, 1.48330038, 1.48330038,\n",
       "        0.79147407, 0.66737582, 0.68157258, 0.88197831, 1.12548745,\n",
       "        1.10598753, 1.24038344, 1.3659631 , 1.08948737, 1.11762464,\n",
       "        1.25218754, 1.26369319, 0.86943313, 1.35994268, 1.35994268,\n",
       "        1.35994268, 1.35359652, 1.08915483, 1.11337067, 1.8440237 ,\n",
       "        1.85231687, 1.49024565, 1.49696668]))"
      ]
     },
     "execution_count": 19,
     "metadata": {},
     "output_type": "execute_result"
    }
   ],
   "source": [
    "# print the mixture Prandtl number and the species Lewis numbers for gas2\n",
    "Lei2 = np.zeros(gas2.n_species)\n",
    "Pr2  = gas2.cp*gas2.viscosity / gas2.thermal_conductivity\n",
    "Lei2 = gas2.thermal_conductivity / ( gas2.density*gas2.mix_diff_coeffs_mass*gas2.cp )\n",
    "\n",
    "Pr2 , Lei2"
   ]
  },
  {
   "cell_type": "code",
   "execution_count": 20,
   "metadata": {},
   "outputs": [
    {
     "data": {
      "text/plain": [
       "(0.6777757338075215,\n",
       " array([0.3092148 , 0.1841541 , 0.71669899, 1.10113318, 0.73136073,\n",
       "        0.87790355, 1.10885317, 1.11641613, 0.76536029, 0.66990545,\n",
       "        0.98356499, 0.98356499, 1.00605021, 1.01169243, 1.11766783,\n",
       "        1.33521415, 1.26828754, 1.27877848, 1.30919771, 1.30919771,\n",
       "        1.30939164, 1.30486887, 1.31827716, 1.33106645, 1.3296627 ,\n",
       "        1.44995673, 1.46191523, 0.88560045, 1.5108985 , 1.5108985 ,\n",
       "        0.80620975, 0.67980105, 0.69426155, 0.89839171, 1.14643563,\n",
       "        1.12657223, 1.26346502, 1.39138098, 1.10976473, 1.13842718,\n",
       "        1.27548761, 1.28720706, 0.88561388, 1.38524871, 1.38524871,\n",
       "        1.38524871, 1.37878465, 1.10937854, 1.13409068, 1.87833535,\n",
       "        1.88678257, 1.51797278, 1.52481866]))"
      ]
     },
     "execution_count": 20,
     "metadata": {},
     "output_type": "execute_result"
    }
   ],
   "source": [
    "# print the mixture Prandtl number and the species Lewis numbers for gas3\n",
    "Lei3 = np.zeros(gas3.n_species)\n",
    "Pr3  = gas3.cp*gas3.viscosity / gas3.thermal_conductivity\n",
    "Lei3 = gas3.thermal_conductivity / ( gas3.density*gas3.mix_diff_coeffs_mass*gas3.cp )\n",
    "\n",
    "Pr3 , Lei3"
   ]
  },
  {
   "cell_type": "markdown",
   "metadata": {},
   "source": [
    "The small differences in the mixture Prandtl numbers again reflect the differences in the thermochemical states of the three gas mixtures.\n",
    "\n",
    "The species Lewis numbers are all equal to one for the unity Lewis number model, as they should be. The values of the species Lewis numbers for the mixture-averaged model and for the multicomponent model are not quite identical, again reflecting the small differences in the thermochemical states of the mixtures. The species Lewis numbers range from a low value of approximately 0.18 for species index 1 (H) to a high value of approximately 1.9 for species index 50 (C3H8)."
   ]
  },
  {
   "cell_type": "markdown",
   "metadata": {},
   "source": [
    "## 3. Flame structure"
   ]
  },
  {
   "cell_type": "markdown",
   "metadata": {},
   "source": [
    "Now let's look at the internal spatial structure of the flames. The spatial coordinate will be converted to mm for plotting."
   ]
  },
  {
   "cell_type": "code",
   "execution_count": 21,
   "metadata": {},
   "outputs": [
    {
     "data": {
      "image/png": "[encoded data removed]",
      "text/plain": [
       "<Figure size 432x288 with 1 Axes>"
      ]
     },
     "metadata": {
      "needs_background": "light"
     },
     "output_type": "display_data"
    }
   ],
   "source": [
    "# plot the steady-state temperature profiles\n",
    "fig, ax = plt.subplots()\n",
    "ax.plot(flame1.grid*1000., flame1.T, label='Le1'  )\n",
    "ax.plot(flame2.grid*1000., flame2.T, label='Mix'  )\n",
    "ax.plot(flame3.grid*1000., flame3.T, label='Multi')\n",
    "ax.set(xlabel='Distance (mm)',\n",
    "       ylabel='Temperature (K)',\n",
    "       title ='Temperature vs. distance for a laminar premixed flame')\n",
    "ax.grid(True)\n",
    "ax.legend(handlelength=4,loc='best')\n",
    "fig.savefig(\"T_vs_x_LPF.pdf\")"
   ]
  },
  {
   "cell_type": "markdown",
   "metadata": {},
   "source": [
    "At this scale, the profiles appear to be identical. Let's zoom in:"
   ]
  },
  {
   "cell_type": "code",
   "execution_count": 22,
   "metadata": {},
   "outputs": [
    {
     "data": {
      "image/png": "[encoded data removed]",
      "text/plain": [
       "<Figure size 432x288 with 1 Axes>"
      ]
     },
     "metadata": {
      "needs_background": "light"
     },
     "output_type": "display_data"
    }
   ],
   "source": [
    "# plot the steady-state temperature profiles\n",
    "fig, ax = plt.subplots()\n",
    "ax.plot(flame1.grid*1000., flame1.T, label='Le1'  )\n",
    "ax.plot(flame2.grid*1000., flame2.T, label='Mix'  )\n",
    "ax.plot(flame3.grid*1000., flame3.T, label='Multi')\n",
    "ax.set(xlim=(4.8,5.8),\n",
    "       xlabel='Distance (mm)',\n",
    "       ylabel='Temperature (K)',\n",
    "       title ='Temperature vs. distance for a laminar premixed flame')\n",
    "ax.grid(True)\n",
    "ax.legend(handlelength=4,loc='best')\n",
    "fig.savefig(\"T_vs_x_LPF_zoom.pdf\")"
   ]
  },
  {
   "cell_type": "markdown",
   "metadata": {},
   "source": [
    "Now some differences can be seen between the unity-Lewis-number temperature profile and the temperature profiles for the two transport models that consider differential species diffusion. The latter models have a somewhat steeper temperature profile through the flame."
   ]
  },
  {
   "cell_type": "code",
   "execution_count": 23,
   "metadata": {},
   "outputs": [
    {
     "data": {
      "image/png": "[encoded data removed]",
      "text/plain": [
       "<Figure size 432x288 with 1 Axes>"
      ]
     },
     "metadata": {
      "needs_background": "light"
     },
     "output_type": "display_data"
    }
   ],
   "source": [
    "# plot the steady-state velocity profiles\n",
    "fig, ax = plt.subplots()\n",
    "ax.plot(flame1.grid*1000., flame1.u*100., label='Le1'  )\n",
    "ax.plot(flame2.grid*1000., flame2.u*100., label='Mix'  )\n",
    "ax.plot(flame3.grid*1000., flame3.u*100., label='Multi')\n",
    "ax.set(xlabel='Distance (mm)',\n",
    "       ylabel='Speed (cm/s)',\n",
    "       title ='Speed vs. distance for a laminar premixed flame')\n",
    "ax.grid(True)\n",
    "ax.legend(handlelength=4,loc='best')\n",
    "fig.savefig(\"u_vs_x_LPF.pdf\")"
   ]
  },
  {
   "cell_type": "markdown",
   "metadata": {},
   "source": [
    "The lower flame speed for the unity-Lewis-number model is evident on the reactants side. As we saw in the previous tutorial Notebook, the difference in speed is amplified on the product side."
   ]
  },
  {
   "cell_type": "code",
   "execution_count": 24,
   "metadata": {},
   "outputs": [
    {
     "data": {
      "image/png": "[encoded data removed]",
      "text/plain": [
       "<Figure size 432x288 with 1 Axes>"
      ]
     },
     "metadata": {
      "needs_background": "light"
     },
     "output_type": "display_data"
    }
   ],
   "source": [
    "# plot steady-state major species mole-fraction profiles\n",
    "X_CH4_1 = flame1.X[gas1.species_index('CH4')]\n",
    "X_O2_1  = flame1.X[gas1.species_index('O2')]\n",
    "X_H2O_1 = flame1.X[gas1.species_index('H2O')]\n",
    "X_CO2_1 = flame1.X[gas1.species_index('CO2')]\n",
    "\n",
    "X_CH4_2 = flame2.X[gas2.species_index('CH4')]\n",
    "X_O2_2  = flame2.X[gas2.species_index('O2')]\n",
    "X_H2O_2 = flame2.X[gas2.species_index('H2O')]\n",
    "X_CO2_2 = flame2.X[gas2.species_index('CO2')]\n",
    "\n",
    "X_CH4_3 = flame3.X[gas3.species_index('CH4')]\n",
    "X_O2_3  = flame3.X[gas3.species_index('O2')]\n",
    "X_H2O_3 = flame3.X[gas3.species_index('H2O')]\n",
    "X_CO2_3 = flame3.X[gas3.species_index('CO2')]\n",
    "\n",
    "fig, ax = plt.subplots()\n",
    "ax.plot(flame1.grid*1000., X_CH4_1, ':',  label='CH4 Le1', color='black' )\n",
    "ax.plot(flame1.grid*1000., X_O2_1,  ':',  label='O2 Le1',  color='red'   )\n",
    "ax.plot(flame1.grid*1000., X_CO2_1, ':',  label='CO2 Le1', color='blue'  )\n",
    "ax.plot(flame1.grid*1000., X_H2O_1, ':',  label='H2O Le1', color='green' )\n",
    "ax.plot(flame2.grid*1000., X_CH4_2, '--', label='CH4 Mix', color='black' )\n",
    "ax.plot(flame2.grid*1000., X_O2_2,  '--', label='O2 Mix',  color='red'   )\n",
    "ax.plot(flame2.grid*1000., X_CO2_2, '--', label='CO2 Mix', color='blue'  )\n",
    "ax.plot(flame2.grid*1000., X_H2O_2, '--', label='H2O Mix', color='green' )\n",
    "ax.plot(flame3.grid*1000., X_CH4_3, '-',  label='CH4 Mix', color='black' )\n",
    "ax.plot(flame3.grid*1000., X_O2_3,  '-',  label='O2 Mix',  color='red'   )\n",
    "ax.plot(flame3.grid*1000., X_CO2_3, '-',  label='CO2 Mix', color='blue'  )\n",
    "ax.plot(flame3.grid*1000., X_H2O_3, '-',  label='H2O Mix', color='green' )\n",
    "ax.set(xlim=(4.5,7.0),\n",
    "       xlabel='Distance (mm)',\n",
    "       ylabel='Mole fraction (-)',\n",
    "       title ='Species mole fractions vs. distance for a laminar premixed flame')\n",
    "ax.grid(True)\n",
    "ax.legend(handlelength=4,loc='best')\n",
    "fig.savefig(\"Xmajor_vs_x_LPF_zoom.pdf\")"
   ]
  },
  {
   "cell_type": "markdown",
   "metadata": {},
   "source": [
    "As was the case for the temperature profiles, some differences can be seen between the unity-Lewis-number model and the two models that consider differential species diffusion. Let's look at three low-molecular-weight species that we know can be especially important in combustion."
   ]
  },
  {
   "cell_type": "code",
   "execution_count": 25,
   "metadata": {},
   "outputs": [
    {
     "data": {
      "image/png": "[encoded data removed]",
      "text/plain": [
       "<Figure size 432x288 with 1 Axes>"
      ]
     },
     "metadata": {
      "needs_background": "light"
     },
     "output_type": "display_data"
    }
   ],
   "source": [
    "# plot steady-state minor species mole-fraction profiles\n",
    "X_H2_1 = flame1.X[gas1.species_index('H2')]\n",
    "X_H_1  = flame1.X[gas1.species_index('H')]\n",
    "X_OH_1 = flame1.X[gas1.species_index('OH')]\n",
    "\n",
    "X_H2_2 = flame2.X[gas2.species_index('H2')]\n",
    "X_H_2  = flame2.X[gas2.species_index('H')]\n",
    "X_OH_2 = flame2.X[gas2.species_index('OH')]\n",
    "\n",
    "X_H2_3 = flame3.X[gas3.species_index('H2')]\n",
    "X_H_3  = flame3.X[gas3.species_index('H')]\n",
    "X_OH_3 = flame3.X[gas3.species_index('OH')]\n",
    "\n",
    "fig, ax = plt.subplots()\n",
    "ax.plot(flame1.grid*1000., X_H2_1, ':',  label='H2 Le1',   color='black')\n",
    "ax.plot(flame1.grid*1000., X_H_1,  ':',  label='H  Le1',   color='red'  )\n",
    "ax.plot(flame1.grid*1000., X_OH_1, ':',  label='OH Le1',   color='blue' )\n",
    "ax.plot(flame2.grid*1000., X_H2_2, '--', label='H2 Mix',   color='black')\n",
    "ax.plot(flame2.grid*1000., X_H_2,  '--', label='H  Mix',   color='red'  )\n",
    "ax.plot(flame2.grid*1000., X_OH_2, '--', label='OH Mix',   color='blue' )\n",
    "ax.plot(flame3.grid*1000., X_H2_3, '-',  label='H2 Multi', color='black')\n",
    "ax.plot(flame3.grid*1000., X_H_3,  '-',  label='H  Multi', color='red'  )\n",
    "ax.plot(flame3.grid*1000., X_OH_3, '-',  label='OH Multi', color='blue' )\n",
    "\n",
    "ax.set(xlim=(4.5,8.0),\n",
    "       xlabel='Distance (mm)',\n",
    "       ylabel='Mole fraction (-)',\n",
    "       title ='Species mole fractions vs. distance for a laminar premixed flame')\n",
    "ax.grid(True)\n",
    "ax.legend(handlelength=4,loc='best')\n",
    "fig.savefig(\"Xminor_vs_x_LPF_zoom.pdf\")"
   ]
  },
  {
   "cell_type": "markdown",
   "metadata": {},
   "source": [
    "The differences between the unity-Lewis-number results and those from the two models that consider differential species diffusion are more evident here, especially for H and H2. Let's look more closely at these two species, to see if we can spot any differences between the mixture-averaged diffusion model and the multicomponent diffusion model:\n",
    "\n"
   ]
  },
  {
   "cell_type": "code",
   "execution_count": 26,
   "metadata": {},
   "outputs": [
    {
     "data": {
      "image/png": "[encoded data removed]",
      "text/plain": [
       "<Figure size 432x288 with 1 Axes>"
      ]
     },
     "metadata": {
      "needs_background": "light"
     },
     "output_type": "display_data"
    }
   ],
   "source": [
    "# plot steady-state H and H2 mole-fraction profiles for the two models that consider differential species diffusion\n",
    "fig, ax = plt.subplots()\n",
    "ax.plot(flame2.grid*1000., X_H2_2, '--', label='H2 Mix',   color='black')\n",
    "ax.plot(flame2.grid*1000., X_H_2,  '--', label='H  Mix',   color='red'  )\n",
    "ax.plot(flame3.grid*1000., X_H2_3, '-',  label='H2 Multi', color='black')\n",
    "ax.plot(flame3.grid*1000., X_H_3,  '-',  label='H  Multi', color='red'  )\n",
    "\n",
    "ax.set(xlim=(5.2,5.8),\n",
    "       xlabel='Distance (mm)',\n",
    "       ylabel='Mole fraction (-)',\n",
    "       title ='Species mole fractions vs. distance for a laminar premixed flame')\n",
    "ax.grid(True)\n",
    "ax.legend(handlelength=4,loc='best')\n",
    "fig.savefig(\"H-H2_vs_x_LPF_zoom.pdf\")"
   ]
  },
  {
   "cell_type": "markdown",
   "metadata": {},
   "source": [
    "There are small differences, but we need to look closely to see them.\n",
    "\n",
    "Finally, let's look at the heat-release-rate profiles:"
   ]
  },
  {
   "cell_type": "code",
   "execution_count": 27,
   "metadata": {},
   "outputs": [
    {
     "data": {
      "image/png": "[encoded data removed]",
      "text/plain": [
       "<Figure size 432x288 with 1 Axes>"
      ]
     },
     "metadata": {
      "needs_background": "light"
     },
     "output_type": "display_data"
    }
   ],
   "source": [
    "# plot the steady-state heat-release-rate profiles\n",
    "fig, ax = plt.subplots()\n",
    "ax.plot(flame1.grid*1000., flame1.heat_release_rate, ':',  label='Le1',   color='black')\n",
    "ax.plot(flame2.grid*1000., flame2.heat_release_rate, '--', label='Mix',   color='red'  )\n",
    "ax.plot(flame3.grid*1000., flame3.heat_release_rate, '-',  label='Multi', color='blue' )\n",
    "ax.set(xlim=(5.2, 5.8),\n",
    "       xlabel='Distance (mm)',\n",
    "       ylabel='Heat-release rate (W/m^3)',\n",
    "       title ='HRR vs. distance for a premixed laminar flame')\n",
    "ax.grid(True)\n",
    "ax.legend(handlelength=4,loc='best')\n",
    "fig.savefig(\"HRR_vs_x_LPF_zoom.pdf\")"
   ]
  },
  {
   "cell_type": "markdown",
   "metadata": {},
   "source": [
    "Again, the main difference that can be seen is between the unity-Lewis-number model and the two models that consider differential species diffusion. And the main difference is a spatial shift in the heat-release profile, rather than a major difference in the profile shape.\n",
    "\n",
    "These results suggest that differential diffusion effects might be even more important in hydrogen-fueled flames. We look at that next."
   ]
  },
  {
   "cell_type": "markdown",
   "metadata": {},
   "source": [
    "## 4. A hydrogen-air flame"
   ]
  },
  {
   "cell_type": "code",
   "execution_count": 28,
   "metadata": {},
   "outputs": [],
   "source": [
    "# define the gas mixtures\n",
    "gas4 = ct.Solution('gri30.cti')\n",
    "gas5 = ct.Solution('gri30.cti')\n",
    "gas6 = ct.Solution('gri30.cti')"
   ]
  },
  {
   "cell_type": "code",
   "execution_count": 29,
   "metadata": {},
   "outputs": [],
   "source": [
    "# specify the unburned reactant mixture thermochemical state\n",
    "# here we consider a stoichiometric mixture of H2 and air at ambient pressure and temperature\n",
    "T_u  = 300.       # (K)\n",
    "P_u  = ct.one_atm # (Pa)\n",
    "fuel = 'H2'\n",
    "air  = {'O2':1.0, 'N2':3.76}\n",
    "phi  = 1.0\n",
    "\n",
    "gas4.TP = T_u, P_u\n",
    "gas4.set_equivalence_ratio(phi, fuel, air)\n",
    "\n",
    "gas5.TP = T_u, P_u\n",
    "gas5.set_equivalence_ratio(phi, fuel, air)\n",
    "\n",
    "gas6.TP = T_u, P_u\n",
    "gas6.set_equivalence_ratio(phi, fuel, air)"
   ]
  },
  {
   "cell_type": "code",
   "execution_count": 30,
   "metadata": {},
   "outputs": [],
   "source": [
    "# specify the initial width of the 1D computational domain\n",
    "width = 0.015 # (m)\n",
    "\n",
    "# create the flame objects by filling the computational domain with the desired gas mixture\n",
    "flame4 = ct.FreeFlame(gas4, width=width)\n",
    "flame5 = ct.FreeFlame(gas5, width=width)\n",
    "flame6 = ct.FreeFlame(gas6, width=width)\n",
    "\n",
    "# specify numerical parameters used to control local grid refinement\n",
    "flame4.set_refine_criteria(ratio=3, slope=0.1, curve=0.1)\n",
    "flame5.set_refine_criteria(ratio=3, slope=0.1, curve=0.1)\n",
    "flame6.set_refine_criteria(ratio=3, slope=0.1, curve=0.1)\n",
    "\n",
    "# specify the transport model to use for each flame\n",
    "flame4.transport_model = \"UnityLewis\"\n",
    "flame5.transport_model = \"Mix\"\n",
    "flame6.transport_model = \"Multi\"\n",
    "\n",
    "# specify the level of output desired\n",
    "loglevel = 1"
   ]
  },
  {
   "cell_type": "code",
   "execution_count": 31,
   "metadata": {},
   "outputs": [
    {
     "name": "stdout",
     "output_type": "stream",
     "text": [
      "\n",
      "..............................................................................\n",
      "Attempt Newton solution of steady-state problem...    failure. \n",
      "Take 10 timesteps     4.746e-06      7.223\n",
      "Attempt Newton solution of steady-state problem...    failure. \n",
      "Take 10 timesteps     0.0001216      4.995\n",
      "Attempt Newton solution of steady-state problem...    success.\n",
      "\n",
      "Problem solved on [9] point grid(s).\n",
      "\n",
      "..............................................................................\n",
      "##############################################################################\n",
      "Refining grid in flame.\n",
      "    New points inserted after grid points 0 1 2 3 4 5 6 7 \n",
      "    to resolve H H2 H2O H2O2 HNO HO2 N N2 N2O NNH NO NO2 O O2 OH T u \n",
      "##############################################################################\n",
      "\n",
      "..............................................................................\n",
      "Attempt Newton solution of steady-state problem...    failure. \n",
      "Take 10 timesteps     4.271e-05      5.817\n",
      "Attempt Newton solution of steady-state problem...    success.\n",
      "\n",
      "Problem solved on [17] point grid(s).\n",
      "\n",
      "..............................................................................\n",
      "##############################################################################\n",
      "Refining grid in flame.\n",
      "    New points inserted after grid points 3 4 5 6 7 8 9 12 13 14 15 \n",
      "    to resolve H H2 H2O H2O2 HO2 N N2 N2O NNH NO NO2 O O2 OH T u \n",
      "##############################################################################\n",
      "\n",
      "..............................................................................\n",
      "Attempt Newton solution of steady-state problem...    failure. \n",
      "Take 10 timesteps     0.0002563       4.45\n",
      "Attempt Newton solution of steady-state problem...    success.\n",
      "\n",
      "Problem solved on [28] point grid(s).\n",
      "\n",
      "..............................................................................\n",
      "##############################################################################\n",
      "Refining grid in flame.\n",
      "    New points inserted after grid points 6 7 8 9 10 11 12 13 14 25 26 \n",
      "    to resolve H H2 H2O H2O2 HO2 N N2 N2O NNH NO NO2 O O2 OH T u \n",
      "##############################################################################\n",
      "\n",
      "..............................................................................\n",
      "Attempt Newton solution of steady-state problem...    success.\n",
      "\n",
      "Problem solved on [39] point grid(s).\n",
      "\n",
      "..............................................................................\n",
      "##############################################################################\n",
      "Refining grid in flame.\n",
      "    New points inserted after grid points 8 9 10 11 12 13 14 15 16 17 \n",
      "    to resolve H H2 H2O H2O2 HO2 N N2 N2O NNH NO NO2 O O2 OH T u \n",
      "##############################################################################\n",
      "\n",
      "..............................................................................\n",
      "Attempt Newton solution of steady-state problem...    success.\n",
      "\n",
      "Problem solved on [49] point grid(s).\n",
      "\n",
      "..............................................................................\n",
      "##############################################################################\n",
      "Refining grid in flame.\n",
      "    New points inserted after grid points 11 12 13 14 15 16 17 18 19 20 21 22 \n",
      "    to resolve H H2 H2O H2O2 HO2 N2 NNH NO NO2 O O2 OH T u \n",
      "##############################################################################\n",
      "\n",
      "..............................................................................\n",
      "Attempt Newton solution of steady-state problem...    success.\n",
      "\n",
      "Problem solved on [61] point grid(s).\n",
      "\n",
      "..............................................................................\n",
      "##############################################################################\n",
      "Refining grid in flame.\n",
      "    New points inserted after grid points 13 14 15 16 17 18 19 20 21 22 23 24 25 26 27 28 29 30 \n",
      "    to resolve H H2 H2O H2O2 HO2 N2 NO NO2 O O2 OH T u \n",
      "##############################################################################\n",
      "\n",
      "..............................................................................\n",
      "Attempt Newton solution of steady-state problem...    success.\n",
      "\n",
      "Problem solved on [79] point grid(s).\n",
      "\n",
      "..............................................................................\n",
      "##############################################################################\n",
      "Refining grid in flame.\n",
      "    New points inserted after grid points 19 20 21 22 23 24 25 26 27 28 29 30 31 32 33 34 35 36 37 38 39 40 41 42 \n",
      "    to resolve H H2 H2O H2O2 HO2 O O2 OH T u \n",
      "##############################################################################\n",
      "\n",
      "..............................................................................\n",
      "Attempt Newton solution of steady-state problem...    success.\n",
      "\n",
      "Problem solved on [103] point grid(s).\n",
      "\n",
      "..............................................................................\n",
      "##############################################################################\n",
      "Refining grid in flame.\n",
      "    New points inserted after grid points 29 30 31 32 33 34 \n",
      "    to resolve HO2 \n",
      "##############################################################################\n",
      "\n",
      "..............................................................................\n",
      "Attempt Newton solution of steady-state problem...    success.\n",
      "\n",
      "Problem solved on [109] point grid(s).\n",
      "\n",
      "..............................................................................\n",
      "no new points needed in flame\n",
      "Flame Speed is: 1.67 m/s. Simulation took 4.62 s\n"
     ]
    }
   ],
   "source": [
    "# solve flame 4\n",
    "ctim0 = time.time()\n",
    "\n",
    "flame4.solve(loglevel=loglevel, auto=False)\n",
    "\n",
    "ctim1 = time.time()\n",
    "ctime = ctim1 - ctim0\n",
    "ctfl4 = ctime\n",
    "\n",
    "S_L4 = flame4.u[0]\n",
    "print(\"Flame Speed is: {:.2f} m/s. Simulation took {:.2f} s\".format(S_L4,ctime))"
   ]
  },
  {
   "cell_type": "code",
   "execution_count": 32,
   "metadata": {},
   "outputs": [
    {
     "name": "stdout",
     "output_type": "stream",
     "text": [
      "\n",
      "..............................................................................\n",
      "Attempt Newton solution of steady-state problem...    failure. \n",
      "Take 10 timesteps     4.746e-06      7.161\n",
      "Attempt Newton solution of steady-state problem...    failure. \n",
      "Take 10 timesteps     0.0001216      5.205\n",
      "Attempt Newton solution of steady-state problem...    success.\n",
      "\n",
      "Problem solved on [9] point grid(s).\n",
      "\n",
      "..............................................................................\n",
      "##############################################################################\n",
      "Refining grid in flame.\n",
      "    New points inserted after grid points 0 1 2 3 4 5 6 7 \n",
      "    to resolve H H2 H2O H2O2 HO2 N N2 N2O NNH NO NO2 O O2 OH T u \n",
      "##############################################################################\n",
      "\n",
      "..............................................................................\n",
      "Attempt Newton solution of steady-state problem...    failure. \n",
      "Take 10 timesteps     0.0001709       4.96\n",
      "Attempt Newton solution of steady-state problem...    success.\n",
      "\n",
      "Problem solved on [17] point grid(s).\n",
      "\n",
      "..............................................................................\n",
      "##############################################################################\n",
      "Refining grid in flame.\n",
      "    New points inserted after grid points 3 4 5 6 7 8 9 10 12 14 15 \n",
      "    to resolve H H2 H2O H2O2 HO2 N N2 N2O NNH NO NO2 O O2 OH T u \n",
      "##############################################################################\n",
      "\n",
      "..............................................................................\n",
      "Attempt Newton solution of steady-state problem...    success.\n",
      "\n",
      "Problem solved on [28] point grid(s).\n",
      "\n",
      "..............................................................................\n",
      "##############################################################################\n",
      "Refining grid in flame.\n",
      "    New points inserted after grid points 6 7 8 9 10 11 12 13 14 25 26 \n",
      "    to resolve H H2 H2O H2O2 HO2 N N2 N2O NNH NO NO2 O O2 OH T u \n",
      "##############################################################################\n",
      "\n",
      "..............................................................................\n",
      "Attempt Newton solution of steady-state problem...    success.\n",
      "\n",
      "Problem solved on [39] point grid(s).\n",
      "\n",
      "..............................................................................\n",
      "##############################################################################\n",
      "Refining grid in flame.\n",
      "    New points inserted after grid points 8 9 10 11 12 13 14 15 16 17 31 36 37 \n",
      "    to resolve H H2 H2O H2O2 HO2 N N2 N2O NNH NO O O2 OH T u \n",
      "##############################################################################\n",
      "\n",
      "..............................................................................\n",
      "Attempt Newton solution of steady-state problem...    success.\n",
      "\n",
      "Problem solved on [52] point grid(s).\n",
      "\n",
      "..............................................................................\n",
      "##############################################################################\n",
      "Refining grid in flame.\n",
      "    New points inserted after grid points 11 12 13 14 15 16 17 18 19 20 21 22 23 \n",
      "    to resolve H H2 H2O H2O2 HO2 N2 NO O O2 OH T u \n",
      "##############################################################################\n",
      "\n",
      "..............................................................................\n",
      "Attempt Newton solution of steady-state problem...    success.\n",
      "\n",
      "Problem solved on [65] point grid(s).\n",
      "\n",
      "..............................................................................\n",
      "##############################################################################\n",
      "Refining grid in flame.\n",
      "    New points inserted after grid points 14 15 16 17 18 19 20 21 22 23 24 25 26 27 28 29 30 31 \n",
      "    to resolve H H2 H2O H2O2 HO2 N2 NO O O2 OH T u \n",
      "##############################################################################\n",
      "\n",
      "..............................................................................\n",
      "Attempt Newton solution of steady-state problem...    success.\n",
      "\n",
      "Problem solved on [83] point grid(s).\n",
      "\n",
      "..............................................................................\n",
      "##############################################################################\n",
      "Refining grid in flame.\n",
      "    New points inserted after grid points 17 18 19 20 21 22 23 24 25 26 27 28 29 30 31 32 33 34 35 36 \n",
      "    to resolve H H2O2 HO2 N2 O OH T u \n",
      "##############################################################################\n",
      "\n",
      "..............................................................................\n",
      "Attempt Newton solution of steady-state problem...    success.\n",
      "\n",
      "Problem solved on [103] point grid(s).\n",
      "\n",
      "..............................................................................\n",
      "##############################################################################\n",
      "Refining grid in flame.\n",
      "    New points inserted after grid points 20 21 22 23 24 25 26 27 28 29 30 31 32 33 100 101 \n",
      "    to resolve H2O2 HO2 NO \n",
      "##############################################################################\n",
      "\n",
      "..............................................................................\n",
      "Attempt Newton solution of steady-state problem...    success.\n",
      "\n",
      "Problem solved on [119] point grid(s).\n",
      "\n",
      "..............................................................................\n",
      "##############################################################################\n",
      "Refining grid in flame.\n",
      "    New points inserted after grid points 33 34 35 36 37 \n",
      "    to resolve HO2 \n",
      "##############################################################################\n",
      "\n",
      "..............................................................................\n",
      "Attempt Newton solution of steady-state problem...    success.\n",
      "\n",
      "Problem solved on [124] point grid(s).\n",
      "\n",
      "..............................................................................\n",
      "no new points needed in flame\n",
      "Flame Speed is: 2.35 m/s. Simulation took 5.59 s\n"
     ]
    }
   ],
   "source": [
    "# solve flame 5\n",
    "ctim0 = time.time()\n",
    "\n",
    "flame5.solve(loglevel=loglevel, auto=False)\n",
    "\n",
    "ctim1 = time.time()\n",
    "ctime = ctim1 - ctim0\n",
    "ctfl5 = ctime\n",
    "\n",
    "S_L5 = flame5.u[0]\n",
    "print(\"Flame Speed is: {:.2f} m/s. Simulation took {:.2f} s\".format(S_L5,ctime))"
   ]
  },
  {
   "cell_type": "code",
   "execution_count": 33,
   "metadata": {},
   "outputs": [
    {
     "name": "stdout",
     "output_type": "stream",
     "text": [
      "\n",
      "..............................................................................\n",
      "Attempt Newton solution of steady-state problem...    failure. \n",
      "Take 10 timesteps     4.746e-06       7.19\n",
      "Attempt Newton solution of steady-state problem...    failure. \n",
      "Take 10 timesteps     0.0001216      5.139\n",
      "Attempt Newton solution of steady-state problem...    success.\n",
      "\n",
      "Problem solved on [9] point grid(s).\n",
      "\n",
      "..............................................................................\n",
      "##############################################################################\n",
      "Refining grid in flame.\n",
      "    New points inserted after grid points 0 1 2 3 4 5 6 7 \n",
      "    to resolve H H2 H2O H2O2 HO2 N N2 N2O NNH NO NO2 O O2 OH T u \n",
      "##############################################################################\n",
      "\n",
      "..............................................................................\n",
      "Attempt Newton solution of steady-state problem...    failure. \n",
      "Take 10 timesteps     0.0001709       5.01\n",
      "Attempt Newton solution of steady-state problem...    success.\n",
      "\n",
      "Problem solved on [17] point grid(s).\n",
      "\n",
      "..............................................................................\n",
      "##############################################################################\n",
      "Refining grid in flame.\n",
      "    New points inserted after grid points 3 4 5 6 7 8 9 12 13 14 15 \n",
      "    to resolve H H2 H2O H2O2 HO2 N N2 N2O NNH NO NO2 O O2 OH T u \n",
      "##############################################################################\n",
      "\n",
      "..............................................................................\n",
      "Attempt Newton solution of steady-state problem...    failure. \n",
      "Take 10 timesteps     0.0002563      4.372\n",
      "Attempt Newton solution of steady-state problem...    success.\n",
      "\n",
      "Problem solved on [28] point grid(s).\n",
      "\n",
      "..............................................................................\n",
      "##############################################################################\n",
      "Refining grid in flame.\n",
      "    New points inserted after grid points 6 7 8 9 10 11 12 13 14 25 26 \n",
      "    to resolve H H2 H2O H2O2 HO2 N N2 N2O NNH NO NO2 O O2 OH T u \n",
      "##############################################################################\n",
      "\n",
      "..............................................................................\n",
      "Attempt Newton solution of steady-state problem...    success.\n",
      "\n",
      "Problem solved on [39] point grid(s).\n",
      "\n",
      "..............................................................................\n",
      "##############################################################################\n",
      "Refining grid in flame.\n",
      "    New points inserted after grid points 8 9 10 11 12 13 14 15 16 17 36 37 \n",
      "    to resolve H H2 H2O H2O2 HO2 N N2 N2O NNH NO O O2 OH T u \n",
      "##############################################################################\n",
      "\n",
      "..............................................................................\n",
      "Attempt Newton solution of steady-state problem...    success.\n",
      "\n",
      "Problem solved on [51] point grid(s).\n",
      "\n",
      "..............................................................................\n",
      "##############################################################################\n",
      "Refining grid in flame.\n",
      "    New points inserted after grid points 11 12 13 14 15 16 17 18 19 20 21 22 23 \n",
      "    to resolve H H2 H2O H2O2 HO2 N2 NO O O2 OH T u \n",
      "##############################################################################\n",
      "\n",
      "..............................................................................\n",
      "Attempt Newton solution of steady-state problem...    success.\n",
      "\n",
      "Problem solved on [64] point grid(s).\n",
      "\n",
      "..............................................................................\n",
      "##############################################################################\n",
      "Refining grid in flame.\n",
      "    New points inserted after grid points 14 15 16 17 18 19 20 21 22 23 24 25 26 27 28 29 30 31 \n",
      "    to resolve H H2 H2O H2O2 HO2 N2 NO O O2 OH T u \n",
      "##############################################################################\n",
      "\n",
      "..............................................................................\n",
      "Attempt Newton solution of steady-state problem...    success.\n",
      "\n",
      "Problem solved on [82] point grid(s).\n",
      "\n",
      "..............................................................................\n",
      "##############################################################################\n",
      "Refining grid in flame.\n",
      "    New points inserted after grid points 17 18 19 20 21 22 23 24 25 26 27 28 29 30 31 32 33 34 35 \n",
      "    to resolve H H2O2 HO2 N2 O OH T u \n",
      "##############################################################################\n",
      "\n",
      "..............................................................................\n",
      "Attempt Newton solution of steady-state problem...    success.\n",
      "\n",
      "Problem solved on [101] point grid(s).\n",
      "\n",
      "..............................................................................\n",
      "##############################################################################\n",
      "Refining grid in flame.\n",
      "    New points inserted after grid points 20 21 22 23 24 25 26 27 28 29 30 31 32 33 98 99 \n",
      "    to resolve H2O2 HO2 NO \n",
      "##############################################################################\n",
      "\n",
      "..............................................................................\n",
      "Attempt Newton solution of steady-state problem...    success.\n",
      "\n",
      "Problem solved on [117] point grid(s).\n",
      "\n",
      "..............................................................................\n",
      "##############################################################################\n",
      "Refining grid in flame.\n",
      "    New points inserted after grid points 34 35 36 37 38 \n",
      "    to resolve HO2 \n",
      "##############################################################################\n",
      "\n",
      "..............................................................................\n",
      "Attempt Newton solution of steady-state problem...    success.\n",
      "\n",
      "Problem solved on [122] point grid(s).\n",
      "\n",
      "..............................................................................\n",
      "no new points needed in flame\n",
      "Flame Speed is: 2.30 m/s. Simulation took 25.23 s\n"
     ]
    }
   ],
   "source": [
    "# solve flame 6\n",
    "ctim0 = time.time()\n",
    "\n",
    "flame6.solve(loglevel=loglevel, auto=False)\n",
    "\n",
    "ctim1 = time.time()\n",
    "ctime = ctim1 - ctim0\n",
    "ctfl6 = ctime\n",
    "\n",
    "S_L6 = flame6.u[0]\n",
    "print(\"Flame Speed is: {:.2f} m/s. Simulation took {:.2f} s\".format(S_L6,ctime))"
   ]
  },
  {
   "cell_type": "code",
   "execution_count": 34,
   "metadata": {},
   "outputs": [
    {
     "data": {
      "text/plain": [
       "(1.6733597741079356, 2.3475441255632727, 2.29542878418944)"
      ]
     },
     "execution_count": 34,
     "metadata": {},
     "output_type": "execute_result"
    }
   ],
   "source": [
    "# print the three flame speeds (m/s)\n",
    "S_L4 , S_L5 , S_L6"
   ]
  },
  {
   "cell_type": "markdown",
   "metadata": {},
   "source": [
    "Note that the laminar flame speeds for H2 fuel are significantly higher than those for hydrocarbon fuels. As before, the flame speeds for the two cases that consider differential species diffusion are equal to two significant figures, and the flame speed for the unity-Lewis-number case is approximately 25% lower."
   ]
  },
  {
   "cell_type": "code",
   "execution_count": 35,
   "metadata": {},
   "outputs": [
    {
     "data": {
      "text/plain": [
       "(4.620271682739258, 5.5900068283081055, 25.22705578804016)"
      ]
     },
     "execution_count": 35,
     "metadata": {},
     "output_type": "execute_result"
    }
   ],
   "source": [
    "# print the computational times required (s)\n",
    "ctfl4 , ctfl5 , ctfl6"
   ]
  },
  {
   "cell_type": "markdown",
   "metadata": {},
   "source": [
    "In this case, the unity-Lewis-number model requires less computational time than the mixture-averaged model. And the multicomponent diffusion model requires approximately four times the computational time of the mixture-averaged diffusion model."
   ]
  },
  {
   "cell_type": "code",
   "execution_count": 36,
   "metadata": {},
   "outputs": [
    {
     "data": {
      "image/png": "[encoded data removed]",
      "text/plain": [
       "<Figure size 432x288 with 1 Axes>"
      ]
     },
     "metadata": {
      "needs_background": "light"
     },
     "output_type": "display_data"
    }
   ],
   "source": [
    "# plot the steady-state temperature profiles\n",
    "fig, ax = plt.subplots()\n",
    "ax.plot(flame4.grid*1000., flame4.T, label='Le1'  )\n",
    "ax.plot(flame5.grid*1000., flame5.T, label='Mix'  )\n",
    "ax.plot(flame6.grid*1000., flame6.T, label='Multi')\n",
    "ax.set(xlim=(5.0,6.0),\n",
    "       xlabel='Distance (mm)',\n",
    "       ylabel='Temperature (K)',\n",
    "       title ='Temperature vs. distance for a laminar premixed flame')\n",
    "ax.grid(True)\n",
    "ax.legend(handlelength=4,loc='best')\n",
    "fig.savefig(\"T_vs_x_H2_LPF_zoom.pdf\")"
   ]
  },
  {
   "cell_type": "code",
   "execution_count": 37,
   "metadata": {},
   "outputs": [
    {
     "data": {
      "image/png": "[encoded data removed]",
      "text/plain": [
       "<Figure size 432x288 with 1 Axes>"
      ]
     },
     "metadata": {
      "needs_background": "light"
     },
     "output_type": "display_data"
    }
   ],
   "source": [
    "# plot steady-state H and H2 mole-fraction profiles for the two models that consider differential species diffusion\n",
    "X_H2_4 = flame4.X[gas1.species_index('H2')]\n",
    "X_H_4  = flame4.X[gas1.species_index('H')]\n",
    "X_OH_4 = flame4.X[gas1.species_index('OH')]\n",
    "\n",
    "X_H2_5 = flame5.X[gas2.species_index('H2')]\n",
    "X_H_5  = flame5.X[gas2.species_index('H')]\n",
    "X_OH_5 = flame5.X[gas2.species_index('OH')]\n",
    "\n",
    "X_H2_6 = flame6.X[gas3.species_index('H2')]\n",
    "X_H_6  = flame6.X[gas3.species_index('H')]\n",
    "X_OH_6 = flame6.X[gas3.species_index('OH')]\n",
    "\n",
    "fig, ax = plt.subplots()\n",
    "ax.plot(flame4.grid*1000., X_H2_4, '--', label='H2 Mix',   color='black')\n",
    "ax.plot(flame4.grid*1000., X_H_4,  '--', label='H  Mix',   color='red'  )\n",
    "ax.plot(flame5.grid*1000., X_H2_5, '-',  label='H2 Multi', color='black')\n",
    "ax.plot(flame5.grid*1000., X_H_5,  '-',  label='H  Multi', color='red'  )\n",
    "\n",
    "ax.set(xlim=(5.0,5.8),\n",
    "       xlabel='Distance (mm)',\n",
    "       ylabel='Mole fraction (-)',\n",
    "       title ='Species mole fractions vs. distance for a laminar premixed flame')\n",
    "ax.grid(True)\n",
    "ax.legend(handlelength=4,loc='best')\n",
    "fig.savefig(\"H-H2_vs_x_H2_LPF_zoom.pdf\")"
   ]
  },
  {
   "cell_type": "markdown",
   "metadata": {},
   "source": [
    "Here we can see some differences between the mixture-averaged model and the multicomponent model."
   ]
  },
  {
   "cell_type": "code",
   "execution_count": 38,
   "metadata": {},
   "outputs": [
    {
     "data": {
      "image/png": "[encoded data removed]",
      "text/plain": [
       "<Figure size 432x288 with 1 Axes>"
      ]
     },
     "metadata": {
      "needs_background": "light"
     },
     "output_type": "display_data"
    }
   ],
   "source": [
    "# plot the steady-state heat-release-rate profiles\n",
    "fig, ax = plt.subplots()\n",
    "ax.plot(flame4.grid*1000., flame4.heat_release_rate, ':',  label='Le1',   color='black')\n",
    "ax.plot(flame5.grid*1000., flame5.heat_release_rate, '--', label='Mix',   color='red'  )\n",
    "ax.plot(flame6.grid*1000., flame6.heat_release_rate, '-',  label='Multi', color='blue' )\n",
    "ax.set(xlim=(5.0, 5.5),\n",
    "       xlabel='Distance (mm)',\n",
    "       ylabel='Heat-release rate (W/m^3)',\n",
    "       title ='HRR vs. distance for a premixed laminar flame')\n",
    "ax.grid(True)\n",
    "ax.legend(handlelength=4,loc='best')\n",
    "fig.savefig(\"HRR_vs_x_LPF_H2_zoom.pdf\")"
   ]
  },
  {
   "cell_type": "markdown",
   "metadata": {},
   "source": [
    "In this case, the overall shapes of the profiles are different between the unity-Lewis-number model and the two other models. And again, the differences between the two models that consider differential species diffusion are small, but are discernible."
   ]
  },
  {
   "cell_type": "markdown",
   "metadata": {},
   "source": [
    "## 5. What's next"
   ]
  },
  {
   "cell_type": "markdown",
   "metadata": {},
   "source": [
    "While we haven't done an exhaustive study on the influence of the molecular transport model on laminar premixed flame speed and flame structure structure, we can draw two key conclusions: \n",
    "\n",
    "* Differential species diffusion can be important in laminar premixed flames, especially when there is a large difference between the molecular weights of the fuel and the oxidizer (e.g., H2 fuel and air oxidizer).\n",
    "\n",
    "* A mixture-averaged diffusion model gives results that are essentially the same as those from a full multicomponent diffusion model. This will not always be the case, but for our purposes, a mixture-averaged diffusion model will be sufficient as we progress through the remainder of Turns 4th ed. That is good news, as a full multicomponent diffusion model is computationally expensive, and becomes rapidly more so as the number of species increases.\n",
    "\n",
    "Finally, we note that we have not considered species diffusion mechanisms beyond ordinary species diffusion (see Chapter 7). Again, this will be satisfactory for our purposes going forward. "
   ]
  },
  {
   "cell_type": "code",
   "execution_count": null,
   "metadata": {},
   "outputs": [],
   "source": []
  }
 ],
 "metadata": {
  "kernelspec": {
   "display_name": "Python 3",
   "language": "python",
   "name": "python3"
  },
  "language_info": {
   "codemirror_mode": {
    "name": "ipython",
    "version": 3
   },
   "file_extension": ".py",
   "mimetype": "text/x-python",
   "name": "python",
   "nbconvert_exporter": "python",
   "pygments_lexer": "ipython3",
   "version": "3.8.3"
  }
 },
 "nbformat": 4,
 "nbformat_minor": 4
}
