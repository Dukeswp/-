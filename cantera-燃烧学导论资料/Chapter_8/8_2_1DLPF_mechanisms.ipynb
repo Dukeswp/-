{
 "cells": [
  {
   "cell_type": "markdown",
   "metadata": {},
   "source": [
    "# One-Dimensional Laminar Premixed Flames: Chemical Mechanisms\n",
    "\n",
    "This Jupyter Notebook was written by Dan Haworth. It is intended as a tutorial to be used in parallel with Chapter 8 of the book \"An Introduction to Combustion: Concepts and Applications\" by Stephen R. Turns and Daniel C. Haworth. That book is referred to as \"Turns 4th ed.\" throughout this Notebook.\n",
    "\n",
    "This Notebook was last updated 19 February 2020.\n",
    "\n",
    "The objective of this tutorial is to compare laminar flame speeds and flame structures computed using a realistic reaction mechanism with those obtained using a highly reduced global mechanism. We will use the thermodynamic properties, reaction mechanism, and molecular transport properties that are included in CERFACS_2step_propane.cti and Peters_C3H8.cti.\n",
    "\n",
    "The files \"CERFACS_2step_propane.cti\" (used earlier in tutorial Notebook 5_1_Global_reactions) and \"Peters_C3H8.cti\" (both are provided with this Notebook) must be placed in a folder or directory named \"data\" that is immediately below the folder or directory from which you have opened this Notebook. If you downloaded the .zip file that contains all of the tutorial Notebooks, the appropriate folder and file structure should be in place. The .cti files are also available at https://www.cerfacs.fr/cantera/mechanisms/prop.php.\n",
    "\n",
    "The reader should be familiar with the material in the previous tutorial Notebook (8_1_Steady_1D_laminar_premixed_flame) before working through this Notebook."
   ]
  },
  {
   "cell_type": "markdown",
   "metadata": {},
   "source": [
    "## 1. Motivation and scope"
   ]
  },
  {
   "cell_type": "markdown",
   "metadata": {},
   "source": [
    "In the previous tutorial Notebook (8_1_Steady_1D_laminar_premixed_flame), we looked at how to set up and solve for the laminar flame speed and flame structure using Cantera. As discussed there and in Chapter 8 of Turns 4th ed., the flame speed is determined by a balance between chemical reaction rates and molecular transport. In this Notebook, we look at the influence of the reaction mechanism by comparing results from a realistic multistep reaction mechanism with those from a highly reduced global mechanism, for the same molecular transport model. In the next Notebook, we will look at the influence of using different molecular transport models, for the same reaction mechanism.\n",
    "\n",
    "In general, the motivation for using a reduced reaction mechanism in numerical studies is to reduce the computational time required. That is not much of an issue when computing a single flame, but it becomes more important when we need to simulate large numbers of flames over a wide range of conditions, and eventually go beyond steady one-dimensional laminar flames. The reduced computational time for a smaller mechanism is usually at the expense of accuracy and/or generality. In general, the more highly reduced a mechanism is, the narrower the range of thermochemical conditions (pressure, temperature, and equivalence ratio) over which it can be expected to give reasonable results.\n",
    "\n",
    "Here we consider propane-air reactant mixtures, and two chemical mechanisms: a global two-step mechanism (CERFACS_2step_propane.cti) that we have used before, and a relatively more detailed mechanism (Peters_C3H8.cti), both of which are provided with this Notebook and are available at https://www.cerfacs.fr/cantera/mechanisms/prop.php. The range of conditions over which these mechanisms are intended to be used can be found there. In general, the two-step mechanism gives flame speeds that are in reasonable agreement with those from the more detailed mechanism for fuel-lean-to-stoichiometric reactants. For fuel-rich reactants, the flame speeds from the two-step mechanism are unrealistically high, as will be seen below."
   ]
  },
  {
   "cell_type": "markdown",
   "metadata": {},
   "source": [
    "## 2. Flame speed and flame structure for stoichiometric reactants"
   ]
  },
  {
   "cell_type": "markdown",
   "metadata": {},
   "source": [
    "We'll start by defining gas mixtures based on the two reaction mechanisms, and considering a stoichiometric fuel-air reactant mixture at ambient temperature and pressure."
   ]
  },
  {
   "cell_type": "code",
   "execution_count": 1,
   "metadata": {},
   "outputs": [
    {
     "name": "stdout",
     "output_type": "stream",
     "text": [
      "Running Cantera version: 2.4.0\n"
     ]
    }
   ],
   "source": [
    "# import modules\n",
    "import cantera as ct\n",
    "import numpy as np\n",
    "import matplotlib.pyplot as plt\n",
    "import time\n",
    "\n",
    "# print Cantera version\n",
    "print(\"Running Cantera version: {}\".format(ct.__version__))"
   ]
  },
  {
   "cell_type": "code",
   "execution_count": 2,
   "metadata": {},
   "outputs": [],
   "source": [
    "# define two gas mixtures using two different reaction mechanisms\n",
    "# see the comments and content of each .cti file for more information\n",
    "gas1 = ct.Solution('data/CERFACS_2step_propane.cti')\n",
    "gas2 = ct.Solution('data/Peters_C3H8.cti')"
   ]
  },
  {
   "cell_type": "markdown",
   "metadata": {},
   "source": [
    "Compare the numbers of species and numbers of reactions used in the two mechanisms, and the transport model that will be used with each."
   ]
  },
  {
   "cell_type": "code",
   "execution_count": 3,
   "metadata": {},
   "outputs": [
    {
     "data": {
      "text/plain": [
       "(6, 31)"
      ]
     },
     "execution_count": 3,
     "metadata": {},
     "output_type": "execute_result"
    }
   ],
   "source": [
    "# print the number of species in each reaction mechanism\n",
    "gas1.n_species , gas2.n_species"
   ]
  },
  {
   "cell_type": "code",
   "execution_count": 4,
   "metadata": {},
   "outputs": [
    {
     "data": {
      "text/plain": [
       "(2, 107)"
      ]
     },
     "execution_count": 4,
     "metadata": {},
     "output_type": "execute_result"
    }
   ],
   "source": [
    "# print the number of reactions in each reaction mechanism\n",
    "gas1.n_reactions , gas2.n_reactions"
   ]
  },
  {
   "cell_type": "code",
   "execution_count": 5,
   "metadata": {},
   "outputs": [
    {
     "data": {
      "text/plain": [
       "('Mix', 'Mix')"
      ]
     },
     "execution_count": 5,
     "metadata": {},
     "output_type": "execute_result"
    }
   ],
   "source": [
    "# print the transport model associated with each reaction mechanism\n",
    "gas1.transport_model , gas2.transport_model"
   ]
  },
  {
   "cell_type": "markdown",
   "metadata": {},
   "source": [
    "The larger mechanism has approximately five times the number of species and 50 times the number of reactions of the smaller mechanism. A mixture-averaged transport model is used, in both cases. For future reference, we print the species considered in both mechanisms:"
   ]
  },
  {
   "cell_type": "code",
   "execution_count": 6,
   "metadata": {},
   "outputs": [
    {
     "data": {
      "text/plain": [
       "[<Species CO>,\n",
       " <Species C3H8>,\n",
       " <Species CO2>,\n",
       " <Species H2O>,\n",
       " <Species N2>,\n",
       " <Species O2>]"
      ]
     },
     "execution_count": 6,
     "metadata": {},
     "output_type": "execute_result"
    }
   ],
   "source": [
    "# print the species considered in gas1\n",
    "gas1.species()"
   ]
  },
  {
   "cell_type": "code",
   "execution_count": 7,
   "metadata": {},
   "outputs": [
    {
     "data": {
      "text/plain": [
       "[<Species C3H8>,\n",
       " <Species C3H3>,\n",
       " <Species O>,\n",
       " <Species H>,\n",
       " <Species OH>,\n",
       " <Species CO>,\n",
       " <Species H2>,\n",
       " <Species O2>,\n",
       " <Species H2O>,\n",
       " <Species HO2>,\n",
       " <Species H2O2>,\n",
       " <Species CH>,\n",
       " <Species CH2>,\n",
       " <Species CH3>,\n",
       " <Species CH4>,\n",
       " <Species C2H>,\n",
       " <Species C2H2>,\n",
       " <Species C2H3>,\n",
       " <Species C2H4>,\n",
       " <Species C2H5>,\n",
       " <Species C2H6>,\n",
       " <Species C3H6>,\n",
       " <Species I*C3H7>,\n",
       " <Species N*C3H7>,\n",
       " <Species CO2>,\n",
       " <Species HCO>,\n",
       " <Species CH2O>,\n",
       " <Species C2HO>,\n",
       " <Species C3H4>,\n",
       " <Species C3H5>,\n",
       " <Species N2>]"
      ]
     },
     "execution_count": 7,
     "metadata": {},
     "output_type": "execute_result"
    }
   ],
   "source": [
    "# print the species considered in gas2\n",
    "gas2.species()"
   ]
  },
  {
   "cell_type": "markdown",
   "metadata": {},
   "source": [
    "By comparing the two lists, it can be seen that all of the six species considered in gas1 are also included in gas2, and that the same species names are used for these six species, in both cases."
   ]
  },
  {
   "cell_type": "code",
   "execution_count": 8,
   "metadata": {},
   "outputs": [
    {
     "name": "stdout",
     "output_type": "stream",
     "text": [
      "\n",
      "  gas:\n",
      "\n",
      "       temperature             300  K\n",
      "          pressure          303975  Pa\n",
      "           density         3.59084  kg/m^3\n",
      "  mean mol. weight         29.4655  amu\n",
      "\n",
      "                          1 kg            1 kmol\n",
      "                       -----------      ------------\n",
      "          enthalpy     -1.4014e+05       -4.129e+06     J\n",
      "   internal energy     -2.2479e+05       -6.624e+06     J\n",
      "           entropy          6583.8         1.94e+05     J/K\n",
      "    Gibbs function     -2.1153e+06       -6.233e+07     J\n",
      " heat capacity c_p          1050.3        3.095e+04     J/K\n",
      " heat capacity c_v          768.14        2.263e+04     J/K\n",
      "\n",
      "                           X                 Y          Chem. Pot. / RT\n",
      "                     -------------     ------------     ------------\n",
      "              C3H8      0.0403226        0.0603447         -76.2432\n",
      "                N2       0.758065         0.720709         -22.2111\n",
      "                O2       0.201613         0.218947         -25.1765\n",
      "     [   +3 minor]              0                0\n",
      "\n"
     ]
    }
   ],
   "source": [
    "# specify the unburned reactant mixture thermochemical state\n",
    "# here we consider a stoichiometric mixture of C3H8 and air at ambient temperature and 3 atm\n",
    "T_u  = 300.          # (K)\n",
    "P_u  = 3.*ct.one_atm # (Pa)\n",
    "fuel = 'C3H8'\n",
    "air  = {'O2':1.0, 'N2':3.76}\n",
    "phi  = 1.0\n",
    "\n",
    "gas1.TP = T_u, P_u\n",
    "gas1.set_equivalence_ratio(phi, fuel, air)\n",
    "\n",
    "gas2.TP = T_u, P_u\n",
    "gas2.set_equivalence_ratio(phi, fuel, air)\n",
    "\n",
    "# print the state of the gas1 unburned reactants\n",
    "gas1()"
   ]
  },
  {
   "cell_type": "code",
   "execution_count": 9,
   "metadata": {},
   "outputs": [
    {
     "name": "stdout",
     "output_type": "stream",
     "text": [
      "\n",
      "  gas:\n",
      "\n",
      "       temperature             300  K\n",
      "          pressure          303975  Pa\n",
      "           density         3.59084  kg/m^3\n",
      "  mean mol. weight         29.4655  amu\n",
      "\n",
      "                          1 kg            1 kmol\n",
      "                       -----------      ------------\n",
      "          enthalpy     -1.4019e+05       -4.131e+06     J\n",
      "   internal energy     -2.2484e+05       -6.625e+06     J\n",
      "           entropy            6583         1.94e+05     J/K\n",
      "    Gibbs function     -2.1151e+06       -6.232e+07     J\n",
      " heat capacity c_p          1051.4        3.098e+04     J/K\n",
      " heat capacity c_v          769.19        2.266e+04     J/K\n",
      "\n",
      "                           X                 Y          Chem. Pot. / RT\n",
      "                     -------------     ------------     ------------\n",
      "              C3H8      0.0403226        0.0603447         -76.2437\n",
      "                O2       0.201613         0.218947         -25.1636\n",
      "                N2       0.758065         0.720709         -22.2113\n",
      "     [  +28 minor]              0                0\n",
      "\n"
     ]
    }
   ],
   "source": [
    "# repeat for gas2\n",
    "gas2()"
   ]
  },
  {
   "cell_type": "markdown",
   "metadata": {},
   "source": [
    "We again use Cantera's [`FreeFlame()`](https://cantera.org/documentation/docs-2.4/sphinx/html/cython/onedim.html#freeflame) object to define the flame and to solve for the steady one-dimensional flame structure, as in the previous tutorial Notebook. We specify the same initial domain width and grid refinement parameters that we used there:"
   ]
  },
  {
   "cell_type": "code",
   "execution_count": 10,
   "metadata": {},
   "outputs": [],
   "source": [
    "# specify the initial width of the 1D computational domain\n",
    "width = 0.015 # (m)\n",
    "\n",
    "# create the flame objects by filling the computational domain with the desired gas mixture\n",
    "flame1 = ct.FreeFlame(gas1, width=width)\n",
    "flame2 = ct.FreeFlame(gas2, width=width)\n",
    "\n",
    "# specify numerical parameters used to control local grid refinement\n",
    "flame1.set_refine_criteria(ratio=3, slope=0.1, curve=0.1)\n",
    "flame2.set_refine_criteria(ratio=3, slope=0.1, curve=0.1)\n",
    "\n",
    "# specify the level of output desired\n",
    "loglevel = 1"
   ]
  },
  {
   "cell_type": "code",
   "execution_count": 11,
   "metadata": {},
   "outputs": [
    {
     "name": "stdout",
     "output_type": "stream",
     "text": [
      "\n",
      "************ Solving on 8 point grid with energy equation enabled ************\n",
      "\n",
      "..............................................................................\n",
      "Attempt Newton solution of steady-state problem...    failure. \n",
      "Take 10 timesteps     0.0001139      4.836\n",
      "Attempt Newton solution of steady-state problem...    failure. \n",
      "Take 10 timesteps      0.001946      3.799\n",
      "Attempt Newton solution of steady-state problem...    failure. \n",
      "Take 10 timesteps       0.02217      3.551\n",
      "Attempt Newton solution of steady-state problem...    success.\n",
      "\n",
      "Problem solved on [9] point grid(s).\n",
      "\n",
      "..............................................................................\n",
      "grid refinement disabled.\n",
      "\n",
      "******************** Solving with grid refinement enabled ********************\n",
      "\n",
      "..............................................................................\n",
      "Attempt Newton solution of steady-state problem...    success.\n",
      "\n",
      "Problem solved on [9] point grid(s).\n",
      "\n",
      "..............................................................................\n",
      "##############################################################################\n",
      "Refining grid in flame.\n",
      "    New points inserted after grid points 0 1 2 3 4 5 \n",
      "    to resolve C3H8 CO CO2 H2O N2 O2 T u \n",
      "##############################################################################\n",
      "\n",
      "..............................................................................\n",
      "Attempt Newton solution of steady-state problem...    failure. \n",
      "Take 10 timesteps     0.0001709       5.15\n",
      "Attempt Newton solution of steady-state problem...    failure. \n",
      "Take 10 timesteps     0.0009731       3.97\n",
      "Attempt Newton solution of steady-state problem...    failure. \n",
      "Take 10 timesteps      0.006235      2.608\n",
      "Attempt Newton solution of steady-state problem...    success.\n",
      "\n",
      "Problem solved on [15] point grid(s).\n",
      "\n",
      "..............................................................................\n",
      "##############################################################################\n",
      "Refining grid in flame.\n",
      "    New points inserted after grid points 3 4 5 6 7 8 12 \n",
      "    to resolve C3H8 CO CO2 H2O N2 O2 T point 12 u \n",
      "##############################################################################\n",
      "\n",
      "..............................................................................\n",
      "Attempt Newton solution of steady-state problem...    failure. \n",
      "Take 10 timesteps     0.0001709      5.088\n",
      "Attempt Newton solution of steady-state problem...    failure. \n",
      "Take 10 timesteps      0.002919      3.569\n",
      "Attempt Newton solution of steady-state problem...    success.\n",
      "\n",
      "Problem solved on [22] point grid(s).\n",
      "\n",
      "..............................................................................\n",
      "##############################################################################\n",
      "Refining grid in flame.\n",
      "    New points inserted after grid points 6 7 8 9 10 11 \n",
      "    to resolve C3H8 CO CO2 H2O N2 O2 T u \n",
      "##############################################################################\n",
      "\n",
      "..............................................................................\n",
      "Attempt Newton solution of steady-state problem...    failure. \n",
      "Take 10 timesteps     0.0002563      5.328\n",
      "Attempt Newton solution of steady-state problem...    failure. \n",
      "Take 10 timesteps      0.004379      2.073\n",
      "Attempt Newton solution of steady-state problem...    success.\n",
      "\n",
      "Problem solved on [28] point grid(s).\n",
      "\n",
      "..............................................................................\n",
      "##############################################################################\n",
      "Refining grid in flame.\n",
      "    New points inserted after grid points 9 10 11 12 13 14 15 \n",
      "    to resolve C3H8 CO CO2 H2O N2 O2 T u \n",
      "##############################################################################\n",
      "\n",
      "..............................................................................\n",
      "Attempt Newton solution of steady-state problem...    failure. \n",
      "Take 10 timesteps     0.0001709       4.95\n",
      "Attempt Newton solution of steady-state problem...    success.\n",
      "\n",
      "Problem solved on [35] point grid(s).\n",
      "\n",
      "..............................................................................\n",
      "##############################################################################\n",
      "Refining grid in flame.\n",
      "    New points inserted after grid points 11 12 13 14 15 16 17 18 19 20 \n",
      "    to resolve C3H8 CO CO2 H2O N2 O2 T u \n",
      "##############################################################################\n",
      "\n",
      "..............................................................................\n",
      "Attempt Newton solution of steady-state problem...    success.\n",
      "\n",
      "Problem solved on [45] point grid(s).\n",
      "\n",
      "..............................................................................\n",
      "##############################################################################\n",
      "Refining grid in flame.\n",
      "    New points inserted after grid points 14 15 16 17 18 19 20 21 22 23 24 25 26 \n",
      "    to resolve C3H8 CO CO2 H2O N2 O2 T u \n",
      "##############################################################################\n",
      "\n",
      "..............................................................................\n",
      "Attempt Newton solution of steady-state problem...    success.\n",
      "\n",
      "Problem solved on [58] point grid(s).\n",
      "\n",
      "..............................................................................\n",
      "##############################################################################\n",
      "Refining grid in flame.\n",
      "    New points inserted after grid points 22 23 24 25 26 27 28 29 30 31 32 33 34 35 \n",
      "    to resolve C3H8 CO CO2 H2O N2 O2 T u \n",
      "##############################################################################\n",
      "\n",
      "..............................................................................\n",
      "Attempt Newton solution of steady-state problem...    success.\n",
      "\n",
      "Problem solved on [72] point grid(s).\n",
      "\n",
      "..............................................................................\n",
      "##############################################################################\n",
      "Refining grid in flame.\n",
      "    New points inserted after grid points 31 32 33 39 40 41 42 43 \n",
      "    to resolve CO N2 \n",
      "##############################################################################\n",
      "\n",
      "..............................................................................\n",
      "Attempt Newton solution of steady-state problem...    success.\n",
      "\n",
      "Problem solved on [80] point grid(s).\n",
      "\n",
      "..............................................................................\n",
      "no new points needed in flame\n",
      "Flame Speed is: 0.31 m/s. Simulation took 0.15 s\n"
     ]
    }
   ],
   "source": [
    "# compute the steady-state flame solution using the two-step global mechanism\n",
    "ctim0 = time.time()\n",
    "\n",
    "flame1.solve(loglevel=loglevel, auto=True)\n",
    "\n",
    "ctim1 = time.time()\n",
    "ctime = ctim1 - ctim0\n",
    "\n",
    "S_L = flame1.u[0]\n",
    "print(\"Flame Speed is: {:.2f} m/s. Simulation took {:.2f} s\".format(S_L,ctime))"
   ]
  },
  {
   "cell_type": "code",
   "execution_count": 12,
   "metadata": {},
   "outputs": [
    {
     "name": "stdout",
     "output_type": "stream",
     "text": [
      "\n",
      "************ Solving on 8 point grid with energy equation enabled ************\n",
      "\n",
      "..............................................................................\n",
      "Attempt Newton solution of steady-state problem...    failure. \n",
      "Take 10 timesteps     5.339e-06      5.205\n",
      "Attempt Newton solution of steady-state problem...    failure. \n",
      "Take 10 timesteps     0.0001368      4.559\n",
      "Attempt Newton solution of steady-state problem...    failure. \n",
      "Take 10 timesteps      0.003507      3.799\n",
      "Attempt Newton solution of steady-state problem...    failure. \n",
      "Take 10 timesteps       0.05992      2.287\n",
      "Attempt Newton solution of steady-state problem...    failure. \n",
      "Take 10 timesteps         2.304     0.7037\n",
      "Attempt Newton solution of steady-state problem...    success.\n",
      "\n",
      "Problem solved on [9] point grid(s).\n",
      "Expanding domain to accomodate flame thickness. New width: 0.03 m\n",
      "##############################################################################\n",
      "Refining grid in flame.\n",
      "    New points inserted after grid points 0 1 2 3 4 5 6 \n",
      "    to resolve C2H C2H2 C2H3 C2H4 C2H5 C2H6 C2HO C3H3 C3H4 C3H5 C3H6 C3H8 CH CH2 CH2O CH3 CH4 CO CO2 H H2 H2O H2O2 HCO HO2 I*C3H7 N*C3H7 N2 O O2 OH T u \n",
      "##############################################################################\n",
      "\n",
      "*********** Solving on 16 point grid with energy equation enabled ************\n",
      "\n",
      "..............................................................................\n",
      "Attempt Newton solution of steady-state problem...    failure. \n",
      "Take 10 timesteps      2.67e-06      6.111\n",
      "Attempt Newton solution of steady-state problem...    failure. \n",
      "Take 10 timesteps     1.014e-05       6.28\n",
      "Attempt Newton solution of steady-state problem...    failure. \n",
      "Take 10 timesteps     0.0002598      4.611\n",
      "Attempt Newton solution of steady-state problem...    failure. \n",
      "Take 10 timesteps     3.082e-05      5.761\n",
      "Attempt Newton solution of steady-state problem...    failure. \n",
      "Take 10 timesteps     4.876e-06       6.77\n",
      "Attempt Newton solution of steady-state problem...    failure. \n",
      "Take 10 timesteps      0.000125      5.143\n",
      "Attempt Newton solution of steady-state problem...    failure. \n",
      "Take 10 timesteps     0.0004745      4.615\n",
      "Attempt Newton solution of steady-state problem...    failure. \n",
      "Take 10 timesteps     1.408e-05      6.234\n",
      "Attempt Newton solution of steady-state problem...    failure. \n",
      "Take 10 timesteps     1.002e-05      6.675\n",
      "Attempt Newton solution of steady-state problem...    success.\n",
      "\n",
      "Problem solved on [16] point grid(s).\n",
      "\n",
      "..............................................................................\n",
      "grid refinement disabled.\n",
      "\n",
      "******************** Solving with grid refinement enabled ********************\n",
      "\n",
      "..............................................................................\n",
      "Attempt Newton solution of steady-state problem...    success.\n",
      "\n",
      "Problem solved on [16] point grid(s).\n",
      "\n",
      "..............................................................................\n",
      "##############################################################################\n",
      "Refining grid in flame.\n",
      "    New points inserted after grid points 3 4 5 6 7 8 \n",
      "    to resolve C2H C2H2 C2H3 C2H4 C2H5 C2H6 C2HO C3H3 C3H4 C3H5 C3H6 C3H8 CH CH2 CH2O CH3 CH4 CO CO2 H H2 H2O H2O2 HCO HO2 I*C3H7 N*C3H7 N2 O O2 OH T u \n",
      "##############################################################################\n",
      "\n",
      "..............................................................................\n",
      "Attempt Newton solution of steady-state problem...    failure. \n",
      "Take 10 timesteps     8.543e-05       5.29\n",
      "Attempt Newton solution of steady-state problem...    failure. \n",
      "Take 10 timesteps     6.842e-05      5.358\n",
      "Attempt Newton solution of steady-state problem...    failure. \n",
      "Take 10 timesteps     4.567e-06      6.765\n",
      "Attempt Newton solution of steady-state problem...    success.\n",
      "\n",
      "Problem solved on [22] point grid(s).\n",
      "\n",
      "..............................................................................\n",
      "##############################################################################\n",
      "Refining grid in flame.\n",
      "    New points inserted after grid points 6 7 8 9 10 11 \n",
      "    to resolve C2H C2H2 C2H3 C2H4 C2H5 C2H6 C2HO C3H3 C3H4 C3H5 C3H6 C3H8 CH CH2 CH2O CH3 CH4 CO CO2 H H2 H2O H2O2 HCO HO2 I*C3H7 N*C3H7 N2 O O2 OH T u \n",
      "##############################################################################\n",
      "\n",
      "..............................................................................\n",
      "Attempt Newton solution of steady-state problem...    failure. \n",
      "Take 10 timesteps     8.543e-05      5.154\n",
      "Attempt Newton solution of steady-state problem...    failure. \n",
      "Take 10 timesteps     6.842e-05      5.334\n",
      "Attempt Newton solution of steady-state problem...    failure. \n",
      "Take 10 timesteps     3.425e-06      7.461\n",
      "Attempt Newton solution of steady-state problem...    failure. \n",
      "Take 10 timesteps     5.852e-05      5.326\n",
      "Attempt Newton solution of steady-state problem...    success.\n",
      "\n",
      "Problem solved on [28] point grid(s).\n",
      "\n",
      "..............................................................................\n",
      "##############################################################################\n",
      "Refining grid in flame.\n",
      "    New points inserted after grid points 9 10 11 12 13 14 15 \n",
      "    to resolve C2H C2H2 C2H3 C2H4 C2H5 C2H6 C2HO C3H3 C3H4 C3H5 C3H6 C3H8 CH CH2 CH2O CH3 CH4 CO CO2 H H2 H2O H2O2 HCO HO2 I*C3H7 N*C3H7 N2 O O2 OH T u \n",
      "##############################################################################\n",
      "\n",
      "..............................................................................\n",
      "Attempt Newton solution of steady-state problem...    failure. \n",
      "Take 10 timesteps     0.0001709      4.792\n",
      "Attempt Newton solution of steady-state problem...    success.\n",
      "\n",
      "Problem solved on [35] point grid(s).\n",
      "\n",
      "..............................................................................\n",
      "##############################################################################\n",
      "Refining grid in flame.\n",
      "    New points inserted after grid points 11 12 13 14 15 16 17 18 19 \n",
      "    to resolve C2H C2H2 C2H3 C2H4 C2H5 C2H6 C2HO C3H3 C3H4 C3H5 C3H6 C3H8 CH CH2 CH2O CH3 CH4 CO CO2 H H2 H2O H2O2 HCO HO2 I*C3H7 N*C3H7 N2 O O2 OH T u \n",
      "##############################################################################\n",
      "\n",
      "..............................................................................\n",
      "Attempt Newton solution of steady-state problem...    failure. \n",
      "Take 10 timesteps     7.594e-05      5.177\n",
      "Attempt Newton solution of steady-state problem...    success.\n",
      "\n",
      "Problem solved on [44] point grid(s).\n",
      "\n",
      "..............................................................................\n",
      "##############################################################################\n",
      "Refining grid in flame.\n",
      "    New points inserted after grid points 15 16 17 18 19 20 21 22 23 24 \n",
      "    to resolve C2H C2H2 C2H3 C2H4 C2H5 C2H6 C2HO C3H3 C3H4 C3H5 C3H6 C3H8 CH CH2 CH2O CH3 CH4 CO CO2 H H2 H2O H2O2 HCO HO2 I*C3H7 N*C3H7 N2 O O2 OH T u \n",
      "##############################################################################\n",
      "\n",
      "..............................................................................\n",
      "Attempt Newton solution of steady-state problem...    success.\n",
      "\n",
      "Problem solved on [54] point grid(s).\n",
      "\n",
      "..............................................................................\n",
      "##############################################################################\n",
      "Refining grid in flame.\n",
      "    New points inserted after grid points 18 19 20 21 22 23 24 25 26 27 28 29 30 \n",
      "    to resolve C2H C2H2 C2H3 C2H4 C2H5 C2H6 C2HO C3H3 C3H4 C3H5 C3H6 C3H8 CH CH2 CH2O CH3 CH4 CO CO2 H H2 H2O H2O2 HCO HO2 I*C3H7 N*C3H7 N2 O O2 OH T u \n",
      "##############################################################################\n",
      "\n",
      "..............................................................................\n",
      "Attempt Newton solution of steady-state problem...    success.\n",
      "\n",
      "Problem solved on [67] point grid(s).\n",
      "\n",
      "..............................................................................\n",
      "##############################################################################\n",
      "Refining grid in flame.\n",
      "    New points inserted after grid points 22 23 24 25 26 27 28 29 30 31 32 33 34 35 36 37 38 39 \n",
      "    to resolve C2H C2H2 C2H3 C2H4 C2H5 C2H6 C2HO C3H3 C3H4 C3H5 C3H6 C3H8 CH CH2 CH2O CH3 CH4 CO CO2 H H2 H2O H2O2 HCO HO2 I*C3H7 N*C3H7 N2 O O2 OH T u \n",
      "##############################################################################\n",
      "\n",
      "..............................................................................\n",
      "Attempt Newton solution of steady-state problem...    success.\n",
      "\n",
      "Problem solved on [85] point grid(s).\n",
      "\n",
      "..............................................................................\n",
      "##############################################################################\n",
      "Refining grid in flame.\n",
      "    New points inserted after grid points 28 29 30 31 32 33 34 35 36 37 38 39 40 41 42 43 44 45 46 47 48 49 50 51 52 53 54 \n",
      "    to resolve C2H C2H2 C2H3 C2H4 C2H5 C2H6 C2HO C3H3 C3H4 C3H5 C3H6 C3H8 CH CH2 CH2O CH3 CH4 CO H H2 H2O H2O2 HCO HO2 I*C3H7 N*C3H7 N2 O O2 OH T u \n",
      "##############################################################################\n",
      "\n",
      "..............................................................................\n",
      "Attempt Newton solution of steady-state problem...    success.\n",
      "\n",
      "Problem solved on [112] point grid(s).\n",
      "\n",
      "..............................................................................\n",
      "##############################################################################\n",
      "Refining grid in flame.\n",
      "    New points inserted after grid points 37 38 39 40 41 42 43 44 45 46 47 48 49 50 51 52 53 54 55 56 57 58 59 60 61 62 63 64 65 66 67 68 69 70 71 72 \n",
      "    to resolve C2H C2H2 C2H3 C2H4 C2H5 C2H6 C2HO C3H3 C3H5 C3H6 CH CH2 CH2O CH3 CH4 HCO HO2 I*C3H7 N*C3H7 \n",
      "##############################################################################\n",
      "\n",
      "..............................................................................\n",
      "Attempt Newton solution of steady-state problem...    success.\n",
      "\n",
      "Problem solved on [148] point grid(s).\n",
      "\n",
      "..............................................................................\n",
      "##############################################################################\n",
      "Refining grid in flame.\n",
      "    New points inserted after grid points 53 54 55 56 57 58 \n",
      "    to resolve I*C3H7 \n",
      "##############################################################################\n",
      "\n",
      "..............................................................................\n",
      "Attempt Newton solution of steady-state problem...    success.\n",
      "\n",
      "Problem solved on [154] point grid(s).\n",
      "\n",
      "..............................................................................\n",
      "no new points needed in flame\n",
      "Flame Speed is: 0.35 m/s. Simulation took 7.71 s\n"
     ]
    }
   ],
   "source": [
    "# compute the steady-state flame solution using the more detailed mechanism\n",
    "ctim0 = time.time()\n",
    "\n",
    "flame2.solve(loglevel=loglevel, auto=True)\n",
    "\n",
    "ctim1 = time.time()\n",
    "ctime = ctim1 - ctim0\n",
    "\n",
    "S_L = flame2.u[0]\n",
    "print(\"Flame Speed is: {:.2f} m/s. Simulation took {:.2f} s\".format(S_L,ctime))"
   ]
  },
  {
   "cell_type": "markdown",
   "metadata": {},
   "source": [
    "Note the difference in the computer time required to find a solution for the two mechanisms. The more detailed mechanism requires approximately 50 times longer, depending on the computer used.\n",
    "\n",
    "The two computed laminar flame speeds differ by approximately 10%, with the flame speed from the two-step mechanism being lower than that from the more detailed mechanism for these reactant conditions."
   ]
  },
  {
   "cell_type": "markdown",
   "metadata": {},
   "source": [
    "Now let's look at the internal spatial structure of the flame. The spatial coordinate is converted to mm, for plotting purposes."
   ]
  },
  {
   "cell_type": "code",
   "execution_count": 13,
   "metadata": {},
   "outputs": [
    {
     "data": {
      "image/png": "[encoded data removed]",
      "text/plain": [
       "<Figure size 432x288 with 1 Axes>"
      ]
     },
     "metadata": {
      "needs_background": "light"
     },
     "output_type": "display_data"
    }
   ],
   "source": [
    "# plot the steady-state temperature profiles\n",
    "fig, ax = plt.subplots()\n",
    "ax.plot(flame1.grid*1000., flame1.T, label='Global', linestyle='-',  lw=2)\n",
    "ax.plot(flame2.grid*1000., flame2.T, label='Peters', linestyle='--', lw=2)\n",
    "ax.set(xlabel='Distance (mm)',\n",
    "       ylabel='Temperature (K)',\n",
    "       title ='Temperature vs. distance for a laminar premixed flame')\n",
    "ax.grid(True)\n",
    "ax.legend(handlelength=4,loc='best')\n",
    "fig.savefig(\"T_vs_x_LPF.pdf\")"
   ]
  },
  {
   "cell_type": "markdown",
   "metadata": {},
   "source": [
    "The burned-gas (equilibrium) temperatures are approximately the same for both mechanisms. This was discussed in tutorial Notebook 5_2_Global_reactions.\n",
    "\n",
    "The flame is located closer to the unburned-gas (reactants) side for the global mechanism, compared to the more detailed mechanism. The flame location in the computational domain is somewhat arbitrary. To compare the flame structures, it is appropriate to shift the profiles so that they coincide at some point in the reaction zone. Here we do that by (somewhat arbitrarily) using the location in each flame where the temperature is 1000 K."
   ]
  },
  {
   "cell_type": "code",
   "execution_count": 14,
   "metadata": {},
   "outputs": [
    {
     "name": "stdout",
     "output_type": "stream",
     "text": [
      "0.0052734374999999995 1064.74316754693\n",
      "0.010516845703125 1005.8633292897745\n"
     ]
    }
   ],
   "source": [
    "# specify the temperature at which to match the flame profiles\n",
    "Tmatch = 1000. # (K)\n",
    "\n",
    "# find the x location at which the temperature first exceeds a specified value\n",
    "# there are more elegant and accurate ways to find the location at which the temperature is equal to a particular value,\n",
    "#   but this is sufficient for present purposes\n",
    "\n",
    "# flame 1 (two-step mechanism)\n",
    "i = 0\n",
    "T = 0.\n",
    "while T < Tmatch:\n",
    "    T = flame1.T[i]\n",
    "    i += 1  \n",
    "xmatch1 = flame1.grid[i-1]\n",
    "print(xmatch1,flame1.T[i-1])\n",
    "\n",
    "# flame 2 (more detailed mechanism)\n",
    "i = 0\n",
    "T = 0.\n",
    "while T < Tmatch:\n",
    "    T = flame2.T[i]\n",
    "    i += 1    \n",
    "xmatch2 = flame2.grid[i-1]\n",
    "print(xmatch2,flame2.T[i-1])"
   ]
  },
  {
   "cell_type": "markdown",
   "metadata": {},
   "source": [
    "The two temperature values are not exactly the same and are not exactly equal to the prescribed value of Tmatch, but they are close enough for our purposes here. Interpolation could be used to get a more precise match, if needed."
   ]
  },
  {
   "cell_type": "code",
   "execution_count": 15,
   "metadata": {},
   "outputs": [
    {
     "data": {
      "image/png": "[encoded data removed]",
      "text/plain": [
       "<Figure size 432x288 with 1 Axes>"
      ]
     },
     "metadata": {
      "needs_background": "light"
     },
     "output_type": "display_data"
    }
   ],
   "source": [
    "# plot the shifted steady-state temperature profiles, and zoom in\n",
    "fig, ax = plt.subplots()\n",
    "ax.plot((flame1.grid-xmatch1)*1000., flame1.T, label='Global', linestyle='-',  lw=2)\n",
    "ax.plot((flame2.grid-xmatch2)*1000., flame2.T, label='Peters', linestyle='--', lw=2)\n",
    "ax.set(xlim=(-0.5,1.0),\n",
    "       xlabel='Distance (mm)',\n",
    "       ylabel='Temperature (K)',\n",
    "       title ='Temperature vs. distance for a laminar premixed flame')\n",
    "ax.grid(True)\n",
    "ax.legend(handlelength=4,loc='best')\n",
    "fig.savefig(\"T_vs_x_LPF_shift.pdf\")"
   ]
  },
  {
   "cell_type": "markdown",
   "metadata": {},
   "source": [
    "The two profiles intersect where the temperature is equal to 1000 K (approximately). The profiles then essentially overlap on the unburned-gas side, while the temperature reaches the equilibrium burned-gas value sooner for the global mechanism compared to the more detailed mechanism."
   ]
  },
  {
   "cell_type": "code",
   "execution_count": 16,
   "metadata": {},
   "outputs": [
    {
     "data": {
      "image/png": "[encoded data removed]",
      "text/plain": [
       "<Figure size 432x288 with 1 Axes>"
      ]
     },
     "metadata": {
      "needs_background": "light"
     },
     "output_type": "display_data"
    }
   ],
   "source": [
    "# plot the shifted steady-state velocity profiles, and zoom in\n",
    "fig, ax = plt.subplots()\n",
    "ax.plot((flame1.grid-xmatch1)*1000., flame1.u*100., label='Global', linestyle='-',  lw=2)\n",
    "ax.plot((flame2.grid-xmatch2)*1000., flame2.u*100., label='Peters', linestyle='--', lw=2)\n",
    "ax.set(xlim=(-0.5,2.0),\n",
    "       xlabel='Distance (mm)',\n",
    "       ylabel='Speed (cm/s)',\n",
    "       title ='Speed vs. distance for a laminar premixed flame')\n",
    "ax.grid(True)\n",
    "ax.legend(handlelength=4,loc='best')\n",
    "fig.savefig(\"u_vs_x_LPF_shift.pdf\")"
   ]
  },
  {
   "cell_type": "markdown",
   "metadata": {},
   "source": [
    "The difference in laminar flame speed for the two mechanisms can be seen in the unburned gases. The difference in speeds is amplified in the burned gases. Recall that the product of density times speed (mass flux) must remain constant through each flame, although the mass flux needn't be (and isn't) the same for the two flames.\n",
    "\n",
    "The unburned-gas and burned-gas densities are essentially the same for both flames, as can be verified as follows:"
   ]
  },
  {
   "cell_type": "code",
   "execution_count": 17,
   "metadata": {},
   "outputs": [
    {
     "data": {
      "image/png": "[encoded data removed]",
      "text/plain": [
       "<Figure size 432x288 with 1 Axes>"
      ]
     },
     "metadata": {
      "needs_background": "light"
     },
     "output_type": "display_data"
    }
   ],
   "source": [
    "# plot the shifted density profiles, and zoom in\n",
    "fig, ax = plt.subplots()\n",
    "ax.plot((flame1.grid-xmatch1)*1000., flame1.density*100., label='Global', linestyle='-',  lw=2)\n",
    "ax.plot((flame2.grid-xmatch2)*1000., flame2.density*100., label='Peters', linestyle='--', lw=2)\n",
    "ax.set(xlim=(-0.5,2.0),\n",
    "       xlabel='Distance (mm)',\n",
    "       ylabel='Density (kg/m^3)',\n",
    "       title ='Density vs. distance for a laminar premixed flame')\n",
    "ax.grid(True)\n",
    "ax.legend(handlelength=4,loc='best')\n",
    "fig.savefig(\"rho_vs_x_LPF_shift.pdf\")"
   ]
  },
  {
   "cell_type": "markdown",
   "metadata": {},
   "source": [
    "So, the higher burned-gas flow speed for the more detailed reaction mechanism is a consequence of the higher flame speed (and higher mass flux) for the detailed mechanism\n",
    "\n",
    "Next, let's look at species-mole-fraction profiles."
   ]
  },
  {
   "cell_type": "code",
   "execution_count": 18,
   "metadata": {},
   "outputs": [
    {
     "data": {
      "image/png": "[encoded data removed]",
      "text/plain": [
       "<Figure size 432x288 with 1 Axes>"
      ]
     },
     "metadata": {
      "needs_background": "light"
     },
     "output_type": "display_data"
    }
   ],
   "source": [
    "# plot the shifted steady-state species mole-fraction profiles, for the species that are common to both mechanisms\n",
    "# skip N2 though, so that the other species profiles can be seen more clearly\n",
    "fig, ax = plt.subplots()\n",
    "ax.plot((flame1.grid-xmatch1)*1000., flame1.X[gas1.species_index('C3H8')], '-',  label='C3H8 global', color='black'  )\n",
    "ax.plot((flame1.grid-xmatch1)*1000., flame1.X[gas1.species_index('O2')],   '-',  label='O2 global',   color='red'    )\n",
    "ax.plot((flame1.grid-xmatch1)*1000., flame1.X[gas1.species_index('CO2')],  '-',  label='CO2 global',  color='blue'   )\n",
    "ax.plot((flame1.grid-xmatch1)*1000., flame1.X[gas1.species_index('H2O')],  '-',  label='H2O global',  color='cyan'   )\n",
    "ax.plot((flame1.grid-xmatch1)*1000., flame1.X[gas1.species_index('CO')],   '-',  label='CO global',   color='magenta')\n",
    "ax.plot((flame2.grid-xmatch2)*1000., flame2.X[gas2.species_index('C3H8')], '--', label='C3H8 Peters', color='black'  )\n",
    "ax.plot((flame2.grid-xmatch2)*1000., flame2.X[gas2.species_index('O2')],   '--', label='O2 Peters',   color='red'    )\n",
    "ax.plot((flame2.grid-xmatch2)*1000., flame2.X[gas2.species_index('CO2')],  '--', label='CO2 Peters',  color='blue'   )\n",
    "ax.plot((flame2.grid-xmatch2)*1000., flame2.X[gas2.species_index('H2O')],  '--', label='H2O Peters',  color='cyan'   )\n",
    "ax.plot((flame2.grid-xmatch2)*1000., flame2.X[gas2.species_index('CO')],   '--', label='CO Peters',   color='magenta')\n",
    "ax.set(xlim=(-0.2,2.0),\n",
    "       xlabel='Distance (mm)',\n",
    "       ylabel='Mole fraction (-)',\n",
    "       title ='Species mole fractions vs. distance for a laminar premixed flame')\n",
    "ax.grid(True)\n",
    "ax.legend(handlelength=4,loc='best')\n",
    "fig.savefig(\"X_vs_x_LPF_shift.pdf\")"
   ]
  },
  {
   "cell_type": "markdown",
   "metadata": {},
   "source": [
    "The burned-gas mole fractions for all species are essentially the same for both mechanisms, but the final approach to equilibrium is much slower for the more detailed mechanism.\n",
    "\n",
    "Finally, let's look at the heat-release-rate profiles. This shows where the conversion from chemical (formation) enthalpy to sensible enthalpy (heat) takes place, as we have seen before."
   ]
  },
  {
   "cell_type": "code",
   "execution_count": 19,
   "metadata": {},
   "outputs": [
    {
     "data": {
      "image/png": "[encoded data removed]",
      "text/plain": [
       "<Figure size 432x288 with 1 Axes>"
      ]
     },
     "metadata": {
      "needs_background": "light"
     },
     "output_type": "display_data"
    }
   ],
   "source": [
    "# plot the shifted steady-state heat-release-rate profiles, and zoom in\n",
    "fig, ax = plt.subplots()\n",
    "ax.plot((flame1.grid-xmatch1)*1000., flame1.heat_release_rate, label='Global', linestyle='-',  lw=2)\n",
    "ax.plot((flame2.grid-xmatch2)*1000., flame2.heat_release_rate, label='Peters', linestyle='--', lw=2)\n",
    "ax.set(xlim=(-0.1,0.6),\n",
    "       xlabel='Distance (mm)',\n",
    "       ylabel='Heat-release rate (W/m^3)',\n",
    "       title ='HRR vs. distance for a laminar premixed flame')\n",
    "ax.grid(True)\n",
    "ax.legend(handlelength=4,loc='best')\n",
    "fig.savefig(\"HRR_vs_x_LPF_shift.pdf\")"
   ]
  },
  {
   "cell_type": "markdown",
   "metadata": {},
   "source": [
    "The spatial extent of the region over which most of the chemical activity takes place is approximately 0.1 mm for the more detailed mechanism. It is somewhat wider for the global mechanism. However, the profile for the more detailed mechanism has a longer \"tail\" that extends further into the burned-gas region. That is consistent with the slow approach of the species mole fractions to their equilibrium values that we saw in the previous figure. "
   ]
  },
  {
   "cell_type": "markdown",
   "metadata": {},
   "source": [
    "## 3. Parametric study: Laminar flame speed versus equivalence ratio"
   ]
  },
  {
   "cell_type": "markdown",
   "metadata": {},
   "source": [
    "Here we will compute the laminar flame speed for C3H8-air reactant mixtures as a function of equivalence ratio, for a given reactant temperature and pressure, using the two reaction mechanisms. The reactant temperature and pressure are 300 K and 3 atm, respectively, corresponding to the conditions for which a figure is shown at https://www.cerfacs.fr/cantera/mechanisms/prop.php."
   ]
  },
  {
   "cell_type": "code",
   "execution_count": 20,
   "metadata": {},
   "outputs": [],
   "source": [
    "# define a function that returns the laminar flame speed for a given reactant mixture state\n",
    "# here we suppress all output - this can be dangerous, if one is not confident that the solution will converge for all\n",
    "#   cases of interest\n",
    "# gas is the gas mixture for which the flame speed is to be computed - note that we pass it as an argument to the\n",
    "#   function here, it contrast to the approach that was used in earlier tutorial Notebooks\n",
    "# T_u is the unburned gas temperature (K)\n",
    "# P is the pressure (Pa)\n",
    "# fuel is the fuel desired, which must be available in \"gas\"\n",
    "# air is the mixture of species corresponding to air, which must be defined before calling this function\n",
    "# phi is the desired equivalence ratio\n",
    "def gas_sl(gas,T_u,P,fuel,air,phi):\n",
    "    gas.TP = T_u, P\n",
    "    gas.set_equivalence_ratio(phi,fuel,air)\n",
    "    width = 0.015 # (m)\n",
    "    flame = ct.FreeFlame(gas, width=width)\n",
    "    flame.set_refine_criteria(ratio=3, slope=0.1, curve=0.1)\n",
    "    loglevel = 0\n",
    "    flame.solve(loglevel=loglevel, auto=True)\n",
    "    s_l = flame.u[0] # (m/s)\n",
    "    return s_l"
   ]
  },
  {
   "cell_type": "code",
   "execution_count": 21,
   "metadata": {},
   "outputs": [],
   "source": [
    "# specify the reactants fuel, air, temperature, and pressure\n",
    "fuel  = 'C3H8'\n",
    "air   = 'O2:1.0, N2:3.76'\n",
    "T_u   = 300.\n",
    "P     = 3.*ct.one_atm\n",
    "\n",
    "# specify the values of the equivalence ratio at which to compute the laminar flame speed\n",
    "phis = [0.70, 0.80, 0.90, 0.95, 1.00, 1.05, 1.10, 1.15, 1.20, 1.30, 1.40, 1.50, 1.60, 1.70, 1.80]"
   ]
  },
  {
   "cell_type": "code",
   "execution_count": 22,
   "metadata": {},
   "outputs": [
    {
     "name": "stdout",
     "output_type": "stream",
     "text": [
      "0 0.7 0.18165544181071488\n",
      "1 0.8 0.2341422129849063\n",
      "2 0.9 0.2804178633703852\n",
      "3 0.95 0.29965008065190013\n",
      "4 1.0 0.31436871388338333\n",
      "5 1.05 0.3230793452537273\n",
      "6 1.1 0.3295823279430281\n",
      "7 1.15 0.3336502351825937\n",
      "8 1.2 0.33625238769466476\n",
      "9 1.3 0.33754296179986837\n",
      "10 1.4 0.33545487538281493\n",
      "11 1.5 0.3322441272543218\n",
      "12 1.6 0.32648916255181093\n",
      "13 1.7 0.3201619605013484\n",
      "14 1.8 0.31315396988743954\n"
     ]
    }
   ],
   "source": [
    "# define an array to hold the computed laminar flame speed for each equivalence ratio for the global mechanism\n",
    "S_Lgas1 = np.zeros(np.size(phis))\n",
    "\n",
    "# loop over the equivalence ratios, and compute the laminar flame speed for each equivalence ratio\n",
    "for i, phi in enumerate(phis):\n",
    "    S_Lgas1[i] = gas_sl(gas1,T_u,P,fuel,air,phi)\n",
    "    print(i,phi,S_Lgas1[i])"
   ]
  },
  {
   "cell_type": "code",
   "execution_count": 23,
   "metadata": {},
   "outputs": [
    {
     "name": "stdout",
     "output_type": "stream",
     "text": [
      "0 0.7 0.16746563113110194\n",
      "1 0.8 0.24039848180488135\n",
      "2 0.9 0.30445501556958365\n",
      "3 0.95 0.33073887564909277\n",
      "4 1.0 0.35069608852135714\n",
      "5 1.05 0.36265698448551675\n",
      "6 1.1 0.36495419607916835\n",
      "7 1.15 0.35426725358806227\n",
      "8 1.2 0.32765911538636305\n",
      "9 1.3 0.21472611727020052\n",
      "10 1.4 0.11170659383018253\n",
      "11 1.5 0.07781352399326805\n",
      "12 1.6 0.05714467009261705\n",
      "13 1.7 0.04295424816262462\n",
      "14 1.8 0.032041090677059986\n"
     ]
    }
   ],
   "source": [
    "# define an array to hold the computed laminar flame speed for each equivalence ratio for the more detailed mechanism\n",
    "S_Lgas2 = np.zeros(np.size(phis))\n",
    "\n",
    "# loop over the equivalence ratios, and compute the laminar flame speed for each equivalence ratio\n",
    "# this will require significantly more computational time, compared to the global mechanism\n",
    "for i, phi in enumerate(phis):\n",
    "    S_Lgas2[i] = gas_sl(gas2,T_u,P,fuel,air,phi)\n",
    "    print(i,phi,S_Lgas2[i])"
   ]
  },
  {
   "cell_type": "code",
   "execution_count": 24,
   "metadata": {},
   "outputs": [
    {
     "data": {
      "image/png": "[encoded data removed]",
      "text/plain": [
       "<Figure size 432x288 with 1 Axes>"
      ]
     },
     "metadata": {
      "needs_background": "light"
     },
     "output_type": "display_data"
    }
   ],
   "source": [
    "# plot laminar flame speeds versus equivalence ratio\n",
    "fig, ax = plt.subplots()\n",
    "ax.plot(phis , S_Lgas1, '-o', label='Global')\n",
    "ax.plot(phis , S_Lgas2, '-s', label='Peters')\n",
    "ax.set(xlabel='Equivalence ratio (-)',\n",
    "       ylabel='Flame speed (m/s)',\n",
    "       title ='Laminar flame speed vs. equivalence ratio for C3H8-air')\n",
    "ax.grid(True)\n",
    "ax.legend(handlelength=4,loc='best')\n",
    "fig.savefig(\"SL_vs_phi.pdf\")"
   ]
  },
  {
   "cell_type": "markdown",
   "metadata": {},
   "source": [
    "Assuming that the results from the more detailed mechanism are more accurate (which is indeed the case here), it can be seen that this global mechanism is intended to be used for fuel-lean-to-stoichiometric reactant mixtures. Presumably, it should be possible to change the values of the rate coefficients in the global mechanism to realize better agreement for fuel-rich reactants."
   ]
  },
  {
   "cell_type": "markdown",
   "metadata": {},
   "source": [
    "## 4. What's next"
   ]
  },
  {
   "cell_type": "markdown",
   "metadata": {},
   "source": [
    "In the next tutorial Notebook, we will look at the influence of changing the molecular transport model, for the same reaction mechanism."
   ]
  },
  {
   "cell_type": "code",
   "execution_count": null,
   "metadata": {},
   "outputs": [],
   "source": []
  }
 ],
 "metadata": {
  "kernelspec": {
   "display_name": "Python 3",
   "language": "python",
   "name": "python3"
  },
  "language_info": {
   "codemirror_mode": {
    "name": "ipython",
    "version": 3
   },
   "file_extension": ".py",
   "mimetype": "text/x-python",
   "name": "python",
   "nbconvert_exporter": "python",
   "pygments_lexer": "ipython3",
   "version": "3.8.3"
  }
 },
 "nbformat": 4,
 "nbformat_minor": 4
}
