{
 "cells": [
  {
   "cell_type": "markdown",
   "metadata": {},
   "source": [
    "# Getting Started with Cantera: Python/Jupyter Notebook Interface\n",
    "\n",
    "This Jupyter Notebook was written by Dan Haworth, borrowing from \"python_tutorial.ipynb\" at https://github.com/Cantera/cantera-jupyter.\n",
    "\n",
    "This Notebook was last updated 3 February 2020.\n",
    "\n",
    "This is the first in a series of tutorial Notebooks that has been developed to parallel the fourth edition of the book \"An Introduction to Combustion: Concepts and Applications\" by Stephen R. Turns and Daniel C. Haworth. That book is referred to as \"Turns 4th ed.\" in this Notebook, while \"Turns 3rd ed.\" refers to the 2012 third edition. This Notebook, and all of the subsequent tutorial Notebooks, was created and tested using Cantera version 2.4.0. \n",
    "\n",
    "The objective of this tutorial is to provide a basic understanding of how to work with Cantera using the Python/Jupyter Notebook interface. This includes general information on Notebook structure and syntax, and on defining and working with a reacting gas mixture using Cantera. The material here may help you to brush up on some basic thermodynamics, an important prerequisite as you begin your study of combustion. Thermodynamics is covered more extensively in Chapter 2 of Turns 4th ed., and in the Chapter 2 tutorial Notebooks. This Notebook also provides introductory examples of basic mathematical operations using NumPy and of x-y plot generation using Matplotlib. \n",
    "\n",
    "To get the most out of this tutorial Notebook, and subsequent Notebooks, you should work through the Notebook sequentially cell-by-cell, from top to bottom; see \"Jupyter Notebook basics\" below for how to do that. More specifically, you should actively open and run each cell in the Notebook, and experiment to see what happens if you make changes in each cell. That will be a much more effective way to learn, compared to passively reading the Notebook content. You can always download a fresh version of the original Notebook, if necessary. The Notebooks are intended to be self-contained, and the material is cumulative. Each Notebook typically introduces some new information on how to perform various useful basic operations (e.g., manipulating objects in Python, working with arrays, plotting, . . .), in addition to covering new subject material on combustion that parallels the development in Turns 4th ed. For that reason, you should work through the Notebooks in the intended sequential order, and not skip any Notebooks. For further information and deeper insight, the interested reader can explore the links that are provided throughout the Notebooks. \n",
    "\n",
    "Finally, for the image in the cell that is two cells below the current cell to display properly, the file \"Turns3cover.jpg\" (provided with this Notebook) must be placed in a folder or directory named \"images\" that is immediately below the folder or directory from which you have opened this Notebook. If you downloaded the .zip file that contains all of the tutorial Notebooks, the appropriate folder and file structure should be in place."
   ]
  },
  {
   "cell_type": "markdown",
   "metadata": {},
   "source": [
    "## 1. Jupyter Notebook basics"
   ]
  },
  {
   "cell_type": "markdown",
   "metadata": {},
   "source": [
    "A Notebook consists of a sequence of \"cells\", where each cell has a \"Cell Type\". This Notebook contains two cell types: Cell Type \"Markdown\" for text, hyperlinks, equations, and figures/videos; and Cell Type \"Code\" for executable statements. The text that you are reading is in a Markdown cell. To see that, left-click anywhere on this text. The cell will then be highlighted, and the cell type will be indicated in the pull-down menu box of cell types on the toolbar above. The two cells above this cell are also Markdown cells, as are the two cells immediately below this cell. The first Code cell in this Notebook is the one that starts with the line \"import cantera . . .\" You can change a cell from one cell type to a different cell type by left-clicking on the cell, and using the pull-down menu of cell types to select the desired type. There are options other than \"Markdown\" and \"Code\", but we will not need those for our purposes.\n",
    "\n",
    "### 1.1 Markdown cells\n",
    "\n",
    "You can edit the contents of this cell (or any Markdown cell) by double-left-clicking on the cell. You will then see the \"raw\" cell content, and you can type in any desired content. Then press the \"Run\" button on the toolbar above to render the cell and see the result. \"Markdown\" is a markup language that is a superset of HTML. Examples of what can be done in a Markdown cell can be found at https://jupyter-notebook.readthedocs.io/en/stable/examples/Notebook/Working%20With%20Markdown%20Cells.html. A few basic examples are provided in the following. \n",
    "\n",
    "You can create a hyperlink to any text by enclosing the text in square brackets, followed by the location of the link in parentheses. For example, clicking on the words \"Markdown documentation\" that follow accesses the same documentation as the link in the previous paragraph: [Markdown documentation](https://jupyter-notebook.readthedocs.io/en/stable/examples/Notebook/Working%20With%20Markdown%20Cells.html).\n",
    "\n",
    "You can change the format of the text (among other things) using the \"open the command palette\" icon at the far right on the toolbar above. For example, you can select \"change cell to heading 2\" there to change the font of the text in this cell to the font that is used in the cell immediately above this one.\n",
    "\n",
    "You can display text using monospace font by enclosing the text in backticks, or back quotes: `this text is enclosed between backticks, and is displayed using monospace font.` We will use this font style when referring to various code statements in our Notebooks. Similarly, you can display text using italic font by enclosing the text between asterisks: *this text is enclosed between asterisks, and is displayed using italic font*. And you can display text using bold font by enclosing the text between double asterisks: **this text is enclosed between double asterisks, and is displayed using bold font**.\n",
    "\n",
    "You can create a bulleted list by typing an asterisk at the beginning of each new line:\n",
    "\n",
    "* Bullet point 1\n",
    "* Bullet point 2\n",
    "\n",
    "You can display inline or separate-line LaTeX-formatted equations using single or double dollar signs, respectively. For example, here is an inline equation: $ A_{sphere} = 4 \\pi r^2 $. And here is an equation that is displayed on its own line: $$ V_{sphere} = {4 \\over 3} \\pi r^3 $$\n",
    "\n",
    "You can insert a figure or a video by referring to an available image or video file. For example, the image file named \"Turns3cover.jpg\" is an image of the cover of Turns 3rd ed. The image file can be anywhere on your computer's file system; you just need to point to where it is. If the image file is in a subfolder named \"images\" immediately under the current working folder (the folder from which you are running this Notebook), the image can be displayed as follows: <img src=\"images/Turns3cover.jpg\" style=\"width: 200px;\"/>\n",
    "\n",
    "Several standard image file formats are supported: see https://jupyterlab.readthedocs.io/en/stable/user/file_formats.html. Videos can be imported and displayed in a similar manner. An image file can also be accessed and inserted using the toolbar. To do that, select \"Insert Image\" from the pulldown menu under \"Edit\".  \n",
    "\n",
    "After you have made all of the desired changes to the content of a Markdown cell, you can left-click the \"Run\" button on the toolbar to see the result. \n",
    "\n",
    "### 1.2 Code cells\n",
    "\n",
    "You can edit the content of a Code cell by (single) left-clicking on the cell and typing in content. Once you have made all of the desired changes to cell content, left-click the \"Run\" button on the toolbar to see the result. Depending on what is in the Code cell, no output may be generated, text and/or plot output may be displayed immediately below the cell, a new window may open, and/or an output file may be written to your computer. Examples are provided in the remainder of this Notebook. \n",
    "\n",
    "After you run each cell, the next cell in the Notebook will be highlighted. You can edit that cell as desired, and left-click the \"Run\" button to run that cell. In that manner, you can work sequentially through this (or any other) Notebook. You can run cells in any order, but you are likely to get unexpected results if you do not run the Code cells in the order intended: sequentially from top to bottom of the Notebook. You can also run one or more cells from the pull-down menu in the toolbar under \"Cell\". \n",
    "\n",
    "Some basic information on the syntax of a Code cell is provided below, following the first Code cell in this Notebook.\n",
    "\n",
    "As you will see later, some Code cells may require several seconds, minutes, or even longer to execute. That will not be the case for most of the Code cells in this Notebook. The small circle after \"Python 3\" at the upper-right-hand corner of the toolbar indicates whether or not a cell is running. If the circle is filled in (dark), then the Code cell is still running. If the circle is not filled in (light), then the Code cell is not running. You also can hover the cursor over the circle. If it says \"Kernel Busy\", then the Code cell is still running. If it says \"Kernel Idle\", then it is not running.\n",
    "\n",
    "### 1.3 Other Notebook basics\n",
    "\n",
    "To see what each icon on the toolbar above does, hover the cursor over the icon. Using the icons, you can create (insert) a new cell, remove (cut) cells, copy cells, move cells up or down in the Notebook, or run cells, among other things. You can also browse the pulldown menus under \"File\", \"Edit\", \"View\", etc. (left-click to access pull-down menu for each) to see what can be done from there. For example, several options for running individual cells or groups of cells can be found in the pull-down menu under \"Cell\", as noted above.   \n",
    "\n",
    "A Notebook is automatically saved periodically as you work. You can manually force a Save and Checkpoint at any time by pressing the \"Save and Checkpoint\" button, or by selecting \"File/Save and Checkpoint\" from the toolbar. You can rename your Notebook by selecting \"File/Rename...\" And you can close your Notebook by selecting \"File/Close and Halt\"; that will generate a warning if you have made changes since the last Save and Checkpoint.\n",
    "\n",
    "### 1.4 Other sources of information for beginning users\n",
    "\n",
    "Several online tutorials and other sources of information are available for Python, Notebooks, and other packages. The interested reader can do a web search. Here are a few sources of introductory material that have been useful to other Cantera users:\n",
    "* An introduction to Python can be found at https://gitlab.erc.monash.edu.au/andrease/Python4Maths/tree/master. \n",
    "* An introduction to Notebooks can be found at https://github.com/jhamrick/nbgrader-demo/tree/master/instructor/source/ps1.\n",
    "* An online book on Jupyter can be accessed at https://jupyter4edu.github.io/jupyter-edu-book/.\n",
    "\n",
    "See also Section 6 below. For more complete information on Jupyter Notebooks, see http://jupyter-notebook.readthedocs.io/en/latest/."
   ]
  },
  {
   "cell_type": "markdown",
   "metadata": {},
   "source": [
    "## 2. Cantera basics"
   ]
  },
  {
   "cell_type": "markdown",
   "metadata": {},
   "source": [
    "The first thing that needs to be done in most applications is to access the various packages that will be used. For our purposes, the five packages that are imported below will be sufficient, in most cases. These five lines access Cantera, NumPy, Matplotlib, Pandas, and SciPy, respectively. [NumPy](https://www.numpy.org/) is a package for scientific computing in Python. [Matplotlib](https://matplotlib.org/) is a package that provides Matlab-like plotting capabilities; here we use the [pyplot](https://matplotlib.org/api/_as_gen/matplotlib.pyplot.html) interface. [Pandas](https://pandas.pydata.org/) is a package that provides data analyasis capabilities. And [SciPy](https://www.scipy.org) is a Python-based system of open-source software for mathematics, science, and engineering.\n",
    "\n",
    "The reason that we write \"import cantera as ct\" below rather than simply \"import cantera\" (which would work) is so that we can access Cantera objects using the shorthand prefix \"ct.\" rather than the full prefix \"cantera.\" that would be required otherwise. Similarly, all NumPy objects will be accessed using the prefix \"np.\", all Matplotlib objects will be accessessed using the prefix \"plt.\", all Pandas objects will be accessed using the prefix \"pd.\", and all SciPy objects will be accessed using the full prefix \"scipy.\"\n",
    "\n",
    "In the current Notebook, Pandas and SciPy are not used. They are imported here for completeness."
   ]
  },
  {
   "cell_type": "code",
   "execution_count": 1,
   "metadata": {},
   "outputs": [],
   "source": [
    "import cantera as ct\n",
    "import numpy as np\n",
    "import matplotlib.pyplot as plt\n",
    "import pandas as pd\n",
    "import scipy"
   ]
  },
  {
   "cell_type": "markdown",
   "metadata": {},
   "source": [
    "It is good practice to keep track of the version of Cantera that is being used, as some features may change from one version to another: "
   ]
  },
  {
   "cell_type": "code",
   "execution_count": 2,
   "metadata": {},
   "outputs": [
    {
     "name": "stdout",
     "output_type": "stream",
     "text": [
      "Running Cantera version: 2.4.0\n"
     ]
    }
   ],
   "source": [
    "print(\"Running Cantera version: {}\".format(ct.__version__))"
   ]
  },
  {
   "cell_type": "markdown",
   "metadata": {},
   "source": [
    "### 2.1 A short detour: Code cell syntax"
   ]
  },
  {
   "cell_type": "markdown",
   "metadata": {},
   "source": [
    "Before continuing with Cantera, some basic information on the syntax of a Code cell is reviewed. As seen in the first Code cell above, each Code cell can contain multiple lines or commands. In fact, an entire complex program could be written in a single Code cell, but that usually would not be optimal for code development/debugging and usability. Running the five individual cells below in sequence is equivalent to running the single cell above:"
   ]
  },
  {
   "cell_type": "code",
   "execution_count": 3,
   "metadata": {},
   "outputs": [],
   "source": [
    "import cantera as ct"
   ]
  },
  {
   "cell_type": "code",
   "execution_count": 4,
   "metadata": {},
   "outputs": [],
   "source": [
    "import numpy as np"
   ]
  },
  {
   "cell_type": "code",
   "execution_count": 5,
   "metadata": {},
   "outputs": [],
   "source": [
    "import matplotlib.pyplot as plt"
   ]
  },
  {
   "cell_type": "code",
   "execution_count": 6,
   "metadata": {},
   "outputs": [],
   "source": [
    "import pandas as pd"
   ]
  },
  {
   "cell_type": "code",
   "execution_count": 7,
   "metadata": {},
   "outputs": [],
   "source": [
    "import scipy"
   ]
  },
  {
   "cell_type": "markdown",
   "metadata": {},
   "source": [
    "Blank lines in a Code cell are ignored. Any text following a \"#\" in a Code cell is treated as a comment, and is ignored. This allows basic comments to be inserted into your code (always good practice) without the need to create a separate Markdown cell for each comment. For example: "
   ]
  },
  {
   "cell_type": "code",
   "execution_count": 8,
   "metadata": {},
   "outputs": [],
   "source": [
    "import cantera as ct # access Cantera - all subsequent references to Cantera objects must must use the prefix \"ct.\"\n",
    "\n",
    "# the above blank line is ignored, and this line that starts with # also is ignored"
   ]
  },
  {
   "cell_type": "markdown",
   "metadata": {},
   "source": [
    "Individual commands that are too long to fit on a single line can be broken across multiple lines using line continuation. This can be done in a couple of different ways. \n",
    "\n",
    "One way is to use a backslash at the end of a line that is to be continued on the following line. As examples, the four commands in the following Code cell are all equivalent:"
   ]
  },
  {
   "cell_type": "code",
   "execution_count": 9,
   "metadata": {},
   "outputs": [],
   "source": [
    "# command on a single line\n",
    "import cantera as ct\n",
    "\n",
    "# command continued across two lines\n",
    "import cantera \\\n",
    "as ct\n",
    "\n",
    "# command continued across three lines\n",
    "import cantera \\\n",
    "as \\\n",
    "ct\n",
    "\n",
    "# command continued across four lines\n",
    "import \\\n",
    "cantera \\\n",
    "as \\\n",
    "ct"
   ]
  },
  {
   "cell_type": "markdown",
   "metadata": {},
   "source": [
    "An alternative approach is to use implied continuation with parentheses. Examples of that are provided below."
   ]
  },
  {
   "cell_type": "markdown",
   "metadata": {},
   "source": [
    "### 2.2 Back to Cantera: Defining a reacting gas mixture"
   ]
  },
  {
   "cell_type": "markdown",
   "metadata": {},
   "source": [
    "With basic syntax out of the way, let's get back to Cantera. Much of the remaining material in this Notebook is based on the tutorial Notebook \"python_tutorial.ipynb\" that can be found at https://github.com/Cantera/cantera-jupyter. Complete documentation on Cantera can be found at https://cantera.org/documentation/ or https://cantera.org/documentation/docs-2.4/sphinx/html/cython/index.html.\n",
    "\n",
    "As mentioned earlier, the first step in any Cantera application is to access the necessary packages. Normally Cantera, NumPy, Matplotlib, Pandas, and SciPy will suffice for our purposes; in many cases, we won't even need all of these. We don't need to import them again (we've already done that), but since importing the packages would normally be our first step in creating a new application, we will repeat that step here. In addition to the five packages discussed earlier, here we import [os](https://docs.python.org/3/library/os.html), which provides access to miscellaneous operating system interfaces:"
   ]
  },
  {
   "cell_type": "code",
   "execution_count": 10,
   "metadata": {},
   "outputs": [
    {
     "name": "stdout",
     "output_type": "stream",
     "text": [
      "Running Cantera version: 2.4.0\n"
     ]
    }
   ],
   "source": [
    "# access modules needed, and assign shorthand prefixes as desired\n",
    "import cantera as ct\n",
    "import numpy as np\n",
    "import matplotlib.pyplot as plt\n",
    "import pandas as pd\n",
    "import scipy\n",
    "import os\n",
    "\n",
    "# print Cantera version\n",
    "print(\"Running Cantera version: {}\".format(ct.__version__))"
   ]
  },
  {
   "cell_type": "markdown",
   "metadata": {},
   "source": [
    "Next, we need to define the physical system that we wish to model. We will be working primarily with chemically reacting mixtures of ideal gases. \n",
    "\n",
    "As an example, here we use Cantera's `Solution()` object to define a system named \"gas1\" that is a mixture of the 53 gas-phase species that are included in the [GRI-Mech 3.0](http://combustion.berkeley.edu/gri-mech/version30/text30.html) chemical mechanism for the combustion of natural gas with air: "
   ]
  },
  {
   "cell_type": "code",
   "execution_count": 11,
   "metadata": {},
   "outputs": [],
   "source": [
    "# define a gas mixture based on GRI-Mech 3.0\n",
    "gas1 = ct.Solution('gri30.cti')  # note the use of the ct. prefix to access the Cantera \"Solution\" object"
   ]
  },
  {
   "cell_type": "markdown",
   "metadata": {},
   "source": [
    "The file \"gri30.cti\" is included with the standard Cantera installation. To see where this file is located on your computer, you can print the default search path for Cantera data files:"
   ]
  },
  {
   "cell_type": "code",
   "execution_count": 12,
   "metadata": {},
   "outputs": [
    {
     "name": "stdout",
     "output_type": "stream",
     "text": [
      "['C:\\\\Users\\\\dch12\\\\AppData\\\\Local\\\\Continuum\\\\anaconda3\\\\envs\\\\CanteraEnv\\\\lib\\\\site-packages\\\\cantera\\\\data']\n"
     ]
    }
   ],
   "source": [
    "# print the directory that is searched for Cantera data files\n",
    "import cantera.data\n",
    "print(cantera.data.__path__)"
   ]
  },
  {
   "cell_type": "markdown",
   "metadata": {},
   "source": [
    "You can list all of the files that are there using the function `listdir()`, which is available in \"os\":"
   ]
  },
  {
   "cell_type": "code",
   "execution_count": 13,
   "metadata": {},
   "outputs": [
    {
     "data": {
      "text/plain": [
       "['air.cti',\n",
       " 'air.xml',\n",
       " 'airNASA9.cti',\n",
       " 'airNASA9.xml',\n",
       " 'argon.cti',\n",
       " 'argon.xml',\n",
       " 'diamond.cti',\n",
       " 'diamond.xml',\n",
       " 'elements.xml',\n",
       " 'graphite.cti',\n",
       " 'graphite.xml',\n",
       " 'gri30.cti',\n",
       " 'gri30.xml',\n",
       " 'gri30_highT.cti',\n",
       " 'gri30_highT.xml',\n",
       " 'gri30_ion.cti',\n",
       " 'gri30_ion.xml',\n",
       " 'h2o2.cti',\n",
       " 'h2o2.xml',\n",
       " 'KOH.cti',\n",
       " 'KOH.xml',\n",
       " 'liquidvapor.cti',\n",
       " 'liquidvapor.xml',\n",
       " 'methane_pox_on_pt.cti',\n",
       " 'methane_pox_on_pt.xml',\n",
       " 'nasa.cti',\n",
       " 'nasa.xml',\n",
       " 'nasa_condensed.cti',\n",
       " 'nasa_condensed.xml',\n",
       " 'nasa_gas.cti',\n",
       " 'nasa_gas.xml',\n",
       " 'nDodecane_Reitz.cti',\n",
       " 'nDodecane_Reitz.xml',\n",
       " 'ohn.cti',\n",
       " 'ohn.xml',\n",
       " 'ptcombust.cti',\n",
       " 'ptcombust.xml',\n",
       " 'silane.cti',\n",
       " 'silane.xml',\n",
       " 'silicon.cti',\n",
       " 'silicon.xml',\n",
       " 'silicon_carbide.cti',\n",
       " 'silicon_carbide.xml',\n",
       " 'water.cti',\n",
       " 'water.xml',\n",
       " '__init__.py',\n",
       " '__pycache__']"
      ]
     },
     "execution_count": 13,
     "metadata": {},
     "output_type": "execute_result"
    }
   ],
   "source": [
    "# list the contents of the directory that is searched for Cantera data files\n",
    "os.listdir(cantera.data.__path__[0])  # note the use of the os. prefix"
   ]
  },
  {
   "cell_type": "markdown",
   "metadata": {},
   "source": [
    "These files contain property and chemical reaction information for various systems. That includes systems that contain solid and/or liquid phases, in addition to the ideal-gas mixtures that are of principal interest for our purposes. With one exception (\"elements\"), there are two files for each base file name, with two different file extensions: a \".cti\" file, and a \".xml\" file. For example, in addition to the file \"gri30.cti\" that we are using here, there is a file named \"gri30.xml\". The two file types contain essentially the same information, but using different formats; see https://cantera.org/tutorials/input-files.html for details. We will look at some of these files in subsequent tutorial Notebooks. \n",
    "\n",
    "Users can also define their own thermochemical systems by providing appropriate input data files. That is a subject for another day. "
   ]
  },
  {
   "cell_type": "markdown",
   "metadata": {},
   "source": [
    "The file gri30.cti contains several kinds of information: a list of elements or atoms present in the system (e.g., carbon, hydrogen, oxygen, nitrogen, . . .), a list of molecules or species that contain only the specified elements (e.g., methane, carbon dioxide, water, nitric oxide, . . .), thermodynamic property data for each of the listed species (e.g., enthalpies and Gibbs free energies), a reaction mechanism that specifies the allowable chemical reactions that can take place among the given species along with rate parameters for each reaction, and molecular transport properties for each species (e.g., viscosities). We will be working with all of these quantities in subsequent tutorials.\n",
    "\n",
    "For the remainder of this Notebook, we will limit our attention to the list of atoms or elements and to the list of molecules or species considered, and some of their associated properties."
   ]
  },
  {
   "cell_type": "markdown",
   "metadata": {},
   "source": [
    "### 2.3 Elements, species, and units"
   ]
  },
  {
   "cell_type": "markdown",
   "metadata": {},
   "source": [
    "The most fundamental level of description of the contents of a system is the list of atoms or elements that it can contain. The number of atoms or elements is accessed using `n_elements`, and the list of atoms or elements considered can be accessed using `element_names`:"
   ]
  },
  {
   "cell_type": "code",
   "execution_count": 14,
   "metadata": {},
   "outputs": [
    {
     "data": {
      "text/plain": [
       "5"
      ]
     },
     "execution_count": 14,
     "metadata": {},
     "output_type": "execute_result"
    }
   ],
   "source": [
    "# access the number of atoms or elements considered in gas1 (that is, in GRI-Mech 3.0)\n",
    "gas1.n_elements"
   ]
  },
  {
   "cell_type": "code",
   "execution_count": 15,
   "metadata": {},
   "outputs": [
    {
     "data": {
      "text/plain": [
       "['O', 'H', 'C', 'N', 'Ar']"
      ]
     },
     "execution_count": 15,
     "metadata": {},
     "output_type": "execute_result"
    }
   ],
   "source": [
    "# list the individual elements in gas1\n",
    "gas1.element_names"
   ]
  },
  {
   "cell_type": "markdown",
   "metadata": {},
   "source": [
    "So, five different atoms or elements are considered in gri30.cti: oxygen, hydrogen, carbon, nitrogen, and argon. Air contains approximately 1% argon by volume, although the argon often is neglected, as a first approximation. Also, argon is sometimes used in combustion experiments as an inert diluent. For those reasons, argon is included in gti30.cti."
   ]
  },
  {
   "cell_type": "markdown",
   "metadata": {},
   "source": [
    "The next level of description is a list of the molecules or species that are considered. This is limited to molecules that contain the elements listed above. The number of molecules or species is accessed using `n_species`, and the list of molecules or species considered can be accessed using `species()`:"
   ]
  },
  {
   "cell_type": "code",
   "execution_count": 16,
   "metadata": {},
   "outputs": [
    {
     "data": {
      "text/plain": [
       "53"
      ]
     },
     "execution_count": 16,
     "metadata": {},
     "output_type": "execute_result"
    }
   ],
   "source": [
    "# access the number of species considered in gas1 (that is, in GRI-Mech 3.0)\n",
    "gas1.n_species"
   ]
  },
  {
   "cell_type": "code",
   "execution_count": 17,
   "metadata": {},
   "outputs": [
    {
     "data": {
      "text/plain": [
       "[<Species H2>,\n",
       " <Species H>,\n",
       " <Species O>,\n",
       " <Species O2>,\n",
       " <Species OH>,\n",
       " <Species H2O>,\n",
       " <Species HO2>,\n",
       " <Species H2O2>,\n",
       " <Species C>,\n",
       " <Species CH>,\n",
       " <Species CH2>,\n",
       " <Species CH2(S)>,\n",
       " <Species CH3>,\n",
       " <Species CH4>,\n",
       " <Species CO>,\n",
       " <Species CO2>,\n",
       " <Species HCO>,\n",
       " <Species CH2O>,\n",
       " <Species CH2OH>,\n",
       " <Species CH3O>,\n",
       " <Species CH3OH>,\n",
       " <Species C2H>,\n",
       " <Species C2H2>,\n",
       " <Species C2H3>,\n",
       " <Species C2H4>,\n",
       " <Species C2H5>,\n",
       " <Species C2H6>,\n",
       " <Species HCCO>,\n",
       " <Species CH2CO>,\n",
       " <Species HCCOH>,\n",
       " <Species N>,\n",
       " <Species NH>,\n",
       " <Species NH2>,\n",
       " <Species NH3>,\n",
       " <Species NNH>,\n",
       " <Species NO>,\n",
       " <Species NO2>,\n",
       " <Species N2O>,\n",
       " <Species HNO>,\n",
       " <Species CN>,\n",
       " <Species HCN>,\n",
       " <Species H2CN>,\n",
       " <Species HCNN>,\n",
       " <Species HCNO>,\n",
       " <Species HOCN>,\n",
       " <Species HNCO>,\n",
       " <Species NCO>,\n",
       " <Species N2>,\n",
       " <Species AR>,\n",
       " <Species C3H7>,\n",
       " <Species C3H8>,\n",
       " <Species CH2CHO>,\n",
       " <Species CH3CHO>]"
      ]
     },
     "execution_count": 17,
     "metadata": {},
     "output_type": "execute_result"
    }
   ],
   "source": [
    "# list the individual species in gas1\n",
    "# note the use of parentheses () - this is necessary here to force the output to print\n",
    "# \"species\" is a different kind of object than is \"element_names\" - we will look at different kinds\n",
    "#   of objects in subsequent tutorial Notebooks\n",
    "gas1.species() "
   ]
  },
  {
   "cell_type": "markdown",
   "metadata": {},
   "source": [
    "Each molecule or species is identified by a unique name that usually reflects its chemical formula and/or molecular structure. For example, \"H2\" refers to molecular hydrogen, \"CO2\" refers to carbon dioxide, \"H2O2\" refers to hydrogen peroxide, etc. In the case of isomers (molecules having the same chemical formula, but different molecular structures), a unique name must be used for each isomer. The names are case sensitive, and different names may be used for the same species in different input data files, as we will see in subsequent tutorials. It is important to know the name that is assigned to each species of interest in the data file that is currently being used (here gri30.cti), so that the species can be accessed properly.\n",
    "\n",
    "Among the 53 species, there are five that consist of a single atom: C, H, O, N, and AR (argon). At ambient conditions, one would expect that most hydrogen, oxygen, and nitrogen present in a gas mixture would be in the form of diatomic molecules (H2, O2, and N2, respectively), and that is indeed the case. However, as we will see, during combustion these diatomic molecules can dissociate, or split apart, into free H, O, and N atoms. These atoms (note that they are electrically neutral - they are not ions) can be important thermodynamically and chemically, and their properties are very different from those of their corresponding diatomic molecules, so they must be considered as separate species in the mixture. Similarly, free carbon atoms (C) may appear during the combustion process, although free carbon itself is usually not very important in gas-phase combustion of hydrocarbon fuels with air. And finally, argon (AR) is included in gri30.cti, as discussed above.  \n",
    "\n",
    "In gri30.cti, argon as an element is distinguished from argon as a species by using a different name (the names are case sensitive), but that is not the case for carbon, hydrogen, oxygen, and nitrogen. As we proceed through Turns 4th ed. and the tutorial Notebooks, it will be important to distinguish (for example) between hydrogen as an *element* that can be present in multiple species, versus hydrogen as a *species* (free hydrogen atoms in the gas mixture) that is one of the many species that can be present in a mixture: and similarly for carbon, oxygen, nitrogen, and argon. The element-versus-species interpretation should be clear from the context."
   ]
  },
  {
   "cell_type": "markdown",
   "metadata": {},
   "source": [
    "It is important to note that the `n_elements` elements are indexed from 0 (here corresponding to oxygen - O) to `n_elements`-1 (here corresponding to argon - Ar); they are $not$ indexed from 1 to `n_elements`. Similarly, the `n_species` species in the mixture are indexed from 0 (here corresponding to H2) to `n_species`-1 (here corresponding to CH3CHO); they are $not$ indexed from 1 to `n_species`. In general, any time that we work with a list or an array, the first element will be indexed as element 0, and the last element will be indexed as one less than the total number of elements."
   ]
  },
  {
   "cell_type": "markdown",
   "metadata": {},
   "source": [
    "The attribute `n_atoms()` gives the number of atoms of a particular element in a particular species. For example, the number of atoms of hydrogen (element index 1) in a molecule of H2 (species index 0) is given by:"
   ]
  },
  {
   "cell_type": "code",
   "execution_count": 18,
   "metadata": {},
   "outputs": [
    {
     "data": {
      "text/plain": [
       "2.0"
      ]
     },
     "execution_count": 18,
     "metadata": {},
     "output_type": "execute_result"
    }
   ],
   "source": [
    "# access the number of atoms of element index 1 in a molecule of species index 0\n",
    "gas1.n_atoms(0,1)"
   ]
  },
  {
   "cell_type": "markdown",
   "metadata": {},
   "source": [
    "To display the current thermochemical state of gas1:"
   ]
  },
  {
   "cell_type": "code",
   "execution_count": 19,
   "metadata": {},
   "outputs": [
    {
     "name": "stdout",
     "output_type": "stream",
     "text": [
      "\n",
      "  gri30:\n",
      "\n",
      "       temperature             300  K\n",
      "          pressure          101325  Pa\n",
      "           density       0.0818891  kg/m^3\n",
      "  mean mol. weight         2.01588  amu\n",
      "\n",
      "                          1 kg            1 kmol\n",
      "                       -----------      ------------\n",
      "          enthalpy           26470        5.336e+04     J\n",
      "   internal energy     -1.2109e+06       -2.441e+06     J\n",
      "           entropy           64914        1.309e+05     J/K\n",
      "    Gibbs function     -1.9448e+07        -3.92e+07     J\n",
      " heat capacity c_p           14312        2.885e+04     J/K\n",
      " heat capacity c_v           10187        2.054e+04     J/K\n",
      "\n",
      "                           X                 Y          Chem. Pot. / RT\n",
      "                     -------------     ------------     ------------\n",
      "                H2              1                1         -15.7173\n",
      "     [  +52 minor]              0                0\n",
      "\n"
     ]
    }
   ],
   "source": [
    "# print the full current thermochemical state of gas1\n",
    "gas1()"
   ]
  },
  {
   "cell_type": "markdown",
   "metadata": {},
   "source": [
    "By default, the gas mixture has been initialized to a temperature of 300 K, a pressure of 1 atmosphere, and a composition corresponding to 100% of the first species listed in the input file - here that happens to be molecular hydrogen (H2). The other thermodynamic properties then follow. Enthalpy, internal energy, Gibbs function, and specific heats are given both on a per-unit-mass basis and on a molar basis. And the mixture composition is given in terms of both the mole fractions (\"X\") and the mass fractions (\"Y\") of each species in the mixture. Mole fractions and mass fractions are not reported for species that are present in negligible amounts (\"minor\" species) in the mixture.\n",
    "\n",
    "SI units are used in Cantera, with one exception: Cantera uses kmoles rather than moles. The [SI definition of a mole](https://iupac.org/new-definition-mole-arrived/) is a quantity of matter that contains $ N_A = 6.02214076 \\cdot 10^{23} $ elementary entities, where $N_A$ is the Avogadro constant. That is, one mole of any gas contains $N_A$ molecules, and one mole of any gas has a mass in grams that is equal to its molecular weight in atomic mass units (amu). In contrast, a kmole (or kmol) contains 1,000 times more molecules than a mole, and one kmol of any gas has a mass in kilograms that is equal to its molecular weight in amu. The same units conventions that are used in Cantera are used in Turns 4th ed., although in many places in Turns 4th ed., kiloJoules (kJ) are used as the unit of energy instead of Joules (J): 1 kJ = 1,000 J.\n",
    "\n",
    "The use of kmoles rather than moles allows molecular weights to be expressed using conventional values. Here the mixture molecular weight (denoted above as \"mean mol. weight\") is equal to the molecular weight of H2, since the mixture consists of 100% H2, at this point. The molecular weight of H2 is approximately 2.01588 atomic mass units (amu), or 2.01588 kg/kmole: one kmol of H2 has a mass of 2.01588 kg.\n",
    "\n",
    "The values of several physical constants are available in Cantera, including $N_A$. The value of $N_A$ that is used internally in Cantera is accessed using `avogadro`:"
   ]
  },
  {
   "cell_type": "code",
   "execution_count": 20,
   "metadata": {},
   "outputs": [
    {
     "data": {
      "text/plain": [
       "6.02214129e+26"
      ]
     },
     "execution_count": 20,
     "metadata": {},
     "output_type": "execute_result"
    }
   ],
   "source": [
    "# access the value of the Avogadro constant that is used internally in Cantera\n",
    "ct.avogadro"
   ]
  },
  {
   "cell_type": "markdown",
   "metadata": {},
   "source": [
    "The Cantera value is equal to 1,000 times the standard SI value to approximately seven significant figures, and is therefore consistent with the use of kmoles rather than moles.\n",
    "\n",
    "The property values reported here can be compared with those given in Appendix A of Turns 4th ed. (in Table A.3, for H2). For example, the value of the molar constant pressure specific heat $\\overline c_p$ for H2 is very close to the value at 300 K given in Table A.3 of Turns 4th ed. Note that the units there are kJ/kmol-K, whereas the units here are J/kmol-K. The small differences in the values can be attributed to slightly different underlying thermodynamic property data used here versus there.\n",
    "\n",
    "The numerical value of the entropy per kmol is also close to the value in Table A.3, with consideration of the difference in units. The enthalpy and Gibbs function values will be discussed in subsequent tutorials."
   ]
  },
  {
   "cell_type": "markdown",
   "metadata": {},
   "source": [
    "### 2.4 Manipulating the thermochemical state of a mixture"
   ]
  },
  {
   "cell_type": "markdown",
   "metadata": {},
   "source": [
    "Recall from thermodynamics that the thermochemical state of a simple compressible system (such as the one considered here) is determined uniquely by specifying any two independent intensive thermodynamic properties of the mixture, in addition to the mixture compostion. \n",
    "\n",
    "To change the temperature and pressure of the mixture without changing the composition, the `TP` attribute can be used:"
   ]
  },
  {
   "cell_type": "code",
   "execution_count": 21,
   "metadata": {},
   "outputs": [
    {
     "name": "stdout",
     "output_type": "stream",
     "text": [
      "\n",
      "  gri30:\n",
      "\n",
      "       temperature            2000  K\n",
      "          pressure     1.01325e+06  Pa\n",
      "           density        0.122834  kg/m^3\n",
      "  mean mol. weight         2.01588  amu\n",
      "\n",
      "                          1 kg            1 kmol\n",
      "                       -----------      ------------\n",
      "          enthalpy      2.6262e+07        5.294e+07     J\n",
      "   internal energy      1.8013e+07        3.631e+07     J\n",
      "           entropy           83975        1.693e+05     J/K\n",
      "    Gibbs function     -1.4169e+08       -2.856e+08     J\n",
      " heat capacity c_p           16994        3.426e+04     J/K\n",
      " heat capacity c_v           12869        2.594e+04     J/K\n",
      "\n",
      "                           X                 Y          Chem. Pot. / RT\n",
      "                     -------------     ------------     ------------\n",
      "                H2              1                1         -17.1764\n",
      "     [  +52 minor]              0                0\n",
      "\n"
     ]
    }
   ],
   "source": [
    "# set the temperature to 2000 K and pressure to 10 atm, keeping the composition unchanged\n",
    "gas1.TP = 2000. , 1013250.      # recall that SI units are used\n",
    "\n",
    "# print the new thermochemical state\n",
    "gas1()"
   ]
  },
  {
   "cell_type": "markdown",
   "metadata": {},
   "source": [
    "The mixture state also can be changed by specifying various other pairs of mixture thermodynamic properties. For example, all of the following combinations of properties correspond (to within roundoff error) to the same thermochemical state of the mixture:"
   ]
  },
  {
   "cell_type": "code",
   "execution_count": 22,
   "metadata": {},
   "outputs": [
    {
     "name": "stdout",
     "output_type": "stream",
     "text": [
      "\n",
      "  gri30:\n",
      "\n",
      "       temperature            1200  K\n",
      "          pressure          101326  Pa\n",
      "           density       0.0204723  kg/m^3\n",
      "  mean mol. weight         2.01588  amu\n",
      "\n",
      "                          1 kg            1 kmol\n",
      "                       -----------      ------------\n",
      "          enthalpy      1.3296e+07         2.68e+07     J\n",
      "   internal energy      8.3462e+06        1.683e+07     J\n",
      "           entropy           85228        1.718e+05     J/K\n",
      "    Gibbs function     -8.8978e+07       -1.794e+08     J\n",
      " heat capacity c_p           15378          3.1e+04     J/K\n",
      " heat capacity c_v           11253        2.269e+04     J/K\n",
      "\n",
      "                           X                 Y          Chem. Pot. / RT\n",
      "                     -------------     ------------     ------------\n",
      "                H2              1                1         -17.9775\n",
      "     [  +52 minor]              0                0\n",
      "\n"
     ]
    }
   ],
   "source": [
    "# pure H2 at 1200 K and 1 atm - see the printout below to confirm that all combinations correspond to the same state,\n",
    "#   to within roundoff error\n",
    "# recall that SI units are used, with the exception of moles\n",
    "gas1.TP = 1200., 101325.           # temperature, pressure\n",
    "gas1.TD = 1200., 0.0204723         # temperature, mass density\n",
    "gas1.HP = 1.32956e7, 101325.       # specific enthalpy (per unit mass), pressure\n",
    "gas1.UV = 8.34619e6, 1./0.0204723  # specific internal energy (per unit mass), specific volume\n",
    "gas1.SP = 85227.6, 101325.         # specific entropy (per unit mass), pressure\n",
    "gas1.SV = 85227.6, 1./0.0204723    # specific entropy (per unit mass), specific volume\n",
    "\n",
    "# print the current state of gas1\n",
    "gas1()"
   ]
  },
  {
   "cell_type": "markdown",
   "metadata": {},
   "source": [
    "Note that in the case of enthalpy, internal energy, entropy, and Gibbs function, mass-specific (per kg of mixture) values are used by default when specifying thermodynamic properties of the mixture. And again, remember that SI units are used, with the exception of moles. \n",
    "\n",
    "\n",
    "\n",
    "Not all thermodynamically valid possibilities for specifying the state of the mixture are available in Cantera. For example:"
   ]
  },
  {
   "cell_type": "code",
   "execution_count": 23,
   "metadata": {},
   "outputs": [
    {
     "ename": "AttributeError",
     "evalue": "'Solution' object has no attribute 'TG'",
     "output_type": "error",
     "traceback": [
      "\u001b[1;31m---------------------------------------------------------------------------\u001b[0m",
      "\u001b[1;31mAttributeError\u001b[0m                            Traceback (most recent call last)",
      "\u001b[1;32m<ipython-input-23-5c76c7908684>\u001b[0m in \u001b[0;36m<module>\u001b[1;34m\u001b[0m\n\u001b[0;32m      1\u001b[0m \u001b[1;31m# try specifying temperature and Gibbs function\u001b[0m\u001b[1;33m\u001b[0m\u001b[1;33m\u001b[0m\u001b[1;33m\u001b[0m\u001b[0m\n\u001b[1;32m----> 2\u001b[1;33m \u001b[0mgas1\u001b[0m\u001b[1;33m.\u001b[0m\u001b[0mTG\u001b[0m \u001b[1;33m=\u001b[0m \u001b[1;36m1200.\u001b[0m\u001b[1;33m,\u001b[0m \u001b[1;33m-\u001b[0m\u001b[1;36m8.8978e+07\u001b[0m\u001b[1;33m\u001b[0m\u001b[1;33m\u001b[0m\u001b[0m\n\u001b[0m",
      "\u001b[1;31mAttributeError\u001b[0m: 'Solution' object has no attribute 'TG'"
     ]
    }
   ],
   "source": [
    "# try specifying temperature and Gibbs function\n",
    "gas1.TG = 1200., -8.8978e+07"
   ]
  },
  {
   "cell_type": "markdown",
   "metadata": {},
   "source": [
    "Moreover, the commands are case-sensitive (e.g., \"gas1.tp\" gives an error) and order-specific (e.g., \"gas1.PT\" gives an error). So how do we know which combinations are valid? All available attributes of the object that we have defined as \"gas1\" can be displayed as follows. These are the attributes that are associated with Cantera's `Solution()` object, which was used to define \"gas1\":"
   ]
  },
  {
   "cell_type": "code",
   "execution_count": 24,
   "metadata": {},
   "outputs": [
    {
     "data": {
      "text/plain": [
       "['DP',\n",
       " 'DPX',\n",
       " 'DPY',\n",
       " 'HP',\n",
       " 'HPX',\n",
       " 'HPY',\n",
       " 'ID',\n",
       " 'P',\n",
       " 'P_sat',\n",
       " 'SP',\n",
       " 'SPX',\n",
       " 'SPY',\n",
       " 'SV',\n",
       " 'SVX',\n",
       " 'SVY',\n",
       " 'T',\n",
       " 'TD',\n",
       " 'TDX',\n",
       " 'TDY',\n",
       " 'TP',\n",
       " 'TPX',\n",
       " 'TPY',\n",
       " 'T_sat',\n",
       " 'UV',\n",
       " 'UVX',\n",
       " 'UVY',\n",
       " 'X',\n",
       " 'Y',\n",
       " '__call__',\n",
       " '__class__',\n",
       " '__copy__',\n",
       " '__delattr__',\n",
       " '__dir__',\n",
       " '__doc__',\n",
       " '__eq__',\n",
       " '__format__',\n",
       " '__ge__',\n",
       " '__getattribute__',\n",
       " '__getitem__',\n",
       " '__gt__',\n",
       " '__hash__',\n",
       " '__init__',\n",
       " '__init_subclass__',\n",
       " '__le__',\n",
       " '__lt__',\n",
       " '__module__',\n",
       " '__ne__',\n",
       " '__new__',\n",
       " '__pyx_vtable__',\n",
       " '__reduce__',\n",
       " '__reduce_ex__',\n",
       " '__repr__',\n",
       " '__setattr__',\n",
       " '__sizeof__',\n",
       " '__slots__',\n",
       " '__str__',\n",
       " '__subclasshook__',\n",
       " '_check_kinetics_species_index',\n",
       " '_check_phase_index',\n",
       " '_check_reaction_index',\n",
       " '_full_states',\n",
       " '_init_cti_xml',\n",
       " '_init_parts',\n",
       " '_references',\n",
       " 'activities',\n",
       " 'activity_coefficients',\n",
       " 'add_reaction',\n",
       " 'add_species',\n",
       " 'atomic_weight',\n",
       " 'atomic_weights',\n",
       " 'basis',\n",
       " 'binary_diff_coeffs',\n",
       " 'chemical_potentials',\n",
       " 'concentrations',\n",
       " 'cp',\n",
       " 'cp_mass',\n",
       " 'cp_mole',\n",
       " 'creation_rates',\n",
       " 'critical_density',\n",
       " 'critical_pressure',\n",
       " 'critical_temperature',\n",
       " 'cv',\n",
       " 'cv_mass',\n",
       " 'cv_mole',\n",
       " 'delta_enthalpy',\n",
       " 'delta_entropy',\n",
       " 'delta_gibbs',\n",
       " 'delta_standard_enthalpy',\n",
       " 'delta_standard_entropy',\n",
       " 'delta_standard_gibbs',\n",
       " 'density',\n",
       " 'density_mass',\n",
       " 'density_mole',\n",
       " 'destruction_rates',\n",
       " 'electric_potential',\n",
       " 'electrical_conductivity',\n",
       " 'electrochemical_potentials',\n",
       " 'element_index',\n",
       " 'element_name',\n",
       " 'element_names',\n",
       " 'element_potentials',\n",
       " 'elemental_mass_fraction',\n",
       " 'elemental_mole_fraction',\n",
       " 'enthalpy_mass',\n",
       " 'enthalpy_mole',\n",
       " 'entropy_mass',\n",
       " 'entropy_mole',\n",
       " 'equilibrate',\n",
       " 'equilibrium_constants',\n",
       " 'forward_rate_constants',\n",
       " 'forward_rates_of_progress',\n",
       " 'g',\n",
       " 'get_equivalence_ratio',\n",
       " 'gibbs_mass',\n",
       " 'gibbs_mole',\n",
       " 'h',\n",
       " 'int_energy_mass',\n",
       " 'int_energy_mole',\n",
       " 'is_reversible',\n",
       " 'isothermal_compressibility',\n",
       " 'kinetics_species_index',\n",
       " 'mass_fraction_dict',\n",
       " 'max_temp',\n",
       " 'mean_molecular_weight',\n",
       " 'min_temp',\n",
       " 'mix_diff_coeffs',\n",
       " 'mix_diff_coeffs_mass',\n",
       " 'mix_diff_coeffs_mole',\n",
       " 'modify_reaction',\n",
       " 'modify_species',\n",
       " 'mole_fraction_dict',\n",
       " 'molecular_weights',\n",
       " 'multi_diff_coeffs',\n",
       " 'multiplier',\n",
       " 'n_atoms',\n",
       " 'n_elements',\n",
       " 'n_phases',\n",
       " 'n_reactions',\n",
       " 'n_selected_species',\n",
       " 'n_species',\n",
       " 'n_total_species',\n",
       " 'name',\n",
       " 'net_production_rates',\n",
       " 'net_rates_of_progress',\n",
       " 'partial_molar_cp',\n",
       " 'partial_molar_enthalpies',\n",
       " 'partial_molar_entropies',\n",
       " 'partial_molar_int_energies',\n",
       " 'partial_molar_volumes',\n",
       " 'product_stoich_coeff',\n",
       " 'product_stoich_coeffs',\n",
       " 'products',\n",
       " 'reactant_stoich_coeff',\n",
       " 'reactant_stoich_coeffs',\n",
       " 'reactants',\n",
       " 'reaction',\n",
       " 'reaction_equation',\n",
       " 'reaction_equations',\n",
       " 'reaction_phase_index',\n",
       " 'reaction_type',\n",
       " 'reactions',\n",
       " 'reference_pressure',\n",
       " 'report',\n",
       " 'reverse_rate_constants',\n",
       " 'reverse_rates_of_progress',\n",
       " 's',\n",
       " 'selected_species',\n",
       " 'set_equivalence_ratio',\n",
       " 'set_multiplier',\n",
       " 'set_unnormalized_mass_fractions',\n",
       " 'set_unnormalized_mole_fractions',\n",
       " 'species',\n",
       " 'species_index',\n",
       " 'species_name',\n",
       " 'species_names',\n",
       " 'species_viscosities',\n",
       " 'standard_cp_R',\n",
       " 'standard_enthalpies_RT',\n",
       " 'standard_entropies_R',\n",
       " 'standard_gibbs_RT',\n",
       " 'standard_int_energies_RT',\n",
       " 'state',\n",
       " 'thermal_conductivity',\n",
       " 'thermal_diff_coeffs',\n",
       " 'thermal_expansion_coeff',\n",
       " 'transport_model',\n",
       " 'u',\n",
       " 'v',\n",
       " 'viscosity',\n",
       " 'volume_mass',\n",
       " 'volume_mole']"
      ]
     },
     "execution_count": 24,
     "metadata": {},
     "output_type": "execute_result"
    }
   ],
   "source": [
    "# show all available attributes of gas1 - that is, of Cantera's \"Solution\" object\n",
    "dir(gas1)"
   ]
  },
  {
   "cell_type": "markdown",
   "metadata": {},
   "source": [
    "You can scroll down through the list to see the available attributes.\n",
    "\n",
    "Clearly, gas1 has many attributes beyond the pairs of thermodynamic properties and other attributes (e.g., `n_species`) that we have used so far. We will look at some of the remaining attributes in what follows here, and will use more in subsequent tutorials. In subsequent tutorials, we also will look at important differences among various kinds of attributes.\n",
    "\n",
    "If we write \"gas1.TP\" without assigning values of temperature and pressure, the current mixture values are accessed:"
   ]
  },
  {
   "cell_type": "code",
   "execution_count": 25,
   "metadata": {},
   "outputs": [
    {
     "data": {
      "text/plain": [
       "(1200.0044548350836, 101325.55173161511)"
      ]
     },
     "execution_count": 25,
     "metadata": {},
     "output_type": "execute_result"
    }
   ],
   "source": [
    "# print the current temperature and pressure of gas1\n",
    "gas1.TP"
   ]
  },
  {
   "cell_type": "markdown",
   "metadata": {},
   "source": [
    "One can proceed similarly to access the other available pairs of mixture thermodynamic properties. \n",
    "\n",
    "Values of some thermodynamic properties can be accessed individually - see the list of defined attributes above. For example:"
   ]
  },
  {
   "cell_type": "code",
   "execution_count": 26,
   "metadata": {},
   "outputs": [
    {
     "data": {
      "text/plain": [
       "1200.0044548350836"
      ]
     },
     "execution_count": 26,
     "metadata": {},
     "output_type": "execute_result"
    }
   ],
   "source": [
    "gas1.T    # current temperature of gas1 (K)"
   ]
  },
  {
   "cell_type": "code",
   "execution_count": 27,
   "metadata": {},
   "outputs": [
    {
     "data": {
      "text/plain": [
       "101325.55173161511"
      ]
     },
     "execution_count": 27,
     "metadata": {},
     "output_type": "execute_result"
    }
   ],
   "source": [
    "gas1.P    # current pressure of gas1 (Pa)"
   ]
  },
  {
   "cell_type": "markdown",
   "metadata": {},
   "source": [
    "Up to this point, we have not changed the compostion of gas1; it is still pure H2. The composition of a mixture can be expressed in terms of mole fractions (attribute `X`) or mass fractions (attribute `Y`). The current composition in terms of mole fractions and mass fractions, respectively, is accessed as follows:"
   ]
  },
  {
   "cell_type": "code",
   "execution_count": 28,
   "metadata": {},
   "outputs": [
    {
     "data": {
      "text/plain": [
       "array([1., 0., 0., 0., 0., 0., 0., 0., 0., 0., 0., 0., 0., 0., 0., 0., 0.,\n",
       "       0., 0., 0., 0., 0., 0., 0., 0., 0., 0., 0., 0., 0., 0., 0., 0., 0.,\n",
       "       0., 0., 0., 0., 0., 0., 0., 0., 0., 0., 0., 0., 0., 0., 0., 0., 0.,\n",
       "       0., 0.])"
      ]
     },
     "execution_count": 28,
     "metadata": {},
     "output_type": "execute_result"
    }
   ],
   "source": [
    "gas1.X   # current mixture composition (mole fractions)"
   ]
  },
  {
   "cell_type": "code",
   "execution_count": 29,
   "metadata": {},
   "outputs": [
    {
     "data": {
      "text/plain": [
       "array([1., 0., 0., 0., 0., 0., 0., 0., 0., 0., 0., 0., 0., 0., 0., 0., 0.,\n",
       "       0., 0., 0., 0., 0., 0., 0., 0., 0., 0., 0., 0., 0., 0., 0., 0., 0.,\n",
       "       0., 0., 0., 0., 0., 0., 0., 0., 0., 0., 0., 0., 0., 0., 0., 0., 0.,\n",
       "       0., 0.])"
      ]
     },
     "execution_count": 29,
     "metadata": {},
     "output_type": "execute_result"
    }
   ],
   "source": [
    "gas1.Y   # current mixture composition (mass fractions)"
   ]
  },
  {
   "cell_type": "markdown",
   "metadata": {},
   "source": [
    "Both `X` and `Y` are arrays containing `n_species` (=53 here) numbers, one for the mole fraction (in the case of `X`) or the mass fraction (in the case of `Y`) of each species in the gas mixture. The order of the species in the array of values is the same as that reported earlier by `gas1.species()`."
   ]
  },
  {
   "cell_type": "markdown",
   "metadata": {},
   "source": [
    "The mixture composition can be changed by specifying an array or vector of 53 species mole fractions or mass fractions. For example:"
   ]
  },
  {
   "cell_type": "code",
   "execution_count": 30,
   "metadata": {},
   "outputs": [
    {
     "data": {
      "text/plain": [
       "array([0.01886792, 0.01886792, 0.01886792, 0.01886792, 0.01886792,\n",
       "       0.01886792, 0.01886792, 0.01886792, 0.01886792, 0.01886792,\n",
       "       0.01886792, 0.01886792, 0.01886792, 0.01886792, 0.01886792,\n",
       "       0.01886792, 0.01886792, 0.01886792, 0.01886792, 0.01886792,\n",
       "       0.01886792, 0.01886792, 0.01886792, 0.01886792, 0.01886792,\n",
       "       0.01886792, 0.01886792, 0.01886792, 0.01886792, 0.01886792,\n",
       "       0.01886792, 0.01886792, 0.01886792, 0.01886792, 0.01886792,\n",
       "       0.01886792, 0.01886792, 0.01886792, 0.01886792, 0.01886792,\n",
       "       0.01886792, 0.01886792, 0.01886792, 0.01886792, 0.01886792,\n",
       "       0.01886792, 0.01886792, 0.01886792, 0.01886792, 0.01886792,\n",
       "       0.01886792, 0.01886792, 0.01886792])"
      ]
     },
     "execution_count": 30,
     "metadata": {},
     "output_type": "execute_result"
    }
   ],
   "source": [
    "# specify equal mole fractions for each of the 53 species\n",
    "# note the use of the implied line continuation within the parentheses, to split the command over 6 lines\n",
    "gas1.X = (0.1, 0.1, 0.1, 0.1, 0.1, 0.1, 0.1, 0.1, 0.1, 0.1,\n",
    "          0.1, 0.1, 0.1, 0.1, 0.1, 0.1, 0.1, 0.1, 0.1, 0.1,\n",
    "          0.1, 0.1, 0.1, 0.1, 0.1, 0.1, 0.1, 0.1, 0.1, 0.1,\n",
    "          0.1, 0.1, 0.1, 0.1, 0.1, 0.1, 0.1, 0.1, 0.1, 0.1,\n",
    "          0.1, 0.1, 0.1, 0.1, 0.1, 0.1, 0.1, 0.1, 0.1, 0.1,\n",
    "          0.1, 0.1, 0.1)\n",
    "\n",
    "# print the new mixture composition (53 species mole fractions)\n",
    "gas1.X"
   ]
  },
  {
   "cell_type": "markdown",
   "metadata": {},
   "source": [
    "Physically, the mole fractions (or mass fractions) of all species in a mixture must sum to unity. So when the mixture composition is prescribed, the user-specified mole (or mass) fractions are interpreted as relative mole (or mass) fractions. The actual mole (or mass) fractions in the mixture will always sum to unity.\n",
    "\n",
    "An alternative way to set all species mole (or mass) fractions to the same value is to use the NumPy function `ones()`, which sets the values of all elements of an array to unity:"
   ]
  },
  {
   "cell_type": "code",
   "execution_count": 31,
   "metadata": {},
   "outputs": [
    {
     "data": {
      "text/plain": [
       "array([0.01886792, 0.01886792, 0.01886792, 0.01886792, 0.01886792,\n",
       "       0.01886792, 0.01886792, 0.01886792, 0.01886792, 0.01886792,\n",
       "       0.01886792, 0.01886792, 0.01886792, 0.01886792, 0.01886792,\n",
       "       0.01886792, 0.01886792, 0.01886792, 0.01886792, 0.01886792,\n",
       "       0.01886792, 0.01886792, 0.01886792, 0.01886792, 0.01886792,\n",
       "       0.01886792, 0.01886792, 0.01886792, 0.01886792, 0.01886792,\n",
       "       0.01886792, 0.01886792, 0.01886792, 0.01886792, 0.01886792,\n",
       "       0.01886792, 0.01886792, 0.01886792, 0.01886792, 0.01886792,\n",
       "       0.01886792, 0.01886792, 0.01886792, 0.01886792, 0.01886792,\n",
       "       0.01886792, 0.01886792, 0.01886792, 0.01886792, 0.01886792,\n",
       "       0.01886792, 0.01886792, 0.01886792])"
      ]
     },
     "execution_count": 31,
     "metadata": {},
     "output_type": "execute_result"
    }
   ],
   "source": [
    "# specify equal mass fractions for each of the 53 species\n",
    "gas1.Y = np.ones(53)   # note the use of the prefix np. to access the NumPy object \"ones\"\n",
    "\n",
    "# print the mixture composition (53 species mass fractions)\n",
    "gas1.Y"
   ]
  },
  {
   "cell_type": "markdown",
   "metadata": {},
   "source": [
    "What happened to the other thermodynamic properties of the mixture when we changed the mixture composition from pure H2 to equal mass fractions for each of the 53 species? Let's find out:"
   ]
  },
  {
   "cell_type": "code",
   "execution_count": 32,
   "metadata": {},
   "outputs": [
    {
     "name": "stdout",
     "output_type": "stream",
     "text": [
      "\n",
      "  gri30:\n",
      "\n",
      "       temperature            1200  K\n",
      "          pressure         13431.2  Pa\n",
      "           density       0.0204723  kg/m^3\n",
      "  mean mol. weight         15.2079  amu\n",
      "\n",
      "                          1 kg            1 kmol\n",
      "                       -----------      ------------\n",
      "          enthalpy      1.2527e+07        1.905e+08     J\n",
      "   internal energy      1.1871e+07        1.805e+08     J\n",
      "           entropy           17371        2.642e+05     J/K\n",
      "    Gibbs function     -8.3188e+06       -1.265e+08     J\n",
      " heat capacity c_p          2898.4        4.408e+04     J/K\n",
      " heat capacity c_v          2351.7        3.576e+04     J/K\n",
      "\n",
      "                           X                 Y          Chem. Pot. / RT\n",
      "                     -------------     ------------     ------------\n",
      "                H2        0.14234        0.0188679         -21.9478\n",
      "                 H       0.284681        0.0188679          3.17231\n",
      "                 O      0.0179345        0.0188679         -2.08338\n",
      "                O2     0.00896725        0.0188679          -33.822\n",
      "                OH      0.0168716        0.0188679         -26.5479\n",
      "               H2O      0.0159277        0.0188679         -55.8625\n",
      "               HO2     0.00869341        0.0188679         -36.1301\n",
      "              H2O2      0.0084358        0.0188679         -52.5013\n",
      "                 C      0.0238899        0.0188679          45.4557\n",
      "                CH      0.0220403        0.0188679          29.7259\n",
      "               CH2      0.0204565        0.0188679          7.07674\n",
      "            CH2(S)      0.0204565        0.0188679          11.5754\n",
      "               CH3      0.0190851        0.0188679         -18.1082\n",
      "               CH4       0.017886        0.0188679         -39.6522\n",
      "                CO      0.0102441        0.0188679         -43.7782\n",
      "               CO2     0.00651994        0.0188679         -75.6376\n",
      "               HCO     0.00988827        0.0188679         -32.4322\n",
      "              CH2O     0.00955633        0.0188679         -47.3079\n",
      "             CH2OH     0.00924596        0.0188679         -42.0993\n",
      "              CH3O     0.00924596        0.0188679         -36.6318\n",
      "             CH3OH     0.00895511        0.0188679         -60.3993\n",
      "               C2H      0.0114639        0.0188679          21.0644\n",
      "              C2H2      0.0110201        0.0188679         -12.0153\n",
      "              C2H3      0.0106094        0.0188679         -9.09458\n",
      "              C2H4      0.0102283        0.0188679         -32.5679\n",
      "              C2H5     0.00987352        0.0188679           -30.05\n",
      "              C2H6     0.00954255        0.0188679         -48.7423\n",
      "              HCCO     0.00699356        0.0188679         -23.3315\n",
      "             CH2CO     0.00682587        0.0188679          -45.933\n",
      "             HCCOH     0.00682587        0.0188679         -32.9501\n",
      "                 N      0.0204859        0.0188679          21.4258\n",
      "                NH      0.0191107        0.0188679          5.72195\n",
      "               NH2      0.0179085        0.0188679         -13.0701\n",
      "               NH3      0.0168486        0.0188679         -37.1866\n",
      "               NNH     0.00988722        0.0188679         -11.6802\n",
      "                NO     0.00956275        0.0188679         -25.2511\n",
      "               NO2      0.0062371        0.0188679          -35.925\n",
      "               N2O     0.00651948        0.0188679         -28.8653\n",
      "               HNO     0.00925196        0.0188679         -25.5782\n",
      "                CN      0.0110287        0.0188679          10.7306\n",
      "               HCN      0.0106174        0.0188679          -20.947\n",
      "              H2CN      0.0102356        0.0188679         -12.5141\n",
      "              HCNN     0.00699304        0.0188679          4.71438\n",
      "              HCNO     0.00666916        0.0188679         -23.4964\n",
      "              HOCN     0.00666916        0.0188679         -41.5133\n",
      "              HNCO     0.00666916        0.0188679         -52.1046\n",
      "               NCO     0.00682915        0.0188679         -25.3624\n",
      "                N2       0.010243        0.0188679         -31.9451\n",
      "                AR     0.00718287        0.0188679         -27.1692\n",
      "              C3H7     0.00665933        0.0188679         -40.0114\n",
      "              C3H8     0.00650712        0.0188679         -58.7145\n",
      "            CH2CHO     0.00666604        0.0188679         -42.2462\n",
      "            CH3CHO     0.00651352        0.0188679         -61.4266\n",
      "\n"
     ]
    }
   ],
   "source": [
    "# print the full current thermochemical state of gas1\n",
    "gas1()"
   ]
  },
  {
   "cell_type": "markdown",
   "metadata": {},
   "source": [
    "The mixture temperature and density are the same as the values before we changed the composition, while the values of other mixture thermodynamic properties (e.g., pressure) have changed. That is, the composition was changed isothermally and at constant density; that is equivalent to an isothermal constant-volume fixed-mass system."
   ]
  },
  {
   "cell_type": "markdown",
   "metadata": {},
   "source": [
    "Looking back at the list of attributes available for gas1, it can be seen that various combinations of two mixture thermodynamic properties and composition can be specified to define the state of the mixture: for example, `TPX` (temperature, pressure, and species mole fractions) or `SPY` (entropy, pressure, and species mass fractions). These attributes can be used to hold mixture thermodynamic properties other than temperature and density constant, while changing the mixture composition. \n",
    "\n",
    "For example, going back to the earlier 1200 K, 1 atmosphere, pure H2 state, we can change the composition from there to equal mole fractions of all species while holding the temperature and pressure constant, as follows. Note the use of Cantera's built-in physical constant `one_atm` to specify a mixture pressure in Pa equivalent to one standard atmosphere:"
   ]
  },
  {
   "cell_type": "code",
   "execution_count": 33,
   "metadata": {},
   "outputs": [
    {
     "name": "stdout",
     "output_type": "stream",
     "text": [
      "\n",
      "  gri30:\n",
      "\n",
      "       temperature            1200  K\n",
      "          pressure          101325  Pa\n",
      "           density       0.0204723  kg/m^3\n",
      "  mean mol. weight         2.01588  amu\n",
      "\n",
      "                          1 kg            1 kmol\n",
      "                       -----------      ------------\n",
      "          enthalpy      1.3296e+07         2.68e+07     J\n",
      "   internal energy      8.3462e+06        1.682e+07     J\n",
      "           entropy           85228        1.718e+05     J/K\n",
      "    Gibbs function     -8.8978e+07       -1.794e+08     J\n",
      " heat capacity c_p           15378          3.1e+04     J/K\n",
      " heat capacity c_v           11253        2.269e+04     J/K\n",
      "\n",
      "                           X                 Y          Chem. Pot. / RT\n",
      "                     -------------     ------------     ------------\n",
      "                H2              1                1         -17.9775\n",
      "     [  +52 minor]              0                0\n",
      "\n"
     ]
    }
   ],
   "source": [
    "# return to 1200 K, 1 atmosphere, pure H2\n",
    "gas1.TPX = 1200., ct.one_atm, 'H2:1.0'\n",
    "\n",
    "# print the current mixture state\n",
    "gas1()"
   ]
  },
  {
   "cell_type": "code",
   "execution_count": 34,
   "metadata": {},
   "outputs": [
    {
     "data": {
      "text/plain": [
       "101325.0"
      ]
     },
     "execution_count": 34,
     "metadata": {},
     "output_type": "execute_result"
    }
   ],
   "source": [
    "# print the numerical value of Cantera's built-in physical constant \"one_atm\"\n",
    "# the value is in standard SI units of pressure (Pa)\n",
    "ct.one_atm"
   ]
  },
  {
   "cell_type": "code",
   "execution_count": 35,
   "metadata": {},
   "outputs": [
    {
     "name": "stdout",
     "output_type": "stream",
     "text": [
      "\n",
      "  gri30:\n",
      "\n",
      "       temperature            1200  K\n",
      "          pressure          101325  Pa\n",
      "           density        0.293242  kg/m^3\n",
      "  mean mol. weight         28.8752  amu\n",
      "\n",
      "                          1 kg            1 kmol\n",
      "                       -----------      ------------\n",
      "          enthalpy       5.488e+06        1.585e+08     J\n",
      "   internal energy      5.1425e+06        1.485e+08     J\n",
      "           entropy           10988        3.173e+05     J/K\n",
      "    Gibbs function     -7.6982e+06       -2.223e+08     J\n",
      " heat capacity c_p          2239.5        6.467e+04     J/K\n",
      " heat capacity c_v          1951.5        5.635e+04     J/K\n",
      "\n",
      "                           X                 Y          Chem. Pot. / RT\n",
      "                     -------------     ------------     ------------\n",
      "                H2      0.0188679       0.00131724         -21.9478\n",
      "                 H      0.0188679      0.000658618          2.47925\n",
      "                 O      0.0188679        0.0104545       -0.0117859\n",
      "                O2      0.0188679         0.020909         -31.0573\n",
      "                OH      0.0188679        0.0111131         -24.4153\n",
      "               H2O      0.0188679        0.0117717         -53.6724\n",
      "               HO2      0.0188679        0.0215676         -33.3344\n",
      "              H2O2      0.0188679        0.0222262         -49.6756\n",
      "                 C      0.0188679       0.00784834          47.2408\n",
      "                CH      0.0188679       0.00850696          31.5915\n",
      "               CH2      0.0188679       0.00916558          9.01681\n",
      "            CH2(S)      0.0188679       0.00916558          13.5155\n",
      "               CH3      0.0188679        0.0098242         -16.0989\n",
      "               CH4      0.0188679        0.0104828          -37.578\n",
      "                CO      0.0188679        0.0183028         -41.1467\n",
      "               CO2      0.0188679        0.0287573         -72.5544\n",
      "               HCO      0.0188679        0.0189614         -29.7653\n",
      "              CH2O      0.0188679        0.0196201         -44.6069\n",
      "             CH2OH      0.0188679        0.0202787         -39.3653\n",
      "              CH3O      0.0188679        0.0202787         -33.8978\n",
      "             CH3OH      0.0188679        0.0209373         -57.6334\n",
      "               C2H      0.0188679        0.0163553          23.5836\n",
      "              C2H2      0.0188679        0.0170139         -9.45675\n",
      "              C2H3      0.0188679        0.0176725         -6.49797\n",
      "              C2H4      0.0188679        0.0183312         -29.9348\n",
      "              C2H5      0.0188679        0.0189898         -27.3816\n",
      "              C2H6      0.0188679        0.0196484         -46.0399\n",
      "              HCCO      0.0188679        0.0268098         -20.3182\n",
      "             CH2CO      0.0188679        0.0274684         -42.8955\n",
      "             HCCOH      0.0188679        0.0274684         -29.9125\n",
      "                 N      0.0188679       0.00915242          23.3645\n",
      "                NH      0.0188679       0.00981104          7.73006\n",
      "               NH2      0.0188679        0.0104697          -10.997\n",
      "               NH3      0.0188679        0.0111283         -35.0526\n",
      "               NNH      0.0188679        0.0189635         -9.01315\n",
      "                NO      0.0188679        0.0196069         -22.5507\n",
      "               NO2      0.0188679        0.0300614         -32.7973\n",
      "               N2O      0.0188679        0.0287593         -25.7818\n",
      "               HNO      0.0188679        0.0202655         -22.8448\n",
      "                CN      0.0188679        0.0170008          13.2885\n",
      "               HCN      0.0188679        0.0176594         -18.3512\n",
      "              H2CN      0.0188679         0.018318         -9.88169\n",
      "              HCNN      0.0188679        0.0268118          7.72787\n",
      "              HCNO      0.0188679        0.0281139         -20.4356\n",
      "              HOCN      0.0188679        0.0281139         -38.4525\n",
      "              HNCO      0.0188679        0.0281139         -49.0439\n",
      "               NCO      0.0188679        0.0274552         -22.3253\n",
      "                N2      0.0188679        0.0183048         -29.3135\n",
      "                AR      0.0188679        0.0261032         -24.1826\n",
      "              C3H7      0.0188679        0.0281554         -36.9491\n",
      "              C3H8      0.0188679         0.028814         -55.6292\n",
      "            CH2CHO      0.0188679         0.028127          -39.185\n",
      "            CH3CHO      0.0188679        0.0287856         -58.3423\n",
      "\n"
     ]
    }
   ],
   "source": [
    "# now change the composition to equal mole fractions of all species, while holding the temperature and pressure constant\n",
    "# specifying \"None\" for a mixture property value leaves that property value unchanged at its previous value\n",
    "# note that it must be \"None\", not \"none\" - it is case sensitive\n",
    "gas1.TPX = None, None, np.ones(53)\n",
    "\n",
    "# print the current mixture state\n",
    "gas1()"
   ]
  },
  {
   "cell_type": "markdown",
   "metadata": {},
   "source": [
    "Note that the mixture density has changed, while the temperature and pressure have not changed."
   ]
  },
  {
   "cell_type": "markdown",
   "metadata": {},
   "source": [
    "### 2.5 Working with subsets of species"
   ]
  },
  {
   "cell_type": "markdown",
   "metadata": {},
   "source": [
    "It can be inconvenient to specify or to look at 53 values any time that we want to consider the mixture composition. Various shortcuts are available to simplify this. One way is to specify the relative proportions of those species in the mixture that have nonzero mole (or mass) fractions directly using species names, where the names are the ones that were reported earlier by `gas1.species()`.\n",
    "\n",
    "For example, a mixture of methane (CH4), molecular oxygen (O2), and molecular nitrogen (N2) in proportions 1.0:2.0:7.52 (on a molar or volume basis) can be specified as follows. As we will learn later, this corresponds to a stoichiometric mixture of methane and air, when we make our usual approximation for air as being 21% O2 and 79% N2 by volume:"
   ]
  },
  {
   "cell_type": "code",
   "execution_count": 36,
   "metadata": {},
   "outputs": [
    {
     "data": {
      "text/plain": [
       "array([0.        , 0.        , 0.        , 0.19011407, 0.        ,\n",
       "       0.        , 0.        , 0.        , 0.        , 0.        ,\n",
       "       0.        , 0.        , 0.        , 0.09505703, 0.        ,\n",
       "       0.        , 0.        , 0.        , 0.        , 0.        ,\n",
       "       0.        , 0.        , 0.        , 0.        , 0.        ,\n",
       "       0.        , 0.        , 0.        , 0.        , 0.        ,\n",
       "       0.        , 0.        , 0.        , 0.        , 0.        ,\n",
       "       0.        , 0.        , 0.        , 0.        , 0.        ,\n",
       "       0.        , 0.        , 0.        , 0.        , 0.        ,\n",
       "       0.        , 0.        , 0.7148289 , 0.        , 0.        ,\n",
       "       0.        , 0.        , 0.        ])"
      ]
     },
     "execution_count": 36,
     "metadata": {},
     "output_type": "execute_result"
    }
   ],
   "source": [
    "# specify the relative mole numbers of the three species that are present in the mixture\n",
    "gas1.X = 'CH4:1.0, O2:2.0, N2:7.52'\n",
    "\n",
    "# print the species mole fractions\n",
    "gas1.X"
   ]
  },
  {
   "cell_type": "markdown",
   "metadata": {},
   "source": [
    "Note that the mole fractions of any species that were not specified have been set to zero, and that the user-specified values again were interpreted as relative mole numbers; the actual mole fractions sum to unity.\n",
    "\n",
    "As was the case for the species names, the numbering of the species is arbitrary, and may vary from one input data file to another. It is important to know the index that is assigned to each species of interest in the data file that is currently being used (here gri30.cti), so that the species can be accessed properly. The index for any species can be found using the `species_index()` attribute. For example:"
   ]
  },
  {
   "cell_type": "code",
   "execution_count": 37,
   "metadata": {},
   "outputs": [
    {
     "data": {
      "text/plain": [
       "13"
      ]
     },
     "execution_count": 37,
     "metadata": {},
     "output_type": "execute_result"
    }
   ],
   "source": [
    "# access the species index for methane\n",
    "gas1.species_index('CH4')"
   ]
  },
  {
   "cell_type": "markdown",
   "metadata": {},
   "source": [
    "In this manner, it is found that CH4 is species index 13, O2 is species index 3, and N2 is species index 47. "
   ]
  },
  {
   "cell_type": "markdown",
   "metadata": {},
   "source": [
    "Conversely, the species name corresponding to a particular species index can be accessed using the `species_name()` attribute. For example, species index 22 corresponds to acetylene (C2H2):"
   ]
  },
  {
   "cell_type": "code",
   "execution_count": 38,
   "metadata": {},
   "outputs": [
    {
     "data": {
      "text/plain": [
       "'C2H2'"
      ]
     },
     "execution_count": 38,
     "metadata": {},
     "output_type": "execute_result"
    }
   ],
   "source": [
    "# access the species name corresponding to species index 22\n",
    "gas1.species_name(22)"
   ]
  },
  {
   "cell_type": "markdown",
   "metadata": {},
   "source": [
    "It is often convenient to define and work with subsets of species in the mixture, rather than with the full set of species. Subsets of interest may be the \"major\" species (species that have relatively high mole or mass fractions in the mixture, and that are especially important thermodynamically), the \"reactant\" species (species that are present in an unburned fuel-oxidizer reactant mixture), or the \"product\" species (species that are present in the products of complete combustion), for example. We will work with these and other important subsets of species further in subsequent tutorials.\n",
    "\n",
    "As an example, consider the subset of five species that would be considered, for many purposes, as being the major species in the combustion of methane (CH4) with air (a mixture of O2 and N2) to form water (H2O) and carbon dioxide (CO2). We can use Python's \"slicing\" syntax to define and work with this subset of species, which we refer to below as \"major\". Then any of the attributes of \"gas1\" (a 53-dimensional system) can be used with \"major\" (a 5-dimensional system) to simplify our analysis.\n",
    "\n",
    "First, recall the current temperature of gas1:"
   ]
  },
  {
   "cell_type": "code",
   "execution_count": 39,
   "metadata": {},
   "outputs": [
    {
     "data": {
      "text/plain": [
       "1200.0"
      ]
     },
     "execution_count": 39,
     "metadata": {},
     "output_type": "execute_result"
    }
   ],
   "source": [
    "# access the current temperature of gas1\n",
    "gas1.T"
   ]
  },
  {
   "cell_type": "markdown",
   "metadata": {},
   "source": [
    "Next, access the species partial molar specific heats (J/kmol-K) for each of the 53 species in gas1 at the current mixture temperature using the `partial_molar_cp` attribute:"
   ]
  },
  {
   "cell_type": "code",
   "execution_count": 40,
   "metadata": {},
   "outputs": [
    {
     "data": {
      "text/plain": [
       "array([ 31000.04140482,  20786.15523682,  20885.04729697,  35650.72899071,\n",
       "        31641.07240121,  43877.23999831,  49617.12738997,  65673.33416424,\n",
       "        20790.51740445,  33775.39130739,  46923.11176472,  46840.65308829,\n",
       "        63228.03778039,  81404.92647407,  34149.26369219,  56306.13645654,\n",
       "        50305.38124631,  66415.65714753,  82246.5624616 ,  83387.34435562,\n",
       "        97125.81474329,  55813.53073817,  71648.26611097,  85241.633395  ,\n",
       "       101689.49097913, 116857.03712922, 133774.19497756,  72256.44417998,\n",
       "        89317.34044335,  92250.07099646,  20806.32999739,  32358.16300189,\n",
       "        46220.4872916 ,  60963.05894973,  49942.3500297 ,  34784.25083751,\n",
       "        54455.82772565,  56966.31109282,  51053.66549805,  34225.72612759,\n",
       "        52495.68904783,  67697.4268596 ,  73536.84236404,  74121.05035654,\n",
       "        69335.16649046,  72492.8527154 ,  57265.0997091 ,  33707.49274776,\n",
       "        20786.15525   , 171149.16495123, 188163.45345909, 103430.13989397,\n",
       "       120413.19641312])"
      ]
     },
     "execution_count": 40,
     "metadata": {},
     "output_type": "execute_result"
    }
   ],
   "source": [
    "# access the species partial molar specific heats (J/kmol-K)\n",
    "gas1.partial_molar_cp"
   ]
  },
  {
   "cell_type": "markdown",
   "metadata": {},
   "source": [
    "The values of the individual species specific heats do not depend on the current composition or pressure of the mixture; they depend only on the current temperature, since we are dealing with an ideal-gas mixture. The mixture values of specific heats do depend on the mixture composition. This will be discussed further in a subsequent tutorial.\n",
    "\n",
    "To spot-check these values, consider a few of the species that are tabulated in Appendix A of Turns 4th ed. (not necessarily major species):"
   ]
  },
  {
   "cell_type": "code",
   "execution_count": 41,
   "metadata": {},
   "outputs": [
    {
     "data": {
      "text/plain": [
       "56306.136456536566"
      ]
     },
     "execution_count": 41,
     "metadata": {},
     "output_type": "execute_result"
    }
   ],
   "source": [
    "# molar specific heat of CO2 at the current mixture temperature (see Table A.2 of Turns 4th ed.)\n",
    "gas1.partial_molar_cp[gas1.species_index('CO2')]"
   ]
  },
  {
   "cell_type": "code",
   "execution_count": 42,
   "metadata": {},
   "outputs": [
    {
     "data": {
      "text/plain": [
       "31000.04140482477"
      ]
     },
     "execution_count": 42,
     "metadata": {},
     "output_type": "execute_result"
    }
   ],
   "source": [
    "# molar specific heat of H2 at the current mixture temperature (see Table A.3 of Turns 4th ed.)\n",
    "gas1.partial_molar_cp[gas1.species_index('H2')]"
   ]
  },
  {
   "cell_type": "code",
   "execution_count": 43,
   "metadata": {},
   "outputs": [
    {
     "data": {
      "text/plain": [
       "31641.07240120862"
      ]
     },
     "execution_count": 43,
     "metadata": {},
     "output_type": "execute_result"
    }
   ],
   "source": [
    "# molar specific heat of OH at the current mixture temperature (see Table A.5 of Turns 4th ed.)\n",
    "gas1.partial_molar_cp[gas1.species_index('OH')]"
   ]
  },
  {
   "cell_type": "markdown",
   "metadata": {},
   "source": [
    "Comparing these values with those given in Appendix A of Turns 4th ed. at 1200 K (recall that the values there are in kJ/kmol-K, and the values here are in J/kmol-K), it can be seen that there are small differences. These can be attributed to small differences between the thermodynamic properties assumed in gri30.cti and those assumed in Appendix A of Turns 4th ed.\n",
    "\n",
    "Now, define a five-species \"slice\" of the 53 species in gas1:"
   ]
  },
  {
   "cell_type": "code",
   "execution_count": 44,
   "metadata": {},
   "outputs": [],
   "source": [
    "# define an object that contains five major species in methane-air combustion\n",
    "major = gas1['CH4','O2','CO2','H2O','N2']"
   ]
  },
  {
   "cell_type": "markdown",
   "metadata": {},
   "source": [
    "Then we can apply any valid attribute of \"gas1\" to \"major\":"
   ]
  },
  {
   "cell_type": "code",
   "execution_count": 45,
   "metadata": {},
   "outputs": [
    {
     "data": {
      "text/plain": [
       "['DP',\n",
       " 'DPX',\n",
       " 'DPY',\n",
       " 'HP',\n",
       " 'HPX',\n",
       " 'HPY',\n",
       " 'ID',\n",
       " 'P',\n",
       " 'P_sat',\n",
       " 'SP',\n",
       " 'SPX',\n",
       " 'SPY',\n",
       " 'SV',\n",
       " 'SVX',\n",
       " 'SVY',\n",
       " 'T',\n",
       " 'TD',\n",
       " 'TDX',\n",
       " 'TDY',\n",
       " 'TP',\n",
       " 'TPX',\n",
       " 'TPY',\n",
       " 'T_sat',\n",
       " 'UV',\n",
       " 'UVX',\n",
       " 'UVY',\n",
       " 'X',\n",
       " 'Y',\n",
       " '__call__',\n",
       " '__class__',\n",
       " '__copy__',\n",
       " '__delattr__',\n",
       " '__dir__',\n",
       " '__doc__',\n",
       " '__eq__',\n",
       " '__format__',\n",
       " '__ge__',\n",
       " '__getattribute__',\n",
       " '__getitem__',\n",
       " '__gt__',\n",
       " '__hash__',\n",
       " '__init__',\n",
       " '__init_subclass__',\n",
       " '__le__',\n",
       " '__lt__',\n",
       " '__module__',\n",
       " '__ne__',\n",
       " '__new__',\n",
       " '__pyx_vtable__',\n",
       " '__reduce__',\n",
       " '__reduce_ex__',\n",
       " '__repr__',\n",
       " '__setattr__',\n",
       " '__sizeof__',\n",
       " '__slots__',\n",
       " '__str__',\n",
       " '__subclasshook__',\n",
       " '_check_kinetics_species_index',\n",
       " '_check_phase_index',\n",
       " '_check_reaction_index',\n",
       " '_full_states',\n",
       " '_init_cti_xml',\n",
       " '_init_parts',\n",
       " '_references',\n",
       " 'activities',\n",
       " 'activity_coefficients',\n",
       " 'add_reaction',\n",
       " 'add_species',\n",
       " 'atomic_weight',\n",
       " 'atomic_weights',\n",
       " 'basis',\n",
       " 'binary_diff_coeffs',\n",
       " 'chemical_potentials',\n",
       " 'concentrations',\n",
       " 'cp',\n",
       " 'cp_mass',\n",
       " 'cp_mole',\n",
       " 'creation_rates',\n",
       " 'critical_density',\n",
       " 'critical_pressure',\n",
       " 'critical_temperature',\n",
       " 'cv',\n",
       " 'cv_mass',\n",
       " 'cv_mole',\n",
       " 'delta_enthalpy',\n",
       " 'delta_entropy',\n",
       " 'delta_gibbs',\n",
       " 'delta_standard_enthalpy',\n",
       " 'delta_standard_entropy',\n",
       " 'delta_standard_gibbs',\n",
       " 'density',\n",
       " 'density_mass',\n",
       " 'density_mole',\n",
       " 'destruction_rates',\n",
       " 'electric_potential',\n",
       " 'electrical_conductivity',\n",
       " 'electrochemical_potentials',\n",
       " 'element_index',\n",
       " 'element_name',\n",
       " 'element_names',\n",
       " 'element_potentials',\n",
       " 'elemental_mass_fraction',\n",
       " 'elemental_mole_fraction',\n",
       " 'enthalpy_mass',\n",
       " 'enthalpy_mole',\n",
       " 'entropy_mass',\n",
       " 'entropy_mole',\n",
       " 'equilibrate',\n",
       " 'equilibrium_constants',\n",
       " 'forward_rate_constants',\n",
       " 'forward_rates_of_progress',\n",
       " 'g',\n",
       " 'get_equivalence_ratio',\n",
       " 'gibbs_mass',\n",
       " 'gibbs_mole',\n",
       " 'h',\n",
       " 'int_energy_mass',\n",
       " 'int_energy_mole',\n",
       " 'is_reversible',\n",
       " 'isothermal_compressibility',\n",
       " 'kinetics_species_index',\n",
       " 'mass_fraction_dict',\n",
       " 'max_temp',\n",
       " 'mean_molecular_weight',\n",
       " 'min_temp',\n",
       " 'mix_diff_coeffs',\n",
       " 'mix_diff_coeffs_mass',\n",
       " 'mix_diff_coeffs_mole',\n",
       " 'modify_reaction',\n",
       " 'modify_species',\n",
       " 'mole_fraction_dict',\n",
       " 'molecular_weights',\n",
       " 'multi_diff_coeffs',\n",
       " 'multiplier',\n",
       " 'n_atoms',\n",
       " 'n_elements',\n",
       " 'n_phases',\n",
       " 'n_reactions',\n",
       " 'n_selected_species',\n",
       " 'n_species',\n",
       " 'n_total_species',\n",
       " 'name',\n",
       " 'net_production_rates',\n",
       " 'net_rates_of_progress',\n",
       " 'partial_molar_cp',\n",
       " 'partial_molar_enthalpies',\n",
       " 'partial_molar_entropies',\n",
       " 'partial_molar_int_energies',\n",
       " 'partial_molar_volumes',\n",
       " 'product_stoich_coeff',\n",
       " 'product_stoich_coeffs',\n",
       " 'products',\n",
       " 'reactant_stoich_coeff',\n",
       " 'reactant_stoich_coeffs',\n",
       " 'reactants',\n",
       " 'reaction',\n",
       " 'reaction_equation',\n",
       " 'reaction_equations',\n",
       " 'reaction_phase_index',\n",
       " 'reaction_type',\n",
       " 'reactions',\n",
       " 'reference_pressure',\n",
       " 'report',\n",
       " 'reverse_rate_constants',\n",
       " 'reverse_rates_of_progress',\n",
       " 's',\n",
       " 'selected_species',\n",
       " 'set_equivalence_ratio',\n",
       " 'set_multiplier',\n",
       " 'set_unnormalized_mass_fractions',\n",
       " 'set_unnormalized_mole_fractions',\n",
       " 'species',\n",
       " 'species_index',\n",
       " 'species_name',\n",
       " 'species_names',\n",
       " 'species_viscosities',\n",
       " 'standard_cp_R',\n",
       " 'standard_enthalpies_RT',\n",
       " 'standard_entropies_R',\n",
       " 'standard_gibbs_RT',\n",
       " 'standard_int_energies_RT',\n",
       " 'state',\n",
       " 'thermal_conductivity',\n",
       " 'thermal_diff_coeffs',\n",
       " 'thermal_expansion_coeff',\n",
       " 'transport_model',\n",
       " 'u',\n",
       " 'v',\n",
       " 'viscosity',\n",
       " 'volume_mass',\n",
       " 'volume_mole']"
      ]
     },
     "execution_count": 45,
     "metadata": {},
     "output_type": "execute_result"
    }
   ],
   "source": [
    "# show all available attributes of \"major\"\n",
    "dir(major)"
   ]
  },
  {
   "cell_type": "markdown",
   "metadata": {},
   "source": [
    "This confirms that \"major\" has the same attributes as \"gas1\". \n",
    "\n",
    "For example, we can use the attribute `partial_molar_cp` to access the partial molar specific heats of only the five major species at the current mixture temperature:"
   ]
  },
  {
   "cell_type": "code",
   "execution_count": 46,
   "metadata": {},
   "outputs": [
    {
     "data": {
      "text/plain": [
       "array([81404.92647407, 35650.72899071, 56306.13645654, 43877.23999831,\n",
       "       33707.49274776])"
      ]
     },
     "execution_count": 46,
     "metadata": {},
     "output_type": "execute_result"
    }
   ],
   "source": [
    "# collect the molar specific heats of the 5 major species into an array named \"cp_major\"\n",
    "cp_major = major.partial_molar_cp\n",
    "\n",
    "# print the molar specific heats of the 5 major species only, at the current temperature\n",
    "cp_major"
   ]
  },
  {
   "cell_type": "markdown",
   "metadata": {},
   "source": [
    "Another option is to define a new gas mixture that contains only a subset of the species that are available in gri30.cti. For example:"
   ]
  },
  {
   "cell_type": "code",
   "execution_count": 47,
   "metadata": {},
   "outputs": [
    {
     "name": "stdout",
     "output_type": "stream",
     "text": [
      "\n",
      "       temperature             600  K\n",
      "          pressure          101325  Pa\n",
      "           density        0.219869  kg/m^3\n",
      "  mean mol. weight         10.8251  amu\n",
      "\n",
      "                          1 kg            1 kmol\n",
      "                       -----------      ------------\n",
      "          enthalpy     -1.9751e+06       -2.138e+07     J\n",
      "   internal energy     -2.4359e+06       -2.637e+07     J\n",
      "           entropy           17588        1.904e+05     J/K\n",
      "    Gibbs function     -1.2528e+07       -1.356e+08     J\n",
      " heat capacity c_p          2981.2        3.227e+04     J/K\n",
      " heat capacity c_v          2213.2        2.396e+04     J/K\n",
      "\n",
      "                           X                 Y          Chem. Pot. / RT\n",
      "                     -------------     ------------     ------------\n",
      "               CH4      0.0749741         0.111111         -40.9056\n",
      "                O2      0.0375886         0.111111         -28.6642\n",
      "                N2      0.0429362         0.111111          -26.873\n",
      "               CO2      0.0273301         0.111111         -109.151\n",
      "               H2O      0.0667651         0.111111         -74.6998\n",
      "                CO      0.0429409         0.111111           -49.77\n",
      "                H2       0.596658         0.111111          -16.922\n",
      "                OH      0.0707219         0.111111         -17.5602\n",
      "                NO      0.0400848         0.111111         -10.9776\n",
      "\n"
     ]
    }
   ],
   "source": [
    "# gas2 is a mixture of nine species\n",
    "species = {S.name: S for S in ct.Species.listFromFile('gri30.cti')}  # collect the names of the 53 species in gri30.cti\n",
    "nine_species = [species[S] for S in ('CH4','O2','N2','CO2','H2O','CO','H2','OH','NO')] # define a subset of 9 species\n",
    "gas2 = ct.Solution(thermo='IdealGas',species=nine_species)  # define an object that is a mixture of the 9 species\n",
    "\n",
    "# specify the mixture temperature, pressure and composition\n",
    "gas2.TPY = 600., ct.one_atm, np.ones(gas2.n_species)\n",
    "\n",
    "# print the state of gas2\n",
    "gas2()"
   ]
  },
  {
   "cell_type": "markdown",
   "metadata": {},
   "source": [
    "Again, \"gas2\" has all of the same attributes as \"gas1\":"
   ]
  },
  {
   "cell_type": "code",
   "execution_count": 48,
   "metadata": {},
   "outputs": [
    {
     "data": {
      "text/plain": [
       "['DP',\n",
       " 'DPX',\n",
       " 'DPY',\n",
       " 'HP',\n",
       " 'HPX',\n",
       " 'HPY',\n",
       " 'ID',\n",
       " 'P',\n",
       " 'P_sat',\n",
       " 'SP',\n",
       " 'SPX',\n",
       " 'SPY',\n",
       " 'SV',\n",
       " 'SVX',\n",
       " 'SVY',\n",
       " 'T',\n",
       " 'TD',\n",
       " 'TDX',\n",
       " 'TDY',\n",
       " 'TP',\n",
       " 'TPX',\n",
       " 'TPY',\n",
       " 'T_sat',\n",
       " 'UV',\n",
       " 'UVX',\n",
       " 'UVY',\n",
       " 'X',\n",
       " 'Y',\n",
       " '__call__',\n",
       " '__class__',\n",
       " '__copy__',\n",
       " '__delattr__',\n",
       " '__dir__',\n",
       " '__doc__',\n",
       " '__eq__',\n",
       " '__format__',\n",
       " '__ge__',\n",
       " '__getattribute__',\n",
       " '__getitem__',\n",
       " '__gt__',\n",
       " '__hash__',\n",
       " '__init__',\n",
       " '__init_subclass__',\n",
       " '__le__',\n",
       " '__lt__',\n",
       " '__module__',\n",
       " '__ne__',\n",
       " '__new__',\n",
       " '__pyx_vtable__',\n",
       " '__reduce__',\n",
       " '__reduce_ex__',\n",
       " '__repr__',\n",
       " '__setattr__',\n",
       " '__sizeof__',\n",
       " '__slots__',\n",
       " '__str__',\n",
       " '__subclasshook__',\n",
       " '_check_kinetics_species_index',\n",
       " '_check_phase_index',\n",
       " '_check_reaction_index',\n",
       " '_full_states',\n",
       " '_init_cti_xml',\n",
       " '_init_parts',\n",
       " '_references',\n",
       " 'activities',\n",
       " 'activity_coefficients',\n",
       " 'add_reaction',\n",
       " 'add_species',\n",
       " 'atomic_weight',\n",
       " 'atomic_weights',\n",
       " 'basis',\n",
       " 'binary_diff_coeffs',\n",
       " 'chemical_potentials',\n",
       " 'concentrations',\n",
       " 'cp',\n",
       " 'cp_mass',\n",
       " 'cp_mole',\n",
       " 'creation_rates',\n",
       " 'critical_density',\n",
       " 'critical_pressure',\n",
       " 'critical_temperature',\n",
       " 'cv',\n",
       " 'cv_mass',\n",
       " 'cv_mole',\n",
       " 'delta_enthalpy',\n",
       " 'delta_entropy',\n",
       " 'delta_gibbs',\n",
       " 'delta_standard_enthalpy',\n",
       " 'delta_standard_entropy',\n",
       " 'delta_standard_gibbs',\n",
       " 'density',\n",
       " 'density_mass',\n",
       " 'density_mole',\n",
       " 'destruction_rates',\n",
       " 'electric_potential',\n",
       " 'electrical_conductivity',\n",
       " 'electrochemical_potentials',\n",
       " 'element_index',\n",
       " 'element_name',\n",
       " 'element_names',\n",
       " 'element_potentials',\n",
       " 'elemental_mass_fraction',\n",
       " 'elemental_mole_fraction',\n",
       " 'enthalpy_mass',\n",
       " 'enthalpy_mole',\n",
       " 'entropy_mass',\n",
       " 'entropy_mole',\n",
       " 'equilibrate',\n",
       " 'equilibrium_constants',\n",
       " 'forward_rate_constants',\n",
       " 'forward_rates_of_progress',\n",
       " 'g',\n",
       " 'get_equivalence_ratio',\n",
       " 'gibbs_mass',\n",
       " 'gibbs_mole',\n",
       " 'h',\n",
       " 'int_energy_mass',\n",
       " 'int_energy_mole',\n",
       " 'is_reversible',\n",
       " 'isothermal_compressibility',\n",
       " 'kinetics_species_index',\n",
       " 'mass_fraction_dict',\n",
       " 'max_temp',\n",
       " 'mean_molecular_weight',\n",
       " 'min_temp',\n",
       " 'mix_diff_coeffs',\n",
       " 'mix_diff_coeffs_mass',\n",
       " 'mix_diff_coeffs_mole',\n",
       " 'modify_reaction',\n",
       " 'modify_species',\n",
       " 'mole_fraction_dict',\n",
       " 'molecular_weights',\n",
       " 'multi_diff_coeffs',\n",
       " 'multiplier',\n",
       " 'n_atoms',\n",
       " 'n_elements',\n",
       " 'n_phases',\n",
       " 'n_reactions',\n",
       " 'n_selected_species',\n",
       " 'n_species',\n",
       " 'n_total_species',\n",
       " 'name',\n",
       " 'net_production_rates',\n",
       " 'net_rates_of_progress',\n",
       " 'partial_molar_cp',\n",
       " 'partial_molar_enthalpies',\n",
       " 'partial_molar_entropies',\n",
       " 'partial_molar_int_energies',\n",
       " 'partial_molar_volumes',\n",
       " 'product_stoich_coeff',\n",
       " 'product_stoich_coeffs',\n",
       " 'products',\n",
       " 'reactant_stoich_coeff',\n",
       " 'reactant_stoich_coeffs',\n",
       " 'reactants',\n",
       " 'reaction',\n",
       " 'reaction_equation',\n",
       " 'reaction_equations',\n",
       " 'reaction_phase_index',\n",
       " 'reaction_type',\n",
       " 'reactions',\n",
       " 'reference_pressure',\n",
       " 'report',\n",
       " 'reverse_rate_constants',\n",
       " 'reverse_rates_of_progress',\n",
       " 's',\n",
       " 'selected_species',\n",
       " 'set_equivalence_ratio',\n",
       " 'set_multiplier',\n",
       " 'set_unnormalized_mass_fractions',\n",
       " 'set_unnormalized_mole_fractions',\n",
       " 'species',\n",
       " 'species_index',\n",
       " 'species_name',\n",
       " 'species_names',\n",
       " 'species_viscosities',\n",
       " 'standard_cp_R',\n",
       " 'standard_enthalpies_RT',\n",
       " 'standard_entropies_R',\n",
       " 'standard_gibbs_RT',\n",
       " 'standard_int_energies_RT',\n",
       " 'state',\n",
       " 'thermal_conductivity',\n",
       " 'thermal_diff_coeffs',\n",
       " 'thermal_expansion_coeff',\n",
       " 'transport_model',\n",
       " 'u',\n",
       " 'v',\n",
       " 'viscosity',\n",
       " 'volume_mass',\n",
       " 'volume_mole']"
      ]
     },
     "execution_count": 48,
     "metadata": {},
     "output_type": "execute_result"
    }
   ],
   "source": [
    "# show all available attributes of gas2\n",
    "dir(gas2)"
   ]
  },
  {
   "cell_type": "markdown",
   "metadata": {},
   "source": [
    "The \"gas2\" object can now be maniputed in the same way as \"gas1\" and \"major\" earlier.\n",
    "\n",
    "The utility of working with subsets of species will become more apparent as we progress through Turns 4th ed. and the tutorial Notebooks."
   ]
  },
  {
   "cell_type": "markdown",
   "metadata": {},
   "source": [
    "## 3. Defining arrays and generating basic x-y plots"
   ]
  },
  {
   "cell_type": "markdown",
   "metadata": {},
   "source": [
    "In the examples that follow in this section, we will compute and plot the constant-pressure specific heats of individual species (on a molar basis) as functions of temperature. These examples show how to do some basic operations with arrays and loops, in addition to introducing some basic Matplotlib functions."
   ]
  },
  {
   "cell_type": "markdown",
   "metadata": {},
   "source": [
    "### 3.1 Defining, initializing, and filling arrays"
   ]
  },
  {
   "cell_type": "markdown",
   "metadata": {},
   "source": [
    "Species thermodynamic property data in gri30.cti are specified in the form of polynomial functions of temperature; see Table A.13 of Turns 4th ed., for example. These polynomials are intended to be used over a limited temperature range. Attributes `min_temp` and `max_temp` access the minimum and maximum temperatures, respectively. Cantera will not stop you from using the data at lower/higher temperatures, but the results may not be reliable, as will be shown below."
   ]
  },
  {
   "cell_type": "code",
   "execution_count": 49,
   "metadata": {},
   "outputs": [
    {
     "data": {
      "text/plain": [
       "(300.0, 3000.0)"
      ]
     },
     "execution_count": 49,
     "metadata": {},
     "output_type": "execute_result"
    }
   ],
   "source": [
    "# the minimum/maximum temperatures over which gas1 (gri30.cti) thermodynamic data are intended to be used\n",
    "#   are accessed as follows\n",
    "# recall that temperatures are in K\n",
    "tmin = gas1.min_temp\n",
    "tmax = gas1.max_temp\n",
    "\n",
    "# print the minimum and maximum temperatures\n",
    "tmin, tmax"
   ]
  },
  {
   "cell_type": "markdown",
   "metadata": {},
   "source": [
    "The minimum and maximum temperatures for which the data in gri30.cti are intended to be used are 300 K and 3000 K, respectively.\n",
    "\n",
    "For subsequent plotting purposes, we will compute the specific heats at uniform temperature intervals of delt (= 100 K here). We define three arrays named \"temp\", \"cpCO2\", and \"cpH2O\" to hold the values of temperature and the specific heats of CO2 and H2O for the temperature range from tmin to tmax in uniform increments of delt Kelvin. We do this in several different ways, for illustrative purposes."
   ]
  },
  {
   "cell_type": "code",
   "execution_count": 50,
   "metadata": {},
   "outputs": [
    {
     "data": {
      "text/plain": [
       "(100.0, 28)"
      ]
     },
     "execution_count": 50,
     "metadata": {},
     "output_type": "execute_result"
    }
   ],
   "source": [
    "# delt is the uniform temperature increment at which species specific heats will be computed\n",
    "# nt is then the number of temperature values at which the specific heats will be computed\n",
    "# note that nt is an integer - that is important, as nt is used below to dimension arrays\n",
    "delt = 100.                               # use a uniform temperature interval of 100 K\n",
    "nt   = int( ( tmax - tmin ) / delt + 1 )  # nt is an integer\n",
    "\n",
    "# define arrays to hold the nt values of temperature and of the specific heats for CO2 and H2O,\n",
    "#   and initialize all array elements to zeros\n",
    "# array dimensions must be integers\n",
    "# note that the nt array elements are indexed from 0 to nt-1 (not from 1 to nt)\n",
    "temp  = np.zeros(nt)\n",
    "cpCO2 = np.zeros(nt)\n",
    "cpH2O = np.zeros(nt)\n",
    "\n",
    "# print the temperature increment and the number of temperature values for computing and plotting species specific heats\n",
    "delt, nt"
   ]
  },
  {
   "cell_type": "markdown",
   "metadata": {},
   "source": [
    "You can also define an array and set all array elements to a value of unity using `ones()` (as we did in Section 2.4 above) or set them to random values (uniformly distributed on the interval zero to one) using `random.rand()`, for example."
   ]
  },
  {
   "cell_type": "markdown",
   "metadata": {},
   "source": [
    "Note that the value of an integer variable (such as nt) is printed without a decimal point.\n",
    "\n",
    "For most purposes, it is not important to distinguish between integers and floating-point numbers (real numbers are represented on computers as [floating-point numbers](https://www.floating-point-gui.de/formats/fp/)). One situation where is does matter is in working with array dimensions and array indices: those must be integers."
   ]
  },
  {
   "cell_type": "markdown",
   "metadata": {},
   "source": [
    "Let's see what happens if we try to dimension an array using a floating-point number instead of an integer:"
   ]
  },
  {
   "cell_type": "code",
   "execution_count": 51,
   "metadata": {},
   "outputs": [
    {
     "ename": "TypeError",
     "evalue": "'float' object cannot be interpreted as an integer",
     "output_type": "error",
     "traceback": [
      "\u001b[1;31m---------------------------------------------------------------------------\u001b[0m",
      "\u001b[1;31mTypeError\u001b[0m                                 Traceback (most recent call last)",
      "\u001b[1;32m<ipython-input-51-b87b56685f76>\u001b[0m in \u001b[0;36m<module>\u001b[1;34m\u001b[0m\n\u001b[0;32m      1\u001b[0m \u001b[0mntr\u001b[0m    \u001b[1;33m=\u001b[0m \u001b[1;36m28.\u001b[0m \u001b[1;31m# ntr is interpreted as being a floating-point number, because of the decimal point\u001b[0m\u001b[1;33m\u001b[0m\u001b[1;33m\u001b[0m\u001b[0m\n\u001b[1;32m----> 2\u001b[1;33m \u001b[0mtempr\u001b[0m  \u001b[1;33m=\u001b[0m \u001b[0mnp\u001b[0m\u001b[1;33m.\u001b[0m\u001b[0mzeros\u001b[0m\u001b[1;33m(\u001b[0m\u001b[0mntr\u001b[0m\u001b[1;33m)\u001b[0m\u001b[1;33m\u001b[0m\u001b[1;33m\u001b[0m\u001b[0m\n\u001b[0m",
      "\u001b[1;31mTypeError\u001b[0m: 'float' object cannot be interpreted as an integer"
     ]
    }
   ],
   "source": [
    "ntr    = 28. # ntr is interpreted as being a floating-point number, because of the decimal point\n",
    "tempr  = np.zeros(ntr)"
   ]
  },
  {
   "cell_type": "markdown",
   "metadata": {},
   "source": [
    "Alternative (and equivalent) methods for creating the arrays are as follows. There are many other options:"
   ]
  },
  {
   "cell_type": "code",
   "execution_count": 52,
   "metadata": {},
   "outputs": [],
   "source": [
    "# explicitly specify values for the desired number of array elements (here 28)\n",
    "temp_2 = (0.0, 0.0, 0.0, 0.0, 0.0, 0.0, 0.0,\n",
    "          0.0, 0.0, 0.0, 0.0, 0.0, 0.0, 0.0,\n",
    "          0.0, 0.0, 0.0, 0.0, 0.0, 0.0, 0.0,\n",
    "          0.0, 0.0, 0.0, 0.0, 0.0, 0.0, 0.0)\n",
    "\n",
    "# set the dimension of an array using the dimension of an earlier defined array\n",
    "cpCO2_2 = np.zeros(len(temp_2))"
   ]
  },
  {
   "cell_type": "markdown",
   "metadata": {},
   "source": [
    "With the arrays defined, we next fill the temperature array with the desired temperature values. This can be done in a number of ways. Two options using loops are shown here, to introduce constructs that will be useful in subsequent tutorials. There are other ways to do this that do not require loops, examples of which are shown below."
   ]
  },
  {
   "cell_type": "code",
   "execution_count": 53,
   "metadata": {},
   "outputs": [
    {
     "name": "stdout",
     "output_type": "stream",
     "text": [
      "    0      300.000000 \n",
      "    1      400.000000 \n",
      "    2      500.000000 \n",
      "    3      600.000000 \n",
      "    4      700.000000 \n",
      "    5      800.000000 \n",
      "    6      900.000000 \n",
      "    7     1000.000000 \n",
      "    8     1100.000000 \n",
      "    9     1200.000000 \n",
      "   10     1300.000000 \n",
      "   11     1400.000000 \n",
      "   12     1500.000000 \n",
      "   13     1600.000000 \n",
      "   14     1700.000000 \n",
      "   15     1800.000000 \n",
      "   16     1900.000000 \n",
      "   17     2000.000000 \n",
      "   18     2100.000000 \n",
      "   19     2200.000000 \n",
      "   20     2300.000000 \n",
      "   21     2400.000000 \n",
      "   22     2500.000000 \n",
      "   23     2600.000000 \n",
      "   24     2700.000000 \n",
      "   25     2800.000000 \n",
      "   26     2900.000000 \n",
      "   27     3000.000000 \n"
     ]
    },
    {
     "data": {
      "text/plain": [
       "27"
      ]
     },
     "execution_count": 53,
     "metadata": {},
     "output_type": "execute_result"
    }
   ],
   "source": [
    "# option 1: use a \"for\" loop\n",
    "# \"for\" loops are useful in situations where a particular operation, or set of operations, is to be repeated multiple\n",
    "#   times for different values of one or more parameters\n",
    "# in the following \"for\" loop, the loop is executed nt times, one time for each of the nt values of the loop index i\n",
    "#   the value of i is equal to 0 on the first pass through the loop\n",
    "#   the value of i is incremented by 1 on each subsequent pass through the loop - that is done automatically\n",
    "#   the value of i is equal to nt-1 on the last pass through the loop, and on exiting the loop\n",
    "# indentation is used to indicate the lines that are included in the loop: that is, the lines that are executed\n",
    "#   on each pass through the loop (for each value of i)\n",
    "# note that i must be an integer, since it is used as a loop index and as an array index\n",
    "# note the use of square brackets to access a particular element of an array\n",
    "for i in range(nt):\n",
    "    temp[i] = tmin + i*delt                    # set the i'th value of the temperature in the temperature array\n",
    "    print(' {:4d} {:15f} '.format(i,temp[i]) ) # print values, to confirm - see Section 4 below for more on formatting\n",
    "    \n",
    "# the first unindented line indicates that the loop has ended\n",
    "# print the value of i on exiting the loop\n",
    "i"
   ]
  },
  {
   "cell_type": "code",
   "execution_count": 54,
   "metadata": {},
   "outputs": [
    {
     "name": "stdout",
     "output_type": "stream",
     "text": [
      "    0      300.000000 \n",
      "    1      400.000000 \n",
      "    2      500.000000 \n",
      "    3      600.000000 \n",
      "    4      700.000000 \n",
      "    5      800.000000 \n",
      "    6      900.000000 \n",
      "    7     1000.000000 \n",
      "    8     1100.000000 \n",
      "    9     1200.000000 \n",
      "   10     1300.000000 \n",
      "   11     1400.000000 \n",
      "   12     1500.000000 \n",
      "   13     1600.000000 \n",
      "   14     1700.000000 \n",
      "   15     1800.000000 \n",
      "   16     1900.000000 \n",
      "   17     2000.000000 \n",
      "   18     2100.000000 \n",
      "   19     2200.000000 \n",
      "   20     2300.000000 \n",
      "   21     2400.000000 \n",
      "   22     2500.000000 \n",
      "   23     2600.000000 \n",
      "   24     2700.000000 \n",
      "   25     2800.000000 \n",
      "   26     2900.000000 \n",
      "   27     3000.000000 \n"
     ]
    },
    {
     "data": {
      "text/plain": [
       "(28, 3100.0)"
      ]
     },
     "execution_count": 54,
     "metadata": {},
     "output_type": "execute_result"
    }
   ],
   "source": [
    "# option 2: use a \"while\" loop\n",
    "# \"while\" loops are useful in situations where a particular operation, or set of operations, is to be repeated multiple\n",
    "#   times for different values of one or more parameters, until a particular condition is satisfied\n",
    "# in the following \"while\" loop, the loop is executed until the value of the variable \"t\" exceeds the value tmax\n",
    "# the value of i is incremented by 1 on each subsequent pass through the loop - that is done manually,\n",
    "#   since \"i\" is not an explicit loop index (in contrast to the \"for\" loop above)\n",
    "# indentation is used to indicate the lines that are included in the loop: that is, the lines that are executed on each pass \n",
    "# note that i must be an integer, since it is used as a loop index and as an array index\n",
    "\n",
    "# initialize the values of i and t\n",
    "i = 0     # i is interpreted is being an integer, since a decimal point is not used\n",
    "t = tmin\n",
    "# continue looping until the value of t exceeds tmax (the maximum temperature)\n",
    "while t<=tmax:\n",
    "    temp[i] = t                                # set the i'th value of the temperature in the temperature array\n",
    "    print(' {:4d} {:15f} '.format(i,temp[i]) ) # print values, to confirm\n",
    "# the += operator adds the value on the right-hand side to the current value of the variable on the left-hand side\n",
    "    i += 1                                     # increment the value of i by one for the next pass through the loop\n",
    "    t = t + delt                               # increment the temperature by the specified amount for the next pass\n",
    "                                               # alternatively, we could write t += delt\n",
    "    \n",
    "# the first unindented line indicates that the loop has ended\n",
    "# print the values of i and t on exiting the loop\n",
    "i, t"
   ]
  },
  {
   "cell_type": "markdown",
   "metadata": {},
   "source": [
    "The values of the array index and the temperature exceed their maximum allowable values on exiting the loop, but that doesn't matter, since these final values are not used. The resulting temperature array from the \"while\" loop is identical to that from the earlier \"for\" loop."
   ]
  },
  {
   "cell_type": "markdown",
   "metadata": {},
   "source": [
    "Next, we fill the specific heat arrays. Again, this can be done in a number of ways. Here we use a \"for\" loop."
   ]
  },
  {
   "cell_type": "code",
   "execution_count": 55,
   "metadata": {},
   "outputs": [
    {
     "name": "stdout",
     "output_type": "stream",
     "text": [
      "    0      300.000000    37217.744659    33596.449351 \n",
      "    1      400.000000    41277.576648    34267.754388 \n",
      "    2      500.000000    44620.382231    35214.044659 \n",
      "    3      600.000000    47355.938800    36320.659912 \n",
      "    4      700.000000    49591.156264    37508.299202 \n",
      "    5      800.000000    51430.077049    38733.020896 \n",
      "    6      900.000000    52973.876097    39986.242666 \n",
      "    7     1000.000000    54320.860871    41294.741495 \n",
      "    8     1100.000000    55382.550445    42616.091524 \n",
      "    9     1200.000000    56306.136457    43877.239998 \n",
      "   10     1300.000000    57106.900874    45077.205703 \n",
      "   11     1400.000000    57799.183556    46215.343028 \n",
      "   12     1500.000000    58396.382330    47291.342005 \n",
      "   13     1600.000000    58910.952994    48305.228306 \n",
      "   14     1700.000000    59354.409316    49257.363241 \n",
      "   15     1800.000000    59737.323032    50148.443762 \n",
      "   16     1900.000000    60069.323852    50979.502461 \n",
      "   17     2000.000000    60359.099451    51751.907569 \n",
      "   18     2100.000000    60614.395476    52467.362959 \n",
      "   19     2200.000000    60842.015544    53127.908144 \n",
      "   20     2300.000000    61047.821241    53735.918274 \n",
      "   21     2400.000000    61236.732123    54294.104144 \n",
      "   22     2500.000000    61412.725717    54805.512185 \n",
      "   23     2600.000000    61578.837518    55273.524472 \n",
      "   24     2700.000000    61737.160991    55701.858716 \n",
      "   25     2800.000000    61888.847572    56094.568272 \n",
      "   26     2900.000000    62034.106667    56456.042133 \n",
      "   27     3000.000000    62172.205649    56791.004933 \n"
     ]
    }
   ],
   "source": [
    "# fill the specific heat arrays\n",
    "# recall that the specific heat for each species is a function only of temperature - there is no need to worry about\n",
    "#   the other property settings for gas1\n",
    "# in the case of H2O, the specific heat is that of water vapor - gri30.cti does not include liquid-phase information\n",
    "# moreover, H2O vapor is considered to be an ideal gas here\n",
    "\n",
    "for i in range(nt):\n",
    "    gas1.TP  = temp[i], None                                    # reset the temperature of gas1\n",
    "    cpCO2[i] = gas1.partial_molar_cp[gas1.species_index('CO2')] # store specific heat of CO2 at the current temperature\n",
    "    cpH2O[i] = gas1.partial_molar_cp[gas1.species_index('H2O')] # store specific heat of H2O at the current temperature\n",
    "    print(' {:4d} {:15f} {:15f} {:15f} '.format(i,temp[i],cpCO2[i],cpH2O[i]) ) # print specific heats versus temperature"
   ]
  },
  {
   "cell_type": "markdown",
   "metadata": {},
   "source": [
    "These values can be compared to those in Tables A.2 (for CO2) and A.6 (for H2O) of Turns 4th ed., again taking into account the difference between the units used here (J/kmol-K) versus there (kJ/kmol-K).\n",
    "\n",
    "Temperatures below 300 K or above 3000 K are rarely of interest, for our purposes. Also, as noted earlier, the polynomials that are used to fit the variation of specific heat with temperature (see Table A.13 of Turns 4th ed., for example) are valid over a limited range, and that range may vary depending on the source from which they are taken.\n",
    "\n",
    "A more streamlined approach for defining and filling the arrays that makes better use of NumPy follows. This is the approach that we will use in most subsequent tutorial Notebooks. NumPy's `arange()` function defines an array, and fills it with uniformly spaced values between a given minimum value and a given maximum value. The `linspace()` function performs a similar function, but instead of specifying the increment between adjacent array element values, one specifies the number of array elements desired."
   ]
  },
  {
   "cell_type": "code",
   "execution_count": 56,
   "metadata": {},
   "outputs": [
    {
     "data": {
      "text/plain": [
       "(300.0,\n",
       " 3001.0,\n",
       " 28,\n",
       " array([ 300.,  400.,  500.,  600.,  700.,  800.,  900., 1000., 1100.,\n",
       "        1200., 1300., 1400., 1500., 1600., 1700., 1800., 1900., 2000.,\n",
       "        2100., 2200., 2300., 2400., 2500., 2600., 2700., 2800., 2900.,\n",
       "        3000.]))"
      ]
     },
     "execution_count": 56,
     "metadata": {},
     "output_type": "execute_result"
    }
   ],
   "source": [
    "# an example showing how to define and fill an array using \"arange\"\n",
    "tmin  = gas1.min_temp\n",
    "tmax  = gas1.max_temp + 1. # because of internal rounding, the desired value at 3000 K would be omitted without the + 1.\n",
    "tinc  = 100.               # specify the desired uniform temperature interval\n",
    "temp3 = np.arange(tmin,tmax,tinc) # this defines the array and initializes the values of all array elements\n",
    "\n",
    "# print the minimim temperature, the maximum temperature, the number of array elements, and the temperature array values\n",
    "tmin, tmax, len(temp3), temp3"
   ]
  },
  {
   "cell_type": "code",
   "execution_count": 57,
   "metadata": {},
   "outputs": [
    {
     "data": {
      "text/plain": [
       "(300.0,\n",
       " 3000.0,\n",
       " 28,\n",
       " array([ 300.,  400.,  500.,  600.,  700.,  800.,  900., 1000., 1100.,\n",
       "        1200., 1300., 1400., 1500., 1600., 1700., 1800., 1900., 2000.,\n",
       "        2100., 2200., 2300., 2400., 2500., 2600., 2700., 2800., 2900.,\n",
       "        3000.]))"
      ]
     },
     "execution_count": 57,
     "metadata": {},
     "output_type": "execute_result"
    }
   ],
   "source": [
    "# an example showing how to define and fill an array using \"linspace\"\n",
    "tmin  = gas1.min_temp\n",
    "tmax  = gas1.max_temp\n",
    "nt4   = 28                 # specify the desired number of uniform temperature intervals\n",
    "temp4 = np.linspace(tmin,tmax,nt4)\n",
    "\n",
    "# print the minimim temperature, the maximum temperature, the number of array elements, and the temperature array values\n",
    "tmin, tmax, nt4, temp4"
   ]
  },
  {
   "cell_type": "markdown",
   "metadata": {},
   "source": [
    "The arrays \"temp3\" and \"temp4\" are identical to one another, and both are identical to the earlier array named \"temp\".\n",
    "\n",
    "We next compute, print, and store in an array the species specific heats as functions of temperature using an alternative version of a \"for\" loop."
   ]
  },
  {
   "cell_type": "code",
   "execution_count": 58,
   "metadata": {},
   "outputs": [
    {
     "name": "stdout",
     "output_type": "stream",
     "text": [
      "    0      300.000000    37217.744659    33596.449351 \n",
      "    1      400.000000    41277.576648    34267.754388 \n",
      "    2      500.000000    44620.382231    35214.044659 \n",
      "    3      600.000000    47355.938800    36320.659912 \n",
      "    4      700.000000    49591.156264    37508.299202 \n",
      "    5      800.000000    51430.077049    38733.020896 \n",
      "    6      900.000000    52973.876097    39986.242666 \n",
      "    7     1000.000000    54320.860871    41294.741495 \n",
      "    8     1100.000000    55382.550445    42616.091524 \n",
      "    9     1200.000000    56306.136457    43877.239998 \n",
      "   10     1300.000000    57106.900874    45077.205703 \n",
      "   11     1400.000000    57799.183556    46215.343028 \n",
      "   12     1500.000000    58396.382330    47291.342005 \n",
      "   13     1600.000000    58910.952994    48305.228306 \n",
      "   14     1700.000000    59354.409316    49257.363241 \n",
      "   15     1800.000000    59737.323032    50148.443762 \n",
      "   16     1900.000000    60069.323852    50979.502461 \n",
      "   17     2000.000000    60359.099451    51751.907569 \n",
      "   18     2100.000000    60614.395476    52467.362959 \n",
      "   19     2200.000000    60842.015544    53127.908144 \n",
      "   20     2300.000000    61047.821241    53735.918274 \n",
      "   21     2400.000000    61236.732123    54294.104144 \n",
      "   22     2500.000000    61412.725717    54805.512185 \n",
      "   23     2600.000000    61578.837518    55273.524472 \n",
      "   24     2700.000000    61737.160991    55701.858716 \n",
      "   25     2800.000000    61888.847572    56094.568272 \n",
      "   26     2900.000000    62034.106667    56456.042133 \n",
      "   27     3000.000000    62172.205649    56791.004933 \n"
     ]
    }
   ],
   "source": [
    "# define arrays to hold temperature-dependent species specific heats\n",
    "cpCO2_4 = np.zeros(nt4)\n",
    "cpH2O_4 = np.zeros(nt4)\n",
    "\n",
    "# in each pass through the following \"for\" loop, the value of i is incremented by one, and the value of \"T\" \n",
    "#   is taken as the next value in the \"temp4\" array\n",
    "for i, T in enumerate(temp4):\n",
    "    gas1.TP    = T, None\n",
    "    cpCO2_4[i] = gas1.partial_molar_cp[gas1.species_index('CO2')] \n",
    "    cpH2O_4[i] = gas1.partial_molar_cp[gas1.species_index('H2O')] \n",
    "    print(' {:4d} {:15f} {:15f} {:15f} '.format(i,T,cpCO2_4[i],cpH2O_4[i]) )"
   ]
  },
  {
   "cell_type": "markdown",
   "metadata": {},
   "source": [
    "The results are identical to those shown earlier."
   ]
  },
  {
   "cell_type": "markdown",
   "metadata": {},
   "source": [
    "### 3.2 Generating basic x-y plots"
   ]
  },
  {
   "cell_type": "markdown",
   "metadata": {},
   "source": [
    "Now let's plot the results. First, we look at the temperature variation of the constant-pressure specific heat of CO2:"
   ]
  },
  {
   "cell_type": "code",
   "execution_count": 59,
   "metadata": {},
   "outputs": [
    {
     "data": {
      "image/png": "[encoded data removed]",
      "text/plain": [
       "<Figure size 432x288 with 1 Axes>"
      ]
     },
     "metadata": {
      "needs_background": "light"
     },
     "output_type": "display_data"
    }
   ],
   "source": [
    "fig, ax = plt.subplots() # note the use of the .plt prefix to access Matplotlib objects\n",
    "ax.plot(temp,cpCO2)      # plot cpCO2 as a function of temp; temp and cpCO2 have the same size, as required\n",
    "# the following command sets the x- and y-axis labels and the plot title, respectively\n",
    "# note the use of implied continuation within parentheses of the \"ax.set\" command across the three lines\n",
    "ax.set(xlabel='Temperature (K)',\n",
    "       ylabel='Specific heat (J/kmol-K)',\n",
    "       title ='Temperature variation of C_p for CO2')\n",
    "ax.grid(True)                  # show gridlines\n",
    "fig.savefig(\"Cp_vs_T_CO2.png\") # save the plot as a .png image file"
   ]
  },
  {
   "cell_type": "markdown",
   "metadata": {},
   "source": [
    "Any time that you make a figure, it is important to include appropriate axis labels and units.\n",
    "\n",
    "The file Cp_vs_T_CO2.png containing the figure above should now be available in your working directory. Other [image file formats](https://matplotlib.org/api/_as_gen/matplotlib.pyplot.savefig.html) are also supported.\n",
    "\n",
    "This figure can be compared with Figure 2.2 of Turns 4th ed. Note the differences in units (J here versus kJ there) and in maximum temperature (3000 K here versus 5000 K there). \n",
    "\n",
    "A few observations can be made. The value of C_p increases with increasing temperature, and the rate of increase decreases with increasing temperature. The reasons for this behavior are explained in Chapter 2 of Turns 4th ed., and in classical thermodynamics texts. The increase is significant over the range 300 K to 2500 K, which is a temperature range that is of interest for many practical combustion applications. This suggests that it might not be appropriate to assume constant specific heats in some combustion problems.\n",
    "\n",
    "Note that the figure appeared inline in the Notebook. Alternatively, the figure can be opened in a separate window by inserting the line \"%matplotlib notebook\" before generating the plot. In this manner, the figure can be modified using a graphical user interface, without writing and executing new commands. After running the cell below, you can explore the possibilities for working with the figure, then press the blue \"Stop Interaction\" button when finished:"
   ]
  },
  {
   "cell_type": "code",
   "execution_count": 61,
   "metadata": {},
   "outputs": [
    {
     "data": {
      "application/javascript": [
       "/* Put everything inside the global mpl namespace */\n",
       "window.mpl = {};\n",
       "\n",
       "\n",
       "mpl.get_websocket_type = function() {\n",
       "    if (typeof(WebSocket) !== 'undefined') {\n",
       "        return WebSocket;\n",
       "    } else if (typeof(MozWebSocket) !== 'undefined') {\n",
       "        return MozWebSocket;\n",
       "    } else {\n",
       "        alert('Your browser does not have WebSocket support. ' +\n",
       "              'Please try Chrome, Safari or Firefox ≥ 6. ' +\n",
       "              'Firefox 4 and 5 are also supported but you ' +\n",
       "              'have to enable WebSockets in about:config.');\n",
       "    };\n",
       "}\n",
       "\n",
       "mpl.figure = function(figure_id, websocket, ondownload, parent_element) {\n",
       "    this.id = figure_id;\n",
       "\n",
       "    this.ws = websocket;\n",
       "\n",
       "    this.supports_binary = (this.ws.binaryType != undefined);\n",
       "\n",
       "    if (!this.supports_binary) {\n",
       "        var warnings = document.getElementById(\"mpl-warnings\");\n",
       "        if (warnings) {\n",
       "            warnings.style.display = 'block';\n",
       "            warnings.textContent = (\n",
       "                \"This browser does not support binary websocket messages. \" +\n",
       "                    \"Performance may be slow.\");\n",
       "        }\n",
       "    }\n",
       "\n",
       "    this.imageObj = new Image();\n",
       "\n",
       "    this.context = undefined;\n",
       "    this.message = undefined;\n",
       "    this.canvas = undefined;\n",
       "    this.rubberband_canvas = undefined;\n",
       "    this.rubberband_context = undefined;\n",
       "    this.format_dropdown = undefined;\n",
       "\n",
       "    this.image_mode = 'full';\n",
       "\n",
       "    this.root = $('<div/>');\n",
       "    this._root_extra_style(this.root)\n",
       "    this.root.attr('style', 'display: inline-block');\n",
       "\n",
       "    $(parent_element).append(this.root);\n",
       "\n",
       "    this._init_header(this);\n",
       "    this._init_canvas(this);\n",
       "    this._init_toolbar(this);\n",
       "\n",
       "    var fig = this;\n",
       "\n",
       "    this.waiting = false;\n",
       "\n",
       "    this.ws.onopen =  function () {\n",
       "            fig.send_message(\"supports_binary\", {value: fig.supports_binary});\n",
       "            fig.send_message(\"send_image_mode\", {});\n",
       "            if (mpl.ratio != 1) {\n",
       "                fig.send_message(\"set_dpi_ratio\", {'dpi_ratio': mpl.ratio});\n",
       "            }\n",
       "            fig.send_message(\"refresh\", {});\n",
       "        }\n",
       "\n",
       "    this.imageObj.onload = function() {\n",
       "            if (fig.image_mode == 'full') {\n",
       "                // Full images could contain transparency (where diff images\n",
       "                // almost always do), so we need to clear the canvas so that\n",
       "                // there is no ghosting.\n",
       "                fig.context.clearRect(0, 0, fig.canvas.width, fig.canvas.height);\n",
       "            }\n",
       "            fig.context.drawImage(fig.imageObj, 0, 0);\n",
       "        };\n",
       "\n",
       "    this.imageObj.onunload = function() {\n",
       "        fig.ws.close();\n",
       "    }\n",
       "\n",
       "    this.ws.onmessage = this._make_on_message_function(this);\n",
       "\n",
       "    this.ondownload = ondownload;\n",
       "}\n",
       "\n",
       "mpl.figure.prototype._init_header = function() {\n",
       "    var titlebar = $(\n",
       "        '<div class=\"ui-dialog-titlebar ui-widget-header ui-corner-all ' +\n",
       "        'ui-helper-clearfix\"/>');\n",
       "    var titletext = $(\n",
       "        '<div class=\"ui-dialog-title\" style=\"width: 100%; ' +\n",
       "        'text-align: center; padding: 3px;\"/>');\n",
       "    titlebar.append(titletext)\n",
       "    this.root.append(titlebar);\n",
       "    this.header = titletext[0];\n",
       "}\n",
       "\n",
       "\n",
       "\n",
       "mpl.figure.prototype._canvas_extra_style = function(canvas_div) {\n",
       "\n",
       "}\n",
       "\n",
       "\n",
       "mpl.figure.prototype._root_extra_style = function(canvas_div) {\n",
       "\n",
       "}\n",
       "\n",
       "mpl.figure.prototype._init_canvas = function() {\n",
       "    var fig = this;\n",
       "\n",
       "    var canvas_div = $('<div/>');\n",
       "\n",
       "    canvas_div.attr('style', 'position: relative; clear: both; outline: 0');\n",
       "\n",
       "    function canvas_keyboard_event(event) {\n",
       "        return fig.key_event(event, event['data']);\n",
       "    }\n",
       "\n",
       "    canvas_div.keydown('key_press', canvas_keyboard_event);\n",
       "    canvas_div.keyup('key_release', canvas_keyboard_event);\n",
       "    this.canvas_div = canvas_div\n",
       "    this._canvas_extra_style(canvas_div)\n",
       "    this.root.append(canvas_div);\n",
       "\n",
       "    var canvas = $('<canvas/>');\n",
       "    canvas.addClass('mpl-canvas');\n",
       "    canvas.attr('style', \"left: 0; top: 0; z-index: 0; outline: 0\")\n",
       "\n",
       "    this.canvas = canvas[0];\n",
       "    this.context = canvas[0].getContext(\"2d\");\n",
       "\n",
       "    var backingStore = this.context.backingStorePixelRatio ||\n",
       "\tthis.context.webkitBackingStorePixelRatio ||\n",
       "\tthis.context.mozBackingStorePixelRatio ||\n",
       "\tthis.context.msBackingStorePixelRatio ||\n",
       "\tthis.context.oBackingStorePixelRatio ||\n",
       "\tthis.context.backingStorePixelRatio || 1;\n",
       "\n",
       "    mpl.ratio = (window.devicePixelRatio || 1) / backingStore;\n",
       "\n",
       "    var rubberband = $('<canvas/>');\n",
       "    rubberband.attr('style', \"position: absolute; left: 0; top: 0; z-index: 1;\")\n",
       "\n",
       "    var pass_mouse_events = true;\n",
       "\n",
       "    canvas_div.resizable({\n",
       "        start: function(event, ui) {\n",
       "            pass_mouse_events = false;\n",
       "        },\n",
       "        resize: function(event, ui) {\n",
       "            fig.request_resize(ui.size.width, ui.size.height);\n",
       "        },\n",
       "        stop: function(event, ui) {\n",
       "            pass_mouse_events = true;\n",
       "            fig.request_resize(ui.size.width, ui.size.height);\n",
       "        },\n",
       "    });\n",
       "\n",
       "    function mouse_event_fn(event) {\n",
       "        if (pass_mouse_events)\n",
       "            return fig.mouse_event(event, event['data']);\n",
       "    }\n",
       "\n",
       "    rubberband.mousedown('button_press', mouse_event_fn);\n",
       "    rubberband.mouseup('button_release', mouse_event_fn);\n",
       "    // Throttle sequential mouse events to 1 every 20ms.\n",
       "    rubberband.mousemove('motion_notify', mouse_event_fn);\n",
       "\n",
       "    rubberband.mouseenter('figure_enter', mouse_event_fn);\n",
       "    rubberband.mouseleave('figure_leave', mouse_event_fn);\n",
       "\n",
       "    canvas_div.on(\"wheel\", function (event) {\n",
       "        event = event.originalEvent;\n",
       "        event['data'] = 'scroll'\n",
       "        if (event.deltaY < 0) {\n",
       "            event.step = 1;\n",
       "        } else {\n",
       "            event.step = -1;\n",
       "        }\n",
       "        mouse_event_fn(event);\n",
       "    });\n",
       "\n",
       "    canvas_div.append(canvas);\n",
       "    canvas_div.append(rubberband);\n",
       "\n",
       "    this.rubberband = rubberband;\n",
       "    this.rubberband_canvas = rubberband[0];\n",
       "    this.rubberband_context = rubberband[0].getContext(\"2d\");\n",
       "    this.rubberband_context.strokeStyle = \"#000000\";\n",
       "\n",
       "    this._resize_canvas = function(width, height) {\n",
       "        // Keep the size of the canvas, canvas container, and rubber band\n",
       "        // canvas in synch.\n",
       "        canvas_div.css('width', width)\n",
       "        canvas_div.css('height', height)\n",
       "\n",
       "        canvas.attr('width', width * mpl.ratio);\n",
       "        canvas.attr('height', height * mpl.ratio);\n",
       "        canvas.attr('style', 'width: ' + width + 'px; height: ' + height + 'px;');\n",
       "\n",
       "        rubberband.attr('width', width);\n",
       "        rubberband.attr('height', height);\n",
       "    }\n",
       "\n",
       "    // Set the figure to an initial 600x600px, this will subsequently be updated\n",
       "    // upon first draw.\n",
       "    this._resize_canvas(600, 600);\n",
       "\n",
       "    // Disable right mouse context menu.\n",
       "    $(this.rubberband_canvas).bind(\"contextmenu\",function(e){\n",
       "        return false;\n",
       "    });\n",
       "\n",
       "    function set_focus () {\n",
       "        canvas.focus();\n",
       "        canvas_div.focus();\n",
       "    }\n",
       "\n",
       "    window.setTimeout(set_focus, 100);\n",
       "}\n",
       "\n",
       "mpl.figure.prototype._init_toolbar = function() {\n",
       "    var fig = this;\n",
       "\n",
       "    var nav_element = $('<div/>');\n",
       "    nav_element.attr('style', 'width: 100%');\n",
       "    this.root.append(nav_element);\n",
       "\n",
       "    // Define a callback function for later on.\n",
       "    function toolbar_event(event) {\n",
       "        return fig.toolbar_button_onclick(event['data']);\n",
       "    }\n",
       "    function toolbar_mouse_event(event) {\n",
       "        return fig.toolbar_button_onmouseover(event['data']);\n",
       "    }\n",
       "\n",
       "    for(var toolbar_ind in mpl.toolbar_items) {\n",
       "        var name = mpl.toolbar_items[toolbar_ind][0];\n",
       "        var tooltip = mpl.toolbar_items[toolbar_ind][1];\n",
       "        var image = mpl.toolbar_items[toolbar_ind][2];\n",
       "        var method_name = mpl.toolbar_items[toolbar_ind][3];\n",
       "\n",
       "        if (!name) {\n",
       "            // put a spacer in here.\n",
       "            continue;\n",
       "        }\n",
       "        var button = $('<button/>');\n",
       "        button.addClass('ui-button ui-widget ui-state-default ui-corner-all ' +\n",
       "                        'ui-button-icon-only');\n",
       "        button.attr('role', 'button');\n",
       "        button.attr('aria-disabled', 'false');\n",
       "        button.click(method_name, toolbar_event);\n",
       "        button.mouseover(tooltip, toolbar_mouse_event);\n",
       "\n",
       "        var icon_img = $('<span/>');\n",
       "        icon_img.addClass('ui-button-icon-primary ui-icon');\n",
       "        icon_img.addClass(image);\n",
       "        icon_img.addClass('ui-corner-all');\n",
       "\n",
       "        var tooltip_span = $('<span/>');\n",
       "        tooltip_span.addClass('ui-button-text');\n",
       "        tooltip_span.html(tooltip);\n",
       "\n",
       "        button.append(icon_img);\n",
       "        button.append(tooltip_span);\n",
       "\n",
       "        nav_element.append(button);\n",
       "    }\n",
       "\n",
       "    var fmt_picker_span = $('<span/>');\n",
       "\n",
       "    var fmt_picker = $('<select/>');\n",
       "    fmt_picker.addClass('mpl-toolbar-option ui-widget ui-widget-content');\n",
       "    fmt_picker_span.append(fmt_picker);\n",
       "    nav_element.append(fmt_picker_span);\n",
       "    this.format_dropdown = fmt_picker[0];\n",
       "\n",
       "    for (var ind in mpl.extensions) {\n",
       "        var fmt = mpl.extensions[ind];\n",
       "        var option = $(\n",
       "            '<option/>', {selected: fmt === mpl.default_extension}).html(fmt);\n",
       "        fmt_picker.append(option);\n",
       "    }\n",
       "\n",
       "    // Add hover states to the ui-buttons\n",
       "    $( \".ui-button\" ).hover(\n",
       "        function() { $(this).addClass(\"ui-state-hover\");},\n",
       "        function() { $(this).removeClass(\"ui-state-hover\");}\n",
       "    );\n",
       "\n",
       "    var status_bar = $('<span class=\"mpl-message\"/>');\n",
       "    nav_element.append(status_bar);\n",
       "    this.message = status_bar[0];\n",
       "}\n",
       "\n",
       "mpl.figure.prototype.request_resize = function(x_pixels, y_pixels) {\n",
       "    // Request matplotlib to resize the figure. Matplotlib will then trigger a resize in the client,\n",
       "    // which will in turn request a refresh of the image.\n",
       "    this.send_message('resize', {'width': x_pixels, 'height': y_pixels});\n",
       "}\n",
       "\n",
       "mpl.figure.prototype.send_message = function(type, properties) {\n",
       "    properties['type'] = type;\n",
       "    properties['figure_id'] = this.id;\n",
       "    this.ws.send(JSON.stringify(properties));\n",
       "}\n",
       "\n",
       "mpl.figure.prototype.send_draw_message = function() {\n",
       "    if (!this.waiting) {\n",
       "        this.waiting = true;\n",
       "        this.ws.send(JSON.stringify({type: \"draw\", figure_id: this.id}));\n",
       "    }\n",
       "}\n",
       "\n",
       "\n",
       "mpl.figure.prototype.handle_save = function(fig, msg) {\n",
       "    var format_dropdown = fig.format_dropdown;\n",
       "    var format = format_dropdown.options[format_dropdown.selectedIndex].value;\n",
       "    fig.ondownload(fig, format);\n",
       "}\n",
       "\n",
       "\n",
       "mpl.figure.prototype.handle_resize = function(fig, msg) {\n",
       "    var size = msg['size'];\n",
       "    if (size[0] != fig.canvas.width || size[1] != fig.canvas.height) {\n",
       "        fig._resize_canvas(size[0], size[1]);\n",
       "        fig.send_message(\"refresh\", {});\n",
       "    };\n",
       "}\n",
       "\n",
       "mpl.figure.prototype.handle_rubberband = function(fig, msg) {\n",
       "    var x0 = msg['x0'] / mpl.ratio;\n",
       "    var y0 = (fig.canvas.height - msg['y0']) / mpl.ratio;\n",
       "    var x1 = msg['x1'] / mpl.ratio;\n",
       "    var y1 = (fig.canvas.height - msg['y1']) / mpl.ratio;\n",
       "    x0 = Math.floor(x0) + 0.5;\n",
       "    y0 = Math.floor(y0) + 0.5;\n",
       "    x1 = Math.floor(x1) + 0.5;\n",
       "    y1 = Math.floor(y1) + 0.5;\n",
       "    var min_x = Math.min(x0, x1);\n",
       "    var min_y = Math.min(y0, y1);\n",
       "    var width = Math.abs(x1 - x0);\n",
       "    var height = Math.abs(y1 - y0);\n",
       "\n",
       "    fig.rubberband_context.clearRect(\n",
       "        0, 0, fig.canvas.width / mpl.ratio, fig.canvas.height / mpl.ratio);\n",
       "\n",
       "    fig.rubberband_context.strokeRect(min_x, min_y, width, height);\n",
       "}\n",
       "\n",
       "mpl.figure.prototype.handle_figure_label = function(fig, msg) {\n",
       "    // Updates the figure title.\n",
       "    fig.header.textContent = msg['label'];\n",
       "}\n",
       "\n",
       "mpl.figure.prototype.handle_cursor = function(fig, msg) {\n",
       "    var cursor = msg['cursor'];\n",
       "    switch(cursor)\n",
       "    {\n",
       "    case 0:\n",
       "        cursor = 'pointer';\n",
       "        break;\n",
       "    case 1:\n",
       "        cursor = 'default';\n",
       "        break;\n",
       "    case 2:\n",
       "        cursor = 'crosshair';\n",
       "        break;\n",
       "    case 3:\n",
       "        cursor = 'move';\n",
       "        break;\n",
       "    }\n",
       "    fig.rubberband_canvas.style.cursor = cursor;\n",
       "}\n",
       "\n",
       "mpl.figure.prototype.handle_message = function(fig, msg) {\n",
       "    fig.message.textContent = msg['message'];\n",
       "}\n",
       "\n",
       "mpl.figure.prototype.handle_draw = function(fig, msg) {\n",
       "    // Request the server to send over a new figure.\n",
       "    fig.send_draw_message();\n",
       "}\n",
       "\n",
       "mpl.figure.prototype.handle_image_mode = function(fig, msg) {\n",
       "    fig.image_mode = msg['mode'];\n",
       "}\n",
       "\n",
       "mpl.figure.prototype.updated_canvas_event = function() {\n",
       "    // Called whenever the canvas gets updated.\n",
       "    this.send_message(\"ack\", {});\n",
       "}\n",
       "\n",
       "// A function to construct a web socket function for onmessage handling.\n",
       "// Called in the figure constructor.\n",
       "mpl.figure.prototype._make_on_message_function = function(fig) {\n",
       "    return function socket_on_message(evt) {\n",
       "        if (evt.data instanceof Blob) {\n",
       "            /* FIXME: We get \"Resource interpreted as Image but\n",
       "             * transferred with MIME type text/plain:\" errors on\n",
       "             * Chrome.  But how to set the MIME type?  It doesn't seem\n",
       "             * to be part of the websocket stream */\n",
       "            evt.data.type = \"image/png\";\n",
       "\n",
       "            /* Free the memory for the previous frames */\n",
       "            if (fig.imageObj.src) {\n",
       "                (window.URL || window.webkitURL).revokeObjectURL(\n",
       "                    fig.imageObj.src);\n",
       "            }\n",
       "\n",
       "            fig.imageObj.src = (window.URL || window.webkitURL).createObjectURL(\n",
       "                evt.data);\n",
       "            fig.updated_canvas_event();\n",
       "            fig.waiting = false;\n",
       "            return;\n",
       "        }\n",
       "        else if (typeof evt.data === 'string' && evt.data.slice(0, 21) == \"data:image/png;base64\") {\n",
       "            fig.imageObj.src = evt.data;\n",
       "            fig.updated_canvas_event();\n",
       "            fig.waiting = false;\n",
       "            return;\n",
       "        }\n",
       "\n",
       "        var msg = JSON.parse(evt.data);\n",
       "        var msg_type = msg['type'];\n",
       "\n",
       "        // Call the  \"handle_{type}\" callback, which takes\n",
       "        // the figure and JSON message as its only arguments.\n",
       "        try {\n",
       "            var callback = fig[\"handle_\" + msg_type];\n",
       "        } catch (e) {\n",
       "            console.log(\"No handler for the '\" + msg_type + \"' message type: \", msg);\n",
       "            return;\n",
       "        }\n",
       "\n",
       "        if (callback) {\n",
       "            try {\n",
       "                // console.log(\"Handling '\" + msg_type + \"' message: \", msg);\n",
       "                callback(fig, msg);\n",
       "            } catch (e) {\n",
       "                console.log(\"Exception inside the 'handler_\" + msg_type + \"' callback:\", e, e.stack, msg);\n",
       "            }\n",
       "        }\n",
       "    };\n",
       "}\n",
       "\n",
       "// from http://stackoverflow.com/questions/1114465/getting-mouse-location-in-canvas\n",
       "mpl.findpos = function(e) {\n",
       "    //this section is from http://www.quirksmode.org/js/events_properties.html\n",
       "    var targ;\n",
       "    if (!e)\n",
       "        e = window.event;\n",
       "    if (e.target)\n",
       "        targ = e.target;\n",
       "    else if (e.srcElement)\n",
       "        targ = e.srcElement;\n",
       "    if (targ.nodeType == 3) // defeat Safari bug\n",
       "        targ = targ.parentNode;\n",
       "\n",
       "    // jQuery normalizes the pageX and pageY\n",
       "    // pageX,Y are the mouse positions relative to the document\n",
       "    // offset() returns the position of the element relative to the document\n",
       "    var x = e.pageX - $(targ).offset().left;\n",
       "    var y = e.pageY - $(targ).offset().top;\n",
       "\n",
       "    return {\"x\": x, \"y\": y};\n",
       "};\n",
       "\n",
       "/*\n",
       " * return a copy of an object with only non-object keys\n",
       " * we need this to avoid circular references\n",
       " * http://stackoverflow.com/a/24161582/3208463\n",
       " */\n",
       "function simpleKeys (original) {\n",
       "  return Object.keys(original).reduce(function (obj, key) {\n",
       "    if (typeof original[key] !== 'object')\n",
       "        obj[key] = original[key]\n",
       "    return obj;\n",
       "  }, {});\n",
       "}\n",
       "\n",
       "mpl.figure.prototype.mouse_event = function(event, name) {\n",
       "    var canvas_pos = mpl.findpos(event)\n",
       "\n",
       "    if (name === 'button_press')\n",
       "    {\n",
       "        this.canvas.focus();\n",
       "        this.canvas_div.focus();\n",
       "    }\n",
       "\n",
       "    var x = canvas_pos.x * mpl.ratio;\n",
       "    var y = canvas_pos.y * mpl.ratio;\n",
       "\n",
       "    this.send_message(name, {x: x, y: y, button: event.button,\n",
       "                             step: event.step,\n",
       "                             guiEvent: simpleKeys(event)});\n",
       "\n",
       "    /* This prevents the web browser from automatically changing to\n",
       "     * the text insertion cursor when the button is pressed.  We want\n",
       "     * to control all of the cursor setting manually through the\n",
       "     * 'cursor' event from matplotlib */\n",
       "    event.preventDefault();\n",
       "    return false;\n",
       "}\n",
       "\n",
       "mpl.figure.prototype._key_event_extra = function(event, name) {\n",
       "    // Handle any extra behaviour associated with a key event\n",
       "}\n",
       "\n",
       "mpl.figure.prototype.key_event = function(event, name) {\n",
       "\n",
       "    // Prevent repeat events\n",
       "    if (name == 'key_press')\n",
       "    {\n",
       "        if (event.which === this._key)\n",
       "            return;\n",
       "        else\n",
       "            this._key = event.which;\n",
       "    }\n",
       "    if (name == 'key_release')\n",
       "        this._key = null;\n",
       "\n",
       "    var value = '';\n",
       "    if (event.ctrlKey && event.which != 17)\n",
       "        value += \"ctrl+\";\n",
       "    if (event.altKey && event.which != 18)\n",
       "        value += \"alt+\";\n",
       "    if (event.shiftKey && event.which != 16)\n",
       "        value += \"shift+\";\n",
       "\n",
       "    value += 'k';\n",
       "    value += event.which.toString();\n",
       "\n",
       "    this._key_event_extra(event, name);\n",
       "\n",
       "    this.send_message(name, {key: value,\n",
       "                             guiEvent: simpleKeys(event)});\n",
       "    return false;\n",
       "}\n",
       "\n",
       "mpl.figure.prototype.toolbar_button_onclick = function(name) {\n",
       "    if (name == 'download') {\n",
       "        this.handle_save(this, null);\n",
       "    } else {\n",
       "        this.send_message(\"toolbar_button\", {name: name});\n",
       "    }\n",
       "};\n",
       "\n",
       "mpl.figure.prototype.toolbar_button_onmouseover = function(tooltip) {\n",
       "    this.message.textContent = tooltip;\n",
       "};\n",
       "mpl.toolbar_items = [[\"Home\", \"Reset original view\", \"fa fa-home icon-home\", \"home\"], [\"Back\", \"Back to previous view\", \"fa fa-arrow-left icon-arrow-left\", \"back\"], [\"Forward\", \"Forward to next view\", \"fa fa-arrow-right icon-arrow-right\", \"forward\"], [\"\", \"\", \"\", \"\"], [\"Pan\", \"Pan axes with left mouse, zoom with right\", \"fa fa-arrows icon-move\", \"pan\"], [\"Zoom\", \"Zoom to rectangle\", \"fa fa-square-o icon-check-empty\", \"zoom\"], [\"\", \"\", \"\", \"\"], [\"Download\", \"Download plot\", \"fa fa-floppy-o icon-save\", \"download\"]];\n",
       "\n",
       "mpl.extensions = [\"eps\", \"pdf\", \"png\", \"ps\", \"raw\", \"svg\"];\n",
       "\n",
       "mpl.default_extension = \"png\";var comm_websocket_adapter = function(comm) {\n",
       "    // Create a \"websocket\"-like object which calls the given IPython comm\n",
       "    // object with the appropriate methods. Currently this is a non binary\n",
       "    // socket, so there is still some room for performance tuning.\n",
       "    var ws = {};\n",
       "\n",
       "    ws.close = function() {\n",
       "        comm.close()\n",
       "    };\n",
       "    ws.send = function(m) {\n",
       "        //console.log('sending', m);\n",
       "        comm.send(m);\n",
       "    };\n",
       "    // Register the callback with on_msg.\n",
       "    comm.on_msg(function(msg) {\n",
       "        //console.log('receiving', msg['content']['data'], msg);\n",
       "        // Pass the mpl event to the overridden (by mpl) onmessage function.\n",
       "        ws.onmessage(msg['content']['data'])\n",
       "    });\n",
       "    return ws;\n",
       "}\n",
       "\n",
       "mpl.mpl_figure_comm = function(comm, msg) {\n",
       "    // This is the function which gets called when the mpl process\n",
       "    // starts-up an IPython Comm through the \"matplotlib\" channel.\n",
       "\n",
       "    var id = msg.content.data.id;\n",
       "    // Get hold of the div created by the display call when the Comm\n",
       "    // socket was opened in Python.\n",
       "    var element = $(\"#\" + id);\n",
       "    var ws_proxy = comm_websocket_adapter(comm)\n",
       "\n",
       "    function ondownload(figure, format) {\n",
       "        window.open(figure.imageObj.src);\n",
       "    }\n",
       "\n",
       "    var fig = new mpl.figure(id, ws_proxy,\n",
       "                           ondownload,\n",
       "                           element.get(0));\n",
       "\n",
       "    // Call onopen now - mpl needs it, as it is assuming we've passed it a real\n",
       "    // web socket which is closed, not our websocket->open comm proxy.\n",
       "    ws_proxy.onopen();\n",
       "\n",
       "    fig.parent_element = element.get(0);\n",
       "    fig.cell_info = mpl.find_output_cell(\"<div id='\" + id + \"'></div>\");\n",
       "    if (!fig.cell_info) {\n",
       "        console.error(\"Failed to find cell for figure\", id, fig);\n",
       "        return;\n",
       "    }\n",
       "\n",
       "    var output_index = fig.cell_info[2]\n",
       "    var cell = fig.cell_info[0];\n",
       "\n",
       "};\n",
       "\n",
       "mpl.figure.prototype.handle_close = function(fig, msg) {\n",
       "    var width = fig.canvas.width/mpl.ratio\n",
       "    fig.root.unbind('remove')\n",
       "\n",
       "    // Update the output cell to use the data from the current canvas.\n",
       "    fig.push_to_output();\n",
       "    var dataURL = fig.canvas.toDataURL();\n",
       "    // Re-enable the keyboard manager in IPython - without this line, in FF,\n",
       "    // the notebook keyboard shortcuts fail.\n",
       "    IPython.keyboard_manager.enable()\n",
       "    $(fig.parent_element).html('<img src=\"' + dataURL + '\" width=\"' + width + '\">');\n",
       "    fig.close_ws(fig, msg);\n",
       "}\n",
       "\n",
       "mpl.figure.prototype.close_ws = function(fig, msg){\n",
       "    fig.send_message('closing', msg);\n",
       "    // fig.ws.close()\n",
       "}\n",
       "\n",
       "mpl.figure.prototype.push_to_output = function(remove_interactive) {\n",
       "    // Turn the data on the canvas into data in the output cell.\n",
       "    var width = this.canvas.width/mpl.ratio\n",
       "    var dataURL = this.canvas.toDataURL();\n",
       "    this.cell_info[1]['text/html'] = '<img src=\"' + dataURL + '\" width=\"' + width + '\">';\n",
       "}\n",
       "\n",
       "mpl.figure.prototype.updated_canvas_event = function() {\n",
       "    // Tell IPython that the notebook contents must change.\n",
       "    IPython.notebook.set_dirty(true);\n",
       "    this.send_message(\"ack\", {});\n",
       "    var fig = this;\n",
       "    // Wait a second, then push the new image to the DOM so\n",
       "    // that it is saved nicely (might be nice to debounce this).\n",
       "    setTimeout(function () { fig.push_to_output() }, 1000);\n",
       "}\n",
       "\n",
       "mpl.figure.prototype._init_toolbar = function() {\n",
       "    var fig = this;\n",
       "\n",
       "    var nav_element = $('<div/>');\n",
       "    nav_element.attr('style', 'width: 100%');\n",
       "    this.root.append(nav_element);\n",
       "\n",
       "    // Define a callback function for later on.\n",
       "    function toolbar_event(event) {\n",
       "        return fig.toolbar_button_onclick(event['data']);\n",
       "    }\n",
       "    function toolbar_mouse_event(event) {\n",
       "        return fig.toolbar_button_onmouseover(event['data']);\n",
       "    }\n",
       "\n",
       "    for(var toolbar_ind in mpl.toolbar_items){\n",
       "        var name = mpl.toolbar_items[toolbar_ind][0];\n",
       "        var tooltip = mpl.toolbar_items[toolbar_ind][1];\n",
       "        var image = mpl.toolbar_items[toolbar_ind][2];\n",
       "        var method_name = mpl.toolbar_items[toolbar_ind][3];\n",
       "\n",
       "        if (!name) { continue; };\n",
       "\n",
       "        var button = $('<button class=\"btn btn-default\" href=\"#\" title=\"' + name + '\"><i class=\"fa ' + image + ' fa-lg\"></i></button>');\n",
       "        button.click(method_name, toolbar_event);\n",
       "        button.mouseover(tooltip, toolbar_mouse_event);\n",
       "        nav_element.append(button);\n",
       "    }\n",
       "\n",
       "    // Add the status bar.\n",
       "    var status_bar = $('<span class=\"mpl-message\" style=\"text-align:right; float: right;\"/>');\n",
       "    nav_element.append(status_bar);\n",
       "    this.message = status_bar[0];\n",
       "\n",
       "    // Add the close button to the window.\n",
       "    var buttongrp = $('<div class=\"btn-group inline pull-right\"></div>');\n",
       "    var button = $('<button class=\"btn btn-mini btn-primary\" href=\"#\" title=\"Stop Interaction\"><i class=\"fa fa-power-off icon-remove icon-large\"></i></button>');\n",
       "    button.click(function (evt) { fig.handle_close(fig, {}); } );\n",
       "    button.mouseover('Stop Interaction', toolbar_mouse_event);\n",
       "    buttongrp.append(button);\n",
       "    var titlebar = this.root.find($('.ui-dialog-titlebar'));\n",
       "    titlebar.prepend(buttongrp);\n",
       "}\n",
       "\n",
       "mpl.figure.prototype._root_extra_style = function(el){\n",
       "    var fig = this\n",
       "    el.on(\"remove\", function(){\n",
       "\tfig.close_ws(fig, {});\n",
       "    });\n",
       "}\n",
       "\n",
       "mpl.figure.prototype._canvas_extra_style = function(el){\n",
       "    // this is important to make the div 'focusable\n",
       "    el.attr('tabindex', 0)\n",
       "    // reach out to IPython and tell the keyboard manager to turn it's self\n",
       "    // off when our div gets focus\n",
       "\n",
       "    // location in version 3\n",
       "    if (IPython.notebook.keyboard_manager) {\n",
       "        IPython.notebook.keyboard_manager.register_events(el);\n",
       "    }\n",
       "    else {\n",
       "        // location in version 2\n",
       "        IPython.keyboard_manager.register_events(el);\n",
       "    }\n",
       "\n",
       "}\n",
       "\n",
       "mpl.figure.prototype._key_event_extra = function(event, name) {\n",
       "    var manager = IPython.notebook.keyboard_manager;\n",
       "    if (!manager)\n",
       "        manager = IPython.keyboard_manager;\n",
       "\n",
       "    // Check for shift+enter\n",
       "    if (event.shiftKey && event.which == 13) {\n",
       "        this.canvas_div.blur();\n",
       "        // select the cell after this one\n",
       "        var index = IPython.notebook.find_cell_index(this.cell_info[0]);\n",
       "        IPython.notebook.select(index + 1);\n",
       "    }\n",
       "}\n",
       "\n",
       "mpl.figure.prototype.handle_save = function(fig, msg) {\n",
       "    fig.ondownload(fig, null);\n",
       "}\n",
       "\n",
       "\n",
       "mpl.find_output_cell = function(html_output) {\n",
       "    // Return the cell and output element which can be found *uniquely* in the notebook.\n",
       "    // Note - this is a bit hacky, but it is done because the \"notebook_saving.Notebook\"\n",
       "    // IPython event is triggered only after the cells have been serialised, which for\n",
       "    // our purposes (turning an active figure into a static one), is too late.\n",
       "    var cells = IPython.notebook.get_cells();\n",
       "    var ncells = cells.length;\n",
       "    for (var i=0; i<ncells; i++) {\n",
       "        var cell = cells[i];\n",
       "        if (cell.cell_type === 'code'){\n",
       "            for (var j=0; j<cell.output_area.outputs.length; j++) {\n",
       "                var data = cell.output_area.outputs[j];\n",
       "                if (data.data) {\n",
       "                    // IPython >= 3 moved mimebundle to data attribute of output\n",
       "                    data = data.data;\n",
       "                }\n",
       "                if (data['text/html'] == html_output) {\n",
       "                    return [cell, data, j];\n",
       "                }\n",
       "            }\n",
       "        }\n",
       "    }\n",
       "}\n",
       "\n",
       "// Register the function which deals with the matplotlib target/channel.\n",
       "// The kernel may be null if the page has been refreshed.\n",
       "if (IPython.notebook.kernel != null) {\n",
       "    IPython.notebook.kernel.comm_manager.register_target('matplotlib', mpl.mpl_figure_comm);\n",
       "}\n"
      ],
      "text/plain": [
       "<IPython.core.display.Javascript object>"
      ]
     },
     "metadata": {},
     "output_type": "display_data"
    },
    {
     "data": {
      "text/html": [
       "<img src=\"data:image/png;base64,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\" width=\"639.5683519058264\">"
      ],
      "text/plain": [
       "<IPython.core.display.HTML object>"
      ]
     },
     "metadata": {},
     "output_type": "display_data"
    }
   ],
   "source": [
    "%matplotlib notebook\n",
    "fig, ax = plt.subplots()\n",
    "ax.plot(temp,cpCO2)\n",
    "ax.set(xlabel='Temperature (K)',\n",
    "       ylabel='Specific heat (J/kmol-K)',\n",
    "       title ='Temperature variation of C_p for CO2')\n",
    "ax.grid(True)"
   ]
  },
  {
   "cell_type": "markdown",
   "metadata": {},
   "source": [
    "To revert to static inline plot display, type the line \"%matplotlib inline\" before generating the plot:"
   ]
  },
  {
   "cell_type": "code",
   "execution_count": 62,
   "metadata": {},
   "outputs": [
    {
     "data": {
      "image/png": "[encoded data removed]",
      "text/plain": [
       "<Figure size 432x288 with 1 Axes>"
      ]
     },
     "metadata": {
      "needs_background": "light"
     },
     "output_type": "display_data"
    }
   ],
   "source": [
    "%matplotlib inline\n",
    "fig, ax = plt.subplots()\n",
    "ax.plot(temp,cpCO2)\n",
    "ax.set(xlabel='Temperature (K)',\n",
    "       ylabel='Specific heat (J/kmol-K)',\n",
    "       title ='Temperature variation of C_p for CO2')\n",
    "ax.grid(True)"
   ]
  },
  {
   "cell_type": "markdown",
   "metadata": {},
   "source": [
    "Note that making no specification using \"%matplotlib\" (as we had done initially) is equivalent to specifying \"%matplotlib inline\"."
   ]
  },
  {
   "cell_type": "markdown",
   "metadata": {},
   "source": [
    "What happens if we increase the maximum temperature to 5000 K? We next do that, and also extend the plot to include multiple curves and a few other features:"
   ]
  },
  {
   "cell_type": "code",
   "execution_count": 63,
   "metadata": {
    "scrolled": true
   },
   "outputs": [
    {
     "data": {
      "image/png": "[encoded data removed]",
      "text/plain": [
       "<Figure size 432x288 with 1 Axes>"
      ]
     },
     "metadata": {
      "needs_background": "light"
     },
     "output_type": "display_data"
    }
   ],
   "source": [
    "# increase tmax to 5000 K, and recalculate\n",
    "# the value of tmin remains the same as the last time that it was set (at 300 K)\n",
    "tmax = 5001.  # we use 5001. instead of 5000. to make sure that the values at 5000 K are computed\n",
    "delt = 100.\n",
    "\n",
    "temp  = np.arange(tmin,tmax,delt)\n",
    "nt    = len(temp)\n",
    "cpCO2 = np.zeros(nt)\n",
    "cpH2O = np.zeros(nt)\n",
    "\n",
    "for i, T in enumerate(temp):\n",
    "    gas1.TP  = T, None                                    \n",
    "    cpCO2[i] = gas1.partial_molar_cp[gas1.species_index('CO2')]\n",
    "    cpH2O[i] = gas1.partial_molar_cp[gas1.species_index('H2O')]\n",
    "\n",
    "# generate the figure\n",
    "# note that we are still in \"inline\" display mode\n",
    "fig, ax = plt.subplots()\n",
    "ax.plot(temp,cpCO2,'-' ,label='CO2',lw=2) # specify a line dash pattern, a label, and a line width\n",
    "ax.plot(temp,cpH2O,'--',label='H2O',lw=2) # specify a different line dash pattern and label\n",
    "ax.set(xlabel='Temperature (K)',\n",
    "       ylabel='Specific heat (J/kmol-K)',\n",
    "       title ='Temperature variation of C_p')\n",
    "ax.legend(handlelength=4,loc='best') # include a legend; \"handlelength=4\" increases the length of the curves in the legend\n",
    "ax.grid(True)\n",
    "fig.savefig(\"Cp_vs_T_CO2-H2O_5000K.png\")"
   ]
  },
  {
   "cell_type": "markdown",
   "metadata": {},
   "source": [
    "Again, this figure can be compared with Figure 2.2 in Turns 4th ed. Note the unphysical decrease in the specific heat of CO2 with increasing T, and the unphysical increase in the specific heat of H2O with increasing T, at temperatures higher than approximately 3500 K. Apparently the polynomial coefficients used in gri30.cti to describe the temperature variation of specific heats are different than those used in Turns 4th ed. (Table A.13). This underscores the importance of limiting the use of thermochemical data to the range of conditions for which it was intended."
   ]
  },
  {
   "cell_type": "markdown",
   "metadata": {},
   "source": [
    "Here, and in subsequent Notebooks, rudimentary features of Matplotlib are used to generate basic plots. Much more can be done; the interested reader is referred to the full Matplotlib documentation. Other plotting packages also can be used: for example, [Plotly](https://plot.ly/python/) has been recommended by some users. "
   ]
  },
  {
   "cell_type": "markdown",
   "metadata": {},
   "source": [
    "## 4. Formatting output and writing to an output file"
   ]
  },
  {
   "cell_type": "markdown",
   "metadata": {},
   "source": [
    "Examples illustrating basic formatting of text output have been provided above. Here that is extended to writing text to an output file. The data in the last figure above are written to an output file that can be opened using a standard text editor."
   ]
  },
  {
   "cell_type": "code",
   "execution_count": 64,
   "metadata": {},
   "outputs": [
    {
     "name": "stdout",
     "output_type": "stream",
     "text": [
      "all done - check that the output file has been written to your computer\n"
     ]
    }
   ],
   "source": [
    "# open a file and write into it\n",
    "# as was the case for \"for\" and \"while\" loops, indentation is used to specify the statements that are to be executed\n",
    "#   using the \"with\" statement - see https://docs.python.org/3/reference/compound_stmts.html\n",
    "\n",
    "with open(\"cp_vs_T_CO2-H2O_5000K.txt\", \"w\") as f:\n",
    "    \n",
    "# the \\n at the end of each line indicates an end-of-line, so that the next write will start on a new line\n",
    "    f.write(\"Constant-pressure specific heats versus temperature\\n\")                           # write a title\n",
    "    f.write(\"\\n\")                                                                              # write a blank line\n",
    "    f.write(\"                   Temperature (K)    CO2 C_P (J/kmol-K)   H2O C_P (J/kmol-K)\\n\") # write column headings\n",
    "    \n",
    "# note that the statements to be executed for each pass through the following \"for\" loop are indented two levels,\n",
    "#   because we are still inside the \"with\" loop\n",
    "# in the \"f.write\" statement below, four numbers are written for each value of i, and the format for each\n",
    "#   number is given in curly brackets; here different formats are used for each of the four numbers\n",
    "# formatting of text strings will be discussed further in the next tutorial Notebook\n",
    "    for i in range(nt): # write a line for each of the nt temperature values\n",
    "        f.write(' {:10d} {:20f} {:20e} {:20E}\\n'.format(i,temp[i],cpCO2[i],cpH2O[i]) )\n",
    "\n",
    "# end of all indentation indicates the end of the \"for\" and the \"with\" loops above\n",
    "print(\"all done - check that the output file has been written to your computer\")"
   ]
  },
  {
   "cell_type": "markdown",
   "metadata": {},
   "source": [
    "The file \"cp_vs_T_CO2-H2O_5000K.txt\" should now be available in your current working directory. You can open it using your favorite text editor.\n",
    "\n",
    "It is also possible, and often useful, to read program input data from an input file. Examples of that will be provided in subsequent Notebooks.\n",
    "\n",
    "Several options are available for formatting text strings and for working with input and output files. The examples that are provided here and in subsequent Notebooks should be sufficient for the purposes of our tutorial Notebooks. The interested reader can consult https://docs.python.org/3/library/string.html and https://docs.python.org/3/tutorial/inputoutput.html for further information."
   ]
  },
  {
   "cell_type": "markdown",
   "metadata": {},
   "source": [
    "## 5. Saving a Notebook to other file formats"
   ]
  },
  {
   "cell_type": "markdown",
   "metadata": {},
   "source": [
    "A Notebook can be saved to a different file format by selecting \"File/Download as\" from the toolbar, and picking one of the available format options.\n",
    "\n",
    "One of the more useful options is to save a Notebook as a .pdf file. At the time of this writing, the current version of Jupyter Notebook is rather weak in this regard. There is no single-click, robust approach that works satisfactorily on all computers. Here are a few things that you can try.\n",
    "\n",
    "One approach is to select File/Download as/PDF via LaTeX (.pdf). This saves the Notebook content as a .pdf file, but requires LaTeX. It may or may not work on your computer, depending on whether or not you have LaTeX installed and how it is configured. The first time that you try to do this, you may be prompted to install additional LaTeX packages.\n",
    "\n",
    "Another approach is to print the file: File/Print Preview, then Print and select whether to send to a printer or to print to a .pdf file. Again, this may or may not work, depending on how your computer is configured for printing.\n",
    "\n",
    "A third approach is to convert the Notebook to a .html file (File/Download as/HTML (.html)), then save the .html file. The .html file then can be converted to a .pdf file. Several online converters are available for this purpose, which vary in the quality of the conversion."
   ]
  },
  {
   "cell_type": "markdown",
   "metadata": {},
   "source": [
    "## 6. Finding help"
   ]
  },
  {
   "cell_type": "markdown",
   "metadata": {},
   "source": [
    "Full Cantera documentation is available online at https://cantera.org/documentation/ or https://cantera.org/documentation/docs-2.4/sphinx/html/cython/index.html. Online documentation is also available for Anaconda (Python), Jupyter Notebooks, NumPy, Matplotlib, Pandas, SciPy, and other packages.\n",
    "\n",
    "From within a Notebook, you can access web-based reference documentation for various packages by left-clicking the Help button on the toolbar at the top of the screen."
   ]
  },
  {
   "cell_type": "markdown",
   "metadata": {},
   "source": [
    "Command-line access to documentation (from within a Code cell) for Cantera objects (or those for any other loaded package) is also available. This can be done by entering the name of the object about which you seek help, followed by a question mark. However, it is not always straightforward to find what you are looking for, without a deeper understanding of the hierarchy and data structures on which Cantera is built.\n",
    "\n",
    "The following examples are intended to provide some insight into how to find help from the command line. If you don't know what to do in a particular case, you can try following these examples until you find something that gives you what you are looking for."
   ]
  },
  {
   "cell_type": "code",
   "execution_count": 65,
   "metadata": {},
   "outputs": [],
   "source": [
    "# this inquiry may tell you more than you really wanted to know about Cantera's \"Solution\" object\n",
    "# to close the window that opens when you run this cell, left-click on the \"x\" in the upper-right-hand corner \n",
    "#   of that window \n",
    "gas1?"
   ]
  },
  {
   "cell_type": "code",
   "execution_count": 66,
   "metadata": {},
   "outputs": [],
   "source": [
    "# this inquiry about a particular attribute (a function or method, in this case) associated with gas1 provides information\n",
    "#   that is probably more useful\n",
    "gas1.species_index?"
   ]
  },
  {
   "cell_type": "code",
   "execution_count": 67,
   "metadata": {},
   "outputs": [],
   "source": [
    "# this inquiry about a particular attribute (a property, in this case) associated with gas1 simply reports\n",
    "#   that T is a floating-point number, and gives its current numerical value - probably not what you were looking for\n",
    "gas1.T?"
   ]
  },
  {
   "cell_type": "code",
   "execution_count": 68,
   "metadata": {},
   "outputs": [],
   "source": [
    "# to access the documentation that you were probably looking for about T, try this\n",
    "# note: those are double underscores in two places\n",
    "gas1.__class__.T?"
   ]
  },
  {
   "cell_type": "markdown",
   "metadata": {},
   "source": [
    "Alternatively, you can use the \"help\" function instead of the question mark, as in the following examples. The information that is provided differs to varying degrees between \"help\" versus \"?\", and the way the information is diplayed is different. A separate window is created with \"?\", while the information provided by \"help\" is displayed inline within the Notebook. See the following examples."
   ]
  },
  {
   "cell_type": "code",
   "execution_count": 69,
   "metadata": {},
   "outputs": [
    {
     "name": "stdout",
     "output_type": "stream",
     "text": [
      "Help on Solution in module cantera.composite object:\n",
      "\n",
      "class Solution(cantera._cantera.ThermoPhase, cantera._cantera.Kinetics, cantera._cantera.Transport)\n",
      " |  A class for chemically-reacting solutions. Instances can be created to\n",
      " |  represent any type of solution -- a mixture of gases, a liquid solution, or\n",
      " |  a solid solution, for example.\n",
      " |  \n",
      " |  Class `Solution` derives from classes `ThermoPhase`, `Kinetics`, and\n",
      " |  `Transport`.  It defines no methods of its own, and is provided so that a\n",
      " |  single object can be used to compute thermodynamic, kinetic, and transport\n",
      " |  properties of a solution.\n",
      " |  \n",
      " |  To skip initialization of the Transport object, pass the keyword argument\n",
      " |  ``transport_model=None`` to the `Solution` constructor.\n",
      " |  \n",
      " |  The most common way to instantiate `Solution` objects is by using a phase\n",
      " |  definition, species and reactions defined in an input file::\n",
      " |  \n",
      " |      gas = ct.Solution('gri30.cti')\n",
      " |  \n",
      " |  If an input file defines multiple phases, the phase *name* (in CTI) or *id*\n",
      " |  (in XML) can be used to specify the desired phase::\n",
      " |  \n",
      " |      gas = ct.Solution('diamond.cti', 'gas')\n",
      " |      diamond = ct.Solution('diamond.cti', 'diamond')\n",
      " |  \n",
      " |  `Solution` objects can also be constructed using `Species` and `Reaction`\n",
      " |  objects which can themselves either be imported from input files or defined\n",
      " |  directly in Python::\n",
      " |  \n",
      " |      spec = ct.Species.listFromFile('gri30.cti')\n",
      " |      rxns = ct.Reaction.listFromFile('gri30.cti')\n",
      " |      gas = ct.Solution(thermo='IdealGas', kinetics='GasKinetics',\n",
      " |                        species=spec, reactions=rxns)\n",
      " |  \n",
      " |  where the ``thermo`` and ``kinetics`` keyword arguments are strings\n",
      " |  specifying the thermodynamic and kinetics model, respectively, and\n",
      " |  ``species`` and ``reactions`` keyword arguments are lists of `Species` and\n",
      " |  `Reaction` objects, respectively.\n",
      " |  \n",
      " |  For non-trivial uses cases of this functionality, see the examples\n",
      " |  `extract_submechanism.py <https://cantera.org/examples/python/extract_submechanism.py.html>`_\n",
      " |  and `mechanism_reduction.py <https://cantera.org/examples/python/mechanism_reduction.py.html>`_.\n",
      " |  \n",
      " |  In addition, `Solution` objects can be constructed by passing the text of\n",
      " |  the CTI or XML phase definition in directly, using the ``source`` keyword\n",
      " |  argument::\n",
      " |  \n",
      " |      cti_def = '''\n",
      " |          ideal_gas(name='gas', elements='O H Ar',\n",
      " |                    species='gri30: all',\n",
      " |                    reactions='gri30: all',\n",
      " |                    options=['skip_undeclared_elements', 'skip_undeclared_species', 'skip_undeclared_third_bodies'],\n",
      " |                    initial_state=state(temperature=300, pressure=101325))'''\n",
      " |      gas = ct.Solution(source=cti_def)\n",
      " |  \n",
      " |  Method resolution order:\n",
      " |      Solution\n",
      " |      cantera._cantera.ThermoPhase\n",
      " |      cantera._cantera.Kinetics\n",
      " |      cantera._cantera.Transport\n",
      " |      cantera._cantera._SolutionBase\n",
      " |      builtins.object\n",
      " |  \n",
      " |  Methods inherited from cantera._cantera.ThermoPhase:\n",
      " |  \n",
      " |  __call__(self, /, *args, **kwargs)\n",
      " |      Call self as a function.\n",
      " |  \n",
      " |  __init__(self, /, *args, **kwargs)\n",
      " |      Initialize self.  See help(type(self)) for accurate signature.\n",
      " |  \n",
      " |  add_species(...)\n",
      " |      ThermoPhase.add_species(self, Species species)\n",
      " |      \n",
      " |      Add a new species to this phase. Missing elements will be added\n",
      " |      automatically.\n",
      " |  \n",
      " |  atomic_weight(...)\n",
      " |      ThermoPhase.atomic_weight(self, m)\n",
      " |      Atomic weight [kg/kmol] of element *m*\n",
      " |  \n",
      " |  element_index(...)\n",
      " |      ThermoPhase.element_index(self, element) -> int\n",
      " |      \n",
      " |      The index of element *element*, which may be specified as a string or\n",
      " |      an integer. In the latter case, the index is checked for validity and\n",
      " |      returned. If no such element is present, an exception is thrown.\n",
      " |  \n",
      " |  element_name(...)\n",
      " |      ThermoPhase.element_name(self, m)\n",
      " |      Name of the element with index *m*.\n",
      " |  \n",
      " |  element_potentials(...)\n",
      " |      ThermoPhase.element_potentials(self)\n",
      " |      \n",
      " |      Get the array of element potentials. The element potentials are only\n",
      " |      defined for equilibrium states. This method first sets the composition\n",
      " |      to a state of equilibrium at constant T and P, then computes the\n",
      " |      element potentials for this equilibrium state.\n",
      " |      \n",
      " |      .. deprecated:: 2.3\n",
      " |          To be removed after Cantera 2.4.\n",
      " |  \n",
      " |  elemental_mass_fraction(...)\n",
      " |      ThermoPhase.elemental_mass_fraction(self, m)\n",
      " |      \n",
      " |      Get the elemental mass fraction :math:`Z_{\\mathrm{mass},m}` of element\n",
      " |      :math:`m` as defined by:\n",
      " |      \n",
      " |      .. math:: Z_{\\mathrm{mass},m} = \\sum_k \\frac{a_{m,k} M_m}{M_k} Y_k\n",
      " |      \n",
      " |      with :math:`a_{m,k}` being the number of atoms of element :math:`m` in\n",
      " |      species :math:`k`, :math:`M_m` the atomic weight of element :math:`m`,\n",
      " |      :math:`M_k` the molecular weight of species :math:`k`, and :math:`Y_k`\n",
      " |      the mass fraction of species :math:`k`.\n",
      " |      \n",
      " |      :param m:\n",
      " |          Base element, may be specified by name or by index.\n",
      " |      \n",
      " |      >>> phase.elemental_mass_fraction('H')\n",
      " |      1.0\n",
      " |  \n",
      " |  elemental_mole_fraction(...)\n",
      " |      ThermoPhase.elemental_mole_fraction(self, m)\n",
      " |      \n",
      " |      Get the elemental mole fraction :math:`Z_{\\mathrm{mole},m}` of element\n",
      " |      :math:`m` (the number of atoms of element m divided by the total number\n",
      " |      of atoms) as defined by:\n",
      " |      \n",
      " |      .. math:: Z_{\\mathrm{mole},m} = \\frac{\\sum_k a_{m,k} X_k}\n",
      " |                                           {\\sum_k \\sum_j a_{j,k} X_k}\n",
      " |      \n",
      " |      with :math:`a_{m,k}` being the number of atoms of element :math:`m` in\n",
      " |      species :math:`k`, :math:`\\sum_j` being a sum over all elements, and\n",
      " |      :math:`X_k` being the mole fraction of species :math:`k`.\n",
      " |      \n",
      " |      :param m:\n",
      " |          Base element, may be specified by name or by index.\n",
      " |      \n",
      " |      >>> phase.elemental_mole_fraction('H')\n",
      " |      1.0\n",
      " |  \n",
      " |  equilibrate(...)\n",
      " |      ThermoPhase.equilibrate(self, XY, solver='auto', double rtol=1e-9, int maxsteps=1000, int maxiter=100, int estimate_equil=0, int loglevel=0)\n",
      " |      \n",
      " |      Set to a state of chemical equilibrium holding property pair\n",
      " |      *XY* constant.\n",
      " |      \n",
      " |      :param XY:\n",
      " |          A two-letter string, which must be one of the set::\n",
      " |      \n",
      " |              ['TP','TV','HP','SP','SV','UV']\n",
      " |      \n",
      " |      :param solver:\n",
      " |          Specifies the equilibrium solver to use. May be one of the following:\n",
      " |      \n",
      " |          * ''element_potential'' - a fast solver using the element potential\n",
      " |            method\n",
      " |          * 'gibbs' - a slower but more robust Gibbs minimization solver\n",
      " |          * 'vcs' - the VCS non-ideal equilibrium solver\n",
      " |          * \"auto\" - The element potential solver will be tried first, then\n",
      " |            if it fails the Gibbs solver will be tried.\n",
      " |      :param rtol:\n",
      " |          the relative error tolerance.\n",
      " |      :param maxsteps:\n",
      " |          maximum number of steps in composition to take to find a converged\n",
      " |          solution.\n",
      " |      :param maxiter:\n",
      " |          For the Gibbs minimization solver, this specifies the number of\n",
      " |          'outer' iterations on T or P when some property pair other\n",
      " |          than TP is specified.\n",
      " |      :param estimate_equil:\n",
      " |          Integer indicating whether the solver should estimate its own\n",
      " |          initial condition. If 0, the initial mole fraction vector in the\n",
      " |          ThermoPhase object is used as the initial condition. If 1, the\n",
      " |          initial mole fraction vector is used if the element abundances are\n",
      " |          satisfied. If -1, the initial mole fraction vector is thrown out,\n",
      " |          and an estimate is formulated.\n",
      " |      :param loglevel:\n",
      " |          Set to a value > 0 to write diagnostic output.\n",
      " |  \n",
      " |  get_equivalence_ratio(...)\n",
      " |      ThermoPhase.get_equivalence_ratio(self, oxidizers=[], ignore=[])\n",
      " |      \n",
      " |      Get the composition of a fuel/oxidizer mixture. This gives the\n",
      " |      equivalence ratio of an unburned mixture. This is not a quantity that is\n",
      " |      conserved after oxidation. Considers the oxidation of C to CO2, H to H2O\n",
      " |      and S to SO2. Other elements are assumed not to participate in oxidation\n",
      " |      (i.e. N ends up as N2).\n",
      " |      \n",
      " |      :param oxidizers:\n",
      " |          List of oxidizer species names as strings. Default: with\n",
      " |          ``oxidizers=[]``, every species that contains O but does not contain\n",
      " |          H, C, or S is considered to be an oxidizer.\n",
      " |      :param ignore:\n",
      " |          List of species names as strings to ignore.\n",
      " |      \n",
      " |      >>> gas.set_equivalence_ratio(0.5, 'CH3:0.5, CH3OH:.5, N2:0.125', 'O2:0.21, N2:0.79, NO:0.01')\n",
      " |      >>> gas.get_equivalence_ratio()\n",
      " |      0.50000000000000011\n",
      " |      >>> gas.get_equivalence_ratio(['O2'])  # Only consider O2 as the oxidizer instead of O2 and NO\n",
      " |      0.48809523809523814\n",
      " |      >>> gas.X = 'CH4:1, O2:2, NO:0.1'\n",
      " |      >>> gas.get_equivalence_ratio(ignore=['NO'])\n",
      " |      1.0\n",
      " |  \n",
      " |  mass_fraction_dict(...)\n",
      " |      ThermoPhase.mass_fraction_dict(self, double threshold=0.0)\n",
      " |  \n",
      " |  modify_species(...)\n",
      " |      ThermoPhase.modify_species(self, k, Species species)\n",
      " |  \n",
      " |  mole_fraction_dict(...)\n",
      " |      ThermoPhase.mole_fraction_dict(self, double threshold=0.0)\n",
      " |  \n",
      " |  n_atoms(...)\n",
      " |      ThermoPhase.n_atoms(self, species, element)\n",
      " |      \n",
      " |      Number of atoms of element *element* in species *species*. The element\n",
      " |      and species may be specified by name or by index.\n",
      " |      \n",
      " |      >>> phase.n_atoms('CH4','H')\n",
      " |      4\n",
      " |  \n",
      " |  report(...)\n",
      " |      ThermoPhase.report(self, show_thermo=True, float threshold=1e-14)\n",
      " |      \n",
      " |      Generate a report describing the thermodynamic state of this phase. To\n",
      " |      print the report to the terminal, simply call the phase object. The\n",
      " |      following two statements are equivalent::\n",
      " |      \n",
      " |      >>> phase()\n",
      " |      >>> print(phase.report())\n",
      " |  \n",
      " |  set_equivalence_ratio(...)\n",
      " |      ThermoPhase.set_equivalence_ratio(self, phi, fuel, oxidizer)\n",
      " |      \n",
      " |      Set the composition to a mixture of *fuel* and *oxidizer* at the\n",
      " |      specified equivalence ratio *phi*, holding temperature and pressure\n",
      " |      constant. Considers the oxidation of C to CO2, H to H2O and S to SO2.\n",
      " |      Other elements are assumed not to participate in oxidation (i.e. N ends up as\n",
      " |      N2)::\n",
      " |      \n",
      " |          >>> gas.set_equivalence_ratio(0.5, 'CH4', 'O2:1.0, N2:3.76')\n",
      " |          >>> gas.mole_fraction_dict()\n",
      " |          {'CH4': 0.049900199, 'N2': 0.750499001, 'O2': 0.199600798}\n",
      " |      \n",
      " |          >>> gas.set_equivalence_ratio(1.2, {'NH3;:0.8, 'CO':0.2}, 'O2:1.0')\n",
      " |          >>> gas.mole_fraction_dict()\n",
      " |          {'CO': 0.1263157894, 'NH3': 0.505263157, 'O2': 0.36842105}\n",
      " |      \n",
      " |      :param phi: Equivalence ratio\n",
      " |      :param fuel:\n",
      " |          Fuel species name or molar composition as string, array, or dict.\n",
      " |      :param oxidizer:\n",
      " |          Oxidizer species name or molar composition as a string, array, or\n",
      " |          dict.\n",
      " |  \n",
      " |  set_unnormalized_mass_fractions(...)\n",
      " |      ThermoPhase.set_unnormalized_mass_fractions(self, Y)\n",
      " |      \n",
      " |      Set the mass fractions without normalizing to force sum(Y) == 1.0.\n",
      " |      Useful primarily when calculating derivatives with respect to Y[k] by\n",
      " |      finite difference.\n",
      " |  \n",
      " |  set_unnormalized_mole_fractions(...)\n",
      " |      ThermoPhase.set_unnormalized_mole_fractions(self, X)\n",
      " |      \n",
      " |      Set the mole fractions without normalizing to force sum(X) == 1.0.\n",
      " |      Useful primarily when calculating derivatives with respect to X[k]\n",
      " |      by finite difference.\n",
      " |  \n",
      " |  species(...)\n",
      " |      ThermoPhase.species(self, k=None)\n",
      " |      \n",
      " |      Return the `Species` object for species *k*, where *k* is either the\n",
      " |      species index or the species name. If *k* is not specified, a list of\n",
      " |      all species objects is returned. Changes to this object do not affect\n",
      " |      the `ThermoPhase` or `Solution` object until the `modify_species`\n",
      " |      function is called.\n",
      " |  \n",
      " |  species_index(...)\n",
      " |      ThermoPhase.species_index(self, species) -> int\n",
      " |      \n",
      " |      The index of species *species*, which may be specified as a string or\n",
      " |      an integer. In the latter case, the index is checked for validity and\n",
      " |      returned. If no such species is present, an exception is thrown.\n",
      " |  \n",
      " |  species_name(...)\n",
      " |      ThermoPhase.species_name(self, k)\n",
      " |      Name of the species with index *k*.\n",
      " |  \n",
      " |  ----------------------------------------------------------------------\n",
      " |  Static methods inherited from cantera._cantera.ThermoPhase:\n",
      " |  \n",
      " |  __new__(*args, **kwargs) from builtins.type\n",
      " |      Create and return a new object.  See help(type) for accurate signature.\n",
      " |  \n",
      " |  ----------------------------------------------------------------------\n",
      " |  Data descriptors inherited from cantera._cantera.ThermoPhase:\n",
      " |  \n",
      " |  DP\n",
      " |      Get/Set density [kg/m^3] and pressure [Pa].\n",
      " |  \n",
      " |  DPX\n",
      " |      Get/Set density [kg/m^3], pressure [Pa], and mole fractions.\n",
      " |  \n",
      " |  DPY\n",
      " |      Get/Set density [kg/m^3], pressure [Pa], and mass fractions.\n",
      " |  \n",
      " |  HP\n",
      " |      Get/Set enthalpy [J/kg or J/kmol] and pressure [Pa].\n",
      " |  \n",
      " |  HPX\n",
      " |      Get/Set enthalpy [J/kg or J/kmol], pressure [Pa] and mole fractions.\n",
      " |  \n",
      " |  HPY\n",
      " |      Get/Set enthalpy [J/kg or J/kmol], pressure [Pa] and mass fractions.\n",
      " |  \n",
      " |  ID\n",
      " |      The ID of the phase. The default is taken from the CTI/XML input file.\n",
      " |  \n",
      " |  P\n",
      " |      Pressure [Pa].\n",
      " |  \n",
      " |  P_sat\n",
      " |      Saturation pressure [Pa] at the current temperature.\n",
      " |  \n",
      " |  SP\n",
      " |      Get/Set entropy [J/kg/K or J/kmol/K] and pressure [Pa].\n",
      " |  \n",
      " |  SPX\n",
      " |      Get/Set entropy [J/kg/K or J/kmol/K], pressure [Pa], and mole fractions.\n",
      " |  \n",
      " |  SPY\n",
      " |      Get/Set entropy [J/kg/K or J/kmol/K], pressure [Pa], and mass fractions.\n",
      " |  \n",
      " |  SV\n",
      " |      Get/Set entropy [J/kg/K or J/kmol/K] and specific volume [m^3/kg or\n",
      " |      m^3/kmol].\n",
      " |  \n",
      " |  SVX\n",
      " |      Get/Set entropy [J/kg/K or J/kmol/K], specific volume [m^3/kg or\n",
      " |      m^3/kmol], and mole fractions.\n",
      " |  \n",
      " |  SVY\n",
      " |      Get/Set entropy [J/kg/K or J/kmol/K], specific volume [m^3/kg or\n",
      " |      m^3/kmol], and mass fractions.\n",
      " |  \n",
      " |  T\n",
      " |      Temperature [K].\n",
      " |  \n",
      " |  TD\n",
      " |      Get/Set temperature [K] and density [kg/m^3 or kmol/m^3].\n",
      " |  \n",
      " |  TDX\n",
      " |      Get/Set temperature [K], density [kg/m^3 or kmol/m^3], and mole\n",
      " |      fractions.\n",
      " |  \n",
      " |  TDY\n",
      " |      Get/Set temperature [K] and density [kg/m^3 or kmol/m^3], and mass\n",
      " |      fractions.\n",
      " |  \n",
      " |  TP\n",
      " |      Get/Set temperature [K] and pressure [Pa].\n",
      " |  \n",
      " |  TPX\n",
      " |      Get/Set temperature [K], pressure [Pa], and mole fractions.\n",
      " |  \n",
      " |  TPY\n",
      " |      Get/Set temperature [K], pressure [Pa], and mass fractions.\n",
      " |  \n",
      " |  T_sat\n",
      " |      Saturation temperature [K] at the current pressure.\n",
      " |  \n",
      " |  UV\n",
      " |      Get/Set internal energy [J/kg or J/kmol] and specific volume\n",
      " |      [m^3/kg or m^3/kmol].\n",
      " |  \n",
      " |  UVX\n",
      " |      Get/Set internal energy [J/kg or J/kmol], specific volume\n",
      " |      [m^3/kg or m^3/kmol], and mole fractions.\n",
      " |  \n",
      " |  UVY\n",
      " |      Get/Set internal energy [J/kg or J/kmol], specific volume\n",
      " |      [m^3/kg or m^3/kmol], and mass fractions.\n",
      " |  \n",
      " |  X\n",
      " |      Get/Set the species mole fractions. Can be set as an array, as a dictionary,\n",
      " |      or as a string. Always returns an array::\n",
      " |      \n",
      " |          >>> phase.X = [0.1, 0, 0, 0.4, 0, 0, 0, 0, 0.5]\n",
      " |          >>> phase.X = {'H2':0.1, 'O2':0.4, 'AR':0.5}\n",
      " |          >>> phase.X = 'H2:0.1, O2:0.4, AR:0.5'\n",
      " |          >>> phase.X\n",
      " |          array([0.1, 0, 0, 0.4, 0, 0, 0, 0, 0.5])\n",
      " |  \n",
      " |  Y\n",
      " |      Get/Set the species mass fractions. Can be set as an array, as a dictionary,\n",
      " |      or as a string. Always returns an array::\n",
      " |      \n",
      " |          >>> phase.Y = [0.1, 0, 0, 0.4, 0, 0, 0, 0, 0.5]\n",
      " |          >>> phase.Y = {'H2':0.1, 'O2':0.4, 'AR':0.5}\n",
      " |          >>> phase.Y = 'H2:0.1, O2:0.4, AR:0.5'\n",
      " |          >>> phase.Y\n",
      " |          array([0.1, 0, 0, 0.4, 0, 0, 0, 0, 0.5])\n",
      " |  \n",
      " |  activities\n",
      " |      Array of nondimensional activities. Returns either molar or molal\n",
      " |      activities depending on the convention of the thermodynamic model.\n",
      " |  \n",
      " |  activity_coefficients\n",
      " |      Array of nondimensional, molar activity coefficients.\n",
      " |  \n",
      " |  atomic_weights\n",
      " |      Array of atomic weight [kg/kmol] for each element in the mixture.\n",
      " |  \n",
      " |  basis\n",
      " |      Determines whether intensive thermodynamic properties are treated on a\n",
      " |      `mass` (per kg) or `molar` (per kmol) basis. This affects the values\n",
      " |      returned by the properties `h`, `u`, `s`, `g`, `v`, `density`, `cv`,\n",
      " |      and `cp`, as well as the values used with the state-setting properties\n",
      " |      such as `HPX` and `UV`.\n",
      " |  \n",
      " |  chemical_potentials\n",
      " |      Array of species chemical potentials [J/kmol].\n",
      " |  \n",
      " |  concentrations\n",
      " |      Get/Set the species concentrations [kmol/m^3].\n",
      " |  \n",
      " |  cp\n",
      " |      Heat capacity at constant pressure [J/kg/K or J/kmol/K] depending\n",
      " |      on `basis`.\n",
      " |  \n",
      " |  cp_mass\n",
      " |      Specific heat capacity at constant pressure [J/kg/K].\n",
      " |  \n",
      " |  cp_mole\n",
      " |      Molar heat capacity at constant pressure [J/kmol/K].\n",
      " |  \n",
      " |  critical_density\n",
      " |      Critical density [kg/m^3 or kmol/m^3] depending on `basis`.\n",
      " |  \n",
      " |  critical_pressure\n",
      " |      Critical pressure [Pa].\n",
      " |  \n",
      " |  critical_temperature\n",
      " |      Critical temperature [K].\n",
      " |  \n",
      " |  cv\n",
      " |      Heat capacity at constant volume [J/kg/K or J/kmol/K] depending on\n",
      " |      `basis`.\n",
      " |  \n",
      " |  cv_mass\n",
      " |      Specific heat capacity at constant volume [J/kg/K].\n",
      " |  \n",
      " |  cv_mole\n",
      " |      Molar heat capacity at constant volume [J/kmol/K].\n",
      " |  \n",
      " |  density\n",
      " |      Density [kg/m^3 or kmol/m^3] depending on `basis`.\n",
      " |  \n",
      " |  density_mass\n",
      " |      (Mass) density [kg/m^3].\n",
      " |  \n",
      " |  density_mole\n",
      " |      Molar density [kmol/m^3].\n",
      " |  \n",
      " |  electric_potential\n",
      " |      Get/Set the electric potential [V] for this phase.\n",
      " |  \n",
      " |  electrochemical_potentials\n",
      " |      Array of species electrochemical potentials [J/kmol].\n",
      " |  \n",
      " |  element_names\n",
      " |      A list of all the element names.\n",
      " |  \n",
      " |  enthalpy_mass\n",
      " |      Specific enthalpy [J/kg].\n",
      " |  \n",
      " |  enthalpy_mole\n",
      " |      Molar enthalpy [J/kmol].\n",
      " |  \n",
      " |  entropy_mass\n",
      " |      Specific entropy [J/kg].\n",
      " |  \n",
      " |  entropy_mole\n",
      " |      Molar entropy [J/kmol/K].\n",
      " |  \n",
      " |  g\n",
      " |      Gibbs free energy [J/kg or J/kmol] depending on `basis`.\n",
      " |  \n",
      " |  gibbs_mass\n",
      " |      Specific Gibbs free energy [J/kg].\n",
      " |  \n",
      " |  gibbs_mole\n",
      " |      Molar Gibbs free energy [J/kmol].\n",
      " |  \n",
      " |  h\n",
      " |      Enthalpy [J/kg or J/kmol] depending on `basis`.\n",
      " |  \n",
      " |  int_energy_mass\n",
      " |      Specific internal energy [J/kg].\n",
      " |  \n",
      " |  int_energy_mole\n",
      " |      Molar internal energy [J/kmol].\n",
      " |  \n",
      " |  isothermal_compressibility\n",
      " |      Isothermal compressibility [1/Pa].\n",
      " |  \n",
      " |  max_temp\n",
      " |      Maximum temperature for which the thermodynamic data for the phase are\n",
      " |      valid.\n",
      " |  \n",
      " |  mean_molecular_weight\n",
      " |      The mean molecular weight (molar mass) [kg/kmol].\n",
      " |  \n",
      " |  min_temp\n",
      " |      Minimum temperature for which the thermodynamic data for the phase are\n",
      " |      valid.\n",
      " |  \n",
      " |  molecular_weights\n",
      " |      Array of species molecular weights (molar masses) [kg/kmol].\n",
      " |  \n",
      " |  n_elements\n",
      " |      Number of elements.\n",
      " |  \n",
      " |  n_selected_species\n",
      " |      Number of species selected for output (by slicing of Solution object)\n",
      " |  \n",
      " |  n_species\n",
      " |      Number of species.\n",
      " |  \n",
      " |  name\n",
      " |      The name assigned to this phase. The default is taken from the CTI/XML\n",
      " |      input file.\n",
      " |  \n",
      " |  partial_molar_cp\n",
      " |      Array of species partial molar specific heat capacities at constant\n",
      " |      pressure [J/kmol/K].\n",
      " |  \n",
      " |  partial_molar_enthalpies\n",
      " |      Array of species partial molar enthalpies [J/kmol].\n",
      " |  \n",
      " |  partial_molar_entropies\n",
      " |      Array of species partial molar entropies [J/kmol/K].\n",
      " |  \n",
      " |  partial_molar_int_energies\n",
      " |      Array of species partial molar internal energies [J/kmol].\n",
      " |  \n",
      " |  partial_molar_volumes\n",
      " |      Array of species partial molar volumes [m^3/kmol].\n",
      " |  \n",
      " |  reference_pressure\n",
      " |      Reference state pressure [Pa].\n",
      " |  \n",
      " |  s\n",
      " |      Entropy [J/kg/K or J/kmol/K] depending on `basis`.\n",
      " |  \n",
      " |  species_names\n",
      " |      A list of all the species names.\n",
      " |  \n",
      " |  standard_cp_R\n",
      " |      Array of nondimensional species standard-state specific heat capacities\n",
      " |      at constant pressure at the current temperature and pressure.\n",
      " |  \n",
      " |  standard_enthalpies_RT\n",
      " |      Array of nondimensional species standard-state enthalpies at the\n",
      " |      current temperature and pressure.\n",
      " |  \n",
      " |  standard_entropies_R\n",
      " |      Array of nondimensional species standard-state entropies at the\n",
      " |      current temperature and pressure.\n",
      " |  \n",
      " |  standard_gibbs_RT\n",
      " |      Array of nondimensional species standard-state Gibbs free energies at\n",
      " |      the current temperature and pressure.\n",
      " |  \n",
      " |  standard_int_energies_RT\n",
      " |      Array of nondimensional species standard-state internal energies at the\n",
      " |      current temperature and pressure.\n",
      " |  \n",
      " |  state\n",
      " |      Get/Set the full thermodynamic state as a single array, arranged as\n",
      " |      [temperature, density, mass fractions] for most phases. Useful mainly\n",
      " |      in cases where it is desired to store many states in a multidimensional\n",
      " |      array.\n",
      " |  \n",
      " |  thermal_expansion_coeff\n",
      " |      Thermal expansion coefficient [1/K].\n",
      " |  \n",
      " |  u\n",
      " |      Internal energy in [J/kg or J/kmol].\n",
      " |  \n",
      " |  v\n",
      " |      Specific volume [m^3/kg or m^3/kmol] depending on `basis`.\n",
      " |  \n",
      " |  volume_mass\n",
      " |      Specific volume [m^3/kg].\n",
      " |  \n",
      " |  volume_mole\n",
      " |      Molar volume [m^3/kmol].\n",
      " |  \n",
      " |  ----------------------------------------------------------------------\n",
      " |  Data and other attributes inherited from cantera._cantera.ThermoPhase:\n",
      " |  \n",
      " |  __pyx_vtable__ = <capsule object NULL>\n",
      " |  \n",
      " |  ----------------------------------------------------------------------\n",
      " |  Methods inherited from cantera._cantera.Kinetics:\n",
      " |  \n",
      " |  add_reaction(...)\n",
      " |      Kinetics.add_reaction(self, Reaction rxn)\n",
      " |      Add a new reaction to this phase.\n",
      " |  \n",
      " |  is_reversible(...)\n",
      " |      Kinetics.is_reversible(self, int i_reaction)\n",
      " |      True if reaction `i_reaction` is reversible.\n",
      " |  \n",
      " |  kinetics_species_index(...)\n",
      " |      Kinetics.kinetics_species_index(self, species, int phase=0)\n",
      " |      \n",
      " |      The index of species *species* of phase *phase* within arrays returned\n",
      " |      by methods of class `Kinetics`. If *species* is a string, the *phase*\n",
      " |      argument is unused.\n",
      " |  \n",
      " |  modify_reaction(...)\n",
      " |      Kinetics.modify_reaction(self, int irxn, Reaction rxn)\n",
      " |      \n",
      " |      Modify the `Reaction` with index ``irxn`` to have the same rate\n",
      " |      parameters as ``rxn``. ``rxn`` must have the same reactants and products\n",
      " |      and be of the same type (i.e. `ElementaryReaction`, `FalloffReaction`,\n",
      " |      `PlogReaction`, etc.) as the existing reaction. This method does not\n",
      " |      modify the third-body efficiencies, reaction orders, or reversibility of\n",
      " |      the reaction.\n",
      " |  \n",
      " |  multiplier(...)\n",
      " |      Kinetics.multiplier(self, int i_reaction)\n",
      " |      \n",
      " |      A scaling factor applied to the rate coefficient for reaction\n",
      " |      *i_reaction*. Can be used to carry out sensitivity analysis or to\n",
      " |      selectively disable a particular reaction. See `set_multiplier`.\n",
      " |  \n",
      " |  product_stoich_coeff(...)\n",
      " |      Kinetics.product_stoich_coeff(self, k_spec, int i_reaction)\n",
      " |      \n",
      " |      The stoichiometric coefficient of species *k_spec* as a product in\n",
      " |      reaction *i_reaction*.\n",
      " |  \n",
      " |  product_stoich_coeffs(...)\n",
      " |      Kinetics.product_stoich_coeffs(self)\n",
      " |      \n",
      " |      The array of product stoichiometric coefficients. Element *[k,i]* of\n",
      " |      this array is the product stoichiometric coefficient of species *k* in\n",
      " |      reaction *i*.\n",
      " |  \n",
      " |  products(...)\n",
      " |      Kinetics.products(self, int i_reaction)\n",
      " |      The products portion of the reaction equation\n",
      " |  \n",
      " |  reactant_stoich_coeff(...)\n",
      " |      Kinetics.reactant_stoich_coeff(self, k_spec, int i_reaction)\n",
      " |      \n",
      " |      The stoichiometric coefficient of species *k_spec* as a reactant in\n",
      " |      reaction *i_reaction*.\n",
      " |  \n",
      " |  reactant_stoich_coeffs(...)\n",
      " |      Kinetics.reactant_stoich_coeffs(self)\n",
      " |      \n",
      " |      The array of reactant stoichiometric coefficients. Element *[k,i]* of\n",
      " |      this array is the reactant stoichiometric coefficient of species *k* in\n",
      " |      reaction *i*.\n",
      " |  \n",
      " |  reactants(...)\n",
      " |      Kinetics.reactants(self, int i_reaction)\n",
      " |      The reactants portion of the reaction equation\n",
      " |  \n",
      " |  reaction(...)\n",
      " |      Kinetics.reaction(self, int i_reaction)\n",
      " |      \n",
      " |      Return a `Reaction` object representing the reaction with index\n",
      " |      ``i_reaction``. Changes to this object do not affect the `Kinetics` or\n",
      " |      `Solution` object until the `modify_reaction` function is called.\n",
      " |  \n",
      " |  reaction_equation(...)\n",
      " |      Kinetics.reaction_equation(self, int i_reaction)\n",
      " |      The equation for the specified reaction. See also `reaction_equations`.\n",
      " |  \n",
      " |  reaction_equations(...)\n",
      " |      Kinetics.reaction_equations(self, indices=None)\n",
      " |      \n",
      " |      Returns a list containing the reaction equation for all reactions in the\n",
      " |      mechanism (if *indices* is unspecified) or the equations for each\n",
      " |      reaction in the sequence *indices*. For example::\n",
      " |      \n",
      " |          >>> gas.reaction_equations()\n",
      " |          ['2 O + M <=> O2 + M', 'O + H + M <=> OH + M', 'O + H2 <=> H + OH', ...]\n",
      " |          >>> gas.reaction_equations([2,3])\n",
      " |          ['O + H + M <=> OH + M', 'O + H2 <=> H + OH']\n",
      " |      \n",
      " |      See also `reaction_equation`.\n",
      " |  \n",
      " |  reaction_type(...)\n",
      " |      Kinetics.reaction_type(self, int i_reaction)\n",
      " |      Type of reaction *i_reaction*.\n",
      " |  \n",
      " |  reactions(...)\n",
      " |      Kinetics.reactions(self)\n",
      " |      \n",
      " |      Return a list of all `Reaction` objects. Changes to these objects do not\n",
      " |      affect the `Kinetics` or `Solution` object until the `modify_reaction`\n",
      " |      function is called.\n",
      " |  \n",
      " |  set_multiplier(...)\n",
      " |      Kinetics.set_multiplier(self, double value, int i_reaction=-1)\n",
      " |      \n",
      " |      Set the multiplier for for reaction *i_reaction* to *value*.\n",
      " |      If *i_reaction* is not specified, then the multiplier for all reactions\n",
      " |      is set to *value*. See `multiplier`.\n",
      " |  \n",
      " |  ----------------------------------------------------------------------\n",
      " |  Data descriptors inherited from cantera._cantera.Kinetics:\n",
      " |  \n",
      " |  creation_rates\n",
      " |      Creation rates for each species. [kmol/m^3/s] for bulk phases or\n",
      " |      [kmol/m^2/s] for surface phases.\n",
      " |  \n",
      " |  delta_enthalpy\n",
      " |      Change in enthalpy for each reaction [J/kmol].\n",
      " |  \n",
      " |  delta_entropy\n",
      " |      Change in entropy for each reaction [J/kmol/K].\n",
      " |  \n",
      " |  delta_gibbs\n",
      " |      Change in Gibbs free energy for each reaction [J/kmol].\n",
      " |  \n",
      " |  delta_standard_enthalpy\n",
      " |      Change in standard-state enthalpy (independent of composition) for\n",
      " |      each reaction [J/kmol].\n",
      " |  \n",
      " |  delta_standard_entropy\n",
      " |      Change in standard-state entropy (independent of composition) for\n",
      " |      each reaction [J/kmol/K].\n",
      " |  \n",
      " |  delta_standard_gibbs\n",
      " |      Change in standard-state Gibbs free energy (independent of composition)\n",
      " |      for each reaction [J/kmol].\n",
      " |  \n",
      " |  destruction_rates\n",
      " |      Destruction rates for each species. [kmol/m^3/s] for bulk phases or\n",
      " |      [kmol/m^2/s] for surface phases.\n",
      " |  \n",
      " |  equilibrium_constants\n",
      " |      Equilibrium constants in concentration units for all reactions.\n",
      " |  \n",
      " |  forward_rate_constants\n",
      " |      Forward rate constants for all reactions. The computed values include\n",
      " |      all temperature-dependent, pressure-dependent, and third body\n",
      " |      contributions. Units are a combination of kmol, m^3 and s, that depend\n",
      " |      on the rate expression for the reaction.\n",
      " |  \n",
      " |  forward_rates_of_progress\n",
      " |      Forward rates of progress for the reactions. [kmol/m^3/s] for bulk\n",
      " |      phases or [kmol/m^2/s] for surface phases.\n",
      " |  \n",
      " |  n_phases\n",
      " |      Number of phases in the reaction mechanism.\n",
      " |  \n",
      " |  n_reactions\n",
      " |      Number of reactions in the reaction mechanism.\n",
      " |  \n",
      " |  n_total_species\n",
      " |      Total number of species in all phases participating in the kinetics\n",
      " |      mechanism.\n",
      " |  \n",
      " |  net_production_rates\n",
      " |      Net production rates for each species. [kmol/m^3/s] for bulk phases or\n",
      " |      [kmol/m^2/s] for surface phases.\n",
      " |  \n",
      " |  net_rates_of_progress\n",
      " |      Net rates of progress for the reactions. [kmol/m^3/s] for bulk phases\n",
      " |      or [kmol/m^2/s] for surface phases.\n",
      " |  \n",
      " |  reaction_phase_index\n",
      " |      The index of the phase where the reactions occur.\n",
      " |  \n",
      " |  reverse_rate_constants\n",
      " |      Reverse rate constants for all reactions. The computed values include\n",
      " |      all temperature-dependent, pressure-dependent, and third body\n",
      " |      contributions. Units are a combination of kmol, m^3 and s, that depend\n",
      " |      on the rate expression for the reaction.\n",
      " |  \n",
      " |  reverse_rates_of_progress\n",
      " |      Reverse rates of progress for the reactions. [kmol/m^3/s] for bulk\n",
      " |      phases or [kmol/m^2/s] for surface phases.\n",
      " |  \n",
      " |  ----------------------------------------------------------------------\n",
      " |  Data descriptors inherited from cantera._cantera.Transport:\n",
      " |  \n",
      " |  binary_diff_coeffs\n",
      " |      Binary diffusion coefficients [m^2/s].\n",
      " |  \n",
      " |  electrical_conductivity\n",
      " |      Electrical conductivity. [S/m].\n",
      " |  \n",
      " |  mix_diff_coeffs\n",
      " |      Mixture-averaged diffusion coefficients [m^2/s] relating the\n",
      " |      mass-averaged diffusive fluxes (with respect to the mass averaged\n",
      " |      velocity) to gradients in the species mole fractions.\n",
      " |  \n",
      " |  mix_diff_coeffs_mass\n",
      " |      Mixture-averaged diffusion coefficients [m^2/s] relating the\n",
      " |      diffusive mass fluxes to gradients in the species mass fractions.\n",
      " |  \n",
      " |  mix_diff_coeffs_mole\n",
      " |      Mixture-averaged diffusion coefficients [m^2/s] relating the\n",
      " |      molar diffusive fluxes to gradients in the species mole fractions.\n",
      " |  \n",
      " |  multi_diff_coeffs\n",
      " |      Multicomponent diffusion coefficients [m^2/s].\n",
      " |  \n",
      " |  species_viscosities\n",
      " |      Pure species viscosities [Pa-s]\n",
      " |  \n",
      " |  thermal_conductivity\n",
      " |      Thermal conductivity. [W/m/K].\n",
      " |  \n",
      " |  thermal_diff_coeffs\n",
      " |      Return a one-dimensional array of the species thermal diffusion\n",
      " |      coefficients [kg/m/s].\n",
      " |  \n",
      " |  transport_model\n",
      " |      Get/Set the transport model associated with this transport model.\n",
      " |      \n",
      " |      Setting a new transport model deletes the underlying C++ Transport\n",
      " |      object and replaces it with a new one implementing the specified model.\n",
      " |  \n",
      " |  viscosity\n",
      " |      Viscosity [Pa-s].\n",
      " |  \n",
      " |  ----------------------------------------------------------------------\n",
      " |  Methods inherited from cantera._cantera._SolutionBase:\n",
      " |  \n",
      " |  __copy__(...)\n",
      " |      _SolutionBase.__copy__(self)\n",
      " |  \n",
      " |  __getitem__(self, key, /)\n",
      " |      Return self[key].\n",
      " |  \n",
      " |  __reduce__(...)\n",
      " |      _SolutionBase.__reduce__(self)\n",
      " |  \n",
      " |  ----------------------------------------------------------------------\n",
      " |  Data descriptors inherited from cantera._cantera._SolutionBase:\n",
      " |  \n",
      " |  selected_species\n",
      "\n"
     ]
    }
   ],
   "source": [
    "help(gas1)"
   ]
  },
  {
   "cell_type": "code",
   "execution_count": 70,
   "metadata": {},
   "outputs": [
    {
     "name": "stdout",
     "output_type": "stream",
     "text": [
      "Help on built-in function species_index:\n",
      "\n",
      "species_index(...) method of cantera.composite.Solution instance\n",
      "    ThermoPhase.species_index(self, species) -> int\n",
      "    \n",
      "    The index of species *species*, which may be specified as a string or\n",
      "    an integer. In the latter case, the index is checked for validity and\n",
      "    returned. If no such species is present, an exception is thrown.\n",
      "\n"
     ]
    }
   ],
   "source": [
    "help(gas1.species_index)"
   ]
  },
  {
   "cell_type": "code",
   "execution_count": 71,
   "metadata": {},
   "outputs": [
    {
     "name": "stdout",
     "output_type": "stream",
     "text": [
      "Help on float object:\n",
      "\n",
      "class float(object)\n",
      " |  float(x=0, /)\n",
      " |  \n",
      " |  Convert a string or number to a floating point number, if possible.\n",
      " |  \n",
      " |  Methods defined here:\n",
      " |  \n",
      " |  __abs__(self, /)\n",
      " |      abs(self)\n",
      " |  \n",
      " |  __add__(self, value, /)\n",
      " |      Return self+value.\n",
      " |  \n",
      " |  __bool__(self, /)\n",
      " |      self != 0\n",
      " |  \n",
      " |  __divmod__(self, value, /)\n",
      " |      Return divmod(self, value).\n",
      " |  \n",
      " |  __eq__(self, value, /)\n",
      " |      Return self==value.\n",
      " |  \n",
      " |  __float__(self, /)\n",
      " |      float(self)\n",
      " |  \n",
      " |  __floordiv__(self, value, /)\n",
      " |      Return self//value.\n",
      " |  \n",
      " |  __format__(self, format_spec, /)\n",
      " |      Formats the float according to format_spec.\n",
      " |  \n",
      " |  __ge__(self, value, /)\n",
      " |      Return self>=value.\n",
      " |  \n",
      " |  __getattribute__(self, name, /)\n",
      " |      Return getattr(self, name).\n",
      " |  \n",
      " |  __getnewargs__(self, /)\n",
      " |  \n",
      " |  __gt__(self, value, /)\n",
      " |      Return self>value.\n",
      " |  \n",
      " |  __hash__(self, /)\n",
      " |      Return hash(self).\n",
      " |  \n",
      " |  __int__(self, /)\n",
      " |      int(self)\n",
      " |  \n",
      " |  __le__(self, value, /)\n",
      " |      Return self<=value.\n",
      " |  \n",
      " |  __lt__(self, value, /)\n",
      " |      Return self<value.\n",
      " |  \n",
      " |  __mod__(self, value, /)\n",
      " |      Return self%value.\n",
      " |  \n",
      " |  __mul__(self, value, /)\n",
      " |      Return self*value.\n",
      " |  \n",
      " |  __ne__(self, value, /)\n",
      " |      Return self!=value.\n",
      " |  \n",
      " |  __neg__(self, /)\n",
      " |      -self\n",
      " |  \n",
      " |  __pos__(self, /)\n",
      " |      +self\n",
      " |  \n",
      " |  __pow__(self, value, mod=None, /)\n",
      " |      Return pow(self, value, mod).\n",
      " |  \n",
      " |  __radd__(self, value, /)\n",
      " |      Return value+self.\n",
      " |  \n",
      " |  __rdivmod__(self, value, /)\n",
      " |      Return divmod(value, self).\n",
      " |  \n",
      " |  __repr__(self, /)\n",
      " |      Return repr(self).\n",
      " |  \n",
      " |  __rfloordiv__(self, value, /)\n",
      " |      Return value//self.\n",
      " |  \n",
      " |  __rmod__(self, value, /)\n",
      " |      Return value%self.\n",
      " |  \n",
      " |  __rmul__(self, value, /)\n",
      " |      Return value*self.\n",
      " |  \n",
      " |  __round__(self, ndigits=None, /)\n",
      " |      Return the Integral closest to x, rounding half toward even.\n",
      " |      \n",
      " |      When an argument is passed, work like built-in round(x, ndigits).\n",
      " |  \n",
      " |  __rpow__(self, value, mod=None, /)\n",
      " |      Return pow(value, self, mod).\n",
      " |  \n",
      " |  __rsub__(self, value, /)\n",
      " |      Return value-self.\n",
      " |  \n",
      " |  __rtruediv__(self, value, /)\n",
      " |      Return value/self.\n",
      " |  \n",
      " |  __str__(self, /)\n",
      " |      Return str(self).\n",
      " |  \n",
      " |  __sub__(self, value, /)\n",
      " |      Return self-value.\n",
      " |  \n",
      " |  __truediv__(self, value, /)\n",
      " |      Return self/value.\n",
      " |  \n",
      " |  __trunc__(self, /)\n",
      " |      Return the Integral closest to x between 0 and x.\n",
      " |  \n",
      " |  as_integer_ratio(self, /)\n",
      " |      Return integer ratio.\n",
      " |      \n",
      " |      Return a pair of integers, whose ratio is exactly equal to the original float\n",
      " |      and with a positive denominator.\n",
      " |      \n",
      " |      Raise OverflowError on infinities and a ValueError on NaNs.\n",
      " |      \n",
      " |      >>> (10.0).as_integer_ratio()\n",
      " |      (10, 1)\n",
      " |      >>> (0.0).as_integer_ratio()\n",
      " |      (0, 1)\n",
      " |      >>> (-.25).as_integer_ratio()\n",
      " |      (-1, 4)\n",
      " |  \n",
      " |  conjugate(self, /)\n",
      " |      Return self, the complex conjugate of any float.\n",
      " |  \n",
      " |  hex(self, /)\n",
      " |      Return a hexadecimal representation of a floating-point number.\n",
      " |      \n",
      " |      >>> (-0.1).hex()\n",
      " |      '-0x1.999999999999ap-4'\n",
      " |      >>> 3.14159.hex()\n",
      " |      '0x1.921f9f01b866ep+1'\n",
      " |  \n",
      " |  is_integer(self, /)\n",
      " |      Return True if the float is an integer.\n",
      " |  \n",
      " |  ----------------------------------------------------------------------\n",
      " |  Class methods defined here:\n",
      " |  \n",
      " |  __getformat__(typestr, /) from builtins.type\n",
      " |      You probably don't want to use this function.\n",
      " |      \n",
      " |        typestr\n",
      " |          Must be 'double' or 'float'.\n",
      " |      \n",
      " |      It exists mainly to be used in Python's test suite.\n",
      " |      \n",
      " |      This function returns whichever of 'unknown', 'IEEE, big-endian' or 'IEEE,\n",
      " |      little-endian' best describes the format of floating point numbers used by the\n",
      " |      C type named by typestr.\n",
      " |  \n",
      " |  __set_format__(typestr, fmt, /) from builtins.type\n",
      " |      You probably don't want to use this function.\n",
      " |      \n",
      " |        typestr\n",
      " |          Must be 'double' or 'float'.\n",
      " |        fmt\n",
      " |          Must be one of 'unknown', 'IEEE, big-endian' or 'IEEE, little-endian',\n",
      " |          and in addition can only be one of the latter two if it appears to\n",
      " |          match the underlying C reality.\n",
      " |      \n",
      " |      It exists mainly to be used in Python's test suite.\n",
      " |      \n",
      " |      Override the automatic determination of C-level floating point type.\n",
      " |      This affects how floats are converted to and from binary strings.\n",
      " |  \n",
      " |  fromhex(string, /) from builtins.type\n",
      " |      Create a floating-point number from a hexadecimal string.\n",
      " |      \n",
      " |      >>> float.fromhex('0x1.ffffp10')\n",
      " |      2047.984375\n",
      " |      >>> float.fromhex('-0x1p-1074')\n",
      " |      -5e-324\n",
      " |  \n",
      " |  ----------------------------------------------------------------------\n",
      " |  Static methods defined here:\n",
      " |  \n",
      " |  __new__(*args, **kwargs) from builtins.type\n",
      " |      Create and return a new object.  See help(type) for accurate signature.\n",
      " |  \n",
      " |  ----------------------------------------------------------------------\n",
      " |  Data descriptors defined here:\n",
      " |  \n",
      " |  imag\n",
      " |      the imaginary part of a complex number\n",
      " |  \n",
      " |  real\n",
      " |      the real part of a complex number\n",
      "\n"
     ]
    }
   ],
   "source": [
    "help(gas1.T)"
   ]
  },
  {
   "cell_type": "code",
   "execution_count": 72,
   "metadata": {},
   "outputs": [
    {
     "name": "stdout",
     "output_type": "stream",
     "text": [
      "Help on getset descriptor cantera._cantera.ThermoPhase.T:\n",
      "\n",
      "T\n",
      "    Temperature [K].\n",
      "\n"
     ]
    }
   ],
   "source": [
    "help(gas1.__class__.T)"
   ]
  },
  {
   "cell_type": "markdown",
   "metadata": {},
   "source": [
    "In subsequent tutorial Notebooks, a direct link to online documentation will be provided in most cases when a new Cantera attribute is introduced. For example, clicking on the following link will take you to the online Cantera documentation for the attribute [`species()`](https://cantera.org/documentation/docs-2.4/sphinx/html/cython/thermo.html#cantera.ThermoPhase.species). We also will look a bit deeper into different kinds of attributes and how to work with them: for example, why we need to use parentheses in some cases and square brackets in other cases."
   ]
  },
  {
   "cell_type": "markdown",
   "metadata": {},
   "source": [
    "## 7. What's next?"
   ]
  },
  {
   "cell_type": "markdown",
   "metadata": {},
   "source": [
    "In this Notebook, we have only scratched the surface with respect to what can be done using Cantera and the other packages. As we will see, Cantera can be used to solve many problems of interest that involve thermodynamics, chemical kinetics, and/or molecular transport. \n",
    "\n",
    "We will continue to use GRI-Mech 3.0 in many, but not all, of the subsequent tutorials. GRI-Mech 3.0 is one of the most widely established and used mechanisms for methane and natural gas (which is mostly methane) combustion, including the formation of oxides of nitrogen (NOx, a key regulated pollutant). However, we also will need to consider other fuels, for which different reaction mechanisms will be needed.\n",
    "\n",
    "Many examples will be provided in the subsequent tutorial Notebooks that parallel Turns 4th ed. Those will include examples that illustrate progressively more of the functionality of NumPy and Matplotlib, as well as examples using Pandas and SciPy: Pandas and SciPy have not been used in this Notebook. You may want to return to this Notebook from time to time to recall certain points as you progress through the book and the tutorials. \n",
    "\n",
    "Even so, the coverage will necessarily remain far from comprehensive. By the end of your study of Turns 4th ed., including the associated tutorial Notebooks, you should be well prepared for further study of combustion and advanced use of Cantera."
   ]
  },
  {
   "cell_type": "code",
   "execution_count": null,
   "metadata": {},
   "outputs": [],
   "source": []
  }
 ],
 "metadata": {
  "kernelspec": {
   "display_name": "Python 3 (ipykernel)",
   "language": "python",
   "name": "python3"
  },
  "language_info": {
   "codemirror_mode": {
    "name": "ipython",
    "version": 3
   },
   "file_extension": ".py",
   "mimetype": "text/x-python",
   "name": "python",
   "nbconvert_exporter": "python",
   "pygments_lexer": "ipython3",
   "version": "3.10.6"
  }
 },
 "nbformat": 4,
 "nbformat_minor": 2
}
