{
 "cells": [
  {
   "cell_type": "markdown",
   "metadata": {},
   "source": [
    "# NO Pathways\n",
    "This Jupyter Notebook was written by Dan Haworth. It is intended as a tutorial to be used in parallel with Chapter 15 of the book \"An Introduction to Combustion: Concepts and Applications\" by Stephen R. Turns and Daniel C. Haworth. That book is referred to as \"Turns 4th ed.\" throughout this Notebook.\n",
    "\n",
    "This Notebook was last updated 21 February 2020.\n",
    "\n",
    "The objective of this tutorial is to explore the relative importance of different nitric oxide (NO) formation pathways in a laminar premixed flame. It also shows how one can multiply the rates of individual reactions in a reaction mechanism by arbitray constant values. We will use the thermodynamic properties, reaction mechanism, and transport properties that are included in gri30.cti.\n",
    "\n",
    "The reader should be familiar with the material in the earlier chapter Notebooks before working through this Notebook."
   ]
  },
  {
   "cell_type": "markdown",
   "metadata": {},
   "source": [
    "## 1. NO formation pathways and GRI-Mech 3.0"
   ]
  },
  {
   "cell_type": "markdown",
   "metadata": {},
   "source": [
    "As discussed in Chapter 5 of Turns 4th ed., several different pathways for NO formation have been identified. The key elementary reactions for each of the following four pathways are presented and discussed there:\n",
    "\n",
    "* The Zeldovich (including extended Zeldovich), or thermal NO, mechanism\n",
    "\n",
    "* The $N_2O$-intermediate mechanism\n",
    "\n",
    "* The Fenimore, or prompt, mechanism\n",
    "\n",
    "* The NNH mechanism\n",
    "\n",
    "In most practical applications, thermal NO dominates. Thermal NO was discussed in tutorial Notebook 4_2_ODE_integration_thermal_NO, including approximations that are often invoked to arrive at simplified rate expressions.\n",
    "\n",
    "We have used gri30.cti in many of the earlier tutorial Notebooks. [GRI-Mech 3.0](http://combustion.berkeley.edu/gri-mech/version30/text30.html)  is a widely used reaction mechanism to model natural gas combustion, including NO formation. All of the above NO formation pathways are included in GRI-Mech 3.0."
   ]
  },
  {
   "cell_type": "code",
   "execution_count": 1,
   "metadata": {},
   "outputs": [
    {
     "name": "stdout",
     "output_type": "stream",
     "text": [
      "Running Cantera version: 2.4.0\n"
     ]
    }
   ],
   "source": [
    "# access modules\n",
    "import cantera as ct\n",
    "import numpy as np\n",
    "import matplotlib.pyplot as plt\n",
    "import time\n",
    "\n",
    "# report Cantera version\n",
    "print(\"Running Cantera version: {}\".format(ct.__version__))"
   ]
  },
  {
   "cell_type": "code",
   "execution_count": 2,
   "metadata": {},
   "outputs": [],
   "source": [
    "# define an ideal-gas mixture named \"gas\" using Cantera's \"Solution\" object and GRI-Mech 3.0\n",
    "gas = ct.Solution('gri30.cti')"
   ]
  },
  {
   "cell_type": "markdown",
   "metadata": {},
   "source": [
    "The reactions that involve NO can be identified as follows:"
   ]
  },
  {
   "cell_type": "code",
   "execution_count": 3,
   "metadata": {},
   "outputs": [
    {
     "name": "stdout",
     "output_type": "stream",
     "text": [
      "40 325\n",
      "177 N + NO <=> N2 + O\n",
      "178 N + O2 <=> NO + O\n",
      "179 N + OH <=> H + NO\n",
      "181 N2O + O <=> 2 NO\n",
      "185 HO2 + NO <=> NO2 + OH\n",
      "186 NO + O + M <=> NO2 + M\n",
      "187 NO2 + O <=> NO + O2\n",
      "188 H + NO2 <=> NO + OH\n",
      "189 NH + O <=> H + NO\n",
      "194 NH + O2 <=> NO + OH\n",
      "197 NH + NO <=> N2 + OH\n",
      "198 NH + NO <=> H + N2O\n",
      "207 NNH + O <=> NH + NO\n",
      "211 H + NO + M <=> HNO + M\n",
      "212 HNO + O <=> NO + OH\n",
      "213 H + HNO <=> H2 + NO\n",
      "214 HNO + OH <=> H2O + NO\n",
      "215 HNO + O2 <=> HO2 + NO\n",
      "221 NCO + O <=> CO + NO\n",
      "223 NCO + OH <=> CO + H + NO\n",
      "225 NCO + O2 <=> CO2 + NO\n",
      "227 NCO + NO <=> CO + N2O\n",
      "228 NCO + NO <=> CO2 + N2\n",
      "243 C + NO <=> CN + O\n",
      "244 C + NO <=> CO + N\n",
      "245 CH + NO <=> HCN + O\n",
      "246 CH + NO <=> H + NCO\n",
      "247 CH + NO <=> HCO + N\n",
      "248 CH2 + NO <=> H + HNCO\n",
      "249 CH2 + NO <=> HCN + OH\n",
      "250 CH2 + NO <=> H + HCNO\n",
      "251 CH2(S) + NO <=> H + HNCO\n",
      "252 CH2(S) + NO <=> HCN + OH\n",
      "253 CH2(S) + NO <=> H + HCNO\n",
      "254 CH3 + NO <=> H2O + HCN\n",
      "255 CH3 + NO <=> H2CN + OH\n",
      "257 HCNN + O <=> HCN + NO\n",
      "273 HCCO + NO <=> CO + HCNO\n",
      "280 CN + NO2 <=> NCO + NO\n",
      "282 CO2 + N <=> CO + NO\n"
     ]
    }
   ],
   "source": [
    "# count and list all of the reactions that involve NO\n",
    "NO_reactions   = [i for i, r in enumerate(gas.reactions()) if 'NO' in r.reactants or 'NO' in r.products]\n",
    "n_NO_reactions = len(NO_reactions)\n",
    "\n",
    "print(n_NO_reactions,gas.n_reactions)\n",
    "\n",
    "for i in NO_reactions:\n",
    "    print(i,gas.reaction(i).equation)"
   ]
  },
  {
   "cell_type": "markdown",
   "metadata": {},
   "source": [
    "So, 40 of the 325 reactions in the reaction mechanism involve NO.\n",
    "\n",
    "The key reactions for each NO formation pathway are given in Chapter 5 of Turns 4th ed. We could search for each of those reactions as we have done for other reactions in earlier tutorial Notebooks (e.g., 4_4_Chemical_time_scales), but here the reaction indices for the key reactions involved in each pathway are specified directly. These can be found by inspection of the reaction mechanism. Recall that the reactions considered in GRI-Mech 3.0 are tabulated in Table 5.4 of Turns 4th ed., and that the reaction numbers given there are one greater than the corresponding Cantera reaction indices."
   ]
  },
  {
   "cell_type": "code",
   "execution_count": 4,
   "metadata": {},
   "outputs": [],
   "source": [
    "# create a list of the reaction indices for the reactions involved in the extended Zeldovich mechanism\n",
    "Zeldo  = [177,178,179]\n",
    "\n",
    "# create a list of the reaction indices for the reactions involved in the N2O-intermediate mechanism\n",
    "N2Oint = [181,184,198]\n",
    "\n",
    "# create a list of the reaction indices for the reactions involved in the prompt mechanism\n",
    "prompt = [239,230,238,222,190,179]\n",
    "\n",
    "# create a list of the reaction indices for the reactions involved in the NNH mechanism\n",
    "NNH    = [203,207,185,188,187]"
   ]
  },
  {
   "cell_type": "code",
   "execution_count": 5,
   "metadata": {},
   "outputs": [
    {
     "name": "stdout",
     "output_type": "stream",
     "text": [
      "177 N + NO <=> N2 + O\n",
      "178 N + O2 <=> NO + O\n",
      "179 N + OH <=> H + NO\n"
     ]
    }
   ],
   "source": [
    "# print the reactions involved in the extended Zeldovich mechanism\n",
    "for index in Zeldo:\n",
    "    print(index,gas.reaction(index).equation)    "
   ]
  },
  {
   "cell_type": "code",
   "execution_count": 6,
   "metadata": {},
   "outputs": [
    {
     "name": "stdout",
     "output_type": "stream",
     "text": [
      "181 N2O + O <=> 2 NO\n",
      "184 N2O (+M) <=> N2 + O (+M)\n",
      "198 NH + NO <=> H + N2O\n"
     ]
    }
   ],
   "source": [
    "# print the reactions involved in the N2O-intermediate mechanism\n",
    "for index in N2Oint:\n",
    "    print(index,gas.reaction(index).equation)  "
   ]
  },
  {
   "cell_type": "code",
   "execution_count": 7,
   "metadata": {},
   "outputs": [
    {
     "name": "stdout",
     "output_type": "stream",
     "text": [
      "239 CH + N2 <=> HCN + N\n",
      "230 HCN + O <=> H + NCO\n",
      "238 C + N2 <=> CN + N\n",
      "222 H + NCO <=> CO + NH\n",
      "190 H + NH <=> H2 + N\n",
      "179 N + OH <=> H + NO\n"
     ]
    }
   ],
   "source": [
    "# print the reactions involved in the prompt mechanism\n",
    "for index in prompt:\n",
    "    print(index,gas.reaction(index).equation)  "
   ]
  },
  {
   "cell_type": "code",
   "execution_count": 8,
   "metadata": {},
   "outputs": [
    {
     "name": "stdout",
     "output_type": "stream",
     "text": [
      "203 NNH <=> H + N2\n",
      "207 NNH + O <=> NH + NO\n",
      "185 HO2 + NO <=> NO2 + OH\n",
      "188 H + NO2 <=> NO + OH\n",
      "187 NO2 + O <=> NO + O2\n"
     ]
    }
   ],
   "source": [
    "# print the reactions involved in the NNH mechanism\n",
    "for index in NNH:\n",
    "    print(index,gas.reaction(index).equation)  "
   ]
  },
  {
   "cell_type": "markdown",
   "metadata": {},
   "source": [
    "## 2. Isolate the contribution of each NO pathway in a laminar premixed flame"
   ]
  },
  {
   "cell_type": "markdown",
   "metadata": {},
   "source": [
    "There are various ways in which one can formally determine the contribution of an individual reaction, or a subset of reactions in a reaction mechanism, to the total formation of a particular species. Here we simply enable or disable individual reactions in the reaction mechanism to isolate the contributions of different NO formation pathways. This approach is not strictly rigorous, as some reactions and species are involved in more than one pathway. However, it has the advantage of being straightforward, and it is sufficient to provide some insight into the relative contributions of different pathways.\n",
    "\n",
    "Here we explore NO formation in a laminar premixed flame. We begin by defining a function to compute the structure of an adiabatic, steady, one-dimensional, laminar premixed flame following the approach that was used in tutorial Notebook 8_1_Steady_1D_laminar_premixed_flame: "
   ]
  },
  {
   "cell_type": "code",
   "execution_count": 9,
   "metadata": {},
   "outputs": [],
   "source": [
    "# define a function that computes an adiabatic, steady, 1D laminar premixed flame, and returns the laminar flame speed,\n",
    "#   the NO mole fraction profile, and the temperature profile\n",
    "# the final computational grid also is returned, as that can vary from one solution to another\n",
    "# a new solution is started from scratch on each call to this function\n",
    "# all output is suppressed (loglevel=0): the value of loglevel can be increased to see what is happening, in case\n",
    "#   solution failures are encountered\n",
    "def laminar_premixed_NO(gas,fuel,oxid,phi,T_u,P):\n",
    "    gas.TP = T_u, P\n",
    "    gas.set_equivalence_ratio(phi,fuel,oxid)\n",
    "    width  = 0.015 # (m)\n",
    "    flame  = ct.FreeFlame(gas,width=width)\n",
    "    flame.set_refine_criteria(ratio=3, slope=0.1, curve=0.1)\n",
    "    loglevel = 0\n",
    "    flame.solve(loglevel=loglevel, auto=True)\n",
    "    return flame.u[0],flame.grid,flame.X[gas.species_index('NO')],flame.T"
   ]
  },
  {
   "cell_type": "markdown",
   "metadata": {},
   "source": [
    "A stoichiometric methane-air flame is simulated, with reactants at ambient temperature and pressure:"
   ]
  },
  {
   "cell_type": "code",
   "execution_count": 10,
   "metadata": {},
   "outputs": [],
   "source": [
    "fuel = 'CH4'\n",
    "air  = 'O2:1.0, N2:3.76'\n",
    "phi  = 1.0\n",
    "T_u  = 300.\n",
    "P    = ct.one_atm"
   ]
  },
  {
   "cell_type": "markdown",
   "metadata": {},
   "source": [
    "### 2.1 Full NO chemistry"
   ]
  },
  {
   "cell_type": "markdown",
   "metadata": {},
   "source": [
    "We first compute a flame where all reactions in the reaction mechanism are considered. It may take on the order one one minute of computer time to find the steady-state solution, depending on your computer. Watch the \"Kernel Busy\" indicator on the toolbar. The same holds for the subsequent flame solutions."
   ]
  },
  {
   "cell_type": "code",
   "execution_count": 11,
   "metadata": {},
   "outputs": [],
   "source": [
    "# simulate a flame with full NO chemistry\n",
    "sl_full,x_full,XNO_full,T_full = laminar_premixed_NO(gas,fuel,air,phi,T_u,P)\n",
    "\n",
    "# print some results, if desired\n",
    "#sl_full,x_full,XNO_full,T_full"
   ]
  },
  {
   "cell_type": "markdown",
   "metadata": {},
   "source": [
    "### 2.2 No NO chemistry"
   ]
  },
  {
   "cell_type": "markdown",
   "metadata": {},
   "source": [
    "We next disable all reactions that involve NO. To do this, we use Cantera's [`set_multiplier()`](https://cantera.org/documentation/docs-2.4/sphinx/html/cython/kinetics.html#cantera.Kinetics.set_multiplier) attribute to set to zero the reaction rate multipliers (see attribute [`multipler()`](https://cantera.org/documentation/docs-2.4/sphinx/html/cython/kinetics.html#cantera.Kinetics.multiplier)) for all reactions that involve NO:"
   ]
  },
  {
   "cell_type": "code",
   "execution_count": 12,
   "metadata": {},
   "outputs": [
    {
     "name": "stdout",
     "output_type": "stream",
     "text": [
      "177 0.0\n",
      "178 0.0\n",
      "179 0.0\n",
      "181 0.0\n",
      "185 0.0\n",
      "186 0.0\n",
      "187 0.0\n",
      "188 0.0\n",
      "189 0.0\n",
      "194 0.0\n",
      "197 0.0\n",
      "198 0.0\n",
      "207 0.0\n",
      "211 0.0\n",
      "212 0.0\n",
      "213 0.0\n",
      "214 0.0\n",
      "215 0.0\n",
      "221 0.0\n",
      "223 0.0\n",
      "225 0.0\n",
      "227 0.0\n",
      "228 0.0\n",
      "243 0.0\n",
      "244 0.0\n",
      "245 0.0\n",
      "246 0.0\n",
      "247 0.0\n",
      "248 0.0\n",
      "249 0.0\n",
      "250 0.0\n",
      "251 0.0\n",
      "252 0.0\n",
      "253 0.0\n",
      "254 0.0\n",
      "255 0.0\n",
      "257 0.0\n",
      "273 0.0\n",
      "280 0.0\n",
      "282 0.0\n"
     ]
    }
   ],
   "source": [
    "# disable all reactions that involve NO\n",
    "for i in NO_reactions:\n",
    "    gas.set_multiplier(0.,i)\n",
    "    print(i,gas.multiplier(i))\n",
    "    \n",
    "# simulate a flame with no NO chemistry\n",
    "sl_none,x_none,XNO_none,T_none = laminar_premixed_NO(gas,fuel,air,phi,T_u,P)\n",
    "\n",
    "# print some results, if desired\n",
    "#sl_none,x_none,XNO_none,T_none "
   ]
  },
  {
   "cell_type": "markdown",
   "metadata": {},
   "source": [
    "### 2.3 Extended Zeldovich (thermal) NO only"
   ]
  },
  {
   "cell_type": "markdown",
   "metadata": {},
   "source": [
    "To consider thermal NO only, the multipliers are set to zero for all reactions that involve NO, except for the reactions involved in the extended Zeldovich mechanism:"
   ]
  },
  {
   "cell_type": "code",
   "execution_count": 13,
   "metadata": {},
   "outputs": [
    {
     "name": "stdout",
     "output_type": "stream",
     "text": [
      "177 1.0\n",
      "178 1.0\n",
      "179 1.0\n"
     ]
    }
   ],
   "source": [
    "# disable all reactions that involve NO\n",
    "for i in NO_reactions:\n",
    "    gas.set_multiplier(0.,i)\n",
    "    \n",
    "# activate thermal NO reactions\n",
    "for i in Zeldo:\n",
    "    gas.set_multiplier(1.,i)\n",
    "    print(i,gas.multiplier(i))\n",
    "    \n",
    "# simulate a flame with thermal NO chemistry only\n",
    "sl_Zeldo,x_Zeldo,XNO_Zeldo,T_Zeldo = laminar_premixed_NO(gas,fuel,air,phi,T_u,P)\n",
    "\n",
    "# print some results, if desired\n",
    "#sl_Zeldo,x_Zeldo,XNO_Zeldo,T_Zeldo"
   ]
  },
  {
   "cell_type": "markdown",
   "metadata": {},
   "source": [
    "### 2.4 $N_2O$-intermediate NO only"
   ]
  },
  {
   "cell_type": "markdown",
   "metadata": {},
   "source": [
    "To consider $N_2O$-intermediate NO only, the multipliers are set to zero for all reactions that involve NO, except for the reactions involved in the $N_2O$-intermediate mechanism:"
   ]
  },
  {
   "cell_type": "code",
   "execution_count": 14,
   "metadata": {},
   "outputs": [
    {
     "name": "stdout",
     "output_type": "stream",
     "text": [
      "181 1.0\n",
      "184 1.0\n",
      "198 1.0\n"
     ]
    }
   ],
   "source": [
    "# disable all reactions that involve NO\n",
    "for i in NO_reactions:\n",
    "    gas.set_multiplier(0.,i)\n",
    "    \n",
    "# activate N2O-intermediate NO reactions\n",
    "for i in N2Oint:\n",
    "    gas.set_multiplier(1.,i)\n",
    "    print(i,gas.multiplier(i))\n",
    "    \n",
    "# simulate a flame with N2O-intermediate NO chemistry only\n",
    "sl_N2Oint,x_N2Oint,XNO_N2Oint,T_N2Oint = laminar_premixed_NO(gas,fuel,air,phi,T_u,P)\n",
    "\n",
    "# print some results, if desired\n",
    "#sl_N2Oint,x_N2Oint,XNO_N2Oint,T_N2Oint "
   ]
  },
  {
   "cell_type": "markdown",
   "metadata": {},
   "source": [
    "### 2.5 Prompt NO only"
   ]
  },
  {
   "cell_type": "markdown",
   "metadata": {},
   "source": [
    "To consider prompt (Fenimore) NO only, the multipliers are set to zero for all reactions that involve NO, except for the reactions involved in the prompt mechanism:"
   ]
  },
  {
   "cell_type": "code",
   "execution_count": 15,
   "metadata": {},
   "outputs": [
    {
     "name": "stdout",
     "output_type": "stream",
     "text": [
      "239 1.0\n",
      "230 1.0\n",
      "238 1.0\n",
      "222 1.0\n",
      "190 1.0\n",
      "179 1.0\n"
     ]
    }
   ],
   "source": [
    "# disable all reactions that involve NO\n",
    "for i in NO_reactions:\n",
    "    gas.set_multiplier(0.,i)\n",
    "    \n",
    "# activate prompt NO reactions\n",
    "for i in prompt:\n",
    "    gas.set_multiplier(1.,i)\n",
    "    print(i,gas.multiplier(i))\n",
    "    \n",
    "# simulate a flame with prompt NO chemistry only\n",
    "sl_prompt,x_prompt,XNO_prompt,T_prompt = laminar_premixed_NO(gas,fuel,air,phi,T_u,P)\n",
    "#sl_prompt,x_prompt,XNO_prompt,T_prompt "
   ]
  },
  {
   "cell_type": "markdown",
   "metadata": {},
   "source": [
    "### 2.6 NNH NO only"
   ]
  },
  {
   "cell_type": "markdown",
   "metadata": {},
   "source": [
    "To consider NNH NO only, the multipliers are set to zero for all reactions that involve NO, except for the reactions involved in the NNH mechanism:"
   ]
  },
  {
   "cell_type": "code",
   "execution_count": 16,
   "metadata": {},
   "outputs": [
    {
     "name": "stdout",
     "output_type": "stream",
     "text": [
      "203 1.0\n",
      "207 1.0\n",
      "185 1.0\n",
      "188 1.0\n",
      "187 1.0\n"
     ]
    }
   ],
   "source": [
    "# disable all reactions that involve NO\n",
    "for i in NO_reactions:\n",
    "    gas.set_multiplier(0.,i)\n",
    "    \n",
    "# activate NNH NO reactions\n",
    "for i in NNH:\n",
    "    gas.set_multiplier(1.,i)\n",
    "    print(i,gas.multiplier(i))\n",
    "    \n",
    "# simulate a flame with NNH NO chemistry only\n",
    "sl_NNH,x_NNH,XNO_NNH,T_NNH = laminar_premixed_NO(gas,fuel,air,phi,T_u,P)\n",
    "#sl_NNH,x_NNH,XNO_NNH,T_NNH "
   ]
  },
  {
   "cell_type": "markdown",
   "metadata": {},
   "source": [
    "### 2.7 Results and discussion"
   ]
  },
  {
   "cell_type": "markdown",
   "metadata": {},
   "source": [
    "We first look at the computed laminar flame speeds and temperature profiles, then at the computed NO mole fraction profiles."
   ]
  },
  {
   "cell_type": "code",
   "execution_count": 17,
   "metadata": {},
   "outputs": [
    {
     "data": {
      "text/plain": [
       "(0.3819354261894096,\n",
       " 0.38231843424019574,\n",
       " 0.3823949632996181,\n",
       " 0.3823175040123472,\n",
       " 0.3823913997028071,\n",
       " 0.3823029496787126)"
      ]
     },
     "execution_count": 17,
     "metadata": {},
     "output_type": "execute_result"
    }
   ],
   "source": [
    "# print the laminar flame speeds\n",
    "sl_full, sl_none, sl_Zeldo, sl_N2Oint , sl_prompt, sl_NNH"
   ]
  },
  {
   "cell_type": "markdown",
   "metadata": {},
   "source": [
    "The computed laminar flame speeds for all six flames are the same to at least three significant figures. The NO chemistry does not have a significant influence on this global quantity, as expected."
   ]
  },
  {
   "cell_type": "code",
   "execution_count": 18,
   "metadata": {},
   "outputs": [
    {
     "data": {
      "image/png": "[encoded data removed]",
      "text/plain": [
       "<Figure size 432x288 with 1 Axes>"
      ]
     },
     "metadata": {
      "needs_background": "light"
     },
     "output_type": "display_data"
    }
   ],
   "source": [
    "# plot steady-state temperature profiles\n",
    "fig, ax = plt.subplots()\n",
    "ax.plot(x_full*1000.,   T_full,   'k-o', label='full'  )\n",
    "ax.plot(x_none*1000.,   T_none,   'b-<', label='none'  ) \n",
    "ax.plot(x_Zeldo*1000.,  T_Zeldo,  'r->', label='Zeldo' )\n",
    "ax.plot(x_N2Oint*1000., T_N2Oint, 'g-^', label='N2Oint')\n",
    "ax.plot(x_prompt*1000., T_prompt, 'c-s', label='prompt')\n",
    "ax.plot(x_NNH*1000.,    T_NNH,    'm-+', label='NNH'   )\n",
    "ax.set(xlabel='Distance (mm)',\n",
    "       ylabel='Temperature (K)',\n",
    "       title ='Temperature vs. distance for a laminar premixed flame')\n",
    "ax.grid(True)\n",
    "ax.legend(handlelength=4,loc='best')\n",
    "fig.savefig(\"T_vs_x_LPF.pdf\")"
   ]
  },
  {
   "cell_type": "markdown",
   "metadata": {},
   "source": [
    "The profiles for some cases are shifted relative to those for other cases. Recall from tutorial Notebook 8_2_1DLPF_mechanisms that the location of the flame in the computational domain is somewhat arbitrary. For reasons that would require deeper investigation, here more grid points have been added on the reactants side for some cases compared to others. To remove this artifact, we shift the flame profiles such that all profiles match at a specified temperature value:"
   ]
  },
  {
   "cell_type": "code",
   "execution_count": 19,
   "metadata": {},
   "outputs": [
    {
     "name": "stdout",
     "output_type": "stream",
     "text": [
      "50 0.02105859375 1004.9401831017046\n",
      "46 0.010558593749999998 1004.6345936685336\n",
      "49 0.02105859375 1004.6818981509571\n",
      "46 0.010558593749999998 1004.6340285362069\n",
      "49 0.02105859375 1004.6797278398436\n",
      "46 0.010558593749999998 1004.6253725378276\n"
     ]
    }
   ],
   "source": [
    "# specify the temperature at which to match the flame profiles\n",
    "Tmatch = 1000. # (K)\n",
    "\n",
    "# define a function to find the location in the T profile at which T first exceeds Tmatch\n",
    "def xmatch_T(xprof,Tprof,Tmatch):\n",
    "    i = 0\n",
    "    T = 0.\n",
    "    while T < Tmatch:\n",
    "        T  = Tprof[i]\n",
    "        i += 1\n",
    "    im     = i - 1\n",
    "    xmatch = xprof[im]\n",
    "    Tmatch = Tprof[im]\n",
    "    return im,xmatch,Tmatch\n",
    "\n",
    "# find the x location at which the temperature first exceeds a specified value for each flame solution\n",
    "im_full,xm_full,Tm_full = xmatch_T(x_full,T_full,Tmatch)\n",
    "print(im_full,xm_full,Tm_full)\n",
    "\n",
    "im_none,xm_none,Tm_none = xmatch_T(x_none,T_none,Tmatch)\n",
    "print(im_none,xm_none,Tm_none)\n",
    "\n",
    "im_Zeldo,xm_Zeldo,Tm_Zeldo = xmatch_T(x_Zeldo,T_Zeldo,Tmatch)\n",
    "print(im_Zeldo,xm_Zeldo,Tm_Zeldo)\n",
    "\n",
    "im_N2Oint,xm_N2Oint,Tm_N2Oint = xmatch_T(x_N2Oint,T_N2Oint,Tmatch)\n",
    "print(im_N2Oint,xm_N2Oint,Tm_N2Oint)\n",
    "\n",
    "im_prompt,xm_prompt,Tm_prompt = xmatch_T(x_prompt,T_prompt,Tmatch)\n",
    "print(im_prompt,xm_prompt,Tm_prompt)\n",
    "\n",
    "im_NNH,xm_NNH,Tm_NNH = xmatch_T(x_NNH,T_NNH,Tmatch)\n",
    "print(im_NNH,xm_NNH,Tm_NNH)"
   ]
  },
  {
   "cell_type": "code",
   "execution_count": 20,
   "metadata": {},
   "outputs": [
    {
     "data": {
      "image/png": "[encoded data removed]",
      "text/plain": [
       "<Figure size 432x288 with 1 Axes>"
      ]
     },
     "metadata": {
      "needs_background": "light"
     },
     "output_type": "display_data"
    }
   ],
   "source": [
    "# plot steady-state temperature profiles, shifted to match temperatures at Tmatch\n",
    "fig, ax = plt.subplots()\n",
    "ax.plot((x_full-xm_full)*1000.,     T_full,   'k-o', label='full'  )\n",
    "ax.plot((x_none-xm_none)*1000.,     T_none,   'b-<', label='none'  ) \n",
    "ax.plot((x_Zeldo-xm_Zeldo)*1000.,   T_Zeldo,  'r->', label='Zeldo' )\n",
    "ax.plot((x_N2Oint-xm_N2Oint)*1000., T_N2Oint, 'g-^', label='N2Oint')\n",
    "ax.plot((x_prompt-xm_prompt)*1000., T_prompt, 'c-s', label='prompt')\n",
    "ax.plot((x_NNH-xm_NNH)*1000.,       T_NNH,    'm-+', label='NNH'   )\n",
    "ax.set(xlabel='Distance (mm)',\n",
    "       ylabel='Temperature (K)',\n",
    "       title ='Temperature vs. distance for a laminar premixed flame')\n",
    "ax.grid(True)\n",
    "ax.legend(handlelength=4,loc='best')\n",
    "fig.savefig(\"T_vs_x_LPF_shifted.pdf\")"
   ]
  },
  {
   "cell_type": "markdown",
   "metadata": {},
   "source": [
    "Now all of the temperature profiles appear to be essentially the same. The NO chemistry does not have a significant influence on flame temperatures, as expected. One could proceed similarly to show that the computed major species profiles also are insensitive to the NO formation pathway that is considered, as expected.\n",
    "\n",
    "Now let's look at NO:"
   ]
  },
  {
   "cell_type": "code",
   "execution_count": 21,
   "metadata": {},
   "outputs": [
    {
     "data": {
      "image/png": "[encoded data removed]",
      "text/plain": [
       "<Figure size 432x288 with 1 Axes>"
      ]
     },
     "metadata": {
      "needs_background": "light"
     },
     "output_type": "display_data"
    }
   ],
   "source": [
    "# plot steady-state NO mole-fraction profiles, shifted to match temperatures at Tmatch\n",
    "fig, ax = plt.subplots()\n",
    "ax.plot((x_full-xm_full)*1000.,     XNO_full,   'k-o', label='full'  )\n",
    "ax.plot((x_none-xm_none)*1000.,     XNO_none,   'b-<', label='none'  ) \n",
    "ax.plot((x_Zeldo-xm_Zeldo)*1000.,   XNO_Zeldo,  'r->', label='Zeldo' )\n",
    "ax.plot((x_N2Oint-xm_N2Oint)*1000., XNO_N2Oint, 'g-^', label='N2Oint')\n",
    "ax.plot((x_prompt-xm_prompt)*1000., XNO_prompt, 'c-s', label='prompt')\n",
    "ax.plot((x_NNH-xm_NNH)*1000.,       XNO_NNH,    'm-+', label='NNH'   )\n",
    "ax.set(xlabel='Distance (mm)',\n",
    "       ylabel='Mole fraction (-)',\n",
    "       title ='Species mole fractions vs. distance for a laminar premixed flame')\n",
    "ax.grid(True)\n",
    "ax.legend(handlelength=4,loc='best')\n",
    "fig.savefig(\"NO_vs_x_LPF_shifted.pdf\")"
   ]
  },
  {
   "cell_type": "markdown",
   "metadata": {},
   "source": [
    "From these results, it can be seen that thermal NO from the extended Zeldovich mechanism dominates, and that the contribution from prompt (or Fenimore) NO is a distant second. The contributions from the $N_2O$-intermediate pathway and the NNH pathway are much smaller.\n",
    "\n",
    "It also can be seen that thermal NO formation is slow, and continues well downstream of the main reaction zone on the products side, as we have discussed earlier. The computational grid for the \"none\", \"N2Oint\", and \"NNH\" cases do not extend as far downstream compared to those for \"prompt\", \"Zeldo\", and \"full\". The size of the computational grid is reflected in the computational time required for each case.\n",
    "\n",
    "To see the \"N2Oint\", \"prompt\", and \"NNH\" cases more clearly, we replot without \"full\", \"none\", and \"Zeldo\":"
   ]
  },
  {
   "cell_type": "code",
   "execution_count": 22,
   "metadata": {},
   "outputs": [
    {
     "data": {
      "image/png": "[encoded data removed]",
      "text/plain": [
       "<Figure size 432x288 with 1 Axes>"
      ]
     },
     "metadata": {
      "needs_background": "light"
     },
     "output_type": "display_data"
    }
   ],
   "source": [
    "# plot shifted steady-state NO mole-fraction profiles without full and extended Zeldovich\n",
    "fig, ax = plt.subplots()\n",
    "#ax.plot((x_full-xm_full)*1000.,     XNO_full,   'k-o', label='full'  )\n",
    "#ax.plot((x_none-xm_none)*1000.,     XNO_none,   'b-<', label='none'  ) \n",
    "#ax.plot((x_Zeldo-xm_Zeldo)*1000.,   XNO_Zeldo,  'r->', label='Zeldo' )\n",
    "ax.plot((x_N2Oint-xm_N2Oint)*1000., XNO_N2Oint, 'g-^', label='N2Oint')\n",
    "ax.plot((x_prompt-xm_prompt)*1000., XNO_prompt, 'c-s', label='prompt')\n",
    "ax.plot((x_NNH-xm_NNH)*1000.,       XNO_NNH,    'm-+', label='NNH'   )\n",
    "ax.set(xlabel='Distance (mm)',\n",
    "       ylabel='Mole fraction (-)',\n",
    "       title ='Species mole fractions vs. distance for a laminar premixed flame')\n",
    "ax.grid(True)\n",
    "ax.legend(handlelength=4,loc='best')\n",
    "fig.savefig(\"NO_vs_x_LPF2_shifted.pdf\")"
   ]
  },
  {
   "cell_type": "markdown",
   "metadata": {},
   "source": [
    "It is clear that \"prompt\" NO is indeed formed promptly in the primary flame zone, as the name implies, while NO formation from the other mechanisms occurs downstream of the primary flame zone. In all case, the maximum NO is at the furthest downstream computed location in the flame.\n",
    "\n",
    "The fraction of NO formed by each mechanism can then be determined as follows:"
   ]
  },
  {
   "cell_type": "code",
   "execution_count": 23,
   "metadata": {},
   "outputs": [
    {
     "data": {
      "text/plain": [
       "(0.8340849098516679,\n",
       " 0.02505775011229966,\n",
       " 0.1074952777246206,\n",
       " 0.03524794224586472)"
      ]
     },
     "execution_count": 23,
     "metadata": {},
     "output_type": "execute_result"
    }
   ],
   "source": [
    "# access the number of grid points in each computed steady-state flame solution\n",
    "n_full   = len(x_full)\n",
    "n_none   = len(x_none)\n",
    "n_Zeldo  = len(x_Zeldo)\n",
    "n_N2Oint = len(x_N2Oint)\n",
    "n_prompt = len(x_prompt)\n",
    "n_NNH    = len(x_NNH)\n",
    "\n",
    "# access the NO mole fraction at the furthest downstream grid point in each flame\n",
    "NOmax_full   = XNO_full  [n_full  -1]\n",
    "NOmax_none   = XNO_none  [n_none  -1]\n",
    "NOmax_Zeldo  = XNO_Zeldo [n_Zeldo -1]\n",
    "NOmax_N2Oint = XNO_N2Oint[n_N2Oint-1]\n",
    "NOmax_prompt = XNO_prompt[n_prompt-1]\n",
    "NOmax_NNH    = XNO_NNH   [n_NNH   -1]\n",
    "\n",
    "# compute and print the fractions of the total NO formed through each pathway\n",
    "frac_Zeldo  = NOmax_Zeldo  / NOmax_full\n",
    "frac_N2Oint = NOmax_N2Oint / NOmax_full\n",
    "frac_prompt = NOmax_prompt / NOmax_full\n",
    "frac_NNH    = NOmax_NNH    / NOmax_full\n",
    "\n",
    "frac_Zeldo , frac_N2Oint , frac_prompt , frac_NNH"
   ]
  },
  {
   "cell_type": "markdown",
   "metadata": {},
   "source": [
    "The sum of these four fractions is very close to unity. \n",
    "\n",
    "From these results, it can be concluded that the approximate contributions of each pathway to NO formation in this flame are:\n",
    "\n",
    "* ~83% for thermal NO (extended Zeldovich mechanism)\n",
    "\n",
    "* ~11% for prompt NO (Fenimore mechanism)\n",
    "\n",
    "* ~3.5% for the NNH pathway\n",
    "\n",
    "* ~2.5% for the $N_2O$-intermediate pathway"
   ]
  },
  {
   "cell_type": "markdown",
   "metadata": {},
   "source": [
    "As discussed in Chapter 15 of Turns 4th ed. and shown in Figure 15.2, the relative contribution of each pathway varies with the reactants composition, temperature, and pressure. Results from a modeling study of laminar premixed stochiometric $CH_4$-air flames over a wide range of pressures can be found in: M.C. Drake and R.J. Blint, \"Calculations of NOx formation pathways in propagating, laminar, high pressure premixed $CH_4$/air flames,\" Combustion Science and Technology 75:261-285 (1991). The importance of superequilibrium O-atom concentrations on NO formation is discussed there. \n",
    "\n",
    "The results also can vary depending on the flame configuration that is considered. For example, the results shown in Figure 15.2 are for perfectly stirred reactors."
   ]
  },
  {
   "cell_type": "code",
   "execution_count": null,
   "metadata": {},
   "outputs": [],
   "source": []
  }
 ],
 "metadata": {
  "kernelspec": {
   "display_name": "Python 3",
   "language": "python",
   "name": "python3"
  },
  "language_info": {
   "codemirror_mode": {
    "name": "ipython",
    "version": 3
   },
   "file_extension": ".py",
   "mimetype": "text/x-python",
   "name": "python",
   "nbconvert_exporter": "python",
   "pygments_lexer": "ipython3",
   "version": "3.7.6"
  }
 },
 "nbformat": 4,
 "nbformat_minor": 2
}
