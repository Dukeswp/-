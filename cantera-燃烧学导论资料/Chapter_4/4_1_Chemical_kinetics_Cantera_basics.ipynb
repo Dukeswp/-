{
 "cells": [
  {
   "cell_type": "markdown",
   "metadata": {},
   "source": [
    "# Chemical Kinetics: Cantera Basics\n",
    "This Jupyter Notebook was written by Dan Haworth. It is intended as a tutorial to be used in parallel with Chapter 4 of the book \"An Introduction to Combustion: Concepts and Applications\" by Stephen R. Turns and Daniel C. Haworth. That book is referred to as \"Turns 4th ed.\" throughout this Notebook.\n",
    "\n",
    "This Notebook was last updated 10 February 2020.\n",
    "\n",
    "The objective of this tutorial is to introduce how to access and manipulate a reaction mechanism using Cantera's `Solution()` object. The modified Arrhenius form of the reaction rate coefficient is discussed, including the use of third-body efficiencies for three-body reactions. A brief discussion of Python dictionary objects is provided. We will use the thermodynamic properties and the reaction mechanism that are included in gri30.cti.\n",
    "\n",
    "The reader should be familiar with the material in the Chapter 3 Notebooks before working through this Notebook."
   ]
  },
  {
   "cell_type": "markdown",
   "metadata": {},
   "source": [
    "## 1. An example of a reaction mechanism: GRI-Mech 3.0"
   ]
  },
  {
   "cell_type": "markdown",
   "metadata": {},
   "source": [
    "Up to this point, we have worked mainly with thermodynamic properties of individual ideal-gas species and of ideal-gas mixtures using Cantera. Now we will consider the chemical reactions that occur among those species. The *chemical mechanism* or *reaction mechanism* is a list of the allowable chemical reactions, including information about the rates for each reaction. We briefly introduced a few attributes related to chemical reactions in tutorial Notebook 2_7_Entropy_Gibbs_function_equilibrium_constants. Here we will go deeper into the attributes related to chemical reactions, how to use them, and how they relate to the quantitites introduced in Chapter 4 of Turns 4th ed.\n",
    "\n",
    "To illustrate the various attributes related to chemical reactions, we will consider the reaction mechanism that is provided in gri30.cti. That is the [GRI-Mech 3.0](http://combustion.berkeley.edu/gri-mech/version30/text30.html) mechanism for natural gas, which (looking ahead a bit) is shown in Table 5.4 of Turns 4th ed. This mechanism considers 325 different chemical reactions that involve 53 different chemical species."
   ]
  },
  {
   "cell_type": "code",
   "execution_count": 1,
   "metadata": {},
   "outputs": [
    {
     "name": "stdout",
     "output_type": "stream",
     "text": [
      "Running Cantera version: 2.4.0\n"
     ]
    }
   ],
   "source": [
    "# access modules\n",
    "import cantera as ct\n",
    "import numpy as np\n",
    "import matplotlib.pyplot as plt\n",
    "\n",
    "# report Cantera version\n",
    "print(\"Running Cantera version: {}\".format(ct.__version__))"
   ]
  },
  {
   "cell_type": "code",
   "execution_count": 2,
   "metadata": {},
   "outputs": [],
   "source": [
    "# define an ideal-gas mixture named \"gas1\" using Cantera's \"Solution\" object and GRI-Mech 3.0\n",
    "gas1 = ct.Solution('gri30.cti')"
   ]
  },
  {
   "cell_type": "code",
   "execution_count": 3,
   "metadata": {},
   "outputs": [
    {
     "data": {
      "text/plain": [
       "(53, 325)"
      ]
     },
     "execution_count": 3,
     "metadata": {},
     "output_type": "execute_result"
    }
   ],
   "source": [
    "# \"n_species\" and \"n_reactions\" (which we have seen earlier) are the number of species considered in the gas mixture \n",
    "#   and the number of reactions considered in the reaction mechanism, respectively\n",
    "gas1.n_species , gas1.n_reactions"
   ]
  },
  {
   "cell_type": "markdown",
   "metadata": {},
   "source": [
    "This confirms that GRI-Mech 3.0 considers 53 species and 325 reactions."
   ]
  },
  {
   "cell_type": "code",
   "execution_count": 4,
   "metadata": {},
   "outputs": [
    {
     "data": {
      "text/plain": [
       "[<Species H2>,\n",
       " <Species H>,\n",
       " <Species O>,\n",
       " <Species O2>,\n",
       " <Species OH>,\n",
       " <Species H2O>,\n",
       " <Species HO2>,\n",
       " <Species H2O2>,\n",
       " <Species C>,\n",
       " <Species CH>,\n",
       " <Species CH2>,\n",
       " <Species CH2(S)>,\n",
       " <Species CH3>,\n",
       " <Species CH4>,\n",
       " <Species CO>,\n",
       " <Species CO2>,\n",
       " <Species HCO>,\n",
       " <Species CH2O>,\n",
       " <Species CH2OH>,\n",
       " <Species CH3O>,\n",
       " <Species CH3OH>,\n",
       " <Species C2H>,\n",
       " <Species C2H2>,\n",
       " <Species C2H3>,\n",
       " <Species C2H4>,\n",
       " <Species C2H5>,\n",
       " <Species C2H6>,\n",
       " <Species HCCO>,\n",
       " <Species CH2CO>,\n",
       " <Species HCCOH>,\n",
       " <Species N>,\n",
       " <Species NH>,\n",
       " <Species NH2>,\n",
       " <Species NH3>,\n",
       " <Species NNH>,\n",
       " <Species NO>,\n",
       " <Species NO2>,\n",
       " <Species N2O>,\n",
       " <Species HNO>,\n",
       " <Species CN>,\n",
       " <Species HCN>,\n",
       " <Species H2CN>,\n",
       " <Species HCNN>,\n",
       " <Species HCNO>,\n",
       " <Species HOCN>,\n",
       " <Species HNCO>,\n",
       " <Species NCO>,\n",
       " <Species N2>,\n",
       " <Species AR>,\n",
       " <Species C3H7>,\n",
       " <Species C3H8>,\n",
       " <Species CH2CHO>,\n",
       " <Species CH3CHO>]"
      ]
     },
     "execution_count": 4,
     "metadata": {},
     "output_type": "execute_result"
    }
   ],
   "source": [
    "# list the n_species (=53 here) species in the gas mixture, for future reference\n",
    "gas1.species()"
   ]
  },
  {
   "cell_type": "markdown",
   "metadata": {},
   "source": [
    "Now let's explore what other reaction-mechanism-related attributes are available. A few of them were introduced earlier, in tutorial Notebook 2_7_Entropy_Gibbs_function_equilibrium_constants:"
   ]
  },
  {
   "cell_type": "code",
   "execution_count": 5,
   "metadata": {},
   "outputs": [
    {
     "data": {
      "text/plain": [
       "['DP',\n",
       " 'DPX',\n",
       " 'DPY',\n",
       " 'HP',\n",
       " 'HPX',\n",
       " 'HPY',\n",
       " 'ID',\n",
       " 'P',\n",
       " 'P_sat',\n",
       " 'SP',\n",
       " 'SPX',\n",
       " 'SPY',\n",
       " 'SV',\n",
       " 'SVX',\n",
       " 'SVY',\n",
       " 'T',\n",
       " 'TD',\n",
       " 'TDX',\n",
       " 'TDY',\n",
       " 'TP',\n",
       " 'TPX',\n",
       " 'TPY',\n",
       " 'T_sat',\n",
       " 'UV',\n",
       " 'UVX',\n",
       " 'UVY',\n",
       " 'X',\n",
       " 'Y',\n",
       " '__call__',\n",
       " '__class__',\n",
       " '__copy__',\n",
       " '__delattr__',\n",
       " '__dir__',\n",
       " '__doc__',\n",
       " '__eq__',\n",
       " '__format__',\n",
       " '__ge__',\n",
       " '__getattribute__',\n",
       " '__getitem__',\n",
       " '__gt__',\n",
       " '__hash__',\n",
       " '__init__',\n",
       " '__init_subclass__',\n",
       " '__le__',\n",
       " '__lt__',\n",
       " '__module__',\n",
       " '__ne__',\n",
       " '__new__',\n",
       " '__pyx_vtable__',\n",
       " '__reduce__',\n",
       " '__reduce_ex__',\n",
       " '__repr__',\n",
       " '__setattr__',\n",
       " '__sizeof__',\n",
       " '__slots__',\n",
       " '__str__',\n",
       " '__subclasshook__',\n",
       " '_check_kinetics_species_index',\n",
       " '_check_phase_index',\n",
       " '_check_reaction_index',\n",
       " '_full_states',\n",
       " '_init_cti_xml',\n",
       " '_init_parts',\n",
       " '_references',\n",
       " 'activities',\n",
       " 'activity_coefficients',\n",
       " 'add_reaction',\n",
       " 'add_species',\n",
       " 'atomic_weight',\n",
       " 'atomic_weights',\n",
       " 'basis',\n",
       " 'binary_diff_coeffs',\n",
       " 'chemical_potentials',\n",
       " 'concentrations',\n",
       " 'cp',\n",
       " 'cp_mass',\n",
       " 'cp_mole',\n",
       " 'creation_rates',\n",
       " 'critical_density',\n",
       " 'critical_pressure',\n",
       " 'critical_temperature',\n",
       " 'cv',\n",
       " 'cv_mass',\n",
       " 'cv_mole',\n",
       " 'delta_enthalpy',\n",
       " 'delta_entropy',\n",
       " 'delta_gibbs',\n",
       " 'delta_standard_enthalpy',\n",
       " 'delta_standard_entropy',\n",
       " 'delta_standard_gibbs',\n",
       " 'density',\n",
       " 'density_mass',\n",
       " 'density_mole',\n",
       " 'destruction_rates',\n",
       " 'electric_potential',\n",
       " 'electrical_conductivity',\n",
       " 'electrochemical_potentials',\n",
       " 'element_index',\n",
       " 'element_name',\n",
       " 'element_names',\n",
       " 'element_potentials',\n",
       " 'elemental_mass_fraction',\n",
       " 'elemental_mole_fraction',\n",
       " 'enthalpy_mass',\n",
       " 'enthalpy_mole',\n",
       " 'entropy_mass',\n",
       " 'entropy_mole',\n",
       " 'equilibrate',\n",
       " 'equilibrium_constants',\n",
       " 'forward_rate_constants',\n",
       " 'forward_rates_of_progress',\n",
       " 'g',\n",
       " 'get_equivalence_ratio',\n",
       " 'gibbs_mass',\n",
       " 'gibbs_mole',\n",
       " 'h',\n",
       " 'int_energy_mass',\n",
       " 'int_energy_mole',\n",
       " 'is_reversible',\n",
       " 'isothermal_compressibility',\n",
       " 'kinetics_species_index',\n",
       " 'mass_fraction_dict',\n",
       " 'max_temp',\n",
       " 'mean_molecular_weight',\n",
       " 'min_temp',\n",
       " 'mix_diff_coeffs',\n",
       " 'mix_diff_coeffs_mass',\n",
       " 'mix_diff_coeffs_mole',\n",
       " 'modify_reaction',\n",
       " 'modify_species',\n",
       " 'mole_fraction_dict',\n",
       " 'molecular_weights',\n",
       " 'multi_diff_coeffs',\n",
       " 'multiplier',\n",
       " 'n_atoms',\n",
       " 'n_elements',\n",
       " 'n_phases',\n",
       " 'n_reactions',\n",
       " 'n_selected_species',\n",
       " 'n_species',\n",
       " 'n_total_species',\n",
       " 'name',\n",
       " 'net_production_rates',\n",
       " 'net_rates_of_progress',\n",
       " 'partial_molar_cp',\n",
       " 'partial_molar_enthalpies',\n",
       " 'partial_molar_entropies',\n",
       " 'partial_molar_int_energies',\n",
       " 'partial_molar_volumes',\n",
       " 'product_stoich_coeff',\n",
       " 'product_stoich_coeffs',\n",
       " 'products',\n",
       " 'reactant_stoich_coeff',\n",
       " 'reactant_stoich_coeffs',\n",
       " 'reactants',\n",
       " 'reaction',\n",
       " 'reaction_equation',\n",
       " 'reaction_equations',\n",
       " 'reaction_phase_index',\n",
       " 'reaction_type',\n",
       " 'reactions',\n",
       " 'reference_pressure',\n",
       " 'report',\n",
       " 'reverse_rate_constants',\n",
       " 'reverse_rates_of_progress',\n",
       " 's',\n",
       " 'selected_species',\n",
       " 'set_equivalence_ratio',\n",
       " 'set_multiplier',\n",
       " 'set_unnormalized_mass_fractions',\n",
       " 'set_unnormalized_mole_fractions',\n",
       " 'species',\n",
       " 'species_index',\n",
       " 'species_name',\n",
       " 'species_names',\n",
       " 'species_viscosities',\n",
       " 'standard_cp_R',\n",
       " 'standard_enthalpies_RT',\n",
       " 'standard_entropies_R',\n",
       " 'standard_gibbs_RT',\n",
       " 'standard_int_energies_RT',\n",
       " 'state',\n",
       " 'thermal_conductivity',\n",
       " 'thermal_diff_coeffs',\n",
       " 'thermal_expansion_coeff',\n",
       " 'transport_model',\n",
       " 'u',\n",
       " 'v',\n",
       " 'viscosity',\n",
       " 'volume_mass',\n",
       " 'volume_mole']"
      ]
     },
     "execution_count": 5,
     "metadata": {},
     "output_type": "execute_result"
    }
   ],
   "source": [
    "# display all attributes of gas1\n",
    "dir(gas1)"
   ]
  },
  {
   "cell_type": "markdown",
   "metadata": {},
   "source": [
    "Scrolling down through the list of available attributes, it can be seen that there are several that appear to be related to chemical reactions. You can use `help()` or `?` to find out more about each attribute. For example:"
   ]
  },
  {
   "cell_type": "code",
   "execution_count": 6,
   "metadata": {},
   "outputs": [
    {
     "name": "stdout",
     "output_type": "stream",
     "text": [
      "Help on getset descriptor cantera._cantera.Kinetics.n_reactions:\n",
      "\n",
      "n_reactions\n",
      "    Number of reactions in the reaction mechanism.\n",
      "\n"
     ]
    }
   ],
   "source": [
    "# verify that \"n_reactions\" is the number of reactions in the reaction mechanism\n",
    "help(gas1.__class__.n_reactions)"
   ]
  },
  {
   "cell_type": "markdown",
   "metadata": {},
   "source": [
    "The `n_reactions` reactions are numbered using a reaction index that ranges from 0 to `n_reactions`-1."
   ]
  },
  {
   "cell_type": "markdown",
   "metadata": {},
   "source": [
    "## 2. Reaction equations and reaction types"
   ]
  },
  {
   "cell_type": "markdown",
   "metadata": {},
   "source": [
    "In this section, we look at the following reaction-related attributes: [`reactions`](https://cantera.org/documentation/docs-2.4/sphinx/html/cython/kinetics.html#cantera.Kinetics.reactions), [`reaction()`](https://cantera.org/documentation/docs-2.4/sphinx/html/cython/kinetics.html#cantera.Kinetics.reaction), [`reaction_equations`](https://cantera.org/documentation/docs-2.4/sphinx/html/cython/kinetics.html#cantera.Kinetics.reaction_equations), [`reaction_equation()`](https://cantera.org/documentation/docs-2.4/sphinx/html/cython/kinetics.html#cantera.Kinetics.reaction_equation), and [`reaction_type()`](https://cantera.org/documentation/docs-2.4/sphinx/html/cython/kinetics.html#cantera.Kinetics.reaction_type)."
   ]
  },
  {
   "cell_type": "code",
   "execution_count": 7,
   "metadata": {},
   "outputs": [
    {
     "name": "stdout",
     "output_type": "stream",
     "text": [
      "Help on method_descriptor:\n",
      "\n",
      "reactions(...)\n",
      "    Kinetics.reactions(self)\n",
      "    \n",
      "    Return a list of all `Reaction` objects. Changes to these objects do not\n",
      "    affect the `Kinetics` or `Solution` object until the `modify_reaction`\n",
      "    function is called.\n",
      "\n"
     ]
    }
   ],
   "source": [
    "# the n_reactions chemical reactions in the reaction mechanism can be accessed, along with their reaction types,\n",
    "#   using \"reactions\"\n",
    "help(gas1.__class__.reactions)"
   ]
  },
  {
   "cell_type": "markdown",
   "metadata": {},
   "source": [
    "That is, `reactions` is a list (not a function). In contrast, `reaction()` is a method or function that takes a reaction index as its argument:"
   ]
  },
  {
   "cell_type": "code",
   "execution_count": 8,
   "metadata": {},
   "outputs": [
    {
     "name": "stdout",
     "output_type": "stream",
     "text": [
      "Help on method_descriptor:\n",
      "\n",
      "reaction(...)\n",
      "    Kinetics.reaction(self, int i_reaction)\n",
      "    \n",
      "    Return a `Reaction` object representing the reaction with index\n",
      "    ``i_reaction``. Changes to this object do not affect the `Kinetics` or\n",
      "    `Solution` object until the `modify_reaction` function is called.\n",
      "\n"
     ]
    }
   ],
   "source": [
    "# how is \"reaction\" different from \"reactions\"?\n",
    "help(gas1.__class__.reaction)"
   ]
  },
  {
   "cell_type": "code",
   "execution_count": 9,
   "metadata": {},
   "outputs": [
    {
     "data": {
      "text/plain": [
       "[<ThreeBodyReaction: 2 O + M <=> O2 + M>,\n",
       " <ThreeBodyReaction: H + O + M <=> OH + M>,\n",
       " <ElementaryReaction: H2 + O <=> H + OH>,\n",
       " <ElementaryReaction: HO2 + O <=> O2 + OH>,\n",
       " <ElementaryReaction: H2O2 + O <=> HO2 + OH>,\n",
       " <ElementaryReaction: CH + O <=> CO + H>,\n",
       " <ElementaryReaction: CH2 + O <=> H + HCO>,\n",
       " <ElementaryReaction: CH2(S) + O <=> CO + H2>,\n",
       " <ElementaryReaction: CH2(S) + O <=> H + HCO>,\n",
       " <ElementaryReaction: CH3 + O <=> CH2O + H>,\n",
       " <ElementaryReaction: CH4 + O <=> CH3 + OH>,\n",
       " <FalloffReaction: CO + O (+M) <=> CO2 (+M)>,\n",
       " <ElementaryReaction: HCO + O <=> CO + OH>,\n",
       " <ElementaryReaction: HCO + O <=> CO2 + H>,\n",
       " <ElementaryReaction: CH2O + O <=> HCO + OH>,\n",
       " <ElementaryReaction: CH2OH + O <=> CH2O + OH>,\n",
       " <ElementaryReaction: CH3O + O <=> CH2O + OH>,\n",
       " <ElementaryReaction: CH3OH + O <=> CH2OH + OH>,\n",
       " <ElementaryReaction: CH3OH + O <=> CH3O + OH>,\n",
       " <ElementaryReaction: C2H + O <=> CH + CO>,\n",
       " <ElementaryReaction: C2H2 + O <=> H + HCCO>,\n",
       " <ElementaryReaction: C2H2 + O <=> C2H + OH>,\n",
       " <ElementaryReaction: C2H2 + O <=> CH2 + CO>,\n",
       " <ElementaryReaction: C2H3 + O <=> CH2CO + H>,\n",
       " <ElementaryReaction: C2H4 + O <=> CH3 + HCO>,\n",
       " <ElementaryReaction: C2H5 + O <=> CH2O + CH3>,\n",
       " <ElementaryReaction: C2H6 + O <=> C2H5 + OH>,\n",
       " <ElementaryReaction: HCCO + O <=> 2 CO + H>,\n",
       " <ElementaryReaction: CH2CO + O <=> HCCO + OH>,\n",
       " <ElementaryReaction: CH2CO + O <=> CH2 + CO2>,\n",
       " <ElementaryReaction: CO + O2 <=> CO2 + O>,\n",
       " <ElementaryReaction: CH2O + O2 <=> HCO + HO2>,\n",
       " <ThreeBodyReaction: H + O2 + M <=> HO2 + M>,\n",
       " <ElementaryReaction: H + 2 O2 <=> HO2 + O2>,\n",
       " <ElementaryReaction: H + H2O + O2 <=> H2O + HO2>,\n",
       " <ElementaryReaction: H + N2 + O2 <=> HO2 + N2>,\n",
       " <ElementaryReaction: AR + H + O2 <=> AR + HO2>,\n",
       " <ElementaryReaction: H + O2 <=> O + OH>,\n",
       " <ThreeBodyReaction: 2 H + M <=> H2 + M>,\n",
       " <ElementaryReaction: 2 H + H2 <=> 2 H2>,\n",
       " <ElementaryReaction: 2 H + H2O <=> H2 + H2O>,\n",
       " <ElementaryReaction: CO2 + 2 H <=> CO2 + H2>,\n",
       " <ThreeBodyReaction: H + OH + M <=> H2O + M>,\n",
       " <ElementaryReaction: H + HO2 <=> H2O + O>,\n",
       " <ElementaryReaction: H + HO2 <=> H2 + O2>,\n",
       " <ElementaryReaction: H + HO2 <=> 2 OH>,\n",
       " <ElementaryReaction: H + H2O2 <=> H2 + HO2>,\n",
       " <ElementaryReaction: H + H2O2 <=> H2O + OH>,\n",
       " <ElementaryReaction: CH + H <=> C + H2>,\n",
       " <FalloffReaction: CH2 + H (+M) <=> CH3 (+M)>,\n",
       " <ElementaryReaction: CH2(S) + H <=> CH + H2>,\n",
       " <FalloffReaction: CH3 + H (+M) <=> CH4 (+M)>,\n",
       " <ElementaryReaction: CH4 + H <=> CH3 + H2>,\n",
       " <FalloffReaction: H + HCO (+M) <=> CH2O (+M)>,\n",
       " <ElementaryReaction: H + HCO <=> CO + H2>,\n",
       " <FalloffReaction: CH2O + H (+M) <=> CH2OH (+M)>,\n",
       " <FalloffReaction: CH2O + H (+M) <=> CH3O (+M)>,\n",
       " <ElementaryReaction: CH2O + H <=> H2 + HCO>,\n",
       " <FalloffReaction: CH2OH + H (+M) <=> CH3OH (+M)>,\n",
       " <ElementaryReaction: CH2OH + H <=> CH2O + H2>,\n",
       " <ElementaryReaction: CH2OH + H <=> CH3 + OH>,\n",
       " <ElementaryReaction: CH2OH + H <=> CH2(S) + H2O>,\n",
       " <FalloffReaction: CH3O + H (+M) <=> CH3OH (+M)>,\n",
       " <ElementaryReaction: CH3O + H <=> CH2OH + H>,\n",
       " <ElementaryReaction: CH3O + H <=> CH2O + H2>,\n",
       " <ElementaryReaction: CH3O + H <=> CH3 + OH>,\n",
       " <ElementaryReaction: CH3O + H <=> CH2(S) + H2O>,\n",
       " <ElementaryReaction: CH3OH + H <=> CH2OH + H2>,\n",
       " <ElementaryReaction: CH3OH + H <=> CH3O + H2>,\n",
       " <FalloffReaction: C2H + H (+M) <=> C2H2 (+M)>,\n",
       " <FalloffReaction: C2H2 + H (+M) <=> C2H3 (+M)>,\n",
       " <FalloffReaction: C2H3 + H (+M) <=> C2H4 (+M)>,\n",
       " <ElementaryReaction: C2H3 + H <=> C2H2 + H2>,\n",
       " <FalloffReaction: C2H4 + H (+M) <=> C2H5 (+M)>,\n",
       " <ElementaryReaction: C2H4 + H <=> C2H3 + H2>,\n",
       " <FalloffReaction: C2H5 + H (+M) <=> C2H6 (+M)>,\n",
       " <ElementaryReaction: C2H5 + H <=> C2H4 + H2>,\n",
       " <ElementaryReaction: C2H6 + H <=> C2H5 + H2>,\n",
       " <ElementaryReaction: H + HCCO <=> CH2(S) + CO>,\n",
       " <ElementaryReaction: CH2CO + H <=> H2 + HCCO>,\n",
       " <ElementaryReaction: CH2CO + H <=> CH3 + CO>,\n",
       " <ElementaryReaction: H + HCCOH <=> CH2CO + H>,\n",
       " <FalloffReaction: CO + H2 (+M) <=> CH2O (+M)>,\n",
       " <ElementaryReaction: H2 + OH <=> H + H2O>,\n",
       " <FalloffReaction: 2 OH (+M) <=> H2O2 (+M)>,\n",
       " <ElementaryReaction: 2 OH <=> H2O + O>,\n",
       " <ElementaryReaction: HO2 + OH <=> H2O + O2>,\n",
       " <ElementaryReaction: H2O2 + OH <=> H2O + HO2>,\n",
       " <ElementaryReaction: H2O2 + OH <=> H2O + HO2>,\n",
       " <ElementaryReaction: C + OH <=> CO + H>,\n",
       " <ElementaryReaction: CH + OH <=> H + HCO>,\n",
       " <ElementaryReaction: CH2 + OH <=> CH2O + H>,\n",
       " <ElementaryReaction: CH2 + OH <=> CH + H2O>,\n",
       " <ElementaryReaction: CH2(S) + OH <=> CH2O + H>,\n",
       " <FalloffReaction: CH3 + OH (+M) <=> CH3OH (+M)>,\n",
       " <ElementaryReaction: CH3 + OH <=> CH2 + H2O>,\n",
       " <ElementaryReaction: CH3 + OH <=> CH2(S) + H2O>,\n",
       " <ElementaryReaction: CH4 + OH <=> CH3 + H2O>,\n",
       " <ElementaryReaction: CO + OH <=> CO2 + H>,\n",
       " <ElementaryReaction: HCO + OH <=> CO + H2O>,\n",
       " <ElementaryReaction: CH2O + OH <=> H2O + HCO>,\n",
       " <ElementaryReaction: CH2OH + OH <=> CH2O + H2O>,\n",
       " <ElementaryReaction: CH3O + OH <=> CH2O + H2O>,\n",
       " <ElementaryReaction: CH3OH + OH <=> CH2OH + H2O>,\n",
       " <ElementaryReaction: CH3OH + OH <=> CH3O + H2O>,\n",
       " <ElementaryReaction: C2H + OH <=> H + HCCO>,\n",
       " <ElementaryReaction: C2H2 + OH <=> CH2CO + H>,\n",
       " <ElementaryReaction: C2H2 + OH <=> H + HCCOH>,\n",
       " <ElementaryReaction: C2H2 + OH <=> C2H + H2O>,\n",
       " <ElementaryReaction: C2H2 + OH <=> CH3 + CO>,\n",
       " <ElementaryReaction: C2H3 + OH <=> C2H2 + H2O>,\n",
       " <ElementaryReaction: C2H4 + OH <=> C2H3 + H2O>,\n",
       " <ElementaryReaction: C2H6 + OH <=> C2H5 + H2O>,\n",
       " <ElementaryReaction: CH2CO + OH <=> H2O + HCCO>,\n",
       " <ElementaryReaction: 2 HO2 <=> H2O2 + O2>,\n",
       " <ElementaryReaction: 2 HO2 <=> H2O2 + O2>,\n",
       " <ElementaryReaction: CH2 + HO2 <=> CH2O + OH>,\n",
       " <ElementaryReaction: CH3 + HO2 <=> CH4 + O2>,\n",
       " <ElementaryReaction: CH3 + HO2 <=> CH3O + OH>,\n",
       " <ElementaryReaction: CO + HO2 <=> CO2 + OH>,\n",
       " <ElementaryReaction: CH2O + HO2 <=> H2O2 + HCO>,\n",
       " <ElementaryReaction: C + O2 <=> CO + O>,\n",
       " <ElementaryReaction: C + CH2 <=> C2H + H>,\n",
       " <ElementaryReaction: C + CH3 <=> C2H2 + H>,\n",
       " <ElementaryReaction: CH + O2 <=> HCO + O>,\n",
       " <ElementaryReaction: CH + H2 <=> CH2 + H>,\n",
       " <ElementaryReaction: CH + H2O <=> CH2O + H>,\n",
       " <ElementaryReaction: CH + CH2 <=> C2H2 + H>,\n",
       " <ElementaryReaction: CH + CH3 <=> C2H3 + H>,\n",
       " <ElementaryReaction: CH + CH4 <=> C2H4 + H>,\n",
       " <FalloffReaction: CH + CO (+M) <=> HCCO (+M)>,\n",
       " <ElementaryReaction: CH + CO2 <=> CO + HCO>,\n",
       " <ElementaryReaction: CH + CH2O <=> CH2CO + H>,\n",
       " <ElementaryReaction: CH + HCCO <=> C2H2 + CO>,\n",
       " <ElementaryReaction: CH2 + O2 => CO + H + OH>,\n",
       " <ElementaryReaction: CH2 + H2 <=> CH3 + H>,\n",
       " <ElementaryReaction: 2 CH2 <=> C2H2 + H2>,\n",
       " <ElementaryReaction: CH2 + CH3 <=> C2H4 + H>,\n",
       " <ElementaryReaction: CH2 + CH4 <=> 2 CH3>,\n",
       " <FalloffReaction: CH2 + CO (+M) <=> CH2CO (+M)>,\n",
       " <ElementaryReaction: CH2 + HCCO <=> C2H3 + CO>,\n",
       " <ElementaryReaction: CH2(S) + N2 <=> CH2 + N2>,\n",
       " <ElementaryReaction: AR + CH2(S) <=> AR + CH2>,\n",
       " <ElementaryReaction: CH2(S) + O2 <=> CO + H + OH>,\n",
       " <ElementaryReaction: CH2(S) + O2 <=> CO + H2O>,\n",
       " <ElementaryReaction: CH2(S) + H2 <=> CH3 + H>,\n",
       " <FalloffReaction: CH2(S) + H2O (+M) <=> CH3OH (+M)>,\n",
       " <ElementaryReaction: CH2(S) + H2O <=> CH2 + H2O>,\n",
       " <ElementaryReaction: CH2(S) + CH3 <=> C2H4 + H>,\n",
       " <ElementaryReaction: CH2(S) + CH4 <=> 2 CH3>,\n",
       " <ElementaryReaction: CH2(S) + CO <=> CH2 + CO>,\n",
       " <ElementaryReaction: CH2(S) + CO2 <=> CH2 + CO2>,\n",
       " <ElementaryReaction: CH2(S) + CO2 <=> CH2O + CO>,\n",
       " <ElementaryReaction: C2H6 + CH2(S) <=> C2H5 + CH3>,\n",
       " <ElementaryReaction: CH3 + O2 <=> CH3O + O>,\n",
       " <ElementaryReaction: CH3 + O2 <=> CH2O + OH>,\n",
       " <ElementaryReaction: CH3 + H2O2 <=> CH4 + HO2>,\n",
       " <FalloffReaction: 2 CH3 (+M) <=> C2H6 (+M)>,\n",
       " <ElementaryReaction: 2 CH3 <=> C2H5 + H>,\n",
       " <ElementaryReaction: CH3 + HCO <=> CH4 + CO>,\n",
       " <ElementaryReaction: CH2O + CH3 <=> CH4 + HCO>,\n",
       " <ElementaryReaction: CH3 + CH3OH <=> CH2OH + CH4>,\n",
       " <ElementaryReaction: CH3 + CH3OH <=> CH3O + CH4>,\n",
       " <ElementaryReaction: C2H4 + CH3 <=> C2H3 + CH4>,\n",
       " <ElementaryReaction: C2H6 + CH3 <=> C2H5 + CH4>,\n",
       " <ElementaryReaction: H2O + HCO <=> CO + H + H2O>,\n",
       " <ThreeBodyReaction: HCO + M <=> CO + H + M>,\n",
       " <ElementaryReaction: HCO + O2 <=> CO + HO2>,\n",
       " <ElementaryReaction: CH2OH + O2 <=> CH2O + HO2>,\n",
       " <ElementaryReaction: CH3O + O2 <=> CH2O + HO2>,\n",
       " <ElementaryReaction: C2H + O2 <=> CO + HCO>,\n",
       " <ElementaryReaction: C2H + H2 <=> C2H2 + H>,\n",
       " <ElementaryReaction: C2H3 + O2 <=> CH2O + HCO>,\n",
       " <FalloffReaction: C2H4 (+M) <=> C2H2 + H2 (+M)>,\n",
       " <ElementaryReaction: C2H5 + O2 <=> C2H4 + HO2>,\n",
       " <ElementaryReaction: HCCO + O2 <=> 2 CO + OH>,\n",
       " <ElementaryReaction: 2 HCCO <=> C2H2 + 2 CO>,\n",
       " <ElementaryReaction: N + NO <=> N2 + O>,\n",
       " <ElementaryReaction: N + O2 <=> NO + O>,\n",
       " <ElementaryReaction: N + OH <=> H + NO>,\n",
       " <ElementaryReaction: N2O + O <=> N2 + O2>,\n",
       " <ElementaryReaction: N2O + O <=> 2 NO>,\n",
       " <ElementaryReaction: H + N2O <=> N2 + OH>,\n",
       " <ElementaryReaction: N2O + OH <=> HO2 + N2>,\n",
       " <FalloffReaction: N2O (+M) <=> N2 + O (+M)>,\n",
       " <ElementaryReaction: HO2 + NO <=> NO2 + OH>,\n",
       " <ThreeBodyReaction: NO + O + M <=> NO2 + M>,\n",
       " <ElementaryReaction: NO2 + O <=> NO + O2>,\n",
       " <ElementaryReaction: H + NO2 <=> NO + OH>,\n",
       " <ElementaryReaction: NH + O <=> H + NO>,\n",
       " <ElementaryReaction: H + NH <=> H2 + N>,\n",
       " <ElementaryReaction: NH + OH <=> H + HNO>,\n",
       " <ElementaryReaction: NH + OH <=> H2O + N>,\n",
       " <ElementaryReaction: NH + O2 <=> HNO + O>,\n",
       " <ElementaryReaction: NH + O2 <=> NO + OH>,\n",
       " <ElementaryReaction: N + NH <=> H + N2>,\n",
       " <ElementaryReaction: H2O + NH <=> H2 + HNO>,\n",
       " <ElementaryReaction: NH + NO <=> N2 + OH>,\n",
       " <ElementaryReaction: NH + NO <=> H + N2O>,\n",
       " <ElementaryReaction: NH2 + O <=> NH + OH>,\n",
       " <ElementaryReaction: NH2 + O <=> H + HNO>,\n",
       " <ElementaryReaction: H + NH2 <=> H2 + NH>,\n",
       " <ElementaryReaction: NH2 + OH <=> H2O + NH>,\n",
       " <ElementaryReaction: NNH <=> H + N2>,\n",
       " <ThreeBodyReaction: NNH + M <=> H + N2 + M>,\n",
       " <ElementaryReaction: NNH + O2 <=> HO2 + N2>,\n",
       " <ElementaryReaction: NNH + O <=> N2 + OH>,\n",
       " <ElementaryReaction: NNH + O <=> NH + NO>,\n",
       " <ElementaryReaction: H + NNH <=> H2 + N2>,\n",
       " <ElementaryReaction: NNH + OH <=> H2O + N2>,\n",
       " <ElementaryReaction: CH3 + NNH <=> CH4 + N2>,\n",
       " <ThreeBodyReaction: H + NO + M <=> HNO + M>,\n",
       " <ElementaryReaction: HNO + O <=> NO + OH>,\n",
       " <ElementaryReaction: H + HNO <=> H2 + NO>,\n",
       " <ElementaryReaction: HNO + OH <=> H2O + NO>,\n",
       " <ElementaryReaction: HNO + O2 <=> HO2 + NO>,\n",
       " <ElementaryReaction: CN + O <=> CO + N>,\n",
       " <ElementaryReaction: CN + OH <=> H + NCO>,\n",
       " <ElementaryReaction: CN + H2O <=> HCN + OH>,\n",
       " <ElementaryReaction: CN + O2 <=> NCO + O>,\n",
       " <ElementaryReaction: CN + H2 <=> H + HCN>,\n",
       " <ElementaryReaction: NCO + O <=> CO + NO>,\n",
       " <ElementaryReaction: H + NCO <=> CO + NH>,\n",
       " <ElementaryReaction: NCO + OH <=> CO + H + NO>,\n",
       " <ElementaryReaction: N + NCO <=> CO + N2>,\n",
       " <ElementaryReaction: NCO + O2 <=> CO2 + NO>,\n",
       " <ThreeBodyReaction: NCO + M <=> CO + N + M>,\n",
       " <ElementaryReaction: NCO + NO <=> CO + N2O>,\n",
       " <ElementaryReaction: NCO + NO <=> CO2 + N2>,\n",
       " <ThreeBodyReaction: HCN + M <=> CN + H + M>,\n",
       " <ElementaryReaction: HCN + O <=> H + NCO>,\n",
       " <ElementaryReaction: HCN + O <=> CO + NH>,\n",
       " <ElementaryReaction: HCN + O <=> CN + OH>,\n",
       " <ElementaryReaction: HCN + OH <=> H + HOCN>,\n",
       " <ElementaryReaction: HCN + OH <=> H + HNCO>,\n",
       " <ElementaryReaction: HCN + OH <=> CO + NH2>,\n",
       " <FalloffReaction: H + HCN (+M) <=> H2CN (+M)>,\n",
       " <ElementaryReaction: H2CN + N <=> CH2 + N2>,\n",
       " <ElementaryReaction: C + N2 <=> CN + N>,\n",
       " <ElementaryReaction: CH + N2 <=> HCN + N>,\n",
       " <FalloffReaction: CH + N2 (+M) <=> HCNN (+M)>,\n",
       " <ElementaryReaction: CH2 + N2 <=> HCN + NH>,\n",
       " <ElementaryReaction: CH2(S) + N2 <=> HCN + NH>,\n",
       " <ElementaryReaction: C + NO <=> CN + O>,\n",
       " <ElementaryReaction: C + NO <=> CO + N>,\n",
       " <ElementaryReaction: CH + NO <=> HCN + O>,\n",
       " <ElementaryReaction: CH + NO <=> H + NCO>,\n",
       " <ElementaryReaction: CH + NO <=> HCO + N>,\n",
       " <ElementaryReaction: CH2 + NO <=> H + HNCO>,\n",
       " <ElementaryReaction: CH2 + NO <=> HCN + OH>,\n",
       " <ElementaryReaction: CH2 + NO <=> H + HCNO>,\n",
       " <ElementaryReaction: CH2(S) + NO <=> H + HNCO>,\n",
       " <ElementaryReaction: CH2(S) + NO <=> HCN + OH>,\n",
       " <ElementaryReaction: CH2(S) + NO <=> H + HCNO>,\n",
       " <ElementaryReaction: CH3 + NO <=> H2O + HCN>,\n",
       " <ElementaryReaction: CH3 + NO <=> H2CN + OH>,\n",
       " <ElementaryReaction: HCNN + O <=> CO + H + N2>,\n",
       " <ElementaryReaction: HCNN + O <=> HCN + NO>,\n",
       " <ElementaryReaction: HCNN + O2 <=> HCO + N2 + O>,\n",
       " <ElementaryReaction: HCNN + OH <=> H + HCO + N2>,\n",
       " <ElementaryReaction: H + HCNN <=> CH2 + N2>,\n",
       " <ElementaryReaction: HNCO + O <=> CO2 + NH>,\n",
       " <ElementaryReaction: HNCO + O <=> CO + HNO>,\n",
       " <ElementaryReaction: HNCO + O <=> NCO + OH>,\n",
       " <ElementaryReaction: H + HNCO <=> CO + NH2>,\n",
       " <ElementaryReaction: H + HNCO <=> H2 + NCO>,\n",
       " <ElementaryReaction: HNCO + OH <=> H2O + NCO>,\n",
       " <ElementaryReaction: HNCO + OH <=> CO2 + NH2>,\n",
       " <ThreeBodyReaction: HNCO + M <=> CO + NH + M>,\n",
       " <ElementaryReaction: H + HCNO <=> H + HNCO>,\n",
       " <ElementaryReaction: H + HCNO <=> HCN + OH>,\n",
       " <ElementaryReaction: H + HCNO <=> CO + NH2>,\n",
       " <ElementaryReaction: H + HOCN <=> H + HNCO>,\n",
       " <ElementaryReaction: HCCO + NO <=> CO + HCNO>,\n",
       " <ElementaryReaction: CH3 + N <=> H + H2CN>,\n",
       " <ElementaryReaction: CH3 + N <=> H2 + HCN>,\n",
       " <ElementaryReaction: H + NH3 <=> H2 + NH2>,\n",
       " <ElementaryReaction: NH3 + OH <=> H2O + NH2>,\n",
       " <ElementaryReaction: NH3 + O <=> NH2 + OH>,\n",
       " <ElementaryReaction: CO2 + NH <=> CO + HNO>,\n",
       " <ElementaryReaction: CN + NO2 <=> NCO + NO>,\n",
       " <ElementaryReaction: NCO + NO2 <=> CO2 + N2O>,\n",
       " <ElementaryReaction: CO2 + N <=> CO + NO>,\n",
       " <ElementaryReaction: CH3 + O => CO + H + H2>,\n",
       " <ElementaryReaction: C2H4 + O <=> CH2CHO + H>,\n",
       " <ElementaryReaction: C2H5 + O <=> CH3CHO + H>,\n",
       " <ElementaryReaction: HO2 + OH <=> H2O + O2>,\n",
       " <ElementaryReaction: CH3 + OH => CH2O + H2>,\n",
       " <FalloffReaction: CH + H2 (+M) <=> CH3 (+M)>,\n",
       " <ElementaryReaction: CH2 + O2 => CO2 + 2 H>,\n",
       " <ElementaryReaction: CH2 + O2 <=> CH2O + O>,\n",
       " <ElementaryReaction: 2 CH2 => C2H2 + 2 H>,\n",
       " <ElementaryReaction: CH2(S) + H2O => CH2O + H2>,\n",
       " <ElementaryReaction: C2H3 + O2 <=> CH2CHO + O>,\n",
       " <ElementaryReaction: C2H3 + O2 <=> C2H2 + HO2>,\n",
       " <ElementaryReaction: CH3CHO + O <=> CH2CHO + OH>,\n",
       " <ElementaryReaction: CH3CHO + O => CH3 + CO + OH>,\n",
       " <ElementaryReaction: CH3CHO + O2 => CH3 + CO + HO2>,\n",
       " <ElementaryReaction: CH3CHO + H <=> CH2CHO + H2>,\n",
       " <ElementaryReaction: CH3CHO + H => CH3 + CO + H2>,\n",
       " <ElementaryReaction: CH3CHO + OH => CH3 + CO + H2O>,\n",
       " <ElementaryReaction: CH3CHO + HO2 => CH3 + CO + H2O2>,\n",
       " <ElementaryReaction: CH3 + CH3CHO => CH3 + CH4 + CO>,\n",
       " <FalloffReaction: CH2CO + H (+M) <=> CH2CHO (+M)>,\n",
       " <ElementaryReaction: CH2CHO + O => CH2 + CO2 + H>,\n",
       " <ElementaryReaction: CH2CHO + O2 => CH2O + CO + OH>,\n",
       " <ElementaryReaction: CH2CHO + O2 => 2 HCO + OH>,\n",
       " <ElementaryReaction: CH2CHO + H <=> CH3 + HCO>,\n",
       " <ElementaryReaction: CH2CHO + H <=> CH2CO + H2>,\n",
       " <ElementaryReaction: CH2CHO + OH <=> CH2CO + H2O>,\n",
       " <ElementaryReaction: CH2CHO + OH <=> CH2OH + HCO>,\n",
       " <FalloffReaction: C2H5 + CH3 (+M) <=> C3H8 (+M)>,\n",
       " <ElementaryReaction: C3H8 + O <=> C3H7 + OH>,\n",
       " <ElementaryReaction: C3H8 + H <=> C3H7 + H2>,\n",
       " <ElementaryReaction: C3H8 + OH <=> C3H7 + H2O>,\n",
       " <ElementaryReaction: C3H7 + H2O2 <=> C3H8 + HO2>,\n",
       " <ElementaryReaction: C3H8 + CH3 <=> C3H7 + CH4>,\n",
       " <FalloffReaction: C2H4 + CH3 (+M) <=> C3H7 (+M)>,\n",
       " <ElementaryReaction: C3H7 + O <=> C2H5 + CH2O>,\n",
       " <FalloffReaction: C3H7 + H (+M) <=> C3H8 (+M)>,\n",
       " <ElementaryReaction: C3H7 + H <=> C2H5 + CH3>,\n",
       " <ElementaryReaction: C3H7 + OH <=> C2H5 + CH2OH>,\n",
       " <ElementaryReaction: C3H7 + HO2 <=> C3H8 + O2>,\n",
       " <ElementaryReaction: C3H7 + HO2 => C2H5 + CH2O + OH>,\n",
       " <ElementaryReaction: C3H7 + CH3 <=> 2 C2H5>]"
      ]
     },
     "execution_count": 9,
     "metadata": {},
     "output_type": "execute_result"
    }
   ],
   "source": [
    "# list the n_reactions (=325 here) reactions in gas1 (i.e., in GRI-Mech 3.0), including their reaction types\n",
    "gas1.reactions()"
   ]
  },
  {
   "cell_type": "markdown",
   "metadata": {},
   "source": [
    "Comparing this to Table 5.4 in Chapter 5 of Turns 4th ed., it can be seen that the reactions are listed in the same order here as there. There the reactions are indexed from 1 to 325, whereas here they are indexed from 0 to 324. "
   ]
  },
  {
   "cell_type": "code",
   "execution_count": 10,
   "metadata": {},
   "outputs": [
    {
     "data": {
      "text/plain": [
       "<ThreeBodyReaction: 2 O + M <=> O2 + M>"
      ]
     },
     "execution_count": 10,
     "metadata": {},
     "output_type": "execute_result"
    }
   ],
   "source": [
    "# access a single reaction (here, reaction index 0, corresponding to the first reaction in the mechanism),\n",
    "#   including its reaction type\n",
    "gas1.reaction(0)"
   ]
  },
  {
   "cell_type": "markdown",
   "metadata": {},
   "source": [
    "This is the same as reaction 1 in Table 5.4. However, in Table 5.4 it is not indicated which reactions are reversible and which are irreversible.\n",
    "\n",
    "At this point, it is appropriate to make a few comments on notation and on reaction types.\n",
    "\n",
    "In Cantera, a reversible reaction is indicated by <=> or just by =. An irreversible reaction is indicated using a forward arrow: =>. Most of the reactions in the current mechanism are reversible reactions, but by scrolling down in the window above, it can be seen that there are some irreversible reactions.\n",
    "\n",
    "Several types of reactions can be specified in Cantera. Details can be found at http://cantera.github.io/docs/sphinx/html/cti/reactions.html. Brief descriptions of the three reaction types that are used in the current mechanism follow.\n",
    "\n",
    "* An *elementary reaction* (ElementaryReaction) is a reaction that represents the outcome of a molecular collision. The reaction order with respect to each species (that is, the power to which that species' molar concentration appears in the rate expression) is equal to the species stoichiometric coefficient. Rate coefficients are given in modified Arrhenius form: a pre-exponential factor, a temperature exponent, and an activation energy are specified for the forward reaction, as we will see below. Then the reverse rate (in the case of a reversible reaction) is computed internally using the equilibrium constant (a thermodynamic quantity) for the reaction. The reaction rate coefficients do not depend explicitly on pressure - the only pressure dependence is through the molar concentrations of the reactants.\n",
    "\n",
    "\n",
    "* A *three-body reaction* (ThreeBodyReaction), or termolecular reaction, is a special case of an elementary reaction that usually involves an unspecified third collision partner species denoted by \"M\", where M can be any species in the reaction mechanism. Different species can have different efficiences as collision partners. Therefore, in addition to the usual modified Arrhenius parameters, for a three-body reaction one can specify different efficiencies for each reaction partner M. This is discussed further in Section 6 below. \n",
    "\n",
    "\n",
    "* A *fall-off reaction* (FalloffReaction) is a three-body reaction for which the reaction rate is first-order in the molar concentration of M (denoted as [M]) at low pressure (as for a regular three-body reaction) but becomes zero-order in [M] as the pressure increases. Therefore, in addition to the usual modified Arrhenius parameters, additional information must be provided on how the \"fall-off\" varies with pressure and temperature. The details are beyond the scope of our current introductory level of discussion of reaction kinetics.\n",
    "\n",
    "For our purposes, elementary reactions (including three-body reactions) and global reactions (for which the reaction orders are empirical, and must be specified separately from the stoichiometric coefficients) are of most interest. There are no global reactions in the current mechanism. Those will be discussed in a subsequent tutorial, when we get to Chapter 5 of Turns 4th ed.\n",
    "\n",
    "Now, let's continue to look at attributes related to chemical reactions."
   ]
  },
  {
   "cell_type": "code",
   "execution_count": 11,
   "metadata": {},
   "outputs": [
    {
     "name": "stdout",
     "output_type": "stream",
     "text": [
      "Help on method_descriptor:\n",
      "\n",
      "reaction_equations(...)\n",
      "    Kinetics.reaction_equations(self, indices=None)\n",
      "    \n",
      "    Returns a list containing the reaction equation for all reactions in the\n",
      "    mechanism (if *indices* is unspecified) or the equations for each\n",
      "    reaction in the sequence *indices*. For example::\n",
      "    \n",
      "        >>> gas.reaction_equations()\n",
      "        ['2 O + M <=> O2 + M', 'O + H + M <=> OH + M', 'O + H2 <=> H + OH', ...]\n",
      "        >>> gas.reaction_equations([2,3])\n",
      "        ['O + H + M <=> OH + M', 'O + H2 <=> H + OH']\n",
      "    \n",
      "    See also `reaction_equation`.\n",
      "\n"
     ]
    }
   ],
   "source": [
    "# the n_reactions reactions can be accessed, without their reaction types, using \"reaction_equations\"\n",
    "help(gas1.__class__.reaction_equations)"
   ]
  },
  {
   "cell_type": "markdown",
   "metadata": {},
   "source": [
    "Note that `reaction_equations` is a list. What about `reaction_equation()`?"
   ]
  },
  {
   "cell_type": "code",
   "execution_count": 12,
   "metadata": {},
   "outputs": [
    {
     "name": "stdout",
     "output_type": "stream",
     "text": [
      "Help on method_descriptor:\n",
      "\n",
      "reaction_equation(...)\n",
      "    Kinetics.reaction_equation(self, int i_reaction)\n",
      "    The equation for the specified reaction. See also `reaction_equations`.\n",
      "\n"
     ]
    }
   ],
   "source": [
    "# how is \"reaction_equation\" different from \"reaction_equations\"?\n",
    "help(gas1.__class__.reaction_equation)"
   ]
  },
  {
   "cell_type": "markdown",
   "metadata": {},
   "source": [
    "So, `reaction_equation()` is a method or function that takes a reaction index as its argument."
   ]
  },
  {
   "cell_type": "code",
   "execution_count": 13,
   "metadata": {},
   "outputs": [
    {
     "data": {
      "text/plain": [
       "['2 O + M <=> O2 + M',\n",
       " 'H + O + M <=> OH + M',\n",
       " 'H2 + O <=> H + OH',\n",
       " 'HO2 + O <=> O2 + OH',\n",
       " 'H2O2 + O <=> HO2 + OH',\n",
       " 'CH + O <=> CO + H',\n",
       " 'CH2 + O <=> H + HCO',\n",
       " 'CH2(S) + O <=> CO + H2',\n",
       " 'CH2(S) + O <=> H + HCO',\n",
       " 'CH3 + O <=> CH2O + H',\n",
       " 'CH4 + O <=> CH3 + OH',\n",
       " 'CO + O (+M) <=> CO2 (+M)',\n",
       " 'HCO + O <=> CO + OH',\n",
       " 'HCO + O <=> CO2 + H',\n",
       " 'CH2O + O <=> HCO + OH',\n",
       " 'CH2OH + O <=> CH2O + OH',\n",
       " 'CH3O + O <=> CH2O + OH',\n",
       " 'CH3OH + O <=> CH2OH + OH',\n",
       " 'CH3OH + O <=> CH3O + OH',\n",
       " 'C2H + O <=> CH + CO',\n",
       " 'C2H2 + O <=> H + HCCO',\n",
       " 'C2H2 + O <=> C2H + OH',\n",
       " 'C2H2 + O <=> CH2 + CO',\n",
       " 'C2H3 + O <=> CH2CO + H',\n",
       " 'C2H4 + O <=> CH3 + HCO',\n",
       " 'C2H5 + O <=> CH2O + CH3',\n",
       " 'C2H6 + O <=> C2H5 + OH',\n",
       " 'HCCO + O <=> 2 CO + H',\n",
       " 'CH2CO + O <=> HCCO + OH',\n",
       " 'CH2CO + O <=> CH2 + CO2',\n",
       " 'CO + O2 <=> CO2 + O',\n",
       " 'CH2O + O2 <=> HCO + HO2',\n",
       " 'H + O2 + M <=> HO2 + M',\n",
       " 'H + 2 O2 <=> HO2 + O2',\n",
       " 'H + H2O + O2 <=> H2O + HO2',\n",
       " 'H + N2 + O2 <=> HO2 + N2',\n",
       " 'AR + H + O2 <=> AR + HO2',\n",
       " 'H + O2 <=> O + OH',\n",
       " '2 H + M <=> H2 + M',\n",
       " '2 H + H2 <=> 2 H2',\n",
       " '2 H + H2O <=> H2 + H2O',\n",
       " 'CO2 + 2 H <=> CO2 + H2',\n",
       " 'H + OH + M <=> H2O + M',\n",
       " 'H + HO2 <=> H2O + O',\n",
       " 'H + HO2 <=> H2 + O2',\n",
       " 'H + HO2 <=> 2 OH',\n",
       " 'H + H2O2 <=> H2 + HO2',\n",
       " 'H + H2O2 <=> H2O + OH',\n",
       " 'CH + H <=> C + H2',\n",
       " 'CH2 + H (+M) <=> CH3 (+M)',\n",
       " 'CH2(S) + H <=> CH + H2',\n",
       " 'CH3 + H (+M) <=> CH4 (+M)',\n",
       " 'CH4 + H <=> CH3 + H2',\n",
       " 'H + HCO (+M) <=> CH2O (+M)',\n",
       " 'H + HCO <=> CO + H2',\n",
       " 'CH2O + H (+M) <=> CH2OH (+M)',\n",
       " 'CH2O + H (+M) <=> CH3O (+M)',\n",
       " 'CH2O + H <=> H2 + HCO',\n",
       " 'CH2OH + H (+M) <=> CH3OH (+M)',\n",
       " 'CH2OH + H <=> CH2O + H2',\n",
       " 'CH2OH + H <=> CH3 + OH',\n",
       " 'CH2OH + H <=> CH2(S) + H2O',\n",
       " 'CH3O + H (+M) <=> CH3OH (+M)',\n",
       " 'CH3O + H <=> CH2OH + H',\n",
       " 'CH3O + H <=> CH2O + H2',\n",
       " 'CH3O + H <=> CH3 + OH',\n",
       " 'CH3O + H <=> CH2(S) + H2O',\n",
       " 'CH3OH + H <=> CH2OH + H2',\n",
       " 'CH3OH + H <=> CH3O + H2',\n",
       " 'C2H + H (+M) <=> C2H2 (+M)',\n",
       " 'C2H2 + H (+M) <=> C2H3 (+M)',\n",
       " 'C2H3 + H (+M) <=> C2H4 (+M)',\n",
       " 'C2H3 + H <=> C2H2 + H2',\n",
       " 'C2H4 + H (+M) <=> C2H5 (+M)',\n",
       " 'C2H4 + H <=> C2H3 + H2',\n",
       " 'C2H5 + H (+M) <=> C2H6 (+M)',\n",
       " 'C2H5 + H <=> C2H4 + H2',\n",
       " 'C2H6 + H <=> C2H5 + H2',\n",
       " 'H + HCCO <=> CH2(S) + CO',\n",
       " 'CH2CO + H <=> H2 + HCCO',\n",
       " 'CH2CO + H <=> CH3 + CO',\n",
       " 'H + HCCOH <=> CH2CO + H',\n",
       " 'CO + H2 (+M) <=> CH2O (+M)',\n",
       " 'H2 + OH <=> H + H2O',\n",
       " '2 OH (+M) <=> H2O2 (+M)',\n",
       " '2 OH <=> H2O + O',\n",
       " 'HO2 + OH <=> H2O + O2',\n",
       " 'H2O2 + OH <=> H2O + HO2',\n",
       " 'H2O2 + OH <=> H2O + HO2',\n",
       " 'C + OH <=> CO + H',\n",
       " 'CH + OH <=> H + HCO',\n",
       " 'CH2 + OH <=> CH2O + H',\n",
       " 'CH2 + OH <=> CH + H2O',\n",
       " 'CH2(S) + OH <=> CH2O + H',\n",
       " 'CH3 + OH (+M) <=> CH3OH (+M)',\n",
       " 'CH3 + OH <=> CH2 + H2O',\n",
       " 'CH3 + OH <=> CH2(S) + H2O',\n",
       " 'CH4 + OH <=> CH3 + H2O',\n",
       " 'CO + OH <=> CO2 + H',\n",
       " 'HCO + OH <=> CO + H2O',\n",
       " 'CH2O + OH <=> H2O + HCO',\n",
       " 'CH2OH + OH <=> CH2O + H2O',\n",
       " 'CH3O + OH <=> CH2O + H2O',\n",
       " 'CH3OH + OH <=> CH2OH + H2O',\n",
       " 'CH3OH + OH <=> CH3O + H2O',\n",
       " 'C2H + OH <=> H + HCCO',\n",
       " 'C2H2 + OH <=> CH2CO + H',\n",
       " 'C2H2 + OH <=> H + HCCOH',\n",
       " 'C2H2 + OH <=> C2H + H2O',\n",
       " 'C2H2 + OH <=> CH3 + CO',\n",
       " 'C2H3 + OH <=> C2H2 + H2O',\n",
       " 'C2H4 + OH <=> C2H3 + H2O',\n",
       " 'C2H6 + OH <=> C2H5 + H2O',\n",
       " 'CH2CO + OH <=> H2O + HCCO',\n",
       " '2 HO2 <=> H2O2 + O2',\n",
       " '2 HO2 <=> H2O2 + O2',\n",
       " 'CH2 + HO2 <=> CH2O + OH',\n",
       " 'CH3 + HO2 <=> CH4 + O2',\n",
       " 'CH3 + HO2 <=> CH3O + OH',\n",
       " 'CO + HO2 <=> CO2 + OH',\n",
       " 'CH2O + HO2 <=> H2O2 + HCO',\n",
       " 'C + O2 <=> CO + O',\n",
       " 'C + CH2 <=> C2H + H',\n",
       " 'C + CH3 <=> C2H2 + H',\n",
       " 'CH + O2 <=> HCO + O',\n",
       " 'CH + H2 <=> CH2 + H',\n",
       " 'CH + H2O <=> CH2O + H',\n",
       " 'CH + CH2 <=> C2H2 + H',\n",
       " 'CH + CH3 <=> C2H3 + H',\n",
       " 'CH + CH4 <=> C2H4 + H',\n",
       " 'CH + CO (+M) <=> HCCO (+M)',\n",
       " 'CH + CO2 <=> CO + HCO',\n",
       " 'CH + CH2O <=> CH2CO + H',\n",
       " 'CH + HCCO <=> C2H2 + CO',\n",
       " 'CH2 + O2 => CO + H + OH',\n",
       " 'CH2 + H2 <=> CH3 + H',\n",
       " '2 CH2 <=> C2H2 + H2',\n",
       " 'CH2 + CH3 <=> C2H4 + H',\n",
       " 'CH2 + CH4 <=> 2 CH3',\n",
       " 'CH2 + CO (+M) <=> CH2CO (+M)',\n",
       " 'CH2 + HCCO <=> C2H3 + CO',\n",
       " 'CH2(S) + N2 <=> CH2 + N2',\n",
       " 'AR + CH2(S) <=> AR + CH2',\n",
       " 'CH2(S) + O2 <=> CO + H + OH',\n",
       " 'CH2(S) + O2 <=> CO + H2O',\n",
       " 'CH2(S) + H2 <=> CH3 + H',\n",
       " 'CH2(S) + H2O (+M) <=> CH3OH (+M)',\n",
       " 'CH2(S) + H2O <=> CH2 + H2O',\n",
       " 'CH2(S) + CH3 <=> C2H4 + H',\n",
       " 'CH2(S) + CH4 <=> 2 CH3',\n",
       " 'CH2(S) + CO <=> CH2 + CO',\n",
       " 'CH2(S) + CO2 <=> CH2 + CO2',\n",
       " 'CH2(S) + CO2 <=> CH2O + CO',\n",
       " 'C2H6 + CH2(S) <=> C2H5 + CH3',\n",
       " 'CH3 + O2 <=> CH3O + O',\n",
       " 'CH3 + O2 <=> CH2O + OH',\n",
       " 'CH3 + H2O2 <=> CH4 + HO2',\n",
       " '2 CH3 (+M) <=> C2H6 (+M)',\n",
       " '2 CH3 <=> C2H5 + H',\n",
       " 'CH3 + HCO <=> CH4 + CO',\n",
       " 'CH2O + CH3 <=> CH4 + HCO',\n",
       " 'CH3 + CH3OH <=> CH2OH + CH4',\n",
       " 'CH3 + CH3OH <=> CH3O + CH4',\n",
       " 'C2H4 + CH3 <=> C2H3 + CH4',\n",
       " 'C2H6 + CH3 <=> C2H5 + CH4',\n",
       " 'H2O + HCO <=> CO + H + H2O',\n",
       " 'HCO + M <=> CO + H + M',\n",
       " 'HCO + O2 <=> CO + HO2',\n",
       " 'CH2OH + O2 <=> CH2O + HO2',\n",
       " 'CH3O + O2 <=> CH2O + HO2',\n",
       " 'C2H + O2 <=> CO + HCO',\n",
       " 'C2H + H2 <=> C2H2 + H',\n",
       " 'C2H3 + O2 <=> CH2O + HCO',\n",
       " 'C2H4 (+M) <=> C2H2 + H2 (+M)',\n",
       " 'C2H5 + O2 <=> C2H4 + HO2',\n",
       " 'HCCO + O2 <=> 2 CO + OH',\n",
       " '2 HCCO <=> C2H2 + 2 CO',\n",
       " 'N + NO <=> N2 + O',\n",
       " 'N + O2 <=> NO + O',\n",
       " 'N + OH <=> H + NO',\n",
       " 'N2O + O <=> N2 + O2',\n",
       " 'N2O + O <=> 2 NO',\n",
       " 'H + N2O <=> N2 + OH',\n",
       " 'N2O + OH <=> HO2 + N2',\n",
       " 'N2O (+M) <=> N2 + O (+M)',\n",
       " 'HO2 + NO <=> NO2 + OH',\n",
       " 'NO + O + M <=> NO2 + M',\n",
       " 'NO2 + O <=> NO + O2',\n",
       " 'H + NO2 <=> NO + OH',\n",
       " 'NH + O <=> H + NO',\n",
       " 'H + NH <=> H2 + N',\n",
       " 'NH + OH <=> H + HNO',\n",
       " 'NH + OH <=> H2O + N',\n",
       " 'NH + O2 <=> HNO + O',\n",
       " 'NH + O2 <=> NO + OH',\n",
       " 'N + NH <=> H + N2',\n",
       " 'H2O + NH <=> H2 + HNO',\n",
       " 'NH + NO <=> N2 + OH',\n",
       " 'NH + NO <=> H + N2O',\n",
       " 'NH2 + O <=> NH + OH',\n",
       " 'NH2 + O <=> H + HNO',\n",
       " 'H + NH2 <=> H2 + NH',\n",
       " 'NH2 + OH <=> H2O + NH',\n",
       " 'NNH <=> H + N2',\n",
       " 'NNH + M <=> H + N2 + M',\n",
       " 'NNH + O2 <=> HO2 + N2',\n",
       " 'NNH + O <=> N2 + OH',\n",
       " 'NNH + O <=> NH + NO',\n",
       " 'H + NNH <=> H2 + N2',\n",
       " 'NNH + OH <=> H2O + N2',\n",
       " 'CH3 + NNH <=> CH4 + N2',\n",
       " 'H + NO + M <=> HNO + M',\n",
       " 'HNO + O <=> NO + OH',\n",
       " 'H + HNO <=> H2 + NO',\n",
       " 'HNO + OH <=> H2O + NO',\n",
       " 'HNO + O2 <=> HO2 + NO',\n",
       " 'CN + O <=> CO + N',\n",
       " 'CN + OH <=> H + NCO',\n",
       " 'CN + H2O <=> HCN + OH',\n",
       " 'CN + O2 <=> NCO + O',\n",
       " 'CN + H2 <=> H + HCN',\n",
       " 'NCO + O <=> CO + NO',\n",
       " 'H + NCO <=> CO + NH',\n",
       " 'NCO + OH <=> CO + H + NO',\n",
       " 'N + NCO <=> CO + N2',\n",
       " 'NCO + O2 <=> CO2 + NO',\n",
       " 'NCO + M <=> CO + N + M',\n",
       " 'NCO + NO <=> CO + N2O',\n",
       " 'NCO + NO <=> CO2 + N2',\n",
       " 'HCN + M <=> CN + H + M',\n",
       " 'HCN + O <=> H + NCO',\n",
       " 'HCN + O <=> CO + NH',\n",
       " 'HCN + O <=> CN + OH',\n",
       " 'HCN + OH <=> H + HOCN',\n",
       " 'HCN + OH <=> H + HNCO',\n",
       " 'HCN + OH <=> CO + NH2',\n",
       " 'H + HCN (+M) <=> H2CN (+M)',\n",
       " 'H2CN + N <=> CH2 + N2',\n",
       " 'C + N2 <=> CN + N',\n",
       " 'CH + N2 <=> HCN + N',\n",
       " 'CH + N2 (+M) <=> HCNN (+M)',\n",
       " 'CH2 + N2 <=> HCN + NH',\n",
       " 'CH2(S) + N2 <=> HCN + NH',\n",
       " 'C + NO <=> CN + O',\n",
       " 'C + NO <=> CO + N',\n",
       " 'CH + NO <=> HCN + O',\n",
       " 'CH + NO <=> H + NCO',\n",
       " 'CH + NO <=> HCO + N',\n",
       " 'CH2 + NO <=> H + HNCO',\n",
       " 'CH2 + NO <=> HCN + OH',\n",
       " 'CH2 + NO <=> H + HCNO',\n",
       " 'CH2(S) + NO <=> H + HNCO',\n",
       " 'CH2(S) + NO <=> HCN + OH',\n",
       " 'CH2(S) + NO <=> H + HCNO',\n",
       " 'CH3 + NO <=> H2O + HCN',\n",
       " 'CH3 + NO <=> H2CN + OH',\n",
       " 'HCNN + O <=> CO + H + N2',\n",
       " 'HCNN + O <=> HCN + NO',\n",
       " 'HCNN + O2 <=> HCO + N2 + O',\n",
       " 'HCNN + OH <=> H + HCO + N2',\n",
       " 'H + HCNN <=> CH2 + N2',\n",
       " 'HNCO + O <=> CO2 + NH',\n",
       " 'HNCO + O <=> CO + HNO',\n",
       " 'HNCO + O <=> NCO + OH',\n",
       " 'H + HNCO <=> CO + NH2',\n",
       " 'H + HNCO <=> H2 + NCO',\n",
       " 'HNCO + OH <=> H2O + NCO',\n",
       " 'HNCO + OH <=> CO2 + NH2',\n",
       " 'HNCO + M <=> CO + NH + M',\n",
       " 'H + HCNO <=> H + HNCO',\n",
       " 'H + HCNO <=> HCN + OH',\n",
       " 'H + HCNO <=> CO + NH2',\n",
       " 'H + HOCN <=> H + HNCO',\n",
       " 'HCCO + NO <=> CO + HCNO',\n",
       " 'CH3 + N <=> H + H2CN',\n",
       " 'CH3 + N <=> H2 + HCN',\n",
       " 'H + NH3 <=> H2 + NH2',\n",
       " 'NH3 + OH <=> H2O + NH2',\n",
       " 'NH3 + O <=> NH2 + OH',\n",
       " 'CO2 + NH <=> CO + HNO',\n",
       " 'CN + NO2 <=> NCO + NO',\n",
       " 'NCO + NO2 <=> CO2 + N2O',\n",
       " 'CO2 + N <=> CO + NO',\n",
       " 'CH3 + O => CO + H + H2',\n",
       " 'C2H4 + O <=> CH2CHO + H',\n",
       " 'C2H5 + O <=> CH3CHO + H',\n",
       " 'HO2 + OH <=> H2O + O2',\n",
       " 'CH3 + OH => CH2O + H2',\n",
       " 'CH + H2 (+M) <=> CH3 (+M)',\n",
       " 'CH2 + O2 => CO2 + 2 H',\n",
       " 'CH2 + O2 <=> CH2O + O',\n",
       " '2 CH2 => C2H2 + 2 H',\n",
       " 'CH2(S) + H2O => CH2O + H2',\n",
       " 'C2H3 + O2 <=> CH2CHO + O',\n",
       " 'C2H3 + O2 <=> C2H2 + HO2',\n",
       " 'CH3CHO + O <=> CH2CHO + OH',\n",
       " 'CH3CHO + O => CH3 + CO + OH',\n",
       " 'CH3CHO + O2 => CH3 + CO + HO2',\n",
       " 'CH3CHO + H <=> CH2CHO + H2',\n",
       " 'CH3CHO + H => CH3 + CO + H2',\n",
       " 'CH3CHO + OH => CH3 + CO + H2O',\n",
       " 'CH3CHO + HO2 => CH3 + CO + H2O2',\n",
       " 'CH3 + CH3CHO => CH3 + CH4 + CO',\n",
       " 'CH2CO + H (+M) <=> CH2CHO (+M)',\n",
       " 'CH2CHO + O => CH2 + CO2 + H',\n",
       " 'CH2CHO + O2 => CH2O + CO + OH',\n",
       " 'CH2CHO + O2 => 2 HCO + OH',\n",
       " 'CH2CHO + H <=> CH3 + HCO',\n",
       " 'CH2CHO + H <=> CH2CO + H2',\n",
       " 'CH2CHO + OH <=> CH2CO + H2O',\n",
       " 'CH2CHO + OH <=> CH2OH + HCO',\n",
       " 'C2H5 + CH3 (+M) <=> C3H8 (+M)',\n",
       " 'C3H8 + O <=> C3H7 + OH',\n",
       " 'C3H8 + H <=> C3H7 + H2',\n",
       " 'C3H8 + OH <=> C3H7 + H2O',\n",
       " 'C3H7 + H2O2 <=> C3H8 + HO2',\n",
       " 'C3H8 + CH3 <=> C3H7 + CH4',\n",
       " 'C2H4 + CH3 (+M) <=> C3H7 (+M)',\n",
       " 'C3H7 + O <=> C2H5 + CH2O',\n",
       " 'C3H7 + H (+M) <=> C3H8 (+M)',\n",
       " 'C3H7 + H <=> C2H5 + CH3',\n",
       " 'C3H7 + OH <=> C2H5 + CH2OH',\n",
       " 'C3H7 + HO2 <=> C3H8 + O2',\n",
       " 'C3H7 + HO2 => C2H5 + CH2O + OH',\n",
       " 'C3H7 + CH3 <=> 2 C2H5']"
      ]
     },
     "execution_count": 13,
     "metadata": {},
     "output_type": "execute_result"
    }
   ],
   "source": [
    "# print all n_reactions reactions in the reaction mechanism, without their reaction types\n",
    "gas1.reaction_equations()"
   ]
  },
  {
   "cell_type": "markdown",
   "metadata": {},
   "source": [
    "This is the same as the result from `reactions`, but without the reaction types. Note that all of the reactions are either two-body reactions or three-body reactions in both the forward and reverse (in the case of reversible reactions) directions."
   ]
  },
  {
   "cell_type": "code",
   "execution_count": 14,
   "metadata": {},
   "outputs": [
    {
     "data": {
      "text/plain": [
       "'C3H7 + CH3 <=> 2 C2H5'"
      ]
     },
     "execution_count": 14,
     "metadata": {},
     "output_type": "execute_result"
    }
   ],
   "source": [
    "# an individual reaction without its reaction type can be accessed using the function \"reaction_equation\"\n",
    "# the argument (324 in the example here, corresponding to the last reaction in the mechanism) is the reaction index\n",
    "gas1.reaction_equation(324)"
   ]
  },
  {
   "cell_type": "markdown",
   "metadata": {},
   "source": [
    "An integer corresponding to the reaction type for each reaction is accessible using the `reaction_type()` attribute, which is a function that takes a reaction index as its argument:"
   ]
  },
  {
   "cell_type": "code",
   "execution_count": 15,
   "metadata": {},
   "outputs": [
    {
     "name": "stdout",
     "output_type": "stream",
     "text": [
      "Help on method_descriptor:\n",
      "\n",
      "reaction_type(...)\n",
      "    Kinetics.reaction_type(self, int i_reaction)\n",
      "    Type of reaction *i_reaction*.\n",
      "\n"
     ]
    }
   ],
   "source": [
    "# get help for attribute \"reaction_type\"\n",
    "help(gas1.__class__.reaction_type)"
   ]
  },
  {
   "cell_type": "code",
   "execution_count": 16,
   "metadata": {},
   "outputs": [
    {
     "data": {
      "text/plain": [
       "1"
      ]
     },
     "execution_count": 16,
     "metadata": {},
     "output_type": "execute_result"
    }
   ],
   "source": [
    "# reaction type 1 corresponds to ElementaryReaction\n",
    "# reaction index 2 has this reaction type, for example\n",
    "gas1.reaction_type(2)"
   ]
  },
  {
   "cell_type": "code",
   "execution_count": 17,
   "metadata": {},
   "outputs": [
    {
     "data": {
      "text/plain": [
       "2"
      ]
     },
     "execution_count": 17,
     "metadata": {},
     "output_type": "execute_result"
    }
   ],
   "source": [
    "# reaction type 2 corresponds to ThreeBodyReaction\n",
    "# reaction index 0 has this reaction type, for example\n",
    "gas1.reaction_type(0)"
   ]
  },
  {
   "cell_type": "code",
   "execution_count": 18,
   "metadata": {},
   "outputs": [
    {
     "data": {
      "text/plain": [
       "4"
      ]
     },
     "execution_count": 18,
     "metadata": {},
     "output_type": "execute_result"
    }
   ],
   "source": [
    "# reaction type 4 corresponds to FalloffReaction\n",
    "# reaction index 11 has this reaction type, for example\n",
    "gas1.reaction_type(11)"
   ]
  },
  {
   "cell_type": "markdown",
   "metadata": {},
   "source": [
    "Further information about reaction types 1 and 2 is provided below."
   ]
  },
  {
   "cell_type": "markdown",
   "metadata": {},
   "source": [
    "## 3. Subsets of reactions"
   ]
  },
  {
   "cell_type": "markdown",
   "metadata": {},
   "source": [
    "Just as one can work with a subset of the species in the gas mixture, one can work with a subset of the chemical reactions in the reaction mechanism. For example, one can collect the subset of reactions for which CO is on the left-hand side (the reactant side) and CO2 is on the right-hand side (the product side), as follows, where we use the [`reactants()`](https://cantera.org/documentation/docs-2.4/sphinx/html/cython/kinetics.html#cantera.Kinetics.reactants) and [`products()`](https://cantera.org/documentation/docs-2.4/sphinx/html/cython/kinetics.html#cantera.Kinetics.products) attributes:"
   ]
  },
  {
   "cell_type": "code",
   "execution_count": 19,
   "metadata": {},
   "outputs": [
    {
     "name": "stdout",
     "output_type": "stream",
     "text": [
      "CO + O (+M) <=> CO2 (+M)\n",
      "CO + O2 <=> CO2 + O\n",
      "CO + OH <=> CO2 + H\n",
      "CO + HO2 <=> CO2 + OH\n"
     ]
    }
   ],
   "source": [
    "CO_to_CO2_reactions = [i for i, r in enumerate(gas1.reactions()) if 'CO' in r.reactants and 'CO2' in r.products]\n",
    "\n",
    "for i in CO_to_CO2_reactions:\n",
    "    print(gas1.reaction(i).equation)"
   ]
  },
  {
   "cell_type": "markdown",
   "metadata": {},
   "source": [
    "There are four reactions in the current reaction mechanism that have CO on the left-hand (reactants) side and CO2 on the right-hand (products) side.\n",
    "\n",
    "We will work with subsets of reactions in subsequent tutorials."
   ]
  },
  {
   "cell_type": "markdown",
   "metadata": {},
   "source": [
    "## 4. Reactants, products, and stoichiometric coefficients"
   ]
  },
  {
   "cell_type": "markdown",
   "metadata": {},
   "source": [
    "As suggested by the example in Section 3 above, the left-hand-side of a reaction is accessible using attribute `reactants()`, where `reactants()` is a function that takes a reaction index as its argument.\n",
    "\n",
    "For example, the left-hand side of reaction index 0 can be accessed as follows:"
   ]
  },
  {
   "cell_type": "code",
   "execution_count": 20,
   "metadata": {},
   "outputs": [
    {
     "data": {
      "text/plain": [
       "'2 O + M'"
      ]
     },
     "execution_count": 20,
     "metadata": {},
     "output_type": "execute_result"
    }
   ],
   "source": [
    "# access the left-hand (reactants) side of reaction index 0\n",
    "gas1.reactants(0)"
   ]
  },
  {
   "cell_type": "markdown",
   "metadata": {},
   "source": [
    "The full matrix of reactant stoichiometric coefficients (`n_species` species X `n_reactions` reactions) is accessible using attribute [`reactant_stoich_coeffs`](https://cantera.org/documentation/docs-2.4/sphinx/html/cython/kinetics.html#cantera.Kinetics.reactant_stoich_coeffs). This is a two-dimensional array containing the values that are denoted as $ \\nu ' _ {ji} $ in Chapter 4 of Turns 4th ed., where the first index ($j$) is a species index and the second index ($i$) is a reaction index. Since all of the reactions in the current reaction mechanism are two-body or three-body reactions, most of the stoichiometric coefficient values are equal to zero. The function [`reactant_stoich_coeff()`](https://cantera.org/documentation/docs-2.4/sphinx/html/cython/kinetics.html#cantera.Kinetics.reactant_stoich_coeff) accesses the stoichiometric coefficient for a particular reactant species in a particular reaction."
   ]
  },
  {
   "cell_type": "code",
   "execution_count": 21,
   "metadata": {},
   "outputs": [
    {
     "name": "stdout",
     "output_type": "stream",
     "text": [
      "Help on method_descriptor:\n",
      "\n",
      "reactant_stoich_coeffs(...)\n",
      "    Kinetics.reactant_stoich_coeffs(self)\n",
      "    \n",
      "    The array of reactant stoichiometric coefficients. Element *[k,i]* of\n",
      "    this array is the reactant stoichiometric coefficient of species *k* in\n",
      "    reaction *i*.\n",
      "\n"
     ]
    }
   ],
   "source": [
    "# get help for attribute \"reactant_stoich_coeffs\"\n",
    "help(gas1.__class__.reactant_stoich_coeffs)"
   ]
  },
  {
   "cell_type": "code",
   "execution_count": 22,
   "metadata": {},
   "outputs": [
    {
     "name": "stdout",
     "output_type": "stream",
     "text": [
      "Help on method_descriptor:\n",
      "\n",
      "reactant_stoich_coeff(...)\n",
      "    Kinetics.reactant_stoich_coeff(self, k_spec, int i_reaction)\n",
      "    \n",
      "    The stoichiometric coefficient of species *k_spec* as a reactant in\n",
      "    reaction *i_reaction*.\n",
      "\n"
     ]
    }
   ],
   "source": [
    "# to access specific stoichiometric coefficient values, use the function \"reactant_stoich_coeff\"\n",
    "help(gas1.__class__.reactant_stoich_coeff)"
   ]
  },
  {
   "cell_type": "markdown",
   "metadata": {},
   "source": [
    "For example, to access the reactant-side (left-hand-side) stoichiometric coefficient for species O (oxygen atoms: species index 2) in the first reaction (reaction index 0):"
   ]
  },
  {
   "cell_type": "code",
   "execution_count": 23,
   "metadata": {},
   "outputs": [
    {
     "data": {
      "text/plain": [
       "2.0"
      ]
     },
     "execution_count": 23,
     "metadata": {},
     "output_type": "execute_result"
    }
   ],
   "source": [
    "# print the reactant-side stoichiometric coefficient for species 2 (O atoms) in reaction 0\n",
    "gas1.reactant_stoich_coeff(2,0)"
   ]
  },
  {
   "cell_type": "markdown",
   "metadata": {},
   "source": [
    "Note that the stoichiometric coefficients are floating-point numbers. For elementary reactions, we normally expect integer values for the stoichiometric coefficients, but non-integer values can be used, in general. Floating-point numbers are more appropriate for performing mathematical operations involving stoichiometric coefficients.\n",
    "\n",
    "If you didn't happen to remember from the earlier tutorials or the printout above that species index 2 corresponds to oxygen atoms, you could find the appropriate species index using `species_index()`:"
   ]
  },
  {
   "cell_type": "code",
   "execution_count": 24,
   "metadata": {},
   "outputs": [
    {
     "data": {
      "text/plain": [
       "2"
      ]
     },
     "execution_count": 24,
     "metadata": {},
     "output_type": "execute_result"
    }
   ],
   "source": [
    "# get the species index corresponding to oxygen atoms\n",
    "O_index = gas1.species_index('O')\n",
    "O_index"
   ]
  },
  {
   "cell_type": "code",
   "execution_count": 25,
   "metadata": {},
   "outputs": [
    {
     "data": {
      "text/plain": [
       "2.0"
      ]
     },
     "execution_count": 25,
     "metadata": {},
     "output_type": "execute_result"
    }
   ],
   "source": [
    "# print the reactant-side stoichiometric coefficient for O atoms in reaction 0 without knowing the species index\n",
    "gas1.reactant_stoich_coeff(gas1.species_index('O'),0)"
   ]
  },
  {
   "cell_type": "markdown",
   "metadata": {},
   "source": [
    "The attributes [`products()`](https://cantera.org/documentation/docs-2.4/sphinx/html/cython/kinetics.html#cantera.Kinetics.products), [`product_stoich_coeffs`](https://cantera.org/documentation/docs-2.4/sphinx/html/cython/kinetics.html#cantera.Kinetics.product_stoich_coeffs), and [`product_stoich_coeff()`](https://cantera.org/documentation/docs-2.4/sphinx/html/cython/kinetics.html#cantera.Kinetics.product_stoich_coeff) serve analogous purposes for the products side (right-hand side) of each reaction. For example:"
   ]
  },
  {
   "cell_type": "code",
   "execution_count": 26,
   "metadata": {},
   "outputs": [
    {
     "data": {
      "text/plain": [
       "'O2 + M'"
      ]
     },
     "execution_count": 26,
     "metadata": {},
     "output_type": "execute_result"
    }
   ],
   "source": [
    "# print the products side of reaction 0\n",
    "gas1.products(0)"
   ]
  },
  {
   "cell_type": "code",
   "execution_count": 27,
   "metadata": {},
   "outputs": [
    {
     "data": {
      "text/plain": [
       "1.0"
      ]
     },
     "execution_count": 27,
     "metadata": {},
     "output_type": "execute_result"
    }
   ],
   "source": [
    "# print the products-side stoichiometric coefficient for O2 in reaction 0\n",
    "gas1.product_stoich_coeff(gas1.species_index('O2'),0)"
   ]
  },
  {
   "cell_type": "markdown",
   "metadata": {},
   "source": [
    "Next, let's look at the rate coefficients for the forward reactions."
   ]
  },
  {
   "cell_type": "markdown",
   "metadata": {},
   "source": [
    "## 5. Forward reaction rates for elementary reactions"
   ]
  },
  {
   "cell_type": "markdown",
   "metadata": {},
   "source": [
    "Attribute [`forward_rate_constants`](https://cantera.org/documentation/docs-2.4/sphinx/html/cython/kinetics.html#cantera.Kinetics.forward_rate_constants) accesses the forward rate constants (or coefficients) for each reaction:"
   ]
  },
  {
   "cell_type": "code",
   "execution_count": 28,
   "metadata": {},
   "outputs": [
    {
     "name": "stdout",
     "output_type": "stream",
     "text": [
      "Help on getset descriptor cantera._cantera.Kinetics.forward_rate_constants:\n",
      "\n",
      "forward_rate_constants\n",
      "    Forward rate constants for all reactions. The computed values include\n",
      "    all temperature-dependent, pressure-dependent, and third body\n",
      "    contributions. Units are a combination of kmol, m^3 and s, that depend\n",
      "    on the rate expression for the reaction.\n",
      "\n"
     ]
    }
   ],
   "source": [
    "help(gas1.__class__.forward_rate_constants)"
   ]
  },
  {
   "cell_type": "markdown",
   "metadata": {},
   "source": [
    "Note again that SI units are used in Cantera, with the exception of moles, for which kmol are used.\n",
    "\n",
    "We can print all of the forward rate constants, if we like:"
   ]
  },
  {
   "cell_type": "code",
   "execution_count": 29,
   "metadata": {},
   "outputs": [
    {
     "data": {
      "text/plain": [
       "array([3.89971108e+07, 1.35406635e+08, 5.19544397e+03, 2.00000000e+10,\n",
       "       1.05664490e+06, 5.70000000e+10, 8.00000000e+10, 1.50000000e+10,\n",
       "       1.50000000e+10, 5.06000000e+10, 2.87946379e+03, 1.62105886e+05,\n",
       "       3.00000000e+10, 3.00000000e+10, 1.02855600e+08, 1.00000000e+10,\n",
       "       1.00000000e+10, 3.33681068e+06, 4.61659545e+04, 5.00000000e+10,\n",
       "       5.01712479e+07, 1.20331138e-08, 2.57917378e+07, 3.00000000e+10,\n",
       "       2.94968217e+08, 2.24000000e+10, 3.66665350e+05, 1.00000000e+11,\n",
       "       1.48634808e+04, 1.81795608e+08, 3.77016331e-26, 7.25441906e-19,\n",
       "       8.42548582e+08, 1.76373356e+10, 1.47545591e+11, 2.20466695e+10,\n",
       "       7.30131417e+09, 2.22704446e-01, 0.00000000e+00, 2.93744509e+09,\n",
       "       4.80562283e+10, 6.11111111e+09, 7.24876852e+09, 1.28818167e+09,\n",
       "       7.46889071e+09, 2.89528522e+10, 1.77380642e+05, 2.38481249e+07,\n",
       "       1.65000000e+11, 5.25749424e+10, 3.00000000e+10, 2.26238009e+11,\n",
       "       8.62389944e+01, 1.25265114e+10, 7.34000000e+10, 1.17946422e+07,\n",
       "       1.27498958e+07, 2.93722075e+07, 1.46669218e+09, 2.00000000e+10,\n",
       "       1.08268590e+10, 7.05597642e+09, 7.53662789e+05, 1.79535663e+07,\n",
       "       2.00000000e+10, 3.12453382e+10, 1.17242352e+10, 7.66799688e+05,\n",
       "       1.89444629e+05, 2.79064845e+11, 9.32903846e+07, 1.25140013e+10,\n",
       "       3.00000000e+10, 3.26060301e+08, 2.96945713e+00, 8.45495307e+10,\n",
       "       2.00000000e+09, 1.91309559e+04, 1.00000000e+11, 7.43174042e+04,\n",
       "       3.59610273e+07, 1.00000000e+10, 1.22850368e-50, 3.76880374e+06,\n",
       "       3.85104556e+09, 1.08358364e+09, 3.35436617e+10, 9.77162808e+08,\n",
       "       6.39303397e-07, 5.00000000e+10, 3.00000000e+10, 2.00000000e+10,\n",
       "       6.63538537e+06, 3.00000000e+10, 6.92152993e+10, 5.79687175e+04,\n",
       "       2.86602672e+10, 4.90366749e+06, 4.66141649e+07, 5.00000000e+10,\n",
       "       6.08036942e+09, 5.00000000e+09, 5.00000000e+09, 5.30313089e+08,\n",
       "       4.57989644e+07, 2.00000000e+10, 1.63676780e+05, 3.67504628e-02,\n",
       "       1.91903694e-01, 1.12047460e+05, 5.00000000e+09, 4.89026817e+06,\n",
       "       1.46797422e+08, 2.61873405e+08, 2.00158388e+09, 7.61079602e+02,\n",
       "       2.00000000e+10, 1.00000000e+09, 3.78000000e+10, 9.63489123e-07,\n",
       "       9.13295522e-01, 2.20709319e+10, 5.00000000e+10, 5.00000000e+10,\n",
       "       6.71000000e+10, 5.85916341e+08, 2.02601303e+10, 4.00000000e+10,\n",
       "       3.00000000e+10, 6.00000000e+10, 1.48995794e+10, 5.95003504e-01,\n",
       "       2.24419648e+11, 5.00000000e+10, 4.03870938e+08, 2.43369663e+02,\n",
       "       3.18490095e+03, 4.00000000e+10, 2.09221934e+02, 6.21856205e+06,\n",
       "       3.00000000e+10, 5.48277342e+09, 3.28966405e+09, 2.80000000e+10,\n",
       "       1.20000000e+10, 7.00000000e+10, 5.84950754e+10, 3.00000000e+10,\n",
       "       3.12189044e+10, 4.16252059e+10, 9.00000000e+09, 7.00000000e+09,\n",
       "       1.40000000e+10, 1.00629822e+11, 2.22448361e-12, 3.66809475e-06,\n",
       "       5.42130231e+03, 2.67063295e+10, 2.29523906e+02, 2.64800000e+10,\n",
       "       1.63277783e+03, 8.94670037e+00, 2.98223346e+00, 4.05701837e+00,\n",
       "       3.05979122e+00, 2.06407810e+00, 2.09058422e-02, 6.87588035e+09,\n",
       "       3.97773699e+09, 1.06934322e+06, 3.54818393e+10, 3.40319623e+08,\n",
       "       3.00783997e+09, 5.53379790e-50, 1.26299074e+06, 7.63877723e+08,\n",
       "       1.00000000e+10, 1.48850951e+10, 4.96834440e+04, 1.76145916e+10,\n",
       "       1.86726475e+01, 3.96252281e-07, 6.82205805e-03, 9.10200952e-07,\n",
       "       2.30247814e-31, 4.72014373e+09, 2.76921128e+09, 5.83312108e+09,\n",
       "       7.21637935e+10, 4.00000000e+10, 1.83971246e+10, 2.00000000e+10,\n",
       "       1.87748079e+09, 7.63468923e+02, 5.62397470e+06, 1.50000000e+10,\n",
       "       1.62747250e+00, 5.81722501e+09, 2.80277542e+10, 3.00000000e+09,\n",
       "       3.90000000e+10, 8.77182547e+07, 1.01164342e+09, 3.30000000e+08,\n",
       "       1.32860609e+06, 5.00000000e+09, 2.50000000e+10, 7.00000000e+10,\n",
       "       5.00000000e+10, 2.00000000e+10, 2.50000000e+10, 5.65184577e+08,\n",
       "       2.50000000e+10, 1.80704828e+10, 3.25487582e+09, 3.38606942e+00,\n",
       "       7.70000000e+10, 4.00000000e+10, 2.94165935e+04, 1.28440427e+10,\n",
       "       8.07165959e+06, 2.35000000e+10, 5.40000000e+10, 2.50000000e+09,\n",
       "       2.00000000e+10, 5.38680575e-06, 1.06302189e-29, 9.42867015e+09,\n",
       "       1.10345122e+10, 3.35839479e-76, 1.65668973e+04, 4.13764380e+03,\n",
       "       1.34378285e-09, 2.13848035e-02, 3.79702218e+01, 9.75407271e-02,\n",
       "       1.68582550e+09, 3.06730722e+10, 1.88132526e-23, 1.02239702e-06,\n",
       "       2.02088309e+09, 1.23627442e-44, 4.45122235e-40, 1.90000000e+10,\n",
       "       2.90000000e+10, 4.10000000e+10, 1.62000000e+10, 2.46000000e+10,\n",
       "       1.40526586e+10, 1.58320000e+09, 1.84288690e+09, 1.40526586e+10,\n",
       "       1.58320000e+09, 1.84288690e+09, 1.00439637e-10, 1.43038414e-07,\n",
       "       2.20000000e+10, 2.00000000e+09, 1.20000000e+10, 1.20000000e+10,\n",
       "       1.00000000e+11, 1.95814616e+02, 1.02762470e-23, 1.83831648e+00,\n",
       "       6.23800763e+05, 3.35075607e-02, 4.08931024e+05, 4.08931024e+04,\n",
       "       1.83835590e-50, 3.44210066e+08, 2.15207563e+07, 1.85048906e+07,\n",
       "       6.28496172e+07, 9.00000000e+09, 6.39972946e+10, 1.01235669e+10,\n",
       "       2.84810929e+01, 9.26106431e+07, 1.18230742e+04, 3.51755743e-01,\n",
       "       4.73650747e+10, 1.06038906e+10, 1.75890142e+01, 3.37000000e+10,\n",
       "       1.58102965e+08, 1.09600000e+11, 1.18665944e+00, 2.63112617e+09,\n",
       "       2.00248932e+10, 4.68490288e+08, 1.93858050e+08, 1.97564566e+03,\n",
       "       1.36206584e+09, 1.55522940e+09, 2.47762082e+07, 2.81392220e+08,\n",
       "       2.81392220e+08, 9.08617985e-19, 2.71149152e+07, 2.71149152e+07,\n",
       "       9.74708012e+09, 6.20641236e+00, 3.20953943e+03, 9.21198844e+10,\n",
       "       1.50000000e+11, 1.81000000e+07, 2.35000000e+07, 2.20000000e+10,\n",
       "       1.10000000e+10, 1.20000000e+10, 3.01000000e+10, 9.40234968e+09,\n",
       "       1.64889217e+06, 3.09611942e+04, 1.89714451e+08, 1.66929930e+05,\n",
       "       6.10378338e+00, 1.60628003e+03, 9.64000000e+10, 3.33754987e+10,\n",
       "       2.42700119e+08, 2.41000000e+10, 5.31089106e+08, 2.41000000e+10,\n",
       "       3.10601045e+09])"
      ]
     },
     "execution_count": 29,
     "metadata": {},
     "output_type": "execute_result"
    }
   ],
   "source": [
    "# print the forward rate constants\n",
    "gas1.forward_rate_constants"
   ]
  },
  {
   "cell_type": "markdown",
   "metadata": {},
   "source": [
    "However, this is not particularly useful, without knowing what the numbers mean. \n",
    "\n",
    "To find out more about the reaction rates, let's focus on one individual reaction:"
   ]
  },
  {
   "cell_type": "code",
   "execution_count": 30,
   "metadata": {},
   "outputs": [
    {
     "data": {
      "text/plain": [
       "<ElementaryReaction: H2 + O <=> H + OH>"
      ]
     },
     "execution_count": 30,
     "metadata": {},
     "output_type": "execute_result"
    }
   ],
   "source": [
    "# access the reaction with reaction index 2 in the current mechanism as \"r2\"\n",
    "r2 = gas1.reaction(2)\n",
    "r2"
   ]
  },
  {
   "cell_type": "markdown",
   "metadata": {},
   "source": [
    "Now let's see what attributes are available for this individual reaction:"
   ]
  },
  {
   "cell_type": "code",
   "execution_count": 31,
   "metadata": {},
   "outputs": [
    {
     "data": {
      "text/plain": [
       "['ID',\n",
       " '__class__',\n",
       " '__contains__',\n",
       " '__delattr__',\n",
       " '__dir__',\n",
       " '__doc__',\n",
       " '__eq__',\n",
       " '__format__',\n",
       " '__ge__',\n",
       " '__getattribute__',\n",
       " '__gt__',\n",
       " '__hash__',\n",
       " '__init__',\n",
       " '__init_subclass__',\n",
       " '__le__',\n",
       " '__lt__',\n",
       " '__ne__',\n",
       " '__new__',\n",
       " '__pyx_vtable__',\n",
       " '__reduce__',\n",
       " '__reduce_ex__',\n",
       " '__repr__',\n",
       " '__setattr__',\n",
       " '__setstate__',\n",
       " '__sizeof__',\n",
       " '__str__',\n",
       " '__subclasshook__',\n",
       " 'allow_negative_orders',\n",
       " 'allow_negative_pre_exponential_factor',\n",
       " 'allow_nonreactant_orders',\n",
       " 'duplicate',\n",
       " 'equation',\n",
       " 'fromCti',\n",
       " 'fromXml',\n",
       " 'listFromCti',\n",
       " 'listFromFile',\n",
       " 'listFromXml',\n",
       " 'orders',\n",
       " 'product_string',\n",
       " 'products',\n",
       " 'rate',\n",
       " 'reactant_string',\n",
       " 'reactants',\n",
       " 'reaction_type',\n",
       " 'reversible']"
      ]
     },
     "execution_count": 31,
     "metadata": {},
     "output_type": "execute_result"
    }
   ],
   "source": [
    "# display all attributes of r2\n",
    "dir(r2)"
   ]
  },
  {
   "cell_type": "markdown",
   "metadata": {},
   "source": [
    "Some of the attributes (e.g., [`equation`](https://cantera.org/documentation/docs-2.4/sphinx/html/cython/kinetics#cantera.Reaction.equation), [`reactants`](https://cantera.org/documentation/docs-2.4/sphinx/html/cython/kinetics#cantera.Reaction.reactants), [`products`](https://cantera.org/documentation/docs-2.4/sphinx/html/cython/kinetics#cantera.Reaction.products) have the same names as attributes for gas1, but here they refer to individual reactions. There are others that are not attributes of gas1. Let's look at some of the key attributes of interest."
   ]
  },
  {
   "cell_type": "code",
   "execution_count": 32,
   "metadata": {},
   "outputs": [
    {
     "name": "stdout",
     "output_type": "stream",
     "text": [
      "Help on getset descriptor cantera._cantera.Reaction.reversible:\n",
      "\n",
      "reversible\n",
      "    Get/Set a flag which is `True` if this reaction is reversible or `False`\n",
      "    otherwise.\n",
      "\n"
     ]
    }
   ],
   "source": [
    "# is reaction r2 reversible or irreversible?\n",
    "# attribute \"reversible\" holds this information\n",
    "help(r2.__class__.reversible)"
   ]
  },
  {
   "cell_type": "code",
   "execution_count": 33,
   "metadata": {},
   "outputs": [
    {
     "data": {
      "text/plain": [
       "True"
      ]
     },
     "execution_count": 33,
     "metadata": {},
     "output_type": "execute_result"
    }
   ],
   "source": [
    "# is r2 reversible or irreversible?\n",
    "r2.reversible"
   ]
  },
  {
   "cell_type": "markdown",
   "metadata": {},
   "source": [
    "So, reaction r2 is reversible. That is consistent with the use of the <=> symbol between the left-hand side (reactants side) and the right-hand side (products side).\n",
    "\n",
    "What about the values of the modified Arrhenius reaction rate parameters? Those can be accessed using the [`rate`](https://cantera.org/documentation/docs-2.4/sphinx/html/cython/kinetics.html#cantera.ElementaryReaction.rate) attribute:"
   ]
  },
  {
   "cell_type": "code",
   "execution_count": 34,
   "metadata": {},
   "outputs": [
    {
     "name": "stdout",
     "output_type": "stream",
     "text": [
      "Help on getset descriptor cantera._cantera.ElementaryReaction.rate:\n",
      "\n",
      "rate\n",
      "    Get/Set the `Arrhenius` rate coefficient for this reaction.\n",
      "\n"
     ]
    }
   ],
   "source": [
    "# get help for attribute \"rate\"\n",
    "help(r2.__class__.rate)"
   ]
  },
  {
   "cell_type": "code",
   "execution_count": 35,
   "metadata": {},
   "outputs": [
    {
     "name": "stdout",
     "output_type": "stream",
     "text": [
      "Help on Arrhenius object:\n",
      "\n",
      "class Arrhenius(builtins.object)\n",
      " |  A reaction rate coefficient which depends on temperature only and follows\n",
      " |  the modified Arrhenius form:\n",
      " |  \n",
      " |  .. math::\n",
      " |  \n",
      " |      k_f = A T^b \\exp{-\\tfrac{E}{RT}}\n",
      " |  \n",
      " |  where *A* is the `pre_exponential_factor`, *b* is the `temperature_exponent`,\n",
      " |  and *E* is the `activation_energy`.\n",
      " |  \n",
      " |  Methods defined here:\n",
      " |  \n",
      " |  __call__(self, /, *args, **kwargs)\n",
      " |      Call self as a function.\n",
      " |  \n",
      " |  __reduce__ = __reduce_cython__(...)\n",
      " |      Arrhenius.__reduce_cython__(self)\n",
      " |  \n",
      " |  __repr__(self, /)\n",
      " |      Return repr(self).\n",
      " |  \n",
      " |  __setstate__ = __setstate_cython__(...)\n",
      " |      Arrhenius.__setstate_cython__(self, __pyx_state)\n",
      " |  \n",
      " |  ----------------------------------------------------------------------\n",
      " |  Static methods defined here:\n",
      " |  \n",
      " |  __new__(*args, **kwargs) from builtins.type\n",
      " |      Create and return a new object.  See help(type) for accurate signature.\n",
      " |  \n",
      " |  ----------------------------------------------------------------------\n",
      " |  Data descriptors defined here:\n",
      " |  \n",
      " |  activation_energy\n",
      " |      The activation energy *E* [J/kmol].\n",
      " |  \n",
      " |  pre_exponential_factor\n",
      " |      The pre-exponential factor *A* in units of m, kmol, and s raised to\n",
      " |      powers depending on the reaction order.\n",
      " |  \n",
      " |  temperature_exponent\n",
      " |      The temperature exponent *b*.\n",
      "\n"
     ]
    }
   ],
   "source": [
    "# or for more detailed information\n",
    "help(r2.rate)"
   ]
  },
  {
   "cell_type": "markdown",
   "metadata": {},
   "source": [
    "Here we will not be setting any rate parameters, just accessing the values that were specified in gri30.cti."
   ]
  },
  {
   "cell_type": "code",
   "execution_count": 36,
   "metadata": {},
   "outputs": [
    {
     "data": {
      "text/plain": [
       "Arrhenius(A=38.7, b=2.7, E=2.61918e+07)"
      ]
     },
     "execution_count": 36,
     "metadata": {},
     "output_type": "execute_result"
    }
   ],
   "source": [
    "# print the modified Arrhenius rate parameters for reaction r2\n",
    "r2.rate"
   ]
  },
  {
   "cell_type": "markdown",
   "metadata": {},
   "source": [
    "These pertain to the forward direction of the reaction. The forward rate constant (or rate coefficient) for the reaction (denoted as $ k_f (T) $ in Turns 4th ed. Chapter 4) has the form $ k_f (T) = A T^b \\exp \\{ -E_A/ (R_u T) \\} $, where $T$ is temperature, $R_u$ is the universal (molar) gas constant, and $A$, $b$, and $E_A$ are the three modified Arrhenius rate parameters.\n",
    "\n",
    "The units of the pre-exponential factor $A$ depend on the overall reaction order: that is, on the total number of molar concentration factors in the rate expression. In general, for a reaction with overall reaction order n, the units of $A$ are (kmol/m^3)^(1-n)/s or (m^3/kmol)^(n-1)/s. The term $T^b$ is interpreted as being dimensionless. Since reaction r2 is a two-body (bimolecular) reaction in the forward direction, the units of $A$ are (kmol/m^3)^(-1)/s or m^3/kmol-s. For reaction number 3 in Table 5.4 of Turns 4th ed. (corresponding to reaction r2 here), the numerical value of $A$ in CGS units (see the Table 5.4 end-of-table footnotes) is given as 3.87e+04; there the units are cm^3/gmol-s. Since 1 kmol = 1000 gmol, and 1 m = 100 cm, the Cantera value of $A$ and the Table 5.4 value of $A$ are consistent with one another. The value of the temperature exponent $b$ for reaction r2 here is equal to the value in Table 5.4 for reaction number 3 ($b$ = 2.7). And after making the appropriate units conversions, it can be confirmed that the value of the activation energy $E_A$ here for r2 (in J/kmol) is equal to the value given for reaction number 3 in Table 5.4 (in cal/gmol)."
   ]
  },
  {
   "cell_type": "markdown",
   "metadata": {},
   "source": [
    "The forward rate constant (or coefficient) for each reaction, denoted $ k_f (T) $ in Turns 4th ed. Chapter 4, is then accessible using the [`forward_rate_constants`](https://cantera.org/documentation/docs-2.4/sphinx/html/cython/kinetics.html#cantera.Kinetics.forward_rate_constants) attribute:"
   ]
  },
  {
   "cell_type": "code",
   "execution_count": 37,
   "metadata": {},
   "outputs": [
    {
     "name": "stdout",
     "output_type": "stream",
     "text": [
      "Help on getset descriptor cantera._cantera.Kinetics.forward_rate_constants:\n",
      "\n",
      "forward_rate_constants\n",
      "    Forward rate constants for all reactions. The computed values include\n",
      "    all temperature-dependent, pressure-dependent, and third body\n",
      "    contributions. Units are a combination of kmol, m^3 and s, that depend\n",
      "    on the rate expression for the reaction.\n",
      "\n"
     ]
    }
   ],
   "source": [
    "help(gas1.__class__.forward_rate_constants)"
   ]
  },
  {
   "cell_type": "markdown",
   "metadata": {},
   "source": [
    "Again, it is important to note the units of $k_f(T)$. For an elementary reaction with a modified Arrhenius rate, the units of  $k_f(T)$ are the same as those of the pre-exponential factor $A$, and the units depend on the reaction order, as described earlier.\n",
    "\n",
    "For reaction r2, let's confirm that the value in `forward_rate_constants` is consistent with the Arrhenius rate parameters: $ k_f (T) = A T^b \\exp \\{ -E_A/ (R_u T) \\} $. To do this, we need to specify a temperature at which to evaluate the rate constant. Note that none of the attributes considered up to this point in this Notebook have depended on the state of the gas mixture."
   ]
  },
  {
   "cell_type": "code",
   "execution_count": 38,
   "metadata": {},
   "outputs": [
    {
     "name": "stdout",
     "output_type": "stream",
     "text": [
      "\n",
      "  gri30:\n",
      "\n",
      "       temperature            1000  K\n",
      "          pressure          101325  Pa\n",
      "           density       0.0245667  kg/m^3\n",
      "  mean mol. weight         2.01588  amu\n",
      "\n",
      "                          1 kg            1 kmol\n",
      "                       -----------      ------------\n",
      "          enthalpy      1.0262e+07        2.069e+07     J\n",
      "   internal energy      6.1373e+06        1.237e+07     J\n",
      "           entropy           82463        1.662e+05     J/K\n",
      "    Gibbs function     -7.2201e+07       -1.455e+08     J\n",
      " heat capacity c_p           14963        3.016e+04     J/K\n",
      " heat capacity c_v           10838        2.185e+04     J/K\n",
      "\n",
      "                           X                 Y          Chem. Pot. / RT\n",
      "                     -------------     ------------     ------------\n",
      "                H2              1                1         -17.5055\n",
      "     [  +52 minor]              0                0\n",
      "\n"
     ]
    }
   ],
   "source": [
    "# set gas1 to the desired temperature\n",
    "# the mixture pressure and composition don't matter, for the purpose of computing the rate constant for reaction r2\n",
    "T = 1000.\n",
    "gas1.TP = T , None\n",
    "gas1()"
   ]
  },
  {
   "cell_type": "code",
   "execution_count": 39,
   "metadata": {},
   "outputs": [
    {
     "data": {
      "text/plain": [
       "208746089.41191065"
      ]
     },
     "execution_count": 39,
     "metadata": {},
     "output_type": "execute_result"
    }
   ],
   "source": [
    "# compute the forward rate constant for reaction r2 using the modified Arrhenius coefficients and the current temperature\n",
    "R_u = ct.gas_constant # universal gas constant (J/kmol-K)\n",
    "A2  = 38.7            # pre-exponential factor (kmol/m^3)^(-1)/s, since r2 is a two-body reaction in forward direction\n",
    "b2  = 2.7             # temperature exponent (dimensionless)\n",
    "E2  = 2.61918e+07     # activation energy (J/kmol)\n",
    "\n",
    "k_f2 = A2*T**b2*np.exp(-E2/(R_u*T)) # the exponential function is defined in numpy\n",
    "k_f2"
   ]
  },
  {
   "cell_type": "code",
   "execution_count": 40,
   "metadata": {},
   "outputs": [
    {
     "data": {
      "text/plain": [
       "208745085.15891254"
      ]
     },
     "execution_count": 40,
     "metadata": {},
     "output_type": "execute_result"
    }
   ],
   "source": [
    "gas1.forward_rate_constants[2]"
   ]
  },
  {
   "cell_type": "markdown",
   "metadata": {},
   "source": [
    "The two values are the same to five significant figures. The difference may be due to rounding of values.\n",
    "\n",
    "To get a feel for how the rate constant varies with temperature, let's plot the value of the forward rate constant (or coefficient) for another reaction as a function of temperature. Reaction index 28 corresponds to a two-body elementary reaction that has an Arrhenius temperature dependence and no other explicit temperature dependence (b=0):"
   ]
  },
  {
   "cell_type": "code",
   "execution_count": 41,
   "metadata": {},
   "outputs": [
    {
     "data": {
      "text/plain": [
       "(<ElementaryReaction: CH2CO + O <=> HCCO + OH>,\n",
       " Arrhenius(A=1e+10, b=0, E=3.3472e+07))"
      ]
     },
     "execution_count": 41,
     "metadata": {},
     "output_type": "execute_result"
    }
   ],
   "source": [
    "# access reaction index 28\n",
    "r28 = gas1.reaction(28)\n",
    "\n",
    "r28 , r28.rate"
   ]
  },
  {
   "cell_type": "code",
   "execution_count": 42,
   "metadata": {},
   "outputs": [
    {
     "data": {
      "image/png": "[encoded data removed]",
      "text/plain": [
       "<Figure size 432x288 with 1 Axes>"
      ]
     },
     "metadata": {
      "needs_background": "light"
     },
     "output_type": "display_data"
    }
   ],
   "source": [
    "tmin = gas1.min_temp\n",
    "tmax = gas1.max_temp + 1.\n",
    "tinc = 100.\n",
    "temp = np.arange(tmin,tmax,tinc)\n",
    "nt   = len(temp)\n",
    "kf2  = np.zeros(nt)\n",
    "\n",
    "for i , T in enumerate(temp):\n",
    "    gas1.TP  = T , None                         # set gas1 temperature; pressure and composition don't matter here\n",
    "    kf2[i]   = gas1.forward_rate_constants[28]  # forward rate constant for reaction index 28\n",
    "    \n",
    "fig, ax = plt.subplots()\n",
    "ax.plot(temp, kf2, lw=2)\n",
    "ax.set(xlabel='Temperature (K)',\n",
    "       ylabel='Rate constant (m^3/kmol-s)',\n",
    "       title ='Forward rate constant versus temperature')\n",
    "#ax.legend(handlelength=4,loc='best')\n",
    "ax.grid(True)\n",
    "fig.savefig(\"kf_vs_T_28.pdf\")"
   ]
  },
  {
   "cell_type": "markdown",
   "metadata": {},
   "source": [
    "Note the \"knee\" in the curve at a temperature of approximately 1000 K. This is a characteristic of the rate constant (or rate coefficient) for a reaction that has an Arrhenius temperature dependance. The temperature at which the knee occurs is proportional to (but not equal to) the *activation temperature* for the reaction $T_A$, where $T_A \\equiv E_A/R_u$. For example, for a reaction that has a higher activation energy value (still with b=0):"
   ]
  },
  {
   "cell_type": "code",
   "execution_count": 43,
   "metadata": {},
   "outputs": [
    {
     "data": {
      "text/plain": [
       "(<ElementaryReaction: CO + O2 <=> CO2 + O>,\n",
       " Arrhenius(A=2.5e+09, b=0, E=1.99995e+08))"
      ]
     },
     "execution_count": 43,
     "metadata": {},
     "output_type": "execute_result"
    }
   ],
   "source": [
    "# access reaction index 30\n",
    "r30 = gas1.reaction(30)\n",
    "\n",
    "r30 , r30.rate"
   ]
  },
  {
   "cell_type": "code",
   "execution_count": 44,
   "metadata": {},
   "outputs": [
    {
     "data": {
      "image/png": "[encoded data removed]",
      "text/plain": [
       "<Figure size 432x288 with 1 Axes>"
      ]
     },
     "metadata": {
      "needs_background": "light"
     },
     "output_type": "display_data"
    }
   ],
   "source": [
    "tmin = gas1.min_temp\n",
    "tmax = gas1.max_temp + 1.\n",
    "tinc = 100.\n",
    "temp = np.arange(tmin,tmax,tinc)\n",
    "nt   = len(temp)\n",
    "kf2  = np.zeros(nt)\n",
    "\n",
    "for i , T in enumerate(temp):\n",
    "    gas1.TP  = T , None                         # set gas1 temperature; pressure and composition don't matter here\n",
    "    kf2[i]   = gas1.forward_rate_constants[30]  # forward rate constant for reaction index 30\n",
    "    \n",
    "fig, ax = plt.subplots()\n",
    "ax.plot(temp, kf2, lw=2)\n",
    "ax.set(xlabel='Temperature (K)',\n",
    "       ylabel='Rate constant (m^3/kmol-s)',\n",
    "       title ='Forward rate constant versus temperature')\n",
    "#ax.legend(handlelength=4,loc='best')\n",
    "ax.grid(True)\n",
    "fig.savefig(\"kf_vs_T_30.pdf\")"
   ]
  },
  {
   "cell_type": "markdown",
   "metadata": {},
   "source": [
    "In can be seen that the temperature at which the rate coefficient begins to increase rapidly with increasing temperature is shifted to a higher temperature for a reaction that has a higher activation energy. The higher the activation energy (or equivalently, the higher the activation temperature) for a reaction, the higher the temperature must be for that reaction to become \"activated\". \n",
    "\n",
    "In most cases, the value of the activation energy $E_A$ for an individual reaction is zero or positive, although there are a few reactions in GRI-Mech 3.0 that have negative values of $E_A$. The value of the temperature exponent $b$ can be negative, zero, or positive. Thus the temperature dependence of the rate constant can vary widely from one reaction to another in a reaction mechanism. In particular, for $b = E_A = 0$, the rate constant is indeed a constant, and is independent of temperature. "
   ]
  },
  {
   "cell_type": "markdown",
   "metadata": {},
   "source": [
    "## 6. Three-body reactions"
   ]
  },
  {
   "cell_type": "markdown",
   "metadata": {},
   "source": [
    "We consider reaction index 0 as an example of a three-body reaction with a generic third-body collision partner \"M\":"
   ]
  },
  {
   "cell_type": "code",
   "execution_count": 45,
   "metadata": {},
   "outputs": [
    {
     "data": {
      "text/plain": [
       "<ThreeBodyReaction: 2 O + M <=> O2 + M>"
      ]
     },
     "execution_count": 45,
     "metadata": {},
     "output_type": "execute_result"
    }
   ],
   "source": [
    "# access the reaction with reaction index 0 in the current mechanism as \"r0\"\n",
    "r0 = gas1.reaction(0)\n",
    "r0"
   ]
  },
  {
   "cell_type": "markdown",
   "metadata": {},
   "source": [
    "Here M is a generic third-body collision partner, which can be any of the `n_species` species in the gas mixture. Three-body reactions are described in Chapter 4 of Turns 4th ed., and information on their treatment in Cantera can be found at http://cantera.github.io/docs/sphinx/html/cti/reactions.html. A brief explanation is provided here.\n",
    "\n",
    "In a three-body reaction involving a generic third collision partner species M, M can be any of the `n_species` species or molecules in the gas mixture. Thus one can think of a three-body reaction of this kind as representing `n_species` distinct elementary reactions, one for each third-body species M. The reaction rate can be different for each third-body species M, and that is handled by introducing an *efficiency* value for each M. For each third-body species M, the base rate constant $k_f(T)$ for the forward reaction (given in the usual modified Arrhenius form) is multiplied by the efficiency value for that M, and the contributions are summed over all `n_species` third-body species to get the total contribution from the reaction. Note that the Cantera units of $k_f(T)$ for a three-body reaction are (kmol/m^3)^(-2)/s or m^6/kmol^2-s. "
   ]
  },
  {
   "cell_type": "markdown",
   "metadata": {},
   "source": [
    "To make this more clear, consider a gas mixture that contains $N_{spec}$ different chemical species or molecules, and a three-body reaction of the form $A + B + M \\rightarrow C + M$, where $A$, $B$, and $C$ denote three species in the gas mixture and $M$ is a generic third body. The third-body efficiency for species $i$ is denoted as $ \\eta _ {i} $. The time-rate-of-change of molar concentration of species $A$ by this reaction for a single third-body species $i$ is then:\n",
    "\n",
    "$$ \\frac{d[A]}{dt} \\vert _ i = [A] [B] [M_i] \\eta _ i k_f(T) $$\n",
    "\n",
    "where $[M_i]$ is the molar concentration of species $i$. The time-rate-of-change of molar concentration of species $A$ considering all $N_{spec}$ third-body species is obtained by summing over all values of $i$:\n",
    "\n",
    "$$ \\frac{d[A]}{dt} = \\sum _ {i=1} ^ {N_{spec}} \\bigl( [A] [B] [M_i] \\eta _ i k_f(T) \\bigr) \n",
    "                   = [A] [B] k_f(T) \\sum _ {i=1} ^ {N_{spec}} \\bigl( \\eta_i [M_i] \\bigr)\n",
    "                   = [A] [B] [M'] k_f(T) $$\n",
    "                   \n",
    "where\n",
    "\n",
    "$$ [M'] \\equiv \\sum _ {i=1} ^ {N_{spec}} \\bigl( \\eta _ i [M_i] \\bigr) $$\n",
    "\n",
    "In the case where $ \\eta_{i} = 1.0 $ for all $i$, $[M']$ is simply the total mixture molar concentration (kmol/m^3) for the gas mixture. The total mixture molar concentration is equal to the sum of the molar concentrations of all species in the mixture.\n",
    "\n",
    "For the third-body reactions in most reaction mechanisms, values of $ \\eta_i $ are provided explicitly for only a small subset of the $N_{spec}$ species in the mixture. A default efficiency value (denoted as $\\eta_{def}$) is then used for all other species, where usually $\\eta_{def} = 1.0 $."
   ]
  },
  {
   "cell_type": "markdown",
   "metadata": {},
   "source": [
    "Now, let's look at how third-body reactions are handled in Cantera, starting with the attributes of reaction r0:"
   ]
  },
  {
   "cell_type": "code",
   "execution_count": 46,
   "metadata": {},
   "outputs": [
    {
     "data": {
      "text/plain": [
       "['ID',\n",
       " '__class__',\n",
       " '__contains__',\n",
       " '__delattr__',\n",
       " '__dir__',\n",
       " '__doc__',\n",
       " '__eq__',\n",
       " '__format__',\n",
       " '__ge__',\n",
       " '__getattribute__',\n",
       " '__gt__',\n",
       " '__hash__',\n",
       " '__init__',\n",
       " '__init_subclass__',\n",
       " '__le__',\n",
       " '__lt__',\n",
       " '__ne__',\n",
       " '__new__',\n",
       " '__pyx_vtable__',\n",
       " '__reduce__',\n",
       " '__reduce_ex__',\n",
       " '__repr__',\n",
       " '__setattr__',\n",
       " '__setstate__',\n",
       " '__sizeof__',\n",
       " '__str__',\n",
       " '__subclasshook__',\n",
       " 'allow_negative_orders',\n",
       " 'allow_negative_pre_exponential_factor',\n",
       " 'allow_nonreactant_orders',\n",
       " 'default_efficiency',\n",
       " 'duplicate',\n",
       " 'efficiencies',\n",
       " 'efficiency',\n",
       " 'equation',\n",
       " 'fromCti',\n",
       " 'fromXml',\n",
       " 'listFromCti',\n",
       " 'listFromFile',\n",
       " 'listFromXml',\n",
       " 'orders',\n",
       " 'product_string',\n",
       " 'products',\n",
       " 'rate',\n",
       " 'reactant_string',\n",
       " 'reactants',\n",
       " 'reaction_type',\n",
       " 'reversible']"
      ]
     },
     "execution_count": 46,
     "metadata": {},
     "output_type": "execute_result"
    }
   ],
   "source": [
    "# display all attributes of r0\n",
    "dir(r0)"
   ]
  },
  {
   "cell_type": "markdown",
   "metadata": {},
   "source": [
    "Reaction r0 has some attributes that were not available for reaction r2 (see Section 5 above). In particular, [`default_efficiency`](https://cantera.org/documentation/docs-2.4/sphinx/html/cython/kinetics.html#cantera.ThreeBodyReaction.default_efficiency), [`efficiencies`](https://cantera.org/documentation/docs-2.4/sphinx/html/cython/kinetics.html#cantera.ThreeBodyReaction.efficiencies), and [`efficiency()`](https://cantera.org/documentation/docs-2.4/sphinx/html/cython/kinetics.html#cantera.ThreeBodyReaction.efficiency) are related to third-body efficiencies. Let's look at those attributes, starting with the default third-body efficiency:"
   ]
  },
  {
   "cell_type": "code",
   "execution_count": 47,
   "metadata": {},
   "outputs": [
    {
     "name": "stdout",
     "output_type": "stream",
     "text": [
      "Help on getset descriptor cantera._cantera.ThreeBodyReaction.default_efficiency:\n",
      "\n",
      "default_efficiency\n",
      "    Get/Set the default third-body efficiency for this reaction, used for\n",
      "    species used for species not in `efficiencies`.\n",
      "\n"
     ]
    }
   ],
   "source": [
    "# get help for attribute \"default_efficiency\"\n",
    "help(r0.__class__.default_efficiency)"
   ]
  },
  {
   "cell_type": "markdown",
   "metadata": {},
   "source": [
    "This is the default third-body efficiency, denoted as $ \\eta _ {def} $ above."
   ]
  },
  {
   "cell_type": "code",
   "execution_count": 48,
   "metadata": {},
   "outputs": [
    {
     "data": {
      "text/plain": [
       "1.0"
      ]
     },
     "execution_count": 48,
     "metadata": {},
     "output_type": "execute_result"
    }
   ],
   "source": [
    "# print the default third-body efficiency for reaction r0\n",
    "r0.default_efficiency"
   ]
  },
  {
   "cell_type": "markdown",
   "metadata": {},
   "source": [
    "The default efficiency is equal to 1.0. This is often the case.\n",
    "\n",
    "Now let's look at how the non-default species-specific efficiency values are specified:"
   ]
  },
  {
   "cell_type": "code",
   "execution_count": 49,
   "metadata": {},
   "outputs": [
    {
     "name": "stdout",
     "output_type": "stream",
     "text": [
      "Help on getset descriptor cantera._cantera.ThreeBodyReaction.efficiencies:\n",
      "\n",
      "efficiencies\n",
      "    Get/Set a `dict` defining non-default third-body efficiencies for this\n",
      "    reaction, where the keys are the species names and the values are the\n",
      "    efficiencies.\n",
      "\n"
     ]
    }
   ],
   "source": [
    "# get help for attribute \"efficiencies\"\n",
    "help(r0.__class__.efficiencies)"
   ]
  },
  {
   "cell_type": "code",
   "execution_count": 50,
   "metadata": {},
   "outputs": [
    {
     "data": {
      "text/plain": [
       "{'AR': 0.83,\n",
       " 'C2H6': 3.0,\n",
       " 'CH4': 2.0,\n",
       " 'CO': 1.75,\n",
       " 'CO2': 3.6,\n",
       " 'H2': 2.4,\n",
       " 'H2O': 15.4}"
      ]
     },
     "execution_count": 50,
     "metadata": {},
     "output_type": "execute_result"
    }
   ],
   "source": [
    "# print the non-default species-specific third-body efficiencies for reaction r0\n",
    "r0.efficiencies"
   ]
  },
  {
   "cell_type": "markdown",
   "metadata": {},
   "source": [
    "For reaction r0, non-default efficiency values are given for only seven of the 53 species in gri30.cti. For any species $i$ that is not listed here, $\\eta_i = \\eta_{def} = 1.0 $.\n",
    "\n",
    "It can be seen that a water molecule is especially effective as a third-body collision partner for this particular reaction.\n",
    "\n",
    "Note that argon ('AR') is one of the species included in the reaction mechanism. Argon is often included for cases where it is desirable to have an inert diluent that does not participate chemically. In fact, the only way that AR appears in the mechanism is as a third-body ('M') in the three-body reactions. This can be verified by scanning through the mechanism and looking for 'AR'.\n",
    "\n",
    "Before proceeding, we make a brief detour to introduce Python dictionary ('dict') objects."
   ]
  },
  {
   "cell_type": "markdown",
   "metadata": {},
   "source": [
    "### 6.1 A brief detour: 'dict' objects"
   ]
  },
  {
   "cell_type": "markdown",
   "metadata": {},
   "source": [
    "The help output for `efficiencies` above states that it is a 'dict' object: that is, it is a Python dictionary. Several online tutorials are available for Python dictionaries, and the interested reader is referred there for more information. A few key points are made here that are relevant for our current purposes, and that will be useful in subsequent tutorial Notebooks.\n",
    "\n",
    "A dictionary is a collection of key:value pairs. In the case of `efficiencies`, the key is a species name and the value is the third-body efficiency for that species. We have seen this construction in earlier tutorial Notebooks, where it has been used to specify the composition of a gas mixture, for example.\n",
    "\n",
    "The following examples illustrate some basic operations that can be performed using a dictionary object."
   ]
  },
  {
   "cell_type": "code",
   "execution_count": 51,
   "metadata": {},
   "outputs": [
    {
     "data": {
      "text/plain": [
       "['AR', 'C2H6', 'CH4', 'CO', 'CO2', 'H2', 'H2O']"
      ]
     },
     "execution_count": 51,
     "metadata": {},
     "output_type": "execute_result"
    }
   ],
   "source": [
    "# create and print an array that contains the keys in \"efficiencies\"\n",
    "array = list(r0.efficiencies)\n",
    "array"
   ]
  },
  {
   "cell_type": "code",
   "execution_count": 52,
   "metadata": {},
   "outputs": [
    {
     "data": {
      "text/plain": [
       "3.0"
      ]
     },
     "execution_count": 52,
     "metadata": {},
     "output_type": "execute_result"
    }
   ],
   "source": [
    "# access and print the value corresponding to a specified key (here 'C2H6')\n",
    "eta = r0.efficiencies['C2H6']\n",
    "eta"
   ]
  },
  {
   "cell_type": "code",
   "execution_count": 53,
   "metadata": {},
   "outputs": [
    {
     "name": "stdout",
     "output_type": "stream",
     "text": [
      "AR\n",
      "0.83\n",
      "C2H6\n",
      "3.0\n",
      "CH4\n",
      "2.0\n",
      "CO\n",
      "1.75\n",
      "CO2\n",
      "3.6\n",
      "H2\n",
      "2.4\n",
      "H2O\n",
      "15.4\n"
     ]
    }
   ],
   "source": [
    " # loop over the items in a 'dict' and print the key and the value for each\n",
    "for item in r0.efficiencies:\n",
    "    print(item)\n",
    "    print(r0.efficiencies.get(item))"
   ]
  },
  {
   "cell_type": "code",
   "execution_count": 54,
   "metadata": {},
   "outputs": [
    {
     "data": {
      "text/plain": [
       "0.009749277707333553"
      ]
     },
     "execution_count": 54,
     "metadata": {},
     "output_type": "execute_result"
    }
   ],
   "source": [
    "# compute and print the third-body-efficiency-weighted sum of the molar concentrations of the species for which non-default\n",
    "#   efficiency values are given\n",
    "sum = 0.\n",
    "for item in r0.efficiencies:\n",
    "    sum += r0.efficiencies.get(item)*gas1.concentrations[gas1.species_index(item)]\n",
    "\n",
    "sum"
   ]
  },
  {
   "cell_type": "markdown",
   "metadata": {},
   "source": [
    "### 6.2 Back to three-body reactions"
   ]
  },
  {
   "cell_type": "markdown",
   "metadata": {},
   "source": [
    "The function `efficiency()` accesses the third-body efficiency for each species in the gas mixture, and takes a species name as its argument. For each species that is listed in `efficiencies`, this is the value given there. For each species that is not listed in `efficiencies`, this is the value given by `default_efficiency`. "
   ]
  },
  {
   "cell_type": "code",
   "execution_count": 55,
   "metadata": {},
   "outputs": [
    {
     "name": "stdout",
     "output_type": "stream",
     "text": [
      "Help on method_descriptor:\n",
      "\n",
      "efficiency(...)\n",
      "    ThreeBodyReaction.efficiency(self, species)\n",
      "    \n",
      "    Get the efficiency of the third body named *species* considering both\n",
      "    the default efficiency and species-specific efficiencies.\n",
      "\n"
     ]
    }
   ],
   "source": [
    "# get help for attribute \"efficiency\"\n",
    "help(r0.__class__.efficiency)"
   ]
  },
  {
   "cell_type": "code",
   "execution_count": 56,
   "metadata": {},
   "outputs": [
    {
     "data": {
      "text/plain": [
       "3.6"
      ]
     },
     "execution_count": 56,
     "metadata": {},
     "output_type": "execute_result"
    }
   ],
   "source": [
    "# print the third-body efficiency factor for CO2 in reaction r0\n",
    "r0.efficiency('CO2')"
   ]
  },
  {
   "cell_type": "markdown",
   "metadata": {},
   "source": [
    "This is consistent with the CO2 value reported by `efficiencies`. For a species that is not on the `efficiencies` list, the default value given by `default_efficiency` is used. For example:"
   ]
  },
  {
   "cell_type": "code",
   "execution_count": 57,
   "metadata": {},
   "outputs": [
    {
     "data": {
      "text/plain": [
       "1.0"
      ]
     },
     "execution_count": 57,
     "metadata": {},
     "output_type": "execute_result"
    }
   ],
   "source": [
    "# print the third-body efficiency factor for N2 in reaction r0\n",
    "r0.efficiency('N2')"
   ]
  },
  {
   "cell_type": "markdown",
   "metadata": {},
   "source": [
    "This is the default efficiency value."
   ]
  },
  {
   "cell_type": "markdown",
   "metadata": {},
   "source": [
    "Now let's look at the modified Arrhenius rate parameters for three-body reaction r0:"
   ]
  },
  {
   "cell_type": "code",
   "execution_count": 58,
   "metadata": {},
   "outputs": [
    {
     "data": {
      "text/plain": [
       "Arrhenius(A=1.2e+11, b=-1, E=0)"
      ]
     },
     "execution_count": 58,
     "metadata": {},
     "output_type": "execute_result"
    }
   ],
   "source": [
    "r0.rate"
   ]
  },
  {
   "cell_type": "markdown",
   "metadata": {},
   "source": [
    "Before proceeding, we reset the composition of the gas mixture to something other than the default composition (pure H2, the first species in the list of species). For reasons that we will see shortly, we want to have non-zero values of molar concentrations of more than one species. For that purpose, we (somewhat arbitrarily) set the composition to equal mass fractions of all species:"
   ]
  },
  {
   "cell_type": "code",
   "execution_count": 59,
   "metadata": {},
   "outputs": [
    {
     "name": "stdout",
     "output_type": "stream",
     "text": [
      "\n",
      "  gri30:\n",
      "\n",
      "       temperature            1000  K\n",
      "          pressure          101325  Pa\n",
      "           density        0.185332  kg/m^3\n",
      "  mean mol. weight         15.2079  amu\n",
      "\n",
      "                          1 kg            1 kmol\n",
      "                       -----------      ------------\n",
      "          enthalpy       1.196e+07        1.819e+08     J\n",
      "   internal energy      1.1413e+07        1.736e+08     J\n",
      "           entropy           15750        2.395e+05     J/K\n",
      "    Gibbs function     -3.7902e+06       -5.764e+07     J\n",
      " heat capacity c_p          2770.1        4.213e+04     J/K\n",
      " heat capacity c_v          2223.3        3.381e+04     J/K\n",
      "\n",
      "                           X                 Y          Chem. Pot. / RT\n",
      "                     -------------     ------------     ------------\n",
      "                H2        0.14234        0.0188679         -19.4551\n",
      "                 H       0.284681        0.0188679          9.89457\n",
      "                 O      0.0179345        0.0188679          5.26947\n",
      "                O2     0.00896725        0.0188679         -31.2799\n",
      "                OH      0.0168716        0.0188679         -23.2607\n",
      "               H2O      0.0159277        0.0188679         -58.0887\n",
      "               HO2     0.00869341        0.0188679         -33.1744\n",
      "              H2O2      0.0084358        0.0188679         -52.3258\n",
      "                 C      0.0238899        0.0188679          62.1746\n",
      "                CH      0.0220403        0.0188679          44.2078\n",
      "               CH2      0.0204565        0.0188679          17.6094\n",
      "            CH2(S)      0.0204565        0.0188679          22.8435\n",
      "               CH3      0.0190851        0.0188679         -12.3362\n",
      "               CH4       0.017886        0.0188679         -38.2084\n",
      "                CO      0.0102441        0.0188679         -43.4752\n",
      "               CO2     0.00651994        0.0188679         -80.7319\n",
      "               HCO     0.00988827        0.0188679          -28.891\n",
      "              CH2O     0.00955633        0.0188679         -46.6468\n",
      "             CH2OH     0.00924596        0.0188679         -39.3119\n",
      "              CH3O     0.00924596        0.0188679         -33.2871\n",
      "             CH3OH     0.00895511        0.0188679         -61.2613\n",
      "               C2H      0.0114639        0.0188679          35.2077\n",
      "              C2H2      0.0110201        0.0188679         -4.46706\n",
      "              C2H3      0.0106094        0.0188679      -0.00799457\n",
      "              C2H4      0.0102283        0.0188679         -28.2976\n",
      "              C2H5     0.00987352        0.0188679         -24.2773\n",
      "              C2H6     0.00954255        0.0188679         -46.8731\n",
      "              HCCO     0.00699356        0.0188679         -16.7553\n",
      "             CH2CO     0.00682587        0.0188679         -43.7018\n",
      "             HCCOH     0.00682587        0.0188679         -28.1217\n",
      "                 N      0.0204859        0.0188679          33.2533\n",
      "                NH      0.0191107        0.0188679          15.3768\n",
      "               NH2      0.0179085        0.0188679         -6.57693\n",
      "               NH3      0.0168486        0.0188679         -35.3226\n",
      "               NNH     0.00988722        0.0188679         -3.97506\n",
      "                NO     0.00956275        0.0188679         -20.8907\n",
      "               NO2      0.0062371        0.0188679          -32.462\n",
      "               N2O     0.00651948        0.0188679          -24.418\n",
      "               HNO     0.00925196        0.0188679         -20.7605\n",
      "                CN      0.0110287        0.0188679          22.0461\n",
      "               HCN      0.0106174        0.0188679         -15.5855\n",
      "              H2CN      0.0102356        0.0188679          -4.6629\n",
      "              HCNN     0.00699304        0.0188679          17.0173\n",
      "              HCNO     0.00666916        0.0188679         -17.0427\n",
      "              HOCN     0.00666916        0.0188679         -38.7884\n",
      "              HNCO     0.00666916        0.0188679         -51.4774\n",
      "               NCO     0.00682915        0.0188679         -19.8937\n",
      "                N2       0.010243        0.0188679         -29.4317\n",
      "                AR     0.00718287        0.0188679         -24.8168\n",
      "              C3H7     0.00665933        0.0188679         -33.9419\n",
      "              C3H8     0.00650712        0.0188679         -56.5845\n",
      "            CH2CHO     0.00666604        0.0188679         -38.4188\n",
      "            CH3CHO     0.00651352        0.0188679         -61.2844\n",
      "\n"
     ]
    }
   ],
   "source": [
    "Y        = np.ones(gas1.n_species)\n",
    "gas1.TPY = 1000., ct.one_atm, Y\n",
    "\n",
    "gas1()"
   ]
  },
  {
   "cell_type": "markdown",
   "metadata": {},
   "source": [
    "Now, let's compare the value of $k_f(T)$ computed using the modified Arrhenius rate coefficients with the value reported by `forward_rate_constants` for reaction r0:"
   ]
  },
  {
   "cell_type": "code",
   "execution_count": 60,
   "metadata": {},
   "outputs": [
    {
     "data": {
      "text/plain": [
       "120000000.0"
      ]
     },
     "execution_count": 60,
     "metadata": {},
     "output_type": "execute_result"
    }
   ],
   "source": [
    "# compute the forward rate constant using the modified Arrhenius coefficients and the current temperature\n",
    "R_u = ct.gas_constant # universal gas constant (J/kmol-K)\n",
    "A0  = 1.2e+11         # pre-exponential factor (kmol/m^3)^(-2)/s, since r0 is a three-body reaction in forward direction\n",
    "b0  = -1.             # temperature exponent (dimensionless)\n",
    "E0  = 0.              # activation energy (J/kmol)\n",
    "T   = gas1.T          # temperature (K)\n",
    "\n",
    "k_f0 = A0*T**b0*np.exp(-E0/(R_u*T)) # the exponential function is defined in numpy\n",
    "k_f0"
   ]
  },
  {
   "cell_type": "code",
   "execution_count": 61,
   "metadata": {},
   "outputs": [
    {
     "data": {
      "text/plain": [
       "2177530.0753192254"
      ]
     },
     "execution_count": 61,
     "metadata": {},
     "output_type": "execute_result"
    }
   ],
   "source": [
    "gas1.forward_rate_constants[0]"
   ]
  },
  {
   "cell_type": "markdown",
   "metadata": {},
   "source": [
    "The values are not the same! \n",
    "\n",
    "The reason for this is that for a three-body reaction, the value reported by `forward_rate_constants` includes the quantity that was defined earlier as $[M']$. That is, `forward_rate_constants` contains the value $[M']k_f(T)$. This is confirmed as follows. Recall that attribute `concentrations` is an array that contains the molar concentrations of all species in the gas mixture."
   ]
  },
  {
   "cell_type": "code",
   "execution_count": 62,
   "metadata": {},
   "outputs": [
    {
     "data": {
      "text/plain": [
       "2177530.0753192236"
      ]
     },
     "execution_count": 62,
     "metadata": {},
     "output_type": "execute_result"
    }
   ],
   "source": [
    "# compute the third-body-efficiency-weighted sum of the molar concentrations of all species in the gas mixture\n",
    "Mprime = 0.\n",
    "for i in range(gas1.n_species):\n",
    "    Mprime += r0.efficiency(gas1.species_name(i))*gas1.concentrations[i]\n",
    "    \n",
    "k_f0*Mprime"
   ]
  },
  {
   "cell_type": "markdown",
   "metadata": {},
   "source": [
    "This confirms that `forward_rate_constants` includes $[M']$ for a three-body reaction. Thus the value depends on the composition of the gas mixture, in addition to the temperature.\n",
    "\n",
    "Note that $[M']k_f(T)$ has units of m^3/kmol-s, the same as the units of a rate constant for a bimolecular reaction.\n",
    "\n",
    "The reason that `forward_rate_constants` includes $[M']$ has to do with the way that reactions are handled internally in Cantera, and is beyond the scope of the current discussion. For most purposes, users will not need to concern themselves with these subtleties.\n",
    "\n",
    "Before proceeding, we make another observation. The gas mixture named \"gas1\" and the reaction named \"r0\" both have a `reactants` attribute, but the attributes are not quite the same:"
   ]
  },
  {
   "cell_type": "code",
   "execution_count": 63,
   "metadata": {},
   "outputs": [
    {
     "name": "stdout",
     "output_type": "stream",
     "text": [
      "Help on method_descriptor:\n",
      "\n",
      "reactants(...)\n",
      "    Kinetics.reactants(self, int i_reaction)\n",
      "    The reactants portion of the reaction equation\n",
      "\n"
     ]
    }
   ],
   "source": [
    "# get help for gas1 attribute \"reactants\"\n",
    "help(gas1.__class__.reactants)"
   ]
  },
  {
   "cell_type": "markdown",
   "metadata": {},
   "source": [
    "As we saw earlier, this is a function that takes a reaction index as its argument and returns the left-hand side (reactants side) of the corresponding reaction equation."
   ]
  },
  {
   "cell_type": "code",
   "execution_count": 64,
   "metadata": {},
   "outputs": [
    {
     "name": "stdout",
     "output_type": "stream",
     "text": [
      "Help on getset descriptor cantera._cantera.Reaction.reactants:\n",
      "\n",
      "reactants\n",
      "    Get/Set the reactants in this reaction as a dict where the keys are\n",
      "    species names and the values, are the stoichiometric coefficients, e.g.\n",
      "    ``{'CH4':1, 'OH':1}``, or as a composition string, e.g.\n",
      "    ``'CH4:1, OH:1'``.\n",
      "\n"
     ]
    }
   ],
   "source": [
    "# get help for r0 attribute \"reactants\"\n",
    "help(r0.__class__.reactants)"
   ]
  },
  {
   "cell_type": "markdown",
   "metadata": {},
   "source": [
    "This is a dictionary object for an individual reaction, not a function.\n",
    "\n",
    "The values reported by `gas1.reactants(0)` and `r0.reactants` are not the same:"
   ]
  },
  {
   "cell_type": "code",
   "execution_count": 65,
   "metadata": {},
   "outputs": [
    {
     "data": {
      "text/plain": [
       "'2 O + M'"
      ]
     },
     "execution_count": 65,
     "metadata": {},
     "output_type": "execute_result"
    }
   ],
   "source": [
    "# print the left-hand side (reactants side) of reaction index 0\n",
    "gas1.reactants(0)"
   ]
  },
  {
   "cell_type": "code",
   "execution_count": 66,
   "metadata": {},
   "outputs": [
    {
     "data": {
      "text/plain": [
       "{'O': 2.0}"
      ]
     },
     "execution_count": 66,
     "metadata": {},
     "output_type": "execute_result"
    }
   ],
   "source": [
    "# print r0.reactants\n",
    "r0.reactants"
   ]
  },
  {
   "cell_type": "markdown",
   "metadata": {},
   "source": [
    "In particular, note that the third-body 'M' is not included in \"r0.reactants\" while 'M' is included in \"gas1.reactants(0)\". The same is true for \"gas1.products(0)\" versus \"r0.products\". "
   ]
  },
  {
   "cell_type": "markdown",
   "metadata": {},
   "source": [
    "## 7. Exothermic and endothermic reactions"
   ]
  },
  {
   "cell_type": "markdown",
   "metadata": {},
   "source": [
    "For each reaction, the difference between the products-side (right-hand-side) enthalpy and reactants-side (left-hand-side) enthalpy is the enthalpy change associated with the reaction. For a reaction involving ideal gases, this value depends only on the species involved in the reaction, their stoichiometric coefficients, and the current mixture temperature. The relevant attribute is [`delta_enthalpy`](https://cantera.org/documentation/docs-2.4/sphinx/html/cython/kinetics.html#cantera.Kinetics.delta_enthalpy), as we saw earlier in tutorial Notebook 2.7_Entropy-Gibbs_function-equilibrium_constants:"
   ]
  },
  {
   "cell_type": "code",
   "execution_count": 67,
   "metadata": {},
   "outputs": [
    {
     "name": "stdout",
     "output_type": "stream",
     "text": [
      "Help on getset descriptor cantera._cantera.Kinetics.delta_enthalpy:\n",
      "\n",
      "delta_enthalpy\n",
      "    Change in enthalpy for each reaction [J/kmol].\n",
      "\n"
     ]
    }
   ],
   "source": [
    "help(gas1.__class__.delta_enthalpy)"
   ]
  },
  {
   "cell_type": "markdown",
   "metadata": {},
   "source": [
    "A negative value of `delta_enthalpy` corresponds to a reaction that is exothermic in the forward direction and endothermic in the reverse direction. A positive value corresponds to a reaction that is endothermic in the forward direction and exothermic in the reverse direction."
   ]
  },
  {
   "cell_type": "code",
   "execution_count": 68,
   "metadata": {},
   "outputs": [
    {
     "data": {
      "text/plain": [
       "array([-5.05356933e+08, -4.36352177e+08,  8.13316089e+06, -2.23165213e+08,\n",
       "       -6.36380617e+07, -7.38842706e+08, -3.80541139e+08, -7.89255861e+08,\n",
       "       -4.17253483e+08, -2.86704311e+08,  1.36462993e+07, -5.35303140e+08,\n",
       "       -3.63869217e+08, -4.62820180e+08, -5.87083912e+07, -3.08378437e+08,\n",
       "       -3.36121821e+08, -2.04784982e+07,  7.26488587e+06, -3.33993321e+08,\n",
       "       -8.00724326e+07,  1.26665553e+08, -2.01760119e+08, -3.73872154e+08,\n",
       "       -1.14442561e+08, -3.33112876e+08, -7.57439479e+06, -4.29745865e+08,\n",
       "        1.44671055e+07, -2.06171544e+08, -2.99462070e+07,  1.64456822e+08,\n",
       "       -2.13186964e+08, -2.13186964e+08, -2.13186964e+08, -2.13186964e+08,\n",
       "       -2.13186964e+08,  6.90047560e+07, -4.44485337e+08, -4.44485337e+08,\n",
       "       -4.44485337e+08, -4.44485337e+08, -5.08673656e+08, -2.26481936e+08,\n",
       "       -2.31298374e+08, -1.54160457e+08, -7.17712226e+07, -2.90119998e+08,\n",
       "       -9.91815638e+07, -4.71480613e+08, -5.04131545e+07, -4.49998476e+08,\n",
       "        5.51313843e+06, -3.77643785e+08, -3.72002378e+08, -1.27973740e+08,\n",
       "       -1.00230356e+08, -6.68415521e+07, -4.15873678e+08, -3.16511598e+08,\n",
       "       -2.16741261e+07, -2.21548246e+07, -4.43617062e+08, -2.77433840e+07,\n",
       "       -3.44254982e+08, -4.94175101e+07, -4.98982086e+07, -2.86116591e+07,\n",
       "       -8.68275024e+05, -5.63017729e+08, -1.57019561e+08, -4.74261570e+08,\n",
       "       -2.87465777e+08, -1.58973471e+08,  2.97762321e+07, -4.28777782e+08,\n",
       "       -2.85511867e+08, -1.57075557e+07, -8.49753418e+07,  6.33394459e+06,\n",
       "       -1.42349017e+08, -1.29278635e+08, -5.64140750e+06, -6.41883187e+07,\n",
       "       -2.18553658e+08, -7.23214795e+07, -2.95486692e+08, -1.35959541e+08,\n",
       "       -1.35959541e+08, -6.47794303e+08, -3.74973489e+08, -3.21832748e+08,\n",
       "       -7.78891290e+07, -3.58545092e+08, -3.94199552e+08, -3.71930427e+07,\n",
       "       -4.80698513e+05, -5.86751802e+07, -9.89509630e+07, -4.36190696e+08,\n",
       "       -1.31029871e+08, -3.80699916e+08, -4.08443300e+08, -9.27999777e+07,\n",
       "       -6.50565937e+07, -2.06737985e+08, -9.45395381e+07,  3.47390969e+07,\n",
       "        5.43440733e+07, -2.36888555e+08, -3.51654095e+08, -3.44120865e+07,\n",
       "       -7.98958743e+07, -5.78543741e+07, -1.59527151e+08, -1.59527151e+08,\n",
       "       -4.75993204e+08, -2.36811512e+08, -1.04742947e+08, -2.53111420e+08,\n",
       "        4.92967047e+06, -5.78789547e+08, -3.19368632e+08, -4.10905748e+08,\n",
       "       -3.05968733e+08,  1.37008104e+07, -2.43943619e+08, -5.37082588e+08,\n",
       "       -2.22621535e+08, -2.46884629e+08, -3.09096841e+08, -2.76022526e+08,\n",
       "       -3.09789378e+08, -6.58770274e+08, -2.39053423e+08, -2.69952760e+07,\n",
       "       -5.50783398e+08, -2.66098578e+08, -2.14821375e+07, -3.29131596e+08,\n",
       "       -3.85005307e+08, -3.67123442e+07, -3.67123442e+07, -2.75765767e+08,\n",
       "       -7.84439423e+08, -6.37076201e+07, -3.93718854e+08, -3.67123442e+07,\n",
       "       -3.02810922e+08, -5.81944817e+07, -3.67123442e+07, -3.67123442e+07,\n",
       "       -2.59594129e+08, -7.94151758e+07,  1.18422266e+08, -2.17699555e+08,\n",
       "       -7.72843610e+07, -3.82369217e+08,  4.64085652e+07, -3.77515516e+08,\n",
       "       -7.23546906e+07, -3.41247975e+07, -6.38141345e+06,  2.42630937e+07,\n",
       "       -2.12206941e+07,  7.24829596e+07,  7.24829596e+07, -1.40704004e+08,\n",
       "       -8.52132240e+07, -1.12956608e+08, -6.39962054e+08, -1.18532392e+08,\n",
       "       -3.70051509e+08,  1.86795793e+08, -5.42134932e+07, -3.60741109e+08,\n",
       "       -3.49673433e+08, -3.15261973e+08, -1.32443297e+08, -2.01448053e+08,\n",
       "       -3.35663464e+08, -1.52844787e+08, -2.66658708e+08, -1.12498251e+08,\n",
       "        1.69693469e+08, -2.84172702e+07, -3.10608990e+08, -1.94747943e+08,\n",
       "       -1.25743187e+08, -2.95810263e+08, -1.02495372e+08, -7.06018541e+07,\n",
       "       -1.66683690e+08, -1.59709814e+06, -2.26805507e+08, -6.11072237e+08,\n",
       "       -6.41353549e+06, -4.09624184e+08, -1.42965476e+08, -4.48383521e+07,\n",
       "       -1.15440206e+08, -5.29715130e+07, -1.17159832e+08, -2.49449001e+07,\n",
       "       -2.49449001e+07, -2.38131864e+08, -4.61297077e+08, -5.16728927e+07,\n",
       "       -4.69430238e+08, -5.33618556e+08, -4.74943376e+08, -2.11143767e+08,\n",
       "       -2.25208409e+08, -2.33341570e+08, -2.97529889e+08, -2.04319640e+06,\n",
       "       -3.26115299e+08, -1.21479745e+08, -2.25570088e+07, -5.24749894e+07,\n",
       "       -8.67453275e+07, -4.06083606e+08, -1.10273343e+08,  3.02685705e+07,\n",
       "       -7.21345579e+08, -4.36029813e+08,  2.31716623e+08, -2.53238819e+08,\n",
       "       -6.18848490e+08,  5.31230665e+08, -2.66012571e+07, -1.36874600e+08,\n",
       "        9.48784883e+07,  3.92435104e+07, -6.56890843e+07, -9.20362477e+07,\n",
       "       -1.09751868e+08, -3.30136789e+08,  1.95031022e+08,  9.10413024e+06,\n",
       "       -1.33853320e+08,  9.78986914e+07,  6.11863472e+07, -1.20230952e+08,\n",
       "       -4.46346251e+08, -3.06157843e+08, -3.32759100e+08, -1.73525437e+08,\n",
       "       -3.77414577e+08, -3.11725493e+08, -8.69194536e+07, -4.14126921e+08,\n",
       "       -3.48437837e+08, -1.23631798e+08, -3.48918535e+08,  5.00032528e+07,\n",
       "       -6.04989386e+08, -4.94842779e+08, -1.72115413e+08, -2.41120169e+08,\n",
       "       -2.96931207e+08, -1.70136479e+08, -1.41787370e+08,  3.90878272e+07,\n",
       "       -2.63471635e+07,  3.09546663e+07, -3.32336524e+07, -1.25298126e+08,\n",
       "        3.65166661e+08, -2.90495123e+08, -2.24806039e+08, -3.16842287e+08,\n",
       "       -1.04932595e+08, -2.08607140e+08, -1.51444800e+08, -4.86178269e+08,\n",
       "        2.03039193e+07, -4.38843993e+07,  2.84370802e+07,  2.83491089e+07,\n",
       "       -2.47222932e+08, -4.77932968e+08, -1.02497090e+08, -2.81062903e+08,\n",
       "       -5.38163319e+07, -3.12738803e+08, -2.95486692e+08, -2.94837472e+08,\n",
       "       -4.57779803e+08, -3.38004386e+08, -2.52827992e+08, -1.06298061e+08,\n",
       "       -2.94356773e+08, -2.27209689e+07, -5.61674030e+07, -1.84562352e+07,\n",
       "       -6.59950490e+06,  2.16565708e+08, -2.65893961e+07, -1.47326658e+07,\n",
       "       -7.89209844e+07,  5.70385568e+07, -2.02458042e+07, -1.54205748e+08,\n",
       "       -5.19657959e+07, -2.05842824e+08,  9.93180013e+07, -6.06262294e+07,\n",
       "       -2.90279590e+08, -3.54467908e+08, -3.89521033e+07, -3.69595280e+08,\n",
       "       -5.76767455e+06, -1.39008354e+07, -7.80891541e+07, -5.78703872e+07,\n",
       "       -1.94139739e+07, -9.79842488e+07, -3.47693533e+08, -4.30584502e+08,\n",
       "       -6.09892218e+07, -3.93150958e+07, -2.17397538e+08, -6.55018127e+07,\n",
       "       -1.45806566e+07])"
      ]
     },
     "execution_count": 68,
     "metadata": {},
     "output_type": "execute_result"
    }
   ],
   "source": [
    "# print the enthalpy change for all 325 reactions at the current mixture temperature\n",
    "gas1.delta_enthalpy"
   ]
  },
  {
   "cell_type": "markdown",
   "metadata": {},
   "source": [
    "We will not go further with this here, since it was discussed in an earlier tutorial Notebook. It is included here for completeness."
   ]
  },
  {
   "cell_type": "markdown",
   "metadata": {},
   "source": [
    "## 8. Equilibrium constants and reverse reaction rates for elementary reactions"
   ]
  },
  {
   "cell_type": "markdown",
   "metadata": {},
   "source": [
    "For an elementary reaction, the forward and reverse rates are not independent: they are related through an equilibrium constant, which can be computed using thermodynamic properties. As we saw earlier in Notebook 2_7_Entropy_Gibbs_function_equilibrium_constants, equilibrium constants for each reaction are available using the [`equilibrium_constants`](https://cantera.org/documentation/docs-2.4/sphinx/html/cython/kinetics.html#cantera.Kinetics.equilibrium_constants) attribute. These are molar-concentration-based equilibrium constants $ \\kappa _ c (T)$, as discussed there, so that the units are (kmol/m^3)^n, where n is the difference between the the number of moles (or molecules) on the right-hand side (products side) of the reaction minus the number of moles (or molecules) on the left-hand side (reactants side) of the reaction. The values of the equilibrium constants depend on the current mixture temperature and (for reactions where n is nonzero) pressure, but not on the current mixture composition."
   ]
  },
  {
   "cell_type": "code",
   "execution_count": 69,
   "metadata": {},
   "outputs": [
    {
     "name": "stdout",
     "output_type": "stream",
     "text": [
      "Help on getset descriptor cantera._cantera.Kinetics.equilibrium_constants:\n",
      "\n",
      "equilibrium_constants\n",
      "    Equilibrium constants in concentration units for all reactions.\n",
      "\n"
     ]
    }
   ],
   "source": [
    "help(gas1.__class__.equilibrium_constants)"
   ]
  },
  {
   "cell_type": "code",
   "execution_count": 70,
   "metadata": {},
   "outputs": [
    {
     "data": {
      "text/plain": [
       "0.829130431758196"
      ]
     },
     "execution_count": 70,
     "metadata": {},
     "output_type": "execute_result"
    }
   ],
   "source": [
    "# access the equilbrium constant for reaction index 2 at the current mixture temperature\n",
    "gas1.equilibrium_constants[2]"
   ]
  },
  {
   "cell_type": "markdown",
   "metadata": {},
   "source": [
    "The reverse rate for an elementary reaction is equal to the forward rate divided by the value of the molar equilibrium constant: $ k _ r (T) = k _ f (T) / \\kappa _ c (T)$. Reverse rate constants are available using attribute [`reverse_rate_constants`](https://cantera.org/documentation/docs-2.4/sphinx/html/cython/kinetics.html#cantera.Kinetics.reverse_rate_constants). To verify that this relationship is satisfied:"
   ]
  },
  {
   "cell_type": "code",
   "execution_count": 71,
   "metadata": {},
   "outputs": [
    {
     "data": {
      "text/plain": [
       "208745085.15891254"
      ]
     },
     "execution_count": 71,
     "metadata": {},
     "output_type": "execute_result"
    }
   ],
   "source": [
    "# access the forward rate constant for reaction index 2 using \"forward_rate_constants\"\n",
    "k_f2 = gas1.forward_rate_constants[2]\n",
    "k_f2"
   ]
  },
  {
   "cell_type": "code",
   "execution_count": 72,
   "metadata": {},
   "outputs": [
    {
     "data": {
      "text/plain": [
       "251763868.70309696"
      ]
     },
     "execution_count": 72,
     "metadata": {},
     "output_type": "execute_result"
    }
   ],
   "source": [
    "# compute the reverse rate constant for reaction index 2 using the equilibrium constant\n",
    "k_r2 = k_f2/gas1.equilibrium_constants[2]\n",
    "k_r2"
   ]
  },
  {
   "cell_type": "code",
   "execution_count": 73,
   "metadata": {},
   "outputs": [
    {
     "data": {
      "text/plain": [
       "251763868.70309693"
      ]
     },
     "execution_count": 73,
     "metadata": {},
     "output_type": "execute_result"
    }
   ],
   "source": [
    "# access the reverse rate constant for reaction index 2 using \"reverse_rate_constants\"\n",
    "gas1.reverse_rate_constants[2]"
   ]
  },
  {
   "cell_type": "markdown",
   "metadata": {},
   "source": [
    "This confirms that the forward and reverse rate constants are thermodynamically consistent for an elementary reaction. This is also the case for three-body reactions, although again, there are subtleties related to how such reactions are handled internally in Cantera.  "
   ]
  },
  {
   "cell_type": "markdown",
   "metadata": {},
   "source": [
    "## 9. Forward, reverse, and net rates of reaction progress"
   ]
  },
  {
   "cell_type": "markdown",
   "metadata": {},
   "source": [
    "Here we continue to use reaction index 2 as an example."
   ]
  },
  {
   "cell_type": "code",
   "execution_count": 74,
   "metadata": {},
   "outputs": [
    {
     "data": {
      "text/plain": [
       "<ElementaryReaction: H2 + O <=> H + OH>"
      ]
     },
     "execution_count": 74,
     "metadata": {},
     "output_type": "execute_result"
    }
   ],
   "source": [
    "# access reaction index 2 as r2\n",
    "r2 = gas1.reaction(2)\n",
    "r2"
   ]
  },
  {
   "cell_type": "markdown",
   "metadata": {},
   "source": [
    "The forward rate of progress for a reaction is the product of the forward rate constant for the reaction $k_f(T)$ times the products of the molar concentrations of each left-hand-side species, each raised to a power that is equal to its reaction order in the forward reaction. For an elementary reaction, the reaction order for each species is equal to its stoichiometric coefficient in the reactants. The forward rate of progress for each reaction is accessed using attribute [`forward_rates_of_progress`](https://cantera.org/documentation/docs-2.4/sphinx/html/cython/kinetics.html#cantera.Kinetics.forward_rates_of_progress), which is an array:"
   ]
  },
  {
   "cell_type": "code",
   "execution_count": 75,
   "metadata": {},
   "outputs": [
    {
     "name": "stdout",
     "output_type": "stream",
     "text": [
      "Help on getset descriptor cantera._cantera.Kinetics.forward_rates_of_progress:\n",
      "\n",
      "forward_rates_of_progress\n",
      "    Forward rates of progress for the reactions. [kmol/m^3/s] for bulk\n",
      "    phases or [kmol/m^2/s] for surface phases.\n",
      "\n"
     ]
    }
   ],
   "source": [
    "# get help for attribute \"forward_rates_of_progress\"\n",
    "help(gas1.__class__.forward_rates_of_progress)"
   ]
  },
  {
   "cell_type": "markdown",
   "metadata": {},
   "source": [
    "Similarly, the reverse rate of progress for a reaction is the product of the reverse rate constant for the reaction $k_r(T)$ times the products of the molar concentrations of each right-hand-side species, each raised to a power that is equal to its reaction order (or stoichiometric coefficient) in the reverse reaction. The reverse rate of progress for each reaction is accessed using attribute [`reverse_rates_of_progress`](https://cantera.org/documentation/docs-2.4/sphinx/html/cython/kinetics.html#cantera.Kinetics.reverse_rates_of_progress), which is an array:"
   ]
  },
  {
   "cell_type": "code",
   "execution_count": 76,
   "metadata": {},
   "outputs": [
    {
     "name": "stdout",
     "output_type": "stream",
     "text": [
      "Help on getset descriptor cantera._cantera.Kinetics.reverse_rates_of_progress:\n",
      "\n",
      "reverse_rates_of_progress\n",
      "    Reverse rates of progress for the reactions. [kmol/m^3/s] for bulk\n",
      "    phases or [kmol/m^2/s] for surface phases.\n",
      "\n"
     ]
    }
   ],
   "source": [
    "# get help for attribute \"reverse_rates_of_progress\"\n",
    "help(gas1.__class__.reverse_rates_of_progress)"
   ]
  },
  {
   "cell_type": "markdown",
   "metadata": {},
   "source": [
    "For example, for reaction index 2, the forward rate of progress is $ k_{f2} (T) [{\\rm H}_2] [{\\rm O}]$ and the reverse rate of progress is $k_{r2}(T) [{\\rm H}] [{\\rm OH}]$, where the square brackets denote molar concentrations in kmol/m^3."
   ]
  },
  {
   "cell_type": "code",
   "execution_count": 77,
   "metadata": {},
   "outputs": [
    {
     "data": {
      "text/plain": [
       "(79.14045468097888, 179.58620937400326)"
      ]
     },
     "execution_count": 77,
     "metadata": {},
     "output_type": "execute_result"
    }
   ],
   "source": [
    "# print the forward and reverse rates of progress for reaction index 2\n",
    "gas1.forward_rates_of_progress[2] , gas1.reverse_rates_of_progress[2]"
   ]
  },
  {
   "cell_type": "markdown",
   "metadata": {},
   "source": [
    "For the current gas mixture state, the reverse rate of progress is greater than the forward rate of progress."
   ]
  },
  {
   "cell_type": "code",
   "execution_count": 78,
   "metadata": {},
   "outputs": [
    {
     "data": {
      "text/plain": [
       "(0.0017346451698167298,\n",
       " 0.00021856047757604346,\n",
       " 0.0034692903396334597,\n",
       " 0.0002056074909380391)"
      ]
     },
     "execution_count": 78,
     "metadata": {},
     "output_type": "execute_result"
    }
   ],
   "source": [
    "# get the molar concentrations (kmol/m^3) of the four species involved in reaction r2\n",
    "C_H2 = gas1.concentrations[gas1.species_index('H2')]\n",
    "C_O  = gas1.concentrations[gas1.species_index('O')]\n",
    "C_H  = gas1.concentrations[gas1.species_index('H')]\n",
    "C_OH = gas1.concentrations[gas1.species_index('OH')]\n",
    "\n",
    "C_H2 , C_O , C_H , C_OH"
   ]
  },
  {
   "cell_type": "markdown",
   "metadata": {},
   "source": [
    "We then confirm that the forward and reverse rates of progress for reaction r2 are consistent with the forward and reverse rate constants and the molar concentrations:"
   ]
  },
  {
   "cell_type": "code",
   "execution_count": 79,
   "metadata": {},
   "outputs": [
    {
     "data": {
      "text/plain": [
       "79.14045468097888"
      ]
     },
     "execution_count": 79,
     "metadata": {},
     "output_type": "execute_result"
    }
   ],
   "source": [
    "# compute the forward rate of progress of reaction index 2 using molar concentrations\n",
    "#   and attribute \"forward_rate_constants\"\n",
    "forward = C_H2*C_O*gas1.forward_rate_constants[2]\n",
    "forward"
   ]
  },
  {
   "cell_type": "code",
   "execution_count": 80,
   "metadata": {},
   "outputs": [
    {
     "data": {
      "text/plain": [
       "79.14045468097888"
      ]
     },
     "execution_count": 80,
     "metadata": {},
     "output_type": "execute_result"
    }
   ],
   "source": [
    "# access the forward rate of progress of reaction index 2 using attribute \"forward_rates_of_progress\"\n",
    "gas1.forward_rates_of_progress[2]"
   ]
  },
  {
   "cell_type": "code",
   "execution_count": 81,
   "metadata": {},
   "outputs": [
    {
     "data": {
      "text/plain": [
       "179.58620937400326"
      ]
     },
     "execution_count": 81,
     "metadata": {},
     "output_type": "execute_result"
    }
   ],
   "source": [
    "# compute the reverse rate of progress of reaction index 2 using molar concentrations\n",
    "#   and attribute \"reverse_rate_constants\"\n",
    "reverse = C_H*C_OH*gas1.reverse_rate_constants[2]\n",
    "reverse"
   ]
  },
  {
   "cell_type": "code",
   "execution_count": 82,
   "metadata": {},
   "outputs": [
    {
     "data": {
      "text/plain": [
       "179.58620937400326"
      ]
     },
     "execution_count": 82,
     "metadata": {},
     "output_type": "execute_result"
    }
   ],
   "source": [
    "# access the reverse rate of progress of reaction index 2 using attribute \"reverse_rates_of_progress\"\n",
    "gas1.reverse_rates_of_progress[2]"
   ]
  },
  {
   "cell_type": "markdown",
   "metadata": {},
   "source": [
    "Then the attribute [`net_rates_of_progress`](https://cantera.org/documentation/docs-2.4/sphinx/html/cython/kinetics.html#cantera.Kinetics.net_rates_of_progress) gives the difference between the forward rate of progress and the reverse rate of progress for each reaction. This is the quantity denoted as $ q_i $ (for reaction $i$) in Chapter 4 of Turns 4th ed."
   ]
  },
  {
   "cell_type": "code",
   "execution_count": 83,
   "metadata": {},
   "outputs": [
    {
     "name": "stdout",
     "output_type": "stream",
     "text": [
      "Help on getset descriptor cantera._cantera.Kinetics.net_rates_of_progress:\n",
      "\n",
      "net_rates_of_progress\n",
      "    Net rates of progress for the reactions. [kmol/m^3/s] for bulk phases\n",
      "    or [kmol/m^2/s] for surface phases.\n",
      "\n"
     ]
    }
   ],
   "source": [
    "# get help for attribute \"net_rates_of_progress\"\n",
    "help(gas1.__class__.net_rates_of_progress)"
   ]
  },
  {
   "cell_type": "code",
   "execution_count": 84,
   "metadata": {},
   "outputs": [
    {
     "data": {
      "text/plain": [
       "-100.44575469302438"
      ]
     },
     "execution_count": 84,
     "metadata": {},
     "output_type": "execute_result"
    }
   ],
   "source": [
    "# access the net rate of progress for reaction index 2\n",
    "gas1.net_rates_of_progress[2]"
   ]
  },
  {
   "cell_type": "markdown",
   "metadata": {},
   "source": [
    "Here the net rate of progress is negative, because the reverse rate of progress exceeds the forward rate of progress.\n",
    "\n",
    "When the mixture is in chemical equilibrium, the forward and reverse rates of progress for each reaction are not equal to zero, but the net rate of progress for each reaction is equal to zero. We can confirm this by setting the composition of gas1 to correspond to the equilbrium composition:"
   ]
  },
  {
   "cell_type": "code",
   "execution_count": 85,
   "metadata": {},
   "outputs": [
    {
     "name": "stdout",
     "output_type": "stream",
     "text": [
      "\n",
      "  gri30:\n",
      "\n",
      "       temperature            1000  K\n",
      "          pressure          101325  Pa\n",
      "           density        0.194252  kg/m^3\n",
      "  mean mol. weight         15.9398  amu\n",
      "\n",
      "                          1 kg            1 kmol\n",
      "                       -----------      ------------\n",
      "          enthalpy     -1.5103e+06       -2.407e+07     J\n",
      "   internal energy     -2.0319e+06       -3.239e+07     J\n",
      "           entropy           14007        2.233e+05     J/K\n",
      "    Gibbs function     -1.5518e+07       -2.473e+08     J\n",
      " heat capacity c_p          2589.2        4.127e+04     J/K\n",
      " heat capacity c_v          2067.6        3.296e+04     J/K\n",
      "\n",
      "                           X                 Y          Chem. Pot. / RT\n",
      "                     -------------     ------------     ------------\n",
      "                H2       0.363013        0.0459096         -18.5189\n",
      "                 H    1.36736e-09      8.64638e-11         -9.25943\n",
      "                OH     1.8236e-14      1.94573e-14          -50.814\n",
      "               H2O     0.00218879       0.00247378         -60.0734\n",
      "               CH3    1.48995e-08      1.40536e-08         -26.3993\n",
      "               CH4       0.229001          0.23048         -35.6587\n",
      "                CO       0.277648         0.487899         -40.1756\n",
      "               CO2      0.0024029        0.0066344         -81.7301\n",
      "               HCO    1.18297e-11       2.1536e-11          -49.435\n",
      "              CH2O    5.59846e-08       1.0546e-07         -58.6944\n",
      "             CH3OH    1.05733e-09      2.12544e-09         -77.2133\n",
      "              C2H2    1.37202e-07      2.24121e-07         -15.7608\n",
      "              C2H3    1.45545e-13      2.46953e-13         -25.0203\n",
      "              C2H4    2.58104e-05      4.54259e-05         -34.2797\n",
      "              C2H5    4.25745e-11      7.76225e-11         -43.5391\n",
      "              C2H6    2.54845e-05      4.80752e-05         -52.7986\n",
      "             CH2CO    8.35336e-09      2.20299e-08         -57.3154\n",
      "               NH2    1.60928e-13      1.61764e-13         -32.0123\n",
      "               NH3    4.39436e-05      4.69507e-05         -41.2717\n",
      "               HCN    3.25219e-05      5.51404e-05         -21.3738\n",
      "              H2CN    5.38675e-14      9.47377e-14         -30.6333\n",
      "              HOCN    2.18888e-13      5.90827e-13         -62.9284\n",
      "              HNCO    7.09505e-08      1.91511e-07         -62.9284\n",
      "                N2       0.118091         0.207539         -26.9868\n",
      "                AR     0.00752856        0.0188679         -24.7698\n",
      "              C3H7    1.62809e-14      4.40106e-14          -60.679\n",
      "              C3H8    1.03243e-08      2.85617e-08         -69.9384\n",
      "            CH3CHO    3.12538e-09      8.63769e-09         -75.8343\n",
      "     [  +25 minor]    9.08214e-15      2.17269e-14\n",
      "\n"
     ]
    }
   ],
   "source": [
    "# reset the composition of gas1 to the equilbrium composition, keeping the mixture temperature and pressure constant\n",
    "gas1.equilibrate('TP')\n",
    "gas1()"
   ]
  },
  {
   "cell_type": "code",
   "execution_count": 86,
   "metadata": {},
   "outputs": [
    {
     "data": {
      "text/plain": [
       "(9.323317718446325e-19, 9.323317718446344e-19, -1.925929944387236e-33)"
      ]
     },
     "execution_count": 86,
     "metadata": {},
     "output_type": "execute_result"
    }
   ],
   "source": [
    "# print the forward, reverse, and net rates of progress for reaction r2\n",
    "gas1.forward_rates_of_progress[2] , gas1.reverse_rates_of_progress[2], gas1.net_rates_of_progress[2]"
   ]
  },
  {
   "cell_type": "markdown",
   "metadata": {},
   "source": [
    "In fact, the individual forward and reverse rates of progress for this particular reaction are quite small when the mixture is in equilibrium, because the equilibrium molar concentrations of the four participating species are small.\n",
    "\n",
    "In equilibrium, the net rates of progress are equal to zero for all 325 reactions:"
   ]
  },
  {
   "cell_type": "code",
   "execution_count": 87,
   "metadata": {},
   "outputs": [
    {
     "data": {
      "text/plain": [
       "array([-1.21074985e-56, -7.39885589e-43, -1.92592994e-33,  0.00000000e+00,\n",
       "        2.95677859e-55, -7.83036536e-54, -2.32637440e-46, -1.73729706e-49,\n",
       "       -2.29857765e-49,  1.46936794e-39,  0.00000000e+00, -2.48264407e-35,\n",
       "        1.43492963e-42,  1.43492963e-42, -5.51012977e-38,  8.75811540e-47,\n",
       "       -1.71056941e-49,  1.14794370e-41,  5.73971851e-42, -3.80868971e-50,\n",
       "       -6.31828214e-38,  7.17464814e-42, -3.23260946e-38,  2.24207754e-44,\n",
       "       -3.76158192e-36,  4.30478888e-42,  3.76158192e-37,  9.63392694e-46,\n",
       "       -2.06629866e-40, -6.65807347e-40, -5.25486924e-45, -1.04344734e-47,\n",
       "       -1.68155816e-44, -3.18759904e-69, -3.61272260e-46, -1.57646077e-45,\n",
       "       -6.02120434e-47, -5.60519386e-45, -2.36658272e-30, -1.38050658e-30,\n",
       "       -6.16297582e-32, -3.62074830e-32,  3.27408091e-33,  6.78753944e-46,\n",
       "        6.13068078e-45,  7.70714155e-45,  3.22859166e-42,  1.57842259e-41,\n",
       "        3.44383111e-41, -1.08333559e-34,  1.22251412e-36, -1.03397577e-25,\n",
       "        3.89635156e-20,  1.53827877e-29, -6.56332273e-28,  1.61558713e-27,\n",
       "        1.64083068e-28, -1.03397577e-24,  1.25185446e-33,  4.62223187e-32,\n",
       "        1.07852077e-32,  5.70075264e-32,  1.69271187e-36, -1.50463277e-36,\n",
       "        1.14352090e-34, -1.20370622e-35,  2.82870961e-34,  4.03896783e-28,\n",
       "        2.27191941e-28, -2.29221398e-37,  3.06961555e-26, -7.64209002e-31,\n",
       "        1.97215226e-31,  1.32348898e-23,  3.20532487e-24, -2.52435490e-28,\n",
       "        0.00000000e+00,  7.44462551e-24,  1.30963236e-32, -1.13091099e-26,\n",
       "       -1.33285939e-26,  5.77778983e-33,  1.29373188e-28, -4.54949337e-24,\n",
       "       -3.37954626e-38,  3.29138418e-37, -6.28099707e-50,  1.28634820e-46,\n",
       "        5.06328547e-47, -2.72622000e-49, -6.02120434e-46,  1.83670992e-40,\n",
       "        5.96930725e-40,  0.00000000e+00, -2.46519033e-31,  3.23556231e-32,\n",
       "        6.70531769e-30,  2.79173457e-24,  7.49632430e-25, -1.13629867e-32,\n",
       "       -3.23432971e-29,  5.87747175e-39,  0.00000000e+00, -2.08000434e-32,\n",
       "       -1.38666956e-32, -4.93257059e-42,  1.54074396e-32,  1.34815096e-33,\n",
       "        6.62519901e-32, -1.82963345e-33, -6.39468927e-36,  1.76704843e-28,\n",
       "        1.36315164e-27, -4.43734259e-31, -5.93472984e-67, -2.37389194e-66,\n",
       "        6.13378620e-53,  2.67122520e-45,  1.28919459e-43, -5.16574666e-41,\n",
       "       -1.86109952e-46, -1.20570921e-60, -8.22188363e-53, -1.44333742e-43,\n",
       "       -3.09059831e-56, -3.08148791e-33, -1.01562712e-35, -9.08740001e-49,\n",
       "       -1.20534089e-40, -1.13629867e-32, -6.62038418e-35, -1.80732256e-37,\n",
       "       -3.76525534e-39, -1.73622796e-47,  1.60642289e-36, -3.31321580e-29,\n",
       "       -1.07619722e-42, -1.00148357e-32,  2.20881053e-29,  8.83524214e-28,\n",
       "       -1.92280570e-40, -3.78653235e-29, -1.38050658e-30, -1.02316774e-51,\n",
       "       -1.23719773e-51, -1.81753553e-27, -1.47911420e-30, -1.77493704e-30,\n",
       "       -3.34780791e-35, -1.26217745e-28, -6.94197597e-29, -4.43734259e-31,\n",
       "       -1.47911420e-31, -8.93631494e-32, -1.57372386e-47, -1.75162308e-46,\n",
       "       -8.96831017e-43, -1.44756607e-24, -1.17130067e-26, -2.42338070e-27,\n",
       "       -3.15039491e-26,  1.10440527e-28,  5.52202634e-30,  2.06795153e-25,\n",
       "       -2.06795153e-24,  2.68833699e-24, -1.19114008e-22,  0.00000000e+00,\n",
       "       -8.21073319e-48, -2.81893153e-52, -3.65417050e-53, -2.44546881e-29,\n",
       "       -2.36742807e-46,  1.05013164e-26, -5.25486924e-46, -1.52347588e-49,\n",
       "        2.86985925e-41, -1.64214664e-47, -5.09789412e-57, -1.40129846e-45,\n",
       "       -1.12153671e-55, -3.18618382e-58, -8.60957776e-42, -4.06260236e-49,\n",
       "       -7.46163406e-41,  6.03590663e-54,  6.94918825e-50, -3.40321148e-61,\n",
       "       -7.66335098e-47, -4.27642354e-50,  0.00000000e+00, -2.29588740e-40,\n",
       "        0.00000000e+00, -3.58891746e-54, -3.09951962e-54, -2.13821177e-48,\n",
       "       -2.77333912e-32, -4.97460955e-44, -3.08285662e-44,  2.10194770e-45,\n",
       "       -6.50202487e-43,  5.91645679e-31, -2.63310735e-36, -1.13737334e-24,\n",
       "       -3.61891518e-25, -1.33638236e-49, -9.30549761e-47,  1.42319375e-46,\n",
       "       -6.74075481e-33, -5.51012977e-38, -3.62074830e-32, -7.99336159e-37,\n",
       "        2.33866912e-51,  2.23343927e-37,  4.48415509e-43,  7.16891360e-58,\n",
       "       -1.06739531e-46, -2.16731771e-38, -4.53595021e-30, -7.35010295e-50,\n",
       "       -6.46234854e-27,  0.00000000e+00,  1.13148384e-33,  6.65807347e-40,\n",
       "        1.64214664e-47,  3.77244165e-55,  8.27548023e-36,  1.18830110e-42,\n",
       "       -2.35418142e-43,  1.05324294e-34, -5.75992232e-37, -4.40810382e-38,\n",
       "        2.75506488e-40, -8.62816615e-31, -7.64209002e-31, -2.61926472e-32,\n",
       "        7.23783036e-25,  1.28919459e-43, -3.14744772e-47, -3.58158435e-39,\n",
       "       -2.35098870e-36, -3.58732407e-43, -3.67840847e-45, -5.87277402e-54,\n",
       "       -7.89561841e-53, -6.36118001e-49, -3.74187059e-49, -3.74187059e-49,\n",
       "       -5.73971851e-42, -3.92363570e-43, -1.27798420e-42, -3.15292154e-44,\n",
       "       -2.18952885e-45, -7.70714155e-45,  5.87747175e-39, -3.21424237e-39,\n",
       "       -1.51917245e-54, -3.56852588e-56,  7.96545956e-59, -8.75811540e-47,\n",
       "        1.43492963e-41,  1.52102541e-40, -5.13170824e-48, -5.45273258e-41,\n",
       "        2.74649813e-26,  2.01948392e-28, -1.23259516e-32,  2.96593211e-32,\n",
       "        2.83496888e-31, -2.29588740e-41,  3.65907055e-41,  1.21969018e-41,\n",
       "       -6.90253292e-31, -5.95495795e-41, -9.99170198e-38, -3.67341985e-40,\n",
       "        2.37814426e-24,  1.86802262e-27,  1.17549435e-37, -1.34815096e-32,\n",
       "       -1.07055776e-54,  6.37236764e-56, -2.82118644e-36,  6.17780544e-24,\n",
       "       -3.10330509e-36,  2.18109303e-40, -2.75628861e-51,  2.46890240e-17,\n",
       "       -2.04630057e-34,  1.86345055e-36, -2.67276471e-51,  3.23655362e-29,\n",
       "        1.76351064e-17, -1.12213354e-46, -4.36195201e-48, -1.04462877e-39,\n",
       "        9.04103690e-26,  1.07815265e-35, -1.25208003e-26,  1.17139310e-12,\n",
       "        5.37788266e-17,  5.90220354e-34,  1.95262965e-13, -5.33143754e-26,\n",
       "        7.27743618e-30,  2.94306198e-36,  3.82110257e-36,  0.00000000e+00,\n",
       "        9.70668692e-32,  9.40395481e-37, -2.30396893e-36, -5.55358077e-27,\n",
       "       -1.83670992e-40,  2.42338070e-26,  1.50376610e-30, -2.56585412e-49,\n",
       "       -4.22829445e-28, -3.61891518e-25,  1.37327250e-43, -1.91052250e-31,\n",
       "        1.66400347e-31,  3.57350283e-36, -4.17619486e-53,  9.93017317e-36,\n",
       "       -1.23259516e-32])"
      ]
     },
     "execution_count": 87,
     "metadata": {},
     "output_type": "execute_result"
    }
   ],
   "source": [
    "gas1.net_rates_of_progress"
   ]
  },
  {
   "cell_type": "markdown",
   "metadata": {},
   "source": [
    "The net rates of progress are all equal to zero, to machine precision, as they should be for a system that is in chemical equilibrium.\n",
    "\n",
    "Here we computed the equilbrium for a given mixture temperature and pressure. The key result (that the net rates of progress are equal to zero for all reactions) would be the same regardless of which two mixture thermodynamic properties were held constant during the equilibrium calculation."
   ]
  },
  {
   "cell_type": "markdown",
   "metadata": {},
   "source": [
    "## 10. Net rates of species production"
   ]
  },
  {
   "cell_type": "markdown",
   "metadata": {},
   "source": [
    "Finally, we arrive at the net production rate for each species in the system. For species $i$, this quantity is denoted as $ \\dot \\omega _ i $ in Chapter 4 of Turns 4th ed., and has units of kmol/m^3-s (molar concentration per time). This is simply the sum over all of the reactions of the contribution of each reaction to the net production of species $i$. The relevant attribute is [`net_production_rates`](https://cantera.org/documentation/docs-2.4/sphinx/html/cython/kinetics.html#cantera.Kinetics.net_production_rates), which is an array that contains `n_species` values of $ \\dot \\omega _ i $:"
   ]
  },
  {
   "cell_type": "code",
   "execution_count": 88,
   "metadata": {},
   "outputs": [
    {
     "name": "stdout",
     "output_type": "stream",
     "text": [
      "Help on getset descriptor cantera._cantera.Kinetics.net_production_rates:\n",
      "\n",
      "net_production_rates\n",
      "    Net production rates for each species. [kmol/m^3/s] for bulk phases or\n",
      "    [kmol/m^2/s] for surface phases.\n",
      "\n"
     ]
    }
   ],
   "source": [
    "# get help for attribution \"net_production_rates\"\n",
    "help(gas1.__class__.net_production_rates)"
   ]
  },
  {
   "cell_type": "markdown",
   "metadata": {},
   "source": [
    "Here we are considering \"bulk phases\" (gas-phase volumetric reactions) rather than \"surface phases\". The latter would be appropriate for catalyic and heterogeneous reactions.\n",
    "\n",
    "Since the current thermochemical state of gas1 corresponds to chemical equilibrium, the net production rates for all 53 species are equal to zero (to machine precision):"
   ]
  },
  {
   "cell_type": "code",
   "execution_count": 89,
   "metadata": {},
   "outputs": [
    {
     "data": {
      "text/plain": [
       "array([ 1.17143547e-12, -1.17139314e-12, -6.26822308e-24, -2.10155645e-35,\n",
       "       -7.84678495e-17,  3.61437184e-17, -5.89368947e-34,  5.90186540e-34,\n",
       "        3.45826765e-41,  1.47292270e-32, -1.04077866e-27, -1.76351064e-17,\n",
       "        1.17142223e-12,  1.95262926e-13,  1.36670985e-12,  7.49639899e-25,\n",
       "        1.15363224e-22,  4.23241315e-17,  2.12978838e-27,  3.96782783e-28,\n",
       "       -7.48740990e-28,  2.45209403e-29, -2.01868123e-26,  3.44299345e-24,\n",
       "       -1.62957971e-23,  1.86070200e-23, -6.82585555e-24, -1.13095668e-26,\n",
       "        7.88361654e-26, -4.42963887e-33,  1.11933693e-35,  9.17486275e-31,\n",
       "        2.40747668e-24, -2.38001228e-24,  1.49926490e-24, -1.80043720e-36,\n",
       "        7.67030087e-47,  8.43833913e-41, -4.12159237e-32,  6.46688459e-27,\n",
       "       -7.30248267e-25,  7.23783036e-25, -2.35100305e-36, -8.66640042e-41,\n",
       "       -1.72563323e-31, -2.76686850e-26,  2.01934925e-28, -1.49926490e-24,\n",
       "        6.02120434e-47, -3.38079000e-25, -2.93662532e-26, -6.58425502e-26,\n",
       "       -1.36670985e-12])"
      ]
     },
     "execution_count": 89,
     "metadata": {},
     "output_type": "execute_result"
    }
   ],
   "source": [
    "# access the net species production rates\n",
    "gas1.net_production_rates"
   ]
  },
  {
   "cell_type": "markdown",
   "metadata": {},
   "source": [
    "## 11. What's next"
   ]
  },
  {
   "cell_type": "markdown",
   "metadata": {},
   "source": [
    "In subsequent tutorials, we will use the quantities introduced here to explore various aspects of chemical kinetics and to solve various combustion problems. In most cases, we will not need to dig deeply into the \"raw\" attributes that have been discussed here, or to understand the nuances of how three-body reactions (for example) are treated internally."
   ]
  },
  {
   "cell_type": "code",
   "execution_count": null,
   "metadata": {},
   "outputs": [],
   "source": []
  }
 ],
 "metadata": {
  "kernelspec": {
   "display_name": "Python 3 (ipykernel)",
   "language": "python",
   "name": "python3"
  },
  "language_info": {
   "codemirror_mode": {
    "name": "ipython",
    "version": 3
   },
   "file_extension": ".py",
   "mimetype": "text/x-python",
   "name": "python",
   "nbconvert_exporter": "python",
   "pygments_lexer": "ipython3",
   "version": "3.10.6"
  }
 },
 "nbformat": 4,
 "nbformat_minor": 2
}
