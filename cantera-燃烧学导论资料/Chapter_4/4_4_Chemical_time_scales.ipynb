{
 "cells": [
  {
   "cell_type": "markdown",
   "metadata": {},
   "source": [
    "# Chemical Time Scales\n",
    "This Jupyter Notebook was written by Dan Haworth. It is intended as a tutorial to be used in parallel with Chapter 4 of the book \"An Introduction to Combustion: Concepts and Applications\" by Stephen R. Turns and Daniel C. Haworth. That book is referred to as \"Turns 4th ed.\" throughout this Notebook.\n",
    "\n",
    "This Notebook was last updated 11 February 2020.\n",
    "\n",
    "The objective of this tutorial is to show how one can compute chemical time scales using Cantera, and to discuss how chemical time scales vary from one reaction to another, and with time over the course of a combustion event. Here a constant-pressure reactor is considered. We will use the thermodynamic properties and the reaction mechanism that are included in gri30.cti.\n",
    "\n",
    "The reader should be familiar with the material in the previous Notebook (4_3_Constant_volume_reactor) before working through this Notebook."
   ]
  },
  {
   "cell_type": "markdown",
   "metadata": {},
   "source": [
    "## 1. Motivation and definitions"
   ]
  },
  {
   "cell_type": "markdown",
   "metadata": {},
   "source": [
    "As we have seen, the GRI-Mech 3.0 reaction mechanism that describes the combustion of natural gas (mostly methane) with air to produce products of combustion, including the formation of NOx, includes 325 individual reactions involving 53 different species or molecules. Modern reaction mechanisms for larger fuel molecules can include hundreds-to-thousands of individual reactions involving hundreds-to-thousands of species. The reaction rates for the individual reactions typically vary over many orders of magnitude. It is useful to define a time scale for each reaction, which can be used to compare the relative rates of different reactions (e.g., to quantify what we mean when we say that a reaction is \"fast\" versus \"slow\"), and to compare chemical reaction time scales to time scales associated with other physical processes, such as molecular or turbulent transport.\n",
    "\n",
    "Chemical time scales can be defined in various ways. Here we follow the definition introduced in Chapter 4 of Turns 4th ed. There, motivated by the (usually) exponential dependence of reaction rates on temperature, a time scale is defined for each species that participates in a reaction as the time that it would take for the molar concentration of that species to change by a factor of $e$ (where $e$ denotes the basis for natural logarithms - a factor of approximately 2.7) with respect to its initial value by the single reaction under consideration, in the absence of all other reactions. \n",
    "\n",
    "For a single bimolecular reaction of the form $ A + B \\rightarrow C + D $ (where $A$, $B$, $C$, and $D$ denote four different species or molecules), the corresponding chemical time scale $ \\tau _ {chem} $ is given by Eq. (4.74):\n",
    "\n",
    "$$ \\tau _ {chem} = \\frac{\\ln \\{ e + ( 1 - e ) [ A]_0 / [B]_0 \\}}{( [B]_0 - [A]_0 ) k (T) } $$\n",
    "\n",
    "where $ [A]_0 $ and $ [B]_0 $ are the initial molar concentrations of species $A$ and $B$, respectively, and $k(T)$ is the rate constant for the reaction. This expression was derived formally as the time scale associated with species $A$, where $A$ is the species having the lower initial molar concentration on the left-hand side $([A]_0 < [B]_0)$. (Otherwise, there is a risk of attempting to take the logarithm of a negative number.) Recalling that the units of $k(T)$ for a bimolecular reaction are (kmol/m^3)^(-1)/s, it can be seen that this expression is consistent with $ \\tau _ {chem} $ having units of time (s).  \n",
    "\n",
    "For a three-body reaction of the form $ A + B + M \\rightarrow C + M $ (where $M$ denotes a generic third body, as discussed in earlier tutorial Notebooks), the corresponding chemical time scale $ \\tau _ {chem} $ is given by Eq. (4.77):\n",
    "\n",
    "$$ \\tau _ {chem} = \\frac{\\ln \\{ e + ( 1 - e ) [ A]_0 / [B]_0 \\}}{( [B]_0 - [A]_0 ) k (T) [M] } $$\n",
    "\n",
    "where the same notation has been used. Again, this is a time scale that is associated with the species having the lower initial molar concentration of $A$ or $B$ $([A]_0 < [B]_0)$. Recalling that the units of $k(T)$ for a three-body reaction are (kmol/m^3)^(-2)/s, it can be seen that this expression is consistent with $ \\tau _ {chem} $ having units of time (s). \n",
    "\n",
    "From these expressions, it can be seen that the chemical time scale depends on the temperature (through $k(T)$) and on the molar concentrations of the reactants. Thus even for a single species in a single reaction, the chemical time scale defined in this manner can vary widely over the course of a combustion event (i.e., through the conversion from fuel+air reactants to products of combustion, with a corresponding rise in temperature). \n",
    "\n",
    "The above expressions can be simplified in the case where the initial molar concentration of one reactant is much greater than that of the other $([B]_0 \\gg [A]_0)$, as shown in Chapter 4."
   ]
  },
  {
   "cell_type": "markdown",
   "metadata": {},
   "source": [
    "## 2. Variation of chemical time scales through a combustion event"
   ]
  },
  {
   "cell_type": "markdown",
   "metadata": {},
   "source": [
    "Here we explore chemical time scales for the reactions considered in Example 4.5 of Turns 4th ed. (reactions r1-r4 here), plus two other reactions. The reactions considered, and their corresponding reaction indices in gri30.cti, are as follows:\n",
    "\n",
    "$$ {\\rm r1:} \\ \\ CH_4 + OH \\rightarrow CH_3 + H_2O \\ \\ {(\\rm forward \\ of \\ reaction \\ \\#97)} $$\n",
    "\n",
    "$$ {\\rm r2:} \\ \\ CO + OH \\rightarrow CO_2 + H \\ \\ {(\\rm forward \\ of \\ reaction \\ \\#98)} $$\n",
    "\n",
    "$$ {\\rm r3:} \\ \\ CH + N_2 \\rightarrow HCN + N \\ \\ {(\\rm forward \\ of \\ reaction \\ \\#239)} $$\n",
    "\n",
    "$$ {\\rm r4:} \\ \\ H + OH + M \\rightarrow H_2O + M \\ \\ {(\\rm forward \\ of \\ reaction \\ \\#42)} $$\n",
    "\n",
    "$$ {\\rm r5:} \\ \\ N_2 + O \\rightarrow NO + N \\ \\ {(\\rm reverse \\ of \\ reaction \\ \\#177)} $$\n",
    "\n",
    "$$ {\\rm r6:} \\ \\ H_2 + OH \\rightarrow H_2O + H \\ \\ {(\\rm forward \\ of \\ reaction \\ \\#83)} $$\n",
    "\n",
    "The first reaction is an important step in the oxidation of methane, the second is the key step in CO oxidation, the third is a rate-limiting step in the prompt-NO mechanism, the fourth is a typical radical recombination reaction, the fifth is a key step in thermal NO formation, and the sixth is one direction of a radical \"shuffle\" reaction. The roles of these reactions will be discussed further in Chapters 4 and 5 of Turns 4th ed.\n",
    "\n",
    "The chemical time scales will be computed at different instants in a constant-pressure adiabatic combustion process. For that purpose, we use a reactor network as in the previous tutorial Notebook (4_3_Constant_volume_reactor), but now for a constant-pressure process rather than a constant-volume process. \n",
    "\n",
    "In subsection 2.1, it is shown how to search the reaction mechanism to find these individual reactions. In subsection 2.2, functions are defined to compute the chemical time scales defined in Section 1 above. In subsection 2.3, time-scale results for reactions r1-r4 are compared with those in Example 4.5. In subsection 2.4, the time evolution of the time scales for these six reactions is computed for a constant-pressure adiabatic combustion system. And in subsection 2.5, the time variation of chemical time scales is discussed further."
   ]
  },
  {
   "cell_type": "markdown",
   "metadata": {},
   "source": [
    "### 2.1 Find the reactions of interest in the reaction mechanism"
   ]
  },
  {
   "cell_type": "code",
   "execution_count": 1,
   "metadata": {},
   "outputs": [
    {
     "name": "stdout",
     "output_type": "stream",
     "text": [
      "Running Cantera version: 2.4.0\n"
     ]
    }
   ],
   "source": [
    "# access modules\n",
    "import cantera as ct\n",
    "import numpy as np\n",
    "import matplotlib.pyplot as plt\n",
    "import pandas as pd\n",
    "import time\n",
    "\n",
    "# report Cantera version\n",
    "print(\"Running Cantera version: {}\".format(ct.__version__))"
   ]
  },
  {
   "cell_type": "code",
   "execution_count": 2,
   "metadata": {},
   "outputs": [],
   "source": [
    "# define an ideal-gas mixture named \"gas\" using Cantera's \"Solution\" object and GRI-Mech 3.0\n",
    "gas = ct.Solution('gri30.cti')"
   ]
  },
  {
   "cell_type": "markdown",
   "metadata": {},
   "source": [
    "Search the reaction mechanism for the reaction CH4 + OH <=> CH3 + H2O. Note that the order of the species on each side could be switched (e.g., it could be written as OH + CH4 <=> H2O + CH3), or it could be written with CH4 and H2O on the right-hand side (e.g., CH3 + H2O <=> CH4 + OH). So we need to check all of those possibilities."
   ]
  },
  {
   "cell_type": "code",
   "execution_count": 3,
   "metadata": {},
   "outputs": [
    {
     "name": "stdout",
     "output_type": "stream",
     "text": [
      "97 CH4 + OH <=> CH3 + H2O\n"
     ]
    }
   ],
   "source": [
    "# lf is an array of reaction indices of all reactions for which CH4 and OH are on the left-hand side (reactants side)\n",
    "#   and CH3 and OH are on the right-hand side (products side)\n",
    "lf = [i for i, r in enumerate(gas.reactions()) if 'CH4' in r.reactants and 'OH'  in r.reactants\n",
    "                                              and 'CH3' in r.products  and 'H2O' in r.products]\n",
    "\n",
    "# print the reaction equations\n",
    "for i in lf:\n",
    "    print(i,gas.reaction(i).equation)\n",
    "\n",
    "# lr is an array of reaction indices of all reactions for which CH4 and OH are on the right-hand side (products side)\n",
    "#   and CH3 and OH are on the left-hand side (reactants side)\n",
    "lr = [i for i, r in enumerate(gas.reactions()) if 'CH4' in r.products  and 'OH'  in r.products\n",
    "                                              and 'CH3' in r.reactants and 'H2O' in r.reactants]\n",
    "\n",
    "# print the reaction equations\n",
    "for i in lr:\n",
    "    print(i,gas.reaction(i).equation)"
   ]
  },
  {
   "cell_type": "markdown",
   "metadata": {},
   "source": [
    "There is a single reaction that has CH4 and OH on the left-hand side and CH3 and H2O on the right-hand side (reaction index 97), and no reactions that have CH4 and OH on the right-hand side and CH3 and H2O on the left-hand side. The forward direction of reaction index 97 is, in fact, the reaction that we are looking for. That is the first element (array index 0) in the lf array:"
   ]
  },
  {
   "cell_type": "code",
   "execution_count": 4,
   "metadata": {},
   "outputs": [
    {
     "data": {
      "text/plain": [
       "<ElementaryReaction: CH4 + OH <=> CH3 + H2O>"
      ]
     },
     "execution_count": 4,
     "metadata": {},
     "output_type": "execute_result"
    }
   ],
   "source": [
    "# i1 and r1 are, respectively, the reaction index and the reaction for the first reaction of interest\n",
    "i1 = lf[0]\n",
    "r1 = gas.reaction(i1)\n",
    "r1"
   ]
  },
  {
   "cell_type": "markdown",
   "metadata": {},
   "source": [
    "We then proceed similarly for the other five reactions of interest:"
   ]
  },
  {
   "cell_type": "code",
   "execution_count": 5,
   "metadata": {},
   "outputs": [
    {
     "name": "stdout",
     "output_type": "stream",
     "text": [
      "98 CO + OH <=> CO2 + H\n"
     ]
    }
   ],
   "source": [
    "# find all reactions that have CO and OH on one side and CO2 and H on the other side\n",
    "lf = [i for i, r in enumerate(gas.reactions()) if 'CO'  in r.reactants and 'OH' in r.reactants\n",
    "                                              and 'CO2' in r.products  and 'H'  in r.products]\n",
    "\n",
    "for i in lf:\n",
    "    print(i,gas.reaction(i).equation)\n",
    "\n",
    "lr = [i for i, r in enumerate(gas.reactions()) if 'CO'  in r.products  and 'OH' in r.products\n",
    "                                              and 'CO2' in r.reactants and 'H'  in r.reactants]\n",
    "    \n",
    "# print the reaction equations\n",
    "for i in lr:\n",
    "    print(i,gas.reaction(i).equation)"
   ]
  },
  {
   "cell_type": "code",
   "execution_count": 6,
   "metadata": {},
   "outputs": [
    {
     "data": {
      "text/plain": [
       "<ElementaryReaction: CO + OH <=> CO2 + H>"
      ]
     },
     "execution_count": 6,
     "metadata": {},
     "output_type": "execute_result"
    }
   ],
   "source": [
    "# the forward direction of reaction index 98 is the one that we want\n",
    "i2 = lf[0]\n",
    "r2 = gas.reaction(i2)\n",
    "r2"
   ]
  },
  {
   "cell_type": "code",
   "execution_count": 7,
   "metadata": {},
   "outputs": [
    {
     "name": "stdout",
     "output_type": "stream",
     "text": [
      "239 CH + N2 <=> HCN + N\n"
     ]
    }
   ],
   "source": [
    "# find all reactions that have CH and N2 on one side and HCN and N on the other side\n",
    "lf = [i for i, r in enumerate(gas.reactions()) if 'CH'  in r.reactants and 'N2' in r.reactants\n",
    "                                              and 'HCN' in r.products  and 'N'  in r.products]\n",
    "\n",
    "for i in lf:\n",
    "    print(i,gas.reaction(i).equation)\n",
    "\n",
    "lr = [i for i, r in enumerate(gas.reactions()) if 'CH'  in r.products  and 'N2' in r.products\n",
    "                                              and 'HCN' in r.reactants and 'N'  in r.reactants]\n",
    "    \n",
    "# print the reaction equations\n",
    "for i in lr:\n",
    "    print(i,gas.reaction(i).equation)"
   ]
  },
  {
   "cell_type": "code",
   "execution_count": 8,
   "metadata": {},
   "outputs": [
    {
     "data": {
      "text/plain": [
       "<ElementaryReaction: CH + N2 <=> HCN + N>"
      ]
     },
     "execution_count": 8,
     "metadata": {},
     "output_type": "execute_result"
    }
   ],
   "source": [
    "# the forward direction of reaction index 239 is the one that we want\n",
    "i3 = lf[0]\n",
    "r3 = gas.reaction(i3)\n",
    "r3"
   ]
  },
  {
   "cell_type": "code",
   "execution_count": 9,
   "metadata": {},
   "outputs": [
    {
     "name": "stdout",
     "output_type": "stream",
     "text": [
      "42 H + OH + M <=> H2O + M\n"
     ]
    }
   ],
   "source": [
    "# find all reactions that have H and OH on one side and H2O on the other side\n",
    "# note that 'M' is not a recognized species name, so we don't include it in our search\n",
    "lf = [i for i, r in enumerate(gas.reactions()) if 'H'   in r.reactants and 'OH' in r.reactants\n",
    "                                              and 'H2O' in r.products]\n",
    "\n",
    "for i in lf:\n",
    "    print(i,gas.reaction(i).equation)\n",
    "\n",
    "lr = [i for i, r in enumerate(gas.reactions()) if 'H' in r.products and 'OH' in r.products\n",
    "                                              and 'H2O' in r.reactants]\n",
    "    \n",
    "# print the reaction equations\n",
    "for i in lr:\n",
    "    print(i,gas.reaction(i).equation)"
   ]
  },
  {
   "cell_type": "code",
   "execution_count": 10,
   "metadata": {},
   "outputs": [
    {
     "data": {
      "text/plain": [
       "<ThreeBodyReaction: H + OH + M <=> H2O + M>"
      ]
     },
     "execution_count": 10,
     "metadata": {},
     "output_type": "execute_result"
    }
   ],
   "source": [
    "# the forward direction of reaction index 42 is the one that we want\n",
    "i4 = lf[0]\n",
    "r4 = gas.reaction(i4)\n",
    "r4"
   ]
  },
  {
   "cell_type": "code",
   "execution_count": 11,
   "metadata": {},
   "outputs": [
    {
     "name": "stdout",
     "output_type": "stream",
     "text": [
      "177 N + NO <=> N2 + O\n"
     ]
    }
   ],
   "source": [
    "# find all reactions that have N2 and O on one side and NO and N on the other side\n",
    "lf = [i for i, r in enumerate(gas.reactions()) if 'N2' in r.reactants and 'O' in r.reactants\n",
    "                                              and 'NO' in r.products  and 'N' in r.products]\n",
    "\n",
    "for i in lf:\n",
    "    print(i,gas.reaction(i).equation)\n",
    "\n",
    "lr = [i for i, r in enumerate(gas.reactions()) if 'N2' in r.products  and 'O' in r.products\n",
    "                                              and 'NO' in r.reactants and 'N' in r.reactants]\n",
    "    \n",
    "# print the reaction equations\n",
    "for i in lr:\n",
    "    print(i,gas.reaction(i).equation)"
   ]
  },
  {
   "cell_type": "code",
   "execution_count": 12,
   "metadata": {},
   "outputs": [
    {
     "data": {
      "text/plain": [
       "<ElementaryReaction: N + NO <=> N2 + O>"
      ]
     },
     "execution_count": 12,
     "metadata": {},
     "output_type": "execute_result"
    }
   ],
   "source": [
    "# the reverse direction of reaction index 177 is the one that we want\n",
    "i5 = lr[0]\n",
    "r5 = gas.reaction(i5)\n",
    "r5"
   ]
  },
  {
   "cell_type": "code",
   "execution_count": 13,
   "metadata": {},
   "outputs": [
    {
     "name": "stdout",
     "output_type": "stream",
     "text": [
      "83 H2 + OH <=> H + H2O\n"
     ]
    }
   ],
   "source": [
    "# find all reactions that have H2 and OH on one side and H2O and H on the other side\n",
    "lf = [i for i, r in enumerate(gas.reactions()) if 'H2'  in r.reactants and 'OH' in r.reactants\n",
    "                                              and 'H2O' in r.products  and 'H'  in r.products]\n",
    "\n",
    "for i in lf:\n",
    "    print(i,gas.reaction(i).equation)\n",
    "    \n",
    "lr = [i for i, r in enumerate(gas.reactions()) if 'H2'  in r.products  and 'OH' in r.products\n",
    "                                              and 'H2O' in r.reactants and 'H'  in r.reactants]\n",
    "    \n",
    "# print the reaction equations\n",
    "for i in lr:\n",
    "    print(i,gas.reaction(i).equation)"
   ]
  },
  {
   "cell_type": "code",
   "execution_count": 14,
   "metadata": {},
   "outputs": [
    {
     "data": {
      "text/plain": [
       "<ElementaryReaction: H2 + OH <=> H + H2O>"
      ]
     },
     "execution_count": 14,
     "metadata": {},
     "output_type": "execute_result"
    }
   ],
   "source": [
    "# the forward direction of reaction index 83 is the one that we want\n",
    "i6 = lf[0]\n",
    "r6 = gas.reaction(i6)\n",
    "r6"
   ]
  },
  {
   "cell_type": "markdown",
   "metadata": {},
   "source": [
    "So, now we have the six reactions of interest. Their reaction indices are i1, i2, i3, i4, i5, and i6, respectively, and the reactions themselves are r1, r2, r3, r4, r5, and r6."
   ]
  },
  {
   "cell_type": "markdown",
   "metadata": {},
   "source": [
    "### 2.2 Define functions to compute chemical time scales"
   ]
  },
  {
   "cell_type": "markdown",
   "metadata": {},
   "source": [
    "Three functions are defined: one to compute the time scale for the forward direction of a bimolecular reaction (reactions r1, r2, r3, and r6); one to compute the time scale for the reverse direction of a bimolecular reaction (reaction r5); and one to compute the time scale for the forward direction of a three-body reaction (reaction r4)."
   ]
  },
  {
   "cell_type": "code",
   "execution_count": 15,
   "metadata": {},
   "outputs": [],
   "source": [
    "# this function computes the chemical time scale for chemical species \"A\" in a bimolecular reaction that corresponds\n",
    "#   to the forward direction of a reversible reaction with reaction index ir\n",
    "# argument \"ir\" is the reaction index of the reversible reaction in the current reaction mechanism\n",
    "# a gas mixture named \"gas\" must be defined on calling this function\n",
    "# reaction index \"ir\" must be a valid bimolecular reaction in the forward direction \n",
    "# the (positive) value of B0 must be greater than the (positive) value of A0; otherwise, an error may result\n",
    "#   from attempting to take the logarithm of a negative number\n",
    "# note that the basis of natural logarithms is a NumPy object named \"e\", and that NumPy object \"log\" corresponds\n",
    "#   to a natural (base e) logarithm\n",
    "def ChemTimeScale2f(ir):\n",
    "    r   = gas.reaction(ir)      # get the reaction corresponding to reaction index ir\n",
    "    s0  = list(r.reactants)[0]  # get the first species on the left-hand side (reactants side) of the reaction\n",
    "    s1  = list(r.reactants)[1]  # get the second species on the left-hand side (reactants side) of the reaction\n",
    "    c0  = gas.concentrations[gas.species_index(s0)] # get the molar concentration of the first species\n",
    "    c1  = gas.concentrations[gas.species_index(s1)] # get the molar concentration of the second species\n",
    "    B0  = np.maximum(c0,c1)               # make sure that species B is the one having the higher molar concentration\n",
    "    A0  = np.minimum(c0,c1)               # then A is the species having the lower molar concentration\n",
    "    k   = gas.forward_rate_constants[ir]  # get the rate constant for the forward reaction\n",
    "    arg = np.e + ( 1. - np.e )*A0/B0      # calculate the argument for the log function (must be >0)\n",
    "    tau = np.log(arg) / ( ( B0 - A0 )*k ) # calculate the chemical time scale\n",
    "    return tau\n",
    "    \n",
    "# this function computes the chemical time scale for chemical species \"A\" in a bimolecular reaction that corresponds\n",
    "#   to the reverse direction of a reversible reaction with reaction index ir\n",
    "# differences with respect to ChemTimeScale2f are as noted with the internal comments\n",
    "def ChemTimeScale2r(ir):\n",
    "    r   = gas.reaction(ir)\n",
    "    s0  = list(r.products)[0]   # get the first species on the right-hand side (products side) of the reaction\n",
    "    s1  = list(r.products)[1]   # get the second species on the right-hand side (products side) of the reaction\n",
    "    c0  = gas.concentrations[gas.species_index(s0)]\n",
    "    c1  = gas.concentrations[gas.species_index(s1)]\n",
    "    B0  = np.maximum(c0,c1)\n",
    "    A0  = np.minimum(c0,c1)\n",
    "    k   = gas.reverse_rate_constants[ir] # get the rate constant for the reverse reaction\n",
    "    arg = np.e + ( 1. - np.e )*A0/B0\n",
    "    tau = np.log(arg) / ( ( B0 - A0 )*k )\n",
    "    return tau\n",
    "    \n",
    "# this function computes the chemical time scale for chemical species \"A\" in a three-body reaction that corresponds\n",
    "#   to the forward direction of a reversible reaction with reaction index ir\n",
    "# recall that for a three-body reaction, the rate constant reported by \"forward_rate_constants\" includes a factor\n",
    "#   that is the third-body-efficiency-weighted sum of the molar concentrations of all species in the gas mixture\n",
    "#   (see tutorial Notebook 4_1_Chemical_kinetics_Cantera_basics)\n",
    "# differences with respect to ChemTimeScale2f are as noted with the internal comments\n",
    "def ChemTimeScale3f(ir):\n",
    "    r  = gas.reaction(ir)\n",
    "    s0 = list(r.reactants)[0]\n",
    "    s1 = list(r.reactants)[1]\n",
    "    c0 = gas.concentrations[gas.species_index(s0)]\n",
    "    c1 = gas.concentrations[gas.species_index(s1)]\n",
    "    B0 = np.maximum(c0,c1)\n",
    "    A0 = np.minimum(c0,c1)\n",
    "# the molar concentration of the third body considers only N2 and H2O, as in Example 4.5 of Turns 4th ed.\n",
    "    M  = gas.concentrations[gas.species_index('N2')] + gas.concentrations[gas.species_index('H2O')]\n",
    "# the following lines compute the sum of the molar concentrations of all species, with each species\n",
    "#   multiplied by its third-body efficiency - see tutorial Notebook 4_1_Chemical_kinetics_Cantera_basics\n",
    "    Mprime = 0.\n",
    "    for i in range(gas.n_species):\n",
    "        Mprime += gas.concentrations[i]*r.efficiency(gas.species_name(i))\n",
    "# calculate the forward rate constant as defined in Example 4.5 of Turns 4th ed.\n",
    "    k   = gas.forward_rate_constants[ir] / Mprime\n",
    "    arg = np.e + ( 1. - np.e )*A0/B0\n",
    "# calculate the chemical time scale as defined in Chapter 4 of Turns 4th ed.\n",
    "    tau = np.log(arg) / ( ( B0 - A0 )*k*M )\n",
    "    return tau"
   ]
  },
  {
   "cell_type": "markdown",
   "metadata": {},
   "source": [
    "### 2.3 Compare with Example 4.5 in Turns 4th ed."
   ]
  },
  {
   "cell_type": "markdown",
   "metadata": {},
   "source": [
    "First, we check whether or not the rate constants in gri30.cti are the same as those given in Example 4.5 of Turns 4th ed. for the reactions r1, r2, r3, and r4. Reactions r5 and r6 are not included in that example."
   ]
  },
  {
   "cell_type": "code",
   "execution_count": 16,
   "metadata": {},
   "outputs": [
    {
     "data": {
      "text/plain": [
       "Arrhenius(A=100000, b=1.6, E=1.30541e+07)"
      ]
     },
     "execution_count": 16,
     "metadata": {},
     "output_type": "execute_result"
    }
   ],
   "source": [
    "# print the rate paramters for reaction r1\n",
    "r1.rate"
   ]
  },
  {
   "cell_type": "markdown",
   "metadata": {},
   "source": [
    "The pre-exponential factor is A=1.00e+05 (kmol/m^3)^(-1)/s, or 1.00e+5 m^3/kmol-s. In CGS units, this is 1.00e+08 cm^3/gmol-s. This is equal to the value given in Example 4.5 of Turns 4th ed.\n",
    "\n",
    "The temperature exponent is b=1.6. This is equal to the value given in Example 4.5.\n",
    "\n",
    "The activation energy is E=1.30541e+07 J/kmol. This corresponds to an activation temperature of E/R_u=1570 K, with R_u=8314.46 J/kmol-K. This is equal to the value given in Example 4.5."
   ]
  },
  {
   "cell_type": "code",
   "execution_count": 17,
   "metadata": {},
   "outputs": [
    {
     "data": {
      "text/plain": [
       "Arrhenius(A=47600, b=1.228, E=292880)"
      ]
     },
     "execution_count": 17,
     "metadata": {},
     "output_type": "execute_result"
    }
   ],
   "source": [
    "# print the rate paramters for reaction r2\n",
    "r2.rate"
   ]
  },
  {
   "cell_type": "markdown",
   "metadata": {},
   "source": [
    "Again, the values are consistent with those given in Example 4.5, after appropriate units conversions."
   ]
  },
  {
   "cell_type": "code",
   "execution_count": 18,
   "metadata": {},
   "outputs": [
    {
     "data": {
      "text/plain": [
       "Arrhenius(A=3.12e+06, b=0.88, E=8.42239e+07)"
      ]
     },
     "execution_count": 18,
     "metadata": {},
     "output_type": "execute_result"
    }
   ],
   "source": [
    "# print the rate paramters for reaction r3\n",
    "r3.rate"
   ]
  },
  {
   "cell_type": "markdown",
   "metadata": {},
   "source": [
    "In this case, the pre-exponential factor A here is more than a factor of 10 higher than the value given for this reaction in Example 4.5, after the appropriate units conversions are made. The temperature exponent b value here is lower here than the value in Example 4.5. And the activation temperature is within a few percent of the value in Example 4.5."
   ]
  },
  {
   "cell_type": "code",
   "execution_count": 19,
   "metadata": {},
   "outputs": [
    {
     "data": {
      "text/plain": [
       "Arrhenius(A=2.2e+16, b=-2, E=0)"
      ]
     },
     "execution_count": 19,
     "metadata": {},
     "output_type": "execute_result"
    }
   ],
   "source": [
    "# print the rate paramters for reaction r4\n",
    "r4.rate"
   ]
  },
  {
   "cell_type": "markdown",
   "metadata": {},
   "source": [
    "The values of A, b, and E are equal to the values given in Table 4.5. Note that the units of A here are (kmol/m^3)^(-2)-s or m^6/kmol^2-s. This is a three-body reaction, so let's also look at the efficiencies. These aren't needed in Example 4.5, but because of the way that the rate constants are reported for three-body reactions in Cantera (see Notebook 4_1_Chemical_kinetics_Cantera_basics), we will need these here."
   ]
  },
  {
   "cell_type": "code",
   "execution_count": 20,
   "metadata": {},
   "outputs": [
    {
     "data": {
      "text/plain": [
       "1.0"
      ]
     },
     "execution_count": 20,
     "metadata": {},
     "output_type": "execute_result"
    }
   ],
   "source": [
    "r4.default_efficiency"
   ]
  },
  {
   "cell_type": "code",
   "execution_count": 21,
   "metadata": {},
   "outputs": [
    {
     "data": {
      "text/plain": [
       "{'AR': 0.38, 'C2H6': 3.0, 'CH4': 2.0, 'H2': 0.73, 'H2O': 3.65}"
      ]
     },
     "execution_count": 21,
     "metadata": {},
     "output_type": "execute_result"
    }
   ],
   "source": [
    "r4.efficiencies"
   ]
  },
  {
   "cell_type": "markdown",
   "metadata": {},
   "source": [
    "So, to get a value for the forward constant that is consistent with that given in Turns Example 4.5, the value reported by gas.forward_rate_constants[i4] must be divided by the total molar concentration of all possible third-body species, each multiplied by their corresponding third-body efficiency. That is done in the function `ChemTimeScale3f()` defined above."
   ]
  },
  {
   "cell_type": "code",
   "execution_count": 22,
   "metadata": {},
   "outputs": [
    {
     "data": {
      "text/plain": [
       "Arrhenius(A=2.7e+10, b=0, E=1.48532e+06)"
      ]
     },
     "execution_count": 22,
     "metadata": {},
     "output_type": "execute_result"
    }
   ],
   "source": [
    "# print the rate paramters for reaction r5\n",
    "r5.rate"
   ]
  },
  {
   "cell_type": "markdown",
   "metadata": {},
   "source": [
    "This reaction is not considered in Example 4.5."
   ]
  },
  {
   "cell_type": "code",
   "execution_count": 23,
   "metadata": {},
   "outputs": [
    {
     "data": {
      "text/plain": [
       "Arrhenius(A=216000, b=1.51, E=1.43511e+07)"
      ]
     },
     "execution_count": 23,
     "metadata": {},
     "output_type": "execute_result"
    }
   ],
   "source": [
    "# print the rate paramters for reaction r6\n",
    "r6.rate"
   ]
  },
  {
   "cell_type": "markdown",
   "metadata": {},
   "source": [
    "This reaction is not considered in Example 4.5."
   ]
  },
  {
   "cell_type": "markdown",
   "metadata": {},
   "source": [
    "From the above analysis, we expect that the values computed here for the chemical time scales should be close to the values given in Example 4.5 for reactions r1, r2, and r4, while the time scale here for reaction r3 should be smaller than the value given there (because of the larger value of A here for that reaction).\n",
    "\n",
    "Now let's set the gas mixture to the first condition (Condition I) specified in Example 4.5. Note that the species mole fractions for the six species species do not sum to unity. Here we make up the difference with argon, to ensure that the mole fractions and molar concentrations of the species that are involved in the reactions have the correct values."
   ]
  },
  {
   "cell_type": "code",
   "execution_count": 24,
   "metadata": {},
   "outputs": [
    {
     "name": "stdout",
     "output_type": "stream",
     "text": [
      "\n",
      "  gri30:\n",
      "\n",
      "       temperature          1344.3  K\n",
      "          pressure          101325  Pa\n",
      "           density        0.247423  kg/m^3\n",
      "  mean mol. weight         27.2932  amu\n",
      "\n",
      "                          1 kg            1 kmol\n",
      "                       -----------      ------------\n",
      "          enthalpy     -4.4251e+05       -1.208e+07     J\n",
      "   internal energy     -8.5204e+05       -2.325e+07     J\n",
      "           entropy            8835        2.411e+05     J/K\n",
      "    Gibbs function     -1.2319e+07       -3.362e+08     J\n",
      " heat capacity c_p          1285.9         3.51e+04     J/K\n",
      " heat capacity c_v          981.23        2.678e+04     J/K\n",
      "\n",
      "                           X                 Y          Chem. Pot. / RT\n",
      "                     -------------     ------------     ------------\n",
      "                 H      0.0001418      5.23669e-06          -4.9741\n",
      "                OH      0.0001818      0.000113286         -29.7969\n",
      "               H2O         0.1864         0.123036         -49.1849\n",
      "                CH      2.082e-09      9.93122e-10          8.82048\n",
      "               CH4      0.0002012      0.000118264         -41.9612\n",
      "                CO       0.004083        0.0041903         -41.8197\n",
      "                N2         0.7125         0.731304           -26.01\n",
      "                AR      0.0964922         0.141232         -22.7678\n",
      "     [  +45 minor]              0                0\n",
      "\n"
     ]
    }
   ],
   "source": [
    "# Condition I in Example 4.5\n",
    "T1 = 1344.3\n",
    "P1 = ct.one_atm\n",
    "X1 = 'CH4:2.012e-04 N2:0.7125 CO:4.083e-03 OH:1.818e-04 H:1.418e-04 CH:2.082e-09 H2O:0.1864 AR:0.0964922'\n",
    "\n",
    "gas.TPX = T1,P1,X1\n",
    "\n",
    "gas()"
   ]
  },
  {
   "cell_type": "code",
   "execution_count": 25,
   "metadata": {},
   "outputs": [
    {
     "data": {
      "text/plain": [
       "(0.2766916248322928,\n",
       " 0.08527386349860984,\n",
       " 0.16412362424844787,\n",
       " 8.91441954752882,\n",
       " 2698151.4301486253,\n",
       " 0.1914955400229324)"
      ]
     },
     "execution_count": 25,
     "metadata": {},
     "output_type": "execute_result"
    }
   ],
   "source": [
    "# compute chemical time scales, and convert to ms to facilitate comparison with Example 4.5\n",
    "tau1 = ChemTimeScale2f(i1)*1000.\n",
    "tau2 = ChemTimeScale2f(i2)*1000.\n",
    "tau3 = ChemTimeScale2f(i3)*1000.\n",
    "tau4 = ChemTimeScale3f(i4)*1000.\n",
    "tau5 = ChemTimeScale2r(i5)*1000.\n",
    "tau6 = ChemTimeScale2f(i6)*1000.\n",
    "tau1 , tau2 , tau3 , tau4 , tau5, tau6"
   ]
  },
  {
   "cell_type": "markdown",
   "metadata": {},
   "source": [
    "The time scales computed here for reactions r1, r2, and r4 are consistent with those given in Example 4.5 for Condition I. The time scale computed here for reaction r3 is shorter than that given in Example 4.5."
   ]
  },
  {
   "cell_type": "code",
   "execution_count": 26,
   "metadata": {},
   "outputs": [
    {
     "name": "stdout",
     "output_type": "stream",
     "text": [
      "\n",
      "  gri30:\n",
      "\n",
      "       temperature          2199.2  K\n",
      "          pressure          101325  Pa\n",
      "           density        0.151162  kg/m^3\n",
      "  mean mol. weight         27.2788  amu\n",
      "\n",
      "                          1 kg            1 kmol\n",
      "                       -----------      ------------\n",
      "          enthalpy      7.2864e+05        1.988e+07     J\n",
      "   internal energy           58335        1.591e+06     J\n",
      "           entropy            9512        2.595e+05     J/K\n",
      "    Gibbs function      -2.019e+07       -5.508e+08     J\n",
      " heat capacity c_p          1387.9        3.786e+04     J/K\n",
      " heat capacity c_v          1083.1        2.955e+04     J/K\n",
      "\n",
      "                           X                 Y          Chem. Pot. / RT\n",
      "                     -------------     ------------     ------------\n",
      "                 H      0.0006634      2.45123e-05         -12.0279\n",
      "                OH       0.003678        0.0022931         -29.6778\n",
      "               H2O         0.1815         0.119865         -42.8268\n",
      "                CH      9.148e-09      4.36592e-09         -12.0672\n",
      "               CH4      3.773e-06      2.21891e-06         -46.7999\n",
      "                CO        0.01106        0.0113566         -38.5815\n",
      "                N2         0.7077         0.726759         -27.6017\n",
      "                AR      0.0953948         0.139699         -23.7943\n",
      "     [  +45 minor]              0                0\n",
      "\n"
     ]
    }
   ],
   "source": [
    "# Condition II in Example 4.5\n",
    "T2 = 2199.2\n",
    "P2 = ct.one_atm\n",
    "X2 = 'CH4:3.773e-06 N2:0.7077 CO:1.106e-02 OH:3.678e-03 H:6.634e-04 CH:9.148e-09 H2O:0.1815 AR:0.09539482'\n",
    "\n",
    "gas.TPX = T2,P2,X2\n",
    "\n",
    "gas()"
   ]
  },
  {
   "cell_type": "code",
   "execution_count": 27,
   "metadata": {},
   "outputs": [
    {
     "data": {
      "text/plain": [
       "(0.004501537766003848,\n",
       " 0.03135851016512326,\n",
       " 0.009367077101665058,\n",
       " 2.347488638244383,\n",
       " 71.406445125484,\n",
       " 0.004470470968622141)"
      ]
     },
     "execution_count": 27,
     "metadata": {},
     "output_type": "execute_result"
    }
   ],
   "source": [
    "# compute chemical time scales, and convert to ms to facilitate comparison with Example 4.5\n",
    "tau1 = ChemTimeScale2f(i1)*1000.\n",
    "tau2 = ChemTimeScale2f(i2)*1000.\n",
    "tau3 = ChemTimeScale2f(i3)*1000.\n",
    "tau4 = ChemTimeScale3f(i4)*1000.\n",
    "tau5 = ChemTimeScale2r(i5)*1000.\n",
    "tau6 = ChemTimeScale2f(i6)*1000.\n",
    "tau1 , tau2 , tau3 , tau4 , tau5, tau6"
   ]
  },
  {
   "cell_type": "markdown",
   "metadata": {},
   "source": [
    "The time scales computed here for reactions r1, r2, and r4 are consistent with those given in Example 4.5 for Condition II. The time scale computed here for reaction r3 is shorter than that given in Example 4.5. "
   ]
  },
  {
   "cell_type": "markdown",
   "metadata": {},
   "source": [
    "### 2.4 Solve a constant-pressure adiabatic reactor problem, and compute the chemical time scales of interest"
   ]
  },
  {
   "cell_type": "markdown",
   "metadata": {},
   "source": [
    "The governing equations for a constant-pressure reactor are different from those for a constant-volume reactor, and are given in Chapter 6 of Turns 4th ed. In particular, the species molar concentration equation has an additional term (in addition to the reaction chemical source term) to account for the time variation in system volume at constant pressure."
   ]
  },
  {
   "cell_type": "code",
   "execution_count": 28,
   "metadata": {},
   "outputs": [
    {
     "name": "stdout",
     "output_type": "stream",
     "text": [
      "\n",
      "  gri30:\n",
      "\n",
      "       temperature            1000  K\n",
      "          pressure          101325  Pa\n",
      "           density        0.336755  kg/m^3\n",
      "  mean mol. weight         27.6332  amu\n",
      "\n",
      "                          1 kg            1 kmol\n",
      "                       -----------      ------------\n",
      "          enthalpy      5.8795e+05        1.625e+07     J\n",
      "   internal energy      2.8707e+05        7.933e+06     J\n",
      "           entropy          8664.7        2.394e+05     J/K\n",
      "    Gibbs function     -8.0767e+06       -2.232e+08     J\n",
      " heat capacity c_p          1340.7        3.705e+04     J/K\n",
      " heat capacity c_v          1039.8        2.873e+04     J/K\n",
      "\n",
      "                           X                 Y          Chem. Pot. / RT\n",
      "                     -------------     ------------     ------------\n",
      "                O2       0.190114         0.220149         -28.2258\n",
      "               CH4       0.095057        0.0551863          -36.538\n",
      "                N2       0.714829         0.724665         -25.1862\n",
      "     [  +50 minor]              0                0\n",
      "\n"
     ]
    }
   ],
   "source": [
    "# initialize the gas mixture\n",
    "# here we consider a stoichiometric methane-air mixture at 1000 K and 1 atm\n",
    "T_0  = 1000.\n",
    "P_0  = ct.one_atm\n",
    "fuel = 'CH4'\n",
    "air  = 'O2:1.0 N2:3.76'\n",
    "phi  = 1.0\n",
    "\n",
    "gas.TP = T_0, P_0\n",
    "gas.set_equivalence_ratio(phi,fuel,air)\n",
    "\n",
    "# print the current state of the gas mixture\n",
    "gas()"
   ]
  },
  {
   "cell_type": "code",
   "execution_count": 29,
   "metadata": {},
   "outputs": [],
   "source": [
    "# define a reactor that is filled with the ideal-gas mixture \"gas\",\n",
    "#   and name it \"Constant-pressure reactor\"\n",
    "# note the use of \"IdealGasConstPressureReactor\" here, versus \"IdealGasReactor\" in the previous tutorial Notebook\n",
    "reactor = ct.IdealGasConstPressureReactor(contents=gas,name=\"Constant-pressure reactor\")\n",
    "\n",
    "# add \"reactor\" to a reactor network named \"reactorNetwork:\"\n",
    "reactorNetwork = ct.ReactorNet([reactor])"
   ]
  },
  {
   "cell_type": "code",
   "execution_count": 30,
   "metadata": {},
   "outputs": [],
   "source": [
    "# define an array to hold the values of the chemical time scales of interest\n",
    "tauarr = np.zeros(6)"
   ]
  },
  {
   "cell_type": "code",
   "execution_count": 31,
   "metadata": {},
   "outputs": [
    {
     "data": {
      "text/html": [
       "<div>\n",
       "<style scoped>\n",
       "    .dataframe tbody tr th:only-of-type {\n",
       "        vertical-align: middle;\n",
       "    }\n",
       "\n",
       "    .dataframe tbody tr th {\n",
       "        vertical-align: top;\n",
       "    }\n",
       "\n",
       "    .dataframe thead th {\n",
       "        text-align: right;\n",
       "    }\n",
       "</style>\n",
       "<table border=\"1\" class=\"dataframe\">\n",
       "  <thead>\n",
       "    <tr style=\"text-align: right;\">\n",
       "      <th></th>\n",
       "      <th>mass</th>\n",
       "      <th>temperature</th>\n",
       "      <th>H2</th>\n",
       "      <th>H</th>\n",
       "      <th>O</th>\n",
       "      <th>O2</th>\n",
       "      <th>OH</th>\n",
       "      <th>H2O</th>\n",
       "      <th>HO2</th>\n",
       "      <th>H2O2</th>\n",
       "      <th>...</th>\n",
       "      <th>C3H7</th>\n",
       "      <th>C3H8</th>\n",
       "      <th>CH2CHO</th>\n",
       "      <th>CH3CHO</th>\n",
       "      <th>tau1</th>\n",
       "      <th>tau2</th>\n",
       "      <th>tau3</th>\n",
       "      <th>tau4</th>\n",
       "      <th>tau5</th>\n",
       "      <th>tau6</th>\n",
       "    </tr>\n",
       "  </thead>\n",
       "  <tbody>\n",
       "    <tr>\n",
       "      <th>0.0</th>\n",
       "      <td>0.336755</td>\n",
       "      <td>1000.0</td>\n",
       "      <td>0.0</td>\n",
       "      <td>0.0</td>\n",
       "      <td>0.0</td>\n",
       "      <td>0.220149</td>\n",
       "      <td>0.0</td>\n",
       "      <td>0.0</td>\n",
       "      <td>0.0</td>\n",
       "      <td>0.0</td>\n",
       "      <td>...</td>\n",
       "      <td>0.0</td>\n",
       "      <td>0.0</td>\n",
       "      <td>0.0</td>\n",
       "      <td>0.0</td>\n",
       "      <td>0.0</td>\n",
       "      <td>0.0</td>\n",
       "      <td>0.0</td>\n",
       "      <td>0.0</td>\n",
       "      <td>0.0</td>\n",
       "      <td>0.0</td>\n",
       "    </tr>\n",
       "  </tbody>\n",
       "</table>\n",
       "<p>1 rows × 61 columns</p>\n",
       "</div>"
      ],
      "text/plain": [
       "         mass  temperature   H2    H    O        O2   OH  H2O  HO2  H2O2  ...  \\\n",
       "0.0  0.336755       1000.0  0.0  0.0  0.0  0.220149  0.0  0.0  0.0   0.0  ...   \n",
       "\n",
       "     C3H7  C3H8  CH2CHO  CH3CHO  tau1  tau2  tau3  tau4  tau5  tau6  \n",
       "0.0   0.0   0.0     0.0     0.0   0.0   0.0   0.0   0.0   0.0   0.0  \n",
       "\n",
       "[1 rows x 61 columns]"
      ]
     },
     "execution_count": 31,
     "metadata": {},
     "output_type": "execute_result"
    }
   ],
   "source": [
    "# create a list of all variables (named \"stateVariableNames\") for which we will compute and store time-dependent data\n",
    "# here the list includes the n_vars reactor state variables, plus the values of the chemical time scales of interest\n",
    "# the chemical time scales are appended after the standard reactor state variables\n",
    "stateVariableNames = [reactor.component_name(i) for i in range(reactor.n_vars)]\n",
    "stateVariableNames.append('tau1')\n",
    "stateVariableNames.append('tau2')\n",
    "stateVariableNames.append('tau3')\n",
    "stateVariableNames.append('tau4')\n",
    "stateVariableNames.append('tau5')\n",
    "stateVariableNames.append('tau6')\n",
    "\n",
    "# create a Pandas DataFrame named \"timeHistory\", using the state variable names as column headings\n",
    "timeHistory = pd.DataFrame(columns=stateVariableNames)\n",
    "\n",
    "# add a row to \"timeHistory\" with the initial condition\n",
    "# note the use of NumPy \"concatenate\" to concatenate the two arrays \"reactor.get_state\" and \"tauarr\"\n",
    "# there are other ways to do this, as will be seen in later tutorial Notebooks\n",
    "t = 0.\n",
    "timeHistory.loc[t] = np.concatenate((reactor.get_state(),tauarr))\n",
    "\n",
    "# print \"timeHistory\"\n",
    "# currently it contains the column headings and the initial condition\n",
    "timeHistory"
   ]
  },
  {
   "cell_type": "markdown",
   "metadata": {},
   "source": [
    "Note that the standard set of state variables does not include volume here, in contrast to the constant-volume reactor considered in the previous tutorial Notebook."
   ]
  },
  {
   "cell_type": "code",
   "execution_count": 32,
   "metadata": {},
   "outputs": [
    {
     "name": "stdout",
     "output_type": "stream",
     "text": [
      "Reached time 2.018e+00 seconds. Needed 0.74s to compute\n"
     ]
    }
   ],
   "source": [
    "# specify the integration end time in seconds\n",
    "t_end = 2.0 # (s)\n",
    "\n",
    "# get the current computer time\n",
    "ctim0 = time.time()\n",
    "\n",
    "# perform the time integration\n",
    "counter = 1;\n",
    "while(t <= t_end):\n",
    "    t = reactorNetwork.step()\n",
    "# save the reactor state \"timeHistory\" once every 10 time steps,\n",
    "    if (counter%10 == 0):\n",
    "# compute the chemical time scales of interest at the current state of the gas mixture in the reactor\n",
    "        tauarr[0] = ChemTimeScale2f(i1)\n",
    "        tauarr[1] = ChemTimeScale2f(i2)\n",
    "        tauarr[2] = ChemTimeScale2f(i3)\n",
    "        tauarr[3] = ChemTimeScale3f(i4)\n",
    "        tauarr[4] = ChemTimeScale2r(i5)\n",
    "        tauarr[5] = ChemTimeScale2f(i6)\n",
    "        timeHistory.loc[t] = np.concatenate((reactor.get_state(),tauarr))\n",
    "    counter+=1\n",
    "\n",
    "# make sure that the final time step is included in timeHistory\n",
    "tauarr[0] = ChemTimeScale2f(i1)\n",
    "tauarr[1] = ChemTimeScale2f(i2)\n",
    "tauarr[2] = ChemTimeScale2f(i3)\n",
    "tauarr[3] = ChemTimeScale3f(i4)\n",
    "tauarr[4] = ChemTimeScale2r(i5)\n",
    "tauarr[5] = ChemTimeScale2f(i6)\n",
    "timeHistory.loc[t] = np.concatenate((reactor.get_state(),tauarr))\n",
    "\n",
    "# the time needed to perform the integration is then the difference between ctim1 and ctim0\n",
    "ctim1 = time.time()\n",
    "ctime = ctim1 - ctim0\n",
    "\n",
    "# print the final time and computer time required\n",
    "print('Reached time {:.3e} seconds. Needed {:3.2f}s to compute'.format(t,ctime))"
   ]
  },
  {
   "cell_type": "code",
   "execution_count": 33,
   "metadata": {},
   "outputs": [],
   "source": [
    "# save the time history to an Excel-compatible file\n",
    "timeHistory.to_csv(\"time_history.csv\")"
   ]
  },
  {
   "cell_type": "code",
   "execution_count": 34,
   "metadata": {},
   "outputs": [
    {
     "data": {
      "image/png": "[encoded data removed]",
      "text/plain": [
       "<Figure size 432x288 with 1 Axes>"
      ]
     },
     "metadata": {
      "needs_background": "light"
     },
     "output_type": "display_data"
    }
   ],
   "source": [
    "# plot the time evolution of temperature\n",
    "fig, ax = plt.subplots()\n",
    "ax.plot(timeHistory.index, timeHistory['temperature'], label='T', lw=2)\n",
    "ax.set(xlabel='Time (s)',\n",
    "       ylabel='Temperature (K)',\n",
    "       title ='Temperature vs. time for constant-pressure adiabatic reactor')\n",
    "ax.legend(handlelength=4,loc='best')\n",
    "ax.grid(True)\n",
    "fig.savefig(\"T_vs_t_pconst.pdf\")"
   ]
  },
  {
   "cell_type": "markdown",
   "metadata": {},
   "source": [
    "The behavior is qualitatively similar to what we saw earlier for a constant-volume reactor."
   ]
  },
  {
   "cell_type": "code",
   "execution_count": 35,
   "metadata": {},
   "outputs": [
    {
     "data": {
      "image/png": "[encoded data removed]",
      "text/plain": [
       "<Figure size 432x288 with 1 Axes>"
      ]
     },
     "metadata": {
      "needs_background": "light"
     },
     "output_type": "display_data"
    }
   ],
   "source": [
    "# zoom in around the \"ignition time\"\n",
    "fig, ax = plt.subplots()\n",
    "ax.plot(timeHistory.index, timeHistory['temperature'], label='T', lw=2)\n",
    "ax.set(xlim=(1.09,1.10),\n",
    "       xlabel='Time (s)',\n",
    "       ylabel='Temperature (K)',\n",
    "       title ='Temperature vs. time for constant-pressure adiabatic reactor')\n",
    "ax.legend(handlelength=4,loc='best')\n",
    "ax.grid(True)\n",
    "fig.savefig(\"T_vs_t_pconst_zoom.pdf\")"
   ]
  },
  {
   "cell_type": "markdown",
   "metadata": {},
   "source": [
    "The system \"ignites\" (characterized by the very rapid time-rate-of-change of temperature) at approximately 1.0973 s (see the Excel-compatible file that was written earlier)."
   ]
  },
  {
   "cell_type": "markdown",
   "metadata": {},
   "source": [
    "### 2.5 Examine the chemical time scales"
   ]
  },
  {
   "cell_type": "markdown",
   "metadata": {},
   "source": [
    "The comments at the end of Example 4.5 of Turns 4th ed. address the significance of the wide range of chemical time scales in combustion, for reactions r1-r4 at two instants in time. Here we build on that by examining the chemical time scales for those reactions over a wider range of conditions, and for two additional reactions."
   ]
  },
  {
   "cell_type": "code",
   "execution_count": 36,
   "metadata": {},
   "outputs": [
    {
     "data": {
      "image/png": "[encoded data removed]",
      "text/plain": [
       "<Figure size 432x288 with 1 Axes>"
      ]
     },
     "metadata": {
      "needs_background": "light"
     },
     "output_type": "display_data"
    }
   ],
   "source": [
    "# plot the time evolution of the chemical time scales\n",
    "# use a logarithmic scale for the time scales, which vary over several orders of magnitude\n",
    "fig, ax = plt.subplots()\n",
    "ax.semilogy(timeHistory.index, timeHistory['tau1'], label='tau1', ls='solid',   lw=2)\n",
    "ax.semilogy(timeHistory.index, timeHistory['tau2'], label='tau2', ls='dashed',  lw=2)\n",
    "ax.semilogy(timeHistory.index, timeHistory['tau3'], label='tau3', ls='dashdot', lw=2)\n",
    "ax.semilogy(timeHistory.index, timeHistory['tau4'], label='tau4', ls='dotted',  lw=2)\n",
    "ax.semilogy(timeHistory.index, timeHistory['tau5'], label='tau5', ls='solid',   lw=2)\n",
    "ax.semilogy(timeHistory.index, timeHistory['tau6'], label='tau6', ls='dashed',  lw=2)\n",
    "ax.set(xlabel='Time (s)',\n",
    "       ylabel='Chemical time scale (s)',\n",
    "       title ='Chemical time scales vs. time for constant-pressure adiabatic reactor')\n",
    "ax.legend(handlelength=4,loc='best')\n",
    "ax.grid(True)\n",
    "fig.savefig(\"tau_vs_t_pconst.pdf\")"
   ]
  },
  {
   "cell_type": "markdown",
   "metadata": {},
   "source": [
    "The time scales vary over a range of greater than 13 orders of magnitude.\n",
    "\n",
    "Prior to ignition, the shortest time scale is for reaction r1 (hydroxyl radical attacking methane), and the longest is for reaction r5 (rate-limiting step in thermal NO formation). The three-body reaction r4 is slower than any of the two-body reactions, with the exception of the NO reaction. The CO to CO2 reaction (r2) is also slow initially. All of the time scales decrease as the system progresses toward \"ignition\". The time scale for the shuffle reaction (r6), in particular, decreases significantly, and actually becomes the fastest reaction of the six considered here for a brief time during the main ignition even, when the radical pool is most active. This can be seen by zooming in: "
   ]
  },
  {
   "cell_type": "code",
   "execution_count": 37,
   "metadata": {},
   "outputs": [
    {
     "data": {
      "image/png": "[encoded data removed]",
      "text/plain": [
       "<Figure size 432x288 with 1 Axes>"
      ]
     },
     "metadata": {
      "needs_background": "light"
     },
     "output_type": "display_data"
    }
   ],
   "source": [
    "# plot the time evolution of the chemical time scales\n",
    "# use a logarithmic scale for the time scales, which vary over several orders of magnitude\n",
    "fig, ax = plt.subplots()\n",
    "ax.semilogy(timeHistory.index, timeHistory['tau1'], label='tau1', ls='solid',   lw=2)\n",
    "ax.semilogy(timeHistory.index, timeHistory['tau2'], label='tau2', ls='dashed',  lw=2)\n",
    "ax.semilogy(timeHistory.index, timeHistory['tau3'], label='tau3', ls='dashdot', lw=2)\n",
    "ax.semilogy(timeHistory.index, timeHistory['tau4'], label='tau4', ls='dotted',  lw=2)\n",
    "ax.semilogy(timeHistory.index, timeHistory['tau5'], label='tau5', ls='solid',   lw=2)\n",
    "ax.semilogy(timeHistory.index, timeHistory['tau6'], label='tau6', ls='dashed',  lw=2)\n",
    "ax.set(xlim=(1.095,1.10),\n",
    "       ylim=(1.e-07,1.e-01),\n",
    "       xlabel='Time (s)',\n",
    "       ylabel='Chemical time scale (s)',\n",
    "       title ='Chemical time scales vs. time for constant-pressure adiabatic reactor')\n",
    "ax.legend(handlelength=4,loc='best')\n",
    "ax.grid(True)\n",
    "fig.savefig(\"tau_vs_t_pconst_zoom.pdf\")"
   ]
  },
  {
   "cell_type": "markdown",
   "metadata": {},
   "source": [
    "The combination of the relatively long time scales associated with three-body recombination reactions (reaction r4) and the short time scales associated with radical shuffle reactions (reaction r6) allows simplifications such as partial equilibrium to be invoked.\n",
    "\n",
    "Note that even after the main ignition event has been completed, thermal NO formation (reaction r5) remains slow compared to all other reactions considered here."
   ]
  },
  {
   "cell_type": "markdown",
   "metadata": {},
   "source": [
    "## 3. What's next"
   ]
  },
  {
   "cell_type": "markdown",
   "metadata": {},
   "source": [
    "Chemical time scale analysis can be used to simplify reaction mechanisms: for example, to determine for which species a steady-state approximation should be appropriate, and/or for which reactions a partial-equilbrium approximation should be appropriate. As we will see later, it will also be useful to compare chemical time scales with time scales for other physical processes in combustion, such as molecular and turbulent transport.\n",
    "\n",
    "Finally, it is noted that several alternative heuristic and formal definitions of chemical time scales have been proposed. The interested reader can search on \"chemical time scales\" and similar combinations of key words for additional information."
   ]
  },
  {
   "cell_type": "code",
   "execution_count": null,
   "metadata": {},
   "outputs": [],
   "source": []
  }
 ],
 "metadata": {
  "kernelspec": {
   "display_name": "Python 3 (ipykernel)",
   "language": "python",
   "name": "python3"
  },
  "language_info": {
   "codemirror_mode": {
    "name": "ipython",
    "version": 3
   },
   "file_extension": ".py",
   "mimetype": "text/x-python",
   "name": "python",
   "nbconvert_exporter": "python",
   "pygments_lexer": "ipython3",
   "version": "3.10.6"
  }
 },
 "nbformat": 4,
 "nbformat_minor": 2
}
