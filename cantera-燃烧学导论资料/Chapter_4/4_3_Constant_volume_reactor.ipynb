{
 "cells": [
  {
   "cell_type": "markdown",
   "metadata": {},
   "source": [
    "# Constant-Volume Reactor\n",
    "\n",
    "This Jupyter Notebook was written by Dan Haworth. It is intended as a tutorial to be used in parallel with Chapter 4 of the book \"An Introduction to Combustion: Concepts and Applications\" by Stephen R. Turns and Daniel C. Haworth. That book is referred to as \"Turns 4th ed.\" throughout this Notebook.\n",
    "\n",
    "This Notebook was last updated 11 February 2020.\n",
    "\n",
    "The objective of this tutorial is to provide an example of how to compute the time evolution of composition and thermodynamic properties (e.g., temperature and pressure) for an ideal-gas mixture, starting from an initial fuel+air reactant mixture, and through the final equilibrium products of combustion. A constant-volume adiabatic combustion process is considered. Cantera reactors/reactor networks and Pandas DataFrames are introduced in this context. Both of those will be useful in subsequent tutorials. We will use the thermodynamic properties and reaction mechanism that are included in gri30.cti.\n",
    "\n",
    "The reader should be familiar with the material in the previous Notebook (4_2_ODE_integration_thermal_NO) before working through this Notebook."
   ]
  },
  {
   "cell_type": "markdown",
   "metadata": {},
   "source": [
    "## 1. Motivation and scope"
   ]
  },
  {
   "cell_type": "markdown",
   "metadata": {},
   "source": [
    "In the previous tutorial Notebook (4_2_ODE_integration_thermal_NO), we manually coded the system of equations governing the time evolution of species molar concentrations for a relatively simple system, and integrated those in time using SciPy's `solve_ivp()` function. Here we use built-in Cantera objects to do something similar for a much larger reaction mechanism: GRI-Mech 3.0.\n",
    "\n",
    "Specifically, we consider the time evolution of an ideal-gas mixture for a constant-volume fixed-mass adiabatic combustion process, starting from a specified fuel-air reactant mixture, and eventually reaching equilibrium products of combustion. The equations governing the time evolution of species molar concentrations are identical to those given in Section 1 of Notebook 4_2_ODE_integration_thermal_NO:\n",
    "\n",
    "$$ \\frac{d[X_i]}{dt} = \\dot \\omega _ i \\ , \\ i = 1 , \\ldots , N_{spec} $$\n",
    "\n",
    "However, here we need one more ingredient: an energy, or temperature, equation. That equation is developed in Chapter 6, so we are jumping ahead a bit. The particular form of the energy (temperature) equation that we need is Eq. (6.29) or (6.20), with $ \\dot Q = 0 $ (adiabatic). Here the mass and volume are constant, so that the mixture pressure follows from the composition, temperature, and the ideal-gas equation of state.\n",
    "\n",
    "The reason that we introduce this here, rather than waiting until Chapter 6, is that it will facilitate our subsequent discussion of Chapters 4 and 5. The next Chapter 4 tutorial Notebook deals with chemical time scales: i.e., the rates at which individual chemical reactions proceed. And in Chapter 5, we will discuss the sequence of events by which an initial reactant mixture that contains one set of species or molecules (e.g.,  fuel and air) eventually is converted to a product mixture that contains a different set of species or molecules. For these purposes, it will be useful to be able to compute and examine the time history of the composition and temperature of a reacting mixture for a realistic reaction mechanism."
   ]
  },
  {
   "cell_type": "markdown",
   "metadata": {},
   "source": [
    "## 2. Simulating a constant-volume adiabatic reactor using Cantera"
   ]
  },
  {
   "cell_type": "code",
   "execution_count": 1,
   "metadata": {},
   "outputs": [
    {
     "name": "stdout",
     "output_type": "stream",
     "text": [
      "Running Cantera version: 2.4.0\n"
     ]
    }
   ],
   "source": [
    "# access modules\n",
    "import cantera as ct\n",
    "import numpy as np\n",
    "import matplotlib.pyplot as plt\n",
    "import pandas as pd # this will be the first use of Pandas in our tutorial Notebooks\n",
    "import time         # this provides utilities that can be used to monitor computer time, among other things\n",
    "                    # since no prefix is specified, it will be necessary to use the prefix \"time.\" to access time functions\n",
    "\n",
    "# report Cantera version\n",
    "print(\"Running Cantera version: {}\".format(ct.__version__))"
   ]
  },
  {
   "cell_type": "code",
   "execution_count": 2,
   "metadata": {},
   "outputs": [],
   "source": [
    "# define an ideal-gas mixture named \"gas\" using Cantera's \"Solution\" object and GRI-Mech 3.0\n",
    "gas = ct.Solution('gri30.cti')"
   ]
  },
  {
   "cell_type": "code",
   "execution_count": 3,
   "metadata": {},
   "outputs": [
    {
     "name": "stdout",
     "output_type": "stream",
     "text": [
      "\n",
      "  gri30:\n",
      "\n",
      "       temperature            1000  K\n",
      "          pressure          101325  Pa\n",
      "           density        0.357634  kg/m^3\n",
      "  mean mol. weight         29.3465  amu\n",
      "\n",
      "                          1 kg            1 kmol\n",
      "                       -----------      ------------\n",
      "          enthalpy      7.0376e+05        2.065e+07     J\n",
      "   internal energy      4.2044e+05        1.234e+07     J\n",
      "           entropy          8270.7        2.427e+05     J/K\n",
      "    Gibbs function      -7.567e+06       -2.221e+08     J\n",
      " heat capacity c_p          1288.3        3.781e+04     J/K\n",
      " heat capacity c_v          1004.9        2.949e+04     J/K\n",
      "\n",
      "                           X                 Y          Chem. Pot. / RT\n",
      "                     -------------     ------------     ------------\n",
      "                O2       0.203252         0.221621          -28.159\n",
      "                N2       0.764228         0.729513         -25.1194\n",
      "              C3H8      0.0325203        0.0488655         -54.9755\n",
      "     [  +50 minor]              0                0\n",
      "\n"
     ]
    }
   ],
   "source": [
    "# specify the initial temperature, pressure, and composition\n",
    "# a fuel-lean mixture of propane and air is considered here\n",
    "T_0 = 1000.      # (K)\n",
    "P_0 = ct.one_atm # (Pa)\n",
    "\n",
    "# GRI-Mech 3.0 is not really intended to be used as a reaction mechanism for propane\n",
    "#   (it is intended to be used for natural gas, which is mostly methane), but it will suffice for the present purpose\n",
    "fuel = 'C3H8'\n",
    "air  = {'O2':1.0, 'N2':3.76}\n",
    "phi  = 0.8\n",
    "\n",
    "gas.TP = T_0, P_0\n",
    "gas.set_equivalence_ratio(phi,fuel,air)\n",
    "\n",
    "# save the initial mixture composition (species mole fractions) for subsequent use below\n",
    "X_0 = gas.X\n",
    "\n",
    "# print the full initial state of the mixture\n",
    "gas()"
   ]
  },
  {
   "cell_type": "markdown",
   "metadata": {},
   "source": [
    "### 2.1 Cantera reactors and reactor networks"
   ]
  },
  {
   "cell_type": "markdown",
   "metadata": {},
   "source": [
    "The Cantera objects that we need are [`Reactor()`](https://cantera.org/documentation/docs-2.4/sphinx/html/cython/zerodim.html#reactor) (Reactors) and [`ReactorNet()`](https://cantera.org/documentation/docs-2.4/sphinx/html/cython/zerodim.html#cantera.ReactorNet) (Reactor Networks). Several kinds of reactors are available in Cantera. To see the full list of Cantera attributes:"
   ]
  },
  {
   "cell_type": "code",
   "execution_count": 4,
   "metadata": {},
   "outputs": [
    {
     "data": {
      "text/plain": [
       "['Arrhenius',\n",
       " 'AxisymmetricStagnationFlow',\n",
       " 'Boundary1D',\n",
       " 'BurnerFlame',\n",
       " 'CanteraError',\n",
       " 'CarbonDioxide',\n",
       " 'ChebyshevReaction',\n",
       " 'ChemicallyActivatedReaction',\n",
       " 'ConstPressureReactor',\n",
       " 'ConstantCp',\n",
       " 'CounterflowDiffusionFlame',\n",
       " 'CounterflowPremixedFlame',\n",
       " 'CounterflowTwinPremixedFlame',\n",
       " 'Domain1D',\n",
       " 'DustyGas',\n",
       " 'DustyGasTransport',\n",
       " 'Element',\n",
       " 'ElementaryReaction',\n",
       " 'Falloff',\n",
       " 'FalloffReaction',\n",
       " 'FlameBase',\n",
       " 'FlowDevice',\n",
       " 'FlowReactor',\n",
       " 'FreeFlame',\n",
       " 'FreeFlow',\n",
       " 'Func1',\n",
       " 'GasTransportData',\n",
       " 'Heptane',\n",
       " 'Hfc134a',\n",
       " 'Hydrogen',\n",
       " 'IdealGasConstPressureReactor',\n",
       " 'IdealGasFlow',\n",
       " 'IdealGasReactor',\n",
       " 'ImpingingJet',\n",
       " 'Inlet1D',\n",
       " 'Interface',\n",
       " 'InterfaceKinetics',\n",
       " 'InterfacePhase',\n",
       " 'InterfaceReaction',\n",
       " 'IonBurnerFlame',\n",
       " 'IonFlameBase',\n",
       " 'IonFlow',\n",
       " 'IonFreeFlame',\n",
       " 'Kinetics',\n",
       " 'MassFlowController',\n",
       " 'Methane',\n",
       " 'Mixture',\n",
       " 'NasaPoly2',\n",
       " 'Nitrogen',\n",
       " 'Outlet1D',\n",
       " 'OutletReservoir1D',\n",
       " 'Oxygen',\n",
       " 'PlogReaction',\n",
       " 'PressureController',\n",
       " 'PureFluid',\n",
       " 'Quantity',\n",
       " 'ReactingSurface1D',\n",
       " 'Reaction',\n",
       " 'ReactionPathDiagram',\n",
       " 'Reactor',\n",
       " 'ReactorBase',\n",
       " 'ReactorNet',\n",
       " 'ReactorSurface',\n",
       " 'Reservoir',\n",
       " 'ShomatePoly2',\n",
       " 'Sim1D',\n",
       " 'Solution',\n",
       " 'SolutionArray',\n",
       " 'Species',\n",
       " 'SpeciesThermo',\n",
       " 'SriFalloff',\n",
       " 'Surface1D',\n",
       " 'SymmetryPlane1D',\n",
       " 'ThermoPhase',\n",
       " 'ThreeBodyReaction',\n",
       " 'Transport',\n",
       " 'TroeFalloff',\n",
       " 'Valve',\n",
       " 'Wall',\n",
       " 'WallSurface',\n",
       " 'Water',\n",
       " '__builtins__',\n",
       " '__cached__',\n",
       " '__doc__',\n",
       " '__file__',\n",
       " '__git_commit__',\n",
       " '__loader__',\n",
       " '__name__',\n",
       " '__package__',\n",
       " '__path__',\n",
       " '__spec__',\n",
       " '__sundials_version__',\n",
       " '__version__',\n",
       " '_cantera',\n",
       " 'add_directory',\n",
       " 'add_module_directory',\n",
       " 'appdelete',\n",
       " 'avogadro',\n",
       " 'boltzmann',\n",
       " 'composite',\n",
       " 'electron_charge',\n",
       " 'electron_mass',\n",
       " 'epsilon_0',\n",
       " 'erf',\n",
       " 'faraday',\n",
       " 'gas_constant',\n",
       " 'get_data_directories',\n",
       " 'import_phases',\n",
       " 'interrupts',\n",
       " 'light_speed',\n",
       " 'liquidvapor',\n",
       " 'make_deprecation_warnings_fatal',\n",
       " 'math',\n",
       " 'np',\n",
       " 'one_atm',\n",
       " 'onedim',\n",
       " 'os',\n",
       " 'permeability_0',\n",
       " 'planck',\n",
       " 'stefan_boltzmann',\n",
       " 'suppress_thermo_warnings',\n",
       " 'sys',\n",
       " 'utils',\n",
       " 'warnings',\n",
       " 'weakref']"
      ]
     },
     "execution_count": 4,
     "metadata": {},
     "output_type": "execute_result"
    }
   ],
   "source": [
    "# show all available Cantera attributes\n",
    "dir(ct)"
   ]
  },
  {
   "cell_type": "markdown",
   "metadata": {},
   "source": [
    "Here we will define an ideal-gas adiabatic contant-volume reactor using [`IdealGasReactor()`](https://cantera.org/documentation/docs-2.4/sphinx/html/cython/zerodim.html#idealgasreactor):"
   ]
  },
  {
   "cell_type": "code",
   "execution_count": 5,
   "metadata": {},
   "outputs": [
    {
     "name": "stdout",
     "output_type": "stream",
     "text": [
      "Help on class IdealGasReactor in module cantera._cantera:\n",
      "\n",
      "class IdealGasReactor(Reactor)\n",
      " |  A constant volume, zero-dimensional reactor for ideal gas mixtures.\n",
      " |  \n",
      " |  Method resolution order:\n",
      " |      IdealGasReactor\n",
      " |      Reactor\n",
      " |      ReactorBase\n",
      " |      builtins.object\n",
      " |  \n",
      " |  Static methods defined here:\n",
      " |  \n",
      " |  __new__(*args, **kwargs) from builtins.type\n",
      " |      Create and return a new object.  See help(type) for accurate signature.\n",
      " |  \n",
      " |  ----------------------------------------------------------------------\n",
      " |  Data and other attributes defined here:\n",
      " |  \n",
      " |  reactor_type = 'IdealGasReactor'\n",
      " |  \n",
      " |  ----------------------------------------------------------------------\n",
      " |  Methods inherited from Reactor:\n",
      " |  \n",
      " |  __init__(...)\n",
      " |      :param contents:\n",
      " |          Reactor contents. If not specified, the reactor is initially empty.\n",
      " |          In this case, call `insert` to specify the contents.\n",
      " |      :param name:\n",
      " |          Used only to identify this reactor in output. If not specified,\n",
      " |          defaults to ``'Reactor_n'``, where *n* is an integer assigned in\n",
      " |          the order `Reactor` objects are created.\n",
      " |      :param energy:\n",
      " |          Set to ``'on'`` or ``'off'``. If set to ``'off'``, the energy\n",
      " |          equation is not solved, and the temperature is held at its\n",
      " |          initial value..\n",
      " |      \n",
      " |      Some examples showing how to create :class:`Reactor` objects are\n",
      " |      shown below.\n",
      " |      \n",
      " |      >>> gas = Solution('gri30.xml')\n",
      " |      >>> r1 = Reactor(gas)\n",
      " |      \n",
      " |      This is equivalent to:\n",
      " |      \n",
      " |      >>> r1 = Reactor()\n",
      " |      >>> r1.insert(gas)\n",
      " |      \n",
      " |      Arguments may be specified using keywords in any order:\n",
      " |      \n",
      " |      >>> r2 = Reactor(contents=gas, energy='off',\n",
      " |      ...              name='isothermal_reactor')\n",
      " |      >>> r3 = Reactor(name='adiabatic_reactor', contents=gas)\n",
      " |  \n",
      " |  add_sensitivity_reaction(...)\n",
      " |      Reactor.add_sensitivity_reaction(self, m)\n",
      " |      \n",
      " |      Specifies that the sensitivity of the state variables with respect to\n",
      " |      reaction *m* should be computed. *m* is the 0-based reaction index.\n",
      " |      The reactor must be part of a network first. Specifying the same\n",
      " |      reaction more than one time raises an exception.\n",
      " |  \n",
      " |  add_sensitivity_species_enthalpy(...)\n",
      " |      Reactor.add_sensitivity_species_enthalpy(self, k)\n",
      " |      \n",
      " |      Specifies that the sensitivity of the state variables with respect to\n",
      " |      species *k* should be computed. The reactor must be part of a network\n",
      " |      first.\n",
      " |  \n",
      " |  component_index(...)\n",
      " |      Reactor.component_index(self, name)\n",
      " |      \n",
      " |      Returns the index of the component named *name* in the system. This\n",
      " |      determines the (relative) index of the component in the vector of\n",
      " |      sensitivity coefficients. *name* is either a species name or the name of\n",
      " |      a reactor state variable, e.g. 'int_energy', 'temperature', depending on\n",
      " |      the reactor's equations.\n",
      " |  \n",
      " |  component_name(...)\n",
      " |      Reactor.component_name(self, int i)\n",
      " |      \n",
      " |      Returns the name of the component with index *i* within the array of\n",
      " |      variables returned by `get_state`. This is the inverse of\n",
      " |      `component_index`.\n",
      " |  \n",
      " |  get_state(...)\n",
      " |      Reactor.get_state(self)\n",
      " |      \n",
      " |      Get the state vector of the reactor.\n",
      " |      \n",
      " |      The order of the variables (i.e. rows) is:\n",
      " |      \n",
      " |      `Reactor` or `IdealGasReactor`:\n",
      " |      \n",
      " |        - 0  - mass\n",
      " |        - 1  - volume\n",
      " |        - 2  - internal energy or temperature\n",
      " |        - 3+ - mass fractions of the species\n",
      " |      \n",
      " |      `ConstPressureReactor` or `IdealGasConstPressureReactor`:\n",
      " |      \n",
      " |        - 0  - mass\n",
      " |        - 1  - enthalpy or temperature\n",
      " |        - 2+ - mass fractions of the species\n",
      " |      \n",
      " |      You can use the function `component_index` to determine the location of\n",
      " |      a specific component from its name, or `component_name` to determine the\n",
      " |      name from the index.\n",
      " |  \n",
      " |  insert(...)\n",
      " |      Reactor.insert(self, _SolutionBase solution)\n",
      " |  \n",
      " |  ----------------------------------------------------------------------\n",
      " |  Data descriptors inherited from Reactor:\n",
      " |  \n",
      " |  chemistry_enabled\n",
      " |      *True* when the reactor composition is allowed to change due to\n",
      " |      chemical reactions in this reactor. When this is *False*, the\n",
      " |      reactor composition is held constant.\n",
      " |  \n",
      " |  energy_enabled\n",
      " |      *True* when the energy equation is being solved for this reactor.\n",
      " |      When this is *False*, the reactor temperature is held constant.\n",
      " |  \n",
      " |  kinetics\n",
      " |      The `Kinetics` object used for calculating kinetic rates in\n",
      " |      this reactor.\n",
      " |  \n",
      " |  n_vars\n",
      " |      The number of state variables in the reactor.\n",
      " |      Equal to:\n",
      " |      \n",
      " |      `Reactor` and `IdealGasReactor`: `n_species` + 3 (mass, volume,\n",
      " |      internal energy or temperature).\n",
      " |      \n",
      " |      `ConstPressureReactor` and `IdealGasConstPressureReactor`:\n",
      " |      `n_species` + 2 (mass, enthalpy or temperature).\n",
      " |  \n",
      " |  ----------------------------------------------------------------------\n",
      " |  Methods inherited from ReactorBase:\n",
      " |  \n",
      " |  __copy__(...)\n",
      " |      ReactorBase.__copy__(self)\n",
      " |  \n",
      " |  __reduce__(...)\n",
      " |      ReactorBase.__reduce__(self)\n",
      " |  \n",
      " |  syncState(...)\n",
      " |      ReactorBase.syncState(self)\n",
      " |      \n",
      " |      Set the state of the Reactor to match that of the associated\n",
      " |      `ThermoPhase` object. After calling syncState(), call\n",
      " |      ReactorNet.reinitialize() before further integration.\n",
      " |  \n",
      " |  ----------------------------------------------------------------------\n",
      " |  Data descriptors inherited from ReactorBase:\n",
      " |  \n",
      " |  T\n",
      " |      The temperature [K] of the reactor's contents.\n",
      " |  \n",
      " |  Y\n",
      " |      The mass fractions of the reactor's contents.\n",
      " |  \n",
      " |  density\n",
      " |      The density [kg/m^3 or kmol/m^3] of the reactor's contents.\n",
      " |  \n",
      " |  inlets\n",
      " |      List of flow devices installed as inlets to this reactor\n",
      " |  \n",
      " |  mass\n",
      " |      The mass of the reactor's contents.\n",
      " |  \n",
      " |  name\n",
      " |      The name of the reactor.\n",
      " |  \n",
      " |  outlets\n",
      " |      List of flow devices installed as outlets to this reactor\n",
      " |  \n",
      " |  thermo\n",
      " |      The `ThermoPhase` object representing the reactor's contents.\n",
      " |  \n",
      " |  volume\n",
      " |      The volume [m^3] of the reactor.\n",
      " |  \n",
      " |  walls\n",
      " |      List of walls installed on this reactor\n",
      "\n"
     ]
    }
   ],
   "source": [
    "help(ct.IdealGasReactor)"
   ]
  },
  {
   "cell_type": "code",
   "execution_count": 6,
   "metadata": {},
   "outputs": [
    {
     "data": {
      "text/plain": [
       "['T',\n",
       " 'Y',\n",
       " '__class__',\n",
       " '__copy__',\n",
       " '__delattr__',\n",
       " '__dir__',\n",
       " '__doc__',\n",
       " '__eq__',\n",
       " '__format__',\n",
       " '__ge__',\n",
       " '__getattribute__',\n",
       " '__gt__',\n",
       " '__hash__',\n",
       " '__init__',\n",
       " '__init_subclass__',\n",
       " '__le__',\n",
       " '__lt__',\n",
       " '__ne__',\n",
       " '__new__',\n",
       " '__reduce__',\n",
       " '__reduce_ex__',\n",
       " '__repr__',\n",
       " '__setattr__',\n",
       " '__sizeof__',\n",
       " '__str__',\n",
       " '__subclasshook__',\n",
       " '_add_inlet',\n",
       " '_add_outlet',\n",
       " '_add_wall',\n",
       " 'add_sensitivity_reaction',\n",
       " 'add_sensitivity_species_enthalpy',\n",
       " 'chemistry_enabled',\n",
       " 'component_index',\n",
       " 'component_name',\n",
       " 'density',\n",
       " 'energy_enabled',\n",
       " 'get_state',\n",
       " 'inlets',\n",
       " 'insert',\n",
       " 'kinetics',\n",
       " 'mass',\n",
       " 'n_vars',\n",
       " 'name',\n",
       " 'outlets',\n",
       " 'reactor_type',\n",
       " 'syncState',\n",
       " 'thermo',\n",
       " 'volume',\n",
       " 'walls']"
      ]
     },
     "execution_count": 6,
     "metadata": {},
     "output_type": "execute_result"
    }
   ],
   "source": [
    "# define a reactor that is filled with the ideal-gas mixture \"gas\",\n",
    "#   and name it \"Constant-volume reactor\"\n",
    "reactor = ct.IdealGasReactor(contents=gas,name=\"Constant-volume reactor\")\n",
    "\n",
    "# show all available attributes for \"reactor\"\n",
    "dir(reactor)"
   ]
  },
  {
   "cell_type": "markdown",
   "metadata": {},
   "source": [
    "To compute the time evolution of the composition, temperature, and pressure of the gas mixture in the reactor, the reactor needs to be part of a \"reactor network\". In this case, the reactor network contains a single reactor:"
   ]
  },
  {
   "cell_type": "code",
   "execution_count": 7,
   "metadata": {},
   "outputs": [
    {
     "data": {
      "text/plain": [
       "['__class__',\n",
       " '__copy__',\n",
       " '__delattr__',\n",
       " '__dir__',\n",
       " '__doc__',\n",
       " '__eq__',\n",
       " '__format__',\n",
       " '__ge__',\n",
       " '__getattribute__',\n",
       " '__gt__',\n",
       " '__hash__',\n",
       " '__init__',\n",
       " '__init_subclass__',\n",
       " '__le__',\n",
       " '__lt__',\n",
       " '__ne__',\n",
       " '__new__',\n",
       " '__reduce__',\n",
       " '__reduce_ex__',\n",
       " '__repr__',\n",
       " '__setattr__',\n",
       " '__sizeof__',\n",
       " '__str__',\n",
       " '__subclasshook__',\n",
       " 'add_reactor',\n",
       " 'advance',\n",
       " 'advance_to_steady_state',\n",
       " 'atol',\n",
       " 'atol_sensitivity',\n",
       " 'component_name',\n",
       " 'get_state',\n",
       " 'max_err_test_fails',\n",
       " 'n_sensitivity_params',\n",
       " 'n_vars',\n",
       " 'reinitialize',\n",
       " 'rtol',\n",
       " 'rtol_sensitivity',\n",
       " 'sensitivities',\n",
       " 'sensitivity',\n",
       " 'sensitivity_parameter_name',\n",
       " 'set_initial_time',\n",
       " 'set_max_time_step',\n",
       " 'step',\n",
       " 'time',\n",
       " 'verbose']"
      ]
     },
     "execution_count": 7,
     "metadata": {},
     "output_type": "execute_result"
    }
   ],
   "source": [
    "# add \"reactor\" to a reactor network named \"reactorNetwork\"\n",
    "reactorNetwork = ct.ReactorNet([reactor])\n",
    "\n",
    "# show all available attributes for \"reactorNetwork\"\n",
    "dir(reactorNetwork)"
   ]
  },
  {
   "cell_type": "markdown",
   "metadata": {},
   "source": [
    "In the following, we will compute as functions of time the [`n_vars`](https://cantera.org/documentation/docs-2.4/sphinx/html/cython/zerodim.html#cantera.Reactor.n_vars) state variables associated with \"reactor\", and we will plot as functions of time a subset of those state variables."
   ]
  },
  {
   "cell_type": "code",
   "execution_count": 8,
   "metadata": {},
   "outputs": [
    {
     "data": {
      "text/plain": [
       "56"
      ]
     },
     "execution_count": 8,
     "metadata": {},
     "output_type": "execute_result"
    }
   ],
   "source": [
    "# print the number of state variables associated with \"reactor\"\n",
    "reactor.n_vars"
   ]
  },
  {
   "cell_type": "code",
   "execution_count": 9,
   "metadata": {},
   "outputs": [
    {
     "name": "stdout",
     "output_type": "stream",
     "text": [
      "    0 mass       \n",
      "    1 volume     \n",
      "    2 temperature \n",
      "    3 H2         \n",
      "    4 H          \n",
      "    5 O          \n",
      "    6 O2         \n",
      "    7 OH         \n",
      "    8 H2O        \n",
      "    9 HO2        \n",
      "   10 H2O2       \n",
      "   11 C          \n",
      "   12 CH         \n",
      "   13 CH2        \n",
      "   14 CH2(S)     \n",
      "   15 CH3        \n",
      "   16 CH4        \n",
      "   17 CO         \n",
      "   18 CO2        \n",
      "   19 HCO        \n",
      "   20 CH2O       \n",
      "   21 CH2OH      \n",
      "   22 CH3O       \n",
      "   23 CH3OH      \n",
      "   24 C2H        \n",
      "   25 C2H2       \n",
      "   26 C2H3       \n",
      "   27 C2H4       \n",
      "   28 C2H5       \n",
      "   29 C2H6       \n",
      "   30 HCCO       \n",
      "   31 CH2CO      \n",
      "   32 HCCOH      \n",
      "   33 N          \n",
      "   34 NH         \n",
      "   35 NH2        \n",
      "   36 NH3        \n",
      "   37 NNH        \n",
      "   38 NO         \n",
      "   39 NO2        \n",
      "   40 N2O        \n",
      "   41 HNO        \n",
      "   42 CN         \n",
      "   43 HCN        \n",
      "   44 H2CN       \n",
      "   45 HCNN       \n",
      "   46 HCNO       \n",
      "   47 HOCN       \n",
      "   48 HNCO       \n",
      "   49 NCO        \n",
      "   50 N2         \n",
      "   51 AR         \n",
      "   52 C3H7       \n",
      "   53 C3H8       \n",
      "   54 CH2CHO     \n",
      "   55 CH3CHO     \n"
     ]
    }
   ],
   "source": [
    "# print the names of the n_vars state variables associated with \"reactor\"\n",
    "for i in range(reactor.n_vars):\n",
    "    print(' {:4d} {:10s} '.format(i,reactor.component_name(i) ) )"
   ]
  },
  {
   "cell_type": "markdown",
   "metadata": {},
   "source": [
    "The reactor state variables are mass, volume, temperature, and the mass fractions of the 53 species in gri30.cti. Currently all values are equal to zero, except for the reactor mass, volume, temperature, and mass fractions of the three reactant species: C3H8, O2, and N2:"
   ]
  },
  {
   "cell_type": "code",
   "execution_count": 10,
   "metadata": {},
   "outputs": [
    {
     "data": {
      "text/plain": [
       "array([3.57634339e-01, 1.00000000e+00, 1.00000000e+03, 0.00000000e+00,\n",
       "       0.00000000e+00, 0.00000000e+00, 2.21621470e-01, 0.00000000e+00,\n",
       "       0.00000000e+00, 0.00000000e+00, 0.00000000e+00, 0.00000000e+00,\n",
       "       0.00000000e+00, 0.00000000e+00, 0.00000000e+00, 0.00000000e+00,\n",
       "       0.00000000e+00, 0.00000000e+00, 0.00000000e+00, 0.00000000e+00,\n",
       "       0.00000000e+00, 0.00000000e+00, 0.00000000e+00, 0.00000000e+00,\n",
       "       0.00000000e+00, 0.00000000e+00, 0.00000000e+00, 0.00000000e+00,\n",
       "       0.00000000e+00, 0.00000000e+00, 0.00000000e+00, 0.00000000e+00,\n",
       "       0.00000000e+00, 0.00000000e+00, 0.00000000e+00, 0.00000000e+00,\n",
       "       0.00000000e+00, 0.00000000e+00, 0.00000000e+00, 0.00000000e+00,\n",
       "       0.00000000e+00, 0.00000000e+00, 0.00000000e+00, 0.00000000e+00,\n",
       "       0.00000000e+00, 0.00000000e+00, 0.00000000e+00, 0.00000000e+00,\n",
       "       0.00000000e+00, 0.00000000e+00, 7.29513020e-01, 0.00000000e+00,\n",
       "       0.00000000e+00, 4.88655104e-02, 0.00000000e+00, 0.00000000e+00])"
      ]
     },
     "execution_count": 10,
     "metadata": {},
     "output_type": "execute_result"
    }
   ],
   "source": [
    "# print the values of the n_vars state variables associated with \"reactor\"\n",
    "reactor.get_state()"
   ]
  },
  {
   "cell_type": "markdown",
   "metadata": {},
   "source": [
    "It is important to note that the reactor composition is expressed as species mass fractions, not mole fractions."
   ]
  },
  {
   "cell_type": "markdown",
   "metadata": {},
   "source": [
    "### 2.2 Pandas `DataFrame()`"
   ]
  },
  {
   "cell_type": "markdown",
   "metadata": {},
   "source": [
    "Pandas [`DataFrame()`](https://pandas.pydata.org/pandas-docs/stable/reference/api/pandas.DataFrame.html) provides a general data structure that is useful for manipulating and plotting large quantities of data, such as those associated with the time evolution of a reacting mixture using a large reaction mechanism."
   ]
  },
  {
   "cell_type": "code",
   "execution_count": 11,
   "metadata": {},
   "outputs": [
    {
     "data": {
      "text/html": [
       "<div>\n",
       "<style scoped>\n",
       "    .dataframe tbody tr th:only-of-type {\n",
       "        vertical-align: middle;\n",
       "    }\n",
       "\n",
       "    .dataframe tbody tr th {\n",
       "        vertical-align: top;\n",
       "    }\n",
       "\n",
       "    .dataframe thead th {\n",
       "        text-align: right;\n",
       "    }\n",
       "</style>\n",
       "<table border=\"1\" class=\"dataframe\">\n",
       "  <thead>\n",
       "    <tr style=\"text-align: right;\">\n",
       "      <th></th>\n",
       "      <th>mass</th>\n",
       "      <th>volume</th>\n",
       "      <th>temperature</th>\n",
       "      <th>H2</th>\n",
       "      <th>H</th>\n",
       "      <th>O</th>\n",
       "      <th>O2</th>\n",
       "      <th>OH</th>\n",
       "      <th>H2O</th>\n",
       "      <th>HO2</th>\n",
       "      <th>...</th>\n",
       "      <th>HCNO</th>\n",
       "      <th>HOCN</th>\n",
       "      <th>HNCO</th>\n",
       "      <th>NCO</th>\n",
       "      <th>N2</th>\n",
       "      <th>AR</th>\n",
       "      <th>C3H7</th>\n",
       "      <th>C3H8</th>\n",
       "      <th>CH2CHO</th>\n",
       "      <th>CH3CHO</th>\n",
       "    </tr>\n",
       "  </thead>\n",
       "  <tbody>\n",
       "  </tbody>\n",
       "</table>\n",
       "<p>0 rows × 56 columns</p>\n",
       "</div>"
      ],
      "text/plain": [
       "Empty DataFrame\n",
       "Columns: [mass, volume, temperature, H2, H, O, O2, OH, H2O, HO2, H2O2, C, CH, CH2, CH2(S), CH3, CH4, CO, CO2, HCO, CH2O, CH2OH, CH3O, CH3OH, C2H, C2H2, C2H3, C2H4, C2H5, C2H6, HCCO, CH2CO, HCCOH, N, NH, NH2, NH3, NNH, NO, NO2, N2O, HNO, CN, HCN, H2CN, HCNN, HCNO, HOCN, HNCO, NCO, N2, AR, C3H7, C3H8, CH2CHO, CH3CHO]\n",
       "Index: []\n",
       "\n",
       "[0 rows x 56 columns]"
      ]
     },
     "execution_count": 11,
     "metadata": {},
     "output_type": "execute_result"
    }
   ],
   "source": [
    "# create a list of all variables (named \"stateVariableNames\") for which we will compute and store time-dependent data\n",
    "# here that is the n_vars reactor state variables\n",
    "stateVariableNames = [reactor.component_name(i) for i in range(reactor.n_vars)]\n",
    "\n",
    "# create a Pandas DataFrame named \"timeHistory\", using the state variable names as column headings\n",
    "timeHistory = pd.DataFrame(columns=stateVariableNames)\n",
    "\n",
    "# print the DataFrame\n",
    "# currently it contains only the n_vars column headings\n",
    "timeHistory"
   ]
  },
  {
   "cell_type": "markdown",
   "metadata": {},
   "source": [
    "As we will see shortly, `DataFrame()` will allow us to add a new row at each instant in time as the system evolves in time, and to assign an index to each row that corresponds to the time variable."
   ]
  },
  {
   "cell_type": "markdown",
   "metadata": {},
   "source": [
    "### 2.3 Time evolution from reactants to equilibrium products"
   ]
  },
  {
   "cell_type": "markdown",
   "metadata": {},
   "source": [
    "This is an initial-value problem. Starting from the initial mixture state at time t=0 (reactants at the specified pressure and temperature), we will integrate the system of coupled nonlinear ordinary differential equations (ODEs) corresponding to a constant-volume adiabatic reactor in time until the system reaches a steady state that corresponds to chemical equilbrium. An appropriate system of ODEs can be found in Chapter 6 of Turns 4th ed. (see Section 1 above). In contrast to the previous tutorial Notebook, we do not need to provide the ODEs explicitly here; they are embedded in the ideal-gas constant-volume reactor and reactor network that we have defined.\n",
    "\n",
    "As noted in the previous tutorial Notebook (4_2_ODE_integration_thermal_NO), special algorithms are needed to efficiently and stably integrate the \"stiff\" system of nonlinear ODEs that arise in chemically reacting systems. These usually involve variants of Newton's method (see Appendix E, Turns 4th ed.). Details of the algorithms that are used in Cantera are beyond the scope of the current discussion. Briefly, the system is advanced in time starting with a very small internal computational time step. The computational time step then varies as the time integration proceeds, in a manner that aims to minimize the overall computational time while ensuring stability. The integration proceeds until the user-specified end time is reached.\n",
    "Here the [`step()`](https://cantera.org/documentation/docs-2.4/sphinx/html/cython/zerodim.html#cantera.ReactorNet.step) attribute is used to perform the time integration, with default values for all internal numerical parameters."
   ]
  },
  {
   "cell_type": "code",
   "execution_count": 12,
   "metadata": {},
   "outputs": [
    {
     "name": "stdout",
     "output_type": "stream",
     "text": [
      "Help on method_descriptor:\n",
      "\n",
      "step(...)\n",
      "    ReactorNet.step(self)\n",
      "    \n",
      "    Take a single internal time step. The time after taking the step is\n",
      "    returned.\n",
      "\n"
     ]
    }
   ],
   "source": [
    "# let's see what \"step\" does\n",
    "help(reactorNetwork.__class__.step)"
   ]
  },
  {
   "cell_type": "markdown",
   "metadata": {},
   "source": [
    "With `step()`, the computational time step in seconds is determined internally by the solver. The initial time step can be printed out by performing a single computational time step:"
   ]
  },
  {
   "cell_type": "code",
   "execution_count": 13,
   "metadata": {},
   "outputs": [
    {
     "data": {
      "text/plain": [
       "7.250985275527494e-13"
      ]
     },
     "execution_count": 13,
     "metadata": {},
     "output_type": "execute_result"
    }
   ],
   "source": [
    "# perform a single time step, and print the initial value of the time step (s) that is used in the time integration\n",
    "reactorNetwork.step()"
   ]
  },
  {
   "cell_type": "markdown",
   "metadata": {},
   "source": [
    "So, the solution has advanced in time from the initial condition at time t=0 to the above instant in time. The temperature and composition of the mixture have changed from their initial values, but not by much:"
   ]
  },
  {
   "cell_type": "code",
   "execution_count": 14,
   "metadata": {},
   "outputs": [
    {
     "data": {
      "text/plain": [
       "array([3.57634339e-01, 1.00000000e+00, 1.00000000e+03, 1.20741438e-28,\n",
       "       1.14369790e-22, 6.33435125e-27, 2.21621470e-01, 1.11198220e-26,\n",
       "       1.67919998e-32, 1.51689700e-17, 3.49054985e-27, 3.01260934e-62,\n",
       "       6.72764468e-39, 1.99216310e-39, 1.41603663e-40, 6.42320299e-17,\n",
       "       4.33092081e-26, 3.32023685e-43, 3.06081692e-44, 6.08299909e-39,\n",
       "       1.93343643e-26, 6.47516723e-47, 1.84923486e-27, 1.42659920e-46,\n",
       "       2.50899377e-66, 2.60061491e-40, 9.64872691e-45, 3.26786765e-23,\n",
       "       1.24157886e-16, 1.27031112e-36, 1.79997450e-70, 4.68163890e-57,\n",
       "       2.35858534e-88, 1.26419789e-46, 1.00199214e-51, 3.32063349e-88,\n",
       "       0.00000000e+00, 4.21748333e-31, 2.65140590e-46, 5.95020454e-62,\n",
       "       1.41717002e-26, 6.50694005e-59, 1.25031214e-73, 5.12153739e-48,\n",
       "       3.71156762e-60, 4.08560705e-45, 0.00000000e+00, 0.00000000e+00,\n",
       "       0.00000000e+00, 3.23401890e-78, 7.29513020e-01, 0.00000000e+00,\n",
       "       1.98071395e-17, 4.88655104e-02, 6.16173733e-50, 2.11775451e-45])"
      ]
     },
     "execution_count": 14,
     "metadata": {},
     "output_type": "execute_result"
    }
   ],
   "source": [
    "# print the current reactor state\n",
    "reactor.get_state()"
   ]
  },
  {
   "cell_type": "markdown",
   "metadata": {},
   "source": [
    "It can be useful to monitor the computer time required to solve a problem, especially when we eventually get to larger problems that will require non-negligible amounts of computer time. The \"time\" module loaded earlier provides a way to do this."
   ]
  },
  {
   "cell_type": "code",
   "execution_count": 15,
   "metadata": {},
   "outputs": [
    {
     "data": {
      "text/plain": [
       "['_STRUCT_TM_ITEMS',\n",
       " '__doc__',\n",
       " '__loader__',\n",
       " '__name__',\n",
       " '__package__',\n",
       " '__spec__',\n",
       " 'altzone',\n",
       " 'asctime',\n",
       " 'clock',\n",
       " 'ctime',\n",
       " 'daylight',\n",
       " 'get_clock_info',\n",
       " 'gmtime',\n",
       " 'localtime',\n",
       " 'mktime',\n",
       " 'monotonic',\n",
       " 'monotonic_ns',\n",
       " 'perf_counter',\n",
       " 'perf_counter_ns',\n",
       " 'process_time',\n",
       " 'process_time_ns',\n",
       " 'sleep',\n",
       " 'strftime',\n",
       " 'strptime',\n",
       " 'struct_time',\n",
       " 'thread_time',\n",
       " 'thread_time_ns',\n",
       " 'time',\n",
       " 'time_ns',\n",
       " 'timezone',\n",
       " 'tzname']"
      ]
     },
     "execution_count": 15,
     "metadata": {},
     "output_type": "execute_result"
    }
   ],
   "source": [
    "# list all attributes associated with \"time\"\n",
    "dir(time)"
   ]
  },
  {
   "cell_type": "markdown",
   "metadata": {},
   "source": [
    "The attribute that we will use is `time()`:"
   ]
  },
  {
   "cell_type": "code",
   "execution_count": 16,
   "metadata": {},
   "outputs": [
    {
     "name": "stdout",
     "output_type": "stream",
     "text": [
      "Help on built-in function time in module time:\n",
      "\n",
      "time(...)\n",
      "    time() -> floating point number\n",
      "    \n",
      "    Return the current time in seconds since the Epoch.\n",
      "    Fractions of a second may be present if the system clock provides them.\n",
      "\n"
     ]
    }
   ],
   "source": [
    "# print help for attribute \"time\"\n",
    "help(time.time)"
   ]
  },
  {
   "cell_type": "markdown",
   "metadata": {},
   "source": [
    "The example below illustrates how to use `time()` to monitor the computer time required to solve the current initial-value problem."
   ]
  },
  {
   "cell_type": "markdown",
   "metadata": {},
   "source": [
    "Before beginning the time integration, we first re-initialize the reactor to the desired initial state, since we already took one (very small) time step above."
   ]
  },
  {
   "cell_type": "code",
   "execution_count": 17,
   "metadata": {},
   "outputs": [
    {
     "data": {
      "text/plain": [
       "array([3.57634339e-01, 1.00000000e+00, 1.00000000e+03, 0.00000000e+00,\n",
       "       0.00000000e+00, 0.00000000e+00, 2.21621470e-01, 0.00000000e+00,\n",
       "       0.00000000e+00, 0.00000000e+00, 0.00000000e+00, 0.00000000e+00,\n",
       "       0.00000000e+00, 0.00000000e+00, 0.00000000e+00, 0.00000000e+00,\n",
       "       0.00000000e+00, 0.00000000e+00, 0.00000000e+00, 0.00000000e+00,\n",
       "       0.00000000e+00, 0.00000000e+00, 0.00000000e+00, 0.00000000e+00,\n",
       "       0.00000000e+00, 0.00000000e+00, 0.00000000e+00, 0.00000000e+00,\n",
       "       0.00000000e+00, 0.00000000e+00, 0.00000000e+00, 0.00000000e+00,\n",
       "       0.00000000e+00, 0.00000000e+00, 0.00000000e+00, 0.00000000e+00,\n",
       "       0.00000000e+00, 0.00000000e+00, 0.00000000e+00, 0.00000000e+00,\n",
       "       0.00000000e+00, 0.00000000e+00, 0.00000000e+00, 0.00000000e+00,\n",
       "       0.00000000e+00, 0.00000000e+00, 0.00000000e+00, 0.00000000e+00,\n",
       "       0.00000000e+00, 0.00000000e+00, 7.29513020e-01, 0.00000000e+00,\n",
       "       0.00000000e+00, 4.88655104e-02, 0.00000000e+00, 0.00000000e+00])"
      ]
     },
     "execution_count": 17,
     "metadata": {},
     "output_type": "execute_result"
    }
   ],
   "source": [
    "# re-initialize the reactor\n",
    "gas.TP = T_0, P_0\n",
    "gas.set_equivalence_ratio(phi,fuel,air)\n",
    "\n",
    "reactor = ct.IdealGasReactor(contents=gas,name=\"Constant-volume reactor\")\n",
    "\n",
    "reactorNetwork = ct.ReactorNet([reactor])\n",
    "\n",
    "# confirm that the reactor is back to the desired initial state\n",
    "reactor.get_state()"
   ]
  },
  {
   "cell_type": "code",
   "execution_count": 18,
   "metadata": {},
   "outputs": [
    {
     "data": {
      "text/html": [
       "<div>\n",
       "<style scoped>\n",
       "    .dataframe tbody tr th:only-of-type {\n",
       "        vertical-align: middle;\n",
       "    }\n",
       "\n",
       "    .dataframe tbody tr th {\n",
       "        vertical-align: top;\n",
       "    }\n",
       "\n",
       "    .dataframe thead th {\n",
       "        text-align: right;\n",
       "    }\n",
       "</style>\n",
       "<table border=\"1\" class=\"dataframe\">\n",
       "  <thead>\n",
       "    <tr style=\"text-align: right;\">\n",
       "      <th></th>\n",
       "      <th>mass</th>\n",
       "      <th>volume</th>\n",
       "      <th>temperature</th>\n",
       "      <th>H2</th>\n",
       "      <th>H</th>\n",
       "      <th>O</th>\n",
       "      <th>O2</th>\n",
       "      <th>OH</th>\n",
       "      <th>H2O</th>\n",
       "      <th>HO2</th>\n",
       "      <th>...</th>\n",
       "      <th>HCNO</th>\n",
       "      <th>HOCN</th>\n",
       "      <th>HNCO</th>\n",
       "      <th>NCO</th>\n",
       "      <th>N2</th>\n",
       "      <th>AR</th>\n",
       "      <th>C3H7</th>\n",
       "      <th>C3H8</th>\n",
       "      <th>CH2CHO</th>\n",
       "      <th>CH3CHO</th>\n",
       "    </tr>\n",
       "  </thead>\n",
       "  <tbody>\n",
       "    <tr>\n",
       "      <th>0.0</th>\n",
       "      <td>0.357634</td>\n",
       "      <td>1.0</td>\n",
       "      <td>1000.0</td>\n",
       "      <td>0.0</td>\n",
       "      <td>0.0</td>\n",
       "      <td>0.0</td>\n",
       "      <td>0.221621</td>\n",
       "      <td>0.0</td>\n",
       "      <td>0.0</td>\n",
       "      <td>0.0</td>\n",
       "      <td>...</td>\n",
       "      <td>0.0</td>\n",
       "      <td>0.0</td>\n",
       "      <td>0.0</td>\n",
       "      <td>0.0</td>\n",
       "      <td>0.729513</td>\n",
       "      <td>0.0</td>\n",
       "      <td>0.0</td>\n",
       "      <td>0.048866</td>\n",
       "      <td>0.0</td>\n",
       "      <td>0.0</td>\n",
       "    </tr>\n",
       "  </tbody>\n",
       "</table>\n",
       "<p>1 rows × 56 columns</p>\n",
       "</div>"
      ],
      "text/plain": [
       "         mass  volume  temperature   H2    H    O        O2   OH  H2O  HO2  \\\n",
       "0.0  0.357634     1.0       1000.0  0.0  0.0  0.0  0.221621  0.0  0.0  0.0   \n",
       "\n",
       "     ...  HCNO  HOCN  HNCO  NCO        N2   AR  C3H7      C3H8  CH2CHO  CH3CHO  \n",
       "0.0  ...   0.0   0.0   0.0  0.0  0.729513  0.0   0.0  0.048866     0.0     0.0  \n",
       "\n",
       "[1 rows x 56 columns]"
      ]
     },
     "execution_count": 18,
     "metadata": {},
     "output_type": "execute_result"
    }
   ],
   "source": [
    "# add a row to \"timeHistory\" that corresponds to the initial condition\n",
    "t = 0.\n",
    "timeHistory.loc[t] = reactor.get_state()\n",
    "\n",
    "# print \"timeHistory\"\n",
    "timeHistory"
   ]
  },
  {
   "cell_type": "markdown",
   "metadata": {},
   "source": [
    "The first row now contains the specified initial condition. Note also that a time stamp has been added to the row (see the far left column). \n",
    "\n",
    "Now solve the initial-value problem, and monitor the computer time required."
   ]
  },
  {
   "cell_type": "code",
   "execution_count": 19,
   "metadata": {},
   "outputs": [
    {
     "name": "stdout",
     "output_type": "stream",
     "text": [
      "Reached time 1.086e+00 seconds. Needed 0.58s to compute\n"
     ]
    }
   ],
   "source": [
    "# specify the integration end time in seconds\n",
    "# some trial-and-error may be needed to find an appropriate end-time value that allows the system to reach steady state,\n",
    "#   without wasting computational effort by computing beyond the steady state\n",
    "# there are other ways to do this that directly monitor and detect when steady state has been reached, as\n",
    "#   we will see in subsequent tutorials\n",
    "t_end = 1.0 # (s)\n",
    "\n",
    "# get the current computer time \"ctim0\"\n",
    "# this will be used to monitor the computer time required to solve the initial-value problem\n",
    "ctim0 = time.time()\n",
    "\n",
    "# perform the time integration\n",
    "# the variable \"counter\" is used to control how often the reactor state is saved to \"timeHistory\":\n",
    "#   here it is saved once every 10 time steps\n",
    "counter = 1;\n",
    "while(t <= t_end):\n",
    "# the following line advances the solution over one time step\n",
    "# the size of the time step is determined internally by the ODE integrator\n",
    "# the end-of-timestep time value is returned in \"t\"\n",
    "    t = reactorNetwork.step()\n",
    "# the expression \"counter%10\" gives the remainder in an integer division of \"counter\" by 10\n",
    "# the reactor state is saved to \"timeHistory\" (a new row is created) once every 10 time steps,\n",
    "#   and the new row is indexed by the current integration time\n",
    "    if (counter%10 == 0):\n",
    "        timeHistory.loc[t] = reactorNetwork.get_state()\n",
    "    counter+=1\n",
    "\n",
    "# make sure that the final time step is included in timeHistory\n",
    "timeHistory.loc[t] = reactorNetwork.get_state()\n",
    "\n",
    "# get the current computer time \"ctim1\"\n",
    "# the computer time needed to solve the initial-value problem is then the difference between ctim1 and ctim0\n",
    "ctim1 = time.time()\n",
    "ctime = ctim1 - ctim0\n",
    "\n",
    "# print the final integration time and computer time required\n",
    "print('Reached time {:.3e} seconds. Needed {:3.2f}s to compute'.format(t,ctime))"
   ]
  },
  {
   "cell_type": "markdown",
   "metadata": {},
   "source": [
    "Note that the final integration time reached is somwhat longer than the specified end time. The computer time required will depend on what computer you are using, but should be one second or less for this problem."
   ]
  },
  {
   "cell_type": "code",
   "execution_count": 20,
   "metadata": {},
   "outputs": [
    {
     "data": {
      "text/html": [
       "<div>\n",
       "<style scoped>\n",
       "    .dataframe tbody tr th:only-of-type {\n",
       "        vertical-align: middle;\n",
       "    }\n",
       "\n",
       "    .dataframe tbody tr th {\n",
       "        vertical-align: top;\n",
       "    }\n",
       "\n",
       "    .dataframe thead th {\n",
       "        text-align: right;\n",
       "    }\n",
       "</style>\n",
       "<table border=\"1\" class=\"dataframe\">\n",
       "  <thead>\n",
       "    <tr style=\"text-align: right;\">\n",
       "      <th></th>\n",
       "      <th>mass</th>\n",
       "      <th>volume</th>\n",
       "      <th>temperature</th>\n",
       "      <th>H2</th>\n",
       "      <th>H</th>\n",
       "      <th>O</th>\n",
       "      <th>O2</th>\n",
       "      <th>OH</th>\n",
       "      <th>H2O</th>\n",
       "      <th>HO2</th>\n",
       "      <th>...</th>\n",
       "      <th>HCNO</th>\n",
       "      <th>HOCN</th>\n",
       "      <th>HNCO</th>\n",
       "      <th>NCO</th>\n",
       "      <th>N2</th>\n",
       "      <th>AR</th>\n",
       "      <th>C3H7</th>\n",
       "      <th>C3H8</th>\n",
       "      <th>CH2CHO</th>\n",
       "      <th>CH3CHO</th>\n",
       "    </tr>\n",
       "  </thead>\n",
       "  <tbody>\n",
       "    <tr>\n",
       "      <th>0.000000e+00</th>\n",
       "      <td>0.357634</td>\n",
       "      <td>1.0</td>\n",
       "      <td>1000.000000</td>\n",
       "      <td>0.000000e+00</td>\n",
       "      <td>0.000000e+00</td>\n",
       "      <td>0.000000e+00</td>\n",
       "      <td>0.221621</td>\n",
       "      <td>0.000000e+00</td>\n",
       "      <td>0.000000e+00</td>\n",
       "      <td>0.000000e+00</td>\n",
       "      <td>...</td>\n",
       "      <td>0.000000e+00</td>\n",
       "      <td>0.000000e+00</td>\n",
       "      <td>0.000000e+00</td>\n",
       "      <td>0.000000e+00</td>\n",
       "      <td>0.729513</td>\n",
       "      <td>0.000000e+00</td>\n",
       "      <td>0.000000e+00</td>\n",
       "      <td>4.886551e-02</td>\n",
       "      <td>0.000000e+00</td>\n",
       "      <td>0.000000e+00</td>\n",
       "    </tr>\n",
       "    <tr>\n",
       "      <th>3.967925e-07</th>\n",
       "      <td>0.357634</td>\n",
       "      <td>1.0</td>\n",
       "      <td>999.999999</td>\n",
       "      <td>6.313572e-16</td>\n",
       "      <td>2.924374e-15</td>\n",
       "      <td>8.368941e-16</td>\n",
       "      <td>0.221621</td>\n",
       "      <td>2.109992e-15</td>\n",
       "      <td>6.074711e-16</td>\n",
       "      <td>1.264952e-11</td>\n",
       "      <td>...</td>\n",
       "      <td>1.510780e-52</td>\n",
       "      <td>6.909730e-50</td>\n",
       "      <td>4.592158e-50</td>\n",
       "      <td>2.017869e-48</td>\n",
       "      <td>0.729513</td>\n",
       "      <td>0.000000e+00</td>\n",
       "      <td>9.545926e-12</td>\n",
       "      <td>4.886551e-02</td>\n",
       "      <td>4.831046e-25</td>\n",
       "      <td>2.075182e-23</td>\n",
       "    </tr>\n",
       "    <tr>\n",
       "      <th>1.832404e-06</th>\n",
       "      <td>0.357634</td>\n",
       "      <td>1.0</td>\n",
       "      <td>999.999996</td>\n",
       "      <td>3.805471e-14</td>\n",
       "      <td>3.567348e-14</td>\n",
       "      <td>3.033108e-14</td>\n",
       "      <td>0.221621</td>\n",
       "      <td>5.154827e-14</td>\n",
       "      <td>6.561005e-14</td>\n",
       "      <td>1.194051e-10</td>\n",
       "      <td>...</td>\n",
       "      <td>7.735071e-48</td>\n",
       "      <td>1.439115e-46</td>\n",
       "      <td>1.329011e-46</td>\n",
       "      <td>8.630381e-45</td>\n",
       "      <td>0.729513</td>\n",
       "      <td>0.000000e+00</td>\n",
       "      <td>2.976447e-11</td>\n",
       "      <td>4.886551e-02</td>\n",
       "      <td>3.347041e-22</td>\n",
       "      <td>1.271310e-20</td>\n",
       "    </tr>\n",
       "    <tr>\n",
       "      <th>5.398316e-06</th>\n",
       "      <td>0.357634</td>\n",
       "      <td>1.0</td>\n",
       "      <td>999.999988</td>\n",
       "      <td>4.261473e-13</td>\n",
       "      <td>1.048181e-13</td>\n",
       "      <td>1.448408e-13</td>\n",
       "      <td>0.221621</td>\n",
       "      <td>2.487554e-13</td>\n",
       "      <td>1.208508e-12</td>\n",
       "      <td>6.344306e-10</td>\n",
       "      <td>...</td>\n",
       "      <td>9.403957e-45</td>\n",
       "      <td>2.165230e-44</td>\n",
       "      <td>6.137818e-44</td>\n",
       "      <td>1.305402e-42</td>\n",
       "      <td>0.729513</td>\n",
       "      <td>0.000000e+00</td>\n",
       "      <td>4.656491e-11</td>\n",
       "      <td>4.886551e-02</td>\n",
       "      <td>2.327437e-20</td>\n",
       "      <td>4.826689e-19</td>\n",
       "    </tr>\n",
       "    <tr>\n",
       "      <th>1.215255e-05</th>\n",
       "      <td>0.357634</td>\n",
       "      <td>1.0</td>\n",
       "      <td>999.999975</td>\n",
       "      <td>1.686063e-12</td>\n",
       "      <td>1.403698e-13</td>\n",
       "      <td>2.228163e-13</td>\n",
       "      <td>0.221621</td>\n",
       "      <td>4.350911e-13</td>\n",
       "      <td>6.225108e-12</td>\n",
       "      <td>1.953056e-09</td>\n",
       "      <td>...</td>\n",
       "      <td>6.362601e-43</td>\n",
       "      <td>5.164367e-43</td>\n",
       "      <td>3.533888e-42</td>\n",
       "      <td>2.859418e-41</td>\n",
       "      <td>0.729513</td>\n",
       "      <td>0.000000e+00</td>\n",
       "      <td>5.563038e-11</td>\n",
       "      <td>4.886551e-02</td>\n",
       "      <td>2.969723e-19</td>\n",
       "      <td>3.018448e-18</td>\n",
       "    </tr>\n",
       "    <tr>\n",
       "      <th>...</th>\n",
       "      <td>...</td>\n",
       "      <td>...</td>\n",
       "      <td>...</td>\n",
       "      <td>...</td>\n",
       "      <td>...</td>\n",
       "      <td>...</td>\n",
       "      <td>...</td>\n",
       "      <td>...</td>\n",
       "      <td>...</td>\n",
       "      <td>...</td>\n",
       "      <td>...</td>\n",
       "      <td>...</td>\n",
       "      <td>...</td>\n",
       "      <td>...</td>\n",
       "      <td>...</td>\n",
       "      <td>...</td>\n",
       "      <td>...</td>\n",
       "      <td>...</td>\n",
       "      <td>...</td>\n",
       "      <td>...</td>\n",
       "      <td>...</td>\n",
       "    </tr>\n",
       "    <tr>\n",
       "      <th>5.643498e-01</th>\n",
       "      <td>0.357634</td>\n",
       "      <td>1.0</td>\n",
       "      <td>2692.743285</td>\n",
       "      <td>3.386152e-04</td>\n",
       "      <td>8.130434e-05</td>\n",
       "      <td>2.376716e-03</td>\n",
       "      <td>0.045573</td>\n",
       "      <td>8.251609e-03</td>\n",
       "      <td>7.172808e-02</td>\n",
       "      <td>1.059574e-05</td>\n",
       "      <td>...</td>\n",
       "      <td>1.757479e-14</td>\n",
       "      <td>3.339082e-11</td>\n",
       "      <td>4.456769e-09</td>\n",
       "      <td>9.696190e-10</td>\n",
       "      <td>0.722913</td>\n",
       "      <td>4.164614e-27</td>\n",
       "      <td>1.629511e-43</td>\n",
       "      <td>3.086357e-45</td>\n",
       "      <td>8.295948e-23</td>\n",
       "      <td>1.131839e-24</td>\n",
       "    </tr>\n",
       "    <tr>\n",
       "      <th>5.693185e-01</th>\n",
       "      <td>0.357634</td>\n",
       "      <td>1.0</td>\n",
       "      <td>2692.743219</td>\n",
       "      <td>3.386152e-04</td>\n",
       "      <td>8.130432e-05</td>\n",
       "      <td>2.376714e-03</td>\n",
       "      <td>0.045573</td>\n",
       "      <td>8.251606e-03</td>\n",
       "      <td>7.172808e-02</td>\n",
       "      <td>1.059574e-05</td>\n",
       "      <td>...</td>\n",
       "      <td>1.757482e-14</td>\n",
       "      <td>3.339088e-11</td>\n",
       "      <td>4.456778e-09</td>\n",
       "      <td>9.696208e-10</td>\n",
       "      <td>0.722913</td>\n",
       "      <td>4.164614e-27</td>\n",
       "      <td>1.629511e-43</td>\n",
       "      <td>3.086358e-45</td>\n",
       "      <td>8.295945e-23</td>\n",
       "      <td>1.131839e-24</td>\n",
       "    </tr>\n",
       "    <tr>\n",
       "      <th>5.774652e-01</th>\n",
       "      <td>0.357634</td>\n",
       "      <td>1.0</td>\n",
       "      <td>2692.743218</td>\n",
       "      <td>3.386152e-04</td>\n",
       "      <td>8.130432e-05</td>\n",
       "      <td>2.376714e-03</td>\n",
       "      <td>0.045573</td>\n",
       "      <td>8.251606e-03</td>\n",
       "      <td>7.172808e-02</td>\n",
       "      <td>1.059574e-05</td>\n",
       "      <td>...</td>\n",
       "      <td>1.757483e-14</td>\n",
       "      <td>3.339089e-11</td>\n",
       "      <td>4.456778e-09</td>\n",
       "      <td>9.696208e-10</td>\n",
       "      <td>0.722913</td>\n",
       "      <td>4.164614e-27</td>\n",
       "      <td>1.629511e-43</td>\n",
       "      <td>3.086358e-45</td>\n",
       "      <td>8.295945e-23</td>\n",
       "      <td>1.131839e-24</td>\n",
       "    </tr>\n",
       "    <tr>\n",
       "      <th>6.163602e-01</th>\n",
       "      <td>0.357634</td>\n",
       "      <td>1.0</td>\n",
       "      <td>2692.743218</td>\n",
       "      <td>3.386152e-04</td>\n",
       "      <td>8.130432e-05</td>\n",
       "      <td>2.376714e-03</td>\n",
       "      <td>0.045573</td>\n",
       "      <td>8.251606e-03</td>\n",
       "      <td>7.172808e-02</td>\n",
       "      <td>1.059574e-05</td>\n",
       "      <td>...</td>\n",
       "      <td>1.757483e-14</td>\n",
       "      <td>3.339089e-11</td>\n",
       "      <td>4.456778e-09</td>\n",
       "      <td>9.696208e-10</td>\n",
       "      <td>0.722913</td>\n",
       "      <td>4.164614e-27</td>\n",
       "      <td>1.629511e-43</td>\n",
       "      <td>3.086358e-45</td>\n",
       "      <td>8.295945e-23</td>\n",
       "      <td>1.131839e-24</td>\n",
       "    </tr>\n",
       "    <tr>\n",
       "      <th>1.086355e+00</th>\n",
       "      <td>0.357634</td>\n",
       "      <td>1.0</td>\n",
       "      <td>2692.743218</td>\n",
       "      <td>3.386152e-04</td>\n",
       "      <td>8.130432e-05</td>\n",
       "      <td>2.376714e-03</td>\n",
       "      <td>0.045573</td>\n",
       "      <td>8.251606e-03</td>\n",
       "      <td>7.172808e-02</td>\n",
       "      <td>1.059574e-05</td>\n",
       "      <td>...</td>\n",
       "      <td>1.757483e-14</td>\n",
       "      <td>3.339089e-11</td>\n",
       "      <td>4.456778e-09</td>\n",
       "      <td>9.696208e-10</td>\n",
       "      <td>0.722913</td>\n",
       "      <td>4.164614e-27</td>\n",
       "      <td>1.629511e-43</td>\n",
       "      <td>3.086358e-45</td>\n",
       "      <td>8.295945e-23</td>\n",
       "      <td>1.131839e-24</td>\n",
       "    </tr>\n",
       "  </tbody>\n",
       "</table>\n",
       "<p>295 rows × 56 columns</p>\n",
       "</div>"
      ],
      "text/plain": [
       "                  mass  volume  temperature            H2             H  \\\n",
       "0.000000e+00  0.357634     1.0  1000.000000  0.000000e+00  0.000000e+00   \n",
       "3.967925e-07  0.357634     1.0   999.999999  6.313572e-16  2.924374e-15   \n",
       "1.832404e-06  0.357634     1.0   999.999996  3.805471e-14  3.567348e-14   \n",
       "5.398316e-06  0.357634     1.0   999.999988  4.261473e-13  1.048181e-13   \n",
       "1.215255e-05  0.357634     1.0   999.999975  1.686063e-12  1.403698e-13   \n",
       "...                ...     ...          ...           ...           ...   \n",
       "5.643498e-01  0.357634     1.0  2692.743285  3.386152e-04  8.130434e-05   \n",
       "5.693185e-01  0.357634     1.0  2692.743219  3.386152e-04  8.130432e-05   \n",
       "5.774652e-01  0.357634     1.0  2692.743218  3.386152e-04  8.130432e-05   \n",
       "6.163602e-01  0.357634     1.0  2692.743218  3.386152e-04  8.130432e-05   \n",
       "1.086355e+00  0.357634     1.0  2692.743218  3.386152e-04  8.130432e-05   \n",
       "\n",
       "                         O        O2            OH           H2O  \\\n",
       "0.000000e+00  0.000000e+00  0.221621  0.000000e+00  0.000000e+00   \n",
       "3.967925e-07  8.368941e-16  0.221621  2.109992e-15  6.074711e-16   \n",
       "1.832404e-06  3.033108e-14  0.221621  5.154827e-14  6.561005e-14   \n",
       "5.398316e-06  1.448408e-13  0.221621  2.487554e-13  1.208508e-12   \n",
       "1.215255e-05  2.228163e-13  0.221621  4.350911e-13  6.225108e-12   \n",
       "...                    ...       ...           ...           ...   \n",
       "5.643498e-01  2.376716e-03  0.045573  8.251609e-03  7.172808e-02   \n",
       "5.693185e-01  2.376714e-03  0.045573  8.251606e-03  7.172808e-02   \n",
       "5.774652e-01  2.376714e-03  0.045573  8.251606e-03  7.172808e-02   \n",
       "6.163602e-01  2.376714e-03  0.045573  8.251606e-03  7.172808e-02   \n",
       "1.086355e+00  2.376714e-03  0.045573  8.251606e-03  7.172808e-02   \n",
       "\n",
       "                       HO2  ...          HCNO          HOCN          HNCO  \\\n",
       "0.000000e+00  0.000000e+00  ...  0.000000e+00  0.000000e+00  0.000000e+00   \n",
       "3.967925e-07  1.264952e-11  ...  1.510780e-52  6.909730e-50  4.592158e-50   \n",
       "1.832404e-06  1.194051e-10  ...  7.735071e-48  1.439115e-46  1.329011e-46   \n",
       "5.398316e-06  6.344306e-10  ...  9.403957e-45  2.165230e-44  6.137818e-44   \n",
       "1.215255e-05  1.953056e-09  ...  6.362601e-43  5.164367e-43  3.533888e-42   \n",
       "...                    ...  ...           ...           ...           ...   \n",
       "5.643498e-01  1.059574e-05  ...  1.757479e-14  3.339082e-11  4.456769e-09   \n",
       "5.693185e-01  1.059574e-05  ...  1.757482e-14  3.339088e-11  4.456778e-09   \n",
       "5.774652e-01  1.059574e-05  ...  1.757483e-14  3.339089e-11  4.456778e-09   \n",
       "6.163602e-01  1.059574e-05  ...  1.757483e-14  3.339089e-11  4.456778e-09   \n",
       "1.086355e+00  1.059574e-05  ...  1.757483e-14  3.339089e-11  4.456778e-09   \n",
       "\n",
       "                       NCO        N2            AR          C3H7  \\\n",
       "0.000000e+00  0.000000e+00  0.729513  0.000000e+00  0.000000e+00   \n",
       "3.967925e-07  2.017869e-48  0.729513  0.000000e+00  9.545926e-12   \n",
       "1.832404e-06  8.630381e-45  0.729513  0.000000e+00  2.976447e-11   \n",
       "5.398316e-06  1.305402e-42  0.729513  0.000000e+00  4.656491e-11   \n",
       "1.215255e-05  2.859418e-41  0.729513  0.000000e+00  5.563038e-11   \n",
       "...                    ...       ...           ...           ...   \n",
       "5.643498e-01  9.696190e-10  0.722913  4.164614e-27  1.629511e-43   \n",
       "5.693185e-01  9.696208e-10  0.722913  4.164614e-27  1.629511e-43   \n",
       "5.774652e-01  9.696208e-10  0.722913  4.164614e-27  1.629511e-43   \n",
       "6.163602e-01  9.696208e-10  0.722913  4.164614e-27  1.629511e-43   \n",
       "1.086355e+00  9.696208e-10  0.722913  4.164614e-27  1.629511e-43   \n",
       "\n",
       "                      C3H8        CH2CHO        CH3CHO  \n",
       "0.000000e+00  4.886551e-02  0.000000e+00  0.000000e+00  \n",
       "3.967925e-07  4.886551e-02  4.831046e-25  2.075182e-23  \n",
       "1.832404e-06  4.886551e-02  3.347041e-22  1.271310e-20  \n",
       "5.398316e-06  4.886551e-02  2.327437e-20  4.826689e-19  \n",
       "1.215255e-05  4.886551e-02  2.969723e-19  3.018448e-18  \n",
       "...                    ...           ...           ...  \n",
       "5.643498e-01  3.086357e-45  8.295948e-23  1.131839e-24  \n",
       "5.693185e-01  3.086358e-45  8.295945e-23  1.131839e-24  \n",
       "5.774652e-01  3.086358e-45  8.295945e-23  1.131839e-24  \n",
       "6.163602e-01  3.086358e-45  8.295945e-23  1.131839e-24  \n",
       "1.086355e+00  3.086358e-45  8.295945e-23  1.131839e-24  \n",
       "\n",
       "[295 rows x 56 columns]"
      ]
     },
     "execution_count": 20,
     "metadata": {},
     "output_type": "execute_result"
    }
   ],
   "source": [
    "# print the time history\n",
    "timeHistory"
   ]
  },
  {
   "cell_type": "markdown",
   "metadata": {},
   "source": [
    "There is one row in timeHistory for each instant in time at which the solution was saved. This can also be written to an external file:"
   ]
  },
  {
   "cell_type": "code",
   "execution_count": 21,
   "metadata": {},
   "outputs": [],
   "source": [
    "# save the time history to an Excel-compatible file\n",
    "# further post-processing (e.g., plot generation) can then be done using Excel, or in the current Notebook (see below)\n",
    "timeHistory.to_csv(\"time_history.csv\")"
   ]
  },
  {
   "cell_type": "markdown",
   "metadata": {},
   "source": [
    "Let's take a look at one of the key state variables: the mixture temperature."
   ]
  },
  {
   "cell_type": "code",
   "execution_count": 22,
   "metadata": {},
   "outputs": [
    {
     "data": {
      "text/plain": [
       "0.000000e+00    1000.000000\n",
       "3.967925e-07     999.999999\n",
       "1.832404e-06     999.999996\n",
       "5.398316e-06     999.999988\n",
       "1.215255e-05     999.999975\n",
       "                   ...     \n",
       "5.643498e-01    2692.743285\n",
       "5.693185e-01    2692.743219\n",
       "5.774652e-01    2692.743218\n",
       "6.163602e-01    2692.743218\n",
       "1.086355e+00    2692.743218\n",
       "Name: temperature, Length: 295, dtype: float64"
      ]
     },
     "execution_count": 22,
     "metadata": {},
     "output_type": "execute_result"
    }
   ],
   "source": [
    "# print the time evolution of temperature\n",
    "timeHistory['temperature']"
   ]
  },
  {
   "cell_type": "markdown",
   "metadata": {},
   "source": [
    "Note that the temperature decreases slightly initially, before starting to increase toward the final (equilibrium) temperature. This reflects the endothermic nature of the intial fuel and oxidizer decomposition reactions. There is also an overshoot in temperature, before the temperature settles to its steady-state value. That will be more evident in the plots that follow."
   ]
  },
  {
   "cell_type": "markdown",
   "metadata": {},
   "source": [
    "Further discussion of the time evolution of the system follows the plots that are generated below. First, we confirm that the steady-state solution from the time integration is consistent with chemical equilibrium. This should always be the case, provided that we integrated long enough in time to reach equilibrium."
   ]
  },
  {
   "cell_type": "markdown",
   "metadata": {},
   "source": [
    "### 2.4 Consistency between chemical kinetics and thermodynamics"
   ]
  },
  {
   "cell_type": "code",
   "execution_count": 23,
   "metadata": {},
   "outputs": [
    {
     "name": "stdout",
     "output_type": "stream",
     "text": [
      "\n",
      "  gri30:\n",
      "\n",
      "       temperature         2692.74  K\n",
      "          pressure          287369  Pa\n",
      "           density        0.357634  kg/m^3\n",
      "  mean mol. weight          27.863  amu\n",
      "\n",
      "                          1 kg            1 kmol\n",
      "                       -----------      ------------\n",
      "          enthalpy       1.224e+06         3.41e+07     J\n",
      "   internal energy      4.2044e+05        1.171e+07     J\n",
      "           entropy          9683.8        2.698e+05     J/K\n",
      "    Gibbs function     -2.4852e+07       -6.925e+08     J\n",
      " heat capacity c_p            1461        4.071e+04     J/K\n",
      " heat capacity c_v          1162.6        3.239e+04     J/K\n",
      "\n",
      "                           X                 Y          Chem. Pot. / RT\n",
      "                     -------------     ------------     ------------\n",
      "                H2     0.00468025      0.000338615          -24.789\n",
      "                 H     0.00224754      8.13043e-05         -12.3945\n",
      "                 O     0.00413905       0.00237671         -16.0252\n",
      "                O2      0.0396824        0.0455726         -32.0505\n",
      "                OH      0.0135185       0.00825161         -28.4197\n",
      "               H2O       0.110937        0.0717281         -40.8142\n",
      "               HO2     8.9445e-06      1.05957e-05          -44.445\n",
      "              H2O2    3.88088e-07      4.73771e-07         -56.8395\n",
      "                 C    2.61861e-14      1.12882e-14         -20.5191\n",
      "                CO       0.020415         0.020523         -36.5442\n",
      "               CO2       0.072214         0.114063         -52.5694\n",
      "               HCO    1.43511e-08      1.49462e-08         -48.9386\n",
      "              CH2O    1.10209e-10      1.18765e-10         -61.3331\n",
      "                 N    7.76114e-07      3.90153e-07         -13.6312\n",
      "                NH    7.72064e-08      4.16046e-08         -26.0257\n",
      "               NH2    1.21073e-08       6.9623e-09         -38.4202\n",
      "               NH3    6.90545e-09      4.22079e-09         -50.8147\n",
      "               NNH    1.51871e-08      1.58185e-08         -39.6569\n",
      "                NO      0.0131174        0.0141263         -29.6565\n",
      "               NO2    7.12053e-06      1.17569e-05         -45.6817\n",
      "               N2O    1.18506e-06      1.87195e-06         -43.2877\n",
      "               HNO     5.2996e-07      5.89894e-07         -42.0509\n",
      "                CN    9.43714e-12      8.81216e-12         -34.1501\n",
      "               HCN    2.97111e-10      2.88183e-10         -46.5446\n",
      "              HCNO    1.13814e-14      1.75748e-14         -62.6085\n",
      "              HOCN    2.16239e-11      3.33909e-11         -62.5699\n",
      "              HNCO     2.8862e-09      4.45678e-09         -62.5698\n",
      "               NCO    6.42988e-10      9.69621e-10         -50.1754\n",
      "                N2        0.71903         0.722913         -27.2624\n",
      "     [  +24 minor]     7.9676e-15      5.27374e-15\n",
      "\n"
     ]
    }
   ],
   "source": [
    "# print the final mixture state from the time integration\n",
    "gas()"
   ]
  },
  {
   "cell_type": "code",
   "execution_count": 24,
   "metadata": {},
   "outputs": [
    {
     "name": "stdout",
     "output_type": "stream",
     "text": [
      "\n",
      "  gri30:\n",
      "\n",
      "       temperature            1000  K\n",
      "          pressure          101325  Pa\n",
      "           density        0.357634  kg/m^3\n",
      "  mean mol. weight         29.3465  amu\n",
      "\n",
      "                          1 kg            1 kmol\n",
      "                       -----------      ------------\n",
      "          enthalpy      7.0376e+05        2.065e+07     J\n",
      "   internal energy      4.2044e+05        1.234e+07     J\n",
      "           entropy          8270.7        2.427e+05     J/K\n",
      "    Gibbs function      -7.567e+06       -2.221e+08     J\n",
      " heat capacity c_p          1288.3        3.781e+04     J/K\n",
      " heat capacity c_v          1004.9        2.949e+04     J/K\n",
      "\n",
      "                           X                 Y          Chem. Pot. / RT\n",
      "                     -------------     ------------     ------------\n",
      "                O2       0.203252         0.221621          -28.159\n",
      "                N2       0.764228         0.729513         -25.1194\n",
      "              C3H8      0.0325203        0.0488655         -54.9755\n",
      "     [  +50 minor]              0                0\n",
      "\n"
     ]
    }
   ],
   "source": [
    "# reset \"gas\" to to the initial reactant mixture\n",
    "gas.TPX = T_0, P_0, X_0\n",
    "gas()"
   ]
  },
  {
   "cell_type": "code",
   "execution_count": 25,
   "metadata": {},
   "outputs": [
    {
     "name": "stdout",
     "output_type": "stream",
     "text": [
      "\n",
      "  gri30:\n",
      "\n",
      "       temperature         2692.74  K\n",
      "          pressure          287369  Pa\n",
      "           density        0.357634  kg/m^3\n",
      "  mean mol. weight          27.863  amu\n",
      "\n",
      "                          1 kg            1 kmol\n",
      "                       -----------      ------------\n",
      "          enthalpy       1.224e+06         3.41e+07     J\n",
      "   internal energy      4.2044e+05        1.171e+07     J\n",
      "           entropy          9683.8        2.698e+05     J/K\n",
      "    Gibbs function     -2.4852e+07       -6.925e+08     J\n",
      " heat capacity c_p            1461        4.071e+04     J/K\n",
      " heat capacity c_v          1162.6        3.239e+04     J/K\n",
      "\n",
      "                           X                 Y          Chem. Pot. / RT\n",
      "                     -------------     ------------     ------------\n",
      "                H2     0.00468026      0.000338615          -24.789\n",
      "                 H     0.00224754      8.13044e-05         -12.3945\n",
      "                 O     0.00413906       0.00237672         -16.0252\n",
      "                O2      0.0396824        0.0455726         -32.0505\n",
      "                OH      0.0135185       0.00825161         -28.4197\n",
      "               H2O       0.110937        0.0717281         -40.8142\n",
      "               HO2    8.94451e-06      1.05957e-05          -44.445\n",
      "              H2O2    3.88088e-07      4.73771e-07         -56.8395\n",
      "                 C    2.61908e-14      1.12902e-14         -20.5189\n",
      "                CO       0.020415         0.020523         -36.5442\n",
      "               CO2       0.072214         0.114063         -52.5694\n",
      "               HCO    1.43512e-08      1.49462e-08         -48.9386\n",
      "              CH2O    1.10209e-10      1.18766e-10         -61.3331\n",
      "                 N    7.76115e-07      3.90153e-07         -13.6312\n",
      "                NH    7.72064e-08      4.16046e-08         -26.0257\n",
      "               NH2    1.21073e-08       6.9623e-09         -38.4202\n",
      "               NH3    6.90546e-09      4.22079e-09         -50.8147\n",
      "               NNH    1.51871e-08      1.58185e-08         -39.6569\n",
      "                NO      0.0131174        0.0141263         -29.6565\n",
      "               NO2    7.12053e-06       1.1757e-05         -45.6817\n",
      "               N2O    1.18506e-06      1.87195e-06         -43.2877\n",
      "               HNO     5.2996e-07      5.89894e-07         -42.0509\n",
      "                CN    9.43716e-12      8.81218e-12         -34.1501\n",
      "               HCN    2.97112e-10      2.88183e-10         -46.5446\n",
      "              HCNO    1.18298e-14      1.82672e-14         -62.5698\n",
      "              HOCN    2.16239e-11      3.33909e-11         -62.5698\n",
      "              HNCO    2.88621e-09      4.45678e-09         -62.5698\n",
      "               NCO    6.42989e-10      9.69622e-10         -50.1754\n",
      "                N2        0.71903         0.722913         -27.2624\n",
      "     [  +24 minor]    9.01862e-15      5.83798e-15\n",
      "\n"
     ]
    }
   ],
   "source": [
    "# compute the equilibrium composition and temperature, for a constant-volume adiabatic process\n",
    "#   (contant mixture internal energy and volume)\n",
    "gas.equilibrate('UV')\n",
    "gas()"
   ]
  },
  {
   "cell_type": "markdown",
   "metadata": {},
   "source": [
    "The steady-state solution from the time integration agrees with the equilibrium state, to within approximately five significant figures. Note that the final product pressure is higher than the initial reactant pressure for this constant-volume adiabatic process. And note that the product mixture mass-specific internal energy (J/kg) is equal to that for the initial reactants, as it must be for constant-volume adiabatic combustion."
   ]
  },
  {
   "cell_type": "markdown",
   "metadata": {},
   "source": [
    "### 2.5 Time evolution plots"
   ]
  },
  {
   "cell_type": "markdown",
   "metadata": {},
   "source": [
    "As we work through Chapters 5 and 6, and through subsequent tutorial Notebooks, we will look more closely at how the composition of the gas mixture, in particular, evolves from initial fuel+air reactants to final equilibrium products. For now, we will look at temperature and a few key species, including NO."
   ]
  },
  {
   "cell_type": "code",
   "execution_count": 26,
   "metadata": {},
   "outputs": [
    {
     "data": {
      "image/png": "[encoded data removed]",
      "text/plain": [
       "<Figure size 432x288 with 1 Axes>"
      ]
     },
     "metadata": {
      "needs_background": "light"
     },
     "output_type": "display_data"
    }
   ],
   "source": [
    "# plot the time evolution of temperature\n",
    "fig, ax = plt.subplots()\n",
    "ax.plot(timeHistory.index, timeHistory['temperature'], label='T', lw=2)\n",
    "ax.set(xlabel='Time (s)',\n",
    "       ylabel='Temperature (K)',\n",
    "       title ='Temperature vs. time for constant-volume adiabatic reactor')\n",
    "ax.legend(handlelength=4,loc='best')\n",
    "ax.grid(True)\n",
    "fig.savefig(\"T_vs_t_vconst.pdf\")"
   ]
  },
  {
   "cell_type": "markdown",
   "metadata": {},
   "source": [
    "It can be seen that the temperature remains close to its initial value for approximately the first 0.5 s (in fact, at first the temperature decreases slightly from the prescribed initial value, as discussed earlier), then rapidly increases at approximately 0.55 s (the *ignition delay time* - we will discuss that further in Chapter 6), slightly overshoots the final temperature, then settles to the final steady-state (equilibrium) value. The approximately constant temperature until 0.5 s might suggest that little is happening up to that point, but in fact, much is happening during this *induction period*, as we will see below, and discuss further in Chapters 5 and 6."
   ]
  },
  {
   "cell_type": "code",
   "execution_count": 27,
   "metadata": {},
   "outputs": [
    {
     "data": {
      "image/png": "[encoded data removed]",
      "text/plain": [
       "<Figure size 432x288 with 1 Axes>"
      ]
     },
     "metadata": {
      "needs_background": "light"
     },
     "output_type": "display_data"
    }
   ],
   "source": [
    "# plot the time evolution of major species mass fractions, plus CO and H2\n",
    "# individual species mass fractions are scaled so that they can be seen more clearly on a single figure\n",
    "fig, ax = plt.subplots()\n",
    "ax.plot(timeHistory.index, timeHistory['C3H8'],  label='C3H8', lw=2)\n",
    "ax.plot(timeHistory.index, timeHistory['O2']/2., label='O2/2', lw=2)\n",
    "ax.plot(timeHistory.index, timeHistory['N2']/5., label='N2/5', lw=2)\n",
    "ax.plot(timeHistory.index, timeHistory['CO2'],   label='CO2',  lw=2)\n",
    "ax.plot(timeHistory.index, timeHistory['H2O'],   label='H2O',  lw=2)\n",
    "ax.plot(timeHistory.index, timeHistory['CO']*2., label='CO*2', lw=2)\n",
    "ax.plot(timeHistory.index, timeHistory['H2']*50.,label='H2*50',lw=2)\n",
    "ax.set(xlabel='Time (s)',\n",
    "       ylabel='Mass fraction (-)',\n",
    "       title ='Species mass fractions vs. time for constant-volume adiabatic reactor')\n",
    "ax.legend(handlelength=4,loc='best')\n",
    "ax.grid(True)\n",
    "fig.savefig(\"Ymajor_vs_t_vconst.pdf\")"
   ]
  },
  {
   "cell_type": "markdown",
   "metadata": {},
   "source": [
    "It can be seen that there is a steady decrease in fuel mass fraction over the first 0.5 s, and that the rate of decrease becomes faster as the main ignition time is approached. There is a similar trend for O2, although it is not as apparent. To see more clearly what is happening immediately before and after ignition, we can zoom in over that time interval:"
   ]
  },
  {
   "cell_type": "code",
   "execution_count": 28,
   "metadata": {},
   "outputs": [
    {
     "data": {
      "image/png": "[encoded data removed]",
      "text/plain": [
       "<Figure size 432x288 with 1 Axes>"
      ]
     },
     "metadata": {
      "needs_background": "light"
     },
     "output_type": "display_data"
    }
   ],
   "source": [
    "# plot the time evolution of major species mass fractions, plus CO and H2\n",
    "# individual species mass fractions are scaled so that they can be seen more clearly on a single figure\n",
    "fig, ax = plt.subplots()\n",
    "ax.plot(timeHistory.index, timeHistory['C3H8'],  label='C3H8', lw=2)\n",
    "ax.plot(timeHistory.index, timeHistory['O2']/2., label='O2/2', lw=2)\n",
    "ax.plot(timeHistory.index, timeHistory['N2']/5., label='N2/5', lw=2)\n",
    "ax.plot(timeHistory.index, timeHistory['CO2'],   label='CO2',  lw=2)\n",
    "ax.plot(timeHistory.index, timeHistory['H2O'],   label='H2O',  lw=2)\n",
    "ax.plot(timeHistory.index, timeHistory['CO']*2., label='CO*2', lw=2)\n",
    "ax.plot(timeHistory.index, timeHistory['H2']*50.,label='H2*50',lw=2)\n",
    "ax.set(xlim=(0.548,0.550),\n",
    "       xlabel='Time (s)',\n",
    "       ylabel='Mass fraction (-)',\n",
    "       title ='Species mass fractions vs. time for constant-volume adiabatic reactor')\n",
    "ax.legend(handlelength=4,loc='best')\n",
    "ax.grid(True)\n",
    "fig.savefig(\"Ymajor_vs_t_vconst_zoom.pdf\")"
   ]
  },
  {
   "cell_type": "markdown",
   "metadata": {},
   "source": [
    "Now more structure is evident. It can be seen that the ignition event is not instantaneous, although it is quite short compared to the time leading up to ignition. CO and H2 start to increase prior to ignition, then fall to their equilibrium values as the conversion to CO2 and H2O completes. The conversion to CO2 is relatively slow: it takes longer for CO2 to reach its equilibrium value, compared to other major species. We will see this again in subsequent tutorials.\n",
    "\n",
    "Finally, we look at the time evolution of NO:"
   ]
  },
  {
   "cell_type": "code",
   "execution_count": 29,
   "metadata": {},
   "outputs": [
    {
     "data": {
      "image/png": "[encoded data removed]",
      "text/plain": [
       "<Figure size 432x288 with 1 Axes>"
      ]
     },
     "metadata": {
      "needs_background": "light"
     },
     "output_type": "display_data"
    }
   ],
   "source": [
    "# plot the time evolution of NO\n",
    "fig, ax = plt.subplots()\n",
    "ax.plot(timeHistory.index, timeHistory['NO'],  label='NO', lw=2)\n",
    "ax.set(xlim=(0.548,0.560),\n",
    "       xlabel='Time (s)',\n",
    "       ylabel='Mass fraction (-)',\n",
    "       title ='NO mass fraction vs. time for constant-volume adiabatic reactor')\n",
    "ax.legend(handlelength=4,loc='best')\n",
    "ax.grid(True)\n",
    "fig.savefig(\"NO_vs_t_vconst_zoom.pdf\")"
   ]
  },
  {
   "cell_type": "markdown",
   "metadata": {},
   "source": [
    "This confirms that no significant NO formation starts after after the main conversion from reactants to major-species products has completed (see Notebook 4_2_ODE_integration_thermal_NO). The rate of NO formation is much faster here compared to what was seen in the previous tutorial Notebook, though. Here the product temperature and pressure are higher, because a constant-volume combustion process was considered. Also, other NO formation pathways in addition to thermal NO are considered in GRI-Mech 3.0, although thermal NO dominates for the conditions simulated here."
   ]
  },
  {
   "cell_type": "code",
   "execution_count": null,
   "metadata": {},
   "outputs": [],
   "source": []
  }
 ],
 "metadata": {
  "kernelspec": {
   "display_name": "Python 3",
   "language": "python",
   "name": "python3"
  },
  "language_info": {
   "codemirror_mode": {
    "name": "ipython",
    "version": 3
   },
   "file_extension": ".py",
   "mimetype": "text/x-python",
   "name": "python",
   "nbconvert_exporter": "python",
   "pygments_lexer": "ipython3",
   "version": "3.7.6"
  }
 },
 "nbformat": 4,
 "nbformat_minor": 1
}
