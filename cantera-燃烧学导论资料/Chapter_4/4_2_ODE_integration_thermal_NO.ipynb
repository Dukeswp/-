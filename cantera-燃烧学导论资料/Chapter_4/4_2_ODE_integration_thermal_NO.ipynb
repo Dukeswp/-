{
 "cells": [
  {
   "cell_type": "markdown",
   "metadata": {},
   "source": [
    "# ODE Integration: Thermal NO\n",
    "This Jupyter Notebook was written by Dan Haworth. It is intended as a tutorial to be used in parallel with Chapter 4 of the book \"An Introduction to Combustion: Concepts and Applications\" by Stephen R. Turns and Daniel C. Haworth. That book is referred to as \"Turns 4th ed.\" throughout this Notebook.\n",
    "\n",
    "This Notebook was last updated 11 February 2020.\n",
    "\n",
    "The objectives of this tutorial are: 1) to show how to write the system of nonlinear ordinary differential equations (ODEs) governing the time evolution of species molar concentrations for a given set of chemical reactions; 2) to show how to solve a system of linear or nonlinear ODEs (an initial value problem) using SciPy's `solve_ivp()` function; and 3) to provide further insight into the formation of nitric oxide (NO), a key regulated pollutant. We will use the thermodynamic properties that are included in gri30.cti, for the purpose of performing an equilibrium calculation.\n",
    "\n",
    "The reader should be familiar with the material in the previous Notebook (4_1_Chemical_kinetics_Cantera_basics) before working through this Notebook."
   ]
  },
  {
   "cell_type": "markdown",
   "metadata": {},
   "source": [
    "## 1. Background and motivation"
   ]
  },
  {
   "cell_type": "markdown",
   "metadata": {},
   "source": [
    "In Chapter 4 of Turns 4th ed., it is shown how to write an expression for the net chemical production rate of any species involved in a given reaction mechanism, in terms of the rate coefficients for the chemical reactions and the molar concentrations of all species involved in the reactions. The net production rate for species $i$ is denoted as $ \\dot \\omega _ i$, and has units of molar concentration per unit time (kmol/m^3-s). Also, in the previous tutorial Notebook (4_1_Chemical_kinetics_Cantera_basics), we saw how to access $ \\dot \\omega _i $ and other reaction-related quantities in Cantera.\n",
    "\n",
    "Here we consider a gas mixture that contains $N_{spec}$ distinct chemical species, or molecules. For situations where the changes in species molar concentrations are due only to chemical reactions (versus changes in system volume, for example), the time-rate-of-change of molar concentration for species $i$ is given directly by $ \\dot \\omega _ i $:\n",
    "\n",
    "$$ \\frac{d[X_i]}{dt} = \\dot \\omega _ i \\ , \\ i = 1 , \\ldots , N_{spec} $$\n",
    "\n",
    "where $[X_i]$ denotes the molar concentration of species $i$. Given the initial values of the molar concentrations for all species, together with the mixture temperature and pressure, this system of nonlinear ordinary differential equations (ODEs) can (in principle) be integrated in time to determine the time evolution of the molar concentrations of all species involved in the reaction mechanism. In subsequent chapters and tutorial Notebooks, we will see how to do that using predefined objects that are available in Cantera. \n",
    "\n",
    "In this tutorial Notebook, we will set up and solve the system of ODEs for a small reaction mechanism \"manually\", outside of Cantera. The reaction mechanism that we will work with is one that is of significant practical importance. This will provide some practice in writing down the expressions for $ \\dot \\omega _ i$ for a given set of chemical reactions. It will also show how one can solve an initial-value problem using SciPy's [`solve_ivp()`](https://docs.scipy.org/doc/scipy/reference/generated/scipy.integrate.solve_ivp.html) function. That will be useful in subsequent tutorial Notebooks. "
   ]
  },
  {
   "cell_type": "markdown",
   "metadata": {},
   "source": [
    "## 2. The Zeldovich and extended Zeldovich mechanisms for NO formation"
   ]
  },
  {
   "cell_type": "markdown",
   "metadata": {},
   "source": [
    "Nitric oxide (NO) is a key regulated pollutant that is formed in most combustion processes where air is the oxidizer, and the temperature is sufficiently high. The nitrogen comes from the air, which is approximately 79% $N_2$ on a volume or molar basis. In many practical combustion systems, the following set of two reversible reactions is responsible for most of the NO production. This is called the *thermal* or *Zeldovich* mechanism for NO formation:\n",
    "\n",
    "$$ O + N_2 \\rightleftharpoons NO + N $$\n",
    "$$ N + O_2 \\rightleftharpoons NO + O $$\n",
    "\n",
    "Sometimes a third reversible reaction is added, in which case the system of three reversible reactions is referred to as the *extended Zeldovich* mechanism:\n",
    "\n",
    "$$ N + OH \\rightleftharpoons NO + H $$\n",
    "\n",
    "Note that all three reactions are bimolecular in both directions. The Zeldovich and extended Zeldovich mechanisms are discussed in Chapters 4 and 5 of Turns 4th ed., and there is some additional discussion in Chapter 15. Other pathways or mechanisms by which $NO$ and/or $NO_2$ (nitrogen dioxide) can be formed are also discussed in Chapter 5. When one refers to *oxides of nitrogen* or *nitrogen oxides* as a pollutant, that includes both $NO$ and $NO_2$, and is written as $NO_x$, where $NO_x$ is understood to include both species (with $x = $ 1 for $NO$, and $x=$ 2 for $NO_2$). \n",
    "\n",
    "Seven species are involved in the extended Zeldovich mechanism: $O$, $N_2$, $NO$, $N$, $O_2$, $OH$, and $H$. The corresponding time-rate-of-change of molar concentration for each of the seven species is obtained by summing the contributions from each forward and each reverse reaction. For the case where the changes in species molar concentrations are due only to chemical reactions:\n",
    "\n",
    "$$ \\frac{d[O]}{dt} = -k_{1f} [O] [N_2] + k_{1r} [NO] [N] + k_{2f} [N] [O_2] - k_{2r} [NO] [O]$$\n",
    "$$ \\frac{d[N_2]}{dt} = -k_{1f} [O] [N_2] + k_{1r} [NO] [N] $$\n",
    "$$ \\frac{d[NO]}{dt} = k_{1f} [O] [N_2] - k_{1r} [NO] [N] + k_{2f} [N] [O_2] - k_{2r} [NO] [O] + k_{3f} [N] [OH] - k_{3r} [NO] [H] $$\n",
    "$$ \\frac{d[N]}{dt} = k_{1f} [O] [N_2] - k_{1r} [NO] [N] - k_{2f} [N] [O_2] + k_{2r} [NO] [O] - k_{3f} [N] [OH] + k_{3r} [NO] [H] $$\n",
    "$$ \\frac{d[O_2]}{dt} = - k_{2f} [N] [O_2] + k_{2r} [NO] [O] $$\n",
    "$$ \\frac{d[OH]}{dt} = - k_{3f} [N] [OH] + k_{3r} [NO] [H] $$\n",
    "$$ \\frac{d[H]}{dt} =  k_{3f} [N] [OH] - k_{3r} [NO] [H] $$\n",
    "\n",
    "Here $ k_{1f} $ denotes the temperature-dependent forward rate constant for the first reaction, $ k_{1r} $ denotes the temperature-dependent reverse rate constant for the first reaction, etc. Normally the forward rate constants for the three reactions would be given using the usual modified Arrhenius form (with three parameters for each reaction), and the reverse rate constant for each reaction would be determined using the forward rate constant and an equilibrium constant. The corresponding system of ODEs for the standard Zeldovich mechanism follows by removing two of the above ODEs (the ones for $d[OH]/dt$ and $d[H]/dt$) and by removing contributions from the third reversible reaction (no $k_{3f}$ or $k_{3r}$ terms).\n",
    "\n",
    "In addition to providing a compact reaction mechanism that is of significant practical importance, the Zeldovich or extended Zeldovich mechanism also is a good example of how a reaction mechanism can be systematically reduced by invoking appropriate assumptions/simplifications, as discussed in Chapters 4 and 5. In particular, if one ignores the reverse reactions (appropriate if the molar concentration of $NO$ is sufficiently low), assumes that nitrogen atoms $N$ are in steady state, and assumes that $N_2$, $O_2$, $O$, and $OH$ concentrations are at their equilibrium values, then the expression for the time-rate-of-change of $NO$ molar concentration simplifies to:\n",
    "\n",
    "$$ \\frac{d[NO]}{dt} = 2 k_{1f} [O]_{eq} [N_2]_{eq} $$\n",
    "\n",
    "where $[O]_{eq}$ and $[N_2]_{eq}$ refer to the equilibrium molar concentrations of $O$ and $N_2$, respectively. This will be referred to as the *simplified Zeldovich* mechanism. Alternatively, the term $[O]_{eq}$ can be written in terms of the equlibrium molar concentration of $O_2$ and the equilibrium constant for the reaction $ O_2 \\rightleftharpoons 2 O $, as shown in Chapter 4. In this simplified rate expression, only a single elementary rate constant is required.\n",
    "\n",
    "As we will see later in Chapters 4 and 5, thermal $NO$ formation tends to be a relatively slow process (compared to the primary oxidation of fuel and air to form the major products of combustion) that requires a relatively high temperature (~1800 K). For that reason, as a first approximation it is often reasonable to assume that thermal $NO$ formation begins after the main combustion event has been completed and the major product species compositions correspond to their equilibrium values. Then the above equations for $d[NO]/dt$ (corresponding to the standard Zeldovich, extended Zeldovich, or simplified Zeldovich mechanisms) can be integrated in time to compute the time evolution of the molar concentration of $NO$, with the initial condition $[NO] = 0$ and equilibrium values for the other species molar concentrations. That is what we will do in Sections 4 and 5 below. Before we do that, though, we introduce the approach that we will use to solve the initial-value problem. This will show the key steps required to set up and solve a system of coupled ODEs for a simpler problem (a system of linear ODEs), before moving to the nonlinear system of ODEs that is characteristic of a combustion problem."
   ]
  },
  {
   "cell_type": "markdown",
   "metadata": {},
   "source": [
    "## 3. Solution of a linear initial value problem using `solve_ivp()`"
   ]
  },
  {
   "cell_type": "markdown",
   "metadata": {},
   "source": [
    "Here we show the key steps needed to set up and solve an initial-value problem (i.e., to integrate a system of coupled ODEs in time, starting from a given initial condition) using SciPy's [`solve_ivp()`](https://docs.scipy.org/doc/scipy/reference/generated/scipy.integrate.solve_ivp.html) function. "
   ]
  },
  {
   "cell_type": "code",
   "execution_count": 1,
   "metadata": {},
   "outputs": [],
   "source": [
    "# access modules\n",
    "# note that we do not need Cantera here\n",
    "# also note that we load the single object \"solve_ivp\" (the initial-value-problem ODE solver) from scipy.integrate\n",
    "# then to call this function and place the output into an object named \"solution\", say, \n",
    "#   we can type \"solution = solve_ivp(argument1,argument2, . . .)\" with no prefix required for \"solve_ivp\"\n",
    "import numpy as np\n",
    "import matplotlib.pyplot as plt\n",
    "from scipy.integrate import solve_ivp"
   ]
  },
  {
   "cell_type": "code",
   "execution_count": 2,
   "metadata": {},
   "outputs": [],
   "source": [
    "# uncomment the following line for help on \"solve_ivp\", if you would like to see the details\n",
    "#help solve_ivp?"
   ]
  },
  {
   "cell_type": "code",
   "execution_count": 3,
   "metadata": {},
   "outputs": [],
   "source": [
    "# define the system of ODEs to solve\n",
    "# that is done using a function (here, named \"odes\") that will be called by the ODE integrator (here, \"solve_ivp\")\n",
    "\n",
    "# here there are four coupled linear ODEs that correspond to a simple system\n",
    "#   of a point mass m that moves in the x-y plane, subject to a constant force\n",
    "#   with components gx and gy in the x and y directions, respectively\n",
    "#     x  is the x-direction location of the mass (m)\n",
    "#     y  is the y-direction location of the mass (m)\n",
    "#     u  is the x-direction speed of the mass (m/s)\n",
    "#     v  is the y-direction speed of the mass (m/s)\n",
    "#     m  is the constant mass (kg)\n",
    "#     gx is the constant x-direction force (N=kg*m/s^2)\n",
    "#     gy is the constant y-direction force (N=kg*m/s^2)\n",
    "\n",
    "# the system of first-order linear ODEs governing this system is then:\n",
    "#   dx/dt = u\n",
    "#   dy/dt = v\n",
    "#   du/dt = gx/m\n",
    "#   dv/dt = gy/m\n",
    "\n",
    "# the function \"odes\" has three arguments:\n",
    "#   t is the independent variable (time)\n",
    "#   dvars is an array that holds four dependent variables ([x,y,u,v])\n",
    "#   parms is an array that holds three constant parameters ([m,gx,gy])\n",
    "\n",
    "def odes(t,dvars,parms): \n",
    "    x, y, u, v = dvars  # unpack dvars into four local values of x, y, u, and v\n",
    "    m, gx, gy  = parms  # unpack parms into three local values of m, gx, and gy\n",
    "    f = [ u ,           # specify the array of right-hand sides for the four ODEs\n",
    "          v ,\n",
    "          gx/m ,\n",
    "          gy/m   ]     \n",
    "    return f            # return the array of right-hand sides to the calling function (the ODE integrator)"
   ]
  },
  {
   "cell_type": "code",
   "execution_count": 4,
   "metadata": {},
   "outputs": [
    {
     "data": {
      "text/plain": [
       "array([ 0. ,  0.1,  0.2,  0.3,  0.4,  0.5,  0.6,  0.7,  0.8,  0.9,  1. ,\n",
       "        1.1,  1.2,  1.3,  1.4,  1.5,  1.6,  1.7,  1.8,  1.9,  2. ,  2.1,\n",
       "        2.2,  2.3,  2.4,  2.5,  2.6,  2.7,  2.8,  2.9,  3. ,  3.1,  3.2,\n",
       "        3.3,  3.4,  3.5,  3.6,  3.7,  3.8,  3.9,  4. ,  4.1,  4.2,  4.3,\n",
       "        4.4,  4.5,  4.6,  4.7,  4.8,  4.9,  5. ,  5.1,  5.2,  5.3,  5.4,\n",
       "        5.5,  5.6,  5.7,  5.8,  5.9,  6. ,  6.1,  6.2,  6.3,  6.4,  6.5,\n",
       "        6.6,  6.7,  6.8,  6.9,  7. ,  7.1,  7.2,  7.3,  7.4,  7.5,  7.6,\n",
       "        7.7,  7.8,  7.9,  8. ,  8.1,  8.2,  8.3,  8.4,  8.5,  8.6,  8.7,\n",
       "        8.8,  8.9,  9. ,  9.1,  9.2,  9.3,  9.4,  9.5,  9.6,  9.7,  9.8,\n",
       "        9.9, 10. ])"
      ]
     },
     "execution_count": 4,
     "metadata": {},
     "output_type": "execute_result"
    }
   ],
   "source": [
    "# define the time interval over which the solution is to be computed, \n",
    "#   and the number of (here, uniformly spaced) time intervals at which the solution is to be evaluated and stored\n",
    "#   for output and/or plotting\n",
    "# here t0 is the initial time, tf is the final time, and there are nt uniformly spaced time intervals\n",
    "t0 =  0. # (s)\n",
    "tf = 10. # (s)\n",
    "nt = 101\n",
    "\n",
    "# define an array containing the time instants at which the solution is to be evaluated; this array will be passed\n",
    "#   as an argument to the ODE solver\n",
    "# note the use of NumPy \"linspace\" to set up the array of time instants here - there are other ways to do this,\n",
    "#   as we have seen earlier\n",
    "tarr = np.linspace(t0 , tf, nt) \n",
    "\n",
    "# print the time instants at which the solution is to be evaluated\n",
    "tarr"
   ]
  },
  {
   "cell_type": "code",
   "execution_count": 5,
   "metadata": {},
   "outputs": [
    {
     "data": {
      "text/plain": [
       "  message: 'The solver successfully reached the end of the integration interval.'\n",
       "     nfev: 26\n",
       "     njev: 0\n",
       "      nlu: 0\n",
       "      sol: None\n",
       "   status: 0\n",
       "  success: True\n",
       "        t: array([ 0. ,  0.1,  0.2,  0.3,  0.4,  0.5,  0.6,  0.7,  0.8,  0.9,  1. ,\n",
       "        1.1,  1.2,  1.3,  1.4,  1.5,  1.6,  1.7,  1.8,  1.9,  2. ,  2.1,\n",
       "        2.2,  2.3,  2.4,  2.5,  2.6,  2.7,  2.8,  2.9,  3. ,  3.1,  3.2,\n",
       "        3.3,  3.4,  3.5,  3.6,  3.7,  3.8,  3.9,  4. ,  4.1,  4.2,  4.3,\n",
       "        4.4,  4.5,  4.6,  4.7,  4.8,  4.9,  5. ,  5.1,  5.2,  5.3,  5.4,\n",
       "        5.5,  5.6,  5.7,  5.8,  5.9,  6. ,  6.1,  6.2,  6.3,  6.4,  6.5,\n",
       "        6.6,  6.7,  6.8,  6.9,  7. ,  7.1,  7.2,  7.3,  7.4,  7.5,  7.6,\n",
       "        7.7,  7.8,  7.9,  8. ,  8.1,  8.2,  8.3,  8.4,  8.5,  8.6,  8.7,\n",
       "        8.8,  8.9,  9. ,  9.1,  9.2,  9.3,  9.4,  9.5,  9.6,  9.7,  9.8,\n",
       "        9.9, 10. ])\n",
       " t_events: None\n",
       "        y: array([[ 1.00000000e+00,  2.00000000e-02, -9.20000000e-01,\n",
       "        -1.82000000e+00, -2.68000000e+00, -3.50000000e+00,\n",
       "        -4.28000000e+00, -5.02000000e+00, -5.72000000e+00,\n",
       "        -6.38000000e+00, -7.00000000e+00, -7.58000000e+00,\n",
       "        -8.12000000e+00, -8.62000000e+00, -9.08000000e+00,\n",
       "        -9.50000000e+00, -9.88000000e+00, -1.02200000e+01,\n",
       "        -1.05200000e+01, -1.07800000e+01, -1.10000000e+01,\n",
       "        -1.11800000e+01, -1.13200000e+01, -1.14200000e+01,\n",
       "        -1.14800000e+01, -1.15000000e+01, -1.14800000e+01,\n",
       "        -1.14200000e+01, -1.13200000e+01, -1.11800000e+01,\n",
       "        -1.10000000e+01, -1.07800000e+01, -1.05200000e+01,\n",
       "        -1.02200000e+01, -9.88000000e+00, -9.50000000e+00,\n",
       "        -9.08000000e+00, -8.62000000e+00, -8.12000000e+00,\n",
       "        -7.58000000e+00, -7.00000000e+00, -6.38000000e+00,\n",
       "        -5.72000000e+00, -5.02000000e+00, -4.28000000e+00,\n",
       "        -3.50000000e+00, -2.68000000e+00, -1.82000000e+00,\n",
       "        -9.20000000e-01,  2.00000000e-02,  1.00000000e+00,\n",
       "         2.02000000e+00,  3.08000000e+00,  4.18000000e+00,\n",
       "         5.32000000e+00,  6.50000000e+00,  7.72000000e+00,\n",
       "         8.98000000e+00,  1.02800000e+01,  1.16200000e+01,\n",
       "         1.30000000e+01,  1.44200000e+01,  1.58800000e+01,\n",
       "         1.73800000e+01,  1.89200000e+01,  2.05000000e+01,\n",
       "         2.21200000e+01,  2.37800000e+01,  2.54800000e+01,\n",
       "         2.72200000e+01,  2.90000000e+01,  3.08200000e+01,\n",
       "         3.26800000e+01,  3.45800000e+01,  3.65200000e+01,\n",
       "         3.85000000e+01,  4.05200000e+01,  4.25800000e+01,\n",
       "         4.46800000e+01,  4.68200000e+01,  4.90000000e+01,\n",
       "         5.12200000e+01,  5.34800000e+01,  5.57800000e+01,\n",
       "         5.81200000e+01,  6.05000000e+01,  6.29200000e+01,\n",
       "         6.53800000e+01,  6.78800000e+01,  7.04200000e+01,\n",
       "         7.30000000e+01,  7.56200000e+01,  7.82800000e+01,\n",
       "         8.09800000e+01,  8.37200000e+01,  8.65000000e+01,\n",
       "         8.93200000e+01,  9.21800000e+01,  9.50800000e+01,\n",
       "         9.80200000e+01,  1.01000000e+02],\n",
       "       [-1.00000000e+00,  9.80000000e-01,  2.92000000e+00,\n",
       "         4.82000000e+00,  6.68000000e+00,  8.50000000e+00,\n",
       "         1.02800000e+01,  1.20200000e+01,  1.37200000e+01,\n",
       "         1.53800000e+01,  1.70000000e+01,  1.85800000e+01,\n",
       "         2.01200000e+01,  2.16200000e+01,  2.30800000e+01,\n",
       "         2.45000000e+01,  2.58800000e+01,  2.72200000e+01,\n",
       "         2.85200000e+01,  2.97800000e+01,  3.10000000e+01,\n",
       "         3.21800000e+01,  3.33200000e+01,  3.44200000e+01,\n",
       "         3.54800000e+01,  3.65000000e+01,  3.74800000e+01,\n",
       "         3.84200000e+01,  3.93200000e+01,  4.01800000e+01,\n",
       "         4.10000000e+01,  4.17800000e+01,  4.25200000e+01,\n",
       "         4.32200000e+01,  4.38800000e+01,  4.45000000e+01,\n",
       "         4.50800000e+01,  4.56200000e+01,  4.61200000e+01,\n",
       "         4.65800000e+01,  4.70000000e+01,  4.73800000e+01,\n",
       "         4.77200000e+01,  4.80200000e+01,  4.82800000e+01,\n",
       "         4.85000000e+01,  4.86800000e+01,  4.88200000e+01,\n",
       "         4.89200000e+01,  4.89800000e+01,  4.90000000e+01,\n",
       "         4.89800000e+01,  4.89200000e+01,  4.88200000e+01,\n",
       "         4.86800000e+01,  4.85000000e+01,  4.82800000e+01,\n",
       "         4.80200000e+01,  4.77200000e+01,  4.73800000e+01,\n",
       "         4.70000000e+01,  4.65800000e+01,  4.61200000e+01,\n",
       "         4.56200000e+01,  4.50800000e+01,  4.45000000e+01,\n",
       "         4.38800000e+01,  4.32200000e+01,  4.25200000e+01,\n",
       "         4.17800000e+01,  4.10000000e+01,  4.01800000e+01,\n",
       "         3.93200000e+01,  3.84200000e+01,  3.74800000e+01,\n",
       "         3.65000000e+01,  3.54800000e+01,  3.44200000e+01,\n",
       "         3.33200000e+01,  3.21800000e+01,  3.10000000e+01,\n",
       "         2.97800000e+01,  2.85200000e+01,  2.72200000e+01,\n",
       "         2.58800000e+01,  2.45000000e+01,  2.30800000e+01,\n",
       "         2.16200000e+01,  2.01200000e+01,  1.85800000e+01,\n",
       "         1.70000000e+01,  1.53800000e+01,  1.37200000e+01,\n",
       "         1.20200000e+01,  1.02800000e+01,  8.50000000e+00,\n",
       "         6.68000000e+00,  4.82000000e+00,  2.92000000e+00,\n",
       "         9.80000000e-01, -1.00000000e+00],\n",
       "       [-1.00000000e+01, -9.60000000e+00, -9.20000000e+00,\n",
       "        -8.80000000e+00, -8.40000000e+00, -8.00000000e+00,\n",
       "        -7.60000000e+00, -7.20000000e+00, -6.80000000e+00,\n",
       "        -6.40000000e+00, -6.00000000e+00, -5.60000000e+00,\n",
       "        -5.20000000e+00, -4.80000000e+00, -4.40000000e+00,\n",
       "        -4.00000000e+00, -3.60000000e+00, -3.20000000e+00,\n",
       "        -2.80000000e+00, -2.40000000e+00, -2.00000000e+00,\n",
       "        -1.60000000e+00, -1.20000000e+00, -8.00000000e-01,\n",
       "        -4.00000000e-01,  1.77635684e-15,  4.00000000e-01,\n",
       "         8.00000000e-01,  1.20000000e+00,  1.60000000e+00,\n",
       "         2.00000000e+00,  2.40000000e+00,  2.80000000e+00,\n",
       "         3.20000000e+00,  3.60000000e+00,  4.00000000e+00,\n",
       "         4.40000000e+00,  4.80000000e+00,  5.20000000e+00,\n",
       "         5.60000000e+00,  6.00000000e+00,  6.40000000e+00,\n",
       "         6.80000000e+00,  7.20000000e+00,  7.60000000e+00,\n",
       "         8.00000000e+00,  8.40000000e+00,  8.80000000e+00,\n",
       "         9.20000000e+00,  9.60000000e+00,  1.00000000e+01,\n",
       "         1.04000000e+01,  1.08000000e+01,  1.12000000e+01,\n",
       "         1.16000000e+01,  1.20000000e+01,  1.24000000e+01,\n",
       "         1.28000000e+01,  1.32000000e+01,  1.36000000e+01,\n",
       "         1.40000000e+01,  1.44000000e+01,  1.48000000e+01,\n",
       "         1.52000000e+01,  1.56000000e+01,  1.60000000e+01,\n",
       "         1.64000000e+01,  1.68000000e+01,  1.72000000e+01,\n",
       "         1.76000000e+01,  1.80000000e+01,  1.84000000e+01,\n",
       "         1.88000000e+01,  1.92000000e+01,  1.96000000e+01,\n",
       "         2.00000000e+01,  2.04000000e+01,  2.08000000e+01,\n",
       "         2.12000000e+01,  2.16000000e+01,  2.20000000e+01,\n",
       "         2.24000000e+01,  2.28000000e+01,  2.32000000e+01,\n",
       "         2.36000000e+01,  2.40000000e+01,  2.44000000e+01,\n",
       "         2.48000000e+01,  2.52000000e+01,  2.56000000e+01,\n",
       "         2.60000000e+01,  2.64000000e+01,  2.68000000e+01,\n",
       "         2.72000000e+01,  2.76000000e+01,  2.80000000e+01,\n",
       "         2.84000000e+01,  2.88000000e+01,  2.92000000e+01,\n",
       "         2.96000000e+01,  3.00000000e+01],\n",
       "       [ 2.00000000e+01,  1.96000000e+01,  1.92000000e+01,\n",
       "         1.88000000e+01,  1.84000000e+01,  1.80000000e+01,\n",
       "         1.76000000e+01,  1.72000000e+01,  1.68000000e+01,\n",
       "         1.64000000e+01,  1.60000000e+01,  1.56000000e+01,\n",
       "         1.52000000e+01,  1.48000000e+01,  1.44000000e+01,\n",
       "         1.40000000e+01,  1.36000000e+01,  1.32000000e+01,\n",
       "         1.28000000e+01,  1.24000000e+01,  1.20000000e+01,\n",
       "         1.16000000e+01,  1.12000000e+01,  1.08000000e+01,\n",
       "         1.04000000e+01,  1.00000000e+01,  9.60000000e+00,\n",
       "         9.20000000e+00,  8.80000000e+00,  8.40000000e+00,\n",
       "         8.00000000e+00,  7.60000000e+00,  7.20000000e+00,\n",
       "         6.80000000e+00,  6.40000000e+00,  6.00000000e+00,\n",
       "         5.60000000e+00,  5.20000000e+00,  4.80000000e+00,\n",
       "         4.40000000e+00,  4.00000000e+00,  3.60000000e+00,\n",
       "         3.20000000e+00,  2.80000000e+00,  2.40000000e+00,\n",
       "         2.00000000e+00,  1.60000000e+00,  1.20000000e+00,\n",
       "         8.00000000e-01,  4.00000000e-01, -1.42108547e-14,\n",
       "        -4.00000000e-01, -8.00000000e-01, -1.20000000e+00,\n",
       "        -1.60000000e+00, -2.00000000e+00, -2.40000000e+00,\n",
       "        -2.80000000e+00, -3.20000000e+00, -3.60000000e+00,\n",
       "        -4.00000000e+00, -4.40000000e+00, -4.80000000e+00,\n",
       "        -5.20000000e+00, -5.60000000e+00, -6.00000000e+00,\n",
       "        -6.40000000e+00, -6.80000000e+00, -7.20000000e+00,\n",
       "        -7.60000000e+00, -8.00000000e+00, -8.40000000e+00,\n",
       "        -8.80000000e+00, -9.20000000e+00, -9.60000000e+00,\n",
       "        -1.00000000e+01, -1.04000000e+01, -1.08000000e+01,\n",
       "        -1.12000000e+01, -1.16000000e+01, -1.20000000e+01,\n",
       "        -1.24000000e+01, -1.28000000e+01, -1.32000000e+01,\n",
       "        -1.36000000e+01, -1.40000000e+01, -1.44000000e+01,\n",
       "        -1.48000000e+01, -1.52000000e+01, -1.56000000e+01,\n",
       "        -1.60000000e+01, -1.64000000e+01, -1.68000000e+01,\n",
       "        -1.72000000e+01, -1.76000000e+01, -1.80000000e+01,\n",
       "        -1.84000000e+01, -1.88000000e+01, -1.92000000e+01,\n",
       "        -1.96000000e+01, -2.00000000e+01]])"
      ]
     },
     "execution_count": 5,
     "metadata": {},
     "output_type": "execute_result"
    }
   ],
   "source": [
    "# define an array that contains the initial time and the final time; this array will be passed\n",
    "#   as an argument to the ODE solver\n",
    "tspan  = [t0,tf]\n",
    "\n",
    "# specify the initial conditions at time t=t0\n",
    "x0 =  1. # (m)\n",
    "y0 = -1. # (m)\n",
    "u0 =-10. # (m/s)\n",
    "v0 = 20. # (m/s)\n",
    "\n",
    "# load the initial conditions into an array; this array will be passed as an argument to the ODE solver\n",
    "ics = [x0, y0, u0, v0]\n",
    "\n",
    "# define the constant problem parameters\n",
    "param1 =  1. # kg\n",
    "param2 =  4. # N\n",
    "param3 = -4. # N\n",
    "\n",
    "# load the constant problem parameters into an array; this array will be passed as an argument to the ODE solver\n",
    "params = [param1, param2, param3]\n",
    "\n",
    "# call the ODE solver\n",
    "# the function \"odes\" is passed as the first argument to the ODE solver - we do not call \"odes\" directly\n",
    "# note the use of \"lambda\" to pass the name of the function (here, \"odes\") and its arguments;\n",
    "#   this is how we pass the values of the constant parameters through to \"odes\"\n",
    "# the two-element array \"tspan\" is passed as the second argument\n",
    "# the array of initial conditions is passed as the third argument\n",
    "# the array of instants in time at which the solution is to be evaluated is passed as the fourth argument using \"t_eval\"\n",
    "\n",
    "# several other arguments can be passed to \"solve_ivp\" to specify the particular algorithm to use to integrate\n",
    "#   the ODEs, to set numerical tolerances, etc. - you can uncomment the \"help\" line above to see the available options -\n",
    "#   here we take the default values for all arguments other than the ones described above\n",
    "# the default ODE integration method is an explicit Runge-Kutta method;\n",
    "#   this default method is appropriate for the simple (linear) ODE system that is considered here; a different method\n",
    "#   must usually be used for combustion chemistry problems - see Section 4 below\n",
    "\n",
    "# the output returned from \"solve_ivp\" is directed into an object named \"solution\" - the name is arbitrary\n",
    "\n",
    "solution = solve_ivp(lambda t,y:odes(t,y,params),tspan,ics,t_eval=tarr)\n",
    "\n",
    "# print \"solution\" - note that it contains information about the solution procedure, in addition to the\n",
    "#   actual solution to the ODEs\n",
    "solution"
   ]
  },
  {
   "cell_type": "code",
   "execution_count": 6,
   "metadata": {},
   "outputs": [
    {
     "data": {
      "text/plain": [
       "array([ 0. ,  0.1,  0.2,  0.3,  0.4,  0.5,  0.6,  0.7,  0.8,  0.9,  1. ,\n",
       "        1.1,  1.2,  1.3,  1.4,  1.5,  1.6,  1.7,  1.8,  1.9,  2. ,  2.1,\n",
       "        2.2,  2.3,  2.4,  2.5,  2.6,  2.7,  2.8,  2.9,  3. ,  3.1,  3.2,\n",
       "        3.3,  3.4,  3.5,  3.6,  3.7,  3.8,  3.9,  4. ,  4.1,  4.2,  4.3,\n",
       "        4.4,  4.5,  4.6,  4.7,  4.8,  4.9,  5. ,  5.1,  5.2,  5.3,  5.4,\n",
       "        5.5,  5.6,  5.7,  5.8,  5.9,  6. ,  6.1,  6.2,  6.3,  6.4,  6.5,\n",
       "        6.6,  6.7,  6.8,  6.9,  7. ,  7.1,  7.2,  7.3,  7.4,  7.5,  7.6,\n",
       "        7.7,  7.8,  7.9,  8. ,  8.1,  8.2,  8.3,  8.4,  8.5,  8.6,  8.7,\n",
       "        8.8,  8.9,  9. ,  9.1,  9.2,  9.3,  9.4,  9.5,  9.6,  9.7,  9.8,\n",
       "        9.9, 10. ])"
      ]
     },
     "execution_count": 6,
     "metadata": {},
     "output_type": "execute_result"
    }
   ],
   "source": [
    "# \"solution.t\" accesses the time instants at which the solution was evaluated - it is a 1D array\n",
    "\n",
    "#  here \"solution.t\" is the same as the array \"tarr\" that was passed to \"solve_ivp\" using the \"t_eval\" argument\n",
    "\n",
    "# if the \"t_eval\" argument had not been specified when calling \"solve_ivp\", then the value of the first element of the array\n",
    "#   \"solution.t\" would be equal to the value of \"tspan[0]\", the value of the last element of the array \"solution.t\"\n",
    "#   would be equal to the value of \"tspan[1]\", and the values of the intermediate elements of the array \"solution.t\"\n",
    "#   would be determined internally by the solver\n",
    "\n",
    "# print \"solution.t\"\n",
    "solution.t"
   ]
  },
  {
   "cell_type": "code",
   "execution_count": 7,
   "metadata": {},
   "outputs": [
    {
     "data": {
      "text/plain": [
       "array([[ 1.00000000e+00,  2.00000000e-02, -9.20000000e-01,\n",
       "        -1.82000000e+00, -2.68000000e+00, -3.50000000e+00,\n",
       "        -4.28000000e+00, -5.02000000e+00, -5.72000000e+00,\n",
       "        -6.38000000e+00, -7.00000000e+00, -7.58000000e+00,\n",
       "        -8.12000000e+00, -8.62000000e+00, -9.08000000e+00,\n",
       "        -9.50000000e+00, -9.88000000e+00, -1.02200000e+01,\n",
       "        -1.05200000e+01, -1.07800000e+01, -1.10000000e+01,\n",
       "        -1.11800000e+01, -1.13200000e+01, -1.14200000e+01,\n",
       "        -1.14800000e+01, -1.15000000e+01, -1.14800000e+01,\n",
       "        -1.14200000e+01, -1.13200000e+01, -1.11800000e+01,\n",
       "        -1.10000000e+01, -1.07800000e+01, -1.05200000e+01,\n",
       "        -1.02200000e+01, -9.88000000e+00, -9.50000000e+00,\n",
       "        -9.08000000e+00, -8.62000000e+00, -8.12000000e+00,\n",
       "        -7.58000000e+00, -7.00000000e+00, -6.38000000e+00,\n",
       "        -5.72000000e+00, -5.02000000e+00, -4.28000000e+00,\n",
       "        -3.50000000e+00, -2.68000000e+00, -1.82000000e+00,\n",
       "        -9.20000000e-01,  2.00000000e-02,  1.00000000e+00,\n",
       "         2.02000000e+00,  3.08000000e+00,  4.18000000e+00,\n",
       "         5.32000000e+00,  6.50000000e+00,  7.72000000e+00,\n",
       "         8.98000000e+00,  1.02800000e+01,  1.16200000e+01,\n",
       "         1.30000000e+01,  1.44200000e+01,  1.58800000e+01,\n",
       "         1.73800000e+01,  1.89200000e+01,  2.05000000e+01,\n",
       "         2.21200000e+01,  2.37800000e+01,  2.54800000e+01,\n",
       "         2.72200000e+01,  2.90000000e+01,  3.08200000e+01,\n",
       "         3.26800000e+01,  3.45800000e+01,  3.65200000e+01,\n",
       "         3.85000000e+01,  4.05200000e+01,  4.25800000e+01,\n",
       "         4.46800000e+01,  4.68200000e+01,  4.90000000e+01,\n",
       "         5.12200000e+01,  5.34800000e+01,  5.57800000e+01,\n",
       "         5.81200000e+01,  6.05000000e+01,  6.29200000e+01,\n",
       "         6.53800000e+01,  6.78800000e+01,  7.04200000e+01,\n",
       "         7.30000000e+01,  7.56200000e+01,  7.82800000e+01,\n",
       "         8.09800000e+01,  8.37200000e+01,  8.65000000e+01,\n",
       "         8.93200000e+01,  9.21800000e+01,  9.50800000e+01,\n",
       "         9.80200000e+01,  1.01000000e+02],\n",
       "       [-1.00000000e+00,  9.80000000e-01,  2.92000000e+00,\n",
       "         4.82000000e+00,  6.68000000e+00,  8.50000000e+00,\n",
       "         1.02800000e+01,  1.20200000e+01,  1.37200000e+01,\n",
       "         1.53800000e+01,  1.70000000e+01,  1.85800000e+01,\n",
       "         2.01200000e+01,  2.16200000e+01,  2.30800000e+01,\n",
       "         2.45000000e+01,  2.58800000e+01,  2.72200000e+01,\n",
       "         2.85200000e+01,  2.97800000e+01,  3.10000000e+01,\n",
       "         3.21800000e+01,  3.33200000e+01,  3.44200000e+01,\n",
       "         3.54800000e+01,  3.65000000e+01,  3.74800000e+01,\n",
       "         3.84200000e+01,  3.93200000e+01,  4.01800000e+01,\n",
       "         4.10000000e+01,  4.17800000e+01,  4.25200000e+01,\n",
       "         4.32200000e+01,  4.38800000e+01,  4.45000000e+01,\n",
       "         4.50800000e+01,  4.56200000e+01,  4.61200000e+01,\n",
       "         4.65800000e+01,  4.70000000e+01,  4.73800000e+01,\n",
       "         4.77200000e+01,  4.80200000e+01,  4.82800000e+01,\n",
       "         4.85000000e+01,  4.86800000e+01,  4.88200000e+01,\n",
       "         4.89200000e+01,  4.89800000e+01,  4.90000000e+01,\n",
       "         4.89800000e+01,  4.89200000e+01,  4.88200000e+01,\n",
       "         4.86800000e+01,  4.85000000e+01,  4.82800000e+01,\n",
       "         4.80200000e+01,  4.77200000e+01,  4.73800000e+01,\n",
       "         4.70000000e+01,  4.65800000e+01,  4.61200000e+01,\n",
       "         4.56200000e+01,  4.50800000e+01,  4.45000000e+01,\n",
       "         4.38800000e+01,  4.32200000e+01,  4.25200000e+01,\n",
       "         4.17800000e+01,  4.10000000e+01,  4.01800000e+01,\n",
       "         3.93200000e+01,  3.84200000e+01,  3.74800000e+01,\n",
       "         3.65000000e+01,  3.54800000e+01,  3.44200000e+01,\n",
       "         3.33200000e+01,  3.21800000e+01,  3.10000000e+01,\n",
       "         2.97800000e+01,  2.85200000e+01,  2.72200000e+01,\n",
       "         2.58800000e+01,  2.45000000e+01,  2.30800000e+01,\n",
       "         2.16200000e+01,  2.01200000e+01,  1.85800000e+01,\n",
       "         1.70000000e+01,  1.53800000e+01,  1.37200000e+01,\n",
       "         1.20200000e+01,  1.02800000e+01,  8.50000000e+00,\n",
       "         6.68000000e+00,  4.82000000e+00,  2.92000000e+00,\n",
       "         9.80000000e-01, -1.00000000e+00],\n",
       "       [-1.00000000e+01, -9.60000000e+00, -9.20000000e+00,\n",
       "        -8.80000000e+00, -8.40000000e+00, -8.00000000e+00,\n",
       "        -7.60000000e+00, -7.20000000e+00, -6.80000000e+00,\n",
       "        -6.40000000e+00, -6.00000000e+00, -5.60000000e+00,\n",
       "        -5.20000000e+00, -4.80000000e+00, -4.40000000e+00,\n",
       "        -4.00000000e+00, -3.60000000e+00, -3.20000000e+00,\n",
       "        -2.80000000e+00, -2.40000000e+00, -2.00000000e+00,\n",
       "        -1.60000000e+00, -1.20000000e+00, -8.00000000e-01,\n",
       "        -4.00000000e-01,  1.77635684e-15,  4.00000000e-01,\n",
       "         8.00000000e-01,  1.20000000e+00,  1.60000000e+00,\n",
       "         2.00000000e+00,  2.40000000e+00,  2.80000000e+00,\n",
       "         3.20000000e+00,  3.60000000e+00,  4.00000000e+00,\n",
       "         4.40000000e+00,  4.80000000e+00,  5.20000000e+00,\n",
       "         5.60000000e+00,  6.00000000e+00,  6.40000000e+00,\n",
       "         6.80000000e+00,  7.20000000e+00,  7.60000000e+00,\n",
       "         8.00000000e+00,  8.40000000e+00,  8.80000000e+00,\n",
       "         9.20000000e+00,  9.60000000e+00,  1.00000000e+01,\n",
       "         1.04000000e+01,  1.08000000e+01,  1.12000000e+01,\n",
       "         1.16000000e+01,  1.20000000e+01,  1.24000000e+01,\n",
       "         1.28000000e+01,  1.32000000e+01,  1.36000000e+01,\n",
       "         1.40000000e+01,  1.44000000e+01,  1.48000000e+01,\n",
       "         1.52000000e+01,  1.56000000e+01,  1.60000000e+01,\n",
       "         1.64000000e+01,  1.68000000e+01,  1.72000000e+01,\n",
       "         1.76000000e+01,  1.80000000e+01,  1.84000000e+01,\n",
       "         1.88000000e+01,  1.92000000e+01,  1.96000000e+01,\n",
       "         2.00000000e+01,  2.04000000e+01,  2.08000000e+01,\n",
       "         2.12000000e+01,  2.16000000e+01,  2.20000000e+01,\n",
       "         2.24000000e+01,  2.28000000e+01,  2.32000000e+01,\n",
       "         2.36000000e+01,  2.40000000e+01,  2.44000000e+01,\n",
       "         2.48000000e+01,  2.52000000e+01,  2.56000000e+01,\n",
       "         2.60000000e+01,  2.64000000e+01,  2.68000000e+01,\n",
       "         2.72000000e+01,  2.76000000e+01,  2.80000000e+01,\n",
       "         2.84000000e+01,  2.88000000e+01,  2.92000000e+01,\n",
       "         2.96000000e+01,  3.00000000e+01],\n",
       "       [ 2.00000000e+01,  1.96000000e+01,  1.92000000e+01,\n",
       "         1.88000000e+01,  1.84000000e+01,  1.80000000e+01,\n",
       "         1.76000000e+01,  1.72000000e+01,  1.68000000e+01,\n",
       "         1.64000000e+01,  1.60000000e+01,  1.56000000e+01,\n",
       "         1.52000000e+01,  1.48000000e+01,  1.44000000e+01,\n",
       "         1.40000000e+01,  1.36000000e+01,  1.32000000e+01,\n",
       "         1.28000000e+01,  1.24000000e+01,  1.20000000e+01,\n",
       "         1.16000000e+01,  1.12000000e+01,  1.08000000e+01,\n",
       "         1.04000000e+01,  1.00000000e+01,  9.60000000e+00,\n",
       "         9.20000000e+00,  8.80000000e+00,  8.40000000e+00,\n",
       "         8.00000000e+00,  7.60000000e+00,  7.20000000e+00,\n",
       "         6.80000000e+00,  6.40000000e+00,  6.00000000e+00,\n",
       "         5.60000000e+00,  5.20000000e+00,  4.80000000e+00,\n",
       "         4.40000000e+00,  4.00000000e+00,  3.60000000e+00,\n",
       "         3.20000000e+00,  2.80000000e+00,  2.40000000e+00,\n",
       "         2.00000000e+00,  1.60000000e+00,  1.20000000e+00,\n",
       "         8.00000000e-01,  4.00000000e-01, -1.42108547e-14,\n",
       "        -4.00000000e-01, -8.00000000e-01, -1.20000000e+00,\n",
       "        -1.60000000e+00, -2.00000000e+00, -2.40000000e+00,\n",
       "        -2.80000000e+00, -3.20000000e+00, -3.60000000e+00,\n",
       "        -4.00000000e+00, -4.40000000e+00, -4.80000000e+00,\n",
       "        -5.20000000e+00, -5.60000000e+00, -6.00000000e+00,\n",
       "        -6.40000000e+00, -6.80000000e+00, -7.20000000e+00,\n",
       "        -7.60000000e+00, -8.00000000e+00, -8.40000000e+00,\n",
       "        -8.80000000e+00, -9.20000000e+00, -9.60000000e+00,\n",
       "        -1.00000000e+01, -1.04000000e+01, -1.08000000e+01,\n",
       "        -1.12000000e+01, -1.16000000e+01, -1.20000000e+01,\n",
       "        -1.24000000e+01, -1.28000000e+01, -1.32000000e+01,\n",
       "        -1.36000000e+01, -1.40000000e+01, -1.44000000e+01,\n",
       "        -1.48000000e+01, -1.52000000e+01, -1.56000000e+01,\n",
       "        -1.60000000e+01, -1.64000000e+01, -1.68000000e+01,\n",
       "        -1.72000000e+01, -1.76000000e+01, -1.80000000e+01,\n",
       "        -1.84000000e+01, -1.88000000e+01, -1.92000000e+01,\n",
       "        -1.96000000e+01, -2.00000000e+01]])"
      ]
     },
     "execution_count": 7,
     "metadata": {},
     "output_type": "execute_result"
    }
   ],
   "source": [
    "# \"solution.y\" accesses the solution to the ODE at the specified time instants - it is a 2D array\n",
    "# \"solution.y[i,j] is the value of the i'th dependent variable at the j'th instant in time\n",
    "solution.y"
   ]
  },
  {
   "cell_type": "code",
   "execution_count": 8,
   "metadata": {},
   "outputs": [],
   "source": [
    "# copy the time-dependent solution for each dependent variable to its own 1D array\n",
    "# this is not really necessary - it is done here to show how the solution is stored in \"solution.y\"\n",
    "x = solution.y[0,:]\n",
    "y = solution.y[1,:]\n",
    "u = solution.y[2,:]\n",
    "v = solution.y[3,:]"
   ]
  },
  {
   "cell_type": "code",
   "execution_count": 9,
   "metadata": {},
   "outputs": [
    {
     "data": {
      "image/png": "[encoded data removed]",
      "text/plain": [
       "<Figure size 432x288 with 1 Axes>"
      ]
     },
     "metadata": {
      "needs_background": "light"
     },
     "output_type": "display_data"
    }
   ],
   "source": [
    "# plot the results\n",
    "fig, ax = plt.subplots()\n",
    "ax.plot(solution.t, x, label='x', ls='solid',   color='red',   lw=2)\n",
    "#ax.plot(solution.t, solution.y[0,:], label='x', ls='solid',   color='red',   lw=2) # equivalent to the previous line\n",
    "ax.plot(solution.t, y, label='y', ls='dashed',  color='blue',  lw=2)\n",
    "#ax.plot(solution.t, solution.y[1,:], label='y', ls='dashed',  color='blue',  lw=2) # equivalent to the previous line\n",
    "ax.plot(solution.t, u, label='u', ls='dotted',  color='green', lw=2)\n",
    "#ax.plot(solution.t, solution.y[2,:], label='u', ls='dotted',  color='green', lw=2) # equivalent to the previous line\n",
    "ax.plot(solution.t, v, label='v', ls='dashdot', color='black', lw=2)\n",
    "#ax.plot(solution.t, solution.y[3,:], label='v', ls='dashdot', color='black', lw=2) # equivalent to the previous line\n",
    "ax.set(xlabel='Time (s)',\n",
    "       ylabel='x, y, u, v (m or m/s)',\n",
    "       title ='Time evolution of ODE system')\n",
    "ax.legend(handlelength=4,loc='best')\n",
    "ax.grid(True)\n",
    "fig.savefig(\"xyuv_vs_t.pdf\")"
   ]
  },
  {
   "cell_type": "markdown",
   "metadata": {},
   "source": [
    "Note that u and v are linear functions of time t, whereas x and y are quadratic functions of t.\n",
    "\n",
    "Next, we follow the model used for this simple linear problem to set up and solve the systems of nonlinear ODEs that correspond to the Zeldovich and extended Zeldovich NO mechanisms."
   ]
  },
  {
   "cell_type": "markdown",
   "metadata": {},
   "source": [
    "## 4. Solution of the nonlinear systems corresponding to the Zeldovich and extended Zeldovich mechanisms"
   ]
  },
  {
   "cell_type": "markdown",
   "metadata": {},
   "source": [
    "The system of ODEs was given in Section 1 above. As noted there, it is often appropriate (as a first approximation) to consider that NO formation begins after the main combustion event has completed, so that other species are already at their equilibrium concentrations and the temperature is at its final value. To do that here, we compute the equilibrium composition and temperature corresponding to a specified fuel-air reactant mixture using Cantera's `Solution()` object and `equilibrate()`, as we have done in previous tutorial Notebooks. Since $NO$ is one of the species considered in gri30.cti, this will include the equilibrium level of $NO$. However, we will not use the computed equilibrium value of $NO$ here, except to compare that eventually with the result from our time integration.\n",
    "\n",
    "We also note that the reaction mechanism in GRI-Mech 3.0 includes the three reversible reactions that are considered in the extended Zeldovich mechanism, as well as reactions corresponding to other $NO_x$ pathways. In subsequent tutorial Notebooks, we will use the reaction mechanism in gri30.cti (and other reaction mechanisms) to compute the time evolution of all species (not only those related to $NO$ formation) for specified combustion processes.  \n",
    "\n",
    "The values of the rate constants used in this section are the values given in the \"Oxides of Nitrogen Formation\" section of Chapter 5 of Turns 4th ed. There both forward rates and reverse rates are given for each reaction. As discussed in the previous tutorial Notebook and in Chapter 4, in principle one should calculate one of the two rates for each reaction (either the reverse rate or the forward rate) using an equilibrium constant, rather than specifying both rates directly. For the present purposes of illustrating how to integrate the ODEs, this is not an essential point, but it is one that should be kept in mind in interpreting the results.\n",
    "\n",
    "Finally, we note an important difference between the system of nonlinear ODEs here and the system of linear ODEs considered in Section 3 above. The system of nonlinear equations governing a chemically reacting system is often *stiff*: that is, it is characterized by a wide range of relevant time scales. Not all systems of nonlinear equations are stiff, but those that describe a system of chemical reactions in combustion problems often are stiff. Time scales of chemical reactions will be discussed in a later tutorial Notebook. For now, it is sufficient to note that special algorithms are required to successfully integrate systems of stiff ODEs. For that purpose, we will use an implicit multi-step method based on a backward differentiation formula: the \"BDF\" method in `solve_ivp()`. We also tighten the internal numerical tolerances used in the ODE solver (denoted as \"rtol\" and \"atol\") to values that are smaller than their default values, to ensure sufficiently accurate solutions."
   ]
  },
  {
   "cell_type": "code",
   "execution_count": 10,
   "metadata": {},
   "outputs": [
    {
     "name": "stdout",
     "output_type": "stream",
     "text": [
      "Running Cantera version: 2.4.0\n"
     ]
    }
   ],
   "source": [
    "# access modules\n",
    "# this time, we do import Cantera\n",
    "import cantera as ct\n",
    "import numpy as np\n",
    "import matplotlib.pyplot as plt\n",
    "from scipy.integrate import solve_ivp\n",
    "\n",
    "# report Cantera version\n",
    "print(\"Running Cantera version: {}\".format(ct.__version__))"
   ]
  },
  {
   "cell_type": "code",
   "execution_count": 11,
   "metadata": {},
   "outputs": [],
   "source": [
    "# define an ideal-gas mixture named \"gas\" using Cantera's \"Solution\" object and GRI-Mech 3.0\n",
    "gas = ct.Solution('gri30.cti')"
   ]
  },
  {
   "cell_type": "code",
   "execution_count": 12,
   "metadata": {},
   "outputs": [],
   "source": [
    "# define a function that computes the time-rate-of-change of the molar concentrations of seven species\n",
    "#   according the extended Zeldovich mechanism for given values of the six reaction rate constants\n",
    "#   (i.e., for a given temperature)\n",
    "\n",
    "def exZelNO(t,dvars,rates):  \n",
    "# unpack dvars into local values of species molar concentrations\n",
    "    O, N2, NO, N, O2, OH, H = dvars\n",
    "# unpack rates into local values of reaction rate constants\n",
    "    k1f, k1r, k2f, k2r, k3f, k3r = rates    \n",
    "# specify the array of right-hand sides for the seven ODEs - see Section 1 above\n",
    "    f = [ -O*N2*k1f + NO*N*k1r + N*O2*k2f - NO*O*k2r ,                         # O\n",
    "          -O*N2*k1f + NO*N*k1r ,                                               # N2\n",
    "           O*N2*k1f - NO*N*k1r + N*O2*k2f - NO*O*k2r + N*OH*k3f - NO*H*k3r ,   # NO\n",
    "           O*N2*k1f - NO*N*k1r - N*O2*k2f + NO*O*k2r - N*OH*k3f + NO*H*k3r ,   # N\n",
    "                                -N*O2*k2f + NO*O*k2r ,                         # O2\n",
    "                                                      -N*OH*k3f + NO*H*k3r ,   # OH\n",
    "                                                       N*OH*k3f - NO*H*k3r   ] # H    \n",
    "# return the array of right-hand sides to the calling function\n",
    "    return f"
   ]
  },
  {
   "cell_type": "code",
   "execution_count": 13,
   "metadata": {},
   "outputs": [],
   "source": [
    "# define a function that computes the time-rate-of-change of the molar concentrations of five species\n",
    "#   according the standard Zeldovich mechanism for given values of the four reaction rate constants\n",
    "#   (i.e., for a given temperature)\n",
    "\n",
    "def ZelNO(t,dvars,rates):   \n",
    "# unpack dvars into local values of species molar concentrations\n",
    "    O, N2, NO, N, O2 = dvars\n",
    "# unpack rates into local values of reaction rate constants\n",
    "    k1f, k1r, k2f, k2r = rates    \n",
    "# specify the array of right-hand sides for the five ODEs\n",
    "    f = [ -O*N2*k1f + NO*N*k1r + N*O2*k2f - NO*O*k2r ,                        # O\n",
    "          -O*N2*k1f + NO*N*k1r ,                                              # N2\n",
    "           O*N2*k1f - NO*N*k1r + N*O2*k2f - NO*O*k2r ,                        # NO\n",
    "           O*N2*k1f - NO*N*k1r - N*O2*k2f + NO*O*k2r ,                        # N\n",
    "                                -N*O2*k2f + NO*O*k2r   ]                      # O2    \n",
    "# return the array of right-hand sides to the calling function\n",
    "    return f"
   ]
  },
  {
   "cell_type": "code",
   "execution_count": 14,
   "metadata": {},
   "outputs": [
    {
     "name": "stdout",
     "output_type": "stream",
     "text": [
      "\n",
      "  gri30:\n",
      "\n",
      "       temperature             300  K\n",
      "          pressure          101325  Pa\n",
      "           density         1.19695  kg/m^3\n",
      "  mean mol. weight         29.4655  amu\n",
      "\n",
      "                          1 kg            1 kmol\n",
      "                       -----------      ------------\n",
      "          enthalpy     -1.4014e+05       -4.129e+06     J\n",
      "   internal energy     -2.2479e+05       -6.624e+06     J\n",
      "           entropy          6893.9        2.031e+05     J/K\n",
      "    Gibbs function     -2.2083e+06       -6.507e+07     J\n",
      " heat capacity c_p          1050.3        3.095e+04     J/K\n",
      " heat capacity c_v          768.14        2.263e+04     J/K\n",
      "\n",
      "                           X                 Y          Chem. Pot. / RT\n",
      "                     -------------     ------------     ------------\n",
      "                O2       0.201613         0.218947         -26.2751\n",
      "                N2       0.758065         0.720709         -23.3101\n",
      "              C3H8      0.0403226        0.0603447         -77.3418\n",
      "     [  +50 minor]              0                0\n",
      "\n"
     ]
    }
   ],
   "source": [
    "# compute the equilibrium product composition and temperature corresponding to a stoichiometric reactant mixture\n",
    "#   of propane and air at ambient pressure and temperature, for a constant-pressure adiabatic combustion process\n",
    "\n",
    "# stoichiometric propane-air reactants, with our usual approximation for air\n",
    "fuel = 'C3H8'\n",
    "air  = 'O2:1.0 , N2:3.76'\n",
    "phi  = 1.0\n",
    "\n",
    "gas.TP = 300. , ct.one_atm\n",
    "gas.set_equivalence_ratio(phi,fuel,air)\n",
    "\n",
    "# print the reactants thermochemical state\n",
    "gas()"
   ]
  },
  {
   "cell_type": "code",
   "execution_count": 15,
   "metadata": {},
   "outputs": [
    {
     "name": "stdout",
     "output_type": "stream",
     "text": [
      "\n",
      "  gri30:\n",
      "\n",
      "       temperature         2266.55  K\n",
      "          pressure          101325  Pa\n",
      "           density         0.15088  kg/m^3\n",
      "  mean mol. weight         28.0619  amu\n",
      "\n",
      "                          1 kg            1 kmol\n",
      "                       -----------      ------------\n",
      "          enthalpy     -1.4014e+05       -3.933e+06     J\n",
      "   internal energy      -8.117e+05       -2.278e+07     J\n",
      "           entropy          9704.1        2.723e+05     J/K\n",
      "    Gibbs function     -2.2135e+07       -6.211e+08     J\n",
      " heat capacity c_p          1477.3        4.145e+04     J/K\n",
      " heat capacity c_v            1181        3.314e+04     J/K\n",
      "\n",
      "                           X                 Y          Chem. Pot. / RT\n",
      "                     -------------     ------------     ------------\n",
      "                H2      0.0033024      0.000237234         -25.5977\n",
      "                 H    0.000466879      1.67696e-05         -12.7989\n",
      "                 O    0.000312885      0.000178391         -17.1756\n",
      "                O2     0.00589913       0.00672674         -34.3512\n",
      "                OH      0.0032231       0.00195341         -29.9745\n",
      "               H2O       0.148459        0.0953086         -42.7733\n",
      "               HO2     6.1471e-07       7.2303e-07         -47.1501\n",
      "              H2O2    4.65998e-08       5.6485e-08          -59.949\n",
      "                CO      0.0125414        0.0125184         -38.3821\n",
      "               CO2       0.102664         0.161009         -55.5577\n",
      "               HCO    1.23111e-09      1.27307e-09          -51.181\n",
      "              CH2O    1.68483e-11      1.80277e-11         -63.9799\n",
      "                 N     2.2993e-08      1.14767e-08         -13.8442\n",
      "                NH    3.23061e-09      1.72856e-09          -26.643\n",
      "               NH2    1.04471e-09      5.96503e-10         -39.4419\n",
      "               NH3    2.25396e-09      1.36791e-09         -52.2408\n",
      "               NNH    9.38283e-10      9.70366e-10         -40.4872\n",
      "                NO     0.00235256       0.00251556         -31.0198\n",
      "               NO2    4.61832e-07      7.57143e-07         -48.1954\n",
      "               N2O    1.25777e-07      1.97271e-07          -44.864\n",
      "               HNO     4.0782e-08      4.50724e-08         -43.8186\n",
      "                CN    1.44822e-13      1.34272e-13         -35.0507\n",
      "               HCN    2.93166e-11       2.8234e-11         -47.8495\n",
      "              HOCN    1.68134e-12      2.57786e-12         -65.0252\n",
      "              HNCO    5.20427e-10       7.9793e-10         -65.0252\n",
      "               NCO    2.78182e-11      4.16522e-11         -52.2263\n",
      "                N2       0.720777         0.719534         -27.6883\n",
      "     [  +26 minor]    4.60143e-16      4.60742e-16\n",
      "\n"
     ]
    }
   ],
   "source": [
    "# compute the corresponding constant-pressure adiabatic equilibrium composition and temperature\n",
    "gas.equilibrate('HP')\n",
    "\n",
    "# print the equilibrium products thermochemical state\n",
    "gas()"
   ]
  },
  {
   "cell_type": "code",
   "execution_count": 16,
   "metadata": {},
   "outputs": [
    {
     "data": {
      "text/plain": [
       "(2266.5547131631165,\n",
       " 1.682291111919023e-06,\n",
       " 0.0038754054598186334,\n",
       " 1.264904338284341e-05,\n",
       " 1.2362640668761456e-10,\n",
       " 3.171787705015069e-05,\n",
       " 1.732968353253071e-05,\n",
       " 2.5102722416765395e-06)"
      ]
     },
     "execution_count": 16,
     "metadata": {},
     "output_type": "execute_result"
    }
   ],
   "source": [
    "# save the equilibrium temperature and molar concentrations of species that are involved in the extended Zeldovich mechanism\n",
    "T_eq  = gas.T\n",
    "O_eq  = gas.concentrations[gas.species_index('O') ]\n",
    "N2_eq = gas.concentrations[gas.species_index('N2')]\n",
    "NO_eq = gas.concentrations[gas.species_index('NO')]\n",
    "N_eq  = gas.concentrations[gas.species_index('N') ]\n",
    "O2_eq = gas.concentrations[gas.species_index('O2')]\n",
    "OH_eq = gas.concentrations[gas.species_index('OH')]\n",
    "H_eq  = gas.concentrations[gas.species_index('H') ]\n",
    "\n",
    "# print equilibrium temperature and species molar concentrations\n",
    "T_eq, O_eq, N2_eq, NO_eq, N_eq, O2_eq, OH_eq, H_eq"
   ]
  },
  {
   "cell_type": "code",
   "execution_count": 17,
   "metadata": {},
   "outputs": [],
   "source": [
    "# define the time interval over which the solution is to be computed, \n",
    "#   and the number of (here, uniformly spaced) time intervals at which the solution is to be evaluated and stored\n",
    "t0   =  0.       # (s)\n",
    "tf   =  1.0      # (s)\n",
    "nt   = 101\n",
    "tarr = np.linspace(t0 , tf, nt) \n",
    "\n",
    "# define an array that contains the initial time and the final time\n",
    "tspan  = [t0,tf]\n",
    "\n",
    "# compute the forward and reverse rate constants for the three reversible reactions at the equilibrium temperature,\n",
    "#   using the rates given in Chapter 5 of Turns 4th ed.\n",
    "# since all three reactions are bimolecular in both directions, the units of each rate constant\n",
    "#   are m^3/kmol-s\n",
    "k1f = 1.8e+11     *np.exp(-38370./T_eq)\n",
    "k1r = 3.8e+10     *np.exp(  -425./T_eq)\n",
    "k2f = 1.8e+07*T_eq*np.exp( -4680./T_eq)\n",
    "k2r = 3.8e+06*T_eq*np.exp(-20820./T_eq)\n",
    "k3f = 7.1e+10     *np.exp(  -450./T_eq)\n",
    "k3r = 1.7e+11     *np.exp(-24560./T_eq)\n",
    "\n",
    "# compute the time evolution of NO molar concentration using the extended Zeldovich mechanism\n",
    "# here there are seven species and six rate constants\n",
    "# the initial conditions for all species except NO are taken from the equilibrium calculation;\n",
    "#   the NO molar concentration is initialized to zero\n",
    "# the six reaction rate constants are packed into an array named \"rates\"\n",
    "# the \"BDF\" solution algorithm is specified here - that is a method that is appropriate for stiff ODE systems\n",
    "# tighter values of the solution tolerances (compared to the default values) are also specified\n",
    "ics   = [O_eq, N2_eq, 0., N_eq, O2_eq, OH_eq, H_eq]\n",
    "rates = [k1f, k1r, k2f, k2r, k3f, k3r]\n",
    "soln_exZelNO = solve_ivp(lambda t,y:exZelNO(t,y,rates),tspan,ics,method='BDF',t_eval=tarr,rtol=1.e-12,atol=1.e-12)\n",
    "\n",
    "# compute the time evolution of NO molar concentration using the standard Zeldovich mechanism\n",
    "# here there are five species and four rate constants\n",
    "ics   = [O_eq, N2_eq, 0., N_eq, O2_eq]\n",
    "rates = [k1f, k1r, k2f, k2r]\n",
    "soln_ZelNO = solve_ivp(lambda t,y:ZelNO(t,y,rates),tspan,ics,method='BDF',t_eval=tarr,rtol=1.e-12,atol=1.e-12)"
   ]
  },
  {
   "cell_type": "code",
   "execution_count": 18,
   "metadata": {},
   "outputs": [
    {
     "data": {
      "image/png": "[encoded data removed]",
      "text/plain": [
       "<Figure size 432x288 with 1 Axes>"
      ]
     },
     "metadata": {
      "needs_background": "light"
     },
     "output_type": "display_data"
    }
   ],
   "source": [
    "# plot the time evolution of NO molar concentration according to two mechanisms\n",
    "fig, ax = plt.subplots()\n",
    "ax.plot(soln_exZelNO.t, soln_exZelNO.y[2,:], label='extended Zelovich', ls='solid',   color='red',   lw=2)\n",
    "ax.plot(soln_ZelNO.t  , soln_ZelNO.y  [2,:], label='Zeldovich',         ls='dashed',  color='blue',   lw=2)\n",
    "ax.set(xlabel='Time (s)',\n",
    "       ylabel='Molar concentration (kmol/m^3)',\n",
    "       title ='Time evolution of NO molar concentration')\n",
    "ax.legend(handlelength=4,loc='best')\n",
    "ax.grid(True)\n",
    "fig.savefig(\"NO_vs_t_2mechs.pdf\")"
   ]
  },
  {
   "cell_type": "code",
   "execution_count": 19,
   "metadata": {},
   "outputs": [
    {
     "data": {
      "text/plain": [
       "1.264904338284341e-05"
      ]
     },
     "execution_count": 19,
     "metadata": {},
     "output_type": "execute_result"
    }
   ],
   "source": [
    "# recall the equilibrium molar concentration of NO from \"equilibrate\"\n",
    "NO_eq  # (kmol/m^3)"
   ]
  },
  {
   "cell_type": "markdown",
   "metadata": {},
   "source": [
    "We could also look at the time evolution of the other species involved in the reaction mechanisms, but here we are interested mainly in $NO$ formation.\n",
    "\n",
    "For the present mixture composition, temperature, and pressure, $NO$ formation is slow compared to the times that are available in most practical combustion systems. We will discuss that further as we move through subsequent chapters in Turns 4th ed. and subsequent tutorial Notebooks.\n",
    "\n",
    "Initially, the time-rates-of-change of $NO$ molar concentration from the Zeldovich and the extended Zeldovich mechanisms are approximately the same. This changes after approximately 0.1 s, at which time the extended Zeldovich formation rate slows. The differences can be attributed to the third reversible reaction that is considered in extended Zeldovich, and to differences in the concentrations of the other species involved in the mechanisms away from their initial equilibrium values as the system evolves in time. To use either mechanism as it is really intended to be used, the NO mechanism should be coupled with a more complete reaction mechanism that includes other reactions by which the other species are generated and consumed (e.g., GRI-Mech 3.0). \n",
    "\n",
    "The steady-state (long-time) values of the molar concentrations from the two mechanisms appear to be approaching the equilibrium value. In principle, this should be the case. However, recall that here we have directly specified both the forward and the reverse reaction rates for each reversible reaction, rather than using an equilibrium constant to compute one of the two rates. Moreover, the implied values of the equilibrium constants (ratios of forward to reverse rates for each reaction) may not be consistent with the thermodynamic properties in gri30.cti. For these reasons, we should not expect to see perfect consistency between the steady-state values from our time integration and the equlibrium value from Cantera. Nevertheless, it is gratifying to see that the steady-state and equilibrium values appear to be close."
   ]
  },
  {
   "cell_type": "markdown",
   "metadata": {},
   "source": [
    "## 5. An often-used approximation for thermal NO"
   ]
  },
  {
   "cell_type": "markdown",
   "metadata": {},
   "source": [
    "Here the time evolution of $NO$ molar concentration is computed using the simplified expression given in Section 1. The approximations that have been made to get to this reduced form are given there, and in Chapters 4 and 5 of Turns 4th ed. All other species molar concentrations are assumed to remain constant at their respective equilibrium values."
   ]
  },
  {
   "cell_type": "code",
   "execution_count": 20,
   "metadata": {},
   "outputs": [],
   "source": [
    "# define a function that computes the time-rate-of-change of the molar concentration of NO\n",
    "#   according a simplified form of the Zeldovich mechanism for a given value of one reaction rate constant\n",
    "#   (i.e., for a given temperature)\n",
    "\n",
    "def simpZelNO(t,dvars,rate):   \n",
    "# unpack dvars into local values of species molar concentrations\n",
    "    O, N2, NO = dvars\n",
    "# here there is a single rate constant\n",
    "    k1f = rate   \n",
    "# specify the array of right-hand sides for the five ODEs\n",
    "    f = [ 0. ,              # O\n",
    "          0. ,              # N2\n",
    "          2.*O*N2*k1f  ]    # NO   \n",
    "# return the array of right-hand sides to the calling function\n",
    "    return f"
   ]
  },
  {
   "cell_type": "code",
   "execution_count": 21,
   "metadata": {},
   "outputs": [],
   "source": [
    "# compute the time evolution of NO molar concentration using the simplified Zeldovich mechanism\n",
    "# here there are three species and one rate constant\n",
    "ics  = [O_eq, N2_eq, 0.,]\n",
    "rate = k1f\n",
    "soln_simpZelNO = solve_ivp(lambda t,y:simpZelNO(t,y,rate),tspan,ics,method='BDF',t_eval=tarr,rtol=1.e-12,atol=1.e-12)"
   ]
  },
  {
   "cell_type": "code",
   "execution_count": 22,
   "metadata": {},
   "outputs": [
    {
     "data": {
      "image/png": "[encoded data removed]",
      "text/plain": [
       "<Figure size 432x288 with 1 Axes>"
      ]
     },
     "metadata": {
      "needs_background": "light"
     },
     "output_type": "display_data"
    }
   ],
   "source": [
    "# plot the results\n",
    "fig, ax = plt.subplots()\n",
    "ax.plot(soln_ZelNO.t, soln_exZelNO.y  [2,:], label='extended Zelovich',    ls='solid',   color='red',   lw=2)\n",
    "ax.plot(soln_ZelNO.t, soln_ZelNO.y    [2,:], label='Zeldovich',            ls='dashed',  color='blue',  lw=2)\n",
    "ax.plot(soln_ZelNO.t, soln_simpZelNO.y[2,:], label='simplified Zeldovich', ls='dashdot', color='green', lw=2)\n",
    "\n",
    "ax.set(xlabel='Time (s)',\n",
    "       ylabel='Molar concentration (kmol/m^3)',\n",
    "       title ='Time evolution of NO molar concentration')\n",
    "ax.legend(handlelength=4,loc='best')\n",
    "ax.grid(True)\n",
    "fig.savefig(\"NO_vs_t_3mechs.pdf\")"
   ]
  },
  {
   "cell_type": "code",
   "execution_count": 23,
   "metadata": {},
   "outputs": [
    {
     "data": {
      "image/png": "[encoded data removed]",
      "text/plain": [
       "<Figure size 432x288 with 1 Axes>"
      ]
     },
     "metadata": {
      "needs_background": "light"
     },
     "output_type": "display_data"
    }
   ],
   "source": [
    "# zoom in on early times\n",
    "fig, ax = plt.subplots()\n",
    "ax.plot(soln_ZelNO.t, soln_exZelNO.y  [2,:], label='extended Zelovich',    ls='solid',   color='red',   lw=2)\n",
    "ax.plot(soln_ZelNO.t, soln_ZelNO.y    [2,:], label='Zeldovich',            ls='dashed',  color='blue',  lw=2)\n",
    "ax.plot(soln_ZelNO.t, soln_simpZelNO.y[2,:], label='simplified Zeldovich', ls='dashdot', color='green', lw=2)\n",
    "\n",
    "ax.set(xlim=(0., 0.05),\n",
    "       ylim=(0.0, 0.000005),\n",
    "       xlabel='Time (s)',\n",
    "       ylabel='Molar concentration (kmol/m^3)',\n",
    "       title ='Time evolution of NO molar concentration')\n",
    "ax.legend(handlelength=4,loc='best')\n",
    "ax.grid(True)\n",
    "fig.savefig(\"NO_vs_t_3mechs_early.pdf\")"
   ]
  },
  {
   "cell_type": "markdown",
   "metadata": {},
   "source": [
    "All three mechanisms give essentially the same initial rate of NO formation.\n",
    "\n",
    "The molar concentration of $NO$ increases without bound by the simplified mechanism, since there is a single $NO$ formation reaction with no compensating $NO$ consumption reactions, and there is no consumption of the two species involved in the formation reaction ($O$ and $N_2$). The simplified version is really appropriate only for the initial stages of $NO$ formation."
   ]
  },
  {
   "cell_type": "markdown",
   "metadata": {},
   "source": [
    "## 6. \"Full\" NOx chemistry coupled with hydrocarbon-air combustion"
   ]
  },
  {
   "cell_type": "markdown",
   "metadata": {},
   "source": [
    "In subsequent tutorials, we will use the full reaction mechanism in GRI-Mech 3.0 (and other reaction mechanisms) to compute the time evolution of major and minor species (including $NO$) in constant-pressure and constant-volume combustion systems, and in other combustion systems. There we will use inbuilt Cantera modules to perform the time integration, rather than manually coding the full reaction set. The latter would be doable in principle, but it would be tedious in practice, for this 53-species, 325-reaction mechanism. As noted earlier, GRI-Mech 3.0 includes other $NO_x$-formation pathways beyond thermal NO."
   ]
  },
  {
   "cell_type": "code",
   "execution_count": null,
   "metadata": {},
   "outputs": [],
   "source": []
  }
 ],
 "metadata": {
  "kernelspec": {
   "display_name": "Python 3",
   "language": "python",
   "name": "python3"
  },
  "language_info": {
   "codemirror_mode": {
    "name": "ipython",
    "version": 3
   },
   "file_extension": ".py",
   "mimetype": "text/x-python",
   "name": "python",
   "nbconvert_exporter": "python",
   "pygments_lexer": "ipython3",
   "version": "3.7.6"
  }
 },
 "nbformat": 4,
 "nbformat_minor": 2
}
