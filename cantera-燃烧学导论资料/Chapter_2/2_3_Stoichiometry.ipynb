{
 "cells": [
  {
   "cell_type": "markdown",
   "metadata": {},
   "source": [
    "# Stoichiometry\n",
    "This Jupyter Notebook was written by Dan Haworth. It is intended as a tutorial to be used in parallel with Chapter 2 of the book \"An Introduction to Combustion: Concepts and Applications\" by Stephen R. Turns and Daniel C. Haworth. That book is referred to as \"Turns 4th ed.\" throughout this Notebook.\n",
    "\n",
    "This Notebook was last updated 6 February 2020.\n",
    "\n",
    "The objectives of this tutorial Notebook are to review stoichiometry basics, and to show how to perform basic stoichiometric manipulations using Cantera's `Solution()` object. This includes information on how to approximate the product composition for fuel-lean-to-stoichiometric hydrocarbon-air reactant mixtures. User-defined functions are introduced, and an example of a three-dimensional NumPy array is provided. We will define the gas mixture using gri30.cti.\n",
    "\n",
    "The reader should be familiar with the material in the previous Notebook (2_2_Specific_heats) before working through this Notebook."
   ]
  },
  {
   "cell_type": "markdown",
   "metadata": {},
   "source": [
    "## 1. Basic concepts and definitions"
   ]
  },
  {
   "cell_type": "markdown",
   "metadata": {},
   "source": [
    "Stoichiometry is the specification and/or calculation of the relative proportions of individual species (molecules) in the reactants and/or products of a global or elementary chemical reaction. Here we consider global reactions, where a specified reactant mixture (e.g., a fuel-air mixture) reacts to eventually form a specified product mixture (a mixture containing the combustion products), without regard to the detailed physical processes by which the chemical reactions occur. Those will be discussed later, in Chapters 4 and 5 of Turns 4th ed.\n",
    "\n",
    "The underlying physical principle that is invoked in stoichiometry is that elements (or atoms) are neither created nor destoyed in chemical reactions: they are only rearranged from one set of molecular structures to another set."
   ]
  },
  {
   "cell_type": "markdown",
   "metadata": {},
   "source": [
    "### 1.1 Reactant mixtures: Fuel and air"
   ]
  },
  {
   "cell_type": "markdown",
   "metadata": {},
   "source": [
    "The *reactants* are a specified mixture of species or molecules that will eventually react chemically to form a different mixture of species or molecules (the *products*). The reactants usually consist of one or more types of fuel molecules and an oxidizer. The fuel-oxidizer reactant mixtures that are of interest for present purposes are often hydrocarbon-air mixtures. In that case, the fuel molecule contains (at most) hydrogen and carbon atoms, and the oxidizer is ambient air. In this Notebook, we extend the fuel molecules that are considered to include those that contain oxygen atoms, in addition to carbon and hydrogen, and we adopt a simplified representation for air. However, it is emphasized that the general concept of element balances applies to any reacting system.\n",
    "\n",
    "We consider a generic fuel molecule that contains $x$ atoms of carbon, $y$ atoms of hydrogen, and $z$ atoms of oxygen. We could consider fuel molecules that also contain nitrogen, for example, but most of the fuels of interest for our purposes do not. Moreover, it would then be necessary to consider the nitrogen as participating chemically. As we will see shortly, as a first approximation we will often assume that the only nitrogen in the system is in the form of diatomic nitrogen molecules ($N_2$) from air, and that $N_2$ does not participate chemically: that is, all $N_2$ in the reactants remains as $N_2$ in the products.\n",
    "\n",
    "The oxidizer is taken to be air. Our standard approximation for the composition of air is that it is mixture of just two gases: 21% molecular oxygen ($O_2$) and 79% molecular nitrogen ($N_2$), on a volume (or molar) basis. Thus for every mole of $O_2$, there are 79/21 = 3.76 (to three significant figures) moles of $N_2$. Looking ahead, in our global reaction expressions we will normally write $ O_2 + 3.76 N_2 $ to represent the air in the reactants. That can be read as 1 mole of $O_2$ and 3.76 moles of $N_2$, or as 4.76 moles of air. The molecular weight of air is computed using the usual mixture formula, as 0.21 times the molecular weight of $O_2$ plus 0.79 times the molecular weight of $N_2$. Using approximate molecular weights for $O_2$ (32 kg/kmol) and for $N_2$ (28 kg/kmol), this gives $MW_{air} \\approx $ 28.85 kg/kmol. That is slightly lower than the value that is found in various sources as the molecular weight for air. In some applications, a more accurate approximation may be needed for the composition of air: for example, to account for moisture ($H_2O$) in the air. That is straightforward to do. However, unless stated otherwise, we will consider only $O_2$ and $N_2$ in the molar ratio of 1.0:3.76 to represent air throughout Turns 4th ed. and these tutorial Notebooks."
   ]
  },
  {
   "cell_type": "markdown",
   "metadata": {},
   "source": [
    "### 1.2 Stoichiometric reactants and complete combustion"
   ]
  },
  {
   "cell_type": "markdown",
   "metadata": {},
   "source": [
    "We first consider the case of *complete combustion* of a stoichiometric reactant mixture. In the context of the fuel-air reactant mixtures considered here, complete combustion means that all fuel carbon reacts to form product carbon dioxide ($CO_2$) and all fuel hydrogen reacts to form product water ($H_2O$). *Stoichiometric reactants* means that the proportions of fuel to air in the reactants are such that complete combustion can be realized (in principle, at least), with no leftover fuel and no leftover oxygen in the products. With our usual approximation for air, and assuming that the nitrogen does not participate chemically, we can write the global reaction as:\n",
    "\n",
    "$ \\ \\ \\ \\ \\ \\ \\ \\ \\ \\ \\ \\ $ $ C_x H_y O_z + a ( O_2 + 3.76 N _ 2 ) \\rightarrow b CO_2 + c H_2 O + d N_2 $\n",
    "\n",
    "Here the reaction has been written on the basis of one molar unit of fuel. That is not a requirement, but it is the convention that we will follow, in most cases. It is important to note that a global reaction of this kind is intended only to provide information about the relative proportions of the various reactant and product species that are involved. The global reaction can be multiplied through by any integer or noninteger constant, without changing its fundamental meaning.\n",
    "\n",
    "It remains to determine how much air is needed (the value of $a$), how much $CO_2$ is formed (the value of $b$), how much $H_2O$ is formed (the value of $c$), and how much $N_2$ remains (the value of $d$). These four unknowns can be found by performing element balances for the four elements in the system: carbon (C), hydrogen (H), oxygen (O), and nitrogen (N). Here the symbols C, H, O, and N are interpreted as representing their respective elements, regardless of which molecular species they are bound up in. "
   ]
  },
  {
   "cell_type": "markdown",
   "metadata": {},
   "source": [
    "### 1.3 Element balances"
   ]
  },
  {
   "cell_type": "markdown",
   "metadata": {},
   "source": [
    "To determine the values of the coefficients $a$, $b$, $c$, and $d$ in the above global reaction representing stoichiometric complete combustion, we equate the numbers of carbon, hydrogen, oxygen, and nitrogen atoms on the reactant side (left-hand side) and the product side (right-hand side). Since there are four elements in the system, the resulting four linear equations are sufficient to solve for the four unknown coefficients:\n",
    "\n",
    "$ \\ \\ \\ \\ \\ \\ \\ \\ \\ \\ \\ \\ $ C balance: $x = b$; H balance: $y = 2 c$; O balance: $z + 2a = 2b + c$; N balance: $2 \\cdot 3.76 a = 2 d$.\n",
    "\n",
    "Solving for $a$, $b$, $c$, and $d$ in terms of the known values of $x$, $y$, and $z$ (assuming that the fuel composition is given, which would normally be the case):\n",
    "\n",
    "$ \\ \\ \\ \\ \\ \\ \\ \\ \\ \\ \\ \\ $ $b = x$, $c = y/2$, $a = x + y/4 - z/2$, and $d = 3.76 \\cdot a = 3.76 \\cdot ( x + y/4 - z/2)$.\n",
    "\n",
    "The global balanced reaction for complete combustion of stoichiometric reactants is then:\n",
    "\n",
    "$ \\ \\ \\ \\ \\ \\ \\ \\ \\ \\ \\ \\ $ Complete combustion of stoichiometric reactants:\n",
    "$ C_x H_y O_z + (x+y/4-z/2)( O_2 + 3.76 N _ 2 ) \\rightarrow x CO_2 + y/2 H_2 O + 3.76 (x+y/4-z/2) N_2 $\n",
    "\n",
    "It can be seen that in the case of complete combustion, the carbon balance requires that for each molecule (or mole) of fuel that is burned, $x$ molecules (or moles) of $CO_2$ will be formed. And the hydrogen balance requires that for each molecule (or mole) of fuel that is burned, $y/2$ molecules (or moles) of $H_2O$ will be formed. The amount of air that is required is then determined by the oxygen balance, and can be written in terms of the known fuel composition (the values of $x$, $y$, and $z$), as shown. The amount of $N_2$ on the right-hand side is equal to the amount of $N_2$ on the left-hand side: nitrogen does not participate chemically here."
   ]
  },
  {
   "cell_type": "markdown",
   "metadata": {},
   "source": [
    "### 1.4 Nonstoichiometric reactants, equivalence ratio, and global reaction for fuel-lean-to-stoichiometric reactant mixtures"
   ]
  },
  {
   "cell_type": "markdown",
   "metadata": {},
   "source": [
    "The relative proportions of fuel and oxidizer in a reactant mixture can be specified in various ways. The one that we will use most often as we work through Turns 4th ed. is the *equivalence ratio*, which is donated as $\\Phi$. The equivalence ratio is defined such its value is equal to one when the fuel and oxidizer are in stoichiometric proportion (as in the example above). \n",
    "\n",
    "If in a fuel-air reactant mixture, there is more fuel than is needed for the given amount of air (or equivalently, too little air relative to the given amount of fuel), then complete combustion (in the sense defined above) is not possible. There is not enough $O_2$ from the air to convert all fuel carbon to $CO_2$ and all fuel hydrogen to $H_2O$. In this case, the reactants are said to be *fuel rich* and the value of $\\Phi$ is greater than one.\n",
    "\n",
    "On the other hand, if in a fuel-air reactant mixture there is less fuel than is needed for the given amount of air (or equivalently, too much air relative to the given amount of fuel), then complete combustion (in the sense defined above) is still possible. That is, there is enough $O_2$ from the air to convert all fuel carbon to $CO_2$ and all fuel hydrogen to $H_2O$. However, there will be leftover $O_2$ remaining in the products. In this case, the reactants are said to be *fuel lean* and the value of $\\Phi$ is less than one.\n",
    "\n",
    "To quantify this, the equivalence ratio $\\Phi$ is defined as the actual fuel-to-oxidizer mass ratio in the reactants (denoted as $(F/O)$), divided by the fuel-to-oxidizer mass ratio corresponding to stoichiometric reactants (denoted as $(F/O)_{stoich}$). For a fixed amount of fuel, then, $\\Phi$ is equal to the mass of oxidizer corresponding to a stoichiometric reactant mixture divided by the actual mass of oxidizer in the reactants: $ \\Phi = O_{stoich}/O $. Therefore, to adjust the left-hand side (reactant side) of the above global balanced reaction for cases where $ \\Phi \\ne 1 $, we can simply divide the coefficient multiplying the oxidizer (here, air) by $ \\Phi $ while keeping the amount of fuel unchanged:\n",
    "\n",
    "$ \\ \\ \\ \\ \\ \\ \\ \\ \\ \\ \\ \\ $ Reactant composition for any $\\Phi > 0 $: $ C_x H_y O_z + \\Phi ^ {-1} (x+y/4-z/2)( O_2 + 3.76 N _ 2 ) $\n",
    "\n",
    "It is emphasized that this is valid for fuel-lean, stoichiometric, or fuel-rich reactants. It does not depend on what we eventually assume about the product composition (the right-hand side), because the equivalence ratio is *defined* in terms of stoichiometric complete combustion.\n",
    "\n",
    "The right-hand side (product side) requires additional consideration. In the case of fuel-lean reactants ($ 0 < \\Phi < 1 $), a reasonable first approximation for some purposes is that all fuel carbon is still converted to $CO_2$ and all fuel hydrogen is still converted to $H_2O$ (complete combustion, in the sense defined earlier); however, it is necessary to allow for leftover $O_2$ in the products. The oxygen balance tells us how much $O_2$ remains in the products, and (by assumption) all of the $N_2$ in the reactants still appears in the products (nitrogen does not participate chemically). The resulting global balanced reaction is:\n",
    "\n",
    "$ \\ \\ \\ \\ \\ \\ \\ \\ \\ \\ \\ \\ $ $ 0 < \\phi \\le 1 $, complete combustion:\n",
    "$ \\ \\ \\ \\ \\ \\ \\ \\ \\ \\ \\ \\ $ $ C_x H_y O_z + \\phi ^ {-1} (x+y/4-z/2)( O_2 + 3.76 N _ 2 ) \\rightarrow x CO_2 + y/2 H_2 O + ( \\phi ^ {-1} - 1 ) (x+y/4-z/2) O_2 + 3.76 \\phi ^ {-1} (x+y/4-z/2) N_2 $\n",
    "\n",
    "It is straightforward to confirm that the element balances for C, H, O, and N are satisfied, and that this reduces to the earlier stoichiometric-reactants result for $ \\Phi = 1 $. Note that the amounts of $CO_2$ and $H_2O$ that are formed remain the same as in the case of stoichiometric reactants, since the amount of fuel (hence the amounts of C and of H in the system) was held fixed.\n",
    "\n",
    "Finally, it is emphasized that this global balanced reaction provides only a first approximation to the actual products of fuel-lean-to-stoichiometric combustion. In a real combustion system, many more product species may be present, even if the reactant fuel and oxidizer are in stoichiometric proportion. While element balances (the basis for stoichiometry) are almost always the first tool that we apply in the analysis of any combustion system, additional concepts and tools are needed to compute the actual product composition in a real combustion system. We will develop the necessary concepts and tools as we move through Chapter 2 and subsequent chapters of Turns 4th ed."
   ]
  },
  {
   "cell_type": "markdown",
   "metadata": {},
   "source": [
    "### 1.5 Other ways of specifying the relative proportions of fuel and oxidizer in a reactant mixture"
   ]
  },
  {
   "cell_type": "markdown",
   "metadata": {},
   "source": [
    "Different ways of specifying the relative proportions of fuel and oxidizer (here, air) are used in different combustion applications, following historical conventions that vary from one area of application to another. Four examples follow, and the relationship to the equivalence ratio $\\Phi$ is given for each. Here the oxidizer is taken to be air, in all cases, but the definitions extend directly to other oxidizers by replacing \"air\" with \"oxidizer\" in each definition.\n",
    "\n",
    "**Fuel-air ratio (F/A)**: The fuel-air ratio, or fuel-to-air ratio, is defined as the mass of fuel divided by the mass of air in the reactant mixture. It is important to note that this quanitity is defined on a mass basis, rather than on a molar basis. For the global reaction considered above, and using approximate molecular weights (12 mass units for each C atom, 1 mass unit for each H atom, 16 mass units for each O atom, and 14 mass units for each N atom):\n",
    "\n",
    "$$ (F/A) = \\frac{12 x + y + 16 z}{\\Phi ^ {-1} \\cdot ( x + y/4 - z/2 ) \\cdot (32 + 3.76 \\cdot 28 ) } = \\frac{\\Phi \\cdot (12 x + y + 16 z)}{( x + y/4 - z/2 ) \\cdot 137.28}\\ , $$\n",
    "\n",
    "which can then be further simplified. Recall that $ \\Phi $ was defined as the actual fuel-air ratio divided by the fuel-air ratio for stoichiometric reactants (that is, for $\\Phi=1$), and the formula is consistent with that definition.\n",
    "\n",
    "**Air-fuel ratio (A/F)**: The air-fuel ratio, or air-to-fuel ratio, is simply the inverse of the fuel-air ratio. Again, it is important to note that this quantity is defined on a mass basis, rather than on a molar basis.\n",
    "\n",
    "**Air-fuel equivalence ratio $ \\lambda $**: Recall that $ \\Phi $ was defined in terms of the fuel-air ratio. That is, $\\Phi$ is the fuel-air equivalence ratio. In some cases, the air-fuel equivalence ratio $\\lambda$ is used instead. The relationship between $\\Phi$ and $\\lambda$ is simply $ \\lambda = \\Phi ^ {-1} $. Thus fuel-lean (air-rich) mixtures correspond to $ \\lambda > 1 $, stoichiometric mixtures to $ \\lambda = 1 $, and fuel-rich (air-lean) mixtures to $ 0 < \\lambda < 1 $.\n",
    "\n",
    "**Excess air and percent stoichiometric air**: For fuel-lean combustion systems, the amount of air in the reactants that is in excess of that needed for stoichiometric complete combustion is sometimes expressed as a percentage of the amount of air required for stoichiometric complete combustion. For example, 20% excess air, or 120% stoichiometric air, both mean that there is 20% more air in the reactants compared to what is needed for stoichiometric complete combustion. The relationship between percent excess air and $ \\Phi $ is then: $ \\% \\ excess \\ air = 100 \\cdot ( \\Phi ^ {-1} - 1 ) $. The relationship between percent stoichiometric air and $ \\Phi $ is: $ \\% \\ stoichiometric \\ air = 100 \\cdot \\Phi ^ {-1} $.\n",
    "\n",
    "Another quantity that is related to the relative proportions of fuel and oxidizer, and that will be useful in the analysis of nonpremixed flames, is a *mixture fraction*. We defer the definition and discussion of mixture fraction until we get to Chapter 7 of Turns 4th ed."
   ]
  },
  {
   "cell_type": "markdown",
   "metadata": {},
   "source": [
    "### 1.6 Global reaction for fuel-rich reactant mixtures"
   ]
  },
  {
   "cell_type": "markdown",
   "metadata": {},
   "source": [
    "As noted earlier, the assumption of complete combustion can be a useful first approximation for fuel-lean and stoichiometric reactant mixtures. In that case, the only product species in the global reaction are $CO_2$, $H_2O$, $N_2$, and (in the case $ 0 < \\Phi < 1 $) $O_2$. An appropriate global reaction is given in Section 1.4 above. Since there are (at most) four product species, and there are (at most) four elements in the system (C, H, O, and N), element balances alone are sufficient to determine the product composition in this case. Again, it is emphasized that this is only a first approximation to the actual product composition in a real combustion system.\n",
    "\n",
    "In the case of fuel-rich reactant mixtures ($ \\Phi > 1 $), it is *not* reasonable to assume that all fuel carbon reacts to form $CO_2$ and that all fuel hydrogen reacts to form $H_2O$. In fact, this is simply not possible, as there is not enough $O_2$ in the reactants to accomplish that. As we will see, at a minimum it is usually necessary to allow for two carbon-containing species (e.g., $CO$ and $CO_2$) and two hydrogen-containing species (e.g., $H_2$ and $H_2O$) in the products of fuel-rich combustion. And as a first approximation, it is often reasonable to assume that all $O_2$ is consumed, so that there is no $O_2$ remaining in the products. In that case, there would be five product species (including the $N_2$), but there are still only four elements in the system. Therefore, element balances alone are generally insufficient to determine the product composition for fuel-rich combustion, even as a first approximation. Additional concepts and tools are needed, and those will be developed as we continue to work through Chapter 2 and subsequent chapters in Turns 4th ed. \n",
    "\n",
    "With this background on stoichiometry, now let's look at what stoichiometry tools are available in Cantera."
   ]
  },
  {
   "cell_type": "markdown",
   "metadata": {},
   "source": [
    "## 2. Manipulating stoichiometry in Cantera"
   ]
  },
  {
   "cell_type": "code",
   "execution_count": 1,
   "metadata": {},
   "outputs": [
    {
     "name": "stdout",
     "output_type": "stream",
     "text": [
      "Running Cantera version: 2.4.0\n"
     ]
    }
   ],
   "source": [
    "# access modules\n",
    "import cantera as ct\n",
    "import numpy as np\n",
    "import matplotlib.pyplot as plt\n",
    "\n",
    "# report Cantera version\n",
    "print(\"Running Cantera version: {}\".format(ct.__version__))"
   ]
  },
  {
   "cell_type": "code",
   "execution_count": 2,
   "metadata": {},
   "outputs": [
    {
     "data": {
      "text/plain": [
       "['DP',\n",
       " 'DPX',\n",
       " 'DPY',\n",
       " 'HP',\n",
       " 'HPX',\n",
       " 'HPY',\n",
       " 'ID',\n",
       " 'P',\n",
       " 'P_sat',\n",
       " 'SP',\n",
       " 'SPX',\n",
       " 'SPY',\n",
       " 'SV',\n",
       " 'SVX',\n",
       " 'SVY',\n",
       " 'T',\n",
       " 'TD',\n",
       " 'TDX',\n",
       " 'TDY',\n",
       " 'TP',\n",
       " 'TPX',\n",
       " 'TPY',\n",
       " 'T_sat',\n",
       " 'UV',\n",
       " 'UVX',\n",
       " 'UVY',\n",
       " 'X',\n",
       " 'Y',\n",
       " '__call__',\n",
       " '__class__',\n",
       " '__copy__',\n",
       " '__delattr__',\n",
       " '__dir__',\n",
       " '__doc__',\n",
       " '__eq__',\n",
       " '__format__',\n",
       " '__ge__',\n",
       " '__getattribute__',\n",
       " '__getitem__',\n",
       " '__gt__',\n",
       " '__hash__',\n",
       " '__init__',\n",
       " '__init_subclass__',\n",
       " '__le__',\n",
       " '__lt__',\n",
       " '__module__',\n",
       " '__ne__',\n",
       " '__new__',\n",
       " '__pyx_vtable__',\n",
       " '__reduce__',\n",
       " '__reduce_ex__',\n",
       " '__repr__',\n",
       " '__setattr__',\n",
       " '__sizeof__',\n",
       " '__slots__',\n",
       " '__str__',\n",
       " '__subclasshook__',\n",
       " '_check_kinetics_species_index',\n",
       " '_check_phase_index',\n",
       " '_check_reaction_index',\n",
       " '_full_states',\n",
       " '_init_cti_xml',\n",
       " '_init_parts',\n",
       " '_references',\n",
       " 'activities',\n",
       " 'activity_coefficients',\n",
       " 'add_reaction',\n",
       " 'add_species',\n",
       " 'atomic_weight',\n",
       " 'atomic_weights',\n",
       " 'basis',\n",
       " 'binary_diff_coeffs',\n",
       " 'chemical_potentials',\n",
       " 'concentrations',\n",
       " 'cp',\n",
       " 'cp_mass',\n",
       " 'cp_mole',\n",
       " 'creation_rates',\n",
       " 'critical_density',\n",
       " 'critical_pressure',\n",
       " 'critical_temperature',\n",
       " 'cv',\n",
       " 'cv_mass',\n",
       " 'cv_mole',\n",
       " 'delta_enthalpy',\n",
       " 'delta_entropy',\n",
       " 'delta_gibbs',\n",
       " 'delta_standard_enthalpy',\n",
       " 'delta_standard_entropy',\n",
       " 'delta_standard_gibbs',\n",
       " 'density',\n",
       " 'density_mass',\n",
       " 'density_mole',\n",
       " 'destruction_rates',\n",
       " 'electric_potential',\n",
       " 'electrical_conductivity',\n",
       " 'electrochemical_potentials',\n",
       " 'element_index',\n",
       " 'element_name',\n",
       " 'element_names',\n",
       " 'element_potentials',\n",
       " 'elemental_mass_fraction',\n",
       " 'elemental_mole_fraction',\n",
       " 'enthalpy_mass',\n",
       " 'enthalpy_mole',\n",
       " 'entropy_mass',\n",
       " 'entropy_mole',\n",
       " 'equilibrate',\n",
       " 'equilibrium_constants',\n",
       " 'forward_rate_constants',\n",
       " 'forward_rates_of_progress',\n",
       " 'g',\n",
       " 'get_equivalence_ratio',\n",
       " 'gibbs_mass',\n",
       " 'gibbs_mole',\n",
       " 'h',\n",
       " 'int_energy_mass',\n",
       " 'int_energy_mole',\n",
       " 'is_reversible',\n",
       " 'isothermal_compressibility',\n",
       " 'kinetics_species_index',\n",
       " 'mass_fraction_dict',\n",
       " 'max_temp',\n",
       " 'mean_molecular_weight',\n",
       " 'min_temp',\n",
       " 'mix_diff_coeffs',\n",
       " 'mix_diff_coeffs_mass',\n",
       " 'mix_diff_coeffs_mole',\n",
       " 'modify_reaction',\n",
       " 'modify_species',\n",
       " 'mole_fraction_dict',\n",
       " 'molecular_weights',\n",
       " 'multi_diff_coeffs',\n",
       " 'multiplier',\n",
       " 'n_atoms',\n",
       " 'n_elements',\n",
       " 'n_phases',\n",
       " 'n_reactions',\n",
       " 'n_selected_species',\n",
       " 'n_species',\n",
       " 'n_total_species',\n",
       " 'name',\n",
       " 'net_production_rates',\n",
       " 'net_rates_of_progress',\n",
       " 'partial_molar_cp',\n",
       " 'partial_molar_enthalpies',\n",
       " 'partial_molar_entropies',\n",
       " 'partial_molar_int_energies',\n",
       " 'partial_molar_volumes',\n",
       " 'product_stoich_coeff',\n",
       " 'product_stoich_coeffs',\n",
       " 'products',\n",
       " 'reactant_stoich_coeff',\n",
       " 'reactant_stoich_coeffs',\n",
       " 'reactants',\n",
       " 'reaction',\n",
       " 'reaction_equation',\n",
       " 'reaction_equations',\n",
       " 'reaction_phase_index',\n",
       " 'reaction_type',\n",
       " 'reactions',\n",
       " 'reference_pressure',\n",
       " 'report',\n",
       " 'reverse_rate_constants',\n",
       " 'reverse_rates_of_progress',\n",
       " 's',\n",
       " 'selected_species',\n",
       " 'set_equivalence_ratio',\n",
       " 'set_multiplier',\n",
       " 'set_unnormalized_mass_fractions',\n",
       " 'set_unnormalized_mole_fractions',\n",
       " 'species',\n",
       " 'species_index',\n",
       " 'species_name',\n",
       " 'species_names',\n",
       " 'species_viscosities',\n",
       " 'standard_cp_R',\n",
       " 'standard_enthalpies_RT',\n",
       " 'standard_entropies_R',\n",
       " 'standard_gibbs_RT',\n",
       " 'standard_int_energies_RT',\n",
       " 'state',\n",
       " 'thermal_conductivity',\n",
       " 'thermal_diff_coeffs',\n",
       " 'thermal_expansion_coeff',\n",
       " 'transport_model',\n",
       " 'u',\n",
       " 'v',\n",
       " 'viscosity',\n",
       " 'volume_mass',\n",
       " 'volume_mole']"
      ]
     },
     "execution_count": 2,
     "metadata": {},
     "output_type": "execute_result"
    }
   ],
   "source": [
    "# define an ideal-gas mixture named \"gas1\" using Cantera's \"Solution\" object and GRI-Mech 3.0\n",
    "gas1 = ct.Solution('gri30.cti')\n",
    "\n",
    "# show all available attributes of \"gas1\", for future reference\n",
    "dir(gas1)"
   ]
  },
  {
   "cell_type": "markdown",
   "metadata": {},
   "source": [
    "Scrolling down in the window above, you should spot a couple of familiar options for specifying or querying mixture composition (e.g., `X` for mole fractions, `Y` for mass fractions), and some others that look like they might be relevant for stoichiometry. Here will will focus on [`n_atoms()`](https://cantera.org/documentation/docs-2.4/sphinx/html/cython/thermo.html#cantera.ThermoPhase.n_atoms) (which we have worked with earlier) and [`set_equivalence_ratio()`](https://cantera.org/documentation/docs-2.4/sphinx/html/cython/thermo.html#cantera.ThermoPhase.set_equivalence_ratio)."
   ]
  },
  {
   "cell_type": "markdown",
   "metadata": {},
   "source": [
    "### 2.1 The `n_atoms()` attribute"
   ]
  },
  {
   "cell_type": "markdown",
   "metadata": {},
   "source": [
    "We have used `n_atoms()` in previous tutorial Notebooks. Here we will expand on what was done earlier.\n",
    "\n",
    "As a reminder, let's recall what `n_atoms()` does:"
   ]
  },
  {
   "cell_type": "code",
   "execution_count": 3,
   "metadata": {},
   "outputs": [
    {
     "name": "stdout",
     "output_type": "stream",
     "text": [
      "Help on method_descriptor:\n",
      "\n",
      "n_atoms(...)\n",
      "    ThermoPhase.n_atoms(self, species, element)\n",
      "    \n",
      "    Number of atoms of element *element* in species *species*. The element\n",
      "    and species may be specified by name or by index.\n",
      "    \n",
      "    >>> phase.n_atoms('CH4','H')\n",
      "    4\n",
      "\n"
     ]
    }
   ],
   "source": [
    "# get help for attribute \"n_atoms\"\n",
    "help(gas1.__class__.n_atoms)"
   ]
  },
  {
   "cell_type": "markdown",
   "metadata": {},
   "source": [
    "That is, for a specified species that is contained in ThermoPhase (here the ThermoPhase is named \"gas1\"), we can access the number of atoms of each element in any of the available species. The element and species can be specified either by name or by index number. The current thermochemical state of ThermoPhase (e.g., its pressure, temperature, and composition) does not affect the values reported by `n_atoms()`. \n",
    "\n",
    "For example, one of the 53 species in gas1 is CH3OH (methanol), which can be used as a fuel:"
   ]
  },
  {
   "cell_type": "code",
   "execution_count": 4,
   "metadata": {},
   "outputs": [
    {
     "data": {
      "text/plain": [
       "(1.0, 4.0, 1.0, 0.0)"
      ]
     },
     "execution_count": 4,
     "metadata": {},
     "output_type": "execute_result"
    }
   ],
   "source": [
    "# report the numbers of atoms of carbon, hydrogen, oxygen, and nitrogen in a molecule of methanol\n",
    "methanol = 'CH3OH'\n",
    "x = gas1.n_atoms(methanol,'C') # number of carbon atoms in a methanol molecule\n",
    "y = gas1.n_atoms(methanol,'H') # number of hydrogen atoms in a methanol molecule\n",
    "z = gas1.n_atoms(methanol,'O') # number of oxygen atoms in a methanol molecule\n",
    "w = gas1.n_atoms(methanol,'N') # number of nitrogen molecules in a methanol molecule\n",
    "\n",
    "x,y,z,w"
   ]
  },
  {
   "cell_type": "markdown",
   "metadata": {},
   "source": [
    "The chemical formula for methanol could be written as \"CH4O\", but it is conventionally written as \"CH3OH\" to emphasize its molecular structure. When accessing methanol here, the name must the one that is provided in gri30.cti, which is \"CH3OH\".\n",
    "\n",
    "For stoichiometric or fuel-lean reactants ($0 < \\Phi \\le 1$) and complete combustion (making the first approximation for product composition discussed above), we could write the four linear equations corresponding to the four element balances in Cantera, and solve those equations to find the relative proportions of fuel and air in the reactants and the relative proportions of CO2, H2O, O2, and N2 in the products. But it is (almost) as easy to do that manually; we will not explicitly code the element balance equations in Cantera.\n",
    "\n",
    "For our methanol-air example, let's compute the reactant species mole fractions and complete-combustion product species mole fractions for fuel-lean reactants at an equivalence ratio of 0.8, using the results from Section 1.4 above:"
   ]
  },
  {
   "cell_type": "code",
   "execution_count": 5,
   "metadata": {},
   "outputs": [
    {
     "data": {
      "text/plain": [
       "(0.10075566750629722, 0.18891687657430728, 0.7103274559193954)"
      ]
     },
     "execution_count": 5,
     "metadata": {},
     "output_type": "execute_result"
    }
   ],
   "source": [
    "# specify the fuel and equivalence ratio\n",
    "fuel = methanol  # \"methanol\" was defined above\n",
    "phi  = 0.8       # equivalence ratio\n",
    "\n",
    "# compute the numbers of reactant moles for each species, and the reactant species mole fractions\n",
    "# here we use a one-mole-of-fuel basis, as we did in the development above\n",
    "# this reactant composition calculation is valid for any positive value of phi: fuel-lean, stoichiometric, or fuel-rich\n",
    "# the values of x, y, and z for methanol were found above\n",
    "N_fuel_reac = 1.\n",
    "N_O2_reac   = ( x + y/4. - z/2. ) / phi\n",
    "N_N2_reac   = 3.76*N_O2_reac\n",
    "N_tot_reac  = N_fuel_reac + N_O2_reac + N_N2_reac\n",
    "\n",
    "X_fuel_reac = N_fuel_reac / N_tot_reac\n",
    "X_O2_reac   = N_O2_reac   / N_tot_reac\n",
    "X_N2_reac   = N_N2_reac   / N_tot_reac\n",
    "\n",
    "X_fuel_reac,X_O2_reac,X_N2_reac"
   ]
  },
  {
   "cell_type": "code",
   "execution_count": 6,
   "metadata": {},
   "outputs": [
    {
     "data": {
      "text/plain": [
       "(0.0959232613908873,\n",
       " 0.1918465227817746,\n",
       " 0.03597122302158274,\n",
       " 0.6762589928057554)"
      ]
     },
     "execution_count": 6,
     "metadata": {},
     "output_type": "execute_result"
    }
   ],
   "source": [
    "# compute the numbers of product moles for each species, and the product species mole fractions\n",
    "# this is, again, on a one-mole-of-fuel basis\n",
    "# this complete-combustion product composition calculation is appropriate only for values of phi between 0 and 1:\n",
    "#   that is, fuel-lean or stoichiometric reactants\n",
    "N_CO2_prod = x\n",
    "N_H2O_prod = y/2.\n",
    "N_O2_prod  = ( 1./phi - 1. )*( x + y/4. - z/2. )\n",
    "N_N2_prod  = 3.76*( x + y/4. - z/2. ) / phi\n",
    "N_tot_prod = N_CO2_prod + N_H2O_prod + N_O2_prod + N_N2_prod\n",
    "\n",
    "X_CO2_prod = N_CO2_prod / N_tot_prod\n",
    "X_H2O_prod = N_H2O_prod / N_tot_prod\n",
    "X_O2_prod  = N_O2_prod  / N_tot_prod\n",
    "X_N2_prod  = N_N2_prod  / N_tot_prod\n",
    "\n",
    "X_CO2_prod,X_H2O_prod,X_O2_prod,X_N2_prod"
   ]
  },
  {
   "cell_type": "markdown",
   "metadata": {},
   "source": [
    "Now the gas1 mixture composition can be set to correspond to either the reactant composition or the product composition. For present purposes of stoichiometry calculations, the mixture temperature and pressure don't matter."
   ]
  },
  {
   "cell_type": "code",
   "execution_count": 7,
   "metadata": {},
   "outputs": [
    {
     "name": "stdout",
     "output_type": "stream",
     "text": [
      "\n",
      "  gri30:\n",
      "\n",
      "       temperature             300  K\n",
      "          pressure         7001.82  Pa\n",
      "           density       0.0818891  kg/m^3\n",
      "  mean mol. weight         29.1723  amu\n",
      "\n",
      "                          1 kg            1 kmol\n",
      "                       -----------      ------------\n",
      "          enthalpy     -6.9203e+05       -2.019e+07     J\n",
      "   internal energy     -7.7753e+05       -2.268e+07     J\n",
      "           entropy            7813        2.279e+05     J/K\n",
      "    Gibbs function     -3.0359e+06       -8.856e+07     J\n",
      " heat capacity c_p          1050.8        3.065e+04     J/K\n",
      " heat capacity c_v          765.77        2.234e+04     J/K\n",
      "\n",
      "                           X                 Y          Chem. Pot. / RT\n",
      "                     -------------     ------------     ------------\n",
      "                O2       0.188917         0.207221         -29.0123\n",
      "             CH3OH       0.100756         0.110668         -114.368\n",
      "                N2       0.710327         0.682111         -26.0473\n",
      "     [  +50 minor]              0                0\n",
      "\n"
     ]
    }
   ],
   "source": [
    "# set gas1 to the reactant composition\n",
    "X_reactants = {'CH3OH':X_fuel_reac , 'O2':X_O2_reac , 'N2':X_N2_reac}\n",
    "gas1.X = X_reactants\n",
    "gas1()"
   ]
  },
  {
   "cell_type": "code",
   "execution_count": 8,
   "metadata": {},
   "outputs": [
    {
     "name": "stdout",
     "output_type": "stream",
     "text": [
      "\n",
      "  gri30:\n",
      "\n",
      "       temperature             300  K\n",
      "          pressure         7354.55  Pa\n",
      "           density       0.0818891  kg/m^3\n",
      "  mean mol. weight         27.7731  amu\n",
      "\n",
      "                          1 kg            1 kmol\n",
      "                       -----------      ------------\n",
      "          enthalpy     -3.0275e+06       -8.408e+07     J\n",
      "   internal energy     -3.1173e+06       -8.658e+07     J\n",
      "           entropy          8040.9        2.233e+05     J/K\n",
      "    Gibbs function     -5.4397e+06       -1.511e+08     J\n",
      " heat capacity c_p          1106.6        3.074e+04     J/K\n",
      " heat capacity c_v          807.28        2.242e+04     J/K\n",
      "\n",
      "                           X                 Y          Chem. Pot. / RT\n",
      "                     -------------     ------------     ------------\n",
      "                O2      0.0359712        0.0414442         -30.6218\n",
      "               H2O       0.191847         0.124443         -123.934\n",
      "               CO2      0.0959233         0.152002          -188.44\n",
      "                N2       0.676259         0.682111         -26.0473\n",
      "     [  +49 minor]              0                0\n",
      "\n"
     ]
    }
   ],
   "source": [
    "# set gas1 to the complete-combustion product composition\n",
    "X_products = {'CO2':X_CO2_prod , 'H2O':X_H2O_prod , 'O2':X_O2_prod , 'N2':X_N2_prod}\n",
    "gas1.X = X_products\n",
    "gas1()"
   ]
  },
  {
   "cell_type": "markdown",
   "metadata": {},
   "source": [
    "Now let's plot the product mole fractions as functions of equivalence ratio, for fuel-lean to stoichiometric reactants."
   ]
  },
  {
   "cell_type": "code",
   "execution_count": 9,
   "metadata": {},
   "outputs": [
    {
     "data": {
      "image/png": "[encoded data removed]",
      "text/plain": [
       "<Figure size 432x288 with 1 Axes>"
      ]
     },
     "metadata": {
      "needs_background": "light"
     },
     "output_type": "display_data"
    }
   ],
   "source": [
    "# specify the fuel and find the numbers of C, H, and O atoms in the fuel molecule\n",
    "# we already did this, but it is repeated here, for completeness\n",
    "fuel = 'CH3OH'\n",
    "x = gas1.n_atoms(fuel,'C')\n",
    "y = gas1.n_atoms(fuel,'H')\n",
    "z = gas1.n_atoms(fuel,'O')\n",
    "\n",
    "# specify the equivalence ratio range and increment for plotting\n",
    "# in practice, equivalence ratios as low as 0.3 may be of limited interest for most fuels burning with air,\n",
    "#   as the mixture is too lean to burn - we will discuss flammability limits in subsequent chapters\n",
    "phi_min = 0.3\n",
    "phi_max = 1.001 # 1.001 instead of 1.0 ensures that the value for phi=1.0 will be included\n",
    "phi_inc = 0.1\n",
    "\n",
    "# define and initialize arrays\n",
    "phis  = np.arange(phi_min,phi_max,phi_inc)\n",
    "nphi  = len(phis)\n",
    "XCO2s = np.zeros(nphi)\n",
    "XH2Os = np.zeros(nphi)\n",
    "XO2s  = np.zeros(nphi)\n",
    "XN2s  = np.zeros(nphi)\n",
    "\n",
    "# fill arrays\n",
    "for i , phi in enumerate(phis):   \n",
    "    N_CO2_prod = x\n",
    "    N_H2O_prod = y/2.\n",
    "    N_O2_prod  = ( 1./phi - 1. )*( x + y/4. - z/2. )\n",
    "    N_N2_prod  = 3.76*( x + y/4. - z/2. ) / phi\n",
    "    N_tot_prod = N_CO2_prod + N_H2O_prod + N_O2_prod + N_N2_prod\n",
    "    \n",
    "    XCO2s[i] = N_CO2_prod / N_tot_prod\n",
    "    XH2Os[i] = N_H2O_prod / N_tot_prod\n",
    "    XO2s[i]  = N_O2_prod  / N_tot_prod\n",
    "    XN2s[i]  = N_N2_prod  / N_tot_prod\n",
    "\n",
    "# generate plot\n",
    "fig, ax = plt.subplots()\n",
    "ax.plot(phis , XCO2s , label='CO2' , ls='solid'  , lw=2)\n",
    "ax.plot(phis , XH2Os , label='H2O' , ls='dashed' , lw=2)\n",
    "ax.plot(phis , XO2s  , label='O2'  , ls='dashdot', lw=2)\n",
    "ax.plot(phis , XN2s  , label='N2'  , ls='solid'  , lw=2)\n",
    "\n",
    "ax.set(xlabel='Equivalence ratio (-)',\n",
    "       ylabel='Species mole fraction (-)',\n",
    "       title ='Complete combustion product species mole fractions vs. equivalence ratio')\n",
    "ax.legend(handlelength=4,loc='best')\n",
    "ax.grid(True)\n",
    "fig.savefig(\"Xprod_vs_phi_methanol.pdf\")"
   ]
  },
  {
   "cell_type": "markdown",
   "metadata": {},
   "source": [
    "For a fixed number of fuel moles (one mole of fuel, here), the total number of product moles increases with decreasing equivalence ratio, as can be seen from the global balanced reaction in Section 1.4 above. Therefore, while the product stoichiometric coefficients for CO2 and H2O are independent of equivalence ratio (for a fixed amount of fuel in the reactants), the mole fractions of CO2 and H2O in the products decrease with decreasing equivalence ratio. In contrast, the mole fractions of O2 and N2 in the products increase with decreasing equivalence ratio.\n",
    "\n",
    "Note that the product mixture is dominated by N2. This is usually the case for the products of hydrocarbon-air reactant mixtures, and especially for fuel-lean reactant mixtures."
   ]
  },
  {
   "cell_type": "markdown",
   "metadata": {},
   "source": [
    "### 2.2 The `set_equivalence_ratio()` attribute"
   ]
  },
  {
   "cell_type": "markdown",
   "metadata": {},
   "source": [
    "Cantera's `Solution()` object provides a way to specify directly the equivalence ratio of a fuel-oxidizer reactant mixture: the attribute `set_equivalence_ratio()`.\n",
    "\n",
    "Let's see what `set_equivalence_ratio()` does:"
   ]
  },
  {
   "cell_type": "code",
   "execution_count": 10,
   "metadata": {},
   "outputs": [
    {
     "name": "stdout",
     "output_type": "stream",
     "text": [
      "Help on method_descriptor:\n",
      "\n",
      "set_equivalence_ratio(...)\n",
      "    ThermoPhase.set_equivalence_ratio(self, phi, fuel, oxidizer)\n",
      "    \n",
      "    Set the composition to a mixture of *fuel* and *oxidizer* at the\n",
      "    specified equivalence ratio *phi*, holding temperature and pressure\n",
      "    constant. Considers the oxidation of C to CO2, H to H2O and S to SO2.\n",
      "    Other elements are assumed not to participate in oxidation (i.e. N ends up as\n",
      "    N2)::\n",
      "    \n",
      "        >>> gas.set_equivalence_ratio(0.5, 'CH4', 'O2:1.0, N2:3.76')\n",
      "        >>> gas.mole_fraction_dict()\n",
      "        {'CH4': 0.049900199, 'N2': 0.750499001, 'O2': 0.199600798}\n",
      "    \n",
      "        >>> gas.set_equivalence_ratio(1.2, {'NH3;:0.8, 'CO':0.2}, 'O2:1.0')\n",
      "        >>> gas.mole_fraction_dict()\n",
      "        {'CO': 0.1263157894, 'NH3': 0.505263157, 'O2': 0.36842105}\n",
      "    \n",
      "    :param phi: Equivalence ratio\n",
      "    :param fuel:\n",
      "        Fuel species name or molar composition as string, array, or dict.\n",
      "    :param oxidizer:\n",
      "        Oxidizer species name or molar composition as a string, array, or\n",
      "        dict.\n",
      "\n"
     ]
    }
   ],
   "source": [
    "# get help for attribute \"set_equivalence_ratio\"\n",
    "help(gas1.__class__.set_equivalence_ratio)"
   ]
  },
  {
   "cell_type": "markdown",
   "metadata": {},
   "source": [
    "This provides a way to specify the composition of the reactants for a given fuel, oxidizer, and equivalence ratio. It allows for a more general fuel and oxidizer compared to what we have done up to this point, and it is consistent with our  calculations above for the case of a fuel molecule that contains at most C, H, and O atoms and with our standard approximation for air. The resulting reactant composition is valid for any value of the equivalence ratio $\\Phi$ greater than 0: fuel-lean, stoichiometric, or fuel-rich. As before, additional considerations are required to determine the corresponding product composition, especially for fuel-rich cases.\n",
    "\n",
    "We first confirm that `set_equivalence_ratio()` gives the same same result as our manual calculation for methanol-air at an equivalence ratio of 0.8: "
   ]
  },
  {
   "cell_type": "code",
   "execution_count": 11,
   "metadata": {},
   "outputs": [
    {
     "name": "stdout",
     "output_type": "stream",
     "text": [
      "\n",
      "  gri30:\n",
      "\n",
      "       temperature             300  K\n",
      "          pressure         7354.55  Pa\n",
      "           density       0.0860145  kg/m^3\n",
      "  mean mol. weight         29.1723  amu\n",
      "\n",
      "                          1 kg            1 kmol\n",
      "                       -----------      ------------\n",
      "          enthalpy     -6.9203e+05       -2.019e+07     J\n",
      "   internal energy     -7.7753e+05       -2.268e+07     J\n",
      "           entropy          7798.9        2.275e+05     J/K\n",
      "    Gibbs function     -3.0317e+06       -8.844e+07     J\n",
      " heat capacity c_p          1050.8        3.065e+04     J/K\n",
      " heat capacity c_v          765.77        2.234e+04     J/K\n",
      "\n",
      "                           X                 Y          Chem. Pot. / RT\n",
      "                     -------------     ------------     ------------\n",
      "                O2       0.188917         0.207221         -28.9632\n",
      "             CH3OH       0.100756         0.110668         -114.319\n",
      "                N2       0.710327         0.682111         -25.9982\n",
      "     [  +50 minor]              0                0\n",
      "\n"
     ]
    }
   ],
   "source": [
    "fuel = 'CH3OH'\n",
    "air  = 'O2:1.0 N2:3.76'\n",
    "phi  = 0.8\n",
    "\n",
    "gas1.set_equivalence_ratio(phi, fuel, air)\n",
    "gas1()"
   ]
  },
  {
   "cell_type": "markdown",
   "metadata": {},
   "source": [
    "The reactant composition is the same as that from our earlier manual calculation.\n",
    "\n",
    "Note that, in contrast to specifying the mixture composition using attributes `X` and `Y`, the mixture pressure and temperature do not change when `set_equivalence_ratio()` is used. Recall that when `X` or `Y` is used to change the composition, and nothing else is specified, the temperature and density remain constant as the composition changes. See the Notebook Getting_started_with_Cantera.\n",
    "\n",
    "Now let's generalize this to look at how product composition varies with equivalence ratio (for $ 0< \\Phi \\le 1 $) for several fuels, assuming complete combustion."
   ]
  },
  {
   "cell_type": "markdown",
   "metadata": {},
   "source": [
    "## 3. A first approximation for estimating product composition for $0 < \\Phi \\le 1$"
   ]
  },
  {
   "cell_type": "markdown",
   "metadata": {},
   "source": [
    "We define a function that calculates the product mole fractions for complete combustion of a fuel molecule that contains (at most) carbon, hydrogen, and oxygen atoms, burning with our standard approximation for air, and with nitrogen not participating chemically.\n",
    "\n",
    "A function is a convenient way to isolate a group of commands that will eventually be repeated multiple times, with variations in one or more parameters (the function arguments). As is the case for the built-in functions that we have used earlier, a user-defined function is called with appropriate argument values enclosed in parentheses. At the end of the function definition, the quantity or quantities returned by the function are specified."
   ]
  },
  {
   "cell_type": "code",
   "execution_count": 12,
   "metadata": {},
   "outputs": [],
   "source": [
    "# define a function that returns the mole fractions of the four product species CO2, H2O, O2, and N2\n",
    "#   for complete combustion of a specified fuel-air reactant mixture at a given equivalence ratio\n",
    "# the function is not executed when it is defined - it will be executed later, when it is called with appropriate\n",
    "#   values for its arguments\n",
    "# the function takes two arguments: the fuel type (denoted here as \"fuel\"), and the equivalence ratio\n",
    "#   (denoted here as \"phi\")\n",
    "# the product mole fractions are returned in an array that contains four values\n",
    "# the standard approximation is used for air\n",
    "# complete combustion is assumed - this is appropriate as a first approximation for stoichiometric\n",
    "#   or fuel-lean reactants\n",
    "# the ideal-gas mixture \"gas\" must be defined before calling this function\n",
    "# the specified fuel must be one that is available in \"gas\"\n",
    "# the specified fuel must contain (at most) C, H, and O atoms\n",
    "\n",
    "def products_complete(fuel,phi):\n",
    "\n",
    "# set the mixture thermochemical state to correspond to fuel-air reactants with the specified equivalence ratio\n",
    "# for the present purposes of computing the product composition, the temperature and pressure of the gas mixture\n",
    "#   don't matter\n",
    "    air = 'O2:1.0 N2:3.76'\n",
    "    gas.set_equivalence_ratio(phi, fuel, air)\n",
    "    \n",
    "# compute the product composition corresponding to complete combustion,\n",
    "#   allowing for left-over O2 for 0<phi<1\n",
    "\n",
    "# x, y, and z are the numbers of atoms of carbon, hydrogen, and oxygen in the fuel molecule, respectively\n",
    "    x = gas.n_atoms(fuel,'C')\n",
    "    y = gas.n_atoms(fuel,'H')\n",
    "    z = gas.n_atoms(fuel,'O')\n",
    "    \n",
    "# a is the number of moles of O2 needed per mole of fuel for complete combustion\n",
    "    a = x + y/4. - z/2.\n",
    "    \n",
    "# compute the numbers of product moles per mole of fuel, for complete combustion\n",
    "# these expressions are appropriate only for phi less than or equal to unity\n",
    "    N_CO2 = x\n",
    "    N_H2O = y/2.\n",
    "    N_O2  = ( 1./phi - 1.)*a\n",
    "    N_N2  = 3.76*a / phi\n",
    "    \n",
    "# compute the total number of product moles per mole of fuel\n",
    "    N_prod = N_CO2 + N_H2O + N_O2 + N_N2\n",
    "    \n",
    "# compute the product mole fractions\n",
    "    nprods     = 4\n",
    "    X_products = np.zeros(nprods)\n",
    "    \n",
    "# remember that arrays are indexed starting with an index value of 0\n",
    "    X_products[0] = N_CO2 / N_prod # CO2 product mole fraction\n",
    "    X_products[1] = N_H2O / N_prod # H2O product mole fraction\n",
    "    X_products[2] = N_O2  / N_prod # O2  product mole fraction\n",
    "    X_products[3] = N_N2  / N_prod # N2  product mole fraction\n",
    "\n",
    "# the function returns an array that contains the four product species mole fractions\n",
    "    return X_products\n",
    "\n",
    "# end of indentation indicates that this is the end of the function definition for \"products_complete\"\n",
    "# see below for how to call the function"
   ]
  },
  {
   "cell_type": "markdown",
   "metadata": {},
   "source": [
    "Next, we use the above function to compute and plot the complete-combustion product species as functions of equivalence ratio for several fuels."
   ]
  },
  {
   "cell_type": "code",
   "execution_count": 13,
   "metadata": {},
   "outputs": [
    {
     "data": {
      "text/plain": [
       "(5, 8, array([0.3, 0.4, 0.5, 0.6, 0.7, 0.8, 0.9, 1. ]))"
      ]
     },
     "execution_count": 13,
     "metadata": {},
     "output_type": "execute_result"
    }
   ],
   "source": [
    "# define \"gas\"\n",
    "gas = ct.Solution('gri30.cti')\n",
    "\n",
    "# list the fuels of interest - all must be gas-phase species that are available in gri30.cti,\n",
    "#   and all must be molecules that contain only carbon, hydrogen, and oxygen atoms\n",
    "# recall that you can see all 53 species available in gri30.cti using the \"species_names\" attribute\n",
    "# C2H2 is acetylene\n",
    "fuels  = ['H2', 'CH4', 'C3H8', 'C2H2', 'CH3OH']\n",
    "nfuels = len(fuels)\n",
    "\n",
    "# specify the range of equivalence ratios and the equivalence ratio increment for plotting\n",
    "phi_min = 0.3\n",
    "phi_max = 1.001 # 1.001 instead of 1.0 ensures that the value for phi=1.0 will be included\n",
    "phi_inc = 0.1\n",
    "\n",
    "# define and initialize the array of equivalence ratios\n",
    "phis  = np.arange(phi_min,phi_max,phi_inc)\n",
    "nphis = len(phis)\n",
    "\n",
    "# print the number of fuels considered, the number of equivalence ratios at which to compute the product composition,\n",
    "#   and the array of equivalence ratios\n",
    "nfuels , nphis , phis"
   ]
  },
  {
   "cell_type": "code",
   "execution_count": 14,
   "metadata": {},
   "outputs": [
    {
     "data": {
      "text/plain": [
       "array([[[0., 0., 0., 0.],\n",
       "        [0., 0., 0., 0.],\n",
       "        [0., 0., 0., 0.],\n",
       "        [0., 0., 0., 0.],\n",
       "        [0., 0., 0., 0.],\n",
       "        [0., 0., 0., 0.],\n",
       "        [0., 0., 0., 0.],\n",
       "        [0., 0., 0., 0.]],\n",
       "\n",
       "       [[0., 0., 0., 0.],\n",
       "        [0., 0., 0., 0.],\n",
       "        [0., 0., 0., 0.],\n",
       "        [0., 0., 0., 0.],\n",
       "        [0., 0., 0., 0.],\n",
       "        [0., 0., 0., 0.],\n",
       "        [0., 0., 0., 0.],\n",
       "        [0., 0., 0., 0.]],\n",
       "\n",
       "       [[0., 0., 0., 0.],\n",
       "        [0., 0., 0., 0.],\n",
       "        [0., 0., 0., 0.],\n",
       "        [0., 0., 0., 0.],\n",
       "        [0., 0., 0., 0.],\n",
       "        [0., 0., 0., 0.],\n",
       "        [0., 0., 0., 0.],\n",
       "        [0., 0., 0., 0.]],\n",
       "\n",
       "       [[0., 0., 0., 0.],\n",
       "        [0., 0., 0., 0.],\n",
       "        [0., 0., 0., 0.],\n",
       "        [0., 0., 0., 0.],\n",
       "        [0., 0., 0., 0.],\n",
       "        [0., 0., 0., 0.],\n",
       "        [0., 0., 0., 0.],\n",
       "        [0., 0., 0., 0.]],\n",
       "\n",
       "       [[0., 0., 0., 0.],\n",
       "        [0., 0., 0., 0.],\n",
       "        [0., 0., 0., 0.],\n",
       "        [0., 0., 0., 0.],\n",
       "        [0., 0., 0., 0.],\n",
       "        [0., 0., 0., 0.],\n",
       "        [0., 0., 0., 0.],\n",
       "        [0., 0., 0., 0.]]])"
      ]
     },
     "execution_count": 14,
     "metadata": {},
     "output_type": "execute_result"
    }
   ],
   "source": [
    "# define and initialize a 3D array to hold the computed product mole fractions\n",
    "#   for all fuels, all equivalence ratios, and all product species\n",
    "# there are four product species here\n",
    "nspec   = 4\n",
    "X_prods = np.zeros(shape=(nfuels,nphis,nspec))\n",
    "\n",
    "X_prods"
   ]
  },
  {
   "cell_type": "code",
   "execution_count": 15,
   "metadata": {},
   "outputs": [
    {
     "data": {
      "text/plain": [
       "array([[[ 0.00000000e+00,  1.18577075e-01,  1.38339921e-01,\n",
       "          7.43083004e-01],\n",
       "        [ 0.00000000e+00,  1.55038760e-01,  1.16279070e-01,\n",
       "          7.28682171e-01],\n",
       "        [ 0.00000000e+00,  1.90114068e-01,  9.50570342e-02,\n",
       "          7.14828897e-01],\n",
       "        [ 0.00000000e+00,  2.23880597e-01,  7.46268657e-02,\n",
       "          7.01492537e-01],\n",
       "        [ 0.00000000e+00,  2.56410256e-01,  5.49450549e-02,\n",
       "          6.88644689e-01],\n",
       "        [ 0.00000000e+00,  2.87769784e-01,  3.59712230e-02,\n",
       "          6.76258993e-01],\n",
       "        [ 0.00000000e+00,  3.18021201e-01,  1.76678445e-02,\n",
       "          6.64310954e-01],\n",
       "        [ 0.00000000e+00,  3.47222222e-01, -3.85494106e-17,\n",
       "          6.52777778e-01]],\n",
       "\n",
       "       [[ 3.05498982e-02,  6.10997963e-02,  1.42566191e-01,\n",
       "          7.65784114e-01],\n",
       "        [ 4.03225806e-02,  8.06451613e-02,  1.20967742e-01,\n",
       "          7.58064516e-01],\n",
       "        [ 4.99001996e-02,  9.98003992e-02,  9.98003992e-02,\n",
       "          7.50499002e-01],\n",
       "        [ 5.92885375e-02,  1.18577075e-01,  7.90513834e-02,\n",
       "          7.43083004e-01],\n",
       "        [ 6.84931507e-02,  1.36986301e-01,  5.87084149e-02,\n",
       "          7.35812133e-01],\n",
       "        [ 7.75193798e-02,  1.55038760e-01,  3.87596899e-02,\n",
       "          7.28682171e-01],\n",
       "        [ 8.63723608e-02,  1.72744722e-01,  1.91938580e-02,\n",
       "          7.21689060e-01],\n",
       "        [ 9.50570342e-02,  1.90114068e-01, -4.22138032e-17,\n",
       "          7.14828897e-01]],\n",
       "\n",
       "       [[ 3.68852459e-02,  4.91803279e-02,  1.43442623e-01,\n",
       "          7.70491803e-01],\n",
       "        [ 4.87804878e-02,  6.50406504e-02,  1.21951220e-01,\n",
       "          7.64227642e-01],\n",
       "        [ 6.04838710e-02,  8.06451613e-02,  1.00806452e-01,\n",
       "          7.58064516e-01],\n",
       "        [ 7.20000000e-02,  9.60000000e-02,  8.00000000e-02,\n",
       "          7.52000000e-01],\n",
       "        [ 8.33333333e-02,  1.11111111e-01,  5.95238095e-02,\n",
       "          7.46031746e-01],\n",
       "        [ 9.44881890e-02,  1.25984252e-01,  3.93700787e-02,\n",
       "          7.40157480e-01],\n",
       "        [ 1.05468750e-01,  1.40625000e-01,  1.95312500e-02,\n",
       "          7.34375000e-01],\n",
       "        [ 1.16279070e-01,  1.55038760e-01, -4.30319002e-17,\n",
       "          7.28682171e-01]],\n",
       "\n",
       "       [[ 4.97925311e-02,  2.48962656e-02,  1.45228216e-01,\n",
       "          7.80082988e-01],\n",
       "        [ 6.61157025e-02,  3.30578512e-02,  1.23966942e-01,\n",
       "          7.76859504e-01],\n",
       "        [ 8.23045267e-02,  4.11522634e-02,  1.02880658e-01,\n",
       "          7.73662551e-01],\n",
       "        [ 9.83606557e-02,  4.91803279e-02,  8.19672131e-02,\n",
       "          7.70491803e-01],\n",
       "        [ 1.14285714e-01,  5.71428571e-02,  6.12244898e-02,\n",
       "          7.67346939e-01],\n",
       "        [ 1.30081301e-01,  6.50406504e-02,  4.06504065e-02,\n",
       "          7.64227642e-01],\n",
       "        [ 1.45748988e-01,  7.28744939e-02,  2.02429150e-02,\n",
       "          7.61133603e-01],\n",
       "        [ 1.61290323e-01,  8.06451613e-02, -4.47670574e-17,\n",
       "          7.58064516e-01]],\n",
       "\n",
       "       [[ 3.95256917e-02,  7.90513834e-02,  1.38339921e-01,\n",
       "          7.43083004e-01],\n",
       "        [ 5.16795866e-02,  1.03359173e-01,  1.16279070e-01,\n",
       "          7.28682171e-01],\n",
       "        [ 6.33713561e-02,  1.26742712e-01,  9.50570342e-02,\n",
       "          7.14828897e-01],\n",
       "        [ 7.46268657e-02,  1.49253731e-01,  7.46268657e-02,\n",
       "          7.01492537e-01],\n",
       "        [ 8.54700855e-02,  1.70940171e-01,  5.49450549e-02,\n",
       "          6.88644689e-01],\n",
       "        [ 9.59232614e-02,  1.91846523e-01,  3.59712230e-02,\n",
       "          6.76258993e-01],\n",
       "        [ 1.06007067e-01,  2.12014134e-01,  1.76678445e-02,\n",
       "          6.64310954e-01],\n",
       "        [ 1.15740741e-01,  2.31481481e-01, -3.85494106e-17,\n",
       "          6.52777778e-01]]])"
      ]
     },
     "execution_count": 15,
     "metadata": {},
     "output_type": "execute_result"
    }
   ],
   "source": [
    "# there are more elegant ways to do this, but here we will use explicitly indexed nested loops, for clarity\n",
    "\n",
    "for i , fuel in enumerate(fuels):   # loop over fuels\n",
    "    for j , phi in enumerate(phis): # loop over equivalence ratios for each fuel     \n",
    "# compute the product mole fractions for fuel i at equivalence ratio j by calling the function \"products_complete\"\n",
    "#   defined earlier, for each fuel and for each equivalence ratio\n",
    "# recall that the third index of the array X_prods corresponds to the product species (four product species, here)\n",
    "        X_prods[i,j,:] = products_complete(fuel,phi)\n",
    "\n",
    "X_prods"
   ]
  },
  {
   "cell_type": "code",
   "execution_count": 16,
   "metadata": {},
   "outputs": [
    {
     "data": {
      "image/png": "[encoded data removed]",
      "text/plain": [
       "<Figure size 432x288 with 1 Axes>"
      ]
     },
     "metadata": {
      "needs_background": "light"
     },
     "output_type": "display_data"
    },
    {
     "data": {
      "image/png": "[encoded data removed]",
      "text/plain": [
       "<Figure size 432x288 with 1 Axes>"
      ]
     },
     "metadata": {
      "needs_background": "light"
     },
     "output_type": "display_data"
    },
    {
     "data": {
      "image/png": "[encoded data removed]",
      "text/plain": [
       "<Figure size 432x288 with 1 Axes>"
      ]
     },
     "metadata": {
      "needs_background": "light"
     },
     "output_type": "display_data"
    },
    {
     "data": {
      "image/png": "[encoded data removed]",
      "text/plain": [
       "<Figure size 432x288 with 1 Axes>"
      ]
     },
     "metadata": {
      "needs_background": "light"
     },
     "output_type": "display_data"
    },
    {
     "data": {
      "image/png": "[encoded data removed]",
      "text/plain": [
       "<Figure size 432x288 with 1 Axes>"
      ]
     },
     "metadata": {
      "needs_background": "light"
     },
     "output_type": "display_data"
    }
   ],
   "source": [
    "# plot the results, with one figure per fuel\n",
    "for i, fuel in enumerate(fuels):\n",
    "    \n",
    "    fig, ax = plt.subplots()\n",
    "    ax.plot(phis , X_prods[i,:,0] , label='CO2' , ls='solid'  , lw=2)\n",
    "    ax.plot(phis , X_prods[i,:,1] , label='H2O' , ls='dashed' , lw=2)\n",
    "    ax.plot(phis , X_prods[i,:,2] , label='O2'  , ls='dashdot', lw=2)\n",
    "    ax.plot(phis , X_prods[i,:,3] , label='N2'  , ls='solid'  , lw=2)\n",
    "    \n",
    "# note the use of basic string manipulation to set the plot title and the file name for each fuel\n",
    "    ptitle   = \"Complete combustion product species mole fractions vs. phi for \" + fuel\n",
    "    filename = \"Xprod_vs_phi_\" + fuel + \".pdf\"\n",
    "    \n",
    "    ax.set(xlabel='Equivalence ratio (-)',\n",
    "           ylabel='Species mole fraction (-)',\n",
    "           title = ptitle)\n",
    "    ax.legend(handlelength=4,loc='best')\n",
    "    ax.grid(True)\n",
    "    fig.savefig(filename)"
   ]
  },
  {
   "cell_type": "markdown",
   "metadata": {},
   "source": [
    "The amounts of CO2 and H2O that are formed for fuel-lean to stoichiometric reactants are determined (to a first approximation) by stoichiometric considerations (element balances) alone."
   ]
  },
  {
   "cell_type": "markdown",
   "metadata": {},
   "source": [
    "## 4. Fuel-rich combustion ($\\Phi>1$)"
   ]
  },
  {
   "cell_type": "markdown",
   "metadata": {},
   "source": [
    "As discussed earlier, considerations beyond element balances (stoichiometry) are needed even to make a reasonable first approximation for the product composition in the case of fuel-rich combustion. The necessary tools will be developed as we continue through Chapter 2 and subsequent chapters of Turns 4th ed."
   ]
  },
  {
   "cell_type": "code",
   "execution_count": null,
   "metadata": {},
   "outputs": [],
   "source": []
  }
 ],
 "metadata": {
  "kernelspec": {
   "display_name": "Python 3",
   "language": "python",
   "name": "python3"
  },
  "language_info": {
   "codemirror_mode": {
    "name": "ipython",
    "version": 3
   },
   "file_extension": ".py",
   "mimetype": "text/x-python",
   "name": "python",
   "nbconvert_exporter": "python",
   "pygments_lexer": "ipython3",
   "version": "3.7.6"
  }
 },
 "nbformat": 4,
 "nbformat_minor": 2
}
