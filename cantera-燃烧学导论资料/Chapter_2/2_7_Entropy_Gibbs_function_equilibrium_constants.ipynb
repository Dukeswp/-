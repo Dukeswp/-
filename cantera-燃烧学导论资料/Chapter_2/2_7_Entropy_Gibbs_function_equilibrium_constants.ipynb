{
 "cells": [
  {
   "cell_type": "markdown",
   "metadata": {},
   "source": [
    "# Entropy, Gibbs Function, and Equilibrium Constants\n",
    "This Jupyter Notebook was written by Dan Haworth. It is intended as a tutorial to be used in parallel with Chapter 2 of the book \"An Introduction to Combustion: Concepts and Applications\" by Stephen R. Turns and Daniel C. Haworth. That book is referred to as \"Turns 4th ed.\" throughout this Notebook.\n",
    "\n",
    "This Notebook was last updated 7 February 2020.\n",
    "\n",
    "The objectives of this tutorial Notebook are to show how to access and manipulate two additional thermodynamic properties (entropy and Gibbs function) using Cantera's `Solution()` object, and to introduce the concepts of chemical equilibrium and equilibrium constants. We also take a first look at chemical reactions. We will define the gas mixture using gri30.cti.\n",
    "\n",
    "The reader should be familiar with the material in the previous Notebook (2_6_Adiabatic_flame_temperature) before working through this Notebook."
   ]
  },
  {
   "cell_type": "markdown",
   "metadata": {},
   "source": [
    "## 1.Entropy"
   ]
  },
  {
   "cell_type": "markdown",
   "metadata": {},
   "source": [
    "Several attributes of Cantera's `Solution()` object pertain to entropy: [`s`](https://cantera.org/documentation/docs-2.4/sphinx/html/cython/thermo.html#cantera.ThermoPhase.s), [`entropy_mass`](https://cantera.org/documentation/docs-2.4/sphinx/html/cython/thermo.html#cantera.ThermoPhase.entropy_mass), [`entropy_mole`](https://cantera.org/documentation/docs-2.4/sphinx/html/cython/thermo.html#cantera.ThermoPhase.entropy_mole), [`partial_molar_entropies`](https://cantera.org/documentation/docs-2.4/sphinx/html/cython/thermo.html#cantera.ThermoPhase.partial_molar_entropies), and [`standard_entropies_R`](https://cantera.org/documentation/docs-2.4/sphinx/html/cython/thermo.html#cantera.ThermoPhase.standard_entropies_R).\n",
    "\n",
    "To see what each of these does, you can click on the links provided in the previous paragraph. We start (as usual) by defining an ideal-gas mixture using Cantera's `Solution()` object and GRI-Mech 3.0:"
   ]
  },
  {
   "cell_type": "code",
   "execution_count": 1,
   "metadata": {},
   "outputs": [
    {
     "name": "stdout",
     "output_type": "stream",
     "text": [
      "Running Cantera version: 2.4.0\n"
     ]
    }
   ],
   "source": [
    "# access modules\n",
    "import cantera as ct\n",
    "import numpy as np\n",
    "import matplotlib.pyplot as plt\n",
    "\n",
    "# report Cantera version\n",
    "print(\"Running Cantera version: {}\".format(ct.__version__))"
   ]
  },
  {
   "cell_type": "code",
   "execution_count": 2,
   "metadata": {},
   "outputs": [
    {
     "data": {
      "text/plain": [
       "['DP',\n",
       " 'DPX',\n",
       " 'DPY',\n",
       " 'HP',\n",
       " 'HPX',\n",
       " 'HPY',\n",
       " 'ID',\n",
       " 'P',\n",
       " 'P_sat',\n",
       " 'SP',\n",
       " 'SPX',\n",
       " 'SPY',\n",
       " 'SV',\n",
       " 'SVX',\n",
       " 'SVY',\n",
       " 'T',\n",
       " 'TD',\n",
       " 'TDX',\n",
       " 'TDY',\n",
       " 'TP',\n",
       " 'TPX',\n",
       " 'TPY',\n",
       " 'T_sat',\n",
       " 'UV',\n",
       " 'UVX',\n",
       " 'UVY',\n",
       " 'X',\n",
       " 'Y',\n",
       " '__call__',\n",
       " '__class__',\n",
       " '__copy__',\n",
       " '__delattr__',\n",
       " '__dir__',\n",
       " '__doc__',\n",
       " '__eq__',\n",
       " '__format__',\n",
       " '__ge__',\n",
       " '__getattribute__',\n",
       " '__getitem__',\n",
       " '__gt__',\n",
       " '__hash__',\n",
       " '__init__',\n",
       " '__init_subclass__',\n",
       " '__le__',\n",
       " '__lt__',\n",
       " '__module__',\n",
       " '__ne__',\n",
       " '__new__',\n",
       " '__pyx_vtable__',\n",
       " '__reduce__',\n",
       " '__reduce_ex__',\n",
       " '__repr__',\n",
       " '__setattr__',\n",
       " '__sizeof__',\n",
       " '__slots__',\n",
       " '__str__',\n",
       " '__subclasshook__',\n",
       " '_check_kinetics_species_index',\n",
       " '_check_phase_index',\n",
       " '_check_reaction_index',\n",
       " '_full_states',\n",
       " '_init_cti_xml',\n",
       " '_init_parts',\n",
       " '_references',\n",
       " 'activities',\n",
       " 'activity_coefficients',\n",
       " 'add_reaction',\n",
       " 'add_species',\n",
       " 'atomic_weight',\n",
       " 'atomic_weights',\n",
       " 'basis',\n",
       " 'binary_diff_coeffs',\n",
       " 'chemical_potentials',\n",
       " 'concentrations',\n",
       " 'cp',\n",
       " 'cp_mass',\n",
       " 'cp_mole',\n",
       " 'creation_rates',\n",
       " 'critical_density',\n",
       " 'critical_pressure',\n",
       " 'critical_temperature',\n",
       " 'cv',\n",
       " 'cv_mass',\n",
       " 'cv_mole',\n",
       " 'delta_enthalpy',\n",
       " 'delta_entropy',\n",
       " 'delta_gibbs',\n",
       " 'delta_standard_enthalpy',\n",
       " 'delta_standard_entropy',\n",
       " 'delta_standard_gibbs',\n",
       " 'density',\n",
       " 'density_mass',\n",
       " 'density_mole',\n",
       " 'destruction_rates',\n",
       " 'electric_potential',\n",
       " 'electrical_conductivity',\n",
       " 'electrochemical_potentials',\n",
       " 'element_index',\n",
       " 'element_name',\n",
       " 'element_names',\n",
       " 'element_potentials',\n",
       " 'elemental_mass_fraction',\n",
       " 'elemental_mole_fraction',\n",
       " 'enthalpy_mass',\n",
       " 'enthalpy_mole',\n",
       " 'entropy_mass',\n",
       " 'entropy_mole',\n",
       " 'equilibrate',\n",
       " 'equilibrium_constants',\n",
       " 'forward_rate_constants',\n",
       " 'forward_rates_of_progress',\n",
       " 'g',\n",
       " 'get_equivalence_ratio',\n",
       " 'gibbs_mass',\n",
       " 'gibbs_mole',\n",
       " 'h',\n",
       " 'int_energy_mass',\n",
       " 'int_energy_mole',\n",
       " 'is_reversible',\n",
       " 'isothermal_compressibility',\n",
       " 'kinetics_species_index',\n",
       " 'mass_fraction_dict',\n",
       " 'max_temp',\n",
       " 'mean_molecular_weight',\n",
       " 'min_temp',\n",
       " 'mix_diff_coeffs',\n",
       " 'mix_diff_coeffs_mass',\n",
       " 'mix_diff_coeffs_mole',\n",
       " 'modify_reaction',\n",
       " 'modify_species',\n",
       " 'mole_fraction_dict',\n",
       " 'molecular_weights',\n",
       " 'multi_diff_coeffs',\n",
       " 'multiplier',\n",
       " 'n_atoms',\n",
       " 'n_elements',\n",
       " 'n_phases',\n",
       " 'n_reactions',\n",
       " 'n_selected_species',\n",
       " 'n_species',\n",
       " 'n_total_species',\n",
       " 'name',\n",
       " 'net_production_rates',\n",
       " 'net_rates_of_progress',\n",
       " 'partial_molar_cp',\n",
       " 'partial_molar_enthalpies',\n",
       " 'partial_molar_entropies',\n",
       " 'partial_molar_int_energies',\n",
       " 'partial_molar_volumes',\n",
       " 'product_stoich_coeff',\n",
       " 'product_stoich_coeffs',\n",
       " 'products',\n",
       " 'reactant_stoich_coeff',\n",
       " 'reactant_stoich_coeffs',\n",
       " 'reactants',\n",
       " 'reaction',\n",
       " 'reaction_equation',\n",
       " 'reaction_equations',\n",
       " 'reaction_phase_index',\n",
       " 'reaction_type',\n",
       " 'reactions',\n",
       " 'reference_pressure',\n",
       " 'report',\n",
       " 'reverse_rate_constants',\n",
       " 'reverse_rates_of_progress',\n",
       " 's',\n",
       " 'selected_species',\n",
       " 'set_equivalence_ratio',\n",
       " 'set_multiplier',\n",
       " 'set_unnormalized_mass_fractions',\n",
       " 'set_unnormalized_mole_fractions',\n",
       " 'species',\n",
       " 'species_index',\n",
       " 'species_name',\n",
       " 'species_names',\n",
       " 'species_viscosities',\n",
       " 'standard_cp_R',\n",
       " 'standard_enthalpies_RT',\n",
       " 'standard_entropies_R',\n",
       " 'standard_gibbs_RT',\n",
       " 'standard_int_energies_RT',\n",
       " 'state',\n",
       " 'thermal_conductivity',\n",
       " 'thermal_diff_coeffs',\n",
       " 'thermal_expansion_coeff',\n",
       " 'transport_model',\n",
       " 'u',\n",
       " 'v',\n",
       " 'viscosity',\n",
       " 'volume_mass',\n",
       " 'volume_mole']"
      ]
     },
     "execution_count": 2,
     "metadata": {},
     "output_type": "execute_result"
    }
   ],
   "source": [
    "# define an ideal-gas mixture named \"gas1\" using Cantera's \"Solution()\" object and GRI-Mech 3.0\n",
    "gas1 = ct.Solution('gri30.cti')\n",
    "\n",
    "# list all available attributes of \"gas1\"\n",
    "dir(gas1)"
   ]
  },
  {
   "cell_type": "code",
   "execution_count": 3,
   "metadata": {},
   "outputs": [
    {
     "name": "stdout",
     "output_type": "stream",
     "text": [
      "Help on getset descriptor cantera._cantera.ThermoPhase.s:\n",
      "\n",
      "s\n",
      "    Entropy [J/kg/K or J/kmol/K] depending on `basis`.\n",
      "\n"
     ]
    }
   ],
   "source": [
    "help(gas1.__class__.s)"
   ]
  },
  {
   "cell_type": "code",
   "execution_count": 4,
   "metadata": {},
   "outputs": [
    {
     "name": "stdout",
     "output_type": "stream",
     "text": [
      "Help on getset descriptor cantera._cantera.ThermoPhase.entropy_mass:\n",
      "\n",
      "entropy_mass\n",
      "    Specific entropy [J/kg].\n",
      "\n"
     ]
    }
   ],
   "source": [
    "help(gas1.__class__.entropy_mass)"
   ]
  },
  {
   "cell_type": "code",
   "execution_count": 5,
   "metadata": {},
   "outputs": [
    {
     "name": "stdout",
     "output_type": "stream",
     "text": [
      "Help on getset descriptor cantera._cantera.ThermoPhase.entropy_mole:\n",
      "\n",
      "entropy_mole\n",
      "    Molar entropy [J/kmol/K].\n",
      "\n"
     ]
    }
   ],
   "source": [
    "help(gas1.__class__.entropy_mole)"
   ]
  },
  {
   "cell_type": "code",
   "execution_count": 6,
   "metadata": {},
   "outputs": [
    {
     "name": "stdout",
     "output_type": "stream",
     "text": [
      "Help on getset descriptor cantera._cantera.ThermoPhase.partial_molar_entropies:\n",
      "\n",
      "partial_molar_entropies\n",
      "    Array of species partial molar entropies [J/kmol/K].\n",
      "\n"
     ]
    }
   ],
   "source": [
    "help(gas1.__class__.partial_molar_entropies)"
   ]
  },
  {
   "cell_type": "markdown",
   "metadata": {},
   "source": [
    "These entropy attributes are analogous to the specific heat and enthalpy attributes that we saw earlier. \n",
    "\n",
    "It is important to bear in mind that the entropy of an individual ideal-gas species, or of an ideal-gas mixture, depends on pressure as well as on temperature. This is in contrast to specific heats, internal energy, and enthalpy, which depend only on temperature. "
   ]
  },
  {
   "cell_type": "markdown",
   "metadata": {},
   "source": [
    "The entropy values used in Cantera are consistent with those used in Turns 4th ed. To see that, we compute and plot the entropies (on a molar basis) for several species as functions of temperature, at a pressure of 1 atm (the reference pressure). Note that to do this, we set the mixture composition to correspond to 100% of each species of interest. That is because the individual species entropies depend on the mole fraction of the species in the mixture (i.e., on the species partial pressure, which is equal to the mixture pressure times the mole fraction of the species of interest)."
   ]
  },
  {
   "cell_type": "code",
   "execution_count": 7,
   "metadata": {},
   "outputs": [
    {
     "data": {
      "text/plain": [
       "5"
      ]
     },
     "execution_count": 7,
     "metadata": {},
     "output_type": "execute_result"
    }
   ],
   "source": [
    "# list the species of interest\n",
    "species = ['CO', 'CO2', 'H2', 'H', 'OH']\n",
    "\n",
    "# nspec is the number of species of interest\n",
    "nspec   = len(species)\n",
    "\n",
    "nspec"
   ]
  },
  {
   "cell_type": "code",
   "execution_count": 8,
   "metadata": {},
   "outputs": [],
   "source": [
    "# define temperatures at which species entropies are to be computed\n",
    "tmin = gas1.min_temp\n",
    "tmax = gas1.max_temp + 1.\n",
    "tinc = 100.\n",
    "tarr = np.arange(tmin,tmax,tinc)\n",
    "nt   = len(tarr)\n",
    "\n",
    "# define and initialize a 2D array to hold the temperature-dependent entropy for each species\n",
    "sarr = np.zeros(shape=(nspec,nt))\n",
    "\n",
    "for j , T in enumerate(tarr):            # loop over temperatures\n",
    "    gas1.TP = T,ct.one_atm\n",
    "    for i , speci in enumerate(species): # loop over species for each temperature\n",
    "        speci1    = speci + ':1.0'       # this character string is defined for use in the following line\n",
    "        gas1.TPX  = T,ct.one_atm,speci1  # set the mixture composition to be 100% of the current species of interest\n",
    "        sarr[i,j] = gas1.entropy_mole\n",
    "#        sarr[i,j] = gas1.partial_molar_entropies[gas1.species_index(species[i])]  # this gives the same result"
   ]
  },
  {
   "cell_type": "code",
   "execution_count": 9,
   "metadata": {},
   "outputs": [
    {
     "data": {
      "image/png": "[encoded data removed]",
      "text/plain": [
       "<Figure size 432x288 with 1 Axes>"
      ]
     },
     "metadata": {
      "needs_background": "light"
     },
     "output_type": "display_data"
    }
   ],
   "source": [
    "# plot the results\n",
    "fig, ax = plt.subplots()\n",
    "for i , speci in enumerate(species):\n",
    "    ax.plot(tarr, sarr[i,:]/1000., label=speci, lw=2) # divide by 1000. to give units of kJ/kmol-K\n",
    "    \n",
    "ax.set(xlabel='Temperature (K)',\n",
    "       ylabel='Entropy (kJ/kmol-K)',\n",
    "       title ='Entropy versus temperature at 1 atm')\n",
    "ax.legend(handlelength=4,loc='best')\n",
    "ax.grid(True)\n",
    "fig.savefig(\"s_vs_T_1atm.pdf\")"
   ]
  },
  {
   "cell_type": "markdown",
   "metadata": {},
   "source": [
    "These results are consistent with the values in the column headed $\\overline s ^ 0 (T)$ in Tables A.1-A.5 of Turns 4th ed. Results for other species can be obtained similarly. Recall that there are 53 species in \"gas1\"."
   ]
  },
  {
   "cell_type": "markdown",
   "metadata": {},
   "source": [
    "## 2. Gibbs function"
   ]
  },
  {
   "cell_type": "markdown",
   "metadata": {},
   "source": [
    "Several attributes of Cantera's `Solution()` object pertain to Gibbs function, or Gibbs free energy. In particular, the attributes [`g`](https://cantera.org/documentation/docs-2.4/sphinx/html/cython/thermo.html#cantera.ThermoPhase.g), [`gibbs_mass`](https://cantera.org/documentation/docs-2.4/sphinx/html/cython/thermo.html#cantera.ThermoPhase.gibbs_mass), and [`gibbs_mole`](https://cantera.org/documentation/docs-2.4/sphinx/html/cython/thermo.html#cantera.ThermoPhase.gibbs_mole) are analogous to `s`, `entropy_mass`, and `entropy_mole` above for entropy. Note, however, that there is no \"partial_molar_gibbs\" attribute for individual species Gibbs function values.\n",
    "\n",
    "Species Gibbs functions (on a molar basis) can be plotted as functions of temperature (for a fixed pressure) as was done above for species entropies:"
   ]
  },
  {
   "cell_type": "code",
   "execution_count": 10,
   "metadata": {},
   "outputs": [],
   "source": [
    "# list the species of interest\n",
    "species = ['CO', 'CO2', 'H2', 'H', 'OH']\n",
    "\n",
    "# nspec is the number of species of interest\n",
    "nspec   = len(species)"
   ]
  },
  {
   "cell_type": "code",
   "execution_count": 11,
   "metadata": {},
   "outputs": [],
   "source": [
    "# define temperatures at which species Gibbs free energies are to be computed\n",
    "tmin = gas1.min_temp\n",
    "tmax = gas1.max_temp + 1.\n",
    "tinc = 100.\n",
    "tarr = np.arange(tmin,tmax,tinc)\n",
    "nt   = len(tarr)\n",
    "\n",
    "# define and initialize a 2D array to hold the temperature-dependent Gibbs function for each species\n",
    "garr = np.zeros(shape=(nspec,nt))\n",
    "\n",
    "for j , T in enumerate(tarr):            # loop over temperatures\n",
    "    gas1.TP = T,ct.one_atm\n",
    "    for i , speci in enumerate(species): # loop over species for each temperature\n",
    "        speci1    = speci + ':1.0'       # this character string is defined for use in the following line\n",
    "        gas1.TPX  = T,ct.one_atm,speci1  # set the mixture composition to be 100% of the current species of interest\n",
    "        garr[i,j] = gas1.gibbs_mole"
   ]
  },
  {
   "cell_type": "code",
   "execution_count": 12,
   "metadata": {},
   "outputs": [
    {
     "data": {
      "image/png": "[encoded data removed]",
      "text/plain": [
       "<Figure size 432x288 with 1 Axes>"
      ]
     },
     "metadata": {
      "needs_background": "light"
     },
     "output_type": "display_data"
    }
   ],
   "source": [
    "# plot species Gibbs functions as functions of temperature\n",
    "fig, ax = plt.subplots()\n",
    "for i , speci in enumerate(species):\n",
    "    ax.plot(tarr, garr[i,:]/1000., label=speci, lw=2) # divide by 1000. to give units of kJ/kmol-K\n",
    "ax.set(xlabel='Temperature (K)',\n",
    "       ylabel='Gibbs function (kJ/kmol)',\n",
    "       title ='Gibbs function versus temperature at 1 atm')\n",
    "ax.legend(handlelength=4,loc='best')\n",
    "ax.grid(True)\n",
    "fig.savefig(\"g_vs_T_1atm.pdf\")"
   ]
  },
  {
   "cell_type": "markdown",
   "metadata": {},
   "source": [
    "These values cannot be compared directly with those given in Appendix A of Turns 4th ed. There a different Gibbs function quantity is tabulated: the Gibbs function of formation, denoted as $\\overline g ^ 0 _ f (T)$, which is defined in Chapter 2.\n",
    "\n",
    "It is readily confirmed that $ \\overline g = \\overline h - T \\overline s $ for each species:"
   ]
  },
  {
   "cell_type": "code",
   "execution_count": 13,
   "metadata": {},
   "outputs": [],
   "source": [
    "hmTsarr = np.zeros(shape=(nspec,nt))\n",
    "\n",
    "for j , T in enumerate(tarr):\n",
    "    gas1.TP = T,ct.one_atm\n",
    "    for i , speci in enumerate(species):\n",
    "        speci1       = speci + ':1.0'\n",
    "        gas1.TPX     = T,ct.one_atm,speci1\n",
    "        hmTsarr[i,j] = gas1.enthalpy_mole - T*gas1.entropy_mole # compute h-Ts (in molar units)"
   ]
  },
  {
   "cell_type": "code",
   "execution_count": 14,
   "metadata": {},
   "outputs": [
    {
     "data": {
      "image/png": "[encoded data removed]",
      "text/plain": [
       "<Figure size 432x288 with 1 Axes>"
      ]
     },
     "metadata": {
      "needs_background": "light"
     },
     "output_type": "display_data"
    }
   ],
   "source": [
    "fig, ax = plt.subplots()\n",
    "for i , speci in enumerate(species):\n",
    "    ax.plot(tarr, hmTsarr[i,:]/1000., label=speci, lw=2) # divide by 1000. to give units of kJ/kmol-K\n",
    "    \n",
    "ax.set(xlabel='Temperature (K)',\n",
    "       ylabel='h - Ts (kJ/kmol)',\n",
    "       title ='h - Ts versus temperature at 1 atm')\n",
    "ax.legend(handlelength=4,loc='best')\n",
    "ax.grid(True)\n",
    "fig.savefig(\"hmTs_vs_T_1atm.pdf\")"
   ]
  },
  {
   "cell_type": "markdown",
   "metadata": {},
   "source": [
    "The figure is identical to the previous figure."
   ]
  },
  {
   "cell_type": "markdown",
   "metadata": {},
   "source": [
    "## 3. Equilibrium constants"
   ]
  },
  {
   "cell_type": "markdown",
   "metadata": {},
   "source": [
    "In combustion, entropy and Gibbs function are used most often in the context of discussions of chemical equilibrium. The underlying physical concept is that, given sufficient time, a system (here, an ideal-gas mixture) will eventually reach a thermochemical state (e.g., mixture pressure and temperature, and species composition expressed in terms of partial pressures, mole fractions, mass fractions, or molar concentrations) that maximizes the entropy of the system, subject to the constraints. This final state is the equilibrium state of the mixture. The constraints are that the relative numbers of different elements in the system (e.g., the numbers of C, H, O, and N atoms) cannot change, plus some information on the thermodynamic process under which the system reaches equilibrium (e.g., equilibrium at a specified mixture pressure and temperature).\n",
    "\n",
    "In the particular case of a system that is brought to equilibrium at a specified mixture pressure and temperature, the equilibrium composition is the composition that minimizes the Gibbs free energy of the system, subject to the constraints on the relative proportions of the numbers of atoms each element in the system. The result can be expressed in terms of an equilibrium constant, as discussed in Chapter 2 of Turns 4th ed.\n",
    "\n",
    "The attribute [`equilibrium_constants`](https://cantera.org/documentation/docs-2.4/sphinx/html/cython/kinetics.html#cantera.Kinetics.equilibrium_constants) is relevant here:"
   ]
  },
  {
   "cell_type": "code",
   "execution_count": 15,
   "metadata": {},
   "outputs": [
    {
     "name": "stdout",
     "output_type": "stream",
     "text": [
      "Help on getset descriptor cantera._cantera.Kinetics.equilibrium_constants:\n",
      "\n",
      "equilibrium_constants\n",
      "    Equilibrium constants in concentration units for all reactions.\n",
      "\n"
     ]
    }
   ],
   "source": [
    "help(gas1.__class__.equilibrium_constants)"
   ]
  },
  {
   "cell_type": "markdown",
   "metadata": {},
   "source": [
    "Note that `equilibrium_constants` reports a molar-concentration equilibrium constant. The relationship between the molar-concentration equilibrium constant and the partial-pressure equilibrium constant introduced in Chapter 2 of Turns 4th ed. is discussed below. Also note that equilibrium constants are associated with chemical reactions, not with elements or species. In fact, the value of the equilibrium constant for a reaction is not really a constant at all; rather, it is a function of the mixture temperature, as discussed below.\n",
    "\n",
    "So at this point, we need to introduce some basic `Solution()` attributes that are related to chemical reactions. We will talk more about chemical reactions when we get to Chapters 4 and 5.\n",
    "\n",
    "Attribute [`n_reactions`](https://cantera.org/documentation/docs-2.4/sphinx/html/cython/kinetics.html#cantera.Kinetics.n_reactions) gives the number of chemical reactions in the reaction mechanism under consideration (here, GRI-Mech 3.0):"
   ]
  },
  {
   "cell_type": "code",
   "execution_count": 16,
   "metadata": {},
   "outputs": [
    {
     "data": {
      "text/plain": [
       "(53, 325)"
      ]
     },
     "execution_count": 16,
     "metadata": {},
     "output_type": "execute_result"
    }
   ],
   "source": [
    "# print the number of species and the number of reactions considered in GRI-Mech 3.0\n",
    "gas1.n_species, gas1.n_reactions"
   ]
  },
  {
   "cell_type": "markdown",
   "metadata": {},
   "source": [
    "As we have seen earlier, 53 species are considered in GRI-Mech 3.0. We now see that these 53 species are involved in 325 individual chemical reactions. Attributes [`reaction_equation()`](https://cantera.org/documentation/docs-2.4/sphinx/html/cython/kinetics.html#cantera.Kinetics.reaction_equation) and [`reaction_equations`](https://cantera.org/documentation/docs-2.4/sphinx/html/cython/kinetics.html#cantera.Kinetics.reaction_equations) provide information about chemical reactions:"
   ]
  },
  {
   "cell_type": "code",
   "execution_count": 17,
   "metadata": {},
   "outputs": [
    {
     "name": "stdout",
     "output_type": "stream",
     "text": [
      "Help on method_descriptor:\n",
      "\n",
      "reaction_equation(...)\n",
      "    Kinetics.reaction_equation(self, int i_reaction)\n",
      "    The equation for the specified reaction. See also `reaction_equations`.\n",
      "\n"
     ]
    }
   ],
   "source": [
    "help(gas1.__class__.reaction_equation)"
   ]
  },
  {
   "cell_type": "code",
   "execution_count": 18,
   "metadata": {},
   "outputs": [
    {
     "name": "stdout",
     "output_type": "stream",
     "text": [
      "Help on method_descriptor:\n",
      "\n",
      "reaction_equations(...)\n",
      "    Kinetics.reaction_equations(self, indices=None)\n",
      "    \n",
      "    Returns a list containing the reaction equation for all reactions in the\n",
      "    mechanism (if *indices* is unspecified) or the equations for each\n",
      "    reaction in the sequence *indices*. For example::\n",
      "    \n",
      "        >>> gas.reaction_equations()\n",
      "        ['2 O + M <=> O2 + M', 'O + H + M <=> OH + M', 'O + H2 <=> H + OH', ...]\n",
      "        >>> gas.reaction_equations([2,3])\n",
      "        ['O + H + M <=> OH + M', 'O + H2 <=> H + OH']\n",
      "    \n",
      "    See also `reaction_equation`.\n",
      "\n"
     ]
    }
   ],
   "source": [
    "help(gas1.__class__.reaction_equations)"
   ]
  },
  {
   "cell_type": "markdown",
   "metadata": {},
   "source": [
    "So, `reaction_equations` is a list of the individual reactions, and `reaction_equation()` is a function that returns the reaction equation corresponding to a given reaction index."
   ]
  },
  {
   "cell_type": "code",
   "execution_count": 19,
   "metadata": {},
   "outputs": [
    {
     "data": {
      "text/plain": [
       "['2 O + M <=> O2 + M',\n",
       " 'H + O + M <=> OH + M',\n",
       " 'H2 + O <=> H + OH',\n",
       " 'HO2 + O <=> O2 + OH',\n",
       " 'H2O2 + O <=> HO2 + OH',\n",
       " 'CH + O <=> CO + H',\n",
       " 'CH2 + O <=> H + HCO',\n",
       " 'CH2(S) + O <=> CO + H2',\n",
       " 'CH2(S) + O <=> H + HCO',\n",
       " 'CH3 + O <=> CH2O + H',\n",
       " 'CH4 + O <=> CH3 + OH',\n",
       " 'CO + O (+M) <=> CO2 (+M)',\n",
       " 'HCO + O <=> CO + OH',\n",
       " 'HCO + O <=> CO2 + H',\n",
       " 'CH2O + O <=> HCO + OH',\n",
       " 'CH2OH + O <=> CH2O + OH',\n",
       " 'CH3O + O <=> CH2O + OH',\n",
       " 'CH3OH + O <=> CH2OH + OH',\n",
       " 'CH3OH + O <=> CH3O + OH',\n",
       " 'C2H + O <=> CH + CO',\n",
       " 'C2H2 + O <=> H + HCCO',\n",
       " 'C2H2 + O <=> C2H + OH',\n",
       " 'C2H2 + O <=> CH2 + CO',\n",
       " 'C2H3 + O <=> CH2CO + H',\n",
       " 'C2H4 + O <=> CH3 + HCO',\n",
       " 'C2H5 + O <=> CH2O + CH3',\n",
       " 'C2H6 + O <=> C2H5 + OH',\n",
       " 'HCCO + O <=> 2 CO + H',\n",
       " 'CH2CO + O <=> HCCO + OH',\n",
       " 'CH2CO + O <=> CH2 + CO2',\n",
       " 'CO + O2 <=> CO2 + O',\n",
       " 'CH2O + O2 <=> HCO + HO2',\n",
       " 'H + O2 + M <=> HO2 + M',\n",
       " 'H + 2 O2 <=> HO2 + O2',\n",
       " 'H + H2O + O2 <=> H2O + HO2',\n",
       " 'H + N2 + O2 <=> HO2 + N2',\n",
       " 'AR + H + O2 <=> AR + HO2',\n",
       " 'H + O2 <=> O + OH',\n",
       " '2 H + M <=> H2 + M',\n",
       " '2 H + H2 <=> 2 H2',\n",
       " '2 H + H2O <=> H2 + H2O',\n",
       " 'CO2 + 2 H <=> CO2 + H2',\n",
       " 'H + OH + M <=> H2O + M',\n",
       " 'H + HO2 <=> H2O + O',\n",
       " 'H + HO2 <=> H2 + O2',\n",
       " 'H + HO2 <=> 2 OH',\n",
       " 'H + H2O2 <=> H2 + HO2',\n",
       " 'H + H2O2 <=> H2O + OH',\n",
       " 'CH + H <=> C + H2',\n",
       " 'CH2 + H (+M) <=> CH3 (+M)',\n",
       " 'CH2(S) + H <=> CH + H2',\n",
       " 'CH3 + H (+M) <=> CH4 (+M)',\n",
       " 'CH4 + H <=> CH3 + H2',\n",
       " 'H + HCO (+M) <=> CH2O (+M)',\n",
       " 'H + HCO <=> CO + H2',\n",
       " 'CH2O + H (+M) <=> CH2OH (+M)',\n",
       " 'CH2O + H (+M) <=> CH3O (+M)',\n",
       " 'CH2O + H <=> H2 + HCO',\n",
       " 'CH2OH + H (+M) <=> CH3OH (+M)',\n",
       " 'CH2OH + H <=> CH2O + H2',\n",
       " 'CH2OH + H <=> CH3 + OH',\n",
       " 'CH2OH + H <=> CH2(S) + H2O',\n",
       " 'CH3O + H (+M) <=> CH3OH (+M)',\n",
       " 'CH3O + H <=> CH2OH + H',\n",
       " 'CH3O + H <=> CH2O + H2',\n",
       " 'CH3O + H <=> CH3 + OH',\n",
       " 'CH3O + H <=> CH2(S) + H2O',\n",
       " 'CH3OH + H <=> CH2OH + H2',\n",
       " 'CH3OH + H <=> CH3O + H2',\n",
       " 'C2H + H (+M) <=> C2H2 (+M)',\n",
       " 'C2H2 + H (+M) <=> C2H3 (+M)',\n",
       " 'C2H3 + H (+M) <=> C2H4 (+M)',\n",
       " 'C2H3 + H <=> C2H2 + H2',\n",
       " 'C2H4 + H (+M) <=> C2H5 (+M)',\n",
       " 'C2H4 + H <=> C2H3 + H2',\n",
       " 'C2H5 + H (+M) <=> C2H6 (+M)',\n",
       " 'C2H5 + H <=> C2H4 + H2',\n",
       " 'C2H6 + H <=> C2H5 + H2',\n",
       " 'H + HCCO <=> CH2(S) + CO',\n",
       " 'CH2CO + H <=> H2 + HCCO',\n",
       " 'CH2CO + H <=> CH3 + CO',\n",
       " 'H + HCCOH <=> CH2CO + H',\n",
       " 'CO + H2 (+M) <=> CH2O (+M)',\n",
       " 'H2 + OH <=> H + H2O',\n",
       " '2 OH (+M) <=> H2O2 (+M)',\n",
       " '2 OH <=> H2O + O',\n",
       " 'HO2 + OH <=> H2O + O2',\n",
       " 'H2O2 + OH <=> H2O + HO2',\n",
       " 'H2O2 + OH <=> H2O + HO2',\n",
       " 'C + OH <=> CO + H',\n",
       " 'CH + OH <=> H + HCO',\n",
       " 'CH2 + OH <=> CH2O + H',\n",
       " 'CH2 + OH <=> CH + H2O',\n",
       " 'CH2(S) + OH <=> CH2O + H',\n",
       " 'CH3 + OH (+M) <=> CH3OH (+M)',\n",
       " 'CH3 + OH <=> CH2 + H2O',\n",
       " 'CH3 + OH <=> CH2(S) + H2O',\n",
       " 'CH4 + OH <=> CH3 + H2O',\n",
       " 'CO + OH <=> CO2 + H',\n",
       " 'HCO + OH <=> CO + H2O',\n",
       " 'CH2O + OH <=> H2O + HCO',\n",
       " 'CH2OH + OH <=> CH2O + H2O',\n",
       " 'CH3O + OH <=> CH2O + H2O',\n",
       " 'CH3OH + OH <=> CH2OH + H2O',\n",
       " 'CH3OH + OH <=> CH3O + H2O',\n",
       " 'C2H + OH <=> H + HCCO',\n",
       " 'C2H2 + OH <=> CH2CO + H',\n",
       " 'C2H2 + OH <=> H + HCCOH',\n",
       " 'C2H2 + OH <=> C2H + H2O',\n",
       " 'C2H2 + OH <=> CH3 + CO',\n",
       " 'C2H3 + OH <=> C2H2 + H2O',\n",
       " 'C2H4 + OH <=> C2H3 + H2O',\n",
       " 'C2H6 + OH <=> C2H5 + H2O',\n",
       " 'CH2CO + OH <=> H2O + HCCO',\n",
       " '2 HO2 <=> H2O2 + O2',\n",
       " '2 HO2 <=> H2O2 + O2',\n",
       " 'CH2 + HO2 <=> CH2O + OH',\n",
       " 'CH3 + HO2 <=> CH4 + O2',\n",
       " 'CH3 + HO2 <=> CH3O + OH',\n",
       " 'CO + HO2 <=> CO2 + OH',\n",
       " 'CH2O + HO2 <=> H2O2 + HCO',\n",
       " 'C + O2 <=> CO + O',\n",
       " 'C + CH2 <=> C2H + H',\n",
       " 'C + CH3 <=> C2H2 + H',\n",
       " 'CH + O2 <=> HCO + O',\n",
       " 'CH + H2 <=> CH2 + H',\n",
       " 'CH + H2O <=> CH2O + H',\n",
       " 'CH + CH2 <=> C2H2 + H',\n",
       " 'CH + CH3 <=> C2H3 + H',\n",
       " 'CH + CH4 <=> C2H4 + H',\n",
       " 'CH + CO (+M) <=> HCCO (+M)',\n",
       " 'CH + CO2 <=> CO + HCO',\n",
       " 'CH + CH2O <=> CH2CO + H',\n",
       " 'CH + HCCO <=> C2H2 + CO',\n",
       " 'CH2 + O2 => CO + H + OH',\n",
       " 'CH2 + H2 <=> CH3 + H',\n",
       " '2 CH2 <=> C2H2 + H2',\n",
       " 'CH2 + CH3 <=> C2H4 + H',\n",
       " 'CH2 + CH4 <=> 2 CH3',\n",
       " 'CH2 + CO (+M) <=> CH2CO (+M)',\n",
       " 'CH2 + HCCO <=> C2H3 + CO',\n",
       " 'CH2(S) + N2 <=> CH2 + N2',\n",
       " 'AR + CH2(S) <=> AR + CH2',\n",
       " 'CH2(S) + O2 <=> CO + H + OH',\n",
       " 'CH2(S) + O2 <=> CO + H2O',\n",
       " 'CH2(S) + H2 <=> CH3 + H',\n",
       " 'CH2(S) + H2O (+M) <=> CH3OH (+M)',\n",
       " 'CH2(S) + H2O <=> CH2 + H2O',\n",
       " 'CH2(S) + CH3 <=> C2H4 + H',\n",
       " 'CH2(S) + CH4 <=> 2 CH3',\n",
       " 'CH2(S) + CO <=> CH2 + CO',\n",
       " 'CH2(S) + CO2 <=> CH2 + CO2',\n",
       " 'CH2(S) + CO2 <=> CH2O + CO',\n",
       " 'C2H6 + CH2(S) <=> C2H5 + CH3',\n",
       " 'CH3 + O2 <=> CH3O + O',\n",
       " 'CH3 + O2 <=> CH2O + OH',\n",
       " 'CH3 + H2O2 <=> CH4 + HO2',\n",
       " '2 CH3 (+M) <=> C2H6 (+M)',\n",
       " '2 CH3 <=> C2H5 + H',\n",
       " 'CH3 + HCO <=> CH4 + CO',\n",
       " 'CH2O + CH3 <=> CH4 + HCO',\n",
       " 'CH3 + CH3OH <=> CH2OH + CH4',\n",
       " 'CH3 + CH3OH <=> CH3O + CH4',\n",
       " 'C2H4 + CH3 <=> C2H3 + CH4',\n",
       " 'C2H6 + CH3 <=> C2H5 + CH4',\n",
       " 'H2O + HCO <=> CO + H + H2O',\n",
       " 'HCO + M <=> CO + H + M',\n",
       " 'HCO + O2 <=> CO + HO2',\n",
       " 'CH2OH + O2 <=> CH2O + HO2',\n",
       " 'CH3O + O2 <=> CH2O + HO2',\n",
       " 'C2H + O2 <=> CO + HCO',\n",
       " 'C2H + H2 <=> C2H2 + H',\n",
       " 'C2H3 + O2 <=> CH2O + HCO',\n",
       " 'C2H4 (+M) <=> C2H2 + H2 (+M)',\n",
       " 'C2H5 + O2 <=> C2H4 + HO2',\n",
       " 'HCCO + O2 <=> 2 CO + OH',\n",
       " '2 HCCO <=> C2H2 + 2 CO',\n",
       " 'N + NO <=> N2 + O',\n",
       " 'N + O2 <=> NO + O',\n",
       " 'N + OH <=> H + NO',\n",
       " 'N2O + O <=> N2 + O2',\n",
       " 'N2O + O <=> 2 NO',\n",
       " 'H + N2O <=> N2 + OH',\n",
       " 'N2O + OH <=> HO2 + N2',\n",
       " 'N2O (+M) <=> N2 + O (+M)',\n",
       " 'HO2 + NO <=> NO2 + OH',\n",
       " 'NO + O + M <=> NO2 + M',\n",
       " 'NO2 + O <=> NO + O2',\n",
       " 'H + NO2 <=> NO + OH',\n",
       " 'NH + O <=> H + NO',\n",
       " 'H + NH <=> H2 + N',\n",
       " 'NH + OH <=> H + HNO',\n",
       " 'NH + OH <=> H2O + N',\n",
       " 'NH + O2 <=> HNO + O',\n",
       " 'NH + O2 <=> NO + OH',\n",
       " 'N + NH <=> H + N2',\n",
       " 'H2O + NH <=> H2 + HNO',\n",
       " 'NH + NO <=> N2 + OH',\n",
       " 'NH + NO <=> H + N2O',\n",
       " 'NH2 + O <=> NH + OH',\n",
       " 'NH2 + O <=> H + HNO',\n",
       " 'H + NH2 <=> H2 + NH',\n",
       " 'NH2 + OH <=> H2O + NH',\n",
       " 'NNH <=> H + N2',\n",
       " 'NNH + M <=> H + N2 + M',\n",
       " 'NNH + O2 <=> HO2 + N2',\n",
       " 'NNH + O <=> N2 + OH',\n",
       " 'NNH + O <=> NH + NO',\n",
       " 'H + NNH <=> H2 + N2',\n",
       " 'NNH + OH <=> H2O + N2',\n",
       " 'CH3 + NNH <=> CH4 + N2',\n",
       " 'H + NO + M <=> HNO + M',\n",
       " 'HNO + O <=> NO + OH',\n",
       " 'H + HNO <=> H2 + NO',\n",
       " 'HNO + OH <=> H2O + NO',\n",
       " 'HNO + O2 <=> HO2 + NO',\n",
       " 'CN + O <=> CO + N',\n",
       " 'CN + OH <=> H + NCO',\n",
       " 'CN + H2O <=> HCN + OH',\n",
       " 'CN + O2 <=> NCO + O',\n",
       " 'CN + H2 <=> H + HCN',\n",
       " 'NCO + O <=> CO + NO',\n",
       " 'H + NCO <=> CO + NH',\n",
       " 'NCO + OH <=> CO + H + NO',\n",
       " 'N + NCO <=> CO + N2',\n",
       " 'NCO + O2 <=> CO2 + NO',\n",
       " 'NCO + M <=> CO + N + M',\n",
       " 'NCO + NO <=> CO + N2O',\n",
       " 'NCO + NO <=> CO2 + N2',\n",
       " 'HCN + M <=> CN + H + M',\n",
       " 'HCN + O <=> H + NCO',\n",
       " 'HCN + O <=> CO + NH',\n",
       " 'HCN + O <=> CN + OH',\n",
       " 'HCN + OH <=> H + HOCN',\n",
       " 'HCN + OH <=> H + HNCO',\n",
       " 'HCN + OH <=> CO + NH2',\n",
       " 'H + HCN (+M) <=> H2CN (+M)',\n",
       " 'H2CN + N <=> CH2 + N2',\n",
       " 'C + N2 <=> CN + N',\n",
       " 'CH + N2 <=> HCN + N',\n",
       " 'CH + N2 (+M) <=> HCNN (+M)',\n",
       " 'CH2 + N2 <=> HCN + NH',\n",
       " 'CH2(S) + N2 <=> HCN + NH',\n",
       " 'C + NO <=> CN + O',\n",
       " 'C + NO <=> CO + N',\n",
       " 'CH + NO <=> HCN + O',\n",
       " 'CH + NO <=> H + NCO',\n",
       " 'CH + NO <=> HCO + N',\n",
       " 'CH2 + NO <=> H + HNCO',\n",
       " 'CH2 + NO <=> HCN + OH',\n",
       " 'CH2 + NO <=> H + HCNO',\n",
       " 'CH2(S) + NO <=> H + HNCO',\n",
       " 'CH2(S) + NO <=> HCN + OH',\n",
       " 'CH2(S) + NO <=> H + HCNO',\n",
       " 'CH3 + NO <=> H2O + HCN',\n",
       " 'CH3 + NO <=> H2CN + OH',\n",
       " 'HCNN + O <=> CO + H + N2',\n",
       " 'HCNN + O <=> HCN + NO',\n",
       " 'HCNN + O2 <=> HCO + N2 + O',\n",
       " 'HCNN + OH <=> H + HCO + N2',\n",
       " 'H + HCNN <=> CH2 + N2',\n",
       " 'HNCO + O <=> CO2 + NH',\n",
       " 'HNCO + O <=> CO + HNO',\n",
       " 'HNCO + O <=> NCO + OH',\n",
       " 'H + HNCO <=> CO + NH2',\n",
       " 'H + HNCO <=> H2 + NCO',\n",
       " 'HNCO + OH <=> H2O + NCO',\n",
       " 'HNCO + OH <=> CO2 + NH2',\n",
       " 'HNCO + M <=> CO + NH + M',\n",
       " 'H + HCNO <=> H + HNCO',\n",
       " 'H + HCNO <=> HCN + OH',\n",
       " 'H + HCNO <=> CO + NH2',\n",
       " 'H + HOCN <=> H + HNCO',\n",
       " 'HCCO + NO <=> CO + HCNO',\n",
       " 'CH3 + N <=> H + H2CN',\n",
       " 'CH3 + N <=> H2 + HCN',\n",
       " 'H + NH3 <=> H2 + NH2',\n",
       " 'NH3 + OH <=> H2O + NH2',\n",
       " 'NH3 + O <=> NH2 + OH',\n",
       " 'CO2 + NH <=> CO + HNO',\n",
       " 'CN + NO2 <=> NCO + NO',\n",
       " 'NCO + NO2 <=> CO2 + N2O',\n",
       " 'CO2 + N <=> CO + NO',\n",
       " 'CH3 + O => CO + H + H2',\n",
       " 'C2H4 + O <=> CH2CHO + H',\n",
       " 'C2H5 + O <=> CH3CHO + H',\n",
       " 'HO2 + OH <=> H2O + O2',\n",
       " 'CH3 + OH => CH2O + H2',\n",
       " 'CH + H2 (+M) <=> CH3 (+M)',\n",
       " 'CH2 + O2 => CO2 + 2 H',\n",
       " 'CH2 + O2 <=> CH2O + O',\n",
       " '2 CH2 => C2H2 + 2 H',\n",
       " 'CH2(S) + H2O => CH2O + H2',\n",
       " 'C2H3 + O2 <=> CH2CHO + O',\n",
       " 'C2H3 + O2 <=> C2H2 + HO2',\n",
       " 'CH3CHO + O <=> CH2CHO + OH',\n",
       " 'CH3CHO + O => CH3 + CO + OH',\n",
       " 'CH3CHO + O2 => CH3 + CO + HO2',\n",
       " 'CH3CHO + H <=> CH2CHO + H2',\n",
       " 'CH3CHO + H => CH3 + CO + H2',\n",
       " 'CH3CHO + OH => CH3 + CO + H2O',\n",
       " 'CH3CHO + HO2 => CH3 + CO + H2O2',\n",
       " 'CH3 + CH3CHO => CH3 + CH4 + CO',\n",
       " 'CH2CO + H (+M) <=> CH2CHO (+M)',\n",
       " 'CH2CHO + O => CH2 + CO2 + H',\n",
       " 'CH2CHO + O2 => CH2O + CO + OH',\n",
       " 'CH2CHO + O2 => 2 HCO + OH',\n",
       " 'CH2CHO + H <=> CH3 + HCO',\n",
       " 'CH2CHO + H <=> CH2CO + H2',\n",
       " 'CH2CHO + OH <=> CH2CO + H2O',\n",
       " 'CH2CHO + OH <=> CH2OH + HCO',\n",
       " 'C2H5 + CH3 (+M) <=> C3H8 (+M)',\n",
       " 'C3H8 + O <=> C3H7 + OH',\n",
       " 'C3H8 + H <=> C3H7 + H2',\n",
       " 'C3H8 + OH <=> C3H7 + H2O',\n",
       " 'C3H7 + H2O2 <=> C3H8 + HO2',\n",
       " 'C3H8 + CH3 <=> C3H7 + CH4',\n",
       " 'C2H4 + CH3 (+M) <=> C3H7 (+M)',\n",
       " 'C3H7 + O <=> C2H5 + CH2O',\n",
       " 'C3H7 + H (+M) <=> C3H8 (+M)',\n",
       " 'C3H7 + H <=> C2H5 + CH3',\n",
       " 'C3H7 + OH <=> C2H5 + CH2OH',\n",
       " 'C3H7 + HO2 <=> C3H8 + O2',\n",
       " 'C3H7 + HO2 => C2H5 + CH2O + OH',\n",
       " 'C3H7 + CH3 <=> 2 C2H5']"
      ]
     },
     "execution_count": 19,
     "metadata": {},
     "output_type": "execute_result"
    }
   ],
   "source": [
    "# print all 325 reactions\n",
    "gas1.reaction_equations()"
   ]
  },
  {
   "cell_type": "markdown",
   "metadata": {},
   "source": [
    "Scrolling down through the list, it can be seen that most of the 325 reactions considered are reversible reactions (<=> notation), and that there are either two or three species involved on the left-hand side and on the right-hand side of each reaction. In some cases, the symbol \"M\" is used to denote a generic species or molecule, where \"M\" can refer to any of the 53 species in the gas mixture; this will be discussed further when we get to Chapter 4."
   ]
  },
  {
   "cell_type": "markdown",
   "metadata": {},
   "source": [
    "The values of the equilibrium constants for all 325 reactions at the current mixture temperature can be accessed as follows:"
   ]
  },
  {
   "cell_type": "code",
   "execution_count": 20,
   "metadata": {},
   "outputs": [
    {
     "data": {
      "text/plain": [
       "array([1.92308444e+04, 1.61008438e+04, 1.63324159e+00, 5.05473996e+03,\n",
       "       5.42986813e+01, 1.55883669e+11, 7.65914171e+05, 3.90699166e+12,\n",
       "       7.55473564e+06, 7.41587127e+03, 2.57232725e+01, 6.56424247e+03,\n",
       "       8.44643884e+05, 3.44357558e+05, 3.08150519e+02, 5.28202530e+04,\n",
       "       2.10045765e+06, 1.04043539e+02, 2.61638507e+00, 3.01725178e+05,\n",
       "       3.33099776e+01, 2.80149818e-01, 2.03680180e+04, 1.06697958e+05,\n",
       "       5.12316702e+03, 3.87938592e+05, 1.41634777e+02, 2.45685507e+10,\n",
       "       1.05755667e+01, 2.63641671e+03, 3.41339275e-01, 6.09626849e-02,\n",
       "       3.18529617e+00, 3.18529617e+00, 3.18529617e+00, 3.18529617e+00,\n",
       "       3.18529617e+00, 8.37240608e-01, 9.85821322e+03, 9.85821322e+03,\n",
       "       9.85821322e+03, 9.85821322e+03, 2.97346541e+04, 7.81561857e+03,\n",
       "       3.09491259e+03, 4.23203356e+03, 3.32459580e+01, 4.24377782e+05,\n",
       "       1.40989328e+01, 5.39639406e+03, 2.50635084e+01, 6.25925174e+02,\n",
       "       1.57498270e+01, 5.22499324e+01, 5.17157958e+05, 3.04823300e-01,\n",
       "       7.66539798e-03, 1.88674181e+02, 1.54751021e+02, 3.23407470e+04,\n",
       "       7.12259572e+00, 3.97885729e+00, 6.15385098e+03, 3.97661414e+01,\n",
       "       1.28606672e+06, 2.83238149e+02, 1.58223802e+02, 6.37037039e+01,\n",
       "       1.60195839e+00, 5.74722622e+04, 4.75294971e-01, 8.60450096e+02,\n",
       "       2.07412530e+04, 6.90019338e-01, 1.14570424e+01, 1.13678605e+02,\n",
       "       1.42868651e+04, 8.67200408e+01, 6.19919450e+01, 6.47520048e+00,\n",
       "       2.16737020e+03, 1.56344242e+02, 1.01032831e-04, 3.01623159e+00,\n",
       "       7.00664723e-02, 1.84677613e+00, 9.33497312e+03, 1.00277509e+02,\n",
       "       1.00277509e+02, 6.76961467e+09, 1.84555494e+05, 2.48551965e+03,\n",
       "       7.66420974e+00, 2.45163813e+04, 2.17267731e+01, 5.51009688e+00,\n",
       "       5.58624615e-01, 4.75051257e+01, 4.07695556e-01, 1.55986817e+06,\n",
       "       5.69085025e+02, 9.75471826e+04, 3.87907506e+06, 1.92145124e+02,\n",
       "       4.83187750e+00, 1.18900586e+02, 3.14971088e+00, 2.01459986e-02,\n",
       "       5.17373999e-01, 6.82658950e+03, 6.25604224e+04, 3.45570931e+01,\n",
       "       2.61567726e+02, 1.95307042e+01, 9.30913945e+01, 9.30913945e+01,\n",
       "       1.05188026e+07, 1.96504545e+02, 1.49416086e+01, 1.72538127e+03,\n",
       "       5.67510135e+00, 5.66779630e+09, 9.31119721e+04, 9.91653984e+05,\n",
       "       1.54517354e+05, 3.93547631e-01, 3.24302144e+02, 7.65335484e+06,\n",
       "       6.74079955e+02, 9.26647761e+02, 6.34484592e+00, 4.52679680e+05,\n",
       "       9.69851718e+03, 4.67978907e+09, 3.36399541e+07, 5.47400826e-01,\n",
       "       1.94470866e+07, 1.49500137e+02, 8.62146833e+00, 2.48983495e+00,\n",
       "       5.73315902e+05, 9.86368437e+00, 9.86368437e+00, 3.31813889e+08,\n",
       "       9.86637121e+12, 5.39938898e+00, 3.88933328e+01, 9.86368437e+00,\n",
       "       1.47462216e+03, 8.50394424e+01, 9.86368437e+00, 9.86368437e+00,\n",
       "       6.01340412e+04, 4.68235232e+02, 2.95595989e-03, 6.20886857e+03,\n",
       "       2.11087766e+00, 2.17309109e+00, 1.91160957e-02, 3.28357865e+04,\n",
       "       1.19794447e+01, 4.04472404e+00, 1.01712761e-01, 7.27439252e-01,\n",
       "       5.50609481e+00, 5.24596036e+01, 5.24596036e+01, 1.67099374e+02,\n",
       "       1.04496479e+01, 4.15542177e+02, 4.66217760e+10, 5.82988630e+00,\n",
       "       1.69991823e+06, 2.41051202e+01, 4.61624188e+00, 2.05697884e+10,\n",
       "       7.37573320e+08, 6.86734908e+04, 9.52575545e+02, 1.13775602e+03,\n",
       "       1.16922038e+06, 1.62183505e+04, 9.78918782e+05, 2.31311678e+02,\n",
       "       6.07992223e+01, 7.25333744e-01, 2.75954460e+00, 6.96884710e+03,\n",
       "       5.83460178e+03, 2.40687006e+04, 1.29524842e+01, 9.00365605e-01,\n",
       "       3.90676920e+01, 7.53822646e-01, 2.01512935e+04, 1.65288169e+09,\n",
       "       2.98506789e-01, 1.45275582e+06, 1.48404122e+00, 1.63941089e+01,\n",
       "       1.47606918e+01, 1.00377734e+01, 3.02762491e+01, 1.11869248e+03,\n",
       "       1.11869248e+03, 3.56336686e+03, 1.80118929e+07, 1.23984310e+01,\n",
       "       1.10283090e+07, 3.32639339e+07, 7.00217785e+05, 6.02302809e-01,\n",
       "       2.67321414e+04, 1.63675365e+04, 4.93682807e+04, 5.28852949e+00,\n",
       "       8.99843911e+04, 7.00484221e+00, 3.56798975e+00, 5.86473835e+00,\n",
       "       1.07618834e+01, 1.46156444e+07, 6.07246924e+02, 9.07756424e+02,\n",
       "       1.00370732e+12, 4.98889346e+06, 7.97848049e-01, 9.01179466e+02,\n",
       "       3.59661479e+08, 9.42569779e-06, 1.06306668e+00, 6.45543971e+02,\n",
       "       1.51761688e-01, 1.48652818e-02, 1.26246741e+00, 3.93765817e+01,\n",
       "       3.57145385e-02, 7.43562443e+05, 9.62849701e-04, 1.46094216e-01,\n",
       "       2.33935881e-02, 2.86604264e-02, 2.82697400e-01, 6.61222500e+01,\n",
       "       5.94997041e+06, 1.00327998e+04, 1.06655351e+04, 1.62210078e+02,\n",
       "       5.25648522e+04, 4.16366014e+04, 8.22400605e-01, 5.18483111e+05,\n",
       "       4.10690294e+05, 8.11189999e+00, 2.29421708e+05, 2.75560307e-01,\n",
       "       6.66352114e+12, 1.14402091e+08, 6.60511559e+06, 7.88914862e+06,\n",
       "       1.65843582e+05, 2.08469071e+02, 4.60388589e+02, 8.42054752e-01,\n",
       "       3.11901769e+01, 5.15572686e-01, 1.55508662e+00, 1.27160965e+01,\n",
       "       3.17582832e-02, 6.39163589e+04, 5.06281260e+04, 1.99356254e+06,\n",
       "       8.49272437e+01, 5.02872458e+02, 3.13520399e+02, 8.65404139e+07,\n",
       "       3.84181651e+00, 1.15878083e+01, 6.27461451e+00, 2.20842634e+00,\n",
       "       4.08704649e+04, 2.14367274e+06, 2.79070009e+03, 7.34006086e+07,\n",
       "       3.48660282e+01, 1.82938323e+04, 9.33497312e+03, 4.54058440e+03,\n",
       "       2.12373810e+03, 1.37148598e+07, 2.08097798e+03, 1.97267863e+03,\n",
       "       8.12814952e+03, 1.56001873e+00, 6.70172496e+00, 4.44718462e+01,\n",
       "       3.42804253e+05, 6.78183755e+01, 2.72291904e+01, 2.09891945e+05,\n",
       "       6.33082713e+05, 6.31330715e+03, 1.33266190e+04, 2.81171990e-01,\n",
       "       9.37652683e+03, 4.78600898e+07, 1.74607450e+04, 1.46938647e+02,\n",
       "       3.50611496e+04, 1.05752547e+05, 2.06299295e+01, 8.96746249e-01,\n",
       "       1.52922244e+02, 9.36311229e+01, 2.82413150e+02, 3.55073794e-01,\n",
       "       5.94489849e+00, 5.87696164e-03, 8.70704099e+05, 1.05287782e+02,\n",
       "       1.17410897e+02, 1.64842849e+01, 3.30543146e+01, 2.28860612e+05,\n",
       "       2.24443795e+00])"
      ]
     },
     "execution_count": 20,
     "metadata": {},
     "output_type": "execute_result"
    }
   ],
   "source": [
    "# access the values of the equilibrium constants for all reactions at the current mixture temperature\n",
    "gas1.equilibrium_constants"
   ]
  },
  {
   "cell_type": "markdown",
   "metadata": {},
   "source": [
    "Recall that the current mixture temperature is 3000 K. It was set to that value at the end of Section 2 above."
   ]
  },
  {
   "cell_type": "code",
   "execution_count": 21,
   "metadata": {},
   "outputs": [
    {
     "data": {
      "text/plain": [
       "3000.0"
      ]
     },
     "execution_count": 21,
     "metadata": {},
     "output_type": "execute_result"
    }
   ],
   "source": [
    "# access the current mixture temperature (K)\n",
    "gas1.T"
   ]
  },
  {
   "cell_type": "markdown",
   "metadata": {},
   "source": [
    "Let's focus on one specific reaction, as an example: $ H + 2 O_2 \\leftrightharpoons HO_2 + O_2 $. There are ways to find particular reactions of interest in a large reaction mechanism, and we will look at those when we get to Chapters 4 and 5. For now, we simply note that this reaction corresponds to reaction index 33 in the current mechanism:"
   ]
  },
  {
   "cell_type": "code",
   "execution_count": 22,
   "metadata": {},
   "outputs": [
    {
     "data": {
      "text/plain": [
       "'H + 2 O2 <=> HO2 + O2'"
      ]
     },
     "execution_count": 22,
     "metadata": {},
     "output_type": "execute_result"
    }
   ],
   "source": [
    "# access the reaction equation corresponding to reaction index 33\n",
    "# note the use of parentheses here, since \"reaction_equation\" is a function\n",
    "gas1.reaction_equation(33)"
   ]
  },
  {
   "cell_type": "code",
   "execution_count": 23,
   "metadata": {},
   "outputs": [
    {
     "data": {
      "text/plain": [
       "3.1852961659194317"
      ]
     },
     "execution_count": 23,
     "metadata": {},
     "output_type": "execute_result"
    }
   ],
   "source": [
    "# access the value of the equilbrium constant for reaction index 33 at the current mixture temperature\n",
    "# note the use of square brackets here, since \"equilibrium_constants\" is an array, not a function\n",
    "gas1.equilibrium_constants[33]"
   ]
  },
  {
   "cell_type": "markdown",
   "metadata": {},
   "source": [
    "At this point, it is appropriate to review some basic information about equilibrium constants.\n",
    "\n",
    "The partial-pressure equilibrium constant $\\kappa _p$ introduced in Chapter 2 of Turns 4th ed. is related to the change in Gibbs free energy (or Gibbs function) between the right-hand side and the left-hand side of the reaction under consideration. For the reaction of current interest, the relationship between $ \\kappa _ p $ and the change in the Gibbs function for the reaction $ \\Delta G ^ 0 (T) $ (as defined in Chapter 2 of Turns 4th ed.) can be written as follows:\n",
    "\n",
    "$$ \\kappa _ p = \\kappa _ p (T) \\equiv \\exp \\{ - \\Delta G ^ 0 (T) / ( R_u T ) \\} = \\frac{(P_{HO_2}/P^0)\\cdot(P_{O_2}/P^0)}{(P_{H}/P^0)\\cdot(P_{O_2}/P^0)^2} = \\frac{(P_{HO_2}/P^0)}{(P_{H}/P^0)\\cdot(P_{O_2}/P^0)} = \\frac{\\chi_{HO_2}}{\\chi_{H} \\cdot \\chi_{O_2}} (P/P^0)^{-1} $$\n",
    "\n",
    "where $R_u$ is the molar (universal) gas constant, $P_i$ denotes the equilibrium partial pressure of species $i$ in the mixture, $P^0$ is the reference pressure (1 atm), and $ \\chi _ i $ is the equilibrium mole fraction of species $i$ in the mixture. That is, for a given temperature $T$, there is a unique relationship among the partial pressures of the species that participate in the reaction, when the system is in chemical equilibrium. While the equilibrium species partial pressures depend only on temperature, the equilibrium species mole fractions also depend on mixture pressure in the case where the number of moles (or molecules) is different on the left-hand side and the right-hand side of the reaction of interest (as in the current example). The partial-pressure equilibrium constant $\\kappa _p$ is dimensionless.\n",
    "\n",
    "As noted earlier, the equilibrium constant reported by `equlibrium_constants` is a molar-concentration equilibrium constant, denoted as $ \\kappa _ c $. The relationship between the partial-pressure equilibrium constant $\\kappa _ p$ and the molar-concentration equilibrium constant $\\kappa _ c $ follows from the ideal-gas equation of state. The result is given in Chapter 4 of Turns 4th ed. For the current reaction:\n",
    "\n",
    "$$ \\kappa _ c = \\kappa _ c (T) = \\kappa _ p (T) R_u T / P^0 =\\frac{[ HO_2 ]}{[H] [O_2]} $$\n",
    "\n",
    "where square brackets denote equilibrium species molar concentrations (kmol/m^3). \n",
    "\n",
    "So, what are the units of Cantera's equilibrium constant? Since it is a molar-concentration equilibrium constant, its units are those of molar concentration (kmol/m^3) raised to a power that is the difference between the number of moles (or molecules) on the right-hand side of the reaction minus the number of moles (or molecules) on the left-hand side. For the case where the numbers of moles or molecules are the same on both sides of a reaction, $\\kappa_c (T)$ is dimensionless and $\\kappa_c (T) = \\kappa_p (T)$. For the present case where there are two moles (or molecules) on the right-hand side and three moles (or molecules) on the left-hand side of the reaction, the units of $\\kappa_c (T)$ are (kmol/m^3)^{-1} or m^3/kmol. \n",
    "\n",
    "From the above equations, it can be seen that the values of $ \\kappa _ p $ and $ \\kappa _ c $ are inherently non-negative, and that they are functions of temperature only (independent of pressure). (The term \"equilibrium constant\" is somewhat contradictory, in this respect, as noted earlier.) The larger the numerical value of the equilibrium constant, the more strongly the equilibrium composition is shifted to favor the right-hand side of the reaction (here, more $HO_2$, and less $H$ and $O_2$). Conversely, the smaller the numerical value of the equilibrium constant, the more strongly the equilibrium composition is shifted toward the left-hand side of the reaction (here, more $H$ and $O_2$, and less $HO_2$).\n",
    "\n",
    "To confirm that the value of the equilibrium constant reported by `equilibrium_constants` is consistent with the above expressions, let's set the composition of gas1 to correspond to the equilibrium composition at 2500 K and 10 atm for an system where the numbers of hydrogen and oxygen atoms are equal. Here we are getting ahead of ourselves a bit (the [`equilibrate()`](https://cantera.org/documentation/docs-2.4/sphinx/html/cython/thermo.html#cantera.ThermoPhase.equilibrate) function will be discussed in detail in the next tutorial Notebook), but this will serve as a preview for that."
   ]
  },
  {
   "cell_type": "code",
   "execution_count": 24,
   "metadata": {},
   "outputs": [
    {
     "name": "stdout",
     "output_type": "stream",
     "text": [
      "\n",
      "  gri30:\n",
      "\n",
      "       temperature            2500  K\n",
      "          pressure     1.01325e+06  Pa\n",
      "           density        0.829046  kg/m^3\n",
      "  mean mol. weight         17.0073  amu\n",
      "\n",
      "                          1 kg            1 kmol\n",
      "                       -----------      ------------\n",
      "          enthalpy      4.3766e+06        7.443e+07     J\n",
      "   internal energy      3.1544e+06        5.365e+07     J\n",
      "           entropy           13136        2.234e+05     J/K\n",
      "    Gibbs function     -2.8463e+07       -4.841e+08     J\n",
      " heat capacity c_p          2197.8        3.738e+04     J/K\n",
      " heat capacity c_v          1708.9        2.906e+04     J/K\n",
      "\n",
      "                           X                 Y          Chem. Pot. / RT\n",
      "                     -------------     ------------     ------------\n",
      "                H2            0.5         0.059265         -18.6032\n",
      "                O2            0.5         0.940735         -27.9741\n",
      "     [  +51 minor]              0                0\n",
      "\n"
     ]
    }
   ],
   "source": [
    "# set the temperature, pressure, and composition of the gas mixture\n",
    "# note that the numbers of hydrogen atoms and oxygen atoms in the system are equal, and that they are (for now)\n",
    "#   bound up in diatomic H2 and O2 molecules, respectively\n",
    "gas1.TPX = 2500. , 10.*ct.one_atm, ('H2:1.0 O2:1.0')\n",
    "gas1()"
   ]
  },
  {
   "cell_type": "code",
   "execution_count": 25,
   "metadata": {},
   "outputs": [
    {
     "name": "stdout",
     "output_type": "stream",
     "text": [
      "\n",
      "  gri30:\n",
      "\n",
      "       temperature            2500  K\n",
      "          pressure     1.01325e+06  Pa\n",
      "           density         1.09613  kg/m^3\n",
      "  mean mol. weight         22.4863  amu\n",
      "\n",
      "                          1 kg            1 kmol\n",
      "                       -----------      ------------\n",
      "          enthalpy     -2.7989e+06       -6.294e+07     J\n",
      "   internal energy     -3.7233e+06       -8.372e+07     J\n",
      "           entropy           11705        2.632e+05     J/K\n",
      "    Gibbs function     -3.2061e+07       -7.209e+08     J\n",
      " heat capacity c_p          2182.3        4.907e+04     J/K\n",
      " heat capacity c_v          1812.6        4.076e+04     J/K\n",
      "\n",
      "                           X                 Y          Chem. Pot. / RT\n",
      "                     -------------     ------------     ------------\n",
      "                H2     0.00213617      0.000191506         -24.0588\n",
      "                 H    0.000367791      1.64861e-05         -12.0294\n",
      "                 O     0.00260854       0.00185602         -14.2031\n",
      "                O2        0.32456          0.46186         -28.4062\n",
      "                OH      0.0230496        0.0174334         -26.2325\n",
      "               H2O       0.647179         0.518498         -38.2619\n",
      "               HO2    8.99004e-05      0.000131961         -40.4356\n",
      "              H2O2     8.2717e-06      1.25125e-05          -52.465\n",
      "     [  +45 minor]              0                0\n",
      "\n"
     ]
    }
   ],
   "source": [
    "# now compute the equilibrium composition at a fixed temperature of 2500 K and pressure of 10 atm\n",
    "# the \"equilibrate\" function will be discussed in detail in the following tutorial Notebook\n",
    "gas1.equilibrate('TP')\n",
    "gas1()"
   ]
  },
  {
   "cell_type": "markdown",
   "metadata": {},
   "source": [
    "Note that several more species are present in the equilibrium mixture, compared to the original H2-O2 mixture. But the numbers of hydrogen atoms and oxygen atoms in the equilibrium mixture are the same as those in the initial mixture.\n",
    "\n",
    "Now compare the value of the equilibrium constant reported by `equilibrium_constants` for reaction index 33 with the value implied by the equilibrium molar concentrations of the species that are involved in that reaction:"
   ]
  },
  {
   "cell_type": "code",
   "execution_count": 26,
   "metadata": {},
   "outputs": [
    {
     "data": {
      "text/plain": [
       "(15.449778518892254, 15.449778518892144)"
      ]
     },
     "execution_count": 26,
     "metadata": {},
     "output_type": "execute_result"
    }
   ],
   "source": [
    "# use \"equilibrium_constants\"\n",
    "K_c1 = gas1.equilibrium_constants[33]\n",
    "\n",
    "# use the equilibrium molar concentrations of HO2, H, and O2\n",
    "K_c2 = gas1.concentrations[gas1.species_index('HO2')] \\\n",
    "              / ( gas1.concentrations[gas1.species_index('H')]*gas1.concentrations[gas1.species_index('O2')] )\n",
    "\n",
    "K_c1 , K_c2"
   ]
  },
  {
   "cell_type": "markdown",
   "metadata": {},
   "source": [
    "The two values are the same to within roundoff error, as they should be.\n",
    "\n",
    "Now let's plot the equilibrium constant for the current reaction as a function of temperature. The numerical value of the equilibrium constant varies over several orders of magnitude over the temperature range for which the property data in gri30.cti are valid, so that a logarithmic scale is appropriate:"
   ]
  },
  {
   "cell_type": "code",
   "execution_count": 27,
   "metadata": {},
   "outputs": [],
   "source": [
    "# define temperatures at which equilibrium constants are to be computed and plotted\n",
    "tmin = gas1.min_temp\n",
    "tmax = gas1.max_temp + 1.\n",
    "tinc = 100.\n",
    "tarr = np.arange(tmin,tmax,tinc)\n",
    "nt   = len(tarr)\n",
    "\n",
    "# define an array to hold the temperature-dependent equilibrium constant for one reaction\n",
    "kappacarr = np.zeros(nt)\n",
    "\n",
    "# the reaction index must be an integer, since we will use it as an array index\n",
    "rindex = 33\n",
    "\n",
    "# compute the equilibrium constant for reaction index rindex as a function of temperature\n",
    "for i , T in enumerate(tarr):\n",
    "    gas1.TP      = T , ct.one_atm\n",
    "    kappacarr[i] = gas1.equilibrium_constants[rindex]"
   ]
  },
  {
   "cell_type": "code",
   "execution_count": 28,
   "metadata": {},
   "outputs": [
    {
     "data": {
      "image/png": "[encoded data removed]",
      "text/plain": [
       "<Figure size 432x288 with 1 Axes>"
      ]
     },
     "metadata": {
      "needs_background": "light"
     },
     "output_type": "display_data"
    }
   ],
   "source": [
    "# plot the results\n",
    "fig, ax = plt.subplots()\n",
    "ax.semilogy(tarr, kappacarr, label='Reaction index 33', lw=2)\n",
    "ax.set(xlabel='Temperature (K)',\n",
    "       ylabel='Equilibrium constant (m^3/kmol)',\n",
    "       title ='Equilibrium constant versus temperature for reaction 33')\n",
    "ax.legend(handlelength=4,loc='best')\n",
    "ax.grid(True)\n",
    "fig.savefig(\"kappac_vs_T_33.pdf\")"
   ]
  },
  {
   "cell_type": "markdown",
   "metadata": {},
   "source": [
    "For this reaction, the value of $ \\kappa _c (T) $ is much greater than unity for all temperatures, and increasingly so at lower temperatures. Therefore, equilibrium for this reaction would correspond to a high molar concentration of $HO_2$ and to low molar concentrations of $H$ and $O_2$, especially at lower temperatures."
   ]
  },
  {
   "cell_type": "markdown",
   "metadata": {},
   "source": [
    "## 4. Chemical equilibrium"
   ]
  },
  {
   "cell_type": "markdown",
   "metadata": {},
   "source": [
    "In the next tutorial Notebook, we will look more closely at the use of Cantera's `equilibrate()` function to compute the equilibrium composition and thermodynamic state of a gas mixture. As we will see, it will not be necessary to concern ourselves explicitly with changes in Gibbs function values for individual reactions, or with the values of reaction equilibrium constants. Those are needed to introduce the underlying physics, and to see how the thermodynamic bookkeeping is done internally."
   ]
  },
  {
   "cell_type": "code",
   "execution_count": null,
   "metadata": {},
   "outputs": [],
   "source": []
  }
 ],
 "metadata": {
  "kernelspec": {
   "display_name": "Python 3",
   "language": "python",
   "name": "python3"
  },
  "language_info": {
   "codemirror_mode": {
    "name": "ipython",
    "version": 3
   },
   "file_extension": ".py",
   "mimetype": "text/x-python",
   "name": "python",
   "nbconvert_exporter": "python",
   "pygments_lexer": "ipython3",
   "version": "3.7.6"
  }
 },
 "nbformat": 4,
 "nbformat_minor": 2
}
