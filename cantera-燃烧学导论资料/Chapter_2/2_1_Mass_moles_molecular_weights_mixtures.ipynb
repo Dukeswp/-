{
 "cells": [
  {
   "cell_type": "markdown",
   "metadata": {},
   "source": [
    "# Mass, Moles, Molecular Weights, and Mixtures\n",
    "\n",
    "This Jupyter Notebook was written by Dan Haworth. It is intended as a tutorial to be used in parallel with Chapter 2 of the book \"An Introduction to Combustion: Concepts and Applications\" by Stephen R. Turns and Daniel C. Haworth. That book is referred to as \"Turns 4th ed.\" throughout this Notebook.\n",
    "\n",
    "This Notebook was last updated 3 February 2020.\n",
    "\n",
    "The objective of this tutorial Notebook is to introduce the various ways in which the quantity and composition of the material in a physical system of interest can be specified and manipulated using Cantera's [`Solution()`](https://cantera.org/documentation/docs-2.4/sphinx/html/cython/importing.html#cantera.Solution) object. The emphasis is on gas mixtures -- ideal-gas mixtures, in particular -- that contain varying amounts of different molecules or species. Element-based and species-based descriptions are reviewed. Further examples of array use (e.g., two-dimensional arrays) and formatted output are provided. And important distinctions among different classes of attributes (specifically, arrays and lists versus functions) are shown, which will be useful in subsequent tutorials. We will define the gas mixture using gri30.cti.\n",
    "\n",
    "The reader should be familiar with the material in the previous Notebook (Getting_started_with_Cantera) before working through this Notebook."
   ]
  },
  {
   "cell_type": "markdown",
   "metadata": {},
   "source": [
    "## 1. Mass, moles, and molecular weights"
   ]
  },
  {
   "cell_type": "markdown",
   "metadata": {},
   "source": [
    "The quantity of matter in a system of interest can be specified in terms of its mass, or in terms of the number of molecules that it contains. In a molecular description, it is more convenient and conventional to work with moles, rather than directly with the actual number of molecules. As discussed in the previous Notebook, a mole is a quantity of matter that contains $N_A$ elementary entities (molecules, in the systems of interest here), where $N_A$ is the Avogadro constant. \n",
    "\n",
    "As noted in the previous Notebook, SI units are used in Cantera for mass (kg) and for other quantities, with the exception of moles. In Cantera, kmoles (kmol) are used instead of moles, so that the value of $N_A$ that is used internally in Cantera is 1,000 times the standard SI value. \n",
    "\n",
    "One can move back and forth between a mass-based description and a molar description using the molecular weight, which is the mass per unit mole (or kmol) of the substance of interest. The use of kg for mass and kmol for moles has the advantage that the numerical value of the molecular weight (or molar mass) in kg/kmol is equal to the molecular weight in atomic mass units (amu). Turns 4th ed. follows the same convention.\n",
    "\n",
    "Here we are interested primarily in mixtures that contain multiple gas-phase species: specifically, in ideal-gas mixtures.\n",
    "\n",
    "To get started, we import the necessary packages:"
   ]
  },
  {
   "cell_type": "code",
   "execution_count": 1,
   "metadata": {},
   "outputs": [
    {
     "name": "stdout",
     "output_type": "stream",
     "text": [
      "Running Cantera version: 2.4.0\n"
     ]
    }
   ],
   "source": [
    "# access modules\n",
    "import cantera as ct\n",
    "import numpy as np\n",
    "import matplotlib.pyplot as plt\n",
    "\n",
    "# report Cantera version\n",
    "print(\"Running Cantera version: {}\".format(ct.__version__))"
   ]
  },
  {
   "cell_type": "markdown",
   "metadata": {},
   "source": [
    "Next, we confirm that the value of the Avogadro constant used internally in Cantera is consistent with the use of kmol for molar units. We already did this in the previous Notebook, but since this Notebook emphasizes mass and moles, we repeat it here, for good measure:"
   ]
  },
  {
   "cell_type": "code",
   "execution_count": 2,
   "metadata": {},
   "outputs": [
    {
     "data": {
      "text/plain": [
       "6.02214129e+26"
      ]
     },
     "execution_count": 2,
     "metadata": {},
     "output_type": "execute_result"
    }
   ],
   "source": [
    "# report the value of the Avogadro constant used internally in Cantera\n",
    "ct.avogadro"
   ]
  },
  {
   "cell_type": "markdown",
   "metadata": {},
   "source": [
    "This is 1,000 times larger than the standard SI value, to within approximately seven significant figures."
   ]
  },
  {
   "cell_type": "markdown",
   "metadata": {},
   "source": [
    "Now we define an ideal-gas mixture based on GRI-Mech 3.0 using Cantera's [`Solution()`](https://cantera.org/documentation/docs-2.4/sphinx/html/cython/importing.html#cantera.Solution) object:"
   ]
  },
  {
   "cell_type": "code",
   "execution_count": 3,
   "metadata": {},
   "outputs": [
    {
     "data": {
      "text/plain": [
       "['DP',\n",
       " 'DPX',\n",
       " 'DPY',\n",
       " 'HP',\n",
       " 'HPX',\n",
       " 'HPY',\n",
       " 'ID',\n",
       " 'P',\n",
       " 'P_sat',\n",
       " 'SP',\n",
       " 'SPX',\n",
       " 'SPY',\n",
       " 'SV',\n",
       " 'SVX',\n",
       " 'SVY',\n",
       " 'T',\n",
       " 'TD',\n",
       " 'TDX',\n",
       " 'TDY',\n",
       " 'TP',\n",
       " 'TPX',\n",
       " 'TPY',\n",
       " 'T_sat',\n",
       " 'UV',\n",
       " 'UVX',\n",
       " 'UVY',\n",
       " 'X',\n",
       " 'Y',\n",
       " '__call__',\n",
       " '__class__',\n",
       " '__copy__',\n",
       " '__delattr__',\n",
       " '__dir__',\n",
       " '__doc__',\n",
       " '__eq__',\n",
       " '__format__',\n",
       " '__ge__',\n",
       " '__getattribute__',\n",
       " '__getitem__',\n",
       " '__gt__',\n",
       " '__hash__',\n",
       " '__init__',\n",
       " '__init_subclass__',\n",
       " '__le__',\n",
       " '__lt__',\n",
       " '__module__',\n",
       " '__ne__',\n",
       " '__new__',\n",
       " '__pyx_vtable__',\n",
       " '__reduce__',\n",
       " '__reduce_ex__',\n",
       " '__repr__',\n",
       " '__setattr__',\n",
       " '__sizeof__',\n",
       " '__slots__',\n",
       " '__str__',\n",
       " '__subclasshook__',\n",
       " '_check_kinetics_species_index',\n",
       " '_check_phase_index',\n",
       " '_check_reaction_index',\n",
       " '_full_states',\n",
       " '_init_cti_xml',\n",
       " '_init_parts',\n",
       " '_references',\n",
       " 'activities',\n",
       " 'activity_coefficients',\n",
       " 'add_reaction',\n",
       " 'add_species',\n",
       " 'atomic_weight',\n",
       " 'atomic_weights',\n",
       " 'basis',\n",
       " 'binary_diff_coeffs',\n",
       " 'chemical_potentials',\n",
       " 'concentrations',\n",
       " 'cp',\n",
       " 'cp_mass',\n",
       " 'cp_mole',\n",
       " 'creation_rates',\n",
       " 'critical_density',\n",
       " 'critical_pressure',\n",
       " 'critical_temperature',\n",
       " 'cv',\n",
       " 'cv_mass',\n",
       " 'cv_mole',\n",
       " 'delta_enthalpy',\n",
       " 'delta_entropy',\n",
       " 'delta_gibbs',\n",
       " 'delta_standard_enthalpy',\n",
       " 'delta_standard_entropy',\n",
       " 'delta_standard_gibbs',\n",
       " 'density',\n",
       " 'density_mass',\n",
       " 'density_mole',\n",
       " 'destruction_rates',\n",
       " 'electric_potential',\n",
       " 'electrical_conductivity',\n",
       " 'electrochemical_potentials',\n",
       " 'element_index',\n",
       " 'element_name',\n",
       " 'element_names',\n",
       " 'element_potentials',\n",
       " 'elemental_mass_fraction',\n",
       " 'elemental_mole_fraction',\n",
       " 'enthalpy_mass',\n",
       " 'enthalpy_mole',\n",
       " 'entropy_mass',\n",
       " 'entropy_mole',\n",
       " 'equilibrate',\n",
       " 'equilibrium_constants',\n",
       " 'forward_rate_constants',\n",
       " 'forward_rates_of_progress',\n",
       " 'g',\n",
       " 'get_equivalence_ratio',\n",
       " 'gibbs_mass',\n",
       " 'gibbs_mole',\n",
       " 'h',\n",
       " 'int_energy_mass',\n",
       " 'int_energy_mole',\n",
       " 'is_reversible',\n",
       " 'isothermal_compressibility',\n",
       " 'kinetics_species_index',\n",
       " 'mass_fraction_dict',\n",
       " 'max_temp',\n",
       " 'mean_molecular_weight',\n",
       " 'min_temp',\n",
       " 'mix_diff_coeffs',\n",
       " 'mix_diff_coeffs_mass',\n",
       " 'mix_diff_coeffs_mole',\n",
       " 'modify_reaction',\n",
       " 'modify_species',\n",
       " 'mole_fraction_dict',\n",
       " 'molecular_weights',\n",
       " 'multi_diff_coeffs',\n",
       " 'multiplier',\n",
       " 'n_atoms',\n",
       " 'n_elements',\n",
       " 'n_phases',\n",
       " 'n_reactions',\n",
       " 'n_selected_species',\n",
       " 'n_species',\n",
       " 'n_total_species',\n",
       " 'name',\n",
       " 'net_production_rates',\n",
       " 'net_rates_of_progress',\n",
       " 'partial_molar_cp',\n",
       " 'partial_molar_enthalpies',\n",
       " 'partial_molar_entropies',\n",
       " 'partial_molar_int_energies',\n",
       " 'partial_molar_volumes',\n",
       " 'product_stoich_coeff',\n",
       " 'product_stoich_coeffs',\n",
       " 'products',\n",
       " 'reactant_stoich_coeff',\n",
       " 'reactant_stoich_coeffs',\n",
       " 'reactants',\n",
       " 'reaction',\n",
       " 'reaction_equation',\n",
       " 'reaction_equations',\n",
       " 'reaction_phase_index',\n",
       " 'reaction_type',\n",
       " 'reactions',\n",
       " 'reference_pressure',\n",
       " 'report',\n",
       " 'reverse_rate_constants',\n",
       " 'reverse_rates_of_progress',\n",
       " 's',\n",
       " 'selected_species',\n",
       " 'set_equivalence_ratio',\n",
       " 'set_multiplier',\n",
       " 'set_unnormalized_mass_fractions',\n",
       " 'set_unnormalized_mole_fractions',\n",
       " 'species',\n",
       " 'species_index',\n",
       " 'species_name',\n",
       " 'species_names',\n",
       " 'species_viscosities',\n",
       " 'standard_cp_R',\n",
       " 'standard_enthalpies_RT',\n",
       " 'standard_entropies_R',\n",
       " 'standard_gibbs_RT',\n",
       " 'standard_int_energies_RT',\n",
       " 'state',\n",
       " 'thermal_conductivity',\n",
       " 'thermal_diff_coeffs',\n",
       " 'thermal_expansion_coeff',\n",
       " 'transport_model',\n",
       " 'u',\n",
       " 'v',\n",
       " 'viscosity',\n",
       " 'volume_mass',\n",
       " 'volume_mole']"
      ]
     },
     "execution_count": 3,
     "metadata": {},
     "output_type": "execute_result"
    }
   ],
   "source": [
    "# define an ideal-gas mixture named \"gas1\" using Cantera's \"Solution\" object and GRI-Mech 3.0\n",
    "gas1 = ct.Solution('gri30.cti')\n",
    "\n",
    "# show all available attributes of \"gas1\"\n",
    "dir(gas1)"
   ]
  },
  {
   "cell_type": "markdown",
   "metadata": {},
   "source": [
    "In this tutorial, we will be using several attributes that we have not used earlier. You can return to this list as you work through this Notebook."
   ]
  },
  {
   "cell_type": "markdown",
   "metadata": {},
   "source": [
    "### 1.1 Atomic weights"
   ]
  },
  {
   "cell_type": "markdown",
   "metadata": {},
   "source": [
    "Atomic weights (in kg/kmol) can be accessed using attribute [`atomic_weights`](https://cantera.org/documentation/docs-2.4/sphinx/html/cython/thermo.html#cantera.ThermoPhase.atomic_weights). The atomic weights are properties of individual atoms or elements, and do not depend on the current thermochemical state of the gas mixture."
   ]
  },
  {
   "cell_type": "code",
   "execution_count": 4,
   "metadata": {},
   "outputs": [
    {
     "data": {
      "text/plain": [
       "array([15.9994 ,  1.00794, 12.011  , 14.00674, 39.948  ])"
      ]
     },
     "execution_count": 4,
     "metadata": {},
     "output_type": "execute_result"
    }
   ],
   "source": [
    "# write out the array of element atomic weights\n",
    "gas1.atomic_weights"
   ]
  },
  {
   "cell_type": "markdown",
   "metadata": {},
   "source": [
    "There are five values, corresponding to the five elements or atoms in gri30.cti ([`n_elements`](https://cantera.org/documentation/docs-2.4/sphinx/html/cython/thermo.html#cantera.ThermoPhase.n_elements) = 5). The array entries are indexed from 0 to 4, where the index corresponds to the element index. The atomic weights have units of kg/kmol.\n",
    "\n",
    "For manual calculations, it is often sufficient to use approximate atomic weights: 16 kg/kmol for an oxygen atom, 1 kg/kmol for a hydrogen atom, 12 kg/kmol for a carbon atom, 14 kg/kmol for a nitrogen atom, and 40 kg/kmol for an argon atom."
   ]
  },
  {
   "cell_type": "markdown",
   "metadata": {},
   "source": [
    "### 1.2 Species molecular weights"
   ]
  },
  {
   "cell_type": "markdown",
   "metadata": {},
   "source": [
    "Species molecular weights (in kg/kmol) can be accessed using attribute [`molecular_weights`](https://cantera.org/documentation/docs-2.4/sphinx/html/cython/thermo.html#cantera.ThermoPhase.molecular_weights). The species molecular weights are properties of individual species or molecules, and do not depend on the current thermochemical state of the gas mixture."
   ]
  },
  {
   "cell_type": "code",
   "execution_count": 5,
   "metadata": {},
   "outputs": [
    {
     "data": {
      "text/plain": [
       "array([ 2.01588,  1.00794, 15.9994 , 31.9988 , 17.00734, 18.01528,\n",
       "       33.00674, 34.01468, 12.011  , 13.01894, 14.02688, 14.02688,\n",
       "       15.03482, 16.04276, 28.0104 , 44.0098 , 29.01834, 30.02628,\n",
       "       31.03422, 31.03422, 32.04216, 25.02994, 26.03788, 27.04582,\n",
       "       28.05376, 29.0617 , 30.06964, 41.02934, 42.03728, 42.03728,\n",
       "       14.00674, 15.01468, 16.02262, 17.03056, 29.02142, 30.00614,\n",
       "       46.00554, 44.01288, 31.01408, 26.01774, 27.02568, 28.03362,\n",
       "       41.03242, 43.02508, 43.02508, 43.02508, 42.01714, 28.01348,\n",
       "       39.948  , 43.08858, 44.09652, 43.04522, 44.05316])"
      ]
     },
     "execution_count": 5,
     "metadata": {},
     "output_type": "execute_result"
    }
   ],
   "source": [
    "# write out the array of species molecular weights\n",
    "gas1.molecular_weights"
   ]
  },
  {
   "cell_type": "markdown",
   "metadata": {},
   "source": [
    "There are 53 values, corresponding to the 53 species in gri30.cti ([`n_species`](https://cantera.org/documentation/docs-2.4/sphinx/html/cython/thermo.html#cantera.ThermoPhase.n_species) = 53). The array entries are indexed from 0 to 52, where the index corresponds to the species index. The species molecular weights have units of kg/kmol.\n",
    "\n",
    "The species molecular weight values here range from a low of approximately 1 kg/kmol to a high of approximately 46 kg/kmol. We will discuss these values further below, after a brief but important detour."
   ]
  },
  {
   "cell_type": "markdown",
   "metadata": {},
   "source": [
    "### 1.3 A detour: Lists and arrays, versus functions"
   ]
  },
  {
   "cell_type": "markdown",
   "metadata": {},
   "source": [
    "Let's take a closer look at the attributes [`molecular_weights`](https://cantera.org/documentation/docs-2.4/sphinx/html/cython/thermo.html#cantera.ThermoPhase.molecular_weights), [`species_names`](https://cantera.org/documentation/docs-2.4/sphinx/html/cython/thermo.html#cantera.ThermoPhase.species_names), and [`species_name()`](https://cantera.org/documentation/docs-2.4/sphinx/html/cython/thermo.html#cantera.ThermoPhase.species_name). This will provide insight into how to work with different classes of objects, which will be useful in subsequent tutorial Notebooks. \n",
    "\n",
    "Code-cell commmand-line help is available for each attribute, as seen in the previous tutorial Notebook and as shown below. Note that direct links to online documentation also are provided in this Notebook, as new attributes are introduced. This practice will be followed in subsequent Notebooks.  "
   ]
  },
  {
   "cell_type": "code",
   "execution_count": 6,
   "metadata": {},
   "outputs": [
    {
     "name": "stdout",
     "output_type": "stream",
     "text": [
      "Help on getset descriptor cantera._cantera.ThermoPhase.molecular_weights:\n",
      "\n",
      "molecular_weights\n",
      "    Array of species molecular weights (molar masses) [kg/kmol].\n",
      "\n"
     ]
    }
   ],
   "source": [
    "# get help for attribute \"molecular_weights\"\n",
    "help(gas1.__class__.molecular_weights)"
   ]
  },
  {
   "cell_type": "markdown",
   "metadata": {},
   "source": [
    "So, `molecular_weights` is an array, as claimed earlier. Each element of the array is a floating-point number. The full array can be printed out as was done above, and the value of any element of the array (the i'th value, corresponding to species index i) can be accessed using square brackets:"
   ]
  },
  {
   "cell_type": "code",
   "execution_count": 7,
   "metadata": {},
   "outputs": [
    {
     "data": {
      "text/plain": [
       "34.01468"
      ]
     },
     "execution_count": 7,
     "metadata": {},
     "output_type": "execute_result"
    }
   ],
   "source": [
    "# access element 7 of \"molecular_weights\"\n",
    "gas1.molecular_weights[7]"
   ]
  },
  {
   "cell_type": "markdown",
   "metadata": {},
   "source": [
    "This is the molecular weight of species index 7 (hydrogen peroxide, as we will see shortly) in kg/kmol.\n",
    "\n",
    "What about `species_names`?"
   ]
  },
  {
   "cell_type": "code",
   "execution_count": 8,
   "metadata": {},
   "outputs": [
    {
     "name": "stdout",
     "output_type": "stream",
     "text": [
      "Help on getset descriptor cantera._cantera.ThermoPhase.species_names:\n",
      "\n",
      "species_names\n",
      "    A list of all the species names.\n",
      "\n"
     ]
    }
   ],
   "source": [
    "# get help for attribute \"species_names\"\n",
    "help(gas1.__class__.species_names)"
   ]
  },
  {
   "cell_type": "markdown",
   "metadata": {},
   "source": [
    "So, `species_names` is a list. More specifically, it is a list of character strings, where each character string corresponds to a species name.\n",
    "\n",
    "A list is not exactly the same thing as an array, but there are similarities between how arrays and lists are used and manipulated. For example, all elements of the list can be accessed and printed just by typing the name of the list:"
   ]
  },
  {
   "cell_type": "code",
   "execution_count": 9,
   "metadata": {},
   "outputs": [
    {
     "data": {
      "text/plain": [
       "['H2',\n",
       " 'H',\n",
       " 'O',\n",
       " 'O2',\n",
       " 'OH',\n",
       " 'H2O',\n",
       " 'HO2',\n",
       " 'H2O2',\n",
       " 'C',\n",
       " 'CH',\n",
       " 'CH2',\n",
       " 'CH2(S)',\n",
       " 'CH3',\n",
       " 'CH4',\n",
       " 'CO',\n",
       " 'CO2',\n",
       " 'HCO',\n",
       " 'CH2O',\n",
       " 'CH2OH',\n",
       " 'CH3O',\n",
       " 'CH3OH',\n",
       " 'C2H',\n",
       " 'C2H2',\n",
       " 'C2H3',\n",
       " 'C2H4',\n",
       " 'C2H5',\n",
       " 'C2H6',\n",
       " 'HCCO',\n",
       " 'CH2CO',\n",
       " 'HCCOH',\n",
       " 'N',\n",
       " 'NH',\n",
       " 'NH2',\n",
       " 'NH3',\n",
       " 'NNH',\n",
       " 'NO',\n",
       " 'NO2',\n",
       " 'N2O',\n",
       " 'HNO',\n",
       " 'CN',\n",
       " 'HCN',\n",
       " 'H2CN',\n",
       " 'HCNN',\n",
       " 'HCNO',\n",
       " 'HOCN',\n",
       " 'HNCO',\n",
       " 'NCO',\n",
       " 'N2',\n",
       " 'AR',\n",
       " 'C3H7',\n",
       " 'C3H8',\n",
       " 'CH2CHO',\n",
       " 'CH3CHO']"
      ]
     },
     "execution_count": 9,
     "metadata": {},
     "output_type": "execute_result"
    }
   ],
   "source": [
    "# write out the list \"species_names\"\n",
    "gas1.species_names"
   ]
  },
  {
   "cell_type": "markdown",
   "metadata": {},
   "source": [
    "A single element of the list can be accessed using square brackets:"
   ]
  },
  {
   "cell_type": "code",
   "execution_count": 10,
   "metadata": {},
   "outputs": [
    {
     "data": {
      "text/plain": [
       "'H2O2'"
      ]
     },
     "execution_count": 10,
     "metadata": {},
     "output_type": "execute_result"
    }
   ],
   "source": [
    "# access element 7 of \"species_names\"\n",
    "gas1.species_names[7]"
   ]
  },
  {
   "cell_type": "markdown",
   "metadata": {},
   "source": [
    "This confirms that species index 7 is hydrogen peroxide, as claimed earlier."
   ]
  },
  {
   "cell_type": "markdown",
   "metadata": {},
   "source": [
    "In contrast, `species_name()` is a function, or method:"
   ]
  },
  {
   "cell_type": "code",
   "execution_count": 11,
   "metadata": {},
   "outputs": [
    {
     "name": "stdout",
     "output_type": "stream",
     "text": [
      "Help on method_descriptor:\n",
      "\n",
      "species_name(...)\n",
      "    ThermoPhase.species_name(self, k)\n",
      "    Name of the species with index *k*.\n",
      "\n"
     ]
    }
   ],
   "source": [
    "# get help for attribute \"species_name\"\n",
    "help(gas1.__class__.species_name)"
   ]
  },
  {
   "cell_type": "markdown",
   "metadata": {},
   "source": [
    "A function must be called with appropriate values of its arguments enclosed in parentheses, not in square brackets. If you type the name of the function with no arguments, no values are printed; it simply reports that the name corresponds to a function:"
   ]
  },
  {
   "cell_type": "code",
   "execution_count": 12,
   "metadata": {},
   "outputs": [
    {
     "data": {
      "text/plain": [
       "<function Solution.species_name>"
      ]
     },
     "execution_count": 12,
     "metadata": {},
     "output_type": "execute_result"
    }
   ],
   "source": [
    "# see what happens if you print the function name with no arguments\n",
    "gas1.species_name"
   ]
  },
  {
   "cell_type": "markdown",
   "metadata": {},
   "source": [
    "If you try to use square brackets with a function, you will get an error:"
   ]
  },
  {
   "cell_type": "code",
   "execution_count": 13,
   "metadata": {},
   "outputs": [
    {
     "ename": "TypeError",
     "evalue": "'builtin_function_or_method' object is not subscriptable",
     "output_type": "error",
     "traceback": [
      "\u001b[1;31m---------------------------------------------------------------------------\u001b[0m",
      "\u001b[1;31mTypeError\u001b[0m                                 Traceback (most recent call last)",
      "\u001b[1;32m<ipython-input-13-70bc116d76c2>\u001b[0m in \u001b[0;36m<module>\u001b[1;34m\u001b[0m\n\u001b[0;32m      1\u001b[0m \u001b[1;31m# try using square brackets, as you would for an array or a list\u001b[0m\u001b[1;33m\u001b[0m\u001b[1;33m\u001b[0m\u001b[1;33m\u001b[0m\u001b[0m\n\u001b[1;32m----> 2\u001b[1;33m \u001b[0mgas1\u001b[0m\u001b[1;33m.\u001b[0m\u001b[0mspecies_name\u001b[0m\u001b[1;33m[\u001b[0m\u001b[1;36m7\u001b[0m\u001b[1;33m]\u001b[0m\u001b[1;33m\u001b[0m\u001b[1;33m\u001b[0m\u001b[0m\n\u001b[0m",
      "\u001b[1;31mTypeError\u001b[0m: 'builtin_function_or_method' object is not subscriptable"
     ]
    }
   ],
   "source": [
    "# try using square brackets, as you would for an array or a list\n",
    "gas1.species_name[7]"
   ]
  },
  {
   "cell_type": "markdown",
   "metadata": {},
   "source": [
    "The correct way to call a function is to pass valid function argument values using parentheses. The function `species_name()` takes a single argument: a valid species index. In the case of functions that take multiple arguments, the argument values are separated by commas. An example of a function that takes two arguments is shown in Section 1.4 below."
   ]
  },
  {
   "cell_type": "code",
   "execution_count": 14,
   "metadata": {},
   "outputs": [
    {
     "data": {
      "text/plain": [
       "'H2O2'"
      ]
     },
     "execution_count": 14,
     "metadata": {},
     "output_type": "execute_result"
    }
   ],
   "source": [
    "# pass a valid function argument value using parentheses\n",
    "gas1.species_name(7)"
   ]
  },
  {
   "cell_type": "markdown",
   "metadata": {},
   "source": [
    "The result is identical to that from \"gas1.species_names[7]\". For some purposes, it doesn't matter whether you use the list or the function, as long as you use the correct syntax for each (square brackets versus parentheses). There are situations where it will be advantageous to use either the list or the function; examples will be given in subsequent tutorials."
   ]
  },
  {
   "cell_type": "code",
   "execution_count": 15,
   "metadata": {},
   "outputs": [
    {
     "data": {
      "text/plain": [
       "('H2O2', 'H2O2', 34.01468)"
      ]
     },
     "execution_count": 15,
     "metadata": {},
     "output_type": "execute_result"
    }
   ],
   "source": [
    "# access the species name (using two different approaches) and molecular weight for species index 7\n",
    "gas1.species_name(7), gas1.species_names[7], gas1.molecular_weights[7]"
   ]
  },
  {
   "cell_type": "markdown",
   "metadata": {},
   "source": [
    "So, how do you know when to use square brackets and when to use parentheses? You can use \"help\" or \"?\" (see above, and previous tutorial) to find out what kind of object you are dealing with (e.g., an array, a list, or a function), then proceed accordingly. Or you can experiment to find what works. The empirical method is not recommended, but may be expedient as you gain experience. \n",
    "\n",
    "To distinguish between an attribute that corresponds to a list or an array, and one that corresponds to a function or a method, when we refer to the attribute in a Markdown cell, we will include parentheses when the attribute corresponds to a function or a method: that is, when valid argument values must be passed using parentheses. That is consistent with what we have been doing up to this point: for example, `species_name()` (a function), versus `species_names` (a list)."
   ]
  },
  {
   "cell_type": "markdown",
   "metadata": {},
   "source": [
    "Now that we have a clearer idea of how to work with different kinds of objects, let's get back to the subject of atomic and molecular weights."
   ]
  },
  {
   "cell_type": "markdown",
   "metadata": {},
   "source": [
    "### 1.4 Back to atomic and molecular weights"
   ]
  },
  {
   "cell_type": "markdown",
   "metadata": {},
   "source": [
    "Let's print out a table of the element indices, element names, and their corresponding atomic weights. \n",
    "\n",
    "In the following, note the use of formatting in the print statement, which was introduced briefly in the previous tutorial. The variables that will be printed are enclosed in parentheses following \".format\". Here three variables are printed on one line for each pass through the loop (for each value of i): the loop index i itself (an integer); the element name corresponding to element index i (a text string); and the element atomic weight (a floating-point number). The \"d\" format is used for i (\"d\" denoting a decimal integer); the \"s\" format is used for the element name (\"s\" denoting a string); and the \"f\" format is used for the atomic weight (\"f\" denoting that the floating-point number is to be printed using fixed-point notation). You will get an error message if you try to use an invalid format type for a variable: for example, if you try to use the \"s\" format for an integer. See https://docs.python.org/3/library/string.html and https://docs.python.org/3/tutorial/inputoutput.html for more information on formatting."
   ]
  },
  {
   "cell_type": "code",
   "execution_count": 16,
   "metadata": {},
   "outputs": [
    {
     "name": "stdout",
     "output_type": "stream",
     "text": [
      "    0 O                15.999400 \n",
      "    1 H                 1.007940 \n",
      "    2 C                12.011000 \n",
      "    3 N                14.006740 \n",
      "    4 Ar               39.948000 \n"
     ]
    }
   ],
   "source": [
    "# print a table of element indices, element names, and element atomic weights\n",
    "# note that i is an integer, gas1.element_names[i] is a character string, and gas1.atomic_weights[i]\n",
    "#   is a floating-point number - appropriate formats must be used to print each variable\n",
    "# \"gas1.element_names[i]\" could be replaced with \"gas1.element_name(i)\",\n",
    "#   and \"gas1.atomic_weights[i]\" could be replaced with \"gas1.atomic_weight(i)\"\n",
    "\n",
    "for i in range(gas1.n_elements):\n",
    "    print(' {:4d} {:10s} {:15f} '.format(i,gas1.element_names[i],gas1.atomic_weights[i] ) ) # use lists and arrays\n",
    "#    print(' {:4d} {:10s} {:15f} '.format(i,gas1.element_name(i),gas1.atomic_weight(i) ) )  # use functions"
   ]
  },
  {
   "cell_type": "markdown",
   "metadata": {},
   "source": [
    "Now we'll do the same thing for species indices, species names, and their corresponding molecular weights."
   ]
  },
  {
   "cell_type": "code",
   "execution_count": 17,
   "metadata": {},
   "outputs": [
    {
     "name": "stdout",
     "output_type": "stream",
     "text": [
      "    0 H2                2.015880 \n",
      "    1 H                 1.007940 \n",
      "    2 O                15.999400 \n",
      "    3 O2               31.998800 \n",
      "    4 OH               17.007340 \n",
      "    5 H2O              18.015280 \n",
      "    6 HO2              33.006740 \n",
      "    7 H2O2             34.014680 \n",
      "    8 C                12.011000 \n",
      "    9 CH               13.018940 \n",
      "   10 CH2              14.026880 \n",
      "   11 CH2(S)           14.026880 \n",
      "   12 CH3              15.034820 \n",
      "   13 CH4              16.042760 \n",
      "   14 CO               28.010400 \n",
      "   15 CO2              44.009800 \n",
      "   16 HCO              29.018340 \n",
      "   17 CH2O             30.026280 \n",
      "   18 CH2OH            31.034220 \n",
      "   19 CH3O             31.034220 \n",
      "   20 CH3OH            32.042160 \n",
      "   21 C2H              25.029940 \n",
      "   22 C2H2             26.037880 \n",
      "   23 C2H3             27.045820 \n",
      "   24 C2H4             28.053760 \n",
      "   25 C2H5             29.061700 \n",
      "   26 C2H6             30.069640 \n",
      "   27 HCCO             41.029340 \n",
      "   28 CH2CO            42.037280 \n",
      "   29 HCCOH            42.037280 \n",
      "   30 N                14.006740 \n",
      "   31 NH               15.014680 \n",
      "   32 NH2              16.022620 \n",
      "   33 NH3              17.030560 \n",
      "   34 NNH              29.021420 \n",
      "   35 NO               30.006140 \n",
      "   36 NO2              46.005540 \n",
      "   37 N2O              44.012880 \n",
      "   38 HNO              31.014080 \n",
      "   39 CN               26.017740 \n",
      "   40 HCN              27.025680 \n",
      "   41 H2CN             28.033620 \n",
      "   42 HCNN             41.032420 \n",
      "   43 HCNO             43.025080 \n",
      "   44 HOCN             43.025080 \n",
      "   45 HNCO             43.025080 \n",
      "   46 NCO              42.017140 \n",
      "   47 N2               28.013480 \n",
      "   48 AR               39.948000 \n",
      "   49 C3H7             43.088580 \n",
      "   50 C3H8             44.096520 \n",
      "   51 CH2CHO           43.045220 \n",
      "   52 CH3CHO           44.053160 \n"
     ]
    }
   ],
   "source": [
    "# print a table of species indices, species names, and species molecular weights\n",
    "# note that i is an integer, gas1.species_names[i] is a character string, and gas1.molecular_weights[i]\n",
    "#   is a floating-point number - appropriate formats must be used to print each variable\n",
    "# \"gas1.species_names[i]\" could be replaced with \"gas1.species_name(i)\" here, as discussed above\n",
    "# note that there is no \"molecular_weight\" attribute\n",
    "\n",
    "for i in range(gas1.n_species):\n",
    "    print(' {:4d} {:10s} {:15f} '.format(i,gas1.species_names[i],gas1.molecular_weights[i]) )"
   ]
  },
  {
   "cell_type": "markdown",
   "metadata": {},
   "source": [
    "In all cases, the \"exact\" molecular weights given above are equal (to within three-to-four significant figures) to the approximate molecular weights that one would deduce using the species chemical formulas and approximate element atomic weights: 1 kg/kmol for a hydrogen atom, 12 kg/kmol for a carbon atom, 14 kg/kmol for a nitrogen atom, and 16 kg/kmol for an oxygen atom. For example, the approximate molecular weight of methanol (CH3OH, species index 20 - each molecule contains 1 atom of carbon, 1 atom of oxygen, and 4 atoms of hydrogen) is: (1x12kg/kmol) + (1x16kg/kmol) + (4x1kg/kmol) = 32 kg/kmol. Note that following convention, the species name for methanol is written in a way that reflects its molecular structure, as a methyl (CH3) group attached to a hydroxyl (OH) group.\n",
    "\n",
    "The lowest molecular weight here is for hydrogen atoms (H), and the highest is for nitrogen dioxide (NO2). In other chemical mechanisms, species having higher molecular weights may be present. For example, polycyclic aromatic hydrocarbons (PAHs) are molecules made up of multiple connected benzene rings, and the molecular weights of PAHs can be in the 100's of kg/kmol. PAHs are important as soot precursors. As we will see in Chapter 7 of Turns 4th ed., and will discuss in a tutorial Notebook for that chapter, species having lower (higher) molecular weights diffuse faster (slower) in a gas mixture, and this differential species diffusion can have consequences for flame structure and stabililty."
   ]
  },
  {
   "cell_type": "markdown",
   "metadata": {},
   "source": [
    "As we saw in the previous tutorial notebook, [`n_atoms()`](https://cantera.org/documentation/docs-2.4/sphinx/html/cython/thermo.html#cantera.ThermoPhase.n_atoms) (not to be confused with `n_elements`) can be used to access the number of atoms of a specified element in a given species:"
   ]
  },
  {
   "cell_type": "code",
   "execution_count": 18,
   "metadata": {},
   "outputs": [
    {
     "name": "stdout",
     "output_type": "stream",
     "text": [
      "Help on built-in function n_atoms:\n",
      "\n",
      "n_atoms(...) method of cantera.composite.Solution instance\n",
      "    ThermoPhase.n_atoms(self, species, element)\n",
      "    \n",
      "    Number of atoms of element *element* in species *species*. The element\n",
      "    and species may be specified by name or by index.\n",
      "    \n",
      "    >>> phase.n_atoms('CH4','H')\n",
      "    4\n",
      "\n"
     ]
    }
   ],
   "source": [
    "# get help for \"n_atoms\"\n",
    "help(gas1.n_atoms)"
   ]
  },
  {
   "cell_type": "markdown",
   "metadata": {},
   "source": [
    "That is, `n_atoms()` is a function that takes two arguments: a species name or a species index, and an element name or an element index. The function returns the number of atoms of the specified element in the specified species or molecule.\n",
    "\n",
    "A two-dimensional array containing the numbers of each of the `n_elements` (=5 here) elements in each of the `n_species` (=53 here) species can be generated as follows:"
   ]
  },
  {
   "cell_type": "code",
   "execution_count": 19,
   "metadata": {},
   "outputs": [
    {
     "data": {
      "text/plain": [
       "array([[0., 2., 0., 0., 0.],\n",
       "       [0., 1., 0., 0., 0.],\n",
       "       [1., 0., 0., 0., 0.],\n",
       "       [2., 0., 0., 0., 0.],\n",
       "       [1., 1., 0., 0., 0.],\n",
       "       [1., 2., 0., 0., 0.],\n",
       "       [2., 1., 0., 0., 0.],\n",
       "       [2., 2., 0., 0., 0.],\n",
       "       [0., 0., 1., 0., 0.],\n",
       "       [0., 1., 1., 0., 0.],\n",
       "       [0., 2., 1., 0., 0.],\n",
       "       [0., 2., 1., 0., 0.],\n",
       "       [0., 3., 1., 0., 0.],\n",
       "       [0., 4., 1., 0., 0.],\n",
       "       [1., 0., 1., 0., 0.],\n",
       "       [2., 0., 1., 0., 0.],\n",
       "       [1., 1., 1., 0., 0.],\n",
       "       [1., 2., 1., 0., 0.],\n",
       "       [1., 3., 1., 0., 0.],\n",
       "       [1., 3., 1., 0., 0.],\n",
       "       [1., 4., 1., 0., 0.],\n",
       "       [0., 1., 2., 0., 0.],\n",
       "       [0., 2., 2., 0., 0.],\n",
       "       [0., 3., 2., 0., 0.],\n",
       "       [0., 4., 2., 0., 0.],\n",
       "       [0., 5., 2., 0., 0.],\n",
       "       [0., 6., 2., 0., 0.],\n",
       "       [1., 1., 2., 0., 0.],\n",
       "       [1., 2., 2., 0., 0.],\n",
       "       [1., 2., 2., 0., 0.],\n",
       "       [0., 0., 0., 1., 0.],\n",
       "       [0., 1., 0., 1., 0.],\n",
       "       [0., 2., 0., 1., 0.],\n",
       "       [0., 3., 0., 1., 0.],\n",
       "       [0., 1., 0., 2., 0.],\n",
       "       [1., 0., 0., 1., 0.],\n",
       "       [2., 0., 0., 1., 0.],\n",
       "       [1., 0., 0., 2., 0.],\n",
       "       [1., 1., 0., 1., 0.],\n",
       "       [0., 0., 1., 1., 0.],\n",
       "       [0., 1., 1., 1., 0.],\n",
       "       [0., 2., 1., 1., 0.],\n",
       "       [0., 1., 1., 2., 0.],\n",
       "       [1., 1., 1., 1., 0.],\n",
       "       [1., 1., 1., 1., 0.],\n",
       "       [1., 1., 1., 1., 0.],\n",
       "       [1., 0., 1., 1., 0.],\n",
       "       [0., 0., 0., 2., 0.],\n",
       "       [0., 0., 0., 0., 1.],\n",
       "       [0., 7., 3., 0., 0.],\n",
       "       [0., 8., 3., 0., 0.],\n",
       "       [1., 3., 2., 0., 0.],\n",
       "       [1., 4., 2., 0., 0.]])"
      ]
     },
     "execution_count": 19,
     "metadata": {},
     "output_type": "execute_result"
    }
   ],
   "source": [
    "# define a 2D array to hold the numbers of atoms of each element in each species,\n",
    "#   and initialize all array elements to zeros\n",
    "# note that the elements of n_elem_in_spec are floating-point numbers\n",
    "n_elem_in_spec = np.zeros(shape=(gas1.n_species,gas1.n_elements))\n",
    "\n",
    "# fill the 2D array n_elem_in_spec\n",
    "# note the nested loop and the use of indentation levels to indicate which commands correspond to each loop level\n",
    "for i in range(gas1.n_species):      # loop over species   \n",
    "    for j in range(gas1.n_elements): # for each species, loop over elements\n",
    "        n_elem_in_spec[i,j] = gas1.n_atoms(gas1.species_names[i],gas1.element_names[j])\n",
    "\n",
    "# print the 2D array\n",
    "n_elem_in_spec"
   ]
  },
  {
   "cell_type": "markdown",
   "metadata": {},
   "source": [
    "To see this more clearly, consider the following two ways of looking at the data in the 2D array. Note the use of a colon (:) to indicate an array index for which all possible values are to be accessed."
   ]
  },
  {
   "cell_type": "code",
   "execution_count": 20,
   "metadata": {},
   "outputs": [
    {
     "name": "stdout",
     "output_type": "stream",
     "text": [
      "0 [0. 2. 0. 0. 0.]\n",
      "1 [0. 1. 0. 0. 0.]\n",
      "2 [1. 0. 0. 0. 0.]\n",
      "3 [2. 0. 0. 0. 0.]\n",
      "4 [1. 1. 0. 0. 0.]\n",
      "5 [1. 2. 0. 0. 0.]\n",
      "6 [2. 1. 0. 0. 0.]\n",
      "7 [2. 2. 0. 0. 0.]\n",
      "8 [0. 0. 1. 0. 0.]\n",
      "9 [0. 1. 1. 0. 0.]\n",
      "10 [0. 2. 1. 0. 0.]\n",
      "11 [0. 2. 1. 0. 0.]\n",
      "12 [0. 3. 1. 0. 0.]\n",
      "13 [0. 4. 1. 0. 0.]\n",
      "14 [1. 0. 1. 0. 0.]\n",
      "15 [2. 0. 1. 0. 0.]\n",
      "16 [1. 1. 1. 0. 0.]\n",
      "17 [1. 2. 1. 0. 0.]\n",
      "18 [1. 3. 1. 0. 0.]\n",
      "19 [1. 3. 1. 0. 0.]\n",
      "20 [1. 4. 1. 0. 0.]\n",
      "21 [0. 1. 2. 0. 0.]\n",
      "22 [0. 2. 2. 0. 0.]\n",
      "23 [0. 3. 2. 0. 0.]\n",
      "24 [0. 4. 2. 0. 0.]\n",
      "25 [0. 5. 2. 0. 0.]\n",
      "26 [0. 6. 2. 0. 0.]\n",
      "27 [1. 1. 2. 0. 0.]\n",
      "28 [1. 2. 2. 0. 0.]\n",
      "29 [1. 2. 2. 0. 0.]\n",
      "30 [0. 0. 0. 1. 0.]\n",
      "31 [0. 1. 0. 1. 0.]\n",
      "32 [0. 2. 0. 1. 0.]\n",
      "33 [0. 3. 0. 1. 0.]\n",
      "34 [0. 1. 0. 2. 0.]\n",
      "35 [1. 0. 0. 1. 0.]\n",
      "36 [2. 0. 0. 1. 0.]\n",
      "37 [1. 0. 0. 2. 0.]\n",
      "38 [1. 1. 0. 1. 0.]\n",
      "39 [0. 0. 1. 1. 0.]\n",
      "40 [0. 1. 1. 1. 0.]\n",
      "41 [0. 2. 1. 1. 0.]\n",
      "42 [0. 1. 1. 2. 0.]\n",
      "43 [1. 1. 1. 1. 0.]\n",
      "44 [1. 1. 1. 1. 0.]\n",
      "45 [1. 1. 1. 1. 0.]\n",
      "46 [1. 0. 1. 1. 0.]\n",
      "47 [0. 0. 0. 2. 0.]\n",
      "48 [0. 0. 0. 0. 1.]\n",
      "49 [0. 7. 3. 0. 0.]\n",
      "50 [0. 8. 3. 0. 0.]\n",
      "51 [1. 3. 2. 0. 0.]\n",
      "52 [1. 4. 2. 0. 0.]\n"
     ]
    }
   ],
   "source": [
    "for i in range(gas1.n_species):      # loop over species   \n",
    "    print(i,n_elem_in_spec[i,:])     # for each species, print the number of each element in that species"
   ]
  },
  {
   "cell_type": "code",
   "execution_count": 21,
   "metadata": {},
   "outputs": [
    {
     "name": "stdout",
     "output_type": "stream",
     "text": [
      "0 [0. 0. 1. 2. 1. 1. 2. 2. 0. 0. 0. 0. 0. 0. 1. 2. 1. 1. 1. 1. 1. 0. 0. 0.\n",
      " 0. 0. 0. 1. 1. 1. 0. 0. 0. 0. 0. 1. 2. 1. 1. 0. 0. 0. 0. 1. 1. 1. 1. 0.\n",
      " 0. 0. 0. 1. 1.]\n",
      "1 [2. 1. 0. 0. 1. 2. 1. 2. 0. 1. 2. 2. 3. 4. 0. 0. 1. 2. 3. 3. 4. 1. 2. 3.\n",
      " 4. 5. 6. 1. 2. 2. 0. 1. 2. 3. 1. 0. 0. 0. 1. 0. 1. 2. 1. 1. 1. 1. 0. 0.\n",
      " 0. 7. 8. 3. 4.]\n",
      "2 [0. 0. 0. 0. 0. 0. 0. 0. 1. 1. 1. 1. 1. 1. 1. 1. 1. 1. 1. 1. 1. 2. 2. 2.\n",
      " 2. 2. 2. 2. 2. 2. 0. 0. 0. 0. 0. 0. 0. 0. 0. 1. 1. 1. 1. 1. 1. 1. 1. 0.\n",
      " 0. 3. 3. 2. 2.]\n",
      "3 [0. 0. 0. 0. 0. 0. 0. 0. 0. 0. 0. 0. 0. 0. 0. 0. 0. 0. 0. 0. 0. 0. 0. 0.\n",
      " 0. 0. 0. 0. 0. 0. 1. 1. 1. 1. 2. 1. 1. 2. 1. 1. 1. 1. 2. 1. 1. 1. 1. 2.\n",
      " 0. 0. 0. 0. 0.]\n",
      "4 [0. 0. 0. 0. 0. 0. 0. 0. 0. 0. 0. 0. 0. 0. 0. 0. 0. 0. 0. 0. 0. 0. 0. 0.\n",
      " 0. 0. 0. 0. 0. 0. 0. 0. 0. 0. 0. 0. 0. 0. 0. 0. 0. 0. 0. 0. 0. 0. 0. 0.\n",
      " 1. 0. 0. 0. 0.]\n"
     ]
    }
   ],
   "source": [
    "for i in range(gas1.n_elements):     # loop over elements  \n",
    "    print(i,n_elem_in_spec[:,i])     # for each element, print the number of that element in all species"
   ]
  },
  {
   "cell_type": "markdown",
   "metadata": {},
   "source": [
    "In a later tutorial, we will learn how to work with and format tables nicely using Pandas, for example."
   ]
  },
  {
   "cell_type": "markdown",
   "metadata": {},
   "source": [
    "## 2. Specification of mixture composition"
   ]
  },
  {
   "cell_type": "markdown",
   "metadata": {},
   "source": [
    "In most cases, species-based descriptions are used to quantify the relative proportions of different kinds of molecules in a gas mixture. Element-based descriptions also can be used, where the relative proportions of different kinds of atoms in a gas mixture are specified. Element-based descriptions are not emphasized in Turns 4th ed., but can be useful for some purposes, and are introduced in Section 2.2 below."
   ]
  },
  {
   "cell_type": "markdown",
   "metadata": {},
   "source": [
    "### 2.1 Species-based descriptions"
   ]
  },
  {
   "cell_type": "markdown",
   "metadata": {},
   "source": [
    "Up to this point, we have specified the composition of a gas mixture by giving either the mole fractions or the mass fractions of the individual species or molecules in the mixture. The mole fraction of species $i$ in a mixture containing $N_{spec}$ different species or molecules, denoted as $\\chi _ i $, is the fraction of the total number of molecules in the system that are species $i$ molecules. The mass fraction of species $i$ in a mixture containing $N_{spec}$ different species or molecules, denoted as $Y_i$, is the fraction of the total mass in the system that is attributable to species $i$ molecules. It follows that:\n",
    "$$ \\sum_{i=1}^{N_{spec}} \\chi _ i = 1 $$\n",
    "and\n",
    "$$ \\sum_{i=1}^{N_{spec}} Y _ i = 1 $$\n",
    "\n",
    "In our study of combustion, we will see several other ways of quantifying the relative or absolute amounts of each species in a mixture. The various ways in which the composition can be specified, the notation and units for each, and the corresponding Cantera `Solution()` object attribute (where available), are summarized in the following. Relationships (equations) to convert from one method of description to another are summarized in Chapter 2 and in Appendix 6A (at the end of Chapter 6) of Turns 4th ed., and are not repeated here. Those relationships follow from the definitions, together with (in some cases) the ideal-gas law. In the following, $X_i$ denotes a species name (e.g., CO, H2, NO, . . .):\n",
    "\n",
    "* Mass fraction $Y_i$: mass of species $i$ per mass of mixture (kg$_i$/kg); attribute [`Y`](https://cantera.org/documentation/docs-2.4/sphinx/html/cython/thermo.html#cantera.ThermoPhase.Y)\n",
    "* Mole fraction $\\chi _ i$: moles of species $i$ per mole of mixture (kmol$_i$/kmol); attribute [`X`](https://cantera.org/documentation/docs-2.4/sphinx/html/cython/thermo.html#cantera.ThermoPhase.X)\n",
    "* Volume fraction $ \\phi _ i$: volume of species $i$ per volume of mixture (m$_i ^3$/m$^3$); no corresponding attribute, but $\\phi _ i = \\chi _ i$ for an ideal-gas mixture \n",
    "* Molar concentration $ \\lbrack X_i \\rbrack $: molar concentration of species $i$ (kmol$_i$/m$^3$); attribute [`concentrations`](https://cantera.org/documentation/docs-2.4/sphinx/html/cython/thermo.html#cantera.ThermoPhase.concentrations)\n",
    "* Partial pressure $ P_i $: partial pressure of species $i$ (Pa); no corresponding attribute, but $P_i = \\chi _ i P$ for an ideal-gas mixture, where $P$ is the mixture pressure\n",
    "\n",
    "Finally, we note that for gas mixtures (and often for liquids), the composition is usually given in terms of the volume fractions of the individual component species."
   ]
  },
  {
   "cell_type": "markdown",
   "metadata": {},
   "source": [
    "### 2.2 Element-based descriptions"
   ]
  },
  {
   "cell_type": "markdown",
   "metadata": {},
   "source": [
    "In addition to these species-based descriptions, element-based descriptions can be useful in our study of combustion. The elemental mole fraction of element $\\alpha$ in a mixture containing $N_{elem}$ different elements or atoms, denoted as $\\zeta_{\\alpha}$, is the fraction of the total number of atoms in the system that are element $\\alpha$ atoms, accounting for the presence of that element in all molecular species. The elemental mass fraction of element $ \\alpha $ in a mixture containing $N_{elem}$ different elements or atoms, denoted as $z_{\\alpha}$, is the fraction of the total mass in the system that is attributable to element $\\alpha$ atoms, accounting for the presence of that element in all molecular species. It follows that:\n",
    "$$ \\sum_{{\\alpha}=1}^{N_{elem}} \\zeta _ {\\alpha} = 1 $$\n",
    "and\n",
    "$$ \\sum_{{\\alpha}=1}^{N_{elem}} z _ {\\alpha} = 1 $$\n",
    "\n",
    "Denoting the number of atoms of element $\\alpha$ in a molecule of species $i$ as $ n_{i \\alpha}$ (the quantity reported by `n_atoms()`), the atomic weight of element $ \\alpha $ as $W_{\\alpha}$ (the quantity reported by `atomic_weights`), and the molecular weight of species $i$ by $MW_i$ (the quantity reported by `molecular_weights`), the following relationships pertain:\n",
    "$$ \\zeta_{\\alpha} = \\frac { \\sum _ {i=1}^{N_{spec}} \\bigl( n_{i \\alpha} \\chi_i \\bigr) } { \\sum _ {\\beta=1}^{N_{elem}} \\Bigl( \\sum _ {i=1}^{N_{spec}} \\bigl( n_{i \\beta} \\chi_i \\bigr) \\Bigr) } $$\n",
    "and\n",
    "$$ z_{\\alpha} = W_{\\alpha} \\sum _ {i=1}^{N_{spec}} \\bigl( n_{i \\alpha} Y_i / MW_i \\bigr) $$"
   ]
  },
  {
   "cell_type": "markdown",
   "metadata": {},
   "source": [
    "To look at these quantities in Cantera, let's set the composition of gas1 so that it has equal mass fractions of all 53 species:"
   ]
  },
  {
   "cell_type": "code",
   "execution_count": 22,
   "metadata": {},
   "outputs": [
    {
     "name": "stdout",
     "output_type": "stream",
     "text": [
      "\n",
      "  gri30:\n",
      "\n",
      "       temperature             300  K\n",
      "          pressure          101325  Pa\n",
      "           density        0.617774  kg/m^3\n",
      "  mean mol. weight         15.2079  amu\n",
      "\n",
      "                          1 kg            1 kmol\n",
      "                       -----------      ------------\n",
      "          enthalpy      1.0248e+07        1.559e+08     J\n",
      "   internal energy      1.0084e+07        1.534e+08     J\n",
      "           entropy           12894        1.961e+05     J/K\n",
      "    Gibbs function      6.3802e+06        9.703e+07     J\n",
      " heat capacity c_p          2043.7        3.108e+04     J/K\n",
      " heat capacity c_v            1497        2.277e+04     J/K\n",
      "\n",
      "                           X                 Y          Chem. Pot. / RT\n",
      "                     -------------     ------------     ------------\n",
      "                H2        0.14234        0.0188679         -17.6668\n",
      "                 H       0.284681        0.0188679           72.343\n",
      "                 O      0.0179345        0.0188679          76.5036\n",
      "                O2     0.00896725        0.0188679         -29.3879\n",
      "                OH      0.0168716        0.0188679         -10.4064\n",
      "               H2O      0.0159277        0.0188679           -123.8\n",
      "               HO2     0.00869341        0.0188679          -27.268\n",
      "              H2O2      0.0084358        0.0188679         -87.4574\n",
      "                 C      0.0238899        0.0188679          264.572\n",
      "                CH      0.0220403        0.0188679          213.647\n",
      "               CH2      0.0204565        0.0188679          130.017\n",
      "            CH2(S)      0.0204565        0.0188679          145.699\n",
      "               CH3      0.0190851        0.0188679          31.6003\n",
      "               CH4       0.017886        0.0188679         -56.3466\n",
      "                CO      0.0102441        0.0188679         -72.6658\n",
      "               CO2     0.00651994        0.0188679         -188.506\n",
      "               HCO     0.00988827        0.0188679         -14.7597\n",
      "              CH2O     0.00955633        0.0188679         -74.4921\n",
      "             CH2OH     0.00924596        0.0188679         -39.8846\n",
      "              CH3O     0.00924596        0.0188679         -25.6277\n",
      "             CH3OH     0.00895511        0.0188679         -114.116\n",
      "               C2H      0.0114639        0.0188679          196.868\n",
      "              C2H2      0.0110201        0.0188679          62.8139\n",
      "              C2H3      0.0106094        0.0188679          87.4907\n",
      "              C2H4      0.0102283        0.0188679         -9.91346\n",
      "              C2H5     0.00987352        0.0188679          13.2314\n",
      "              C2H6     0.00954255        0.0188679         -65.8375\n",
      "              HCCO     0.00699356        0.0188679          36.4909\n",
      "             CH2CO     0.00682587        0.0188679         -53.2027\n",
      "             HCCOH     0.00682587        0.0188679         -1.92237\n",
      "                 N      0.0204859        0.0188679          167.174\n",
      "                NH      0.0191107        0.0188679          117.337\n",
      "               NH2      0.0179085        0.0188679           49.519\n",
      "               NH3      0.0168486        0.0188679         -45.6698\n",
      "               NNH     0.00988722        0.0188679          68.4145\n",
      "                NO     0.00956275        0.0188679          6.59199\n",
      "               NO2      0.0062371        0.0188679         -20.2549\n",
      "               N2O     0.00651948        0.0188679          1.21992\n",
      "               HNO     0.00925196        0.0188679          11.3467\n",
      "                CN      0.0110287        0.0188679          146.991\n",
      "               HCN      0.0106174        0.0188679          23.6257\n",
      "              H2CN      0.0102356        0.0188679          67.6046\n",
      "              HCNN     0.00699304        0.0188679          150.223\n",
      "              HCNO     0.00666916        0.0188679          34.3693\n",
      "              HOCN     0.00666916        0.0188679         -38.8612\n",
      "              HNCO     0.00666916        0.0188679         -81.3019\n",
      "               NCO     0.00682915        0.0188679          19.9021\n",
      "                N2       0.010243        0.0188679         -27.6143\n",
      "                AR     0.00718287        0.0188679         -23.5461\n",
      "              C3H7     0.00665933        0.0188679         0.464805\n",
      "              C3H8     0.00650712        0.0188679         -79.1659\n",
      "            CH2CHO     0.00666604        0.0188679         -27.1571\n",
      "            CH3CHO     0.00651352        0.0188679         -103.406\n",
      "\n"
     ]
    }
   ],
   "source": [
    "# set the composition of gas1 to equal mass fractions of all species, without changing the current mixture pressure\n",
    "#   or temperature\n",
    "gas1.TPY = None, None, np.ones(gas1.n_species)\n",
    "\n",
    "# print the thermochemical state of gas1\n",
    "gas1()"
   ]
  },
  {
   "cell_type": "markdown",
   "metadata": {},
   "source": [
    "Then the elemental mass fraction of an element in the gas mixture can be accessed using [`elemental_mass_fraction()`](https://cantera.org/documentation/docs-2.4/sphinx/html/cython/thermo.html#cantera.ThermoPhase.elemental_mass_fraction) and the elemental mole fraction using [`elemental_mole_fraction()`](https://cantera.org/documentation/docs-2.4/sphinx/html/cython/thermo.html#cantera.ThermoPhase.elemental_mole_fraction). Note that these are both functions."
   ]
  },
  {
   "cell_type": "code",
   "execution_count": 23,
   "metadata": {},
   "outputs": [
    {
     "data": {
      "text/plain": [
       "(0.10413571664788165, 0.6134707947065998)"
      ]
     },
     "execution_count": 23,
     "metadata": {},
     "output_type": "execute_result"
    }
   ],
   "source": [
    "# print the elemental mass fraction and elemental mole fraction of hydrogen in the mixture\n",
    "gas1.elemental_mass_fraction('H'), gas1.elemental_mole_fraction('H')"
   ]
  },
  {
   "cell_type": "markdown",
   "metadata": {},
   "source": [
    "On a mass basis, just over 10% of the gas mixture is hydrogen, accounting for the hydrogen in all 53 species. On a molar basis, approximately 61% of the gas mixture is hydrogen, accounting for the hydrogen in all 53 species. That is, approximately 61% of the atoms in the system are hydrogen atoms.\n",
    "\n",
    "As is the case for species mass fractions and species mole fractions, elemental mass fractions and mole fractions must sum to unity:\n"
   ]
  },
  {
   "cell_type": "code",
   "execution_count": 24,
   "metadata": {},
   "outputs": [
    {
     "name": "stdout",
     "output_type": "stream",
     "text": [
      "    0 O                 0.285707        0.106034\n",
      "    1 H                 0.104136        0.613471\n",
      "    2 C                 0.383684        0.189681\n",
      "    3 N                 0.207606        0.088010\n",
      "    4 Ar                0.018868        0.002805\n"
     ]
    },
    {
     "data": {
      "text/plain": [
       "(0.9999999999999999, 0.9999999999999998)"
      ]
     },
     "execution_count": 24,
     "metadata": {},
     "output_type": "execute_result"
    }
   ],
   "source": [
    "# print the elemental mass fractions and elemental mole fractions of each of the n_elements elements in the mixture\n",
    "for i in range(gas1.n_elements):\n",
    "    print(' {:4d} {:10s} {:15f} {:15f}'.format(i,gas1.element_names[i],\n",
    "                                                 gas1.elemental_mass_fraction(gas1.element_names[i]),\n",
    "                                                 gas1.elemental_mole_fraction(gas1.element_names[i]) ) )\n",
    "    \n",
    "# confirm that the elemental mass fractions and the elemental mole fractions both sum to unity,\n",
    "#   when summed over all elements in the mixture\n",
    "sum_mass = 0.\n",
    "sum_mole = 0.\n",
    "for i in range(gas1.n_elements):\n",
    "# the += operator adds the value on the right-hand side to the current value of the variable on the left-hand side\n",
    "# we used this in the previous tutorial\n",
    "    sum_mass += gas1.elemental_mass_fraction(gas1.element_names[i])\n",
    "    sum_mole += gas1.elemental_mole_fraction(gas1.element_names[i])\n",
    "# the following two lines are equivalent to the above two lines\n",
    "#    sum_mass = sum_mass + gas1.elemental_mass_fraction(gas1.element_names[i])\n",
    "#    sum_mole = sum_mole + gas1.elemental_mole_fraction(gas1.element_names[i])\n",
    "    \n",
    "sum_mass, sum_mole"
   ]
  },
  {
   "cell_type": "markdown",
   "metadata": {},
   "source": [
    "This confirms that they both sum to unity, to within machine precision."
   ]
  },
  {
   "cell_type": "markdown",
   "metadata": {},
   "source": [
    "Looking ahead, we note that elements are neither created nor destroyed in chemical reactions, and that mass is conserved in chemical reactions. On the other hand, moles (the number of molecules of each species) are not necessarily conserved in chemical reactions. Elemental mass fractions and elemental mole fractions are conserved in chemical reactions, while species mass fractions and species mole fractions are not conserved. The conservation of elemental mass fractions and elemental mole fractions can be used to advantage in our analysis of chemically reacting systems, as we will see in later tutorials."
   ]
  },
  {
   "cell_type": "markdown",
   "metadata": {},
   "source": [
    "## 3. Mixture properties from species properties"
   ]
  },
  {
   "cell_type": "markdown",
   "metadata": {},
   "source": [
    "It is useful to define appropriate mixture-averaged, or \"mean\", properties for mixtures that contain multiple individual species or molecules. These mixture values must be defined in a self-consistent manner. "
   ]
  },
  {
   "cell_type": "markdown",
   "metadata": {},
   "source": [
    "### 3.1 Mixture molecular weight"
   ]
  },
  {
   "cell_type": "markdown",
   "metadata": {},
   "source": [
    "The molecular weight of a mixture (attribute [`mean_molecular_weight`](https://cantera.org/documentation/docs-2.4/sphinx/html/cython/thermo.html#cantera.ThermoPhase.mean_molecular_weight)) is defined as the mole-fraction-weighted sum of the individual species molecular weights. With $N_{spec}$ denoting the number of species in the mixture, and $ \\chi _ i $ and $ MW _ i$ the mole fraction and molecular weight of species $i$ in the mixture, the mixture molecular weight $MW$ is given by: $ MW = \\sum _ {i=1} ^ {N_{spec}} \\bigl( \\chi _ i MW _ i \\bigr) $. The mixture molecular weight thus depends on the composition of the mixture, but not on its current thermodynamic state (e.g., mixture pressure and temperature).\n",
    "\n",
    "For example, we will often approximate air as being a mixture of 21% oxygen (O2) and 79% nitrogen (N2) on a molar basis. The molecular weight of air is then $ 0.21 MW _ {O_2} + 0.79 MW _ {N_2} $. This can be confirmed as follows:"
   ]
  },
  {
   "cell_type": "code",
   "execution_count": 25,
   "metadata": {},
   "outputs": [
    {
     "name": "stdout",
     "output_type": "stream",
     "text": [
      "\n",
      "  gri30:\n",
      "\n",
      "       temperature             300  K\n",
      "          pressure         53411.4  Pa\n",
      "           density        0.617774  kg/m^3\n",
      "  mean mol. weight         28.8504  amu\n",
      "\n",
      "                          1 kg            1 kmol\n",
      "                       -----------      ------------\n",
      "          enthalpy          1907.6        5.504e+04     J\n",
      "   internal energy          -84550       -2.439e+06     J\n",
      "           entropy          7076.3        2.042e+05     J/K\n",
      "    Gibbs function      -2.121e+06       -6.119e+07     J\n",
      " heat capacity c_p          1010.1        2.914e+04     J/K\n",
      " heat capacity c_v          721.88        2.083e+04     J/K\n",
      "\n",
      "                           X                 Y          Chem. Pot. / RT\n",
      "                     -------------     ------------     ------------\n",
      "                O2           0.21         0.232917         -26.8747\n",
      "                N2           0.79         0.767083         -23.9092\n",
      "     [  +51 minor]              0                0\n",
      "\n"
     ]
    }
   ],
   "source": [
    "# specify a mixture of 21% O2 and 79% N2 on a molar basis\n",
    "gas1.X = 'O2:0.21 N2:0.79'\n",
    "\n",
    "# print the mixture state\n",
    "gas1()"
   ]
  },
  {
   "cell_type": "markdown",
   "metadata": {},
   "source": [
    "The value reported above as \"mean mol. weight\" or by the attribute `mean_molecular_weight` is the mixture molecular weight in amu, or in kg/kmol:"
   ]
  },
  {
   "cell_type": "code",
   "execution_count": 26,
   "metadata": {},
   "outputs": [
    {
     "data": {
      "text/plain": [
       "28.8503972"
      ]
     },
     "execution_count": 26,
     "metadata": {},
     "output_type": "execute_result"
    }
   ],
   "source": [
    "# print the mixture molecular weight\n",
    "gas1.mean_molecular_weight"
   ]
  },
  {
   "cell_type": "code",
   "execution_count": 27,
   "metadata": {},
   "outputs": [
    {
     "data": {
      "text/plain": [
       "28.8503972"
      ]
     },
     "execution_count": 27,
     "metadata": {},
     "output_type": "execute_result"
    }
   ],
   "source": [
    "# compute the mixture molecular weight using the current mixture composition and the species molecular weights\n",
    "mw_mix = 0.\n",
    "for i in range(gas1.n_species):\n",
    "    mw_mix += gas1.X[i]*gas1.molecular_weights[i]\n",
    "    \n",
    "mw_mix"
   ]
  },
  {
   "cell_type": "markdown",
   "metadata": {},
   "source": [
    "We next consider the molecular weight of a typical hydrocarbon-air reactant (fuel + air) mixture, and the molecular weight of the corresponding products of complete combustion of that reactant mixture. We will discuss this further in subsequent Chapter 2 tutorials. For now, we simply note that a reactant mixture of propane (C3H8) fuel with air (adopting the above approximation for air) in molar proportions 1.0:5.0:18.8 for C3H8, O2, and N2 can (in principle) react to form CO2, H2O, and N2 in molar proportions 3.0:4.0:18.8."
   ]
  },
  {
   "cell_type": "code",
   "execution_count": 28,
   "metadata": {},
   "outputs": [
    {
     "data": {
      "text/plain": [
       "29.465481612903226"
      ]
     },
     "execution_count": 28,
     "metadata": {},
     "output_type": "execute_result"
    }
   ],
   "source": [
    "# specify the reactants mixture composition\n",
    "gas1.X = 'C3H8:1.0 O2:5.0 N2:18.8'\n",
    "\n",
    "# print the reactants mixture molecular weight\n",
    "gas1.mean_molecular_weight"
   ]
  },
  {
   "cell_type": "code",
   "execution_count": 29,
   "metadata": {},
   "outputs": [
    {
     "data": {
      "text/plain": [
       "28.323408682170545"
      ]
     },
     "execution_count": 29,
     "metadata": {},
     "output_type": "execute_result"
    }
   ],
   "source": [
    "# specify the products mixture composigion\n",
    "gas1.X = 'CO2:3.0 H2O:4.0 N2:18.8'\n",
    "\n",
    "# print the products mixture molecular weight\n",
    "gas1.mean_molecular_weight"
   ]
  },
  {
   "cell_type": "markdown",
   "metadata": {},
   "source": [
    "The reactants molecular weight is higher than the products molecular weight, but the difference is less than 5%. As a useful first approximation for some purposes, the molecular weight can be treated as being constant during the combustion process for hydrocarbon-air mixtures. Moreover, we note that the reactants molecular weight and the products molecular weight are both close to (but greater than) the molecular weight of N2. This is because the mole fraction of N2 in both the reactants and in the products is greater than 70%. Finally, we note that during the combustion event itself, many intermediate species are present that are neither in the initial reactants nor in the final products. Many of the intermediates are small low-molecular-weight molecules, which lower the overall molecular weight of the mixture, if only for a brief time, during the combustion process. We will see this later, as we progress through subsequent chapters of Turns 4th ed. and subsequent tutorial Notebooks.\n",
    "\n",
    "It can also be readily verified (using `elemental_mass_fraction()` and `elemental_mole_fraction()`) that the elemental mass fractions and the elemental mole fractions of C, H, O, and N are identical in the above reactants mixture and products mixture."
   ]
  },
  {
   "cell_type": "markdown",
   "metadata": {},
   "source": [
    "### 3.2 Mixture thermodynamic properties"
   ]
  },
  {
   "cell_type": "markdown",
   "metadata": {},
   "source": [
    "Key thermodynamic properties of individual species and of mixtures that are needed in our development of combustion (specific heats, enthalpies, etc.) will be discussed in subsequent tutorials. Here we note that an ideal-gas mixture (e.g., air) can be treated as a simple compressible substance with appropriate mixture-averaged properties. Mixture molecular weight was introduced in Section 3.1 above. For other properties, the appropriate mixture-averaged value is defined as either the mass-fraction-weighted sum over the individual species properties or the mole-fraction-weighted sum over the individual species properties, depending on whether the property of interest is on a per-unit-mass or a per-unit-mole basis.\n",
    "\n",
    "For the case of a mass-intensive thermodynamic property (e.g., enthalpy per unit mass), the mixture-averaged (or \"mean\") value $h$ is given by:\n",
    "\n",
    "$$ h = \\sum _ {i=1} ^ {N_{spec}} \\bigl( Y_i h_i \\bigr) \\ \\ \\ , $$\n",
    "\n",
    "where $h_i$ is the species $i$ enthalpy per unit mass (J/kg$_i$) and $h$ is the mixture-averaged (or mean) enthalpy per unit mass (J/kg).\n",
    "\n",
    "For the case of a molar-intensive thermodynamic property (e.g., enthalpy per unit mole), the mixture-averaged (or \"mean\") value $ \\overline h$ is given by:\n",
    "\n",
    "$$ \\overline h = \\sum _ {i=1} ^ {N_{spec}} \\bigl( \\chi_i \\overline h_i \\bigr) \\ \\ \\ , $$\n",
    "\n",
    "where $\\overline h_i$ is the species $i$ enthalpy per unit mole (J/kmol$_i$) and $\\overline h$ is the mixture-averaged (or mean) enthalpy per unit mole (J/kmol). Note the use of an overbar for a molar-specific quantity, consistent with the notation used in Turns 4th ed.\n",
    "\n",
    "The same mixture rules apply to specific heats, internal energy, entropy, and Gibbs function. We will work with these mixture properties in subsequent tutorial Notebooks."
   ]
  },
  {
   "cell_type": "code",
   "execution_count": null,
   "metadata": {},
   "outputs": [],
   "source": []
  }
 ],
 "metadata": {
  "kernelspec": {
   "display_name": "Python 3 (ipykernel)",
   "language": "python",
   "name": "python3"
  },
  "language_info": {
   "codemirror_mode": {
    "name": "ipython",
    "version": 3
   },
   "file_extension": ".py",
   "mimetype": "text/x-python",
   "name": "python",
   "nbconvert_exporter": "python",
   "pygments_lexer": "ipython3",
   "version": "3.10.6"
  }
 },
 "nbformat": 4,
 "nbformat_minor": 2
}
