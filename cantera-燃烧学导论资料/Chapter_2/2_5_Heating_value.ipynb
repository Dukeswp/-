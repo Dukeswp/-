{
 "cells": [
  {
   "cell_type": "markdown",
   "metadata": {},
   "source": [
    "# Heating Value\n",
    "This Jupyter Notebook was written by Dan Haworth, borrowing from the tutorial Notebook \"heating_value.ipynb\" that is available at https://github.com/Cantera/cantera-jupyter/tree/master/thermo. It is intended as a tutorial to be used in parallel with Chapter 2 of the book \"An Introduction to Combustion: Concepts and Applications\" by Stephen R. Turns and Daniel C. Haworth. That book is referred to as \"Turns 4th ed.\" throughout this Notebook.\n",
    "\n",
    "This Notebook was last updated 7 February 2020.\n",
    "\n",
    "The objectives of this tutorial Notebook are to review the concept of heating values, and to show how to compute heating values using Cantera's `Solution()` object, together with properties for liquid water using Cantera's `Water()` object. We will define the gas mixture using gri30.cti.\n",
    "\n",
    "The reader should be familiar with the material in the previous Notebook (2_4_Enthalpy) before working through this Notebook."
   ]
  },
  {
   "cell_type": "markdown",
   "metadata": {},
   "source": [
    "## 1. Definitions"
   ]
  },
  {
   "cell_type": "markdown",
   "metadata": {},
   "source": [
    "The *heating value* is defined as the enthalpy of a reactant mixture (a specified fuel-oxidizer mixture), minus the enthalpy of the resulting (idealized) product mixture, for the case where the reactants and the products are at the same pressure and temperature:\n",
    "\n",
    "$$ Heating \\ Value \\equiv H_{reactants} - H_{products} \\ , \\ {\\rm with \\ reactants \\ and \\ products \\ at \\ the \\ same \\ pressure \\ and \\ temperature} $$\n",
    "\n",
    "The heating value is conventionally reported as a fuel property. It is a measure of the chemical energy that is available for eventual conversion to sensible energy (heat) in a combustion process, for example.\n",
    "\n",
    "As in previous tutorial Notebooks, here we are interested primarily in fuels that contain (at most) carbon, hydrogen, and oxygen atoms ($C_xH_yO_z$), burning with our standard approximation for air (21% $O_2$ and 79% $N_2$ on a volume or molar basis). For the products, we consider complete combustion in the sense defined earlier (tutorial Notebook 2_3_Stoichiometry), so that all fuel carbon oxidizes to form $CO_2$ and all fuel hydrogen oxidizes to form $H_2O$. And we again assume that $N_2$ does not participate chemically. For the case of a stoichiometric reactant mixture and complete combustion, the global reaction can be written as:\n",
    "\n",
    "$$ C_x H_y O_z + (x+y/4-z/2)( O_2 + 3.76 N _ 2 ) \\rightarrow x CO_2 + y/2 H_2 O + 3.76 (x+y/4-z/2) N_2 $$\n",
    "\n",
    "The heating value for a specified fuel can be reported either on a per-unit-mass-of-fuel basis or on a per-unit-mole-of-fuel basis. The numerical value of the heating value is the same for pure oxygen ($O_2$) as the oxidizer as for our usual approximation for air as the oxidizer, since the enthalpy of the $N_2$ is the same in the reactants and in the products (which, for purposes of defining the heating value, are at the same pressure and temperature). \n",
    "\n",
    "Moreover, heating values are normally reported at the standard reference temperature (298.15 K) and pressure (1 atm). Since water can be either a liquid or a vapor at the reference temperature and pressure, it is conventional to define two heating values: a *lower heating value* (LHV) corresponding to the product water being in the vapor state, and a *higher heating value* (HHV) corresponding to the product water being in the liquid state. The two values differ by the change in enthalpy associated with condensing the product water from a vapor to a liquid at the reference pressure and temperature: i.e., by the enthalpy of vaporization of the product water. In most cases, the lower heating value of a fuel (rather than the higher heating value) is used as the basis for comparing the relative energy content of different fuels.\n",
    "\n",
    "With this background, let's see how we can compute heating values using Cantera."
   ]
  },
  {
   "cell_type": "markdown",
   "metadata": {},
   "source": [
    "## 2. Computing lower heating value using Cantera"
   ]
  },
  {
   "cell_type": "markdown",
   "metadata": {},
   "source": [
    "We will start with lower heating values, because only gas-phase properties are needed to calculate those.\n",
    "\n",
    "As in previous tutorial Notebooks, we again use Cantera's `Solution()` object and GRI-Mech 3.0 to define a gas-phase mixture named \"gas1\": "
   ]
  },
  {
   "cell_type": "code",
   "execution_count": 1,
   "metadata": {},
   "outputs": [
    {
     "name": "stdout",
     "output_type": "stream",
     "text": [
      "Running Cantera version: 2.4.0\n"
     ]
    }
   ],
   "source": [
    "# access modules\n",
    "import cantera as ct\n",
    "import numpy as np\n",
    "\n",
    "# report Cantera version\n",
    "print(\"Running Cantera version: {}\".format(ct.__version__))"
   ]
  },
  {
   "cell_type": "code",
   "execution_count": 2,
   "metadata": {},
   "outputs": [],
   "source": [
    "# define an ideal-gas mixture named \"gas1\" using Cantera's \"Solution()\" object and GRI-Mech 3.0\n",
    "gas1 = ct.Solution('gri30.cti')"
   ]
  },
  {
   "cell_type": "markdown",
   "metadata": {},
   "source": [
    "In the previous tutorial Notebook (2_4_Enthalpy), we saw how to access and work with individual-species and mixture enthalpies. And in the Notebook before that (2_3_Stoichiometry), we saw how to compute (to a first approximation) reactant and product compositions corresponding to stoichiometric (and fuel-lean) reactants.\n",
    "\n",
    "Let's consider propane fuel ($C_3H_8$), as an example."
   ]
  },
  {
   "cell_type": "code",
   "execution_count": 3,
   "metadata": {},
   "outputs": [
    {
     "name": "stdout",
     "output_type": "stream",
     "text": [
      "\n",
      "  gri30:\n",
      "\n",
      "       temperature          298.15  K\n",
      "          pressure          101325  Pa\n",
      "           density         1.20437  kg/m^3\n",
      "  mean mol. weight         29.4655  amu\n",
      "\n",
      "                          1 kg            1 kmol\n",
      "                       -----------      ------------\n",
      "          enthalpy     -1.4208e+05       -4.187e+06     J\n",
      "   internal energy     -2.2621e+05       -6.666e+06     J\n",
      "           entropy          6887.4        2.029e+05     J/K\n",
      "    Gibbs function     -2.1956e+06       -6.469e+07     J\n",
      " heat capacity c_p          1049.6        3.093e+04     J/K\n",
      " heat capacity c_v          767.42        2.261e+04     J/K\n",
      "\n",
      "                           X                 Y          Chem. Pot. / RT\n",
      "                     -------------     ------------     ------------\n",
      "                O2       0.201613         0.218947         -26.2751\n",
      "                N2       0.758065         0.720709           -23.31\n",
      "              C3H8      0.0403226        0.0603447            -77.6\n",
      "     [  +50 minor]              0                0\n",
      "\n"
     ]
    }
   ],
   "source": [
    "fuel = 'C3H8'\n",
    "air  = 'O2:1.0, N2:3.76'\n",
    "phi  = 1.0\n",
    "\n",
    "# set the gas mixture to correspond to a stoichiometric propane-air mixture at the reference temperature and pressure\n",
    "gas1.TP = 298.15 , ct.one_atm\n",
    "gas1.set_equivalence_ratio(phi,fuel,air)\n",
    "\n",
    "# print the full thermochemical state of gas1\n",
    "gas1()"
   ]
  },
  {
   "cell_type": "code",
   "execution_count": 4,
   "metadata": {},
   "outputs": [
    {
     "data": {
      "text/plain": [
       "-142083.21261478376"
      ]
     },
     "execution_count": 4,
     "metadata": {},
     "output_type": "execute_result"
    }
   ],
   "source": [
    "# store the reactant enthalpy on a per-unit-mass-of-mixture basis (J/kg)\n",
    "h_reac_mass = gas1.enthalpy_mass\n",
    "\n",
    "h_reac_mass"
   ]
  },
  {
   "cell_type": "code",
   "execution_count": 5,
   "metadata": {},
   "outputs": [
    {
     "data": {
      "text/plain": [
       "0.06034469442007445"
      ]
     },
     "execution_count": 5,
     "metadata": {},
     "output_type": "execute_result"
    }
   ],
   "source": [
    "# store the mass fraction of fuel (C3H8) in the reactants\n",
    "Y_C3H8_reac = gas1.Y[gas1.species_index('C3H8')]\n",
    "\n",
    "Y_C3H8_reac"
   ]
  },
  {
   "cell_type": "markdown",
   "metadata": {},
   "source": [
    "Next, we set the composition of gas1 to correspond to the products of complete combustion, without changing the pressure and temperature. That can be done in various ways. One approach was shown in tutorial Notebook 2_3_Stoichiometry. Following that approach (and for generality, allowing for a fuel molecule that contains C, H, and O atoms): "
   ]
  },
  {
   "cell_type": "code",
   "execution_count": 6,
   "metadata": {},
   "outputs": [
    {
     "data": {
      "text/plain": [
       "(3.0, 8.0, 0.0)"
      ]
     },
     "execution_count": 6,
     "metadata": {},
     "output_type": "execute_result"
    }
   ],
   "source": [
    "x = gas1.n_atoms(fuel,'C') # number of atoms of C in the fuel molecule\n",
    "y = gas1.n_atoms(fuel,'H') # number of atoms of H in the fuel molecule\n",
    "z = gas1.n_atoms(fuel,'O') # number of atoms of O in the fuel molecule\n",
    "\n",
    "x , y , z"
   ]
  },
  {
   "cell_type": "code",
   "execution_count": 7,
   "metadata": {},
   "outputs": [
    {
     "data": {
      "text/plain": [
       "(3.0, 4.0, 18.799999999999997)"
      ]
     },
     "execution_count": 7,
     "metadata": {},
     "output_type": "execute_result"
    }
   ],
   "source": [
    "# a is the number of moles of O2 needed per mole of fuel for complete combustion\n",
    "a = x + y/4. - z/2.\n",
    "    \n",
    "# compute the numbers of product moles per mole of fuel, for complete combustion of a stoichiometric reactant mixture\n",
    "N_CO2 = x\n",
    "N_H2O = y/2.\n",
    "N_N2  = 3.76*a\n",
    "\n",
    "N_CO2 , N_H2O , N_N2"
   ]
  },
  {
   "cell_type": "code",
   "execution_count": 8,
   "metadata": {},
   "outputs": [
    {
     "name": "stdout",
     "output_type": "stream",
     "text": [
      "\n",
      "  gri30:\n",
      "\n",
      "       temperature          298.15  K\n",
      "          pressure          101325  Pa\n",
      "           density         1.15769  kg/m^3\n",
      "  mean mol. weight         28.3234  amu\n",
      "\n",
      "                          1 kg            1 kmol\n",
      "                       -----------      ------------\n",
      "          enthalpy     -2.9392e+06       -8.325e+07     J\n",
      "   internal energy     -3.0267e+06       -8.573e+07     J\n",
      "           entropy          7064.4        2.001e+05     J/K\n",
      "    Gibbs function     -5.0454e+06       -1.429e+08     J\n",
      " heat capacity c_p          1084.2        3.071e+04     J/K\n",
      " heat capacity c_v          790.67        2.239e+04     J/K\n",
      "\n",
      "                           X                 Y          Chem. Pot. / RT\n",
      "                     -------------     ------------     ------------\n",
      "               H2O       0.155039        0.0986134         -122.126\n",
      "               CO2       0.116279         0.180678         -186.604\n",
      "                N2       0.728682         0.720709         -23.3496\n",
      "     [  +50 minor]              0                0\n",
      "\n"
     ]
    }
   ],
   "source": [
    "# set the gas mixture to correspond to products of complete combustion of stoichiometric propane-air reactants\n",
    "#   at the reference temperature and pressure\n",
    "# recall that the specified numbers of moles will be interpreted as relative mole numbers, so that the\n",
    "#   actual product mole fractions sum to unity\n",
    "X_prod = {'CO2':N_CO2,'H2O':N_H2O,'N2':N_N2}\n",
    "gas1.TPX = None , None , X_prod\n",
    "\n",
    "# print the full thermochemical state of gas1\n",
    "gas1()"
   ]
  },
  {
   "cell_type": "code",
   "execution_count": 9,
   "metadata": {},
   "outputs": [
    {
     "data": {
      "text/plain": [
       "-2939189.2483540904"
      ]
     },
     "execution_count": 9,
     "metadata": {},
     "output_type": "execute_result"
    }
   ],
   "source": [
    "# store the product enthalpy on a per-unit-mass-of-mixture basis (J/kg)\n",
    "h_prod_mass = gas1.enthalpy_mass\n",
    "\n",
    "h_prod_mass"
   ]
  },
  {
   "cell_type": "markdown",
   "metadata": {},
   "source": [
    "Note that the product enthalpy is lower than the reactant enthalpy (both on a per-unit-mass basis; mass is conserved in chemical reactions). This tells us that the global reaction considered here is exothermic in the forward direction."
   ]
  },
  {
   "cell_type": "code",
   "execution_count": 10,
   "metadata": {},
   "outputs": [
    {
     "data": {
      "text/plain": [
       "(46352.14516570347, 2043968.2963423461)"
      ]
     },
     "execution_count": 10,
     "metadata": {},
     "output_type": "execute_result"
    }
   ],
   "source": [
    "# compute the lower heating value on a per-unit-mass-of-fuel basis\n",
    "# note that mass is conserved in the conversion of reactants to products, so that we can simply\n",
    "#   subtract the product enthalpy (per unit mass of product mixture) from the reactant enthalpy\n",
    "#   (per unit mass of reactant mixture), then divide by the mass fraction of fuel in the reactants\n",
    "#   to put the heating value on the basis of a unit mass of fuel\n",
    "lhv_mass = ( h_reac_mass - h_prod_mass ) / Y_C3H8_reac # lower heating value in Joules per kg of fuel\n",
    "\n",
    "# compute the lower heating value on a per-unit-mole-of-fuel basis\n",
    "lhv_mole = lhv_mass*gas1.molecular_weights[gas1.species_index('C3H8')] # lower heating value in Joules per kmol of fuel\n",
    "\n",
    "# convert to kJ/kg and kJ/kmol, from J/kg and J/kmol\n",
    "lhv_mass = lhv_mass / 1000. # kJ/kg\n",
    "lhv_mole = lhv_mole / 1000. # kJ/kmol\n",
    "\n",
    "lhv_mass , lhv_mole"
   ]
  },
  {
   "cell_type": "markdown",
   "metadata": {},
   "source": [
    "The lower heating value per unit mass of fuel is consistent with the value reported in Table B.1 of Appendix B of Turns 4th ed. for vapor $C_3H_8$ fuel, to four significant figures."
   ]
  },
  {
   "cell_type": "markdown",
   "metadata": {},
   "source": [
    "## 3. Computing higher heating value using Cantera"
   ]
  },
  {
   "cell_type": "markdown",
   "metadata": {},
   "source": [
    "To compute higher heating values, liquid water properties are needed, in addition to gas-phase properties.\n",
    "\n",
    "Properties of liquid water can be accessed using Cantera's [`Water()`](https://cantera.org/documentation/docs-2.4/sphinx/html/cython/importing.html#pure-fluid-phases) object: "
   ]
  },
  {
   "cell_type": "code",
   "execution_count": 11,
   "metadata": {},
   "outputs": [],
   "source": [
    "# define a water liquid-gas mixture named \"water\" using Cantera's \"Water\" object\n",
    "water = ct.Water()"
   ]
  },
  {
   "cell_type": "code",
   "execution_count": 12,
   "metadata": {},
   "outputs": [
    {
     "data": {
      "text/plain": [
       "['DP',\n",
       " 'DPX',\n",
       " 'DPY',\n",
       " 'HP',\n",
       " 'HPX',\n",
       " 'HPY',\n",
       " 'ID',\n",
       " 'P',\n",
       " 'PV',\n",
       " 'PX',\n",
       " 'P_sat',\n",
       " 'SH',\n",
       " 'SP',\n",
       " 'SPX',\n",
       " 'SPY',\n",
       " 'ST',\n",
       " 'SV',\n",
       " 'SVX',\n",
       " 'SVY',\n",
       " 'T',\n",
       " 'TD',\n",
       " 'TDX',\n",
       " 'TDY',\n",
       " 'TH',\n",
       " 'TP',\n",
       " 'TPX',\n",
       " 'TPY',\n",
       " 'TV',\n",
       " 'TX',\n",
       " 'T_sat',\n",
       " 'UP',\n",
       " 'UV',\n",
       " 'UVX',\n",
       " 'UVY',\n",
       " 'VH',\n",
       " 'X',\n",
       " 'Y',\n",
       " '__call__',\n",
       " '__class__',\n",
       " '__copy__',\n",
       " '__delattr__',\n",
       " '__dir__',\n",
       " '__doc__',\n",
       " '__eq__',\n",
       " '__format__',\n",
       " '__ge__',\n",
       " '__getattribute__',\n",
       " '__getitem__',\n",
       " '__gt__',\n",
       " '__hash__',\n",
       " '__init__',\n",
       " '__init_subclass__',\n",
       " '__le__',\n",
       " '__lt__',\n",
       " '__ne__',\n",
       " '__new__',\n",
       " '__pyx_vtable__',\n",
       " '__reduce__',\n",
       " '__reduce_ex__',\n",
       " '__repr__',\n",
       " '__setattr__',\n",
       " '__sizeof__',\n",
       " '__str__',\n",
       " '__subclasshook__',\n",
       " '_full_states',\n",
       " '_init_cti_xml',\n",
       " '_init_parts',\n",
       " '_references',\n",
       " 'activities',\n",
       " 'activity_coefficients',\n",
       " 'add_species',\n",
       " 'atomic_weight',\n",
       " 'atomic_weights',\n",
       " 'basis',\n",
       " 'chemical_potentials',\n",
       " 'concentrations',\n",
       " 'cp',\n",
       " 'cp_mass',\n",
       " 'cp_mole',\n",
       " 'critical_density',\n",
       " 'critical_pressure',\n",
       " 'critical_temperature',\n",
       " 'cv',\n",
       " 'cv_mass',\n",
       " 'cv_mole',\n",
       " 'density',\n",
       " 'density_mass',\n",
       " 'density_mole',\n",
       " 'electric_potential',\n",
       " 'electrochemical_potentials',\n",
       " 'element_index',\n",
       " 'element_name',\n",
       " 'element_names',\n",
       " 'element_potentials',\n",
       " 'elemental_mass_fraction',\n",
       " 'elemental_mole_fraction',\n",
       " 'enthalpy_mass',\n",
       " 'enthalpy_mole',\n",
       " 'entropy_mass',\n",
       " 'entropy_mole',\n",
       " 'equilibrate',\n",
       " 'g',\n",
       " 'get_equivalence_ratio',\n",
       " 'gibbs_mass',\n",
       " 'gibbs_mole',\n",
       " 'h',\n",
       " 'int_energy_mass',\n",
       " 'int_energy_mole',\n",
       " 'isothermal_compressibility',\n",
       " 'mass_fraction_dict',\n",
       " 'max_temp',\n",
       " 'mean_molecular_weight',\n",
       " 'min_temp',\n",
       " 'modify_species',\n",
       " 'mole_fraction_dict',\n",
       " 'molecular_weights',\n",
       " 'n_atoms',\n",
       " 'n_elements',\n",
       " 'n_selected_species',\n",
       " 'n_species',\n",
       " 'name',\n",
       " 'partial_molar_cp',\n",
       " 'partial_molar_enthalpies',\n",
       " 'partial_molar_entropies',\n",
       " 'partial_molar_int_energies',\n",
       " 'partial_molar_volumes',\n",
       " 'reference_pressure',\n",
       " 'report',\n",
       " 's',\n",
       " 'selected_species',\n",
       " 'set_equivalence_ratio',\n",
       " 'set_unnormalized_mass_fractions',\n",
       " 'set_unnormalized_mole_fractions',\n",
       " 'species',\n",
       " 'species_index',\n",
       " 'species_name',\n",
       " 'species_names',\n",
       " 'standard_cp_R',\n",
       " 'standard_enthalpies_RT',\n",
       " 'standard_entropies_R',\n",
       " 'standard_gibbs_RT',\n",
       " 'standard_int_energies_RT',\n",
       " 'state',\n",
       " 'thermal_expansion_coeff',\n",
       " 'u',\n",
       " 'v',\n",
       " 'volume_mass',\n",
       " 'volume_mole']"
      ]
     },
     "execution_count": 12,
     "metadata": {},
     "output_type": "execute_result"
    }
   ],
   "source": [
    "# show all available attributes of \"water\" - here we will only use a couple of them\n",
    "# you can use \"help\" to learn about any attributes of interest, including the ones that are used below\n",
    "dir(water)"
   ]
  },
  {
   "cell_type": "code",
   "execution_count": 13,
   "metadata": {},
   "outputs": [
    {
     "data": {
      "text/plain": [
       "(2442.3120195756946, 43998.934880021625)"
      ]
     },
     "execution_count": 13,
     "metadata": {},
     "output_type": "execute_result"
    }
   ],
   "source": [
    "# set the water state to the reference temperature, with a vapor fraction equal to zero (i.e., pure liquid water)\n",
    "water.TX = 298.15, 0.0\n",
    "\n",
    "# h_liq is the enthalpy of liquid water (J/kg) at the reference temperature\n",
    "h_liq = water.h\n",
    "\n",
    "# set the water state to the reference temperature, with a vapor fraction equal to one (i.e., pure vapor water)\n",
    "water.TX = 298.15, 1.0\n",
    "\n",
    "# h_gas is the enthalpy of vapor water (J/kg) at the reference temperature\n",
    "h_gas = water.h\n",
    "\n",
    "# h_gas-h_liq is then the enthalpy of vaporization of water (J/kg) at the reference temperature\n",
    "# the factor of 1000. is included to convert the units to kJ/kg\n",
    "h_fg = ( h_gas - h_liq ) / 1000.\n",
    "\n",
    "# the enthalpy of vaporization on a molar basis (kJ/kmol) is found by multiplying by the molecular weight of H2O\n",
    "hbar_fg = h_fg*gas1.molecular_weights[gas1.species_index('H2O')]\n",
    "\n",
    "h_fg , hbar_fg"
   ]
  },
  {
   "cell_type": "markdown",
   "metadata": {},
   "source": [
    "The enthalpy of vaporization of water given in Table A.6 of Turns 4th ed. is slightly higher than the value computed here: 44,010 kJ/kmol. The difference is presumably a result of small differences between thermodynamic property values obtained from different sources."
   ]
  },
  {
   "cell_type": "code",
   "execution_count": 14,
   "metadata": {},
   "outputs": [
    {
     "data": {
      "text/plain": [
       "1.6341679570179235"
      ]
     },
     "execution_count": 14,
     "metadata": {},
     "output_type": "execute_result"
    }
   ],
   "source": [
    "# now we can calculate the higher heating value, which corresponds to the product water being in the liquid state\n",
    "# N_H2O is the number of moles of H2O formed per mole of C3H8 burned (kmol_h2o/kmol_c3h8), so that\n",
    "#   m_h2o is the mass of water produced per mass of C3H8 burned (kg_h2o/kg_c3h8)\n",
    "m_h2o = N_H2O*gas1.molecular_weights[gas1.species_index('H2O')] / gas1.molecular_weights[gas1.species_index('C3H8')]\n",
    "\n",
    "m_h2o"
   ]
  },
  {
   "cell_type": "code",
   "execution_count": 15,
   "metadata": {},
   "outputs": [
    {
     "data": {
      "text/plain": [
       "(50343.2932091338, 2219964.035862433)"
      ]
     },
     "execution_count": 15,
     "metadata": {},
     "output_type": "execute_result"
    }
   ],
   "source": [
    "# hhv_mass is the higher heating value of C3H8 in kJ/kg\n",
    "# hhv_mole is the higher heating value of C3H8 in kJ/kmol\n",
    "hhv_mass = lhv_mass + m_h2o*h_fg\n",
    "hhv_mole = hhv_mass*gas1.molecular_weights[gas1.species_index('C3H8')]\n",
    "\n",
    "hhv_mass , hhv_mole"
   ]
  },
  {
   "cell_type": "markdown",
   "metadata": {},
   "source": [
    "The higher heating value per unit mass of fuel is consistent with the value reported in Table B.1 of Appendix B of Turns 4th ed. for vapor $C_3H_8$ fuel, to four significant figures."
   ]
  },
  {
   "cell_type": "markdown",
   "metadata": {},
   "source": [
    "## 4. Heating values for several fuels"
   ]
  },
  {
   "cell_type": "markdown",
   "metadata": {},
   "source": [
    "Next, we generalize the above example into a function that computes the lower and higher heating values on both a per-unit-mass-of-fuel basis and a per-unit-mole-of-fuel basis, for a fuel molecule that contains (at most) C, H, and O atoms:"
   ]
  },
  {
   "cell_type": "code",
   "execution_count": 16,
   "metadata": {},
   "outputs": [],
   "source": [
    "# define a function that returns the lower and higher heating values of a fuel on both a per-unit-mass-of-fuel basis\n",
    "#   and a per-unit-mole-of-fuel basis\n",
    "# the function takes a single argument: the fuel type (denoted here as \"fuel\")\n",
    "# the heating value is computed as the difference between the reactant mixture enthalpy and the product mixture enthalpy,\n",
    "#   where both the reactants and the products are at the reference temperature and pressure,\n",
    "#   the reactants are a stoichiometric mixture of the specified fuel and our standard approximation for air,\n",
    "#   and the products are the products of complete combustion\n",
    "# with these assumptions, the numerical value of the heating value would be the same for pure O2 oxidizer (rather than air)\n",
    "# the ideal-gas mixture \"gas\" must be defined before calling this function\n",
    "# the water mixture (\"water\") must be defined before calling this function\n",
    "# the specified fuel must be one that is available in \"gas\"\n",
    "# the specified fuel must contain (at most) C, H, and O atoms\n",
    "\n",
    "def heating_values(fuel):\n",
    "    \n",
    "# set the reference temperature and pressure\n",
    "    T_ref = 298.15     # K\n",
    "    P_ref = ct.one_atm # Pa\n",
    "    \n",
    "# use our standard approximation for air\n",
    "# the heating value results would be identical for pure O2 as the oxidizer (and with zero product moles of N2)\n",
    "    air = 'O2:1.0 N2:3.76'\n",
    "\n",
    "# set the gas mixture thermochemical state to correspond to stoichiometric fuel-air reactants at the reference T and p\n",
    "    gas.TP = T_ref , P_ref\n",
    "    gas.set_equivalence_ratio(1.0, fuel, air)\n",
    "    \n",
    "# save the mass fraction of fuel in the reactants and the reactant mass-specific mixture enthalpy (J/kg)\n",
    "    Y_fuel_reac = gas.Y[gas.species_index(fuel)]\n",
    "    h_reac_mass = gas.enthalpy_mass\n",
    "\n",
    "# x, y, and z are the numbers of atoms of carbon, hydrogen, and oxygen in the fuel molecule, respectively\n",
    "    x = gas.n_atoms(fuel,'C')\n",
    "    y = gas.n_atoms(fuel,'H')\n",
    "    z = gas.n_atoms(fuel,'O')\n",
    "    \n",
    "# a is the number of moles of O2 needed per mole of fuel for complete combustion\n",
    "    a = x + y/4. - z/2.\n",
    "    \n",
    "# compute the numbers of product moles per mole of fuel, for complete combustion of stoichiometric reactants\n",
    "    N_CO2 = x\n",
    "    N_H2O = y/2.\n",
    "    N_N2  = 3.76*a\n",
    "    \n",
    "# reset the mixture thermochemical state to correspond to products of complete combustion\n",
    "#   of stoichiometric fuel-air reactants at the reference T and p\n",
    "    X_prod = {'CO2':N_CO2,'H2O':N_H2O,'N2':N_N2}\n",
    "    gas.TPX = None , None , X_prod\n",
    "    \n",
    "# save the product mass-specific mixture enthalpy (J/kg)\n",
    "    h_prod_mass = gas.enthalpy_mass\n",
    "    \n",
    "# compute the lower heating value on a per-unit-mass-of-fuel basis (J/kg)\n",
    "    lhv_mass = ( h_reac_mass - h_prod_mass ) / Y_fuel_reac \n",
    "    \n",
    "# compute the lower heating value on a per-unit-mole-of-fuel basis (J/kmol)\n",
    "    lhv_mole = lhv_mass*gas.molecular_weights[gas.species_index(fuel)]\n",
    "    \n",
    "# compute the enthalpy of vaporization of water (J/kg) at T_ref\n",
    "# this doesn't really need to be redone each time that the function is called, but it is included here for completeness\n",
    "    water.TX = T_ref, 0.0\n",
    "    h_liq    = water.h\n",
    "    water.TX = T_ref, 1.0\n",
    "    h_gas    = water.h\n",
    "    h_fg     = h_gas - h_liq\n",
    "\n",
    "# compute the mass of product water per mass of fuel burned\n",
    "    m_h2o = N_H2O*gas.molecular_weights[gas.species_index('H2O')] / gas.molecular_weights[gas.species_index(fuel)]\n",
    "\n",
    "# compute the higher heating value on a per-unit-mass-of-fuel basis (J/kg)\n",
    "    hhv_mass = lhv_mass + m_h2o*h_fg\n",
    "\n",
    "# compute the higher heating value on a per-unit-mole-of-fuel basis (J/kmol)\n",
    "    hhv_mole = hhv_mass*gas.molecular_weights[gas.species_index(fuel)]\n",
    "\n",
    "# return the four heating values - note the units of each, which are given above\n",
    "    return lhv_mass,lhv_mole,hhv_mass,hhv_mole\n",
    "\n",
    "# this is the end of the definition of the function \"heating_values\""
   ]
  },
  {
   "cell_type": "markdown",
   "metadata": {},
   "source": [
    "Now we will call the function to compute the heating values for several different fuels."
   ]
  },
  {
   "cell_type": "code",
   "execution_count": 17,
   "metadata": {},
   "outputs": [
    {
     "name": "stdout",
     "output_type": "stream",
     "text": [
      " Fuel            LHV            LHV            HHV             HHV\n",
      " Type          (kJ/kg)       (kJ/kmol)       (kJ/kg)        (kJ/kmol)\n",
      " H2         119959.822299   241824.606576  141785.989968   285823.541456\n",
      " CH4         50026.141167   802557.376464   55511.348809   890555.246224\n",
      " C2H6        47510.985335  1428638.225061   51900.688858  1560635.029701\n",
      " C3H8        46352.145166  2043968.296342   50343.293209  2219964.035862\n",
      " C2H2        48277.308237  1257038.758606   49967.113048  1301037.693486\n",
      " CH3OH       21104.011213   676218.103931   23850.326373   764215.973691\n"
     ]
    }
   ],
   "source": [
    "# define an ideal-gas mixture named \"gas\" using Cantera's \"Solution\" object and GRI-Mech 3.0\n",
    "gas = ct.Solution('gri30.cti')\n",
    "\n",
    "# define a water liquid-gas mixture named \"water\" using Cantera's \"Water\" object\n",
    "water = ct.Water()\n",
    "\n",
    "# list the fuels: hydrogen, methane, ethane, propane, acetylene, and methanol\n",
    "fuels  = ['H2', 'CH4', 'C2H6', 'C3H8', 'C2H2', 'CH3OH']\n",
    "nfuels = len(fuels)\n",
    "\n",
    "# define an array to hold four heating values for each fuel\n",
    "hvs = np.zeros(shape=(nfuels,4))\n",
    "\n",
    "# print a table header\n",
    "header1 = 'Fuel            LHV            LHV            HHV             HHV'\n",
    "header2 = 'Type          (kJ/kg)       (kJ/kmol)       (kJ/kg)        (kJ/kmol)'\n",
    "print(' {:60s}'.format(header1) )\n",
    "print(' {:60s}'.format(header2) )\n",
    "\n",
    "# loop over fuels, and compute heating values\n",
    "# convert energy units from J to kJ for printing\n",
    "for i , fueli in enumerate(fuels):\n",
    "    hvs[i,:] = heating_values(fueli)\n",
    "    print(' {:8s} {:15f} {:15f}{:15f} {:15f}'.format(fueli,hvs[i,0]/1000.,hvs[i,1]/1000.,hvs[i,2]/1000.,hvs[i,3]/1000.) )"
   ]
  },
  {
   "cell_type": "markdown",
   "metadata": {},
   "source": [
    "For methane, ethane, propane, and acetylene, the lower and higher heating values per unit mass of fuel computed here are consistent with those given in Table B.1 of Turns 4th ed., to within three-to-four significant figures. The values for hydrogen and methanol are consistent with those that can be found in other sources.\n",
    "\n",
    "On a per-unit-mass-of-fuel basis, the lower heating value of hydrogen is much higher than that of any of the other fuels. The lower heating values of all of the hydrocarbon fuels other than methane are within approximately 10% of one another. With the exception of benzene ($C_6H_6$), that is also the case for the other hydrocarbon fuels listed in Table B.1 of Turns 4th ed. The value for methanol is less than half of that for the hydrocarbon fuels. \n",
    "\n",
    "All of the fuels considered here are gaseous fuels. In the case of a liquid fuel, the heating values would be lower than those for the corresponding vapor fuel by the amount of energy needed to vaporize the fuel at the reference temperature and pressure: i.e., by the enthalpy of vaporization of the fuel. An example is provided in Example 2.4 of Chapter 2 of Turns 4th ed."
   ]
  },
  {
   "cell_type": "code",
   "execution_count": null,
   "metadata": {},
   "outputs": [],
   "source": []
  }
 ],
 "metadata": {
  "kernelspec": {
   "display_name": "Python 3",
   "language": "python",
   "name": "python3"
  },
  "language_info": {
   "codemirror_mode": {
    "name": "ipython",
    "version": 3
   },
   "file_extension": ".py",
   "mimetype": "text/x-python",
   "name": "python",
   "nbconvert_exporter": "python",
   "pygments_lexer": "ipython3",
   "version": "3.7.6"
  }
 },
 "nbformat": 4,
 "nbformat_minor": 1
}
