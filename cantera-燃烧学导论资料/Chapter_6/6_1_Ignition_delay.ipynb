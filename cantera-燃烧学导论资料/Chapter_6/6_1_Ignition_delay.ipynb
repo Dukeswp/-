{
 "cells": [
  {
   "cell_type": "markdown",
   "metadata": {},
   "source": [
    "# Ignition Delay\n",
    "\n",
    "This Jupyter Notebook was written by Dan Haworth. It was adapted from the Notebook \"batch_reactor_ignition_delay_NTC.ipynb\" at https://github.com/Cantera/cantera-jupyter/tree/master/reactors. It is intended as a tutorial to be used in parallel with Chapter 6 of the book \"An Introduction to Combustion: Concepts and Applications\" by Stephen R. Turns and Daniel C. Haworth. That book is referred to as \"Turns 4th ed.\" throughout this Notebook.\n",
    "\n",
    "This Notebook was last updated 17 February 2020.\n",
    "\n",
    "The objective of this tutorial is to provide further insight into the autoignition of a homogeneous ideal-gas mixture. The heat-release rate is defined, and negative-temperature-coefficient (NTC) behavior is introduced. Further examples of Pandas DataFrames are shown. We will use the thermodynamic properties and the reaction mechanism that are included in seiser.cti.\n",
    "\n",
    "The file \"seiser.cti\" (provided with this Notebook) must be placed in a folder or directory named \"data\" that is immediately below the folder or directory from which you have opened this Notebook. If you downloaded the .zip file that contains all of the tutorial Notebooks, the appropriate folder and file structure should be in place. The .cti file is also available at https://github.com/Cantera/cantera-jupyter/tree/master/reactors/data.\n",
    "\n",
    "The reader should be familiar with the material in the Chapter 5 Notebooks before working through this Notebook."
   ]
  },
  {
   "cell_type": "markdown",
   "metadata": {},
   "source": [
    "## 1. Motivation and background"
   ]
  },
  {
   "cell_type": "markdown",
   "metadata": {},
   "source": [
    "As discussed earlier (Chapter 2 of Turns 4th ed., and tutorial Notebook 2_8_Chemical_equilibrium), given sufficient time, an isolated system that is initially not in thermochemical equilibrium (e.g., a fuel-air reactant mixture) will eventually reach a new thermochemical state that corresponds to equilibrium, subject to the constraints imposed (element conservation, and thermodynamic process: e.g., constant-pressure adiabatic, or constant-volume adiabatic). \n",
    "\n",
    "For initial conditions (pressure, temperature, and composition) that are representative of fuel-air reactant mixtures in practical combustion applications, the time that is available for combustion is relatively short: much less than 1 s, in most cases. For a homogeneous, isolated fuel-air mixture at such conditions, one typically observes an *induction period* in which the fuel and air start to break down relatively slowly, followed by a rapid (but not instantaneous) change to the final equibrium state (*autoignition*) at a time that is referred to as the *ignition-delay time*. We have seen this behavior in earlier tutorial Notebooks: 4_3_Constant_volume_reactor, 5_2_Global_reactions, and 5_4_A_larger_reaction_mechanism for constant-volume adiabatic systems, and 4_4_Chemical_time_scales for a constant-pressure adiabatic system. \n",
    "\n",
    "The ignition-delay time of a reactant mixture is very sensitive to rates at which chemical reactions occur (chemical kinetics). Comparisons between measured and computed ignition-delay times over a range of initial conditions are therefore often used to develop and validate reaction mechanisms.\n",
    "\n",
    "In our previous tutorials, we have taken the time at which the temperature increases rapidly toward its final (equilibrium) value as the ignition-delay time. There are usually large differences between the final equilibrium states for constant-volume versus constant-pressure adiabatic systems. But in most cases, the differences between the ignition-delay times for constant-volume versus constant-pressure adiabatic systems are small, because the changes in mixture pressure and temperature from their initial values remain small up to the point of ignition.\n",
    "\n",
    "Ignition-delay time can be defined based on the time evolution of quantities other than temperature: for example, species mass or mole fractions, or *heat-release rate*. The heat-release rate is the rate at which chemical enthalpy (as quantified using species formation enthalpies) is converted to sensible enthalpy (or heat) in a combustion process. In terms of quantities that have been defined earlier in Turns 4th ed. and in previous tutorial Notebooks, the volumetric heat-release rate (denoted here as $ \\dot q _ {chem} $, with SI units W/m^3) can be written as the sum over all species in the mixture ($N_{spec}$ species) of the product of the species molar net production rate ($\\dot \\omega _i$ for species $i$, units of kmol_i/m^3-s: see tutorial Notebook 4_1_Chemical_kinetics_Cantera_basics) times the species molar formation enthalpy ($ \\overline h ^ 0 _{f,i} ( T_{ref}) $ for species $i$, units of J/kmol_i: see tutorial Notebook 2_4_Enthalpy), and with a sign change so that $ \\dot q _ {chem} >0 $ for an exothermic reaction:\n",
    "$$\n",
    "\\dot q _ {chem} = - \\sum _ {i=1} ^ {N_{spec}} \\Bigl( \\dot \\omega _ i \\overline h ^ 0 _{f,i} ( T_{ref}) \\Bigr) \\ .\n",
    "$$"
   ]
  },
  {
   "cell_type": "markdown",
   "metadata": {},
   "source": [
    "## 2. Heat-release rate and ignition delay for a constant-volume adiabatic reactor"
   ]
  },
  {
   "cell_type": "markdown",
   "metadata": {},
   "source": [
    "Here we consider autoigntion of n-heptane/air mixtures in a constant-volume adiabatic reactor. \n",
    "\n",
    "As discussed in tutorial Notebook 4_3_Constant_volume_reactor, the governing equations are developed in Chapter 6 of Turns 4th ed. In Cantera, we do not need to explicitly provide the equations: they are implicitly embedded in Cantera's [`IdealGasReactor()`](https://cantera.org/documentation/docs-2.4/sphinx/html/cython/zerodim.html#idealgasreactor) object.\n",
    "\n",
    "We could use the reaction mechanism introduced in tutorial Notebook 5_4_A_larger_reaction_mechanism, but as we saw there, that mechanism requires long computational times. Instead, we will use a somewhat more compact n-heptane mechanism."
   ]
  },
  {
   "cell_type": "code",
   "execution_count": 1,
   "metadata": {},
   "outputs": [
    {
     "name": "stdout",
     "output_type": "stream",
     "text": [
      "Running Cantera version: 2.4.0\n"
     ]
    }
   ],
   "source": [
    "# import modules\n",
    "import cantera as ct\n",
    "import numpy as np\n",
    "import matplotlib.pyplot as plt\n",
    "import pandas as pd\n",
    "import time\n",
    "\n",
    "# report Cantera version\n",
    "print(\"Running Cantera version: {}\".format(ct.__version__))"
   ]
  },
  {
   "cell_type": "code",
   "execution_count": 2,
   "metadata": {},
   "outputs": [
    {
     "name": "stdout",
     "output_type": "stream",
     "text": [
      "\n",
      "\n",
      "**** WARNING ****\n",
      "For species c7h15o-1, discontinuity in h/RT detected at Tmid = 1391\n",
      "\tValue computed using low-temperature polynomial:  21.8343\n",
      "\tValue computed using high-temperature polynomial: 21.767\n"
     ]
    }
   ],
   "source": [
    "# define a gas mixture based on seiser.cti\n",
    "# the file \"seiser.cti\" must be present in subdirectory \"data\" below the current working directory\n",
    "gas = ct.Solution('data/seiser.cti')"
   ]
  },
  {
   "cell_type": "markdown",
   "metadata": {},
   "source": [
    "As we have seen before, the warnings pertain to discontinuities in thermodynamic properties at temperature Tmid. Here we will live with the small discontinuities, which will not cause problems for our current purposes."
   ]
  },
  {
   "cell_type": "code",
   "execution_count": 3,
   "metadata": {},
   "outputs": [
    {
     "data": {
      "text/plain": [
       "(160, 1540)"
      ]
     },
     "execution_count": 3,
     "metadata": {},
     "output_type": "execute_result"
    }
   ],
   "source": [
    "# print the number of species and the number of reactions in the reaction mechanism\n",
    "gas.n_species, gas.n_reactions"
   ]
  },
  {
   "cell_type": "code",
   "execution_count": 4,
   "metadata": {},
   "outputs": [
    {
     "data": {
      "text/plain": [
       "['n2',\n",
       " 'ch3',\n",
       " 'h',\n",
       " 'ch4',\n",
       " 'h2',\n",
       " 'oh',\n",
       " 'h2o',\n",
       " 'o',\n",
       " 'c2h6',\n",
       " 'c2h5',\n",
       " 'hco',\n",
       " 'co',\n",
       " 'co2',\n",
       " 'o2',\n",
       " 'h2o2',\n",
       " 'ho2',\n",
       " 'c2h4',\n",
       " 'ch3oh',\n",
       " 'ch2oh',\n",
       " 'ch3o',\n",
       " 'ch2o',\n",
       " 'c2h2',\n",
       " 'c2h3',\n",
       " 'c2h',\n",
       " 'hcco',\n",
       " 'ch2',\n",
       " 'ch',\n",
       " 'ch2co',\n",
       " 'ch2(s)',\n",
       " 'pc2h4oh',\n",
       " 'ch3co',\n",
       " 'ch3cho',\n",
       " 'c3h5-s',\n",
       " 'c3h4-p',\n",
       " 'c3h5-a',\n",
       " 'c3h6',\n",
       " 'c3h4-a',\n",
       " 'ch3chco',\n",
       " 'c3h5-t',\n",
       " 'c4h6',\n",
       " 'nc3h7',\n",
       " 'ic3h7',\n",
       " 'c3h8',\n",
       " 'c5h9',\n",
       " 'c4h7',\n",
       " 'c4h8-1',\n",
       " 'sc4h9',\n",
       " 'pc4h9',\n",
       " 'ch3coch3',\n",
       " 'ch3coch2',\n",
       " 'c2h5co',\n",
       " 'c2h5cho',\n",
       " 'c5h10-1',\n",
       " 'ch2cho',\n",
       " 'c5h11-1',\n",
       " 'c5h11-2',\n",
       " 'c2h5o',\n",
       " 'c2h5o2',\n",
       " 'ch3o2',\n",
       " 'ch3o2h',\n",
       " 'c3h2',\n",
       " 'o2c2h4oh',\n",
       " 'c2h4o2h',\n",
       " 'c2h3co',\n",
       " 'c2h3cho',\n",
       " 'c3h5o',\n",
       " 'c3h6o1-2',\n",
       " 'c3h6ooh1-2',\n",
       " 'c3h6ooh2-1',\n",
       " 'nc3h7o',\n",
       " 'ic3h7o',\n",
       " 'nc3h7o2',\n",
       " 'ic3h7o2',\n",
       " 'c4h7o',\n",
       " 'c4h8ooh1-3o2',\n",
       " 'c4h8ooh1-3',\n",
       " 'nc4ket13',\n",
       " 'c4h8ooh1-2',\n",
       " 'c4h8o1-3',\n",
       " 'pc4h9o2',\n",
       " 'c3h3',\n",
       " 'hocho',\n",
       " 'c2h3o1,2',\n",
       " 'nc3h7cho',\n",
       " 'nc3h7co',\n",
       " 'c3h6cho-2',\n",
       " 'ch2ch2coch3',\n",
       " 'c2h5coch2',\n",
       " 'c2h5coc2h4p',\n",
       " 'nc3h7coch2',\n",
       " 'nc4h9cho',\n",
       " 'nc4h9co',\n",
       " 'hoch2o',\n",
       " 'c6h13-1',\n",
       " 'c6h12-1',\n",
       " 'c6h11',\n",
       " 'nc7h16',\n",
       " 'c7h15-1',\n",
       " 'c7h15-2',\n",
       " 'c7h15-3',\n",
       " 'c7h15-4',\n",
       " 'c7h15o2-1',\n",
       " 'c7h15o2h-1',\n",
       " 'c7h15o2-2',\n",
       " 'c7h15o2h-2',\n",
       " 'c7h15o2-3',\n",
       " 'c7h15o2h-3',\n",
       " 'c7h14-1',\n",
       " 'c7h14-2',\n",
       " 'c7h14-3',\n",
       " 'c7h13',\n",
       " 'c7h15o2-4',\n",
       " 'c7h15o-1',\n",
       " 'c7h15o-2',\n",
       " 'c7h15o-3',\n",
       " 'c7h14ooh1-2',\n",
       " 'c7h14ooh1-3',\n",
       " 'c7h14ooh1-4',\n",
       " 'c7h14ooh2-3',\n",
       " 'c7h14ooh2-4',\n",
       " 'c7h14ooh2-5',\n",
       " 'c7h14ooh3-1',\n",
       " 'c7h14ooh3-2',\n",
       " 'c7h14ooh3-4',\n",
       " 'c7h14ooh3-5',\n",
       " 'c7h14ooh3-6',\n",
       " 'c7h14ooh4-2',\n",
       " 'c7h14ooh4-3',\n",
       " 'c7h14o1-3',\n",
       " 'c7h14o1-4',\n",
       " 'c7h14o2-4',\n",
       " 'c7h14o2-5',\n",
       " 'c7h14o3-5',\n",
       " 'c7h14ooh1-3o2',\n",
       " 'c7h14ooh2-3o2',\n",
       " 'c7h14ooh2-4o2',\n",
       " 'c7h14ooh2-5o2',\n",
       " 'c7h14ooh3-1o2',\n",
       " 'c7h14ooh3-2o2',\n",
       " 'c7h14ooh3-4o2',\n",
       " 'c7h14ooh3-5o2',\n",
       " 'c7h14ooh3-6o2',\n",
       " 'c7h14ooh4-2o2',\n",
       " 'c7h14ooh4-3o2',\n",
       " 'nc7ket13',\n",
       " 'nc7ket23',\n",
       " 'nc7ket24',\n",
       " 'nc7ket25',\n",
       " 'nc7ket31',\n",
       " 'nc7ket32',\n",
       " 'nc7ket34',\n",
       " 'nc7ket35',\n",
       " 'nc7ket36',\n",
       " 'nc7ket42',\n",
       " 'nc7ket43',\n",
       " 'nc4h9coch2',\n",
       " 'c4h7ooh1-4',\n",
       " 'c5h9ooh1-4',\n",
       " 'c4h7o1-4',\n",
       " 'c5h9o1-4']"
      ]
     },
     "execution_count": 4,
     "metadata": {},
     "output_type": "execute_result"
    }
   ],
   "source": [
    "# print the list of species names\n",
    "gas.species_names"
   ]
  },
  {
   "cell_type": "markdown",
   "metadata": {},
   "source": [
    "This mechanism is much smaller than the detailed mechanism used in tutorial Notebook 5_4_A_larger_reaction_mechanism. We anticipate that the computational time required for the current mechanism should be considerably shorter, and that is indeed the case.\n",
    "\n",
    "Note that the species names are in lower case in this input data file. The primary fuel molecule (n-heptane) is named \"nc7h16\" here.\n",
    "\n",
    "To compute the heat-release rate, we will need the species formation enthalpies. So let's go ahead and compute and store those. See tutorial Notebook 2_4_Enthalpy."
   ]
  },
  {
   "cell_type": "code",
   "execution_count": 5,
   "metadata": {},
   "outputs": [
    {
     "data": {
      "text/plain": [
       "array([ 1.42891877e+03,  1.45699995e+08,  2.17980294e+08, -7.48940729e+07,\n",
       "        2.44783627e+03,  3.97102396e+07, -2.41846308e+08,  2.49198666e+08,\n",
       "       -8.53623694e+07,  1.17227354e+08,  4.35174734e+07, -1.10541369e+08,\n",
       "       -3.93548610e+08, -8.47805650e+02, -1.36108561e+08,  1.59008337e+07,\n",
       "        5.24647117e+07, -2.01101574e+08, -1.71677262e+07,  1.63037126e+07,\n",
       "       -1.15915979e+08,  2.26770213e+08,  2.86255220e+08,  5.64904602e+08,\n",
       "        1.77606017e+08,  3.86994673e+08,  5.94183958e+08, -5.18711406e+07,\n",
       "        4.24729413e+08, -3.01278947e+07, -2.26024096e+07, -1.65321202e+08,\n",
       "        2.66757405e+08,  1.91516067e+08,  1.70515518e+08,  1.94575992e+07,\n",
       "        1.99312049e+08, -8.20566696e+07,  2.57551659e+08,  1.46305385e+08,\n",
       "        9.45611700e+07,  7.61511955e+07, -1.03855002e+08,  1.19088875e+08,\n",
       "        1.37584054e+08, -4.60286791e+05,  6.73274772e+07,  7.84162163e+07,\n",
       "       -2.15749203e+08, -3.03789604e+07, -3.18016665e+07, -1.86207128e+08,\n",
       "       -2.10895259e+07,  2.51022145e+07,  5.77869772e+07,  4.66982380e+07,\n",
       "       -1.77419822e+07, -2.92910086e+07,  8.36886008e+06, -1.33064869e+08,\n",
       "        5.42298064e+08, -1.72775109e+08,  3.43123255e+07,  6.93778476e+07,\n",
       "       -8.50276142e+07,  9.26851220e+07, -9.15553252e+07,  2.59434718e+06,\n",
       "       -4.18442923e+06, -3.83712214e+07, -5.66571799e+07, -4.99202477e+07,\n",
       "       -6.77877629e+07, -5.24309057e+07, -1.73779372e+08, -1.80348920e+07,\n",
       "       -3.10066253e+08, -1.80348919e+07, -1.15741330e+08, -7.05494868e+07,\n",
       "        3.47472504e+08, -3.77435574e+08,  7.70771986e+07, -2.06836368e+08,\n",
       "       -5.24309057e+07, -1.28880434e+07, -3.29733068e+07, -5.89167720e+07,\n",
       "       -5.52344735e+07, -8.16382263e+07, -2.27465607e+08, -7.30601447e+07,\n",
       "       -1.63485674e+08,  3.71577381e+07, -4.17187650e+07,  8.68687648e+07,\n",
       "       -1.88508565e+08,  1.65284990e+07,  5.43975976e+06,  5.43975976e+06,\n",
       "        5.43975976e+06, -1.32437204e+08, -2.73870933e+08, -1.50304720e+08,\n",
       "       -2.91738449e+08, -1.50304720e+08, -2.91738449e+08, -6.23480038e+07,\n",
       "       -7.46502277e+07, -7.39388752e+07,  7.78303965e+07, -1.50304720e+08,\n",
       "       -1.20886535e+08, -1.39174137e+08, -1.39174137e+08, -7.99226091e+07,\n",
       "       -7.99226091e+07, -7.99226091e+07, -9.77901248e+07, -9.77901248e+07,\n",
       "       -9.77901248e+07, -8.67013856e+07, -9.77901248e+07, -9.77901248e+07,\n",
       "       -9.77901248e+07, -9.77901248e+07, -9.77901248e+07, -9.77901248e+07,\n",
       "       -1.77629047e+08, -2.62740351e+08, -1.95915005e+08, -2.81026309e+08,\n",
       "       -1.95915005e+08, -2.35667089e+08, -2.53534604e+08, -2.53534604e+08,\n",
       "       -2.53534604e+08, -2.35667089e+08, -2.53534604e+08, -2.53534604e+08,\n",
       "       -2.53534604e+08, -2.53534604e+08, -2.53534604e+08, -2.53534604e+08,\n",
       "       -3.71953970e+08, -3.86641319e+08, -4.03127972e+08, -4.03127972e+08,\n",
       "       -3.86892385e+08, -3.88273246e+08, -3.88273246e+08, -4.03127972e+08,\n",
       "       -4.03127972e+08, -4.04759900e+08, -3.88273246e+08, -1.02267465e+08,\n",
       "       -8.91283553e+07, -1.24235722e+08,  6.71601000e+07,  2.82449023e+07])"
      ]
     },
     "execution_count": 5,
     "metadata": {},
     "output_type": "execute_result"
    }
   ],
   "source": [
    "# set the mixture to the reference temperature\n",
    "Tref   = 298.15\n",
    "gas.TP = Tref , None\n",
    "\n",
    "# since sensible enthalpies (with respect to Tref) are equal to zero at Tref, \n",
    "#   the species standardized enthalpies are equal to the formation enthalpies at Tref\n",
    "# so \"hf\" is an array that contains the species formation enthalpies in J/kmol at the reference temperature Tref\n",
    "hf  = gas.partial_molar_enthalpies\n",
    "\n",
    "# print the species formation enthalpies\n",
    "hf"
   ]
  },
  {
   "cell_type": "markdown",
   "metadata": {},
   "source": [
    "Next, we define a function that computes the heat-release rate."
   ]
  },
  {
   "cell_type": "code",
   "execution_count": 6,
   "metadata": {},
   "outputs": [],
   "source": [
    "# define a function that returns the heat-release rate in W/m^3\n",
    "# the gas mixture \"gas\" must be defined on calling this function,\n",
    "#   and the thermochemical state of \"gas\" (temperature, pressure, and composition) must be set to the\n",
    "#   conditions at which the heat-release rate is to be computed\n",
    "def heat_release_rate():\n",
    "    qdot = 0.\n",
    "    for i in range(gas.n_species):\n",
    "        qdot += -gas.net_production_rates[i]*hf[i]\n",
    "    return qdot"
   ]
  },
  {
   "cell_type": "code",
   "execution_count": 7,
   "metadata": {},
   "outputs": [],
   "source": [
    "# specify the initial temperature, pressure, and composition\n",
    "# a stoichiometric mixture of n-heptane and air is considered first\n",
    "T_0  = 1000.   # (K)\n",
    "p_0  = 101325. # (Pa)\n",
    "fuel = 'nc7h16'\n",
    "air  = {'o2':1.0, 'n2':3.76}\n",
    "phi  = 1.0\n",
    "\n",
    "gas.TP = T_0, p_0\n",
    "gas.set_equivalence_ratio(phi,fuel,air)\n",
    "\n",
    "# save the initial mixture composition (species mole fractions)\n",
    "X_0 = gas.X"
   ]
  },
  {
   "cell_type": "code",
   "execution_count": 8,
   "metadata": {},
   "outputs": [
    {
     "name": "stdout",
     "output_type": "stream",
     "text": [
      "\n",
      "  gas:\n",
      "\n",
      "       temperature            1000  K\n",
      "          pressure          101325  Pa\n",
      "           density        0.367888  kg/m^3\n",
      "  mean mol. weight         30.1879  amu\n",
      "\n",
      "                          1 kg            1 kmol\n",
      "                       -----------      ------------\n",
      "          enthalpy      7.1647e+05        2.163e+07     J\n",
      "   internal energy      4.4105e+05        1.331e+07     J\n",
      "           entropy          8152.1        2.461e+05     J/K\n",
      "    Gibbs function     -7.4356e+06       -2.245e+08     J\n",
      " heat capacity c_p          1316.7        3.975e+04     J/K\n",
      " heat capacity c_v          1041.3        3.143e+04     J/K\n",
      "\n",
      "                           X                 Y          Chem. Pot. / RT\n",
      "                     -------------     ------------     ------------\n",
      "                n2       0.775112         0.719281         -25.1053\n",
      "                o2       0.206147         0.218513         -28.1338\n",
      "            nc7h16      0.0187406        0.0622065         -92.7345\n",
      "     [ +157 minor]              0                0\n",
      "\n"
     ]
    }
   ],
   "source": [
    "# print the full initial state of the mixture\n",
    "gas()"
   ]
  },
  {
   "cell_type": "markdown",
   "metadata": {},
   "source": [
    "We will use `IdealGasReactor()`, as we did earlier in tutorial Notebook 4_3_Constant_volume_reactor.\n",
    "\n",
    "In addition to the state variables that are associated with the reactor, we will compute and include in our Pandas DataFrame the time evolution of the heat-release rate. For that, we follow the model that was introduced in tutorial Notebook 4_4_Chemical_time_scales."
   ]
  },
  {
   "cell_type": "code",
   "execution_count": 9,
   "metadata": {},
   "outputs": [
    {
     "data": {
      "text/html": [
       "<div>\n",
       "<style scoped>\n",
       "    .dataframe tbody tr th:only-of-type {\n",
       "        vertical-align: middle;\n",
       "    }\n",
       "\n",
       "    .dataframe tbody tr th {\n",
       "        vertical-align: top;\n",
       "    }\n",
       "\n",
       "    .dataframe thead th {\n",
       "        text-align: right;\n",
       "    }\n",
       "</style>\n",
       "<table border=\"1\" class=\"dataframe\">\n",
       "  <thead>\n",
       "    <tr style=\"text-align: right;\">\n",
       "      <th></th>\n",
       "      <th>mass</th>\n",
       "      <th>volume</th>\n",
       "      <th>temperature</th>\n",
       "      <th>n2</th>\n",
       "      <th>ch3</th>\n",
       "      <th>h</th>\n",
       "      <th>ch4</th>\n",
       "      <th>h2</th>\n",
       "      <th>oh</th>\n",
       "      <th>h2o</th>\n",
       "      <th>...</th>\n",
       "      <th>nc7ket36</th>\n",
       "      <th>nc7ket42</th>\n",
       "      <th>nc7ket43</th>\n",
       "      <th>nc4h9coch2</th>\n",
       "      <th>c4h7ooh1-4</th>\n",
       "      <th>c5h9ooh1-4</th>\n",
       "      <th>c4h7o1-4</th>\n",
       "      <th>c5h9o1-4</th>\n",
       "      <th>qdot</th>\n",
       "      <th>empty</th>\n",
       "    </tr>\n",
       "  </thead>\n",
       "  <tbody>\n",
       "    <tr>\n",
       "      <th>0.0</th>\n",
       "      <td>0.367888</td>\n",
       "      <td>1.0</td>\n",
       "      <td>1000.0</td>\n",
       "      <td>0.719281</td>\n",
       "      <td>0.0</td>\n",
       "      <td>0.0</td>\n",
       "      <td>0.0</td>\n",
       "      <td>0.0</td>\n",
       "      <td>0.0</td>\n",
       "      <td>0.0</td>\n",
       "      <td>...</td>\n",
       "      <td>0.0</td>\n",
       "      <td>0.0</td>\n",
       "      <td>0.0</td>\n",
       "      <td>0.0</td>\n",
       "      <td>0.0</td>\n",
       "      <td>0.0</td>\n",
       "      <td>0.0</td>\n",
       "      <td>0.0</td>\n",
       "      <td>-8673.522136</td>\n",
       "      <td>0.0</td>\n",
       "    </tr>\n",
       "  </tbody>\n",
       "</table>\n",
       "<p>1 rows × 165 columns</p>\n",
       "</div>"
      ],
      "text/plain": [
       "         mass  volume  temperature        n2  ch3    h  ch4   h2   oh  h2o  \\\n",
       "0.0  0.367888     1.0       1000.0  0.719281  0.0  0.0  0.0  0.0  0.0  0.0   \n",
       "\n",
       "     ...  nc7ket36  nc7ket42  nc7ket43  nc4h9coch2  c4h7ooh1-4  c5h9ooh1-4  \\\n",
       "0.0  ...       0.0       0.0       0.0         0.0         0.0         0.0   \n",
       "\n",
       "     c4h7o1-4  c5h9o1-4         qdot  empty  \n",
       "0.0       0.0       0.0 -8673.522136    0.0  \n",
       "\n",
       "[1 rows x 165 columns]"
      ]
     },
     "execution_count": 9,
     "metadata": {},
     "output_type": "execute_result"
    }
   ],
   "source": [
    "# define and name a constant-volume reactor that is filled with the ideal-gas mixture \"gas\"\n",
    "reactor = ct.IdealGasReactor(contents=gas,name=\"Constant-volume batch reactor\")\n",
    "\n",
    "# add \"reactor\" to a reactor network named \"reactorNetwork\"\n",
    "reactorNetwork = ct.ReactorNet([reactor])\n",
    "\n",
    "# create a list of all variables (named \"stateVariableNames\") for which we will compute and store time-dependent data\n",
    "# append two more, beyond those that are used internally to characterize the reactor state\n",
    "stateVariableNames = [reactor.component_name(i) for i in range(reactor.n_vars)]\n",
    "stateVariableNames.append('qdot')\n",
    "stateVariableNames.append('empty')\n",
    "\n",
    "# create a Pandas DataFrame named \"timeHistory\", using the state variable names as column headings\n",
    "timeHistory = pd.DataFrame(columns=stateVariableNames)\n",
    "\n",
    "# define an array to hold the heat-release rate at the current time t\n",
    "# this is done for convenience in subsequent operations\n",
    "# only array index 0 will actually be used\n",
    "qdott = np.zeros(2)\n",
    "\n",
    "# fill the first row of \"timeHistory\" with the initial condition\n",
    "t        = 0.\n",
    "qdott[0] = heat_release_rate()\n",
    "timeHistory.loc[t] = np.concatenate((reactor.get_state(),qdott))\n",
    "\n",
    "timeHistory"
   ]
  },
  {
   "cell_type": "markdown",
   "metadata": {},
   "source": [
    "Here we will use [`advance()`](https://cantera.org/documentation/docs-2.4/sphinx/html/cython/zerodim.html#cantera.ReactorNet.advance) rather than [`step()`](https://cantera.org/documentation/docs-2.4/sphinx/html/cython/zerodim.html#cantera.ReactorNet.step) to perform the time integration."
   ]
  },
  {
   "cell_type": "code",
   "execution_count": 10,
   "metadata": {},
   "outputs": [
    {
     "name": "stdout",
     "output_type": "stream",
     "text": [
      "Help on method_descriptor:\n",
      "\n",
      "advance(...)\n",
      "    ReactorNet.advance(self, double t)\n",
      "    \n",
      "    Advance the state of the reactor network in time from the current\n",
      "    time to time *t* [s], taking as many integrator timesteps as necessary.\n",
      "\n"
     ]
    }
   ],
   "source": [
    "# let's see what \"advance\" does\n",
    "help(reactorNetwork.__class__.advance)"
   ]
  },
  {
   "cell_type": "markdown",
   "metadata": {},
   "source": [
    "That is, \"advance\" integrates the system in time from the current time to a specified end time, taking as many internal computational time steps as needed, and ending at exactly the specified end time. "
   ]
  },
  {
   "cell_type": "markdown",
   "metadata": {},
   "source": [
    "We also define a function that will return the ignition-delay time, given the time history of the system. At discussed earlier, ignition-delay time can be defined in various ways: for example, as the instant at which the time-rate-of-increase of temperature has its maximum value. Here a simpler definition is used, based on the instant at which a specified species mass fraction or the heat-release rate reaches its maximum value. From our earlier experience with constant-pressure and constant-volume reactors, we expect that a reasonable species choice might be OH. We will confirm that below."
   ]
  },
  {
   "cell_type": "code",
   "execution_count": 11,
   "metadata": {},
   "outputs": [],
   "source": [
    "# define a function that returns the time at which a specified quantity in a Pandas DataFrame has its maximum value\n",
    "# here \"df\" is a Pandas DataFrame that contains the time evolution of the system, and \"quantity\" is the quantity name:\n",
    "#   that is, the name assigned to a particular column of the DataFrame\n",
    "def ignitionDelay(df, quantity):\n",
    "# 'idxmax' returns the index (row - here time) in the DataFrame at which the value in column \"species\" has its max value\n",
    "    return df[quantity].idxmax()"
   ]
  },
  {
   "cell_type": "code",
   "execution_count": 12,
   "metadata": {},
   "outputs": [
    {
     "name": "stdout",
     "output_type": "stream",
     "text": [
      "Ignition delay based on OH  is 3.250e-02 seconds.\n",
      "Ignition delay based on HRR is 3.250e-02 seconds.\n",
      "This required 14.60 s to compute\n"
     ]
    }
   ],
   "source": [
    "# specify the integration end time in seconds, and the number of uniform time intervals at which to save the reactor state\n",
    "# experience and/or trial-and-error are usually needed to estimate an appropriate end-time value\n",
    "#   that allows the system to reach steady state, without wasting computational effort by computing far beyond\n",
    "#   the steady state\n",
    "# alternatively, \"advance_to_steady_state\" could be used to integrate directly from the current time to the steady state\n",
    "#   solution, without the need to explicitly specify an end time (although other parameters would be needed)\n",
    "t_end   = 0.1          # end time for time integration (s)\n",
    "n_save  = 2000         # number of uniform time intervals at which the solution will be saved\n",
    "dt_save = t_end/n_save # time interval at which the solution will be saved\n",
    "\n",
    "# initialize the timer to monitor computer time required\n",
    "ctim0 = time.time()\n",
    "\n",
    "# perform the time integration, and save the state at the end of each time interval\n",
    "# recall that \"t\" was initialized to zero earlier\n",
    "while(t < t_end):\n",
    "    t += dt_save\n",
    "    reactorNetwork.advance(t)\n",
    "    qdott[0] = heat_release_rate()\n",
    "    timeHistory.loc[t] = np.concatenate((reactor.get_state(),qdott))\n",
    "\n",
    "# the computer time needed to perform the integration is the difference between ctim1 and ctim0\n",
    "ctim1 = time.time()\n",
    "ctime = ctim1 - ctim0\n",
    "\n",
    "# the ignition delay time \"tauOH\" is the time at which OH mass fraction attains it maximum value\n",
    "tauOH = ignitionDelay(timeHistory, 'oh')\n",
    "\n",
    "# the ignition delay time \"tauHRR\" is the time at which the heat-release rate attains it maximum value\n",
    "tauHRR = ignitionDelay(timeHistory, 'qdot')\n",
    "\n",
    "# print the ignition delay times and computer time required\n",
    "print('Ignition delay based on OH  is {:.3e} seconds.'.format(tauOH))\n",
    "print('Ignition delay based on HRR is {:.3e} seconds.'.format(tauHRR))\n",
    "print('This required {:3.2f} s to compute'.format(ctime))"
   ]
  },
  {
   "cell_type": "markdown",
   "metadata": {},
   "source": [
    "For this case, the ignition-delay times based on maximum OH mass fraction and on maximum heat-release rate are equal, to within four significant figures."
   ]
  },
  {
   "cell_type": "code",
   "execution_count": 13,
   "metadata": {},
   "outputs": [],
   "source": [
    "# save the time history to an Excel-compatible file for subsequent external post-processing\n",
    "timeHistory.to_csv(\"time_history.csv\")"
   ]
  },
  {
   "cell_type": "markdown",
   "metadata": {},
   "source": [
    "Before proceeding, we confirm that the steady-state solution from the time integration is consistent with chemical equilibrium. This should always be the case, provided that we integrated long enough in time to reach equilibrium. In this case, it is the constant-volume adiabatic equilibrium state (constant mixture internal energy and volume) that is relevant."
   ]
  },
  {
   "cell_type": "code",
   "execution_count": 14,
   "metadata": {},
   "outputs": [
    {
     "name": "stdout",
     "output_type": "stream",
     "text": [
      "\n",
      "  gas:\n",
      "\n",
      "       temperature         2839.29  K\n",
      "          pressure          316316  Pa\n",
      "           density        0.367888  kg/m^3\n",
      "  mean mol. weight         27.4561  amu\n",
      "\n",
      "                          1 kg            1 kmol\n",
      "                       -----------      ------------\n",
      "          enthalpy      1.3009e+06        3.572e+07     J\n",
      "   internal energy      4.4105e+05        1.211e+07     J\n",
      "           entropy          9844.9        2.703e+05     J/K\n",
      "    Gibbs function     -2.6652e+07       -7.318e+08     J\n",
      " heat capacity c_p          1483.5        4.073e+04     J/K\n",
      " heat capacity c_v          1180.7        3.242e+04     J/K\n",
      "\n",
      "                           X                 Y          Chem. Pot. / RT\n",
      "                     -------------     ------------     ------------\n",
      "                n2        0.70497         0.719281           -27.38\n",
      "               ch3    3.94193e-14      2.15858e-14         -55.5187\n",
      "                 h     0.00509598      0.000187078         -12.0879\n",
      "                h2      0.0104031      0.000763815         -24.0662\n",
      "                oh       0.016647        0.0103117         -28.3323\n",
      "               h2o       0.115079         0.075509         -40.3661\n",
      "                 o     0.00519276       0.00302595         -16.3819\n",
      "               hco    7.07586e-08      7.47846e-08         -47.5976\n",
      "                co      0.0471582        0.0481102          -35.541\n",
      "               co2      0.0721549         0.115658         -51.8825\n",
      "                o2      0.0232912        0.0271447         -32.6801\n",
      "              h2o2    4.08471e-07      5.06044e-07          -56.781\n",
      "               ho2    6.94612e-06      8.35036e-06         -44.7777\n",
      "              ch2o    8.53084e-10      9.32941e-10         -59.6276\n",
      "               ch2    3.42963e-14      1.75214e-14         -43.7142\n",
      "                ch     5.0534e-14      2.39618e-14         -31.4967\n",
      "             hocho    2.84152e-09      4.76334e-09         -76.1117\n",
      "     [ +143 minor]    1.30632e-14      1.14938e-14\n",
      "\n"
     ]
    }
   ],
   "source": [
    "# print the final mixture state from the time integration\n",
    "gas()"
   ]
  },
  {
   "cell_type": "code",
   "execution_count": 15,
   "metadata": {},
   "outputs": [
    {
     "name": "stdout",
     "output_type": "stream",
     "text": [
      "\n",
      "  gas:\n",
      "\n",
      "       temperature            1000  K\n",
      "          pressure          101325  Pa\n",
      "           density        0.367888  kg/m^3\n",
      "  mean mol. weight         30.1879  amu\n",
      "\n",
      "                          1 kg            1 kmol\n",
      "                       -----------      ------------\n",
      "          enthalpy      7.1647e+05        2.163e+07     J\n",
      "   internal energy      4.4105e+05        1.331e+07     J\n",
      "           entropy          8152.1        2.461e+05     J/K\n",
      "    Gibbs function     -7.4356e+06       -2.245e+08     J\n",
      " heat capacity c_p          1316.7        3.975e+04     J/K\n",
      " heat capacity c_v          1041.3        3.143e+04     J/K\n",
      "\n",
      "                           X                 Y          Chem. Pot. / RT\n",
      "                     -------------     ------------     ------------\n",
      "                n2       0.775112         0.719281         -25.1053\n",
      "                o2       0.206147         0.218513         -28.1338\n",
      "            nc7h16      0.0187406        0.0622065         -92.7345\n",
      "     [ +157 minor]              0                0\n",
      "\n"
     ]
    }
   ],
   "source": [
    "# reset \"gas\" to the initial reactant mixture\n",
    "gas.TPX = T_0, p_0, X_0\n",
    "gas()"
   ]
  },
  {
   "cell_type": "code",
   "execution_count": 16,
   "metadata": {},
   "outputs": [
    {
     "name": "stdout",
     "output_type": "stream",
     "text": [
      "\n",
      "  gas:\n",
      "\n",
      "       temperature         2837.06  K\n",
      "          pressure          316134  Pa\n",
      "           density        0.367888  kg/m^3\n",
      "  mean mol. weight         27.4504  amu\n",
      "\n",
      "                          1 kg            1 kmol\n",
      "                       -----------      ------------\n",
      "          enthalpy      1.3004e+06         3.57e+07     J\n",
      "   internal energy      4.4105e+05        1.211e+07     J\n",
      "           entropy            9845        2.702e+05     J/K\n",
      "    Gibbs function      -2.663e+07        -7.31e+08     J\n",
      " heat capacity c_p          1483.5        4.072e+04     J/K\n",
      " heat capacity c_v          1180.7        3.241e+04     J/K\n",
      "\n",
      "                           X                 Y          Chem. Pot. / RT\n",
      "                     -------------     ------------     ------------\n",
      "                n2       0.704822         0.719281         -27.3779\n",
      "               ch3     5.0237e-14      2.75152e-14         -55.2664\n",
      "                 h     0.00541933       0.00019899          -12.018\n",
      "                h2      0.0106996      0.000785746         -24.0359\n",
      "                oh      0.0162127        0.0100449         -28.3552\n",
      "               h2o       0.114809        0.0753477         -40.3732\n",
      "                 o     0.00537858        0.0031349         -16.3373\n",
      "               hco    7.25333e-08      7.66764e-08         -47.5677\n",
      "                co      0.0468121        0.0477671         -35.5497\n",
      "               co2      0.0724759         0.116197          -51.887\n",
      "                o2      0.0233624        0.0272334         -32.6745\n",
      "              h2o2    4.38047e-07      5.42799e-07         -56.7105\n",
      "               ho2    7.53192e-06       9.0565e-06         -44.6925\n",
      "             ch2oh    3.17661e-14      3.59134e-14         -71.6036\n",
      "              ch2o    8.88515e-10      9.71892e-10         -59.5857\n",
      "               ch2    5.37549e-14      2.74682e-14         -43.2484\n",
      "                ch    6.45003e-14      3.05907e-14         -31.2304\n",
      "             hocho    3.45155e-09      5.78717e-09         -75.9229\n",
      "     [ +142 minor]    1.15686e-14      8.73731e-15\n",
      "\n"
     ]
    }
   ],
   "source": [
    "# compute the equilibrium composition and temperature, for a constant-volume adiabatic process\n",
    "#   (contant mixture internal energy and volume)\n",
    "gas.equilibrate('UV')\n",
    "gas()"
   ]
  },
  {
   "cell_type": "markdown",
   "metadata": {},
   "source": [
    "The steady-state solution from the time integration agrees with the equilibrium solution, to a good approximation. For example, the steady-state temperature is within approximately 2 K of the equilibrium temperature. Closer agreement presumably could be realized by enforcing tighter numerical tolerances during the time integration for the constant-volume reactor.\n",
    "\n",
    "Now, let's confirm that maximum OH mass fraction and maximum heat-release rate are reasonable choices for defining the ignition-delay time."
   ]
  },
  {
   "cell_type": "code",
   "execution_count": 17,
   "metadata": {},
   "outputs": [
    {
     "data": {
      "image/png": "[encoded data removed]",
      "text/plain": [
       "<Figure size 432x288 with 1 Axes>"
      ]
     },
     "metadata": {
      "needs_background": "light"
     },
     "output_type": "display_data"
    }
   ],
   "source": [
    "# plot the time evolution of temperature, OH, and heat-release rate\n",
    "# scale each quantitity by its maximum value, so that it ranges from 0 to 1\n",
    "Tmax   = max(timeHistory['temperature'])\n",
    "OHmax  = max(timeHistory['oh'])\n",
    "HRRmax = max(timeHistory['qdot'])\n",
    "\n",
    "fig, ax = plt.subplots()\n",
    "ax.plot(timeHistory.index, timeHistory['temperature']/Tmax, label='T',   lw=2)\n",
    "ax.plot(timeHistory.index, timeHistory['oh']/OHmax,         label='OH',  lw=2)\n",
    "ax.plot(timeHistory.index, timeHistory['qdot']/HRRmax,      label='HRR', lw=2)\n",
    "ax.set(xlabel='Time (s)',\n",
    "       ylabel='Normalized quantity (-)',\n",
    "       title ='Normalized quantities vs. time for constant-volume adiabatic reactor')\n",
    "ax.legend(handlelength=4,loc='best')\n",
    "ax.grid(True)\n",
    "fig.savefig(\"T_vs_t_vconst.pdf\")"
   ]
  },
  {
   "cell_type": "code",
   "execution_count": 18,
   "metadata": {},
   "outputs": [
    {
     "data": {
      "image/png": "[encoded data removed]",
      "text/plain": [
       "<Figure size 432x288 with 1 Axes>"
      ]
     },
     "metadata": {
      "needs_background": "light"
     },
     "output_type": "display_data"
    }
   ],
   "source": [
    "# zoom in around the time of ignition\n",
    "fig, ax = plt.subplots()\n",
    "ax.plot(timeHistory.index, timeHistory['temperature']/Tmax, label='T',   lw=2)\n",
    "ax.plot(timeHistory.index, timeHistory['oh']/OHmax,         label='OH',  lw=2)\n",
    "ax.plot(timeHistory.index, timeHistory['qdot']/HRRmax,      label='HRR', lw=2)\n",
    "ax.set(xlim=(0.031,0.034),\n",
    "       xlabel='Time (s)',\n",
    "       ylabel='Normalized quantity (-)',\n",
    "       title ='Normalized quantities vs. time for constant-volume adiabatic reactor')\n",
    "ax.legend(handlelength=4,loc='best')\n",
    "ax.grid(True)\n",
    "fig.savefig(\"T_vs_t_vconst_zoomed.pdf\")"
   ]
  },
  {
   "cell_type": "markdown",
   "metadata": {},
   "source": [
    "The peaks in OH and in heat-release rate occur at very close to the same instant in time, and both coincide to within a good approximation to the instant of maximum time-rate-of-change of temperature. Other good candidate species would be O or H.\n",
    "\n",
    "The curves could be made smoother by using a larger value of \"n_save\" above in performing the time integration, at the expense of longer computational time. If too small of a value of \"n_save\" had been used, the peaks might have been missed altogether. This is an advantage of using `step()` rather than `advance()` to perform the time integration, as the internal computational time step will automatically become smaller around the time of ignition, when the temperature and composition are changing rapidly. "
   ]
  },
  {
   "cell_type": "markdown",
   "metadata": {},
   "source": [
    "## 3. Ignition delay versus reactant temperature: NTC behavior"
   ]
  },
  {
   "cell_type": "markdown",
   "metadata": {},
   "source": [
    "We next consider the constant-volume adiabatic combustion of a stoichiometric n-heptane/air mixture, initially at 1 atm, and over a range of values for the initial temperature.\n",
    "\n",
    "Here we will go back to `step()` to perform the time integration."
   ]
  },
  {
   "cell_type": "code",
   "execution_count": 19,
   "metadata": {},
   "outputs": [
    {
     "name": "stdout",
     "output_type": "stream",
     "text": [
      "0 1800.0 0.1\n",
      "1 1600.0 0.1\n",
      "2 1400.0 0.1\n",
      "3 1200.0 0.1\n",
      "4 1000.0 0.1\n",
      "5 950.0 0.1\n",
      "6 925.0 1.0\n",
      "7 900.0 1.0\n",
      "8 850.0 1.0\n",
      "9 825.0 1.0\n",
      "10 800.0 1.0\n",
      "11 750.0 1.0\n",
      "12 700.0 1.0\n",
      "13 675.0 1.0\n",
      "14 650.0 1.0\n",
      "15 625.0 1.0\n",
      "16 600.0 1.0\n",
      "17 550.0 10.0\n",
      "18 500.0 100.0\n"
     ]
    }
   ],
   "source": [
    "# specify the initial pressure\n",
    "p_0 = 101325.\n",
    "\n",
    "# specify the initial mixture composition\n",
    "fuel = 'nc7h16'\n",
    "air  = {'o2':1.0, 'n2':3.76}\n",
    "phi  = 1.0\n",
    "\n",
    "# specify the initial temperatures for which we will compute the ignition delays\n",
    "# the reason for the non-uniform temperature intervals will become apparent when we plot the results, below\n",
    "T_0 = [1800., 1600., 1400., 1200., 1000., 950., 925., 900., 850., 825., 800.,\n",
    "        750., 700., 675., 650., 625., 600., 550., 500.]\n",
    "\n",
    "# specify the time integration end time for each initial temperature\n",
    "# we need to integrate long enough in time that the ignition event is captured\n",
    "# we expect that the ignition delay time should decrease with increasing initial mixture temperature\n",
    "#   (it is not quite as simple as that, as we will see . . .)\n",
    "# we start by specifying an end time of 1.0 s for each temperature\n",
    "EndTimes = np.ones(len(T_0))\n",
    "\n",
    "# we then decrease the end times for the higher temperatures, and increase the end times for the lower temperatures\n",
    "# a combination of experience and trial-and-error is needed to find optimum values, for which ignition is achieved\n",
    "#   in each case, without wasting computational effort by computing long beyond the ignition delay time\n",
    "# in fact, the internal computational time step becomes quite large as the system approaches its post-ignition steady state,\n",
    "#   so there is relatively little penalty in computer time for computing beyond the time of ignition\n",
    "\n",
    "# decrease the end times to 0.1 s for the six highest initial temperatures\n",
    "EndTimes[:6] = 6*[0.1]\n",
    "# increase the end time to 10. s for the next-to-lowest initial temperature\n",
    "EndTimes[-2:] = 10.\n",
    "# increase the end time to 100. s for the lowest initial temperature\n",
    "EndTimes[-1] = 100.\n",
    "\n",
    "# print the integration end time for each initial temperature\n",
    "for i in range (len(T_0)):\n",
    "    print(i, T_0[i], EndTimes[i])"
   ]
  },
  {
   "cell_type": "code",
   "execution_count": 20,
   "metadata": {},
   "outputs": [
    {
     "data": {
      "text/html": [
       "<div>\n",
       "<style scoped>\n",
       "    .dataframe tbody tr th:only-of-type {\n",
       "        vertical-align: middle;\n",
       "    }\n",
       "\n",
       "    .dataframe tbody tr th {\n",
       "        vertical-align: top;\n",
       "    }\n",
       "\n",
       "    .dataframe thead th {\n",
       "        text-align: right;\n",
       "    }\n",
       "</style>\n",
       "<table border=\"1\" class=\"dataframe\">\n",
       "  <thead>\n",
       "    <tr style=\"text-align: right;\">\n",
       "      <th></th>\n",
       "      <th>T</th>\n",
       "      <th>ignDelay</th>\n",
       "    </tr>\n",
       "  </thead>\n",
       "  <tbody>\n",
       "    <tr>\n",
       "      <th>0</th>\n",
       "      <td>1800.0</td>\n",
       "      <td>NaN</td>\n",
       "    </tr>\n",
       "    <tr>\n",
       "      <th>1</th>\n",
       "      <td>1600.0</td>\n",
       "      <td>NaN</td>\n",
       "    </tr>\n",
       "    <tr>\n",
       "      <th>2</th>\n",
       "      <td>1400.0</td>\n",
       "      <td>NaN</td>\n",
       "    </tr>\n",
       "    <tr>\n",
       "      <th>3</th>\n",
       "      <td>1200.0</td>\n",
       "      <td>NaN</td>\n",
       "    </tr>\n",
       "    <tr>\n",
       "      <th>4</th>\n",
       "      <td>1000.0</td>\n",
       "      <td>NaN</td>\n",
       "    </tr>\n",
       "    <tr>\n",
       "      <th>5</th>\n",
       "      <td>950.0</td>\n",
       "      <td>NaN</td>\n",
       "    </tr>\n",
       "    <tr>\n",
       "      <th>6</th>\n",
       "      <td>925.0</td>\n",
       "      <td>NaN</td>\n",
       "    </tr>\n",
       "    <tr>\n",
       "      <th>7</th>\n",
       "      <td>900.0</td>\n",
       "      <td>NaN</td>\n",
       "    </tr>\n",
       "    <tr>\n",
       "      <th>8</th>\n",
       "      <td>850.0</td>\n",
       "      <td>NaN</td>\n",
       "    </tr>\n",
       "    <tr>\n",
       "      <th>9</th>\n",
       "      <td>825.0</td>\n",
       "      <td>NaN</td>\n",
       "    </tr>\n",
       "    <tr>\n",
       "      <th>10</th>\n",
       "      <td>800.0</td>\n",
       "      <td>NaN</td>\n",
       "    </tr>\n",
       "    <tr>\n",
       "      <th>11</th>\n",
       "      <td>750.0</td>\n",
       "      <td>NaN</td>\n",
       "    </tr>\n",
       "    <tr>\n",
       "      <th>12</th>\n",
       "      <td>700.0</td>\n",
       "      <td>NaN</td>\n",
       "    </tr>\n",
       "    <tr>\n",
       "      <th>13</th>\n",
       "      <td>675.0</td>\n",
       "      <td>NaN</td>\n",
       "    </tr>\n",
       "    <tr>\n",
       "      <th>14</th>\n",
       "      <td>650.0</td>\n",
       "      <td>NaN</td>\n",
       "    </tr>\n",
       "    <tr>\n",
       "      <th>15</th>\n",
       "      <td>625.0</td>\n",
       "      <td>NaN</td>\n",
       "    </tr>\n",
       "    <tr>\n",
       "      <th>16</th>\n",
       "      <td>600.0</td>\n",
       "      <td>NaN</td>\n",
       "    </tr>\n",
       "    <tr>\n",
       "      <th>17</th>\n",
       "      <td>550.0</td>\n",
       "      <td>NaN</td>\n",
       "    </tr>\n",
       "    <tr>\n",
       "      <th>18</th>\n",
       "      <td>500.0</td>\n",
       "      <td>NaN</td>\n",
       "    </tr>\n",
       "  </tbody>\n",
       "</table>\n",
       "</div>"
      ],
      "text/plain": [
       "         T  ignDelay\n",
       "0   1800.0       NaN\n",
       "1   1600.0       NaN\n",
       "2   1400.0       NaN\n",
       "3   1200.0       NaN\n",
       "4   1000.0       NaN\n",
       "5    950.0       NaN\n",
       "6    925.0       NaN\n",
       "7    900.0       NaN\n",
       "8    850.0       NaN\n",
       "9    825.0       NaN\n",
       "10   800.0       NaN\n",
       "11   750.0       NaN\n",
       "12   700.0       NaN\n",
       "13   675.0       NaN\n",
       "14   650.0       NaN\n",
       "15   625.0       NaN\n",
       "16   600.0       NaN\n",
       "17   550.0       NaN\n",
       "18   500.0       NaN"
      ]
     },
     "execution_count": 20,
     "metadata": {},
     "output_type": "execute_result"
    }
   ],
   "source": [
    "# create another DataFrame to store the computed ignition delays for each initial temperature\n",
    "ignitionDelays = pd.DataFrame(data={'T':T_0})\n",
    "# initialize all ignition delay values to an undefined value (\"nan\" = not a number)\n",
    "ignitionDelays['ignDelay'] = np.nan\n",
    "\n",
    "# print the initialized DataFrame\n",
    "ignitionDelays"
   ]
  },
  {
   "cell_type": "markdown",
   "metadata": {},
   "source": [
    "Now compute the ignition delay for each initial temperature. To make this more self-contained, we repeat the definition of \"gas\" and the definitions of the functions that compute the heat-release rate and ignition-delay time.\n",
    "\n",
    "Be patient when you run this cell. The calculation for each value of the initial temperature may take several seconds, depending on your computer."
   ]
  },
  {
   "cell_type": "code",
   "execution_count": 21,
   "metadata": {},
   "outputs": [
    {
     "name": "stdout",
     "output_type": "stream",
     "text": [
      "\n",
      "\n",
      "**** WARNING ****\n",
      "For species c7h15o-1, discontinuity in h/RT detected at Tmid = 1391\n",
      "\tValue computed using low-temperature polynomial:  21.8343\n",
      "\tValue computed using high-temperature polynomial: 21.767\n",
      "Initial T = 1800.00 K, ignition delay (HRR) = 7.178e-06 s, compute time = 2.842e+00 s\n",
      "Initial T = 1600.00 K, ignition delay (HRR) = 2.501e-05 s, compute time = 2.780e+00 s\n",
      "Initial T = 1400.00 K, ignition delay (HRR) = 1.514e-04 s, compute time = 2.970e+00 s\n",
      "Initial T = 1200.00 K, ignition delay (HRR) = 1.620e-03 s, compute time = 3.380e+00 s\n",
      "Initial T = 1000.00 K, ignition delay (HRR) = 3.247e-02 s, compute time = 3.564e+00 s\n",
      "Initial T = 950.00 K, ignition delay (HRR) = 7.908e-02 s, compute time = 3.631e+00 s\n",
      "Initial T = 925.00 K, ignition delay (HRR) = 1.252e-01 s, compute time = 3.865e+00 s\n",
      "Initial T = 900.00 K, ignition delay (HRR) = 1.983e-01 s, compute time = 4.031e+00 s\n",
      "Initial T = 850.00 K, ignition delay (HRR) = 4.266e-01 s, compute time = 4.186e+00 s\n",
      "Initial T = 825.00 K, ignition delay (HRR) = 4.726e-01 s, compute time = 4.260e+00 s\n",
      "Initial T = 800.00 K, ignition delay (HRR) = 3.795e-01 s, compute time = 4.221e+00 s\n",
      "Initial T = 750.00 K, ignition delay (HRR) = 1.462e-01 s, compute time = 4.887e+00 s\n",
      "Initial T = 700.00 K, ignition delay (HRR) = 6.426e-02 s, compute time = 5.160e+00 s\n",
      "Initial T = 675.00 K, ignition delay (HRR) = 5.790e-02 s, compute time = 5.350e+00 s\n",
      "Initial T = 650.00 K, ignition delay (HRR) = 7.722e-02 s, compute time = 5.590e+00 s\n",
      "Initial T = 625.00 K, ignition delay (HRR) = 1.503e-01 s, compute time = 5.539e+00 s\n",
      "Initial T = 600.00 K, ignition delay (HRR) = 3.754e-01 s, compute time = 5.820e+00 s\n",
      "Initial T = 550.00 K, ignition delay (HRR) = 3.749e+00 s, compute time = 6.080e+00 s\n",
      "Initial T = 500.00 K, ignition delay (HRR) = 6.944e+01 s, compute time = 6.380e+00 s\n"
     ]
    },
    {
     "data": {
      "text/html": [
       "<div>\n",
       "<style scoped>\n",
       "    .dataframe tbody tr th:only-of-type {\n",
       "        vertical-align: middle;\n",
       "    }\n",
       "\n",
       "    .dataframe tbody tr th {\n",
       "        vertical-align: top;\n",
       "    }\n",
       "\n",
       "    .dataframe thead th {\n",
       "        text-align: right;\n",
       "    }\n",
       "</style>\n",
       "<table border=\"1\" class=\"dataframe\">\n",
       "  <thead>\n",
       "    <tr style=\"text-align: right;\">\n",
       "      <th></th>\n",
       "      <th>T</th>\n",
       "      <th>ignDelay</th>\n",
       "    </tr>\n",
       "  </thead>\n",
       "  <tbody>\n",
       "    <tr>\n",
       "      <th>0</th>\n",
       "      <td>1800.0</td>\n",
       "      <td>0.000007</td>\n",
       "    </tr>\n",
       "    <tr>\n",
       "      <th>1</th>\n",
       "      <td>1600.0</td>\n",
       "      <td>0.000025</td>\n",
       "    </tr>\n",
       "    <tr>\n",
       "      <th>2</th>\n",
       "      <td>1400.0</td>\n",
       "      <td>0.000151</td>\n",
       "    </tr>\n",
       "    <tr>\n",
       "      <th>3</th>\n",
       "      <td>1200.0</td>\n",
       "      <td>0.001620</td>\n",
       "    </tr>\n",
       "    <tr>\n",
       "      <th>4</th>\n",
       "      <td>1000.0</td>\n",
       "      <td>0.032470</td>\n",
       "    </tr>\n",
       "    <tr>\n",
       "      <th>5</th>\n",
       "      <td>950.0</td>\n",
       "      <td>0.079079</td>\n",
       "    </tr>\n",
       "    <tr>\n",
       "      <th>6</th>\n",
       "      <td>925.0</td>\n",
       "      <td>0.125227</td>\n",
       "    </tr>\n",
       "    <tr>\n",
       "      <th>7</th>\n",
       "      <td>900.0</td>\n",
       "      <td>0.198336</td>\n",
       "    </tr>\n",
       "    <tr>\n",
       "      <th>8</th>\n",
       "      <td>850.0</td>\n",
       "      <td>0.426636</td>\n",
       "    </tr>\n",
       "    <tr>\n",
       "      <th>9</th>\n",
       "      <td>825.0</td>\n",
       "      <td>0.472590</td>\n",
       "    </tr>\n",
       "    <tr>\n",
       "      <th>10</th>\n",
       "      <td>800.0</td>\n",
       "      <td>0.379490</td>\n",
       "    </tr>\n",
       "    <tr>\n",
       "      <th>11</th>\n",
       "      <td>750.0</td>\n",
       "      <td>0.146233</td>\n",
       "    </tr>\n",
       "    <tr>\n",
       "      <th>12</th>\n",
       "      <td>700.0</td>\n",
       "      <td>0.064264</td>\n",
       "    </tr>\n",
       "    <tr>\n",
       "      <th>13</th>\n",
       "      <td>675.0</td>\n",
       "      <td>0.057901</td>\n",
       "    </tr>\n",
       "    <tr>\n",
       "      <th>14</th>\n",
       "      <td>650.0</td>\n",
       "      <td>0.077224</td>\n",
       "    </tr>\n",
       "    <tr>\n",
       "      <th>15</th>\n",
       "      <td>625.0</td>\n",
       "      <td>0.150268</td>\n",
       "    </tr>\n",
       "    <tr>\n",
       "      <th>16</th>\n",
       "      <td>600.0</td>\n",
       "      <td>0.375412</td>\n",
       "    </tr>\n",
       "    <tr>\n",
       "      <th>17</th>\n",
       "      <td>550.0</td>\n",
       "      <td>3.748577</td>\n",
       "    </tr>\n",
       "    <tr>\n",
       "      <th>18</th>\n",
       "      <td>500.0</td>\n",
       "      <td>69.442967</td>\n",
       "    </tr>\n",
       "  </tbody>\n",
       "</table>\n",
       "</div>"
      ],
      "text/plain": [
       "         T   ignDelay\n",
       "0   1800.0   0.000007\n",
       "1   1600.0   0.000025\n",
       "2   1400.0   0.000151\n",
       "3   1200.0   0.001620\n",
       "4   1000.0   0.032470\n",
       "5    950.0   0.079079\n",
       "6    925.0   0.125227\n",
       "7    900.0   0.198336\n",
       "8    850.0   0.426636\n",
       "9    825.0   0.472590\n",
       "10   800.0   0.379490\n",
       "11   750.0   0.146233\n",
       "12   700.0   0.064264\n",
       "13   675.0   0.057901\n",
       "14   650.0   0.077224\n",
       "15   625.0   0.150268\n",
       "16   600.0   0.375412\n",
       "17   550.0   3.748577\n",
       "18   500.0  69.442967"
      ]
     },
     "execution_count": 21,
     "metadata": {},
     "output_type": "execute_result"
    }
   ],
   "source": [
    "# define the gas mixture\n",
    "gas = ct.Solution('data/seiser.cti')\n",
    "\n",
    "# compute species formation enthalpies\n",
    "Tref   = 298.15\n",
    "gas.TP = Tref , None\n",
    "hf     = gas.partial_molar_enthalpies\n",
    "\n",
    "# define a function that returns the time at which a specified quantity in a DataFrame reaches its maximum value\n",
    "def ignitionDelay(df, quantity):\n",
    "    return df[quantity].idxmax()\n",
    "\n",
    "# define a function that returns the heat-release rate in W/m^3\n",
    "def heat_release_rate():\n",
    "    qdot = 0.\n",
    "    for i in range(gas.n_species):\n",
    "        qdot += -gas.net_production_rates[i]*hf[i]\n",
    "    return qdot\n",
    "\n",
    "##### top of loop over initial temperatures #####\n",
    "for i, temp in enumerate(T_0):\n",
    "    \n",
    "# initialize the gas thermochemical state and the reactor network\n",
    "    gas.TP = temp, p_0\n",
    "    gas.set_equivalence_ratio(phi,fuel,air)\n",
    "    reactor = ct.IdealGasReactor(contents=gas, name='Constant-volume batch reactor')\n",
    "    reactorNetwork = ct.ReactorNet([reactor])\n",
    "\n",
    "# create an empty data frame to store the time history for the current initial temperature\n",
    "    timeHistory = pd.DataFrame(columns=timeHistory.columns)\n",
    "    \n",
    "# store the initial condition\n",
    "    t = 0.\n",
    "    qdott[0] = heat_release_rate()\n",
    "    timeHistory.loc[t] = np.concatenate((reactor.get_state(),qdott))\n",
    "\n",
    "# initialize the timer\n",
    "    ctim0 = time.time()\n",
    "\n",
    "# perform the time integration for the current initial temperature\n",
    "# save the reactor state once every 10 computational time steps\n",
    "    counter = 0\n",
    "    while t < EndTimes[i]:\n",
    "        t = reactorNetwork.step()\n",
    "        if not counter % 10:\n",
    "            qdott[0] = heat_release_rate()\n",
    "            timeHistory.loc[t] = np.concatenate((reactor.get_state(),qdott))\n",
    "        counter += 1\n",
    "\n",
    "# compute the elapsed computer time for the current initial temperature\n",
    "    ctim1 = time.time()\n",
    "    ctime = ctim1 - ctim0\n",
    "    \n",
    "# compute the ignition delay time based on heat-release rate for the current initial temperature\n",
    "    tau = ignitionDelay(timeHistory, 'qdot')\n",
    "\n",
    "# print the initial temperature, ignition delay time, and compute time required for the current initial temperature\n",
    "    print('Initial T = {:3.2f} K, ignition delay (HRR) = {:.3e} s, compute time = {:.3e} s'.format(temp, tau, ctime))\n",
    "\n",
    "# store the computed ignition delays in a DataFrame\n",
    "    ignitionDelays.at[i,'ignDelay'] = tau\n",
    "    \n",
    "##### end of loop over initial temperatures #####\n",
    "    \n",
    "# print the computed ignition delay times\n",
    "ignitionDelays"
   ]
  },
  {
   "cell_type": "markdown",
   "metadata": {},
   "source": [
    "Note that the computational time increases with decreasing initial temperature.\n",
    "\n",
    "Now plot the computed ignition delay time as a function of initial temperature. More specifically, the x axis is taken to be linear in the inverse of the temperature, and a logarithmic scale is used for ignition-delay time on the y axis. This is the conventional way in which the temperature variation of ignition-delay time is often plotted. "
   ]
  },
  {
   "cell_type": "code",
   "execution_count": 22,
   "metadata": {},
   "outputs": [
    {
     "data": {
      "image/png": "[encoded data removed]",
      "text/plain": [
       "<Figure size 432x288 with 1 Axes>"
      ]
     },
     "metadata": {
      "needs_background": "light"
     },
     "output_type": "display_data"
    }
   ],
   "source": [
    "# plot ignition delay versus initial temperature\n",
    "fig, ax = plt.subplots()\n",
    "ax.semilogy(1000./ignitionDelays['T'], ignitionDelays['ignDelay'], lw=2, marker='o')\n",
    "ax.set(xlabel='1000/T(K)',\n",
    "       ylabel='Time (s)',\n",
    "       title ='Ignition-delay time versus temperature for a constant-volume adiabatic reactor')\n",
    "#ax.legend(handlelength=4,loc='best')\n",
    "ax.grid(True)\n",
    "fig.savefig(\"igndelay_vs_T_vconst.pdf\")"
   ]
  },
  {
   "cell_type": "markdown",
   "metadata": {},
   "source": [
    "From this, it can be seen that the nonuniform temperature intervals were chosen to resolve the nonmonotonic behavior of the ignition-delay time as a function of temperature.\n",
    "\n",
    "Intuitively, one might expect that the ignition-delay time should be a monotonically increasing function of 1/T. That is, in fact, the case for many fuels burning with air, over at least some ranges of initial pressures, temperatures, and equivalence ratios. However, for some fuels (including n-heptane), there is a range of temperatures over which the ignition delay decreases as the temperature decreases (that is, as 1/T increases). This is called *negative temperature coefficient* (NTC) behavior. NTC behavior is important in some advanced compression-ignition engine combustion systems. This behavior can be difficult to capture in a reaction mechanism, and the ability to accurately capture ignition-delay times in the NTC region is often used as a test or validation case for reaction mechanisms that are to be used to predict autoignition in such systems."
   ]
  },
  {
   "cell_type": "markdown",
   "metadata": {},
   "source": [
    "## 4. Two-stage heat release"
   ]
  },
  {
   "cell_type": "markdown",
   "metadata": {},
   "source": [
    "Another phenomonon that can be seen for some fuels under some conditions is two-stage heat release, where there are two local peaks in the heat-release-rate-versus-time curve: an earlier lower peak (corresponding to low-temperature heat release) and a later higher peak that corresponds to the main ignition event (high-temperature heat release). The reasons for this behavior are beyond our introductory discussion of combustion. This is another phenomenon that is extremely sensitive to the details of the chemical kinetics. \n",
    "\n",
    "Two-stage heat release can be observed for the present chemical mechanism for sufficiently low initial reactant temperatures. For example:"
   ]
  },
  {
   "cell_type": "code",
   "execution_count": 23,
   "metadata": {},
   "outputs": [
    {
     "name": "stdout",
     "output_type": "stream",
     "text": [
      "Initial T = 750.00 K, ignition delay (HRR) = 1.462e-01 s, compute time = 4.890e+00 s\n"
     ]
    }
   ],
   "source": [
    "# initialize the gas mixture to a relatively low temperature\n",
    "T_0  = 750.\n",
    "p_0  = ct.one_atm\n",
    "fuel = 'nc7h16'\n",
    "air  = {'o2':1.0, 'n2':3.76}\n",
    "phi  = 1.0\n",
    "\n",
    "gas.TP = T_0, p_0\n",
    "gas.set_equivalence_ratio(phi,fuel,air)\n",
    "\n",
    "# initialize the reactor, reacto network, and Pandas DataFrame\n",
    "reactor            = ct.IdealGasReactor(contents=gas, name='Constant-volume batch reactor')\n",
    "reactorNetwork     = ct.ReactorNet([reactor])\n",
    "stateVariableNames = [reactor.component_name(i) for i in range(reactor.n_vars)]\n",
    "stateVariableNames.append('qdot')\n",
    "stateVariableNames.append('empty')\n",
    "timeHistory       = pd.DataFrame(columns=stateVariableNames)\n",
    "\n",
    "qdott    = np.zeros(2)\n",
    "t        = 0.\n",
    "qdott[0] = heat_release_rate()\n",
    "timeHistory.loc[t] = np.concatenate((reactor.get_state(),qdott))\n",
    "\n",
    "# perform the time integration\n",
    "ctim0 = time.time()\n",
    "t_end   = 1.0\n",
    "counter = 0\n",
    "while t <= t_end:\n",
    "    t = reactorNetwork.step()\n",
    "    if not counter % 10:\n",
    "        qdott[0]           = heat_release_rate()\n",
    "        timeHistory.loc[t] = np.concatenate((reactor.get_state(),qdott))\n",
    "    counter += 1\n",
    "\n",
    "ctim1 = time.time()\n",
    "ctime = ctim1 - ctim0\n",
    "    \n",
    "# compute the ignition-delay time\n",
    "tau = ignitionDelay(timeHistory, 'qdot')\n",
    "\n",
    "print('Initial T = {:3.2f} K, ignition delay (HRR) = {:.3e} s, compute time = {:.3e} s'.format(T_0, tau, ctime))"
   ]
  },
  {
   "cell_type": "code",
   "execution_count": 24,
   "metadata": {},
   "outputs": [
    {
     "data": {
      "image/png": "[encoded data removed]",
      "text/plain": [
       "<Figure size 432x288 with 1 Axes>"
      ]
     },
     "metadata": {
      "needs_background": "light"
     },
     "output_type": "display_data"
    }
   ],
   "source": [
    "# plot the heat-release rate as a function of time, using a logarithmic scale for the heat-release rate\n",
    "#   so that the two-peak structure is evident\n",
    "fig, ax = plt.subplots()\n",
    "ax.semilogy(timeHistory.index, timeHistory['qdot'], label='HRR', lw=2)\n",
    "#ax.plot(timeHistory.index, timeHistory['qdot'], label='HRR', lw=2)\n",
    "ax.set(xlabel='Time (s)',\n",
    "       ylabel='Heat-release rate (W/m^3)',\n",
    "       title ='Heat-release rate vs. time for constant-volume adiabatic reactor')\n",
    "#ax.legend(handlelength=4,loc='best')\n",
    "ax.grid(True)\n",
    "fig.savefig(\"HRR_vs_t_vconst.pdf\")"
   ]
  },
  {
   "cell_type": "markdown",
   "metadata": {},
   "source": [
    "You can vary the initial conditions to explore the ranges of temperatures, pressures, and equivalence ratios over which two-stage ignition is observed."
   ]
  },
  {
   "cell_type": "code",
   "execution_count": null,
   "metadata": {},
   "outputs": [],
   "source": []
  }
 ],
 "metadata": {
  "kernelspec": {
   "display_name": "Python 3",
   "language": "python",
   "name": "python3"
  },
  "language_info": {
   "codemirror_mode": {
    "name": "ipython",
    "version": 3
   },
   "file_extension": ".py",
   "mimetype": "text/x-python",
   "name": "python",
   "nbconvert_exporter": "python",
   "pygments_lexer": "ipython3",
   "version": "3.7.6"
  }
 },
 "nbformat": 4,
 "nbformat_minor": 1
}
