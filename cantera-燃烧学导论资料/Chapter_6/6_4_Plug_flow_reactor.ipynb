{
 "cells": [
  {
   "cell_type": "markdown",
   "metadata": {},
   "source": [
    "# Plug-Flow Reactor\n",
    "\n",
    "This Jupyter Notebook was written by Dan Haworth. It is intended as a tutorial to be used in parallel with Chapter 6 of the book \"An Introduction to Combustion: Concepts and Applications\" by Stephen R. Turns and Daniel C. Haworth. That book is referred to as \"Turns 4th ed.\" throughout this Notebook.\n",
    "\n",
    "This Notebook was last updated by Dan Haworth on 19 February 2020.\n",
    "\n",
    "The objective of this tutorial is to show how to simulate a plug-flow reactor (PFR) using Cantera, and to illustrate basic PFR behavior. A constant-pressure, constant-cross-sectional-area, adiabatic reactor is considered. We will use the thermodynamic properties and reaction mechanism that are included in galway.cti.\n",
    "\n",
    "An alternative approach to simulate a PFR using Cantera can be found in the Python example \"pfr.py\" or \"pfr.py.html\" at https://cantera.org/examples/python/reactors/.\n",
    "\n",
    "The file \"galway.cti\" must be placed in a folder or directory named \"data\" that is immediately below the folder or directory from which you have opened this Notebook. If you downloaded the .zip file that contains all of the tutorial Notebooks, the appropriate folder and file structure should be in place. The .cti file is also available at https://github.com/Cantera/cantera-jupyter/tree/master/reactors/data.\n",
    "\n",
    "The reader should be familiar with the material in the previous tutorial Notebook (6_3_Well_stirred_reactor) before working through this Notebook."
   ]
  },
  {
   "cell_type": "markdown",
   "metadata": {},
   "source": [
    "## 1. Physical description"
   ]
  },
  {
   "cell_type": "markdown",
   "metadata": {},
   "source": [
    "A *plug-flow reactor* (PFR) is shown schematically in Figure 6.1d of Turns 4th ed. The configuration is essentially a steady one-dimensional pipe flow, where the working fluid is a chemically reacting ideal-gas mixture. The flow direction is taken to be the $x$ direction. The mixture enters at $x = 0$ with a given temperature, pressure, composition, and flow speed $v_x$ (or mass flow rate $ \\dot m $). As the mixture moves along the pipe, chemical reactions occur, so that the composition, mixture thermodynamic properties, and $v_x$ vary as functions of $x$. The problem, then, is to find how the temperature, pressure, composition, and flow speed vary as functions of $x$, given their values at $x=0$. A key assumption/simplification is that there is negligible mixing (molecular transport) in the $x$ direction. That is, the only $x$-direction transport is by bulk convection at the local flow speed $v_x$."
   ]
  },
  {
   "cell_type": "markdown",
   "metadata": {},
   "source": [
    "## 2. Governing equations and Cantera model setup: Constant-pressure case"
   ]
  },
  {
   "cell_type": "markdown",
   "metadata": {},
   "source": [
    "The governing system of ordinary differential equations (ODEs) is developed in Chapter 6 of Turns 4th ed. There a general case is considered that allows for variable flow cross-sectional area $A=A(x)$ (which would be given), variable pressure $P=P(x)$, and nonzero heat transfer to or from the surroundings. In contrast to the other simple reacting systems considered in Chapter 6, the PFR is steady and nonhomogeneous, so that the independent variable in the ODEs is a spatial coordinate ($x$) rather than time ($t$). However, because of the assumptions/simplifications that are made, the ODEs can be recast with time as the independent variable using the transformation:\n",
    "\n",
    "$$ \\frac{dx}{dt} = v_x (x) \\ , $$\n",
    "\n",
    "together with the knowledge that the mass flow rate $ \\dot m = \\rho (x) v_x (x) A (x) $ is independent of $x$.\n",
    "\n",
    "Here we consider a case where the cross-sectional area is constant, there is no heat transfer to or from the surroundings (adiabatic), and the variations in pressure are negligible (constant pressure). The governing equations then simplify considerably. They essentially reduce to the equations that were developed earlier for a fixed-mass constant-pressure reactor, with the above transformation to move between time $t$ and spatial coordinate $x$.\n",
    "\n",
    "In Cantera, there is no object defined that corresponds directly to a PFR. However, with the additional simplifications invoked in the previous paragraph, we can use Cantera's [`ConstPressureReactor()`](https://cantera.org/documentation/docs-2.4/sphinx/html/cython/zerodim.html#constpressurereactor) object to simulate a PFR. In that case, we perform the integration in time, as we have done in earlier tutorial Notebooks, and transform from time to spatial coordinate using the above relationship."
   ]
  },
  {
   "cell_type": "markdown",
   "metadata": {},
   "source": [
    "Let's go ahead and build our PFR model."
   ]
  },
  {
   "cell_type": "code",
   "execution_count": 1,
   "metadata": {},
   "outputs": [
    {
     "name": "stdout",
     "output_type": "stream",
     "text": [
      "Running Cantera version: 2.4.0\n"
     ]
    }
   ],
   "source": [
    "# import modules\n",
    "import cantera as ct\n",
    "import numpy as np\n",
    "import matplotlib.pyplot as plt\n",
    "import pandas as pd\n",
    "import time\n",
    "\n",
    "# print Cantera version\n",
    "print(\"Running Cantera version: {}\".format(ct.__version__))"
   ]
  },
  {
   "cell_type": "code",
   "execution_count": 2,
   "metadata": {},
   "outputs": [
    {
     "name": "stdout",
     "output_type": "stream",
     "text": [
      "\n",
      "\n",
      "**** WARNING ****\n",
      "For species OHV, discontinuity in h/RT detected at Tmid = 1000\n",
      "\tValue computed using low-temperature polynomial:  53.6206\n",
      "\tValue computed using high-temperature polynomial: 53.5842\n",
      "\n",
      "\n",
      "**** WARNING ****\n",
      "For species CHV, discontinuity in h/RT detected at Tmid = 1000\n",
      "\tValue computed using low-temperature polynomial:  107.505\n",
      "\tValue computed using high-temperature polynomial: 107.348\n"
     ]
    }
   ],
   "source": [
    "# define a gas mixture based on galway.cti\n",
    "# the file \"galway.cti\" must be present in subdirectory \"data\" below the current working directory\n",
    "gas = ct.Solution('data/galway.cti')"
   ]
  },
  {
   "cell_type": "markdown",
   "metadata": {},
   "source": [
    "Specify the inlet ($x=0$) mixture temperature, pressure, composition, and flow speed. An alternative to specifying the flow speed would be to specify the (constant) mass flow rate and the (constant) cross-sectional area. Note that the pressure is assumed to be constant here."
   ]
  },
  {
   "cell_type": "code",
   "execution_count": 3,
   "metadata": {},
   "outputs": [
    {
     "name": "stdout",
     "output_type": "stream",
     "text": [
      "\n",
      "  gas:\n",
      "\n",
      "       temperature             900  K\n",
      "          pressure          506625  Pa\n",
      "           density         1.99899  kg/m^3\n",
      "  mean mol. weight         29.5257  amu\n",
      "\n",
      "                          1 kg            1 kmol\n",
      "                       -----------      ------------\n",
      "          enthalpy      6.1225e+05        1.808e+07     J\n",
      "   internal energy      3.5881e+05        1.059e+07     J\n",
      "           entropy          7583.6        2.239e+05     J/K\n",
      "    Gibbs function      -6.213e+06       -1.834e+08     J\n",
      " heat capacity c_p          1210.1        3.573e+04     J/K\n",
      " heat capacity c_v           928.5        2.741e+04     J/K\n",
      "\n",
      "                           X                 Y          Chem. Pot. / RT\n",
      "                     -------------     ------------     ------------\n",
      "                N2       0.782444         0.742371         -23.2331\n",
      "                O2       0.208097         0.225528         -26.2466\n",
      "            NC7H16     0.00945895        0.0321017         -92.4152\n",
      "     [+1265 minor]              0                0\n",
      "\n"
     ]
    }
   ],
   "source": [
    "# x=0 given conditions\n",
    "T_0  = 900.          # (K)\n",
    "P_0  = 5.*ct.one_atm # (Pa)\n",
    "fuel = 'NC7H16'\n",
    "air  = {'O2':1.0, 'N2':3.76}\n",
    "phi  = 0.5\n",
    "v_0  = 1.0           # (m/s)\n",
    "\n",
    "gas.TP = T_0, P_0\n",
    "gas.set_equivalence_ratio(phi,fuel,air)\n",
    "\n",
    "# print the current gas mixture state, which corresponds to the PFR inlet (x=0) state\n",
    "gas()"
   ]
  },
  {
   "cell_type": "markdown",
   "metadata": {},
   "source": [
    "Specify the total length of the reactor and the uniform time step (corresponding to a nonuniform spatial interval) to be used in the time integration. Also compute and save the initial mixture mass density:"
   ]
  },
  {
   "cell_type": "code",
   "execution_count": 4,
   "metadata": {},
   "outputs": [],
   "source": [
    "# reactor length\n",
    "x_max = 0.1    # (m)\n",
    "\n",
    "# time step for time integration\n",
    "dt    = 0.001  # (s)\n",
    "\n",
    "# initial mixture mass density\n",
    "rho_0 = gas.density"
   ]
  },
  {
   "cell_type": "markdown",
   "metadata": {},
   "source": [
    "Define a constant-pressure reactor and a reactor network, and set up a Pandas DataFrame to hold the computed spatial variation of the physical quantities of interest:"
   ]
  },
  {
   "cell_type": "code",
   "execution_count": 5,
   "metadata": {},
   "outputs": [
    {
     "data": {
      "text/html": [
       "<div>\n",
       "<style scoped>\n",
       "    .dataframe tbody tr th:only-of-type {\n",
       "        vertical-align: middle;\n",
       "    }\n",
       "\n",
       "    .dataframe tbody tr th {\n",
       "        vertical-align: top;\n",
       "    }\n",
       "\n",
       "    .dataframe thead th {\n",
       "        text-align: right;\n",
       "    }\n",
       "</style>\n",
       "<table border=\"1\" class=\"dataframe\">\n",
       "  <thead>\n",
       "    <tr style=\"text-align: right;\">\n",
       "      <th></th>\n",
       "      <th>mass</th>\n",
       "      <th>enthalpy</th>\n",
       "      <th>AR</th>\n",
       "      <th>N2</th>\n",
       "      <th>HE</th>\n",
       "      <th>H2</th>\n",
       "      <th>H</th>\n",
       "      <th>O2</th>\n",
       "      <th>O</th>\n",
       "      <th>H2O</th>\n",
       "      <th>...</th>\n",
       "      <th>C5H4OH</th>\n",
       "      <th>C5H4O</th>\n",
       "      <th>C5H3O</th>\n",
       "      <th>CJVCCVCCVO</th>\n",
       "      <th>CVCCVCCJVO</th>\n",
       "      <th>CJVCCVO</th>\n",
       "      <th>temperature</th>\n",
       "      <th>rho</th>\n",
       "      <th>v_x</th>\n",
       "      <th>time</th>\n",
       "    </tr>\n",
       "  </thead>\n",
       "  <tbody>\n",
       "    <tr>\n",
       "      <th>0.0</th>\n",
       "      <td>1.998985</td>\n",
       "      <td>1.223884e+06</td>\n",
       "      <td>0.0</td>\n",
       "      <td>0.742371</td>\n",
       "      <td>0.0</td>\n",
       "      <td>0.0</td>\n",
       "      <td>0.0</td>\n",
       "      <td>0.225528</td>\n",
       "      <td>0.0</td>\n",
       "      <td>0.0</td>\n",
       "      <td>...</td>\n",
       "      <td>0.0</td>\n",
       "      <td>0.0</td>\n",
       "      <td>0.0</td>\n",
       "      <td>0.0</td>\n",
       "      <td>0.0</td>\n",
       "      <td>0.0</td>\n",
       "      <td>900.0</td>\n",
       "      <td>1.998985</td>\n",
       "      <td>1.0</td>\n",
       "      <td>0.0</td>\n",
       "    </tr>\n",
       "  </tbody>\n",
       "</table>\n",
       "<p>1 rows × 1274 columns</p>\n",
       "</div>"
      ],
      "text/plain": [
       "         mass      enthalpy   AR        N2   HE   H2    H        O2    O  H2O  \\\n",
       "0.0  1.998985  1.223884e+06  0.0  0.742371  0.0  0.0  0.0  0.225528  0.0  0.0   \n",
       "\n",
       "     ...  C5H4OH  C5H4O  C5H3O  CJVCCVCCVO  CVCCVCCJVO  CJVCCVO  temperature  \\\n",
       "0.0  ...     0.0    0.0    0.0         0.0         0.0      0.0        900.0   \n",
       "\n",
       "          rho  v_x  time  \n",
       "0.0  1.998985  1.0   0.0  \n",
       "\n",
       "[1 rows x 1274 columns]"
      ]
     },
     "execution_count": 5,
     "metadata": {},
     "output_type": "execute_result"
    }
   ],
   "source": [
    "# define and name a constant-pressure reactor that is filled with the ideal-gas mixture \"gas\"\n",
    "reactor = ct.ConstPressureReactor(contents=gas,name=\"Constant-pressure batch reactor\")\n",
    "\n",
    "# add \"reactor\" to a reactor network named \"PFR\"\n",
    "PFR = ct.ReactorNet([reactor])\n",
    "\n",
    "# create a list of all variables (named \"stateVariableNames\") for which we will compute and store computed x-dependent data\n",
    "# append four more, beyond the standard state variables that are used internally to characterize the reactor state\n",
    "stateVariableNames = [reactor.component_name(i) for i in range(reactor.n_vars)]\n",
    "stateVariableNames.append('temperature')  # mixture temperature\n",
    "stateVariableNames.append('rho')          # mixture mass density\n",
    "stateVariableNames.append('v_x')          # flow speed\n",
    "stateVariableNames.append('time')         # time - note that x, not t, will be used as the DataFrame index variable\n",
    "\n",
    "# create a Pandas DataFrame named \"xDevelopment\", using the above variable names as column headings\n",
    "xDevelopment = pd.DataFrame(columns=stateVariableNames)\n",
    "\n",
    "# define an array to hold the four additional quantitites beyond the standard reactor state variables\n",
    "vars = np.zeros(4) # vars[0] is for temperature; vars[1] is for density; vars[2] is for speed; vars[3] is for time\n",
    "\n",
    "# fill the first row of \"xDevelopment\" with the given x=0 conditions\n",
    "x        = 0.\n",
    "t        = 0.\n",
    "vars[0]  = gas.T\n",
    "vars[1]  = gas.density\n",
    "vars[2]  = v_0\n",
    "vars[3]  = t\n",
    "xDevelopment.loc[x] = np.concatenate((reactor.get_state(),vars))\n",
    "\n",
    "# print the initial (x=0) condition\n",
    "xDevelopment"
   ]
  },
  {
   "cell_type": "markdown",
   "metadata": {},
   "source": [
    "Scroll to the right above to see the four variables that were added.\n",
    "\n",
    "Now perform the time integration, and convert from time $t$ to spatial coordinate $x$. Be patient. This may take several minutes, depending on your computer."
   ]
  },
  {
   "cell_type": "code",
   "execution_count": 6,
   "metadata": {},
   "outputs": [
    {
     "name": "stdout",
     "output_type": "stream",
     "text": [
      "0.001 0.0010000002786649 900.0001835935649\n",
      "0.002 0.0020000014229276447 900.0008045519278\n",
      "0.003 0.0030000043762666347 900.0021295085239\n",
      "0.004 0.004000010671196762 900.0045991612166\n",
      "0.005 0.005000022789366848 900.0089258691721\n",
      "0.006 0.00600004469222871 900.0162250993617\n",
      "0.007 0.007000082519434347 900.0281480787318\n",
      "0.008 0.008000145338598191 900.0469299994718\n",
      "0.009000000000000001 0.009000245661489112 900.0752212084813\n",
      "0.010000000000000002 0.010000399391135664 900.1156528675606\n",
      "0.011000000000000003 0.01100062514878722 900.1703489482435\n",
      "0.012000000000000004 0.012000943383552305 900.2407422563454\n",
      "0.013000000000000005 0.013001375762273368 900.3277821180095\n",
      "0.014000000000000005 0.014001944992908051 900.432270890383\n",
      "0.015000000000000006 0.015002674922475954 900.5550810945134\n",
      "0.016000000000000007 0.0160035907146812 900.6972201279453\n",
      "0.017000000000000008 0.017004719012399572 900.8598194475885\n",
      "0.01800000000000001 0.01800608806819577 901.0441095530642\n",
      "0.01900000000000001 0.019007727856561036 901.2514055410061\n",
      "0.02000000000000001 0.02000967017869928 901.4831007833732\n",
      "0.02100000000000001 0.02101194876968668 901.7406684459571\n",
      "0.022000000000000013 0.0220145994117884 902.0256658306333\n",
      "0.023000000000000013 0.023017660057702612 902.3397417188318\n",
      "0.024000000000000014 0.02402117096487974 902.68464442673\n",
      "0.025000000000000015 0.02502517484353701 903.0622319071359\n",
      "0.026000000000000016 0.026029717020248352 903.4744832172101\n",
      "0.027000000000000017 0.027034845621515858 903.9235135839125\n",
      "0.028000000000000018 0.02804061177603038 904.4115878982207\n",
      "0.02900000000000002 0.029047069842804082 904.9411401966161\n",
      "0.03000000000000002 0.030054277666605712 905.514793879635\n",
      "0.03100000000000002 0.031062296868091026 906.1353879140099\n",
      "0.03200000000000002 0.032071193168817014 906.8060024706219\n",
      "0.03300000000000002 0.03308103676507854 907.5299961392193\n",
      "0.03400000000000002 0.034091902753408045 908.3110446260253\n",
      "0.035000000000000024 0.035103871615667456 909.1531852456375\n",
      "0.036000000000000025 0.0361170297896031 910.0608825906769\n",
      "0.037000000000000026 0.03713147031716525 911.0390873837032\n",
      "0.03800000000000003 0.03814729361402063 912.0933283955173\n",
      "0.03900000000000003 0.03916460836912634 913.2298117823526\n",
      "0.04000000000000003 0.0401835326129079 914.4555509332655\n",
      "0.04100000000000003 0.04120419499194128 915.7785249672086\n",
      "0.04200000000000003 0.0422267363024014 917.2078780632643\n",
      "0.04300000000000003 0.04325131135489099 918.754175818894\n",
      "0.04400000000000003 0.0442780912640741 920.4297346323507\n",
      "0.04500000000000003 0.045307266284309054 922.249045559602\n",
      "0.046000000000000034 0.046339049382237534 924.2293495831314\n",
      "0.047000000000000035 0.04737368077393756 926.3913899803258\n",
      "0.048000000000000036 0.04841143379392045 928.7604555325463\n",
      "0.04900000000000004 0.04945262260873312 931.3678277332235\n",
      "0.05000000000000004 0.050497612553807567 934.2528435033975\n",
      "0.05100000000000004 0.05154683429634331 937.46590972718\n",
      "0.05200000000000004 0.05260080374822686 941.0730428765806\n",
      "0.05300000000000004 0.053660150926467455 945.1629466544139\n",
      "0.05400000000000004 0.05472566332750178 949.8585145662381\n",
      "0.05500000000000004 0.05579835406713728 955.3364941097454\n",
      "0.05600000000000004 0.05687957500659198 961.8632724506077\n",
      "0.057000000000000044 0.057971218355512465 969.8653856615108\n",
      "0.058000000000000045 0.0590761115941016 980.0838468672384\n",
      "0.059000000000000045 0.06019890141405019 993.9651309187404\n",
      "0.060000000000000046 0.06134847902717636 1014.8947033290509\n",
      "0.06100000000000005 0.06254754814292603 1053.9093384508658\n",
      "0.06200000000000005 0.06393679923139875 1204.7558441220024\n",
      "0.06300000000000004 0.0662190365540365 1996.9243631801244\n",
      "0.06400000000000004 0.06850341619963675 1998.8238791860767\n",
      "0.06500000000000004 0.07078900340318264 1999.8817050420084\n",
      "0.06600000000000004 0.07307534112065729 2000.537423827626\n",
      "0.06700000000000005 0.07536216117726857 2000.9573740637622\n",
      "0.06800000000000005 0.0776493049868561 2001.2380037204707\n",
      "0.06900000000000005 0.07993667821569345 2001.4358360735419\n",
      "0.07000000000000005 0.08222422441348393 2001.5841801130816\n",
      "0.07100000000000005 0.08451190955993575 2001.7027448294714\n",
      "0.07200000000000005 0.08679971296333631 2001.8032325713248\n",
      "0.07300000000000005 0.08908762188099159 2001.8926155218091\n",
      "0.07400000000000005 0.09137562833016445 2001.9750634709087\n",
      "0.07500000000000005 0.09366372719221053 2002.0530814830754\n",
      "0.07600000000000005 0.09595191508204164 2002.1281828688113\n",
      "0.07700000000000005 0.09824018967154063 2002.2012881228145\n",
      "0.07800000000000006 0.10052854928287688 2002.272961941876\n",
      "The PFR required 511.59 s to compute\n"
     ]
    }
   ],
   "source": [
    "# initialize the timer to monitor computer time required\n",
    "ctim0 = time.time()\n",
    "\n",
    "while(x <= x_max):\n",
    "    t      += dt                # increment the time by one time step\n",
    "    PFR.advance(t)              # advance the constant-pressure reactor over the time step\n",
    "    rho_x   = gas.density       # get the current mixture mass density\n",
    "    v_x     = rho_0*v_0 / rho_x # set the current flow speed, such that the mass flow rate remains constant\n",
    "    x      += v_x*dt            # update the current spatial location\n",
    "    vars[0] = gas.T\n",
    "    vars[1] = rho_x\n",
    "    vars[2] = v_x\n",
    "    vars[3] = t\n",
    "    xDevelopment.loc[x] = np.concatenate((reactor.get_state(),vars))\n",
    "    print(t,x,gas.T)\n",
    "\n",
    "# the computer time needed to perform the integration is the difference between ctim1 and ctim0\n",
    "ctim1 = time.time()\n",
    "ctime = ctim1 - ctim0\n",
    "\n",
    "print('The PFR required {:3.2f} s to compute'.format(ctime))"
   ]
  },
  {
   "cell_type": "code",
   "execution_count": 7,
   "metadata": {},
   "outputs": [
    {
     "data": {
      "image/png": "[encoded data removed]",
      "text/plain": [
       "<Figure size 432x288 with 1 Axes>"
      ]
     },
     "metadata": {
      "needs_background": "light"
     },
     "output_type": "display_data"
    }
   ],
   "source": [
    "# plot flow speed and mass density as functions of x\n",
    "fig, ax = plt.subplots()\n",
    "ax.plot(xDevelopment.index, xDevelopment['v_x'], '-',  color='red',  label='v_x', lw=2)\n",
    "ax.plot(xDevelopment.index, xDevelopment['rho'], '--', color='blue', label='rho', lw=2)\n",
    "ax.set(xlabel='x (m)',\n",
    "       ylabel='Speed (m/s), Density (kg/m^3)',\n",
    "       title ='Flow speed and density vs. x for a PFR')\n",
    "ax.legend(handlelength=4,loc='best')\n",
    "ax.grid(True)\n",
    "fig.savefig(\"vx-rho_vs_x_PFR.pdf\")"
   ]
  },
  {
   "cell_type": "markdown",
   "metadata": {},
   "source": [
    "The density decreases as the temperature increases, at constant pressure. The flow must speed up as the density decreases to maintain the constant mass flow rate. The product of flow speed and density is a constant for all $x$."
   ]
  },
  {
   "cell_type": "code",
   "execution_count": 8,
   "metadata": {},
   "outputs": [
    {
     "data": {
      "image/png": "[encoded data removed]",
      "text/plain": [
       "<Figure size 432x288 with 1 Axes>"
      ]
     },
     "metadata": {
      "needs_background": "light"
     },
     "output_type": "display_data"
    }
   ],
   "source": [
    "# plot temperature as a function of x\n",
    "fig, ax = plt.subplots()\n",
    "ax.plot(xDevelopment.index, xDevelopment['temperature'], '-', label='T', lw=2)\n",
    "ax.set(xlabel='x (m)',\n",
    "       ylabel='Temperature (K)',\n",
    "       title ='Temperature vs. x for a PFR')\n",
    "#ax.legend(handlelength=4,loc='best')\n",
    "ax.grid(True)\n",
    "fig.savefig(\"T_vs_x_PFR.pdf\")"
   ]
  },
  {
   "cell_type": "code",
   "execution_count": 9,
   "metadata": {},
   "outputs": [
    {
     "data": {
      "image/png": "[encoded data removed]",
      "text/plain": [
       "<Figure size 432x288 with 1 Axes>"
      ]
     },
     "metadata": {
      "needs_background": "light"
     },
     "output_type": "display_data"
    }
   ],
   "source": [
    "# plot major species, plus CO and C2H4, as a function of x\n",
    "fig, ax = plt.subplots()\n",
    "ax.plot(xDevelopment.index, xDevelopment['NC7H16'],   '-',  label='NC7H16',  lw=2)\n",
    "ax.plot(xDevelopment.index, xDevelopment['O2'],       '--', label='O2',      lw=2)\n",
    "ax.plot(xDevelopment.index, xDevelopment['CO2'],      ':',  label='CO2',     lw=2)\n",
    "ax.plot(xDevelopment.index, xDevelopment['H2O'],      '-.', label='H2O',     lw=2)\n",
    "ax.plot(xDevelopment.index, xDevelopment['CO']*5.,    '-',  label='CO*5',    lw=2)\n",
    "ax.plot(xDevelopment.index, xDevelopment['C2H4']*10., '--', label='C2H4*10', lw=2)\n",
    "ax.set(xlabel='x (m)',\n",
    "       ylabel='Mass fraction (-)',\n",
    "       title ='Species mass fractions vs. x for a PFR')\n",
    "ax.legend(handlelength=4,loc='best')\n",
    "ax.grid(True)\n",
    "fig.savefig(\"Ymajor_vs_x_PFR.pdf\")"
   ]
  },
  {
   "cell_type": "code",
   "execution_count": 10,
   "metadata": {},
   "outputs": [
    {
     "data": {
      "image/png": "[encoded data removed]",
      "text/plain": [
       "<Figure size 432x288 with 1 Axes>"
      ]
     },
     "metadata": {
      "needs_background": "light"
     },
     "output_type": "display_data"
    }
   ],
   "source": [
    "# plot some minor species as a function of x\n",
    "fig, ax = plt.subplots()\n",
    "ax.plot(xDevelopment.index, xDevelopment['H2'],     '--', label='H2',    lw=2)\n",
    "ax.plot(xDevelopment.index, xDevelopment['OH']/2.,  ':',  label='OH/2',  lw=2)\n",
    "ax.plot(xDevelopment.index, xDevelopment['O'],      '-.', label='O',     lw=2)\n",
    "ax.plot(xDevelopment.index, xDevelopment['H']*100., '-',  label='H*100', lw=2)\n",
    "ax.set(xlabel='x (m)',\n",
    "       ylabel='Mass fraction (-)',\n",
    "       title ='Species mass fractions vs. x for a PFR')\n",
    "ax.legend(handlelength=4,loc='best')\n",
    "ax.grid(True)\n",
    "fig.savefig(\"Yminor_vs_x_PFR.pdf\")"
   ]
  },
  {
   "cell_type": "markdown",
   "metadata": {},
   "source": [
    "The temperature increases slowly at first, then more rapidly as the system approaches \"ignition\". The evolution of temperature with distance $x$ in a constant-pressure adiabatic PFR is similar to the evolution of temperature with time $t$ in a fixed-mass constant-pressure adiabatic reactor. The same is true for species mass fractions. The relationship between $x$ and $t$ is not linear, because the flow speed increases with increasing $x$."
   ]
  },
  {
   "cell_type": "code",
   "execution_count": null,
   "metadata": {},
   "outputs": [],
   "source": []
  }
 ],
 "metadata": {
  "kernelspec": {
   "display_name": "Python 3",
   "language": "python",
   "name": "python3"
  },
  "language_info": {
   "codemirror_mode": {
    "name": "ipython",
    "version": 3
   },
   "file_extension": ".py",
   "mimetype": "text/x-python",
   "name": "python",
   "nbconvert_exporter": "python",
   "pygments_lexer": "ipython3",
   "version": "3.7.6"
  }
 },
 "nbformat": 4,
 "nbformat_minor": 1
}
