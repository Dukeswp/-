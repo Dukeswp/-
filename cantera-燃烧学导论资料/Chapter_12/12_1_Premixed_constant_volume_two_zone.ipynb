{
 "cells": [
  {
   "cell_type": "markdown",
   "metadata": {},
   "source": [
    "# Premixed Flame Propagation in a Constant-Volume Chamber: A Two-Zone Model\n",
    "\n",
    "This Jupyter Notebook was written by Dan Haworth. It is intended as a tutorial to be used in parallel with Chapter 12 of the book \"An Introduction to Combustion: Concepts and Applications\" by Stephen R. Turns and Daniel C. Haworth. That book is referred to as \"Turns 4th ed.\" throughout this Notebook.\n",
    "\n",
    "This Notebook was last updated 3 March 2020.\n",
    "\n",
    "The objectives of this tutorial are to introduce a simplified two-zone model for premixed flame propagation, and to exercise the model to illustrate laminar and turbulent flame propagation. Although the model as implemented is limited to flame propagation in a constant-volume combustion chamber, the model is a formulated in a way that lends itself to being extended as a simplified model for combustion in a homogeneous-charge spark-ignition piston engine. The model is exercised to illustrate some engine-relevant phenomena. The reading in of a previously generated Pandas DataFrame table is demonstrated. We will use the thermodynamic properties that are included in nasa.cti.\n",
    "\n",
    "The files \"pancake_engine.png\" and \"two_zone_equations.png\" (image files) must be placed in a folder or directory named \"images\" that is immediately below the folder or directory from which you have opened this Notebook. If you downloaded the .zip file that contains all of the tutorial Notebooks, the appropriate folder and file structure should be in place.\n",
    "\n",
    "The reader should be familiar with the material in the earlier chapter Notebooks before working through this Notebook."
   ]
  },
  {
   "cell_type": "markdown",
   "metadata": {},
   "source": [
    "## 1. Model description"
   ]
  },
  {
   "cell_type": "markdown",
   "metadata": {},
   "source": [
    "### 1.1 Combustion process and geometric configuration"
   ]
  },
  {
   "cell_type": "markdown",
   "metadata": {},
   "source": [
    "The combustion process in a constant-volume combustion chamber that is initially filled with a homogeneous premixed fuel-air reactant mixture can, for some purposes, be idealized as the propagation of a spherical flame centered at a point ignition site. This is the case for both laminar and premixed flame propagation. The flame, which occupies negligible volume, separates the unburned gas (reactants) from the burned gas (products). The temperature and composition in each of these two \"zones\" are approximately uniform at any instant in time $t$: for example, a single temperature $T_u(t)$ characterizes the unburned gas, and a different temperature $T_b(t)$ characterizes the burned gas. The pressure in the unburned gas is approximately equal to that in the burned gas: $P_u(t) = P_b(t) = P(t)$. The total volume $ V = V_u(t) + V_b(t) $ remains constant during flame propagation. As the flame propagates, it eventually intersects the combustion-chamber walls; thus the active flame area at any time $t$ includes only those parts of the sphere that have not yet encountered a boundary of the combustion chamber. This is illustrated for the case of a right-circular-cylinder combustion chamber in the figure below. \n",
    "\n",
    "<img src=\"images/pancake_engine.png\" alt=\"Two-zone model of premixed flame propagation\" style=\"width: 700px;\"/>\n",
    "\n",
    "This can be thought of as a first approximation of the combustion process in a \"pancake\" (flat head and piston) spark-ignition homogeneous-charge piston engine. In an engine, the independent variable is usually taken to be crank-angle degrees (CAD) of crankshaft rotation $ \\theta $, rather than time $t$. The two are related simply through the crankshaft rotational speed $ \\Omega_{CS} $ as follows, where $ \\theta $ is in degrees, $t$ is in seconds, and $ \\Omega _ {CS} $ is in revolutions per minute:\n",
    "\n",
    "$$ \\theta = \\theta _ 0 + 6 \\Omega _ {CS} ( t - t _ 0 ) $$\n",
    "\n",
    "where $ \\theta _ 0 $ is the crank position at time $ t_0 $. In a spark-ignition engine, ignition typically occurs 20-25 CAD before piston top-dead-center (TDC), and is completed (no unburned gas remaining) by 30 CAD after TDC. The volume is not constant in an engine. However, since combustion occurs over a short period around TDC, the volume change is relatively small. The constant-volume model that is implemented here can be readily adapted to account for a time-varying combustion-chamber volume, then applied as a more realistic (but still simplified) model of combustion in a homogeneous-charge spark-ignition engine."
   ]
  },
  {
   "cell_type": "markdown",
   "metadata": {},
   "source": [
    "### 1.2 Governing equations"
   ]
  },
  {
   "cell_type": "markdown",
   "metadata": {},
   "source": [
    "The governing equations are written here using time as the independent variable. Then in Section 2 below, we will set up the problem and look at the results in terms of crank-angle degrees of rotation, to emphasize the eventual relevance to engines.\n",
    "\n",
    "To derive the governing equations, two key physical principles are invoked: conservation of mass, and conservation of energy. In addition, fluid properties need to be specified; here we assume ideal-gas mixtures. Other key simplifications/assumptions are as follows:\n",
    "\n",
    "*\tThe combustion chamber is a right circular cylinder of height $h$ and diameter $b$.\n",
    "\n",
    "*\tThe flame is a sphere of radius $r_b = r_b(t)$ that propagates from the ignition site, which is necessarily inside of the cylinder. Surface elements on the sphere that have reached a solid wall no longer participate in burning. Combustion is complete when all unburned gas has been converted to burned gas: that is, when the sphere completely encloses the right circular cylinder.\n",
    "\n",
    "*\tThe flame itself occupies negligible volume.\n",
    "\n",
    "*\tThe total volume remains constant during flame propagation: $V_u(t) + V_b(t) = V = constant$.\n",
    "\n",
    "*\tThe total mass remains constant during flame propagation: $m_u(t) + m_b(t) = m = constant $. In the engine context, this corresponds to assuming no leakage past the piston rings or valves.\n",
    "\n",
    "*\tThe pressure remains spatially uniform, so that a single time-varying mixture pressure is used: $P_u(t) = P_b(t) = P(t)$.\n",
    "\n",
    "*\tThe unburned-gas and the burned-gas zones each can be treated as a homogeneous (spatially uniform) ideal-gas mixture with gas constants $R_u$ and $R_b$ (J/kg-K), respectively. Thus a single temperature $T_u(t) $ (K) and mass-specific internal energy $u_u(t)$ (J/kg) characterize the unburned gas; and a different temperature $T_b(t)$ and internal energy $u_b(t)$ characterize the burned gas.\n",
    "\n",
    "*\tThere is negligible heat transfer between the unburned gas and the burned gas.\n",
    "\n",
    "*\tThe rate of heat transfer from the unburned gas to the walls is $ \\dot Q _ u (t)$ (W), and the rate of heat transfer from the burned gas to the walls is $ \\dot Q _ b (t)$. These heat transfer rates are known functions of time, and are related to the temperature difference between the gas and the wall through a heat-transfer coefficient $h$: $ \\dot Q _ u = h ( T_u - T_{wall} ) A_ u $, where $ A_u = A_u (t) $ is the wall surface area that is exposed to unburned gas, and similarly for $ \\dot Q _ b $.\n",
    "\n",
    "*\tThe mass rate of conversion from unburned gas to burned gas (the mass burning rate) is $\\dot m (t)$ (kg/s). The burning rate is expressed in terms of the unburned gas mass density $ \\rho _ u ( t ) $, the flame area $ A_{flame} (t) $, and a flame speed $s_{flame} (t) $ with respect to the unburned gases as $ \\dot m = \\rho _ u s_{flame} A_{flame} $, where $ A_{flame} (t) $ is simply the area of the sphere of radius $ r_b (t) $ that is inside of the combustion chamber. It is important to note that $ s_{flame} \\ne d r_b / dt $, because of volume expansion of the burned gases behind the flame. The same partial-sphere flame area is used for both laminar and turbulent premixed flame propagation; the difference is in the specification of $s_{flame} (t) $. For laminar flame propagation, a simple flame-speed correlation is used for the laminar flame speed. For turbulent flame propagation, the flame speed is augmented by an amount that is proportional to the root-mean-square turbulence velocity fluctuation in the combustion chamber, $ u ' $. For a piston engine, $ u ' $ is proportional to the mean piston speed. \n",
    "\n",
    "*\tThe composition of the unburned gas is known and constant (specified fuel-air reactant mixture). The unburned-gas temperature, pressure, and other thermodynamic properties do vary with time, however.\n",
    "\n",
    "*\tThe burned gases are assumed to be in chemical equilibrium corresponding to the instantaneous burned-gas temperature and pressure, and the known reactant composition. To initialize the simulation (i.e., to model ignition), a small sphere of burned gas centered at the ignition location is specified at time $ t = t_0 $.\n",
    "\n",
    "*\tChanges in kinetic and potential energy are negligible.\n",
    "\n",
    "With these specifications, the four principal ordinary differential equations (ODEs) governing the system can be written as follows, where a dot over a quantity denotes a time derivative:\n",
    "\n",
    "<img src=\"images/two_zone_equations.png\" alt=\"Two-zone equations\" style=\"width: 800px;\"/>\n",
    "\n",
    "Note that only thermodynamic property data are needed to solve this problem; transport properties and a reaction mechanism are not needed, since we use simple flame-speed correlations. Further information can be found in the comments for the code that is provided in Section 2 below. And further information on two-zone models for spark-ignition engine combustion can be found in: J.N. Mattavi & C.A. Amann, Eds., Combustion Modeling in Reciprocating Engines, Plenum Press, New York (1980); and in\n",
    "G.L. Borman & K.W. Ragland, Combustion Engineering, McGraw-Hill, New York (1998).\n"
   ]
  },
  {
   "cell_type": "markdown",
   "metadata": {},
   "source": [
    "## 2. Cantera implementation"
   ]
  },
  {
   "cell_type": "markdown",
   "metadata": {},
   "source": [
    "As was the case for the system considered in Cantera tutorial Notebook 10_1_1D_spray_combustion, no standard predefined Cantera object is available for this system. We therefore code the appropriate system of coupled nonlinear ordinary differential equations (ODEs) and ancillary algebraic equations directly, and solve them using [`solve_ivp()`](https://docs.scipy.org/doc/scipy/reference/generated/scipy.integrate.solve_ivp.html).\n",
    "\n",
    "Here we consider premixed propane-air reactant mixtures. The fuel/oxidizer mixture can be changed by making the appropriate changes to the code. The gas-phase mixture thermodynamic properties are taken from a Cantera input data file. And in the equilibrium calculations that are used to compute the burned-gas properties, only major species plus CO and H2 are considered."
   ]
  },
  {
   "cell_type": "markdown",
   "metadata": {},
   "source": [
    "### 2.1 Define the gas mixture"
   ]
  },
  {
   "cell_type": "code",
   "execution_count": 1,
   "metadata": {},
   "outputs": [
    {
     "name": "stdout",
     "output_type": "stream",
     "text": [
      "Running Cantera version: 2.4.0\n"
     ]
    }
   ],
   "source": [
    "# import modules\n",
    "import cantera as ct\n",
    "import numpy as np\n",
    "import matplotlib.pyplot as plt\n",
    "import pandas as pd\n",
    "from scipy.integrate import solve_ivp\n",
    "import time\n",
    "\n",
    "# print Cantera version\n",
    "print(\"Running Cantera version: {}\".format(ct.__version__))"
   ]
  },
  {
   "cell_type": "code",
   "execution_count": 2,
   "metadata": {},
   "outputs": [],
   "source": [
    "# define an ideal-gas mixture using thermodynamic property data from nasa.cti\n",
    "# limit the gas mixture to seven allowable species\n",
    "species = {S.name: S for S in ct.Species.listFromFile('nasa.cti')}\n",
    "seven_species = [species[S] for S in ('C3H8','O2','N2','CO2','H2O','CO','H2')]\n",
    "gas     = ct.Solution(thermo='IdealGas',species=seven_species) "
   ]
  },
  {
   "cell_type": "code",
   "execution_count": 3,
   "metadata": {},
   "outputs": [
    {
     "data": {
      "text/plain": [
       "(200.0, 6000.0)"
      ]
     },
     "execution_count": 3,
     "metadata": {},
     "output_type": "execute_result"
    }
   ],
   "source": [
    "# check the temperature range over which the property data are intended to be used\n",
    "gas.min_temp, gas.max_temp"
   ]
  },
  {
   "cell_type": "code",
   "execution_count": 4,
   "metadata": {},
   "outputs": [
    {
     "data": {
      "text/plain": [
       "[<Species C3H8>,\n",
       " <Species O2>,\n",
       " <Species N2>,\n",
       " <Species CO2>,\n",
       " <Species H2O>,\n",
       " <Species CO>,\n",
       " <Species H2>]"
      ]
     },
     "execution_count": 4,
     "metadata": {},
     "output_type": "execute_result"
    }
   ],
   "source": [
    "# confirm that we have the desired set of allowable species\n",
    "gas.species()"
   ]
  },
  {
   "cell_type": "markdown",
   "metadata": {},
   "source": [
    "### 2.2 Specify the geometric configuration and operating condition"
   ]
  },
  {
   "cell_type": "markdown",
   "metadata": {},
   "source": [
    "In this subsection, the specific problem that is to be solved is defined. As mentioned in Section 1 above, we use crank-angle degrees of rotation as the independent variable instead of time, to facilitate interpretation of the results in terms of combustion in a homogeneous-charge spark-ignition piston engine."
   ]
  },
  {
   "cell_type": "code",
   "execution_count": 5,
   "metadata": {},
   "outputs": [],
   "source": [
    "##### user-specified quantitites #####\n",
    "\n",
    "# engine geometric dimensions\n",
    "bore   = 0.086           # (m) - bore (diameter of the right-circular-cylinder combustion chamber)\n",
    "stroke = 0.086           # (m) - stroke (used together with rpm to compute mean piston speed)\n",
    "clear  = 0.00956         # (m) - TDC clearance height (height of the right-circular-cylinder combustion chamber)\n",
    "\n",
    "# spark location\n",
    "# the coordinate system origin is at the center of the circle corresponding to the top of the right-circular-cylinder\n",
    "#   combustion chamber (the \"head\" of the engine)\n",
    "xign =  0.0              # (m) - x location\n",
    "yign =  0.0              # (m) - y location\n",
    "zign = -0.003            # (m) - z location\n",
    "\n",
    "# homogeneous premixed reactants\n",
    "fuel = 'C3H8'            # fuel composition\n",
    "air  = 'O2:1.0,N2:3.76'  # oxidizer (air) composition\n",
    "phi  = 1.0               # equivalence ratio\n",
    "\n",
    "# other operating-condition parameters\n",
    "rpm   = 2000.            # (r/min) - crankshaft rotational speed\n",
    "caign = -25.             # (CAD)   - ignition time, in crank-angle degrees before TDC\n",
    "Vign  = 1.e-9            # (m^3)   - ignition volume, which is the initial burned-gas volume\n",
    "P0    = 2.025500e+6      # (Pa)    - pressure at ignition time\n",
    "T0    = 700.             # (K)     - unburned reactants temperature at ignition time\n",
    "\n",
    "# wall heat transfer model parameters\n",
    "Twall = 400.             # (K) - wall temperature\n",
    "ch    = 0.               # (W/m^2-K-rpm) - wall heat transfer coefficient - see Wall_Heat_Transfer_Rates_Engine\n",
    "\n",
    "# flame propagation model\n",
    "kflame = 2               # flame propagation model selection - see Mass_Burning_Rate_Engine\n",
    "\n",
    "# computational time step and end time\n",
    "dCA = 0.01               # (CAD) - time step in crank-angle-degrees of rotation\n",
    "CAf = 30.                # (CAD) - final time in crank-angle degrees of rotation\n",
    "\n",
    "# parameter controlling discretization for the flame table\n",
    "ninc =  50               # see Create_Flame_Table_Pancake_Engine"
   ]
  },
  {
   "cell_type": "code",
   "execution_count": 6,
   "metadata": {},
   "outputs": [
    {
     "data": {
      "text/plain": [
       "(44.09652,\n",
       " 28.8503972,\n",
       " 29.465160216129032,\n",
       " 15.571284386160176,\n",
       " 282.1794295029395,\n",
       " 2584.705158967949)"
      ]
     },
     "execution_count": 6,
     "metadata": {},
     "output_type": "execute_result"
    }
   ],
   "source": [
    "##### derived quantitites #####\n",
    "\n",
    "# computational time step\n",
    "dtim = dCA / ( 6.*rpm )                                           # (s) - computational time step in seconds\n",
    "\n",
    "# initial and final crank angles and times\n",
    "ca0  = caign                                                      # (CAD) - begin at the time of ignition\n",
    "caf  = CAf                                                        # (CAD) - end at the specified end time in CAD\n",
    "tim0 = 0.                                                         # (s)   - initial time in seconds\n",
    "timf = ( caf - ca0 ) / ( 6.*rpm )                                 # (s)   - final time in seconds\n",
    "\n",
    "# reactant stoichiometry\n",
    "xfuel     = gas.n_atoms(fuel,'C')                                 # number of carbon atoms in the fuel molecule\n",
    "yfuel     = gas.n_atoms(fuel,'H')                                 # number of hydrogen atoms in the fuel molecule\n",
    "a_st      = xfuel + yfuel/4.                                      # moles O2 per mole fuel, for stoichiometric reactants\n",
    "n_air_st  = 4.76*a_st                                             # moles air per mole fuel, for stoichiometric reactants\n",
    "mw_fuel   = gas.molecular_weights[gas.species_index(fuel)]        # (kg/kmol) - fuel molecular weight\n",
    "mw_air    = 0.21*gas.molecular_weights[gas.species_index('O2')] \\\n",
    "          + 0.79*gas.molecular_weights[gas.species_index('N2')]   # (kg/kmol) - air molecular weight\n",
    "FA_stoich = mw_fuel / ( n_air_st*mw_air )                         # stoichiometric fuel/air mass ratio\n",
    "\n",
    "FA        = phi*FA_stoich                                         # actual fuel/air mass ratio\n",
    "n_air     = n_air_st / phi                                        # actual moles of air per mole of fuel\n",
    "x_fuel    =    1. / ( 1. + n_air )                                # mole fraction of fuel in reactants\n",
    "x_air     = n_air / ( 1. + n_air )                                # mole fraction of air in reactants\n",
    "\n",
    "mw_reac   = x_fuel*mw_fuel + x_air*mw_air                         # (kg/kmol) - reactants molecular weight\n",
    "R_u       = ct.gas_constant / mw_reac                             # (J/kg-K)  - reactants gas constant\n",
    "\n",
    "# adiabatic flame temperature and equilibrium product composition based on given fuel, air, phi, P0, and T0\n",
    "gas.TP = T0,P0\n",
    "gas.set_equivalence_ratio(phi,fuel,air)\n",
    "gas.equilibrate('HP')\n",
    "tadign = gas.T  # (K) - this is the initial burned-gas temperature, which will be assigned within the ignition volume\n",
    "\n",
    "# print some quantitites to confirm setup\n",
    "mw_fuel , mw_air , mw_reac , 1./FA , R_u , tadign"
   ]
  },
  {
   "cell_type": "markdown",
   "metadata": {},
   "source": [
    "### 2.3 Define functions"
   ]
  },
  {
   "cell_type": "markdown",
   "metadata": {},
   "source": [
    "In this subsection, key functions are defined that are needed to solve the problem. The shape of the combustion chamber can be changed by replacing the function Create_Flame_Table_Pancake_Engine with a function the generates an equivalent table for the geometry of interest."
   ]
  },
  {
   "cell_type": "code",
   "execution_count": 7,
   "metadata": {},
   "outputs": [],
   "source": [
    "# define a function that creates a table of the following quantities as a function of the flame radius rflame (m):\n",
    "#   burned-gas volume                                         - vburned  (m^3)\n",
    "#   active flame surface area                                 - aburning (m^2)\n",
    "#   wall area of combustion chamber exposed to burned gases   - careab   (m^2)\n",
    "#   wall area of combustion chamber exposed to unburned gases - careau   (m^2)\n",
    "# input arguments:\n",
    "#   ninc       - number of increments to be used in discretizing the flame and the combustion chamber\n",
    "#   bore       - bore diameter (m)\n",
    "#   clear      - clearance height (m)\n",
    "#   xign       - x position of ignition (m)\n",
    "#   yign       - y position of ignition (m)\n",
    "#   zign       - z position of ignition (m)\n",
    "#   FlameTable - name of the flame table, which is a Pandas DataFrame that must be defined before calling this function\n",
    "# function returns:\n",
    "#   nflame     - number of flame radii in the flame table, where nflame is less than or equal to ninc\n",
    "#   vchamb     - combustion chamber volume (m^3)\n",
    "#   achamb     - combustion chamber wall surface area (m^2)\n",
    "#   in addition to these return variables, the FlameTable is filled\n",
    "# the coordinate system origin is at the center of the circle corresponding to the top of the right-circular-cylinder\n",
    "#   combustion chamber (the \"head\" of the engine)\n",
    "# the flame is assumed to be a sphere that is centered at the ignition location; the flame is discretized\n",
    "#   using a spherical coordinate system centered at the ignition location\n",
    "# the combustion chamber is a right circular cylinder with a diameter that is equal to the bore diameter\n",
    "#   and a height that is equal to the TDC clearance height; the combustion chamber is discretized\n",
    "#   using a polar cylindrical coordinate system\n",
    "# ninc controls the discretization that is used: higher values of ninc give more accuracy, and \n",
    "#   correspondingly higher computational times\n",
    "# a rather crude approach is used to perform the discretization, and the consequences of that can be seen in the\n",
    "#   results, especially for the late burn\n",
    "\n",
    "def Create_Flame_Table_Pancake_Engine(ninc,bore,clear,xign,yign,zign,FlameTable):\n",
    "    \n",
    "# the value of ninc determines the accuracy of the table, and the computational time required to generate the table\n",
    "# higher values of ninc give higher accuracy and higher computational times\n",
    "# higher values are especially important to give accurate late-burn results, when the flame is everywhere close\n",
    "#   to a combustion-chamber wall\n",
    "    \n",
    "# discretization parameters\n",
    "    nrad = ninc\n",
    "    nthe = ninc\n",
    "    nphi = ninc\n",
    "\n",
    "    nrc = ninc\n",
    "    ntc = ninc\n",
    "    nzc = ninc\n",
    "\n",
    "    rflmax = bore\n",
    "    themax = 2.*np.pi\n",
    "    phimax = np.pi\n",
    "\n",
    "    rcyl  = 0.5*bore\n",
    "    zcmin = -clear\n",
    "    zcmax = 0.\n",
    "\n",
    "    dr = rflmax / ( nrad - 1 )\n",
    "    dt = themax / ( nthe - 1 )\n",
    "    dp = phimax / ( nphi - 1 )\n",
    "\n",
    "    drc = rcyl   / ( nrc - 1 )\n",
    "    dtc = themax / ( ntc - 1 )\n",
    "    dzc = clear  / ( nzc - 1 )\n",
    "\n",
    "    achamb = 0.5*np.pi*bore*bore + np.pi*bore*clear\n",
    "    vchamb = 0.25*np.pi*bore*bore*clear\n",
    "\n",
    "    rflame   = np.zeros(nrad)\n",
    "    aburning = np.zeros(nrad)\n",
    "    vburned  = np.zeros(nrad)\n",
    "    careab   = np.zeros(nrad)\n",
    "    careau   = np.zeros(nrad)\n",
    "\n",
    "    i           = 0\n",
    "    rflame[i]   = 0.\n",
    "    aburning[i] = 0.\n",
    "    vburned[i]  = 0.\n",
    "    careab[i]   = 0.\n",
    "    careau[i]   = achamb\n",
    "    \n",
    "    r                 = rflame[i]\n",
    "    FlameTable.loc[r] = vburned[i],aburning[i],careab[i],careau[i]\n",
    "\n",
    "    vflin    = 0.\n",
    "    vflout   = 0.\n",
    "    test     = 1\n",
    "    while test==1:\n",
    "#        for i in range(1,nrad-1):\n",
    "        for i in range(1,nrad):\n",
    "            r      = i*dr\n",
    "            aflin  = 0.\n",
    "            aflout = 0.\n",
    "            achin  = 0.\n",
    "            achout = 0.\n",
    "            aspher = 4.*np.pi*r*r\n",
    "            vspher = 4.*np.pi*r*r*r / 3.\n",
    "#            for j in range(1,nthe-1):\n",
    "            for j in range(1,nthe):\n",
    "                t    = j*dt\n",
    "                sint = np.sin(t)\n",
    "                cost = np.cos(t)\n",
    "#                for k in range(1,nphi-1):\n",
    "                for k in range(1,nphi):\n",
    "                    p    = k*dp\n",
    "                    sinp = np.sin(p)\n",
    "                    cosp = np.cos(p)\n",
    "\n",
    "                    x = xign + r*sinp*cost\n",
    "                    y = yign + r*sinp*sint\n",
    "                    z = zign + r*cosp\n",
    "\n",
    "                    rg = np.sqrt( x**2 + y**2 )\n",
    "  \n",
    "                    da = r*r*sinp*dp*dt\n",
    "                    dv = r*r*sinp*dr*dp*dt\n",
    "                    if z>zcmin and z<zcmax and rg<rcyl:\n",
    "                        aflin  = aflin  + da\n",
    "                        vflin  = vflin  + dv\n",
    "                    else:\n",
    "                        aflout = aflout + da\n",
    "                        vflout = vflout + dv\n",
    "                \n",
    "# end of loop over k\n",
    "# end of loop over j\n",
    "\n",
    "            aflsum = aflin + aflout\n",
    "            vflsum = vflin + vflout\n",
    "\n",
    "#  combustion chamber\n",
    "\n",
    "#            for ii in range(0,nrc-1):\n",
    "            for ii in range(0,nrc):\n",
    "                rc = ii*drc\n",
    "#                for jj in range(0,ntc-1):\n",
    "                for jj in range(0,ntc):\n",
    "                    tc    = jj*dtc\n",
    "                    sintc = np.sin(tc)\n",
    "                    costc = np.cos(tc)\n",
    "\n",
    "#  bottom (piston)\n",
    "\n",
    "                    xc = rc*costc\n",
    "                    yc = rc*sintc\n",
    "                    zc = zcmin\n",
    "\n",
    "                    rf = np.sqrt( ( xc - xign )**2 + ( yc - yign )**2 + ( zc - zign )**2 )\n",
    "\n",
    "                    dac = rc*dtc*drc\n",
    "\n",
    "                    if rf<r:\n",
    "                        achin  = achin  + dac\n",
    "                    else:\n",
    "                        achout = achout + dac\n",
    "\n",
    "#  top (head)\n",
    "\n",
    "                    zc = zcmax\n",
    "\n",
    "                    rf = np.sqrt( ( xc - xign )**2 + ( yc - yign )**2 + ( zc - zign )**2 )\n",
    "\n",
    "                    dac = rc*dtc*drc\n",
    "\n",
    "                    if rf<r:\n",
    "                        achin  = achin  + dac\n",
    "                    else:\n",
    "                        achout = achout + dac\n",
    "\n",
    "# end of loop over jj\n",
    "# end of loop over ii\n",
    "\n",
    "#  side (liner)\n",
    "            \n",
    "            rc = rcyl\n",
    "#            for kk in range(0,nzc-1):\n",
    "            for kk in range(0,nzc):\n",
    "                zc = zcmin + kk*dzc\n",
    "#                for jj in range(0,ntc-1):\n",
    "                for jj in range(0,ntc):\n",
    "                    tc    = jj*dtc\n",
    "                    sintc = np.sin(tc)\n",
    "                    costc = np.cos(tc)\n",
    "\n",
    "                    xc = rc*costc\n",
    "                    yc = rc*sintc\n",
    "\n",
    "                    rf = np.sqrt( ( xc - xign )**2 + ( yc - yign )**2 + ( zc - zign )**2 )\n",
    "\n",
    "                    dac = rc*dzc*dtc\n",
    "\n",
    "                    if rf<r:\n",
    "                        achin  = achin  + dac\n",
    "                    else:\n",
    "                        achout = achout + dac\n",
    "\n",
    "# end of loop over jj\n",
    "# end of loop over kk\n",
    "\n",
    "            achsum = achin + achout\n",
    "\n",
    "            afracb = aflin  / ( aflin + aflout )\n",
    "            vfracb = vflin  / ( vflin + vflout )\n",
    "            cfracb = achin  / ( achin + achout )\n",
    "            cfracu = achout / ( achin + achout )\n",
    "\n",
    "            nflame      = i\n",
    "            rflame[i]   = r\n",
    "            aburning[i] = afracb*aspher\n",
    "            vburned[i]  = vfracb*vspher\n",
    "            careab[i]   = cfracb*achamb\n",
    "            careau[i]   = cfracu*achamb\n",
    "        \n",
    "            FlameTable.loc[r] = vburned[i],aburning[i],careab[i],careau[i]\n",
    "    \n",
    "            if aflin==0.:\n",
    "                test = 0\n",
    "                break\n",
    "\n",
    "# end of loop over i\n",
    "# end of while loop\n",
    "\n",
    "# force the last table entries to be consistent with the overall combustion chamber volume and surface area\n",
    "    i           = i + 1\n",
    "    nflame      = i\n",
    "    rflame[i]   = r + dr\n",
    "    aburning[i] = aburning[i-1]\n",
    "    vburned[i]  = vchamb\n",
    "    careab[i]   = achamb\n",
    "    careau[i]   = 0.\n",
    "    \n",
    "    FlameTable.loc[r] = vburned[i],aburning[i],careab[i],careau[i]\n",
    "    \n",
    "# return the number of table entries, the total volume of the combustion chamber, and the total surface area\n",
    "#   of the combustion chamber\n",
    "    return nflame,vchamb,achamb"
   ]
  },
  {
   "cell_type": "code",
   "execution_count": 8,
   "metadata": {},
   "outputs": [],
   "source": [
    "# define a function that returns flame area and combustion chamber wall areas for a given burned-gas volume\n",
    "# input arguments:\n",
    "#   nflame     - number of flame radii in the flame table, where nflame is less than or equal to ninc\n",
    "#   vb         - burned-gas volume (m^3)\n",
    "#   FlameTable - name of the flame table, which is a Pandas DataFrame that must be filled before calling this function\n",
    "# function returns:\n",
    "#   aflame     - active flame surface area (m^2)\n",
    "#   awallb     - wall area of combustion chamber exposed to burned gases (m^2)\n",
    "#   awallu     - wall area of combustion chamber exposed to unburned gases (m^2)\n",
    "# simple linear interpolation is used\n",
    "# this function is independent of the particular geometric configuration that is considered, as long as an appropriate\n",
    "#   flame table has been generated for the configuration of interest\n",
    "\n",
    "def Interpolate_Flame_Table(nflame,vb,FlameTable):\n",
    "    if vb>FlameTable['vburned'].values[nflame-1]:\n",
    "        aflame = FlameTable['aburning'].values[nflame-1]\n",
    "        awallb = FlameTable['careab'].values[nflame-1]\n",
    "        awallu = FlameTable['careau'].values[nflame-1]\n",
    "    else:\n",
    "        test = 1\n",
    "        while test==1:\n",
    "            for i in range(1,nflame):\n",
    "                if FlameTable['vburned'].values[i]>=vb:\n",
    "                    frac   = ( vb - FlameTable['vburned'].values[i-1] ) / \\\n",
    "                             ( FlameTable['vburned'].values[i] - FlameTable['vburned'].values[i-1] )\n",
    "                    aflame = FlameTable['aburning'].values[i-1] \\\n",
    "                           + frac*( FlameTable['aburning'].values[i] - FlameTable['aburning'].values[i-1] )\n",
    "                    awallb = FlameTable['careab'].values[i-1] \\\n",
    "                           + frac*( FlameTable['careab'].values[i] - FlameTable['careab'].values[i-1] )\n",
    "                    awallu = FlameTable['careau'].values[i-1] \\\n",
    "                           + frac*( FlameTable['careau'].values[i] - FlameTable['careau'].values[i-1] )\n",
    "                \n",
    "                    test = 0\n",
    "                    break\n",
    "                \n",
    "# end of loop over i\n",
    "# end of while loop\n",
    "\n",
    "# for the current burned-gas volume, return the active flame surface area, the wall area that is exposed to burned\n",
    "#   gases, and the wall area that is exposed to unburned gases   \n",
    "    return aflame,awallb,awallu"
   ]
  },
  {
   "cell_type": "code",
   "execution_count": 9,
   "metadata": {},
   "outputs": [],
   "source": [
    "# define a function that computes the necessary unburned-gas mixture properties\n",
    "# input arguments:\n",
    "#   gas        - gas mixture\n",
    "#   fuel       - fuel composition, which must be only species that are included in gas\n",
    "#   air        - air  composition, which must be only species that are included in gas\n",
    "#   phi        - equivalence ratio\n",
    "#   T_u        - unburned-gas temperature (K)\n",
    "#   P          - pressure (Pa)\n",
    "# function returns:\n",
    "#   uu         - unburned-gas internal energy per unit mass (J/kg)\n",
    "#   cvu        - unburned-gas constant-volume specific heat per unit mass (J/kg-K)\n",
    "#   ru         - unburned-gas gas constant (J/kg-K)\n",
    "#   rhou       - unburned-gas mass density (kg/m^3)\n",
    "\n",
    "def Unburned_Gas_Props(gas,fuel,air,phi,T_u,P):\n",
    "    \n",
    "# save the state of the gas mixture on entering this function\n",
    "    T_0 = gas.T\n",
    "    P_0 = gas.P\n",
    "    X_0 = gas.X\n",
    "\n",
    "# set the gas thermochemical state to correspond to the desired unburned-gas mixture state\n",
    "    gas.TP = T_u,P\n",
    "    gas.set_equivalence_ratio(phi,fuel,air)\n",
    "    \n",
    "# get the required unburned-gas mixture properties\n",
    "    uu   = gas.int_energy_mass\n",
    "    cvu  = gas.cv_mass\n",
    "    ru   = ct.gas_constant / gas.mean_molecular_weight\n",
    "    rhou = gas.density\n",
    "    \n",
    "# reset the gas mixture to its state on calling this function\n",
    "    gas.TPX = T_0,P_0,X_0\n",
    "\n",
    "# return the required unburned-gas properties\n",
    "    return uu,cvu,ru,rhou"
   ]
  },
  {
   "cell_type": "code",
   "execution_count": 10,
   "metadata": {},
   "outputs": [],
   "source": [
    "# define a function that computes the necessary burned-gas mixture properties\n",
    "# input arguments:\n",
    "#   gas        - gas mixture\n",
    "#   fuel       - fuel composition, which must be only species that are included in gas\n",
    "#   air        - air  composition, which must be only species that are included in gas\n",
    "#   phi        - equivalence ratio\n",
    "#   T_b        - burned-gas temperature (K)\n",
    "#   P          - pressure (Pa)\n",
    "# function returns:\n",
    "#   ub         - burned-gas internal energy per unit mass (J/kg)\n",
    "#   cvb        - burned-gas constant-volume specific heat per unit mass (J/kg-K)\n",
    "#   rb         - burned-gas gas constant (J/kg-K)\n",
    "#   rhob       - burned-gas mass density (kg/m^3)\n",
    "#   dubdt      - burned-gas partial derivative of internal energy with respect to temperature (J/kg-K)\n",
    "#   dubdp      - burned-gas partial derivative of internal energy with respect to pressure (J/kg-Pa)\n",
    "\n",
    "def Burned_Gas_Props(gas,fuel,air,phi,T_b,P):\n",
    "\n",
    "# specify the temperature and pressure increments to use for estimating partial derivatives\n",
    "    dT = 1.  # (K)\n",
    "    dP = 1.  # (Pa)\n",
    "    \n",
    "# save the state of the gas mixture on entering this function\n",
    "    T_0 = gas.T\n",
    "    P_0 = gas.P\n",
    "    X_0 = gas.X\n",
    "\n",
    "# set the gas thermochemical state to correspond to the desired unburned-gas mixture state, which is the equilibrium state\n",
    "#   for the given reactant mixture at the current pressure and burned-gas temperature\n",
    "    gas.TP = T_b,P\n",
    "    gas.set_equivalence_ratio(phi,fuel,air)\n",
    "    gas.equilibrate('TP')\n",
    "    \n",
    "# get the required burned-gas properties\n",
    "    ub     = gas.int_energy_mass\n",
    "    cvb    = gas.cv_mass\n",
    "    rb     = ct.gas_constant / gas.mean_molecular_weight\n",
    "    rhob   = gas.density\n",
    "    \n",
    "    Tnew   = T_b + dT\n",
    "    gas.TP = Tnew,None\n",
    "    gas.equilibrate('TP')\n",
    "    ubnew  = gas.int_energy_mass\n",
    "    dubdt  = ( ubnew - ub ) / dT\n",
    "    \n",
    "    Pnew   = P + dP\n",
    "    gas.TP = T_b,Pnew\n",
    "    gas.equilibrate('TP')\n",
    "    ubnew  = gas.int_energy_mass\n",
    "    dubdp  = ( ubnew - ub ) / dP\n",
    "    \n",
    "# reset the gas mixture to its state on calling this function\n",
    "    gas.TPX = T_0,P_0,X_0\n",
    "\n",
    "# return the required burned-gas mixture properties\n",
    "    return ub,cvb,rb,rhob,dubdt,dubdp"
   ]
  },
  {
   "cell_type": "code",
   "execution_count": 11,
   "metadata": {},
   "outputs": [],
   "source": [
    "# define a function that computes the wall heat transfer rates\n",
    "# input arguments:\n",
    "#   ch         - heat-transfer coefficient (W/m^2-K-rpm)\n",
    "#   rpm        - crankshaft rotational speed (r/min)\n",
    "#   tu         - unburned-gas temperature (K)\n",
    "#   tb         - burned-gas temperature (K)\n",
    "#   twall      - wall temperature (K)\n",
    "#   awallu     - surface area of walls exposed to unburned gas (m^2)\n",
    "#   awallb     - surface area of walls exposed to burned gas (m^2)\n",
    "# function returns:\n",
    "#   qdotu      - rate of heat transfer from the unburned gas to the walls (W)\n",
    "#   qdotb      - rate of heat transfer from the burned gas to the walls (W)\n",
    "\n",
    "def Wall_Heat_Transfer_Rates_Engine(ch,rpm,tu,tb,twall,awallu,awallb):\n",
    "    h     = ch*rpm\n",
    "    qdotu = h*( tu - twall )*awallu\n",
    "    qdotb = h*( tb - twall )*awallb\n",
    "    \n",
    "# return the rates of wall heat transfer\n",
    "    return qdotu,qdotb"
   ]
  },
  {
   "cell_type": "code",
   "execution_count": 12,
   "metadata": {},
   "outputs": [],
   "source": [
    "# define a function that computes the mass burning rate, which is the mass rate at which reactants are\n",
    "#   converted to products\n",
    "# input arguments:\n",
    "#   kflame     - flame propagation model selection (laminar or turbulent)\n",
    "#   phi        - equivalence ratio\n",
    "#   tu         - unburned-gas temperature (K)\n",
    "#   p          - pressure (Pa)\n",
    "#   stroke     - engine stroke (m)\n",
    "#   rpm        - crankshaft rotational speed (r/min)\n",
    "#   rhou       - unburned-gas mass density (kg/m^3)\n",
    "#   aflame     - flame surface area (m^2)\n",
    "# function returns:\n",
    "#   mdot       - mass rate of conversion from reactants to products (kg/s)\n",
    "\n",
    "def Mass_Burning_Rate_Engine(kflame,phi,tu,p,stroke,rpm,rhou,aflame):\n",
    "    \n",
    "# compute the laminar flame speed using the metghalchi and keck (1982) flame-speed correlation,\n",
    "#   for undiluted propane/air reactants\n",
    "\n",
    "    phim  =  1.08\n",
    "    bm    =  0.3422\n",
    "    b2    = -1.3865\n",
    "    ydil  =  0.0\n",
    "    slref = bm + b2*( phi - phim )**2\n",
    "    gamma =  2.18 - 0.80*( phi - 1. )\n",
    "    beta  = -0.16 + 0.22*( phi - 1. )\n",
    "    turef =    298.0\n",
    "    pref  = 101325.0\n",
    "\n",
    "    slam  = slref*( tu / turef )**gamma*(  p /  pref )**beta*(  1. - 2.1*ydil )\n",
    "\n",
    "# compute flame speed enhancement resulting from turbulence\n",
    "\n",
    "    vpist = stroke*rpm / 30. # mean piston speed (m/s)\n",
    "    uprim = vpist            # rms turbulence velocity\n",
    "    sturb = uprim            # flame-speed enhancement resulting from turbulence\n",
    "\n",
    "    if kflame==1:\n",
    "        seff = slam         # laminar \n",
    "    else:\n",
    "        seff = slam + sturb # turbulent\n",
    "\n",
    "    mdot = rhou*seff*aflame\n",
    "\n",
    "# return the mass-burning rate\n",
    "    return mdot"
   ]
  },
  {
   "cell_type": "code",
   "execution_count": 13,
   "metadata": {},
   "outputs": [],
   "source": [
    "# define a function that initializes the simulation\n",
    "# input arguments:\n",
    "#   none\n",
    "# function returns:\n",
    "#   pall       - initial pressure (Pa)\n",
    "#   vb         - initial burned-gas volume (m^3)\n",
    "#   tu         - initial unburned-gas temperature (K)\n",
    "#   tb         - initial burned-gas temperature (K)\n",
    "\n",
    "def Initialize():\n",
    "          \n",
    "    tim  = tim0\n",
    "    ca   = ca0\n",
    "    vall = vchamb\n",
    "    pall = P0\n",
    "    tu   = T0\n",
    "    tb   = tadign\n",
    "    vb   = Vign\n",
    "    vu   = vall - vb\n",
    "\n",
    "# compute the initial flame area, wall area exposed to burned gas, and wall area exposed to unburned gas\n",
    "    [aflame,awallb,awallu] = Interpolate_Flame_Table(nflame,vb,FlameTable)\n",
    "    \n",
    "# compute the initial unburned-gas mixture properties\n",
    "    [uu,cvu,ru,rhou] = Unburned_Gas_Props(gas,fuel,air,phi,tu,pall)\n",
    "    \n",
    "# compute the initial burned-gas mixture properties\n",
    "    [ub,cvb,rb,rhob,dubdt,dubdp] = Burned_Gas_Props(gas,fuel,air,phi,tb,pall)\n",
    "    \n",
    "# compute the initial wall heat transfer rates\n",
    "    [qdotu,qdotb] = Wall_Heat_Transfer_Rates_Engine(ch,rpm,tu,tb,Twall,awallu,awallb)\n",
    "    \n",
    "# compute the initial mass burning rate\n",
    "    mdot = Mass_Burning_Rate_Engine(kflame,phi,tu,pall,stroke,rpm,rhou,aflame)\n",
    "      \n",
    "    return pall,vb,tu,tb"
   ]
  },
  {
   "cell_type": "code",
   "execution_count": 14,
   "metadata": {},
   "outputs": [],
   "source": [
    "# define a function that computes the time-rate-of-change of quantities needed for the two-zone constant-volume premixed\n",
    "#   flame propagation combustion model\n",
    "# input arguments:\n",
    "#   tim        - time (s)\n",
    "#   dvars      - array of dependent variables for which ODEs are solved\n",
    "#   parms      - array of parameters needed to solve the ODEs\n",
    "# function returns:\n",
    "#   f          - array of right-hand-sides for the ODEs that are solved\n",
    "\n",
    "def Two_Zone_Equations(tim,dvars,parms):\n",
    "    \n",
    "# unpack dvars into local values of the dependent variables\n",
    "    pall, vb , tu, tb = dvars\n",
    "    \n",
    "# unpack other quantitites/parameters needed\n",
    "    gas, fuel, air, phi, FlameTable, vall, nflame, ch, rpm, Twall, kflame, stroke, tim0, ca0 = parms\n",
    "         \n",
    "# compute the current crank angle\n",
    "    ca = 6.*rpm*( tim - tim0 ) + ca0\n",
    "    \n",
    "# compute the unburned-gas volume\n",
    "    vu = vall - vb\n",
    "\n",
    "# compute the flame area, wall area exposed to burned gas, and wall area exposed to unburned gas\n",
    "    [aflame,awallb,awallu] = Interpolate_Flame_Table(nflame,vb,FlameTable)\n",
    "    \n",
    "# compute the required unburned-gas properties\n",
    "    [uu,cvu,ru,rhou] = Unburned_Gas_Props(gas,fuel,air,phi,tu,pall)\n",
    "\n",
    "# compute the required burned-gas properties\n",
    "    [ub,cvb,rb,rhob,dubdt,dubdp] = Burned_Gas_Props(gas,fuel,air,phi,tb,pall)\n",
    "\n",
    "# compute the wall heat transfer rates\n",
    "    [qdotu,qdotb] = Wall_Heat_Transfer_Rates_Engine(ch,rpm,tu,tb,Twall,awallu,awallb)\n",
    "\n",
    "# compute the mass burning rate\n",
    "    mdot = Mass_Burning_Rate_Engine(kflame,phi,tu,pall,stroke,rpm,rhou,aflame)\n",
    "    \n",
    "# compute the right-hand sides\n",
    "    denom = cvu*tb*vall*dubdt + ( cvu + ru )*pall*vb*dubdp + tb*( ru*vb*dubdt + rb*cvu*vu )\n",
    "    \n",
    "    tdotu = ru*tu*( -rb*tb*vu*qdotb - ( vall*tb*dubdt + pall*vb*dubdp + rb*vu*tb )*qdotu\n",
    "                + mdot*( rb*vu*tb*tb - ru*tu*tb*vu )*dubdt + mdot*rb*tb*vu*( uu - ub ) ) / ( pall*vu*denom )\n",
    "        \n",
    "    tdotb =  tb*( -( cvu*rb*tb*vall + ru*rb*tb*vb )*qdotb + ( ru*vb*pall*dubdp - ru*rb*vb*tb )*qdotu\n",
    "             + mdot*pall*vb*( cvu*ru*tu - cvu*rb*tb + ru*ru*tu - ru*rb*tb )*dubdp\n",
    "             + mdot*cvu*rb*vu*tb*( ru*tu - rb*tb )  + mdot*rb*tb*( cvu*vall*uu - cvu*vall*ub\n",
    "             + ru*vb*uu - ru*vb*ub ) ) / ( vb*pall*denom )\n",
    "    \n",
    "    pdot  = ( mdot*( rb*tb - ru*tu ) + pall*( vb*tdotb / tb + vu*tdotu / tu ) ) / vall\n",
    "    \n",
    "    vbdot = ( mdot*( ru*tu*vb + rb*tb*vu ) / pall + vu*vb*( tdotb / tb - tdotu / tu ) ) / vall\n",
    "       \n",
    "# put the right-hand sides into an array\n",
    "    f = [ pdot , vbdot , tdotu, tdotb ]\n",
    "                      \n",
    "# return the array of right-hand sides to the calling function\n",
    "    return f"
   ]
  },
  {
   "cell_type": "markdown",
   "metadata": {},
   "source": [
    "### 2.4 Run the model for turbulent premixed flame propagation"
   ]
  },
  {
   "cell_type": "markdown",
   "metadata": {},
   "source": [
    "In this subsection, we run the model for a case with turbulent premixed flame propagation. \n",
    "\n",
    "The computer time is usually dominated by the time that is required to generate the flame table. For ninc=50 (the current value), that only takes a couple of seconds. For ninc=250, it may take a couple of minutes or longer to generate the flame table, depending on your computer."
   ]
  },
  {
   "cell_type": "code",
   "execution_count": 15,
   "metadata": {},
   "outputs": [
    {
     "name": "stdout",
     "output_type": "stream",
     "text": [
      " \n",
      "Created a new flame table, nflame,vchamb,achamb= 26 5.553217404562075e-05 0.014200501449050437\n",
      " \n",
      "Flame table generation required 1.40 s\n",
      "P0,Vb0,Tu0,Tb0= 2025500.0 1e-09 700.0 2584.705158967949\n",
      " \n",
      "Initialization required 0.00 s; solution required 0.36 s\n"
     ]
    },
    {
     "data": {
      "text/plain": [
       "  message: 'The solver successfully reached the end of the integration interval.'\n",
       "     nfev: 422\n",
       "     njev: 0\n",
       "      nlu: 0\n",
       "      sol: None\n",
       "   status: 0\n",
       "  success: True\n",
       "        t: array([0.00000000e+00, 8.33333333e-07, 1.66666667e-06, ...,\n",
       "       4.58166667e-03, 4.58250000e-03, 4.58333333e-03])\n",
       " t_events: None\n",
       "        y: array([[2.02550000e+06, 2.02550136e+06, 2.02550268e+06, ...,\n",
       "        9.03585775e+06, 9.03585890e+06, 9.03586006e+06],\n",
       "       [1.00000000e-09, 1.03842705e-09, 1.07591805e-09, ...,\n",
       "        5.55311971e-05, 5.55312000e-05, 5.55312030e-05],\n",
       "       [7.00000000e+02, 7.00000109e+02, 7.00000215e+02, ...,\n",
       "        9.77998307e+02, 9.77998334e+02, 9.77998361e+02],\n",
       "       [2.58470516e+03, 2.58470544e+03, 2.58470572e+03, ...,\n",
       "        2.96491483e+03, 2.96491486e+03, 2.96491489e+03]])"
      ]
     },
     "execution_count": 15,
     "metadata": {},
     "output_type": "execute_result"
    }
   ],
   "source": [
    "# create a new flame table\n",
    "newtable = 1\n",
    "\n",
    "if newtable==1:\n",
    "    \n",
    "# define a Pandas DataFrame that holds the flame table generated by Create_Flame_Table_Pancake_Engine\n",
    "    VariableNames = ['vburned', 'aburning', 'careab', 'careau']\n",
    "    FlameTable    = pd.DataFrame(columns=VariableNames)\n",
    "\n",
    "# generate the flame table, and time how long that takes\n",
    "    ctim0 = time.time()\n",
    "    [nflame,vchamb,achamb] = Create_Flame_Table_Pancake_Engine(ninc,bore,clear,xign,yign,zign,FlameTable)\n",
    "    ctim1 = time.time()\n",
    "    \n",
    "# write out the flame table as a .csv file\n",
    "    FlameTable.to_csv('FlameTable.csv')\n",
    "    \n",
    "# print some output\n",
    "    print(\" \")\n",
    "    print('Created a new flame table, nflame,vchamb,achamb=',nflame,vchamb,achamb)\n",
    "    print(\" \")\n",
    "    print(\"Flame table generation required {:.2f} s\".format(ctim1-ctim0))\n",
    "    \n",
    "else:\n",
    "\n",
    "# read in a previously generated flame table\n",
    "    nflame = 0\n",
    "    vchamb = 0.\n",
    "    achamb = 0.\n",
    "    FlameTable = pd.read_csv('FlameTable.csv')\n",
    "    nflame = FlameTable.shape[0]\n",
    "    vchamb = FlameTable['vburned'].values[nflame-1]\n",
    "    achamb = FlameTable['careab'].values[nflame-1]\n",
    "\n",
    "# print some output\n",
    "    print('Read in a flame table, nflame,vchamb,achamb=',nflame,vchamb,achamb)\n",
    "    \n",
    "# define an array that contains the initial and the final time instants; this array will be passed\n",
    "#   as an argument to the ODE solver\n",
    "ntim  = np.int( np.rint( ( timf - tim0 ) / dtim ) + 1 )\n",
    "tspan = [tim0,timf]\n",
    "tarr  = np.linspace(tim0,timf,ntim)\n",
    "    \n",
    "# initialize the simulation\n",
    "ctim0 = time.time()\n",
    "\n",
    "[P0,Vb0,Tu0,Tb0] = Initialize()\n",
    "print('P0,Vb0,Tu0,Tb0=',P0,Vb0,Tu0,Tb0)\n",
    "\n",
    "# load the initial conditions into an array; this array will be passed as an argument to the ODE solver\n",
    "ics = [P0,Vb0,Tu0,Tb0]\n",
    "  \n",
    "# load the constant problem parameters into an array; this array will be passed as an argument to the ODE solver\n",
    "params = [gas, fuel, air, phi, FlameTable, vchamb, nflame, ch, rpm, Twall, kflame, stroke, tim0, ca0]\n",
    "\n",
    "# call the ODE solver\n",
    "# see Cantera tutorial Notebook 4.1_ODE_integration-thermal_NO and Cantera tutorial Notebook 10.1_1D_spray_combustion\n",
    "# note that the default solver is used, with tolerances that are tighter than the default values \n",
    "ctim1 = time.time()\n",
    "solution = solve_ivp(lambda t,y:Two_Zone_Equations(t,y,params),tspan,ics,t_eval=tarr,\n",
    "                     rtol=1.e-6,atol=1.e-9)\n",
    "\n",
    "ctim2 = time.time()\n",
    "\n",
    "# print computer time required for initialization (mostly flame table generation) and for solving the system of equations\n",
    "print(\" \")\n",
    "print(\"Initialization required {:.2f} s; solution required {:.2f} s\".format(ctim1-ctim0,ctim2-ctim1))\n",
    "\n",
    "# print \"solution\"\n",
    "solution"
   ]
  },
  {
   "cell_type": "code",
   "execution_count": 16,
   "metadata": {},
   "outputs": [
    {
     "data": {
      "text/html": [
       "<div>\n",
       "<style scoped>\n",
       "    .dataframe tbody tr th:only-of-type {\n",
       "        vertical-align: middle;\n",
       "    }\n",
       "\n",
       "    .dataframe tbody tr th {\n",
       "        vertical-align: top;\n",
       "    }\n",
       "\n",
       "    .dataframe thead th {\n",
       "        text-align: right;\n",
       "    }\n",
       "</style>\n",
       "<table border=\"1\" class=\"dataframe\">\n",
       "  <thead>\n",
       "    <tr style=\"text-align: right;\">\n",
       "      <th></th>\n",
       "      <th>vburned</th>\n",
       "      <th>aburning</th>\n",
       "      <th>careab</th>\n",
       "      <th>careau</th>\n",
       "    </tr>\n",
       "  </thead>\n",
       "  <tbody>\n",
       "    <tr>\n",
       "      <th>0.000000</th>\n",
       "      <td>0.000000e+00</td>\n",
       "      <td>0.000000</td>\n",
       "      <td>0.000000</td>\n",
       "      <td>0.014201</td>\n",
       "    </tr>\n",
       "    <tr>\n",
       "      <th>0.001755</th>\n",
       "      <td>2.264622e-08</td>\n",
       "      <td>0.000039</td>\n",
       "      <td>0.000000</td>\n",
       "      <td>0.014201</td>\n",
       "    </tr>\n",
       "    <tr>\n",
       "      <th>0.003510</th>\n",
       "      <td>1.707041e-07</td>\n",
       "      <td>0.000144</td>\n",
       "      <td>0.000014</td>\n",
       "      <td>0.014186</td>\n",
       "    </tr>\n",
       "    <tr>\n",
       "      <th>0.005265</th>\n",
       "      <td>5.095691e-07</td>\n",
       "      <td>0.000269</td>\n",
       "      <td>0.000047</td>\n",
       "      <td>0.014153</td>\n",
       "    </tr>\n",
       "    <tr>\n",
       "      <th>0.007020</th>\n",
       "      <td>1.094352e-06</td>\n",
       "      <td>0.000425</td>\n",
       "      <td>0.000147</td>\n",
       "      <td>0.014054</td>\n",
       "    </tr>\n",
       "    <tr>\n",
       "      <th>0.008776</th>\n",
       "      <td>1.845199e-06</td>\n",
       "      <td>0.000511</td>\n",
       "      <td>0.000313</td>\n",
       "      <td>0.013888</td>\n",
       "    </tr>\n",
       "    <tr>\n",
       "      <th>0.010531</th>\n",
       "      <td>2.811171e-06</td>\n",
       "      <td>0.000637</td>\n",
       "      <td>0.000526</td>\n",
       "      <td>0.013674</td>\n",
       "    </tr>\n",
       "    <tr>\n",
       "      <th>0.012286</th>\n",
       "      <td>3.988551e-06</td>\n",
       "      <td>0.000758</td>\n",
       "      <td>0.000744</td>\n",
       "      <td>0.013456</td>\n",
       "    </tr>\n",
       "    <tr>\n",
       "      <th>0.014041</th>\n",
       "      <td>5.326746e-06</td>\n",
       "      <td>0.000845</td>\n",
       "      <td>0.001067</td>\n",
       "      <td>0.013134</td>\n",
       "    </tr>\n",
       "    <tr>\n",
       "      <th>0.015796</th>\n",
       "      <td>6.895935e-06</td>\n",
       "      <td>0.000980</td>\n",
       "      <td>0.001370</td>\n",
       "      <td>0.012830</td>\n",
       "    </tr>\n",
       "    <tr>\n",
       "      <th>0.017551</th>\n",
       "      <td>8.669198e-06</td>\n",
       "      <td>0.001097</td>\n",
       "      <td>0.001712</td>\n",
       "      <td>0.012489</td>\n",
       "    </tr>\n",
       "    <tr>\n",
       "      <th>0.019306</th>\n",
       "      <td>1.037676e-05</td>\n",
       "      <td>0.001038</td>\n",
       "      <td>0.002091</td>\n",
       "      <td>0.012109</td>\n",
       "    </tr>\n",
       "    <tr>\n",
       "      <th>0.021061</th>\n",
       "      <td>1.240852e-05</td>\n",
       "      <td>0.001235</td>\n",
       "      <td>0.002508</td>\n",
       "      <td>0.011692</td>\n",
       "    </tr>\n",
       "    <tr>\n",
       "      <th>0.022816</th>\n",
       "      <td>1.479606e-05</td>\n",
       "      <td>0.001450</td>\n",
       "      <td>0.002964</td>\n",
       "      <td>0.011237</td>\n",
       "    </tr>\n",
       "    <tr>\n",
       "      <th>0.024571</th>\n",
       "      <td>1.720170e-05</td>\n",
       "      <td>0.001448</td>\n",
       "      <td>0.003457</td>\n",
       "      <td>0.010744</td>\n",
       "    </tr>\n",
       "    <tr>\n",
       "      <th>0.026327</th>\n",
       "      <td>1.996530e-05</td>\n",
       "      <td>0.001662</td>\n",
       "      <td>0.004125</td>\n",
       "      <td>0.010075</td>\n",
       "    </tr>\n",
       "    <tr>\n",
       "      <th>0.028082</th>\n",
       "      <td>2.311371e-05</td>\n",
       "      <td>0.001891</td>\n",
       "      <td>0.004704</td>\n",
       "      <td>0.009497</td>\n",
       "    </tr>\n",
       "    <tr>\n",
       "      <th>0.029837</th>\n",
       "      <td>2.611036e-05</td>\n",
       "      <td>0.001785</td>\n",
       "      <td>0.005320</td>\n",
       "      <td>0.008880</td>\n",
       "    </tr>\n",
       "    <tr>\n",
       "      <th>0.031592</th>\n",
       "      <td>2.882346e-05</td>\n",
       "      <td>0.001601</td>\n",
       "      <td>0.005975</td>\n",
       "      <td>0.008226</td>\n",
       "    </tr>\n",
       "    <tr>\n",
       "      <th>0.033347</th>\n",
       "      <td>3.184331e-05</td>\n",
       "      <td>0.001784</td>\n",
       "      <td>0.006667</td>\n",
       "      <td>0.007533</td>\n",
       "    </tr>\n",
       "    <tr>\n",
       "      <th>0.035102</th>\n",
       "      <td>3.518804e-05</td>\n",
       "      <td>0.001977</td>\n",
       "      <td>0.007397</td>\n",
       "      <td>0.006803</td>\n",
       "    </tr>\n",
       "    <tr>\n",
       "      <th>0.036857</th>\n",
       "      <td>3.887563e-05</td>\n",
       "      <td>0.002180</td>\n",
       "      <td>0.008166</td>\n",
       "      <td>0.006035</td>\n",
       "    </tr>\n",
       "    <tr>\n",
       "      <th>0.038612</th>\n",
       "      <td>4.292398e-05</td>\n",
       "      <td>0.002392</td>\n",
       "      <td>0.008972</td>\n",
       "      <td>0.005229</td>\n",
       "    </tr>\n",
       "    <tr>\n",
       "      <th>0.040367</th>\n",
       "      <td>4.735086e-05</td>\n",
       "      <td>0.002615</td>\n",
       "      <td>0.009816</td>\n",
       "      <td>0.004385</td>\n",
       "    </tr>\n",
       "    <tr>\n",
       "      <th>0.042122</th>\n",
       "      <td>5.100901e-05</td>\n",
       "      <td>0.002141</td>\n",
       "      <td>0.010698</td>\n",
       "      <td>0.003503</td>\n",
       "    </tr>\n",
       "    <tr>\n",
       "      <th>0.043878</th>\n",
       "      <td>5.553217e-05</td>\n",
       "      <td>0.000000</td>\n",
       "      <td>0.014201</td>\n",
       "      <td>0.000000</td>\n",
       "    </tr>\n",
       "  </tbody>\n",
       "</table>\n",
       "</div>"
      ],
      "text/plain": [
       "               vburned  aburning    careab    careau\n",
       "0.000000  0.000000e+00  0.000000  0.000000  0.014201\n",
       "0.001755  2.264622e-08  0.000039  0.000000  0.014201\n",
       "0.003510  1.707041e-07  0.000144  0.000014  0.014186\n",
       "0.005265  5.095691e-07  0.000269  0.000047  0.014153\n",
       "0.007020  1.094352e-06  0.000425  0.000147  0.014054\n",
       "0.008776  1.845199e-06  0.000511  0.000313  0.013888\n",
       "0.010531  2.811171e-06  0.000637  0.000526  0.013674\n",
       "0.012286  3.988551e-06  0.000758  0.000744  0.013456\n",
       "0.014041  5.326746e-06  0.000845  0.001067  0.013134\n",
       "0.015796  6.895935e-06  0.000980  0.001370  0.012830\n",
       "0.017551  8.669198e-06  0.001097  0.001712  0.012489\n",
       "0.019306  1.037676e-05  0.001038  0.002091  0.012109\n",
       "0.021061  1.240852e-05  0.001235  0.002508  0.011692\n",
       "0.022816  1.479606e-05  0.001450  0.002964  0.011237\n",
       "0.024571  1.720170e-05  0.001448  0.003457  0.010744\n",
       "0.026327  1.996530e-05  0.001662  0.004125  0.010075\n",
       "0.028082  2.311371e-05  0.001891  0.004704  0.009497\n",
       "0.029837  2.611036e-05  0.001785  0.005320  0.008880\n",
       "0.031592  2.882346e-05  0.001601  0.005975  0.008226\n",
       "0.033347  3.184331e-05  0.001784  0.006667  0.007533\n",
       "0.035102  3.518804e-05  0.001977  0.007397  0.006803\n",
       "0.036857  3.887563e-05  0.002180  0.008166  0.006035\n",
       "0.038612  4.292398e-05  0.002392  0.008972  0.005229\n",
       "0.040367  4.735086e-05  0.002615  0.009816  0.004385\n",
       "0.042122  5.100901e-05  0.002141  0.010698  0.003503\n",
       "0.043878  5.553217e-05  0.000000  0.014201  0.000000"
      ]
     },
     "execution_count": 16,
     "metadata": {},
     "output_type": "execute_result"
    }
   ],
   "source": [
    "# print the flame table\n",
    "FlameTable"
   ]
  },
  {
   "cell_type": "markdown",
   "metadata": {},
   "source": [
    "The independent variable for the table is the flame radius $r_b$. Note that the burned-gas volume and the combustion-chamber wall area that is exposed to the burned gas both increase monotonically from zero to their respective final values as $r_b$ increases, while the combustion-chamber wall area that is exposed to the unburned gas decreases monotonically with increasing $r_b$. The active flame area first increases gradually to a maximum value, then decreases very rapidly back to zero, with increasing $r_b$. A relatively large value of ninc is needed to capture the late rapid decrease in flame area accurately. Even with ninc as high as 250, artifacts of the discretization can be seen in the results. For the small value of ninc that is used here (ninc=50), the late-burn behavior appears relatively smooth, but that is somewhat misleading. "
   ]
  },
  {
   "cell_type": "markdown",
   "metadata": {},
   "source": [
    "### 2.5 Plot results"
   ]
  },
  {
   "cell_type": "markdown",
   "metadata": {},
   "source": [
    "First, we plot the evolution of the four principle dependent variables for which ODEs were solved, as functions of crank-angle degrees."
   ]
  },
  {
   "cell_type": "code",
   "execution_count": 17,
   "metadata": {},
   "outputs": [
    {
     "data": {
      "image/png": "[encoded data removed]",
      "text/plain": [
       "<Figure size 432x288 with 1 Axes>"
      ]
     },
     "metadata": {
      "needs_background": "light"
     },
     "output_type": "display_data"
    }
   ],
   "source": [
    "# plot the time evolution of pressure\n",
    "fig, ax = plt.subplots()\n",
    "ax.plot(6.*rpm*(solution.t - tim0)+ca0, solution.y[0,:], label='pressure', ls='solid',  color='blue', lw=2)\n",
    "ax.set(xlabel='Crank-angle degrees (CAD)',\n",
    "       ylabel='Pressure (Pa)',\n",
    "       title ='Pressure vs. CAD')\n",
    "#ax.legend(handlelength=4,loc='best')\n",
    "ax.grid(True)\n",
    "fig.savefig(\"P_vs_CAD.pdf\")"
   ]
  },
  {
   "cell_type": "code",
   "execution_count": 18,
   "metadata": {},
   "outputs": [
    {
     "data": {
      "image/png": "[encoded data removed]",
      "text/plain": [
       "<Figure size 432x288 with 1 Axes>"
      ]
     },
     "metadata": {
      "needs_background": "light"
     },
     "output_type": "display_data"
    }
   ],
   "source": [
    "# plot the time evolution of volumes\n",
    "fig, ax = plt.subplots()\n",
    "ax.plot(6.*rpm*(solution.t - tim0)+ca0, vchamb-solution.y[1,:], label='unburned', ls='solid',  color='blue', lw=2)\n",
    "ax.plot(6.*rpm*(solution.t - tim0)+ca0, solution.y[1,:],        label='burned',   ls='dashed', color='red',  lw=2)\n",
    "ax.set(xlabel='Crank-angle degrees (CAD)',\n",
    "       ylabel='Volume (m^3)',\n",
    "       title ='Volumes vs. CAD')\n",
    "ax.legend(handlelength=4,loc='best')\n",
    "ax.grid(True)\n",
    "fig.savefig(\"Vs_vs_CAD.pdf\")"
   ]
  },
  {
   "cell_type": "code",
   "execution_count": 19,
   "metadata": {},
   "outputs": [
    {
     "data": {
      "image/png": "[encoded data removed]",
      "text/plain": [
       "<Figure size 432x288 with 1 Axes>"
      ]
     },
     "metadata": {
      "needs_background": "light"
     },
     "output_type": "display_data"
    }
   ],
   "source": [
    "# plot the time evolution of temperatures\n",
    "fig, ax = plt.subplots()\n",
    "ax.plot(6.*rpm*(solution.t - tim0)+ca0, solution.y[2,:], label='unburned', ls='solid',  color='blue', lw=2)\n",
    "ax.plot(6.*rpm*(solution.t - tim0)+ca0, solution.y[3,:], label='burned',   ls='dashed', color='red',  lw=2)\n",
    "ax.set(xlabel='Crank-angle degrees (CAD)',\n",
    "       ylabel='Temperature (K)',\n",
    "       title ='Temperatures vs. CAD')\n",
    "ax.legend(handlelength=4,loc='best')\n",
    "ax.grid(True)\n",
    "fig.savefig(\"Ts_vs_CAD.pdf\")"
   ]
  },
  {
   "cell_type": "markdown",
   "metadata": {},
   "source": [
    "In an engine, the pressure would typically peak a few crank-angle degrees after TDC, then would decrease as a consequence of volume expansion and heat losses to walls. Our constant-volume model ignores the volume change, and wall heat transfer has been disabled in the current model setup (wall heat transfer coefficient ch=0 here).\n",
    "\n",
    "It is also of interest to examine quantities for which ODEs were not solved. This could have been done by storing quantities of interest in tables over the course of solving the equations. Here we will do it by recomputing some quantities of interest at the instants that are available in \"solution\"."
   ]
  },
  {
   "cell_type": "code",
   "execution_count": 20,
   "metadata": {},
   "outputs": [],
   "source": [
    "# define arrays to hold computed values of interest\n",
    "nsoln = len(solution.t) # number of instants at which solution was saved\n",
    "mu    = np.zeros(nsoln) # unburned-gas mass (kg)\n",
    "mb    = np.zeros(nsoln) # burned-gas mass (kg)\n",
    "mbf   = np.zeros(nsoln) # mass-burned fraction (-)\n",
    "vbf   = np.zeros(nsoln) # volume-burned fraction (-)\n",
    "afl   = np.zeros(nsoln) # flame area (m^2)\n",
    "awb   = np.zeros(nsoln) # wall area exposed to burned gas (m^2)\n",
    "awu   = np.zeros(nsoln) # wall area exposed to unburned gas (m^2)\n",
    "qu    = np.zeros(nsoln) # heat transfer rate from unburned gas to walls (W)\n",
    "qb    = np.zeros(nsoln) # heat transfer rate from burned gas to walls (W)\n",
    "mbr   = np.zeros(nsoln) # mass-burning rate (kg/s)\n",
    "\n",
    "for i, t in enumerate(solution.t):\n",
    "    ca = 6.*rpm*( t - tim0 ) + ca0\n",
    "    \n",
    "    pall = solution.y[0,i]\n",
    "    vb   = solution.y[1,i]\n",
    "    tu   = solution.y[2,i]\n",
    "    tb   = solution.y[3,i]\n",
    "\n",
    "    vu = vchamb - vb\n",
    "\n",
    "    [afl[i],awb[i],awu[i]]       = Interpolate_Flame_Table(nflame,vb,FlameTable)  \n",
    "    [uu,cvu,ru,rhou]             = Unburned_Gas_Props(gas,fuel,air,phi,tu,pall)\n",
    "    [ub,cvb,rb,rhob,dubdt,dubdp] = Burned_Gas_Props(gas,fuel,air,phi,tb,pall)\n",
    "    [qu[i],qb[i]]                = Wall_Heat_Transfer_Rates_Engine(ch,rpm,tu,tb,Twall,awu[i],awb[i])\n",
    "    mbr[i]                       = Mass_Burning_Rate_Engine(kflame,phi,tu,pall,stroke,rpm,rhou,afl[i])\n",
    "    \n",
    "    mu[i]  = rhou*vu\n",
    "    mb[i]  = rhob*vb\n",
    "    mbf[i] = mb[i] / ( mu[i] + mb[i] )\n",
    "    \n",
    "    vbf[i] = vb / ( vu + vb )"
   ]
  },
  {
   "cell_type": "code",
   "execution_count": 21,
   "metadata": {},
   "outputs": [
    {
     "data": {
      "image/png": "[encoded data removed]",
      "text/plain": [
       "<Figure size 432x288 with 1 Axes>"
      ]
     },
     "metadata": {
      "needs_background": "light"
     },
     "output_type": "display_data"
    }
   ],
   "source": [
    "# plot the time evolution of areas\n",
    "fig, ax = plt.subplots()\n",
    "ax.plot(6.*rpm*(solution.t - tim0)+ca0, afl, label='flame',             ls='solid',  color='red',   lw=2)\n",
    "ax.plot(6.*rpm*(solution.t - tim0)+ca0, awb, label='wall burned gas',   ls='dashed', color='red',   lw=2)\n",
    "ax.plot(6.*rpm*(solution.t - tim0)+ca0, awu, label='wall unburned gas', ls='dashdot', color='blue', lw=2)\n",
    "ax.set(xlabel='Crank-angle degrees (CAD)',\n",
    "       ylabel='Area (m^2)',\n",
    "       title ='Areas vs. CAD')\n",
    "ax.legend(handlelength=4,loc='best')\n",
    "ax.grid(True)\n",
    "fig.savefig(\"As_vs_CAD.pdf\")"
   ]
  },
  {
   "cell_type": "code",
   "execution_count": 22,
   "metadata": {},
   "outputs": [
    {
     "data": {
      "image/png": "[encoded data removed]",
      "text/plain": [
       "<Figure size 432x288 with 1 Axes>"
      ]
     },
     "metadata": {
      "needs_background": "light"
     },
     "output_type": "display_data"
    }
   ],
   "source": [
    "# plot the time evolution of mass-burning rate\n",
    "fig, ax = plt.subplots()\n",
    "ax.plot(6.*rpm*(solution.t - tim0)+ca0, mbr, label='MBR', ls='solid',  color='blue', lw=2)\n",
    "ax.set(xlabel='Crank-angle degrees (CAD)',\n",
    "       ylabel='Mass-burning rate (kg/s)',\n",
    "       title ='Mass-burning rate vs. CAD')\n",
    "ax.legend(handlelength=4,loc='best')\n",
    "ax.grid(True)\n",
    "fig.savefig(\"MBR_vs_CAD.pdf\")"
   ]
  },
  {
   "cell_type": "markdown",
   "metadata": {},
   "source": [
    "The discontinuities are consequences of the rather crude discretization scheme that was used to generate the flame table, together with the small value of ninc. For better accuracy in the late burn, in particular, a finer discretization should be used as the burned-gas volume approaches the chamber volume."
   ]
  },
  {
   "cell_type": "code",
   "execution_count": 23,
   "metadata": {},
   "outputs": [
    {
     "data": {
      "image/png": "[encoded data removed]",
      "text/plain": [
       "<Figure size 432x288 with 1 Axes>"
      ]
     },
     "metadata": {
      "needs_background": "light"
     },
     "output_type": "display_data"
    }
   ],
   "source": [
    "# plot the time evolution of volume- and mass-burned fractions\n",
    "fig, ax = plt.subplots()\n",
    "ax.plot(6.*rpm*(solution.t - tim0)+ca0, mbf, label='mass',   ls='solid',  color='red',  lw=2)\n",
    "ax.plot(6.*rpm*(solution.t - tim0)+ca0, vbf, label='volume', ls='dashed', color='blue', lw=2)\n",
    "ax.set(xlabel='Crank-angle degrees (CAD)',\n",
    "       ylabel='Burned fraction (-)',\n",
    "       title ='Burned fractions vs. CAD')\n",
    "ax.legend(handlelength=4,loc='best')\n",
    "ax.grid(True)\n",
    "fig.savefig(\"BFs_vs_CAD.pdf\")"
   ]
  },
  {
   "cell_type": "markdown",
   "metadata": {},
   "source": [
    "This figure reveals an important characteristic of progagation-based premixed combustion in a closed vessel, including in a piston engine. The volume fraction of the burned gas is higher than the mass fraction of the burned gas, because of the density difference between the unburned gas and the burned gas. In terms of the unburned gas, even when it appears visually (on a volume basis) that the flame is close to the walls and that little unburned gas remains in the combustion chamber, it can be misleading to conclude that most of the reactant mass has been converted to product mass. "
   ]
  },
  {
   "cell_type": "code",
   "execution_count": 24,
   "metadata": {},
   "outputs": [
    {
     "data": {
      "image/png": "[encoded data removed]",
      "text/plain": [
       "<Figure size 432x288 with 1 Axes>"
      ]
     },
     "metadata": {
      "needs_background": "light"
     },
     "output_type": "display_data"
    }
   ],
   "source": [
    "# plot the time evolution of heat-transfer rates\n",
    "fig, ax = plt.subplots()\n",
    "ax.plot(6.*rpm*(solution.t - tim0)+ca0, qu, label='unburned gas to wall', ls='solid',  color='blue', lw=2)\n",
    "ax.plot(6.*rpm*(solution.t - tim0)+ca0, qb, label='burned gas to wall',   ls='dashed', color='red',  lw=2)\n",
    "ax.set(xlabel='Crank-angle degrees (CAD)',\n",
    "       ylabel='Heat-transfer rate (W)',\n",
    "       title ='Heat-transfer rates vs. CAD')\n",
    "ax.legend(handlelength=4,loc='best')\n",
    "ax.grid(True)\n",
    "fig.savefig(\"Qs_vs_CAD.pdf\")"
   ]
  },
  {
   "cell_type": "markdown",
   "metadata": {},
   "source": [
    "Here the wall-heat-transfer rates are equal to zero, because the heat-transfer coefficient ch was set to zero (adiabatic walls). For a non-trivial result, you can rerun with a non-zero value of ch. "
   ]
  },
  {
   "cell_type": "markdown",
   "metadata": {},
   "source": [
    "## 3. Laminar flame propagation"
   ]
  },
  {
   "cell_type": "markdown",
   "metadata": {},
   "source": [
    "We next repeat the above calculation, assuming laminar flame propagation (kflame=1) instead of turbulent. Note that there is no need to regenerate the flame table; we can simply read in the table that was generated earlier."
   ]
  },
  {
   "cell_type": "code",
   "execution_count": 25,
   "metadata": {},
   "outputs": [
    {
     "name": "stdout",
     "output_type": "stream",
     "text": [
      "Read in a flame table, nflame,vchamb,achamb= 26 5.553217404562075e-05 0.014200501449050438\n",
      "P0,Vb0,Tu0,Tb0= 2025500.0 1e-09 700.0 2584.705158967949\n",
      " \n",
      "Initialization required 0.00 s; solution required 0.13 s\n"
     ]
    },
    {
     "data": {
      "text/plain": [
       "  message: 'The solver successfully reached the end of the integration interval.'\n",
       "     nfev: 152\n",
       "     njev: 0\n",
       "      nlu: 0\n",
       "      sol: None\n",
       "   status: 0\n",
       "  success: True\n",
       "        t: array([0.00000000e+00, 8.33333333e-07, 1.66666667e-06, ...,\n",
       "       4.58166667e-03, 4.58250000e-03, 4.58333333e-03])\n",
       " t_events: None\n",
       "        y: array([[2.02550000e+06, 2.02550026e+06, 2.02550051e+06, ...,\n",
       "        2.67435806e+06, 2.67464380e+06, 2.67492966e+06],\n",
       "       [1.00000000e-09, 1.00729687e-09, 1.01452850e-09, ...,\n",
       "        1.45860959e-05, 1.45912101e-05, 1.45963255e-05],\n",
       "       [7.00000000e+02, 7.00000021e+02, 7.00000041e+02, ...,\n",
       "        7.46415711e+02, 7.46433995e+02, 7.46452285e+02],\n",
       "       [2.58470516e+03, 2.58470521e+03, 2.58470526e+03, ...,\n",
       "        2.65808431e+03, 2.65811219e+03, 2.65814008e+03]])"
      ]
     },
     "execution_count": 25,
     "metadata": {},
     "output_type": "execute_result"
    }
   ],
   "source": [
    "# specify laminar flame propagation, leaving all other input quantities unchanges\n",
    "kflame = 1\n",
    "\n",
    "# use a previously generated flame table\n",
    "newtable = 0\n",
    "\n",
    "if newtable==1:\n",
    "    \n",
    "# define a Pandas DataFrame that holds the flame table generated by Create_Flame_Table_Pancake_Engine\n",
    "    VariableNames = ['vburned', 'aburning', 'careab', 'careau']\n",
    "    FlameTable    = pd.DataFrame(columns=VariableNames)\n",
    "\n",
    "# generate the flame table, and time how long that takes\n",
    "    ctim0 = time.time()\n",
    "    [nflame,vchamb,achamb] = Create_Flame_Table_Pancake_Engine(ninc,bore,clear,xign,yign,zign,FlameTable)\n",
    "    ctim1 = time.time()\n",
    "    \n",
    "# write out the flame table as a .csv file\n",
    "    FlameTable.to_csv('FlameTable.csv')\n",
    "    \n",
    "# print some output\n",
    "    print(\" \")\n",
    "    print('Created a new flame table, nflame,vchamb,achamb=',nflame,vchamb,achamb)\n",
    "    print(\" \")\n",
    "    print(\"Flame table generation required {:.2f} s\".format(ctim1-ctim0))\n",
    "    \n",
    "else:\n",
    "\n",
    "# read in a previously generated flame table\n",
    "    nflame = 0\n",
    "    vchamb = 0.\n",
    "    achamb = 0.\n",
    "    FlameTable = pd.read_csv('FlameTable.csv')\n",
    "    nflame = FlameTable.shape[0]\n",
    "    vchamb = FlameTable['vburned'].values[nflame-1]\n",
    "    achamb = FlameTable['careab'].values[nflame-1]\n",
    "\n",
    "# print some output\n",
    "    print('Read in a flame table, nflame,vchamb,achamb=',nflame,vchamb,achamb)\n",
    "    \n",
    "# define an array that contains the initial and the final time instants; this array will be passed\n",
    "#   as an argument to the ODE solver\n",
    "ntim  = np.int( np.rint( ( timf - tim0 ) / dtim ) + 1 )\n",
    "tspan = [tim0,timf]\n",
    "tarr  = np.linspace(tim0,timf,ntim)\n",
    "    \n",
    "# initialize the simulation\n",
    "ctim0 = time.time()\n",
    "\n",
    "[P0,Vb0,Tu0,Tb0] = Initialize()\n",
    "print('P0,Vb0,Tu0,Tb0=',P0,Vb0,Tu0,Tb0)\n",
    "\n",
    "# load the initial conditions into an array; this array will be passed as an argument to the ODE solver\n",
    "ics = [P0,Vb0,Tu0,Tb0]\n",
    "  \n",
    "# load the constant problem parameters into an array; this array will be passed as an argument to the ODE solver\n",
    "params = [gas, fuel, air, phi, FlameTable, vchamb, nflame, ch, rpm, Twall, kflame, stroke, tim0, ca0]\n",
    "\n",
    "# call the ODE solver\n",
    "# see Cantera tutorial Notebook 4.1_ODE_integration-thermal_NO and Cantera tutorial Notebook 10.1_1D_spray_combustion\n",
    "# note that the default solver is used, with tolerances that are tighter than the default values \n",
    "ctim1 = time.time()\n",
    "solution = solve_ivp(lambda t,y:Two_Zone_Equations(t,y,params),tspan,ics,t_eval=tarr,\n",
    "                     rtol=1.e-6,atol=1.e-9)\n",
    "\n",
    "ctim2 = time.time()\n",
    "\n",
    "# print computer time required for initialization (mostly flame table generation) and for solving the system of equations\n",
    "print(\" \")\n",
    "print(\"Initialization required {:.2f} s; solution required {:.2f} s\".format(ctim1-ctim0,ctim2-ctim1))\n",
    "\n",
    "# print \"solution\"\n",
    "solution"
   ]
  },
  {
   "cell_type": "markdown",
   "metadata": {},
   "source": [
    "Then recompute various quantities of interest for the laminar case:"
   ]
  },
  {
   "cell_type": "code",
   "execution_count": 26,
   "metadata": {},
   "outputs": [],
   "source": [
    "# define arrays to hold computed values of interest\n",
    "nsoln = len(solution.t) # number of instants at which solution was saved\n",
    "mu    = np.zeros(nsoln) # unburned-gas mass (kg)\n",
    "mb    = np.zeros(nsoln) # burned-gas mass (kg)\n",
    "mbf   = np.zeros(nsoln) # mass-burned fraction (-)\n",
    "vbf   = np.zeros(nsoln) # volume-burned fraction (-)\n",
    "afl   = np.zeros(nsoln) # flame area (m^2)\n",
    "awb   = np.zeros(nsoln) # wall area exposed to burned gas (m^2)\n",
    "awu   = np.zeros(nsoln) # wall area exposed to unburned gas (m^2)\n",
    "qu    = np.zeros(nsoln) # heat transfer rate from unburned gas to walls (W)\n",
    "qb    = np.zeros(nsoln) # heat transfer rate from burned gas to walls (W)\n",
    "mbr   = np.zeros(nsoln) # mass-burning rate (kg/s)\n",
    "\n",
    "for i, t in enumerate(solution.t):\n",
    "    ca = 6.*rpm*( t - tim0 ) + ca0\n",
    "    \n",
    "    pall = solution.y[0,i]\n",
    "    vb   = solution.y[1,i]\n",
    "    tu   = solution.y[2,i]\n",
    "    tb   = solution.y[3,i]\n",
    "\n",
    "    vu = vchamb - vb\n",
    "\n",
    "    [afl[i],awb[i],awu[i]]       = Interpolate_Flame_Table(nflame,vb,FlameTable)  \n",
    "    [uu,cvu,ru,rhou]             = Unburned_Gas_Props(gas,fuel,air,phi,tu,pall)\n",
    "    [ub,cvb,rb,rhob,dubdt,dubdp] = Burned_Gas_Props(gas,fuel,air,phi,tb,pall)\n",
    "    [qu[i],qb[i]]                = Wall_Heat_Transfer_Rates_Engine(ch,rpm,tu,tb,Twall,awu[i],awb[i])\n",
    "    mbr[i]                       = Mass_Burning_Rate_Engine(kflame,phi,tu,pall,stroke,rpm,rhou,afl[i])\n",
    "    \n",
    "    mu[i]  = rhou*vu\n",
    "    mb[i]  = rhob*vb\n",
    "    mbf[i] = mb[i] / ( mu[i] + mb[i] )\n",
    "    \n",
    "    vbf[i] = vb / ( vu + vb )"
   ]
  },
  {
   "cell_type": "code",
   "execution_count": 27,
   "metadata": {},
   "outputs": [
    {
     "data": {
      "image/png": "[encoded data removed]",
      "text/plain": [
       "<Figure size 432x288 with 1 Axes>"
      ]
     },
     "metadata": {
      "needs_background": "light"
     },
     "output_type": "display_data"
    }
   ],
   "source": [
    "# plot the time evolution of pressure\n",
    "fig, ax = plt.subplots()\n",
    "ax.plot(6.*rpm*(solution.t - tim0)+ca0, solution.y[0,:], label='pressure', ls='solid',  color='blue', lw=2)\n",
    "ax.set(xlabel='Crank-angle degrees (CAD)',\n",
    "       ylabel='Pressure (Pa)',\n",
    "       title ='Pressure vs. CAD')\n",
    "#ax.legend(handlelength=4,loc='best')\n",
    "ax.grid(True)\n",
    "fig.savefig(\"P_vs_CAD_lam.pdf\")"
   ]
  },
  {
   "cell_type": "code",
   "execution_count": 28,
   "metadata": {},
   "outputs": [
    {
     "data": {
      "image/png": "[encoded data removed]",
      "text/plain": [
       "<Figure size 432x288 with 1 Axes>"
      ]
     },
     "metadata": {
      "needs_background": "light"
     },
     "output_type": "display_data"
    }
   ],
   "source": [
    "# plot the time evolution of volume- and mass-burned fractions\n",
    "fig, ax = plt.subplots()\n",
    "ax.plot(6.*rpm*(solution.t - tim0)+ca0, mbf, label='mass',   ls='solid',  color='red',  lw=2)\n",
    "ax.plot(6.*rpm*(solution.t - tim0)+ca0, vbf, label='volume', ls='dashed', color='blue', lw=2)\n",
    "ax.set(xlabel='Crank-angle degrees (CAD)',\n",
    "       ylabel='Burned fraction (-)',\n",
    "       title ='Burned fractions vs. CAD')\n",
    "ax.legend(handlelength=4,loc='best')\n",
    "ax.grid(True)\n",
    "fig.savefig(\"BFs_vs_CAD_lam.pdf\")"
   ]
  },
  {
   "cell_type": "markdown",
   "metadata": {},
   "source": [
    "The burn rate is significantly lower compared to the turbulent case. Less than 10% of the reactant mass has burned by 30 CAD after TDC. Even allowing for the limitations of the model, it is clear that for the given conditions (which are reasonably representative of those in an engine), laminar flame propagation is far too slow for the engine to operate as intended."
   ]
  },
  {
   "cell_type": "markdown",
   "metadata": {},
   "source": [
    "## 4. Scaling with engine speed"
   ]
  },
  {
   "cell_type": "markdown",
   "metadata": {},
   "source": [
    "Now let's look at how the combustion processes scales with a change in engine speed. First, we increase the engine speed by a factor of three, for the case of laminar flame propagation:"
   ]
  },
  {
   "cell_type": "code",
   "execution_count": 29,
   "metadata": {},
   "outputs": [
    {
     "name": "stdout",
     "output_type": "stream",
     "text": [
      "Read in a flame table, nflame,vchamb,achamb= 26 5.553217404562075e-05 0.014200501449050438\n",
      "P0,Vb0,Tu0,Tb0= 2025500.0 1e-09 700.0 2584.705158967949\n",
      " \n",
      "Initialization required 0.00 s; solution required 0.05 s\n"
     ]
    },
    {
     "data": {
      "text/plain": [
       "  message: 'The solver successfully reached the end of the integration interval.'\n",
       "     nfev: 56\n",
       "     njev: 0\n",
       "      nlu: 0\n",
       "      sol: None\n",
       "   status: 0\n",
       "  success: True\n",
       "        t: array([0.00000000e+00, 2.77777778e-07, 5.55555556e-07, ...,\n",
       "       1.52722222e-03, 1.52750000e-03, 1.52777778e-03])\n",
       " t_events: None\n",
       "        y: array([[2.02550000e+06, 2.02550009e+06, 2.02550017e+06, ...,\n",
       "        2.07626323e+06, 2.07628706e+06, 2.07631091e+06],\n",
       "       [1.00000000e-09, 1.00244835e-09, 1.00490661e-09, ...,\n",
       "        1.41087239e-06, 1.41152098e-06, 1.41216969e-06],\n",
       "       [7.00000000e+02, 7.00000007e+02, 7.00000014e+02, ...,\n",
       "        7.04042652e+02, 7.04044531e+02, 7.04046411e+02],\n",
       "       [2.58470516e+03, 2.58470518e+03, 2.58470519e+03, ...,\n",
       "        2.59131726e+03, 2.59132032e+03, 2.59132338e+03]])"
      ]
     },
     "execution_count": 29,
     "metadata": {},
     "output_type": "execute_result"
    }
   ],
   "source": [
    "# consider a higher engine speed, with laminar flame propagation\n",
    "kflame = 1\n",
    "rpm    = 6000.\n",
    "\n",
    "# recompute derived quantities that depend on rpm\n",
    "dtim = dCA / ( 6.*rpm )                                           # (s) - computational time step in seconds\n",
    "\n",
    "# initial and final crank angles and times\n",
    "ca0  = caign                                                      # (CAD) - begin at the time of ignition\n",
    "caf  = CAf                                                        # (CAD) - end at the specified end time in CAD\n",
    "tim0 = 0.                                                         # (s)   - initial time in seconds\n",
    "timf = ( caf - ca0 ) / ( 6.*rpm )                                 # (s)   - final time in seconds\n",
    "\n",
    "# use a previously generated flame table\n",
    "newtable = 0\n",
    "\n",
    "if newtable==1:\n",
    "    \n",
    "# define a Pandas DataFrame that holds the flame table generated by Create_Flame_Table_Pancake_Engine\n",
    "    VariableNames = ['vburned', 'aburning', 'careab', 'careau']\n",
    "    FlameTable    = pd.DataFrame(columns=VariableNames)\n",
    "\n",
    "# generate the flame table, and time how long that takes\n",
    "    ctim0 = time.time()\n",
    "    [nflame,vchamb,achamb] = Create_Flame_Table_Pancake_Engine(ninc,bore,clear,xign,yign,zign,FlameTable)\n",
    "    ctim1 = time.time()\n",
    "    \n",
    "# write out the flame table as a .csv file\n",
    "    FlameTable.to_csv('FlameTable.csv')\n",
    "    \n",
    "# print some output\n",
    "    print(\" \")\n",
    "    print('Created a new flame table, nflame,vchamb,achamb=',nflame,vchamb,achamb)\n",
    "    print(\" \")\n",
    "    print(\"Flame table generation required {:.2f} s\".format(ctim1-ctim0))\n",
    "    \n",
    "else:\n",
    "\n",
    "# read in a previously generated flame table\n",
    "    nflame = 0\n",
    "    vchamb = 0.\n",
    "    achamb = 0.\n",
    "    FlameTable = pd.read_csv('FlameTable.csv')\n",
    "    nflame = FlameTable.shape[0]\n",
    "    vchamb = FlameTable['vburned'].values[nflame-1]\n",
    "    achamb = FlameTable['careab'].values[nflame-1]\n",
    "\n",
    "# print some output\n",
    "    print('Read in a flame table, nflame,vchamb,achamb=',nflame,vchamb,achamb)\n",
    "    \n",
    "# define an array that contains the initial and the final time instants; this array will be passed\n",
    "#   as an argument to the ODE solver\n",
    "ntim  = np.int( np.rint( ( timf - tim0 ) / dtim ) + 1 )\n",
    "tspan = [tim0,timf]\n",
    "tarr  = np.linspace(tim0,timf,ntim)\n",
    "    \n",
    "# initialize the simulation\n",
    "ctim0 = time.time()\n",
    "\n",
    "[P0,Vb0,Tu0,Tb0] = Initialize()\n",
    "print('P0,Vb0,Tu0,Tb0=',P0,Vb0,Tu0,Tb0)\n",
    "\n",
    "# load the initial conditions into an array; this array will be passed as an argument to the ODE solver\n",
    "ics = [P0,Vb0,Tu0,Tb0]\n",
    "  \n",
    "# load the constant problem parameters into an array; this array will be passed as an argument to the ODE solver\n",
    "params = [gas, fuel, air, phi, FlameTable, vchamb, nflame, ch, rpm, Twall, kflame, stroke, tim0, ca0]\n",
    "\n",
    "# call the ODE solver\n",
    "# see Cantera tutorial Notebook 4.1_ODE_integration-thermal_NO and Cantera tutorial Notebook 10.1_1D_spray_combustion\n",
    "# note that the default solver is used, with tolerances that are tighter than the default values \n",
    "ctim1 = time.time()\n",
    "solution = solve_ivp(lambda t,y:Two_Zone_Equations(t,y,params),tspan,ics,t_eval=tarr,\n",
    "                     rtol=1.e-6,atol=1.e-9)\n",
    "\n",
    "ctim2 = time.time()\n",
    "\n",
    "# print computer time required for initialization (mostly flame table generation) and for solving the system of equations\n",
    "print(\" \")\n",
    "print(\"Initialization required {:.2f} s; solution required {:.2f} s\".format(ctim1-ctim0,ctim2-ctim1))\n",
    "\n",
    "# print \"solution\"\n",
    "solution"
   ]
  },
  {
   "cell_type": "code",
   "execution_count": 30,
   "metadata": {},
   "outputs": [],
   "source": [
    "# define arrays to hold computed values of interest\n",
    "nsoln = len(solution.t) # number of instants at which solution was saved\n",
    "mu    = np.zeros(nsoln) # unburned-gas mass (kg)\n",
    "mb    = np.zeros(nsoln) # burned-gas mass (kg)\n",
    "mbf   = np.zeros(nsoln) # mass-burned fraction (-)\n",
    "vbf   = np.zeros(nsoln) # volume-burned fraction (-)\n",
    "afl   = np.zeros(nsoln) # flame area (m^2)\n",
    "awb   = np.zeros(nsoln) # wall area exposed to burned gas (m^2)\n",
    "awu   = np.zeros(nsoln) # wall area exposed to unburned gas (m^2)\n",
    "qu    = np.zeros(nsoln) # heat transfer rate from unburned gas to walls (W)\n",
    "qb    = np.zeros(nsoln) # heat transfer rate from burned gas to walls (W)\n",
    "mbr   = np.zeros(nsoln) # mass-burning rate (kg/s)\n",
    "\n",
    "for i, t in enumerate(solution.t):\n",
    "    ca = 6.*rpm*( t - tim0 ) + ca0\n",
    "    \n",
    "    pall = solution.y[0,i]\n",
    "    vb   = solution.y[1,i]\n",
    "    tu   = solution.y[2,i]\n",
    "    tb   = solution.y[3,i]\n",
    "\n",
    "    vu = vchamb - vb\n",
    "\n",
    "    [afl[i],awb[i],awu[i]]       = Interpolate_Flame_Table(nflame,vb,FlameTable)  \n",
    "    [uu,cvu,ru,rhou]             = Unburned_Gas_Props(gas,fuel,air,phi,tu,pall)\n",
    "    [ub,cvb,rb,rhob,dubdt,dubdp] = Burned_Gas_Props(gas,fuel,air,phi,tb,pall)\n",
    "    [qu[i],qb[i]]                = Wall_Heat_Transfer_Rates_Engine(ch,rpm,tu,tb,Twall,awu[i],awb[i])\n",
    "    mbr[i]                       = Mass_Burning_Rate_Engine(kflame,phi,tu,pall,stroke,rpm,rhou,afl[i])\n",
    "    \n",
    "    mu[i]  = rhou*vu\n",
    "    mb[i]  = rhob*vb\n",
    "    mbf[i] = mb[i] / ( mu[i] + mb[i] )\n",
    "    \n",
    "    vbf[i] = vb / ( vu + vb )"
   ]
  },
  {
   "cell_type": "code",
   "execution_count": 31,
   "metadata": {},
   "outputs": [
    {
     "data": {
      "image/png": "[encoded data removed]",
      "text/plain": [
       "<Figure size 432x288 with 1 Axes>"
      ]
     },
     "metadata": {
      "needs_background": "light"
     },
     "output_type": "display_data"
    }
   ],
   "source": [
    "# plot the time evolution of pressure\n",
    "fig, ax = plt.subplots()\n",
    "ax.plot(6.*rpm*(solution.t - tim0)+ca0, solution.y[0,:], label='pressure', ls='solid',  color='blue', lw=2)\n",
    "ax.set(xlabel='Crank-angle degrees (CAD)',\n",
    "       ylabel='Pressure (Pa)',\n",
    "       title ='Pressure vs. CAD')\n",
    "#ax.legend(handlelength=4,loc='best')\n",
    "ax.grid(True)\n",
    "fig.savefig(\"P_vs_CAD_lam_6000.pdf\")"
   ]
  },
  {
   "cell_type": "code",
   "execution_count": 32,
   "metadata": {},
   "outputs": [
    {
     "data": {
      "image/png": "[encoded data removed]",
      "text/plain": [
       "<Figure size 432x288 with 1 Axes>"
      ]
     },
     "metadata": {
      "needs_background": "light"
     },
     "output_type": "display_data"
    }
   ],
   "source": [
    "# plot the time evolution of volume- and mass-burned fractions\n",
    "fig, ax = plt.subplots()\n",
    "ax.plot(6.*rpm*(solution.t - tim0)+ca0, mbf, label='mass',   ls='solid',  color='red',  lw=2)\n",
    "ax.plot(6.*rpm*(solution.t - tim0)+ca0, vbf, label='volume', ls='dashed', color='blue', lw=2)\n",
    "ax.set(xlabel='Crank-angle degrees (CAD)',\n",
    "       ylabel='Burned fraction (-)',\n",
    "       title ='Burned fractions vs. CAD')\n",
    "ax.legend(handlelength=4,loc='best')\n",
    "ax.grid(True)\n",
    "fig.savefig(\"BFs_vs_CAD_lam_6000.pdf\")"
   ]
  },
  {
   "cell_type": "markdown",
   "metadata": {},
   "source": [
    "Now less than 1% of the reactant mass has burned by 30 CAD after TDC. With laminar flame propagation, the burn duration in CAD increases with increasing engine speed. This is inconsistent with the observation that, in a real engine, the burn duration in CAD varies only weakly with engine speed.\n",
    "\n",
    "Next, let's look at turbulent flame propagation at the higher engine speed:"
   ]
  },
  {
   "cell_type": "code",
   "execution_count": 33,
   "metadata": {},
   "outputs": [
    {
     "name": "stdout",
     "output_type": "stream",
     "text": [
      "Read in a flame table, nflame,vchamb,achamb= 26 5.553217404562075e-05 0.014200501449050438\n",
      "P0,Vb0,Tu0,Tb0= 2025500.0 1e-09 700.0 2584.705158967949\n",
      " \n",
      "Initialization required 0.00 s; solution required 0.40 s\n"
     ]
    },
    {
     "data": {
      "text/plain": [
       "  message: 'The solver successfully reached the end of the integration interval.'\n",
       "     nfev: 470\n",
       "     njev: 0\n",
       "      nlu: 0\n",
       "      sol: None\n",
       "   status: 0\n",
       "  success: True\n",
       "        t: array([0.00000000e+00, 2.77777778e-07, 5.55555556e-07, ...,\n",
       "       1.52722222e-03, 1.52750000e-03, 1.52777778e-03])\n",
       " t_events: None\n",
       "        y: array([[2.02550000e+06, 2.02550119e+06, 2.02550235e+06, ...,\n",
       "        9.03286764e+06, 9.03287627e+06, 9.03288488e+06],\n",
       "       [1.00000000e-09, 1.03366505e-09, 1.06659274e-09, ...,\n",
       "        5.55234793e-05, 5.55235014e-05, 5.55235235e-05],\n",
       "       [7.00000000e+02, 7.00000096e+02, 7.00000189e+02, ...,\n",
       "        9.77928492e+02, 9.77928693e+02, 9.77928894e+02],\n",
       "       [2.58470516e+03, 2.58470540e+03, 2.58470565e+03, ...,\n",
       "        2.96483439e+03, 2.96483462e+03, 2.96483486e+03]])"
      ]
     },
     "execution_count": 33,
     "metadata": {},
     "output_type": "execute_result"
    }
   ],
   "source": [
    "# consider a higher engine speed, with turbulent flame propagation\n",
    "kflame = 2\n",
    "rpm    = 6000.\n",
    "\n",
    "# use a previously generated flame table\n",
    "newtable = 0\n",
    "\n",
    "if newtable==1:\n",
    "    \n",
    "# define a Pandas DataFrame that holds the flame table generated by Create_Flame_Table_Pancake_Engine\n",
    "    VariableNames = ['vburned', 'aburning', 'careab', 'careau']\n",
    "    FlameTable    = pd.DataFrame(columns=VariableNames)\n",
    "\n",
    "# generate the flame table, and time how long that takes\n",
    "    ctim0 = time.time()\n",
    "    [nflame,vchamb,achamb] = Create_Flame_Table_Pancake_Engine(ninc,bore,clear,xign,yign,zign,FlameTable)\n",
    "    ctim1 = time.time()\n",
    "    \n",
    "# write out the flame table as a .csv file\n",
    "    FlameTable.to_csv('FlameTable.csv')\n",
    "    \n",
    "# print some output\n",
    "    print(\" \")\n",
    "    print('Created a new flame table, nflame,vchamb,achamb=',nflame,vchamb,achamb)\n",
    "    print(\" \")\n",
    "    print(\"Flame table generation required {:.2f} s\".format(ctim1-ctim0))\n",
    "    \n",
    "else:\n",
    "\n",
    "# read in a previously generated flame table\n",
    "    nflame = 0\n",
    "    vchamb = 0.\n",
    "    achamb = 0.\n",
    "    FlameTable = pd.read_csv('FlameTable.csv')\n",
    "    nflame = FlameTable.shape[0]\n",
    "    vchamb = FlameTable['vburned'].values[nflame-1]\n",
    "    achamb = FlameTable['careab'].values[nflame-1]\n",
    "\n",
    "# print some output\n",
    "    print('Read in a flame table, nflame,vchamb,achamb=',nflame,vchamb,achamb)\n",
    "    \n",
    "# define an array that contains the initial and the final time instants; this array will be passed\n",
    "#   as an argument to the ODE solver\n",
    "ntim  = np.int( np.rint( ( timf - tim0 ) / dtim ) + 1 )\n",
    "tspan = [tim0,timf]\n",
    "tarr  = np.linspace(tim0,timf,ntim)\n",
    "    \n",
    "# initialize the simulation\n",
    "ctim0 = time.time()\n",
    "\n",
    "[P0,Vb0,Tu0,Tb0] = Initialize()\n",
    "print('P0,Vb0,Tu0,Tb0=',P0,Vb0,Tu0,Tb0)\n",
    "\n",
    "# load the initial conditions into an array; this array will be passed as an argument to the ODE solver\n",
    "ics = [P0,Vb0,Tu0,Tb0]\n",
    "  \n",
    "# load the constant problem parameters into an array; this array will be passed as an argument to the ODE solver\n",
    "params = [gas, fuel, air, phi, FlameTable, vchamb, nflame, ch, rpm, Twall, kflame, stroke, tim0, ca0]\n",
    "\n",
    "# call the ODE solver\n",
    "# see Cantera tutorial Notebook 4.1_ODE_integration-thermal_NO and Cantera tutorial Notebook 10.1_1D_spray_combustion\n",
    "# note that the default solver is used, with tolerances that are tighter than the default values \n",
    "ctim1 = time.time()\n",
    "solution = solve_ivp(lambda t,y:Two_Zone_Equations(t,y,params),tspan,ics,t_eval=tarr,\n",
    "                     rtol=1.e-6,atol=1.e-9)\n",
    "\n",
    "ctim2 = time.time()\n",
    "\n",
    "# print computer time required for initialization (mostly flame table generation) and for solving the system of equations\n",
    "print(\" \")\n",
    "print(\"Initialization required {:.2f} s; solution required {:.2f} s\".format(ctim1-ctim0,ctim2-ctim1))\n",
    "\n",
    "# print \"solution\"\n",
    "solution"
   ]
  },
  {
   "cell_type": "code",
   "execution_count": 34,
   "metadata": {},
   "outputs": [],
   "source": [
    "# define arrays to hold computed values of interest\n",
    "nsoln = len(solution.t) # number of instants at which solution was saved\n",
    "mu    = np.zeros(nsoln) # unburned-gas mass (kg)\n",
    "mb    = np.zeros(nsoln) # burned-gas mass (kg)\n",
    "mbf   = np.zeros(nsoln) # mass-burned fraction (-)\n",
    "vbf   = np.zeros(nsoln) # volume-burned fraction (-)\n",
    "afl   = np.zeros(nsoln) # flame area (m^2)\n",
    "awb   = np.zeros(nsoln) # wall area exposed to burned gas (m^2)\n",
    "awu   = np.zeros(nsoln) # wall area exposed to unburned gas (m^2)\n",
    "qu    = np.zeros(nsoln) # heat transfer rate from unburned gas to walls (W)\n",
    "qb    = np.zeros(nsoln) # heat transfer rate from burned gas to walls (W)\n",
    "mbr   = np.zeros(nsoln) # mass-burning rate (kg/s)\n",
    "\n",
    "for i, t in enumerate(solution.t):\n",
    "    ca = 6.*rpm*( t - tim0 ) + ca0\n",
    "    \n",
    "    pall = solution.y[0,i]\n",
    "    vb   = solution.y[1,i]\n",
    "    tu   = solution.y[2,i]\n",
    "    tb   = solution.y[3,i]\n",
    "\n",
    "    vu = vchamb - vb\n",
    "\n",
    "    [afl[i],awb[i],awu[i]]       = Interpolate_Flame_Table(nflame,vb,FlameTable)  \n",
    "    [uu,cvu,ru,rhou]             = Unburned_Gas_Props(gas,fuel,air,phi,tu,pall)\n",
    "    [ub,cvb,rb,rhob,dubdt,dubdp] = Burned_Gas_Props(gas,fuel,air,phi,tb,pall)\n",
    "    [qu[i],qb[i]]                = Wall_Heat_Transfer_Rates_Engine(ch,rpm,tu,tb,Twall,awu[i],awb[i])\n",
    "    mbr[i]                       = Mass_Burning_Rate_Engine(kflame,phi,tu,pall,stroke,rpm,rhou,afl[i])\n",
    "    \n",
    "    mu[i]  = rhou*vu\n",
    "    mb[i]  = rhob*vb\n",
    "    mbf[i] = mb[i] / ( mu[i] + mb[i] )\n",
    "    \n",
    "    vbf[i] = vb / ( vu + vb )"
   ]
  },
  {
   "cell_type": "code",
   "execution_count": 35,
   "metadata": {},
   "outputs": [
    {
     "data": {
      "image/png": "[encoded data removed]",
      "text/plain": [
       "<Figure size 432x288 with 1 Axes>"
      ]
     },
     "metadata": {
      "needs_background": "light"
     },
     "output_type": "display_data"
    }
   ],
   "source": [
    "# plot the time evolution of pressure\n",
    "fig, ax = plt.subplots()\n",
    "ax.plot(6.*rpm*(solution.t - tim0)+ca0, solution.y[0,:], label='pressure', ls='solid',  color='blue', lw=2)\n",
    "ax.set(xlabel='Crank-angle degrees (CAD)',\n",
    "       ylabel='Pressure (Pa)',\n",
    "       title ='Pressure vs. CAD')\n",
    "#ax.legend(handlelength=4,loc='best')\n",
    "ax.grid(True)\n",
    "fig.savefig(\"P_vs_CAD_6000.pdf\")"
   ]
  },
  {
   "cell_type": "code",
   "execution_count": 36,
   "metadata": {},
   "outputs": [
    {
     "data": {
      "image/png": "[encoded data removed]",
      "text/plain": [
       "<Figure size 432x288 with 1 Axes>"
      ]
     },
     "metadata": {
      "needs_background": "light"
     },
     "output_type": "display_data"
    }
   ],
   "source": [
    "# plot the time evolution of volume- and mass-burned fractions\n",
    "fig, ax = plt.subplots()\n",
    "ax.plot(6.*rpm*(solution.t - tim0)+ca0, mbf, label='mass',   ls='solid',  color='red',  lw=2)\n",
    "ax.plot(6.*rpm*(solution.t - tim0)+ca0, vbf, label='volume', ls='dashed', color='blue', lw=2)\n",
    "ax.set(xlabel='Crank-angle degrees (CAD)',\n",
    "       ylabel='Burned fraction (-)',\n",
    "       title ='Burned fractions vs. CAD')\n",
    "ax.legend(handlelength=4,loc='best')\n",
    "ax.grid(True)\n",
    "fig.savefig(\"BFs_vs_CAD_6000.pdf\")"
   ]
  },
  {
   "cell_type": "markdown",
   "metadata": {},
   "source": [
    "The 6000 r/min results are very similar to those that we saw earlier for 2000 r/min. In the case of turbulent flame propagation, the mass burning rate (or turbulent flame speed) increases in proportion to the rms turbulence velocity. And in an engine, the rms turbulence velocity is proportional to the mean piston speed, which in turn is proportional to the crankshaft rotational speed. Therefore, to a first approximation, the burn duration in crank-angle degrees of rotation remains approximately constant. \n",
    "\n",
    "It is this scaling that allows an automotive piston engine to operate over approximately a factor-of-ten range in engine speed (from ~600 r/min at idle, to ~6000 r/min maximum) with relatively small changes in ignition timing.  "
   ]
  },
  {
   "cell_type": "markdown",
   "metadata": {},
   "source": [
    "## 5. What's next"
   ]
  },
  {
   "cell_type": "markdown",
   "metadata": {},
   "source": [
    "The relevance of the results to engines is limited by the constant-volume simplification that has been made here. The same general approach that has been used here could be used to solve the equations that account for a time-varying volume. In that case, the flame table would need to be generated for multiple piston positions, for example. \n",
    "\n",
    "The late-burn results, in particular, are affected by the crude discretization method that has been used to generate the flame table. This could be mitigated by using a more accurate method to construct the flame table.\n",
    "\n",
    "In spite of these limitations, the present model can provide useful insights into differences between laminar and turbulent flame propagation, and the influence of engine speed. Other parameter studies can be performed to look at variations in the initial conditions (e.g., presssure, temperature, and reactant composition), spark location, etc."
   ]
  },
  {
   "cell_type": "code",
   "execution_count": null,
   "metadata": {},
   "outputs": [],
   "source": []
  }
 ],
 "metadata": {
  "kernelspec": {
   "display_name": "Python 3",
   "language": "python",
   "name": "python3"
  },
  "language_info": {
   "codemirror_mode": {
    "name": "ipython",
    "version": 3
   },
   "file_extension": ".py",
   "mimetype": "text/x-python",
   "name": "python",
   "nbconvert_exporter": "python",
   "pygments_lexer": "ipython3",
   "version": "3.7.6"
  }
 },
 "nbformat": 4,
 "nbformat_minor": 1
}
